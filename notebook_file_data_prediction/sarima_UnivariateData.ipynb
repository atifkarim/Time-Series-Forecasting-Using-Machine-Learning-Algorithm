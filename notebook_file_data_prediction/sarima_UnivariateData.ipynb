{
 "cells": [
  {
   "cell_type": "code",
   "execution_count": 1,
   "metadata": {},
   "outputs": [],
   "source": [
    "import json\n",
    "import os\n",
    "import numpy as np\n",
    "import matplotlib.pyplot as plt\n",
    "\n",
    "\n",
    "from sklearn.linear_model import LinearRegression\n",
    "from sklearn.ensemble import ExtraTreesRegressor\n",
    "from sklearn.ensemble import BaggingRegressor\n",
    "from sklearn.ensemble import GradientBoostingRegressor as GBR\n",
    "from sklearn import linear_model\n",
    "from sklearn import tree\n",
    "\n",
    "from dataset_analysis import create_dataframe, create_dateTime, create_month\n",
    "from dataset_analysis import specific_month_df, drop_month_year, alter_time, rearrange_frame\n",
    "from dataset_analysis import check_A_B_blast_furnace_1, no_zero_value_in_target_1, dataframe_reset_index\n",
    "from dataset_analysis import drop_nan_value, drop_unique_valued_columns, drop_string_column, dataframe_datetime\n",
    "\n",
    "from dataset_analysis import feature_selection_with_selectKbest\n",
    "from dataset_analysis import pearson_correlation\n",
    "from dataset_analysis import make_dataframe_with_high_correlated_value\n",
    "# from dataset_analysis import dataframe_date_time_type\n",
    "from dataset_analysis import draw_graph\n",
    "# from dataset_analysis import draw_feature_vs_target"
   ]
  },
  {
   "cell_type": "code",
   "execution_count": 3,
   "metadata": {},
   "outputs": [],
   "source": [
    "from model_file import make_dataset, scikit_learn_model\n",
    "from model_file import plot_graph, evaluation_metrices\n",
    "# from model_file import NN_model\n",
    "# from model_file import make_dataset_LSTM, split_sequence, LSTM_model"
   ]
  },
  {
   "cell_type": "code",
   "execution_count": 4,
   "metadata": {},
   "outputs": [
    {
     "name": "stdout",
     "output_type": "stream",
     "text": [
      "/home/atif/feb_march_1.csv\n"
     ]
    }
   ],
   "source": [
    "with open('variable_config.json', 'r') as f:\n",
    "    config = json.load(f)\n",
    "\n",
    "filepath = config['DEFAULT']['file_path']\n",
    "filepath_ubuntu = config['DEFAULT']['file_path_ubuntu']\n",
    "filepath_ubuntu_1 = config['DEFAULT']['file_path_ubuntu_1']\n",
    "feb_march_file = config['DEFAULT']['feb_march_file']\n",
    "\n",
    "filepath_server_feb_march = config['DEFAULT']['file_path_server_feb_march']\n",
    "filepath_server_april_may = config['DEFAULT']['file_path_server_april_may']\n",
    "filepath_server_june_july = config['DEFAULT']['file_path_server_june_july']\n",
    "\n",
    "\n",
    "start_pos = config['DEFAULT']['start_point_dataframe']\n",
    "end_pos = config['DEFAULT']['end_point_dataframe']\n",
    "date_column = config['DEFAULT']['date_column']\n",
    "target_column = config['DEFAULT']['target_column']\n",
    "req_drop_value_target = config['DEFAULT']['req_drop_value_target']\n",
    "furnace_signal_column_a = config['DEFAULT']['blast_furnace_signal_a']\n",
    "furnace_signal_column_b = config['DEFAULT']['blast_furnace_signal_b']\n",
    "value_A = config['DEFAULT']['req_value_of_blast_furnace_A']\n",
    "value_B = config['DEFAULT']['req_value_of_blast_furnace_B']\n",
    "max_best_number = config['DEFAULT']['max_best_number']\n",
    "correlation_threshold_min_value = config['DEFAULT']['correlation_threshold_min_value']\n",
    "correlation_threshold_max_value = config['DEFAULT']['correlation_threshold_max_value']\n",
    "required_number_of_test_data = config['DEFAULT']['required_number_of_test_data']\n",
    "subfolder_feature_vs_target = config['DEFAULT']['subfolder_feature_vs_target']\n",
    "evaluation_metrics_file_name = config['DEFAULT']['evaluation_metrics_file']\n",
    "number_of_step_lstm = config['DEFAULT']['n_steps_lstm']\n",
    "epochs = config['DEFAULT']['epochs']\n",
    "batch_size = config['DEFAULT']['batch_size']\n",
    "\n",
    "\n",
    "print(filepath_server_feb_march)"
   ]
  },
  {
   "cell_type": "code",
   "execution_count": 5,
   "metadata": {},
   "outputs": [],
   "source": [
    "%matplotlib inline\n",
    "import re\n",
    "import datetime\n",
    "import numpy as np\n",
    "import pandas as pd\n",
    "import seaborn as sns\n",
    "from scipy import stats\n",
    "import matplotlib.pyplot as plt\n",
    "import statsmodels.tsa.api as smt\n",
    "import plotly.graph_objects as go\n",
    "from plotly.subplots import make_subplots\n",
    "from dateutil.relativedelta import relativedelta\n",
    "from statsmodels.tsa.stattools import acf, pacf \n",
    "from statsmodels.tsa.seasonal import seasonal_decompose\n",
    "from statsmodels.tsa.stattools import adfuller\n",
    "from sklearn.model_selection import cross_val_predict\n",
    "from sklearn.metrics import mean_squared_error, r2_score\n",
    "from sklearn.svm import SVR\n",
    "import warnings\n",
    "warnings.filterwarnings(\"ignore\")"
   ]
  },
  {
   "cell_type": "code",
   "execution_count": 6,
   "metadata": {},
   "outputs": [],
   "source": [
    "initial_dataframe = create_dataframe(filepath_server_feb_march)"
   ]
  },
  {
   "cell_type": "code",
   "execution_count": 51,
   "metadata": {},
   "outputs": [],
   "source": [
    "column_array = [target_column,'dateTime']\n",
    "# dataframe_read_1 = initial_dataframe.iloc[:][column_array]"
   ]
  },
  {
   "cell_type": "code",
   "execution_count": 52,
   "metadata": {},
   "outputs": [
    {
     "name": "stdout",
     "output_type": "stream",
     "text": [
      "(45128, 4240)\n",
      "(45128, 4)\n"
     ]
    },
    {
     "data": {
      "text/html": [
       "<div>\n",
       "<style scoped>\n",
       "    .dataframe tbody tr th:only-of-type {\n",
       "        vertical-align: middle;\n",
       "    }\n",
       "\n",
       "    .dataframe tbody tr th {\n",
       "        vertical-align: top;\n",
       "    }\n",
       "\n",
       "    .dataframe thead th {\n",
       "        text-align: right;\n",
       "    }\n",
       "</style>\n",
       "<table border=\"1\" class=\"dataframe\">\n",
       "  <thead>\n",
       "    <tr style=\"text-align: right;\">\n",
       "      <th></th>\n",
       "      <th>AEWIHO_T9AV2</th>\n",
       "    </tr>\n",
       "  </thead>\n",
       "  <tbody>\n",
       "    <tr>\n",
       "      <th>0</th>\n",
       "      <td>74.459244</td>\n",
       "    </tr>\n",
       "    <tr>\n",
       "      <th>1</th>\n",
       "      <td>73.498997</td>\n",
       "    </tr>\n",
       "  </tbody>\n",
       "</table>\n",
       "</div>"
      ],
      "text/plain": [
       "   AEWIHO_T9AV2\n",
       "0     74.459244\n",
       "1     73.498997"
      ]
     },
     "execution_count": 52,
     "metadata": {},
     "output_type": "execute_result"
    }
   ],
   "source": [
    "print(initial_dataframe.shape)\n",
    "print(data_set.shape)\n",
    "dataframe_read_1.head(2)"
   ]
  },
  {
   "cell_type": "code",
   "execution_count": 53,
   "metadata": {},
   "outputs": [],
   "source": [
    "def make_testing_set_from_another_file(datafile_path,target_column,date_column, furnace_signal_column_a,furnace_signal_column_b,value_A,value_B,\n",
    "                                      req_drop_value_target, max_best_number, correlation_threshold_min_value, correlation_threshold_max_value, start_pos,\n",
    "                                      column_array):\n",
    "    \n",
    "    \n",
    "    dataframe = create_dateTime(datafile_path,'row_ID','Unnamed: 0')\n",
    "    dataframe = alter_time(dataframe, start_pos,dataframe.shape[0])\n",
    "    \n",
    "    index_array=[0,-1]\n",
    "    req_column_name = [date_column, target_column]\n",
    "#     req_column_name = [date_column, furnace_signal_column]\n",
    "    dataframe = rearrange_frame(dataframe,req_column_name,index_array)\n",
    "    \n",
    "    dataframe = check_A_B_blast_furnace_1(dataframe, furnace_signal_column_a, value_A,furnace_signal_column_b, value_B)\n",
    "    dataframe = dataframe_reset_index(dataframe)\n",
    "    dataframe = no_zero_value_in_target_1(dataframe,target_column, req_drop_value_target)\n",
    "    dataframe = dataframe.reset_index()\n",
    "# #     store_array=['RWWIHOBG9_V0','AEWIGHG9__P0','AEWIGHG9__T0','AEWIHO_T9AV2','dateTime']\n",
    "# #     store_array=['AEDATZ_HO_V0','AEDAHO_T9_V2','AEWIHO_T9AV2','dateTime']\n",
    "    \n",
    "    dataframe = dataframe.iloc[:][column_array]\n",
    "    dataframe = drop_nan_value(dataframe)\n",
    "    dataframe = drop_unique_valued_columns(dataframe)\n",
    "    dataframe = drop_string_column(dataframe)\n",
    "    dataframe = dataframe_datetime(dataframe)\n",
    "\n",
    "    dataframe = dataframe.resample('1min').mean()\n",
    "    dataframe = dataframe.interpolate('linear')\n",
    "    \n",
    "    return dataframe\n",
    "    \n",
    "dataframe_check = make_testing_set_from_another_file(initial_dataframe,target_column,date_column,furnace_signal_column_a, \n",
    "                                                           furnace_signal_column_b,value_A, value_B, req_drop_value_target, max_best_number, \n",
    "                                                           correlation_threshold_min_value, correlation_threshold_max_value, start_pos,column_array)\n",
    "\n",
    "  "
   ]
  },
  {
   "cell_type": "code",
   "execution_count": 55,
   "metadata": {},
   "outputs": [
    {
     "name": "stdout",
     "output_type": "stream",
     "text": [
      "(69303, 1)\n"
     ]
    },
    {
     "data": {
      "text/html": [
       "<div>\n",
       "<style scoped>\n",
       "    .dataframe tbody tr th:only-of-type {\n",
       "        vertical-align: middle;\n",
       "    }\n",
       "\n",
       "    .dataframe tbody tr th {\n",
       "        vertical-align: top;\n",
       "    }\n",
       "\n",
       "    .dataframe thead th {\n",
       "        text-align: right;\n",
       "    }\n",
       "</style>\n",
       "<table border=\"1\" class=\"dataframe\">\n",
       "  <thead>\n",
       "    <tr style=\"text-align: right;\">\n",
       "      <th></th>\n",
       "      <th>AEWIHO_T9AV2</th>\n",
       "    </tr>\n",
       "    <tr>\n",
       "      <th>dateTime</th>\n",
       "      <th></th>\n",
       "    </tr>\n",
       "  </thead>\n",
       "  <tbody>\n",
       "    <tr>\n",
       "      <th>2019-03-31 23:55:00</th>\n",
       "      <td>74.766040</td>\n",
       "    </tr>\n",
       "    <tr>\n",
       "      <th>2019-03-31 23:56:00</th>\n",
       "      <td>74.764187</td>\n",
       "    </tr>\n",
       "    <tr>\n",
       "      <th>2019-03-31 23:57:00</th>\n",
       "      <td>74.324228</td>\n",
       "    </tr>\n",
       "    <tr>\n",
       "      <th>2019-03-31 23:58:00</th>\n",
       "      <td>73.498997</td>\n",
       "    </tr>\n",
       "    <tr>\n",
       "      <th>2019-03-31 23:59:00</th>\n",
       "      <td>74.459244</td>\n",
       "    </tr>\n",
       "  </tbody>\n",
       "</table>\n",
       "</div>"
      ],
      "text/plain": [
       "                     AEWIHO_T9AV2\n",
       "dateTime                         \n",
       "2019-03-31 23:55:00     74.766040\n",
       "2019-03-31 23:56:00     74.764187\n",
       "2019-03-31 23:57:00     74.324228\n",
       "2019-03-31 23:58:00     73.498997\n",
       "2019-03-31 23:59:00     74.459244"
      ]
     },
     "execution_count": 55,
     "metadata": {},
     "output_type": "execute_result"
    }
   ],
   "source": [
    "print(dataframe_check.shape)\n",
    "dataframe_check.tail()"
   ]
  },
  {
   "cell_type": "code",
   "execution_count": 56,
   "metadata": {},
   "outputs": [],
   "source": [
    "df = dataframe_check"
   ]
  },
  {
   "cell_type": "code",
   "execution_count": null,
   "metadata": {},
   "outputs": [],
   "source": []
  },
  {
   "cell_type": "code",
   "execution_count": 57,
   "metadata": {},
   "outputs": [
    {
     "name": "stdout",
     "output_type": "stream",
     "text": [
      "Statistics=1805.019, p=0.000\n",
      "Data does not look Gaussian (reject H0)\n"
     ]
    }
   ],
   "source": [
    "stat, p = stats.normaltest(df.iloc[:,-1])\n",
    "print('Statistics=%.3f, p=%.3f' % (stat, p))\n",
    "alpha = 0.05\n",
    "if p > alpha:\n",
    "    print('Data looks Gaussian (fail to reject H0)')\n",
    "else:\n",
    "    print('Data does not look Gaussian (reject H0)')"
   ]
  },
  {
   "cell_type": "code",
   "execution_count": 58,
   "metadata": {},
   "outputs": [],
   "source": [
    "def test_stationarity(timeseries):\n",
    "    \n",
    "    #Determing rolling statistics\n",
    "    rolmean = timeseries.rolling(12).mean()\n",
    "    rolstd = timeseries.rolling(12).std()\n",
    "\n",
    "    #Plot rolling statistics:\n",
    "    fig = plt.figure(figsize=(12, 8))\n",
    "    orig = plt.plot(timeseries, color='blue',label='Original')\n",
    "    mean = plt.plot(rolmean, color='red', label='Rolling Mean')\n",
    "    std = plt.plot(rolstd, color='black', label = 'Rolling Std')\n",
    "    plt.legend(loc='best')\n",
    "    plt.title('Rolling Mean & Standard Deviation')\n",
    "    plt.show()\n",
    "    \n",
    "    #Perform Dickey-Fuller test:\n",
    "    print( 'Results of Dickey-Fuller Test:')\n",
    "    dftest = adfuller(timeseries, autolag='AIC')\n",
    "    dfoutput = pd.Series(dftest[0:4], index=['Test Statistic','p-value','#Lags Used','Number of Observations Used'])\n",
    "    p_value = dfoutput['p-value']\n",
    "    for key,value in dftest[4].items():\n",
    "        dfoutput['Critical Value (%s)'%key] = value\n",
    "    print(dfoutput) \n",
    "    \n",
    "    if p_value <= 0.05:\n",
    "        print(f\" => P-Value = {p_value}. Rejecting Null Hypothesis.\")\n",
    "        print(f\" => Series is Stationary.\")\n",
    "    else:\n",
    "        print(f\" => P-Value = {p_value}. Weak evidence to reject the Null Hypothesis.\")\n",
    "        print(f\" => Series is Non-Stationary.\") \n",
    "    "
   ]
  },
  {
   "cell_type": "code",
   "execution_count": 59,
   "metadata": {},
   "outputs": [
    {
     "data": {
      "image/png": "[encoded data removed]",
      "text/plain": [
       "<Figure size 864x576 with 1 Axes>"
      ]
     },
     "metadata": {
      "needs_background": "light"
     },
     "output_type": "display_data"
    },
    {
     "name": "stdout",
     "output_type": "stream",
     "text": [
      "Results of Dickey-Fuller Test:\n",
      "Test Statistic                -6.153869e+00\n",
      "p-value                        7.449446e-08\n",
      "#Lags Used                     6.200000e+01\n",
      "Number of Observations Used    6.924000e+04\n",
      "Critical Value (1%)           -3.430444e+00\n",
      "Critical Value (5%)           -2.861582e+00\n",
      "Critical Value (10%)          -2.566792e+00\n",
      "dtype: float64\n",
      " => P-Value = 7.449445744014048e-08. Rejecting Null Hypothesis.\n",
      " => Series is Stationary.\n"
     ]
    }
   ],
   "source": [
    "# df.iloc[:,-1]\n",
    "test_stationarity(df.iloc[:,-1])"
   ]
  },
  {
   "cell_type": "code",
   "execution_count": 83,
   "metadata": {
    "scrolled": false
   },
   "outputs": [
    {
     "data": {
      "text/plain": [
       "<Figure size 432x288 with 0 Axes>"
      ]
     },
     "metadata": {},
     "output_type": "display_data"
    },
    {
     "data": {
      "image/png": "[encoded data removed]",
      "text/plain": [
       "<Figure size 864x360 with 4 Axes>"
      ]
     },
     "metadata": {
      "needs_background": "light"
     },
     "output_type": "display_data"
    }
   ],
   "source": [
    "decomposition = seasonal_decompose(df.iloc[:,-1], freq=5)\n",
    "fig = plt.figure()  \n",
    "fig = decomposition.plot()  \n",
    "fig.set_size_inches(12,5)\n",
    "plt.savefig('graph_trend_season_1.png')"
   ]
  },
  {
   "cell_type": "code",
   "execution_count": 71,
   "metadata": {},
   "outputs": [
    {
     "data": {
      "text/plain": [
       "pandas.core.frame.DataFrame"
      ]
     },
     "execution_count": 71,
     "metadata": {},
     "output_type": "execute_result"
    }
   ],
   "source": [
    "df = df.iloc[:50,:]\n",
    "type(df)"
   ]
  },
  {
   "cell_type": "code",
   "execution_count": 72,
   "metadata": {},
   "outputs": [
    {
     "name": "stdout",
     "output_type": "stream",
     "text": [
      "50\n"
     ]
    }
   ],
   "source": [
    "n_sample = df.shape[0]\n",
    "print(n_sample)"
   ]
  },
  {
   "cell_type": "code",
   "execution_count": 74,
   "metadata": {},
   "outputs": [
    {
     "name": "stdout",
     "output_type": "stream",
     "text": [
      "(41,)\n",
      "(9,)\n",
      "Training Series: \n",
      " dateTime\n",
      "2019-02-11 20:57:00    66.387058\n",
      "2019-02-11 20:58:00    66.765225\n",
      "2019-02-11 20:59:00    66.767387\n",
      "2019-02-11 21:00:00    66.859457\n",
      "2019-02-11 21:01:00    66.869962\n",
      "Freq: T, Name: AEWIHO_T9AV2, dtype: float64 \n",
      "\n",
      "Testing Series: \n",
      " dateTime\n",
      "2019-02-11 21:38:00    66.525781\n",
      "2019-02-11 21:39:00    66.615688\n",
      "2019-02-11 21:40:00    66.836594\n",
      "2019-02-11 21:41:00    67.885821\n",
      "2019-02-11 21:42:00    70.080669\n",
      "Freq: T, Name: AEWIHO_T9AV2, dtype: float64\n"
     ]
    }
   ],
   "source": [
    "n_train=int(0.8*n_sample)+1\n",
    "n_forecast=n_sample-n_train\n",
    "\n",
    "ts_train = df.iloc[:n_train][target_column]\n",
    "ts_test = df.iloc[n_train:][target_column]\n",
    "print(ts_train.shape)\n",
    "print(ts_test.shape)\n",
    "print(\"Training Series:\", \"\\n\", ts_train.head(), \"\\n\")\n",
    "print(\"Testing Series:\", \"\\n\", ts_test.head())"
   ]
  },
  {
   "cell_type": "code",
   "execution_count": 75,
   "metadata": {},
   "outputs": [],
   "source": [
    "def tsplot(y, lags=None, title='', figsize=(14, 8)):\n",
    "\n",
    "    fig = plt.figure(figsize=figsize)\n",
    "    layout = (2, 2)\n",
    "    ts_ax   = plt.subplot2grid(layout, (0, 0))\n",
    "    hist_ax = plt.subplot2grid(layout, (0, 1))\n",
    "    acf_ax  = plt.subplot2grid(layout, (1, 0))\n",
    "    pacf_ax = plt.subplot2grid(layout, (1, 1))\n",
    "    \n",
    "    y.plot(ax=ts_ax)\n",
    "    ts_ax.set_title(title)\n",
    "    y.plot(ax=hist_ax, kind='hist', bins=25)\n",
    "    hist_ax.set_title('Histogram')\n",
    "    smt.graphics.plot_acf(y, lags=lags, ax=acf_ax)\n",
    "    smt.graphics.plot_pacf(y, lags=lags, ax=pacf_ax)\n",
    "    [ax.set_xlim(0) for ax in [acf_ax, pacf_ax]]\n",
    "    sns.despine()\n",
    "    fig.tight_layout()\n",
    "    return ts_ax, acf_ax, pacf_ax"
   ]
  },
  {
   "cell_type": "code",
   "execution_count": 87,
   "metadata": {},
   "outputs": [
    {
     "data": {
      "text/plain": [
       "(<matplotlib.axes._subplots.AxesSubplot at 0x7fe24c31a7b8>,\n",
       " <matplotlib.axes._subplots.AxesSubplot at 0x7fe24c366278>,\n",
       " <matplotlib.axes._subplots.AxesSubplot at 0x7fe24c3df860>)"
      ]
     },
     "execution_count": 87,
     "metadata": {},
     "output_type": "execute_result"
    },
    {
     "data": {
      "image/png": "[encoded data removed]",
      "text/plain": [
       "<Figure size 1008x576 with 4 Axes>"
      ]
     },
     "metadata": {
      "needs_background": "light"
     },
     "output_type": "display_data"
    }
   ],
   "source": [
    "tsplot(ts_train, title='Output of the Turbine 9', lags=5)"
   ]
  },
  {
   "cell_type": "code",
   "execution_count": 80,
   "metadata": {},
   "outputs": [],
   "source": [
    "import itertools\n",
    "\n",
    "p_min = 0\n",
    "d_min = 0\n",
    "q_min = 0\n",
    "p_max = 11\n",
    "d_max = 0\n",
    "q_max = 6\n",
    "\n",
    "# Initialize a DataFrame to store the results\n",
    "results_bic = pd.DataFrame(index=['AR{}'.format(i) for i in range(p_min,p_max+1)],\n",
    "                           columns=['MA{}'.format(i) for i in range(q_min,q_max+1)])\n",
    "\n",
    "for p,d,q in itertools.product(range(p_min,p_max+1),\n",
    "                               range(d_min,d_max+1),\n",
    "                               range(q_min,q_max+1)):\n",
    "    if p==0 and d==0 and q==0:\n",
    "        results_bic.loc['AR{}'.format(p), 'MA{}'.format(q)] = np.nan\n",
    "        continue\n",
    "    \n",
    "    try:\n",
    "        model = smt.SARIMAX(ts_train, order=(p, d, q),\n",
    "                               enforce_stationarity=False,\n",
    "                               enforce_invertibility=False,seasonal_order=(1,0,0,5)\n",
    "                              )\n",
    "        results = model.fit()\n",
    "        results_bic.loc['AR{}'.format(p), 'MA{}'.format(q)] = results.bic\n",
    "        \n",
    "    except:\n",
    "        continue\n",
    "results_bic = results_bic[results_bic.columns].astype(float)"
   ]
  },
  {
   "cell_type": "code",
   "execution_count": 81,
   "metadata": {},
   "outputs": [
    {
     "data": {
      "text/html": [
       "<div>\n",
       "<style scoped>\n",
       "    .dataframe tbody tr th:only-of-type {\n",
       "        vertical-align: middle;\n",
       "    }\n",
       "\n",
       "    .dataframe tbody tr th {\n",
       "        vertical-align: top;\n",
       "    }\n",
       "\n",
       "    .dataframe thead th {\n",
       "        text-align: right;\n",
       "    }\n",
       "</style>\n",
       "<table border=\"1\" class=\"dataframe\">\n",
       "  <thead>\n",
       "    <tr style=\"text-align: right;\">\n",
       "      <th></th>\n",
       "      <th>MA0</th>\n",
       "      <th>MA1</th>\n",
       "      <th>MA2</th>\n",
       "      <th>MA3</th>\n",
       "      <th>MA4</th>\n",
       "      <th>MA5</th>\n",
       "      <th>MA6</th>\n",
       "    </tr>\n",
       "  </thead>\n",
       "  <tbody>\n",
       "    <tr>\n",
       "      <th>AR0</th>\n",
       "      <td>NaN</td>\n",
       "      <td>131.206447</td>\n",
       "      <td>137.779789</td>\n",
       "      <td>118.701647</td>\n",
       "      <td>119.064459</td>\n",
       "      <td>131.023724</td>\n",
       "      <td>128.305932</td>\n",
       "    </tr>\n",
       "    <tr>\n",
       "      <th>AR1</th>\n",
       "      <td>101.079777</td>\n",
       "      <td>99.932635</td>\n",
       "      <td>102.684749</td>\n",
       "      <td>100.228159</td>\n",
       "      <td>119.724210</td>\n",
       "      <td>110.347239</td>\n",
       "      <td>114.380643</td>\n",
       "    </tr>\n",
       "    <tr>\n",
       "      <th>AR2</th>\n",
       "      <td>115.451075</td>\n",
       "      <td>101.818739</td>\n",
       "      <td>118.235343</td>\n",
       "      <td>118.456908</td>\n",
       "      <td>119.193333</td>\n",
       "      <td>114.384267</td>\n",
       "      <td>117.573063</td>\n",
       "    </tr>\n",
       "    <tr>\n",
       "      <th>AR3</th>\n",
       "      <td>116.658705</td>\n",
       "      <td>115.325430</td>\n",
       "      <td>118.355494</td>\n",
       "      <td>120.197924</td>\n",
       "      <td>116.500355</td>\n",
       "      <td>114.456677</td>\n",
       "      <td>110.296877</td>\n",
       "    </tr>\n",
       "    <tr>\n",
       "      <th>AR4</th>\n",
       "      <td>116.129245</td>\n",
       "      <td>119.420001</td>\n",
       "      <td>191.590434</td>\n",
       "      <td>118.946080</td>\n",
       "      <td>116.451879</td>\n",
       "      <td>116.214856</td>\n",
       "      <td>119.228906</td>\n",
       "    </tr>\n",
       "    <tr>\n",
       "      <th>AR5</th>\n",
       "      <td>116.072838</td>\n",
       "      <td>115.925042</td>\n",
       "      <td>108.234721</td>\n",
       "      <td>114.162305</td>\n",
       "      <td>117.718510</td>\n",
       "      <td>118.844691</td>\n",
       "      <td>120.437894</td>\n",
       "    </tr>\n",
       "    <tr>\n",
       "      <th>AR6</th>\n",
       "      <td>112.007572</td>\n",
       "      <td>113.592870</td>\n",
       "      <td>114.382301</td>\n",
       "      <td>116.477323</td>\n",
       "      <td>120.079135</td>\n",
       "      <td>117.993457</td>\n",
       "      <td>121.863788</td>\n",
       "    </tr>\n",
       "    <tr>\n",
       "      <th>AR7</th>\n",
       "      <td>106.767640</td>\n",
       "      <td>100.084074</td>\n",
       "      <td>112.426972</td>\n",
       "      <td>113.646910</td>\n",
       "      <td>183.885215</td>\n",
       "      <td>103.781508</td>\n",
       "      <td>119.054556</td>\n",
       "    </tr>\n",
       "    <tr>\n",
       "      <th>AR8</th>\n",
       "      <td>92.599116</td>\n",
       "      <td>93.782031</td>\n",
       "      <td>95.834514</td>\n",
       "      <td>98.559058</td>\n",
       "      <td>196.982916</td>\n",
       "      <td>104.188066</td>\n",
       "      <td>100.478420</td>\n",
       "    </tr>\n",
       "    <tr>\n",
       "      <th>AR9</th>\n",
       "      <td>86.536414</td>\n",
       "      <td>81.140940</td>\n",
       "      <td>86.458266</td>\n",
       "      <td>85.674707</td>\n",
       "      <td>97.377518</td>\n",
       "      <td>92.303356</td>\n",
       "      <td>95.697590</td>\n",
       "    </tr>\n",
       "    <tr>\n",
       "      <th>AR10</th>\n",
       "      <td>84.022346</td>\n",
       "      <td>35.905718</td>\n",
       "      <td>43.736470</td>\n",
       "      <td>42.288220</td>\n",
       "      <td>103.981997</td>\n",
       "      <td>88.244234</td>\n",
       "      <td>92.871764</td>\n",
       "    </tr>\n",
       "    <tr>\n",
       "      <th>AR11</th>\n",
       "      <td>80.299561</td>\n",
       "      <td>39.757091</td>\n",
       "      <td>50.443869</td>\n",
       "      <td>46.594841</td>\n",
       "      <td>59.548841</td>\n",
       "      <td>113.925384</td>\n",
       "      <td>60.390689</td>\n",
       "    </tr>\n",
       "  </tbody>\n",
       "</table>\n",
       "</div>"
      ],
      "text/plain": [
       "             MA0         MA1         MA2         MA3         MA4         MA5  \\\n",
       "AR0          NaN  131.206447  137.779789  118.701647  119.064459  131.023724   \n",
       "AR1   101.079777   99.932635  102.684749  100.228159  119.724210  110.347239   \n",
       "AR2   115.451075  101.818739  118.235343  118.456908  119.193333  114.384267   \n",
       "AR3   116.658705  115.325430  118.355494  120.197924  116.500355  114.456677   \n",
       "AR4   116.129245  119.420001  191.590434  118.946080  116.451879  116.214856   \n",
       "AR5   116.072838  115.925042  108.234721  114.162305  117.718510  118.844691   \n",
       "AR6   112.007572  113.592870  114.382301  116.477323  120.079135  117.993457   \n",
       "AR7   106.767640  100.084074  112.426972  113.646910  183.885215  103.781508   \n",
       "AR8    92.599116   93.782031   95.834514   98.559058  196.982916  104.188066   \n",
       "AR9    86.536414   81.140940   86.458266   85.674707   97.377518   92.303356   \n",
       "AR10   84.022346   35.905718   43.736470   42.288220  103.981997   88.244234   \n",
       "AR11   80.299561   39.757091   50.443869   46.594841   59.548841  113.925384   \n",
       "\n",
       "             MA6  \n",
       "AR0   128.305932  \n",
       "AR1   114.380643  \n",
       "AR2   117.573063  \n",
       "AR3   110.296877  \n",
       "AR4   119.228906  \n",
       "AR5   120.437894  \n",
       "AR6   121.863788  \n",
       "AR7   119.054556  \n",
       "AR8   100.478420  \n",
       "AR9    95.697590  \n",
       "AR10   92.871764  \n",
       "AR11   60.390689  "
      ]
     },
     "execution_count": 81,
     "metadata": {},
     "output_type": "execute_result"
    }
   ],
   "source": [
    "results_bic"
   ]
  },
  {
   "cell_type": "code",
   "execution_count": null,
   "metadata": {},
   "outputs": [],
   "source": []
  }
 ],
 "metadata": {
  "kernelspec": {
   "display_name": "Python 3",
   "language": "python",
   "name": "python3"
  },
  "language_info": {
   "codemirror_mode": {
    "name": "ipython",
    "version": 3
   },
   "file_extension": ".py",
   "mimetype": "text/x-python",
   "name": "python",
   "nbconvert_exporter": "python",
   "pygments_lexer": "ipython3",
   "version": "3.6.8"
  }
 },
 "nbformat": 4,
 "nbformat_minor": 2
}
