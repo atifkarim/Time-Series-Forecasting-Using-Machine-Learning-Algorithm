{
 "cells": [
  {
   "cell_type": "code",
   "execution_count": 2,
   "metadata": {},
   "outputs": [],
   "source": [
    "import numpy as np\n",
    "import matplotlib.pyplot as plt\n",
    "import pandas as pd\n",
    "import datetime\n",
    "from numpy import nan\n",
    "from sklearn.feature_selection import SelectKBest\n",
    "from sklearn.feature_selection import chi2\n",
    "import collections\n",
    "import os\n",
    "import shutil\n",
    "# get_ipython().run_line_magic('matplotlib', 'inline')\n",
    "from matplotlib.pylab import rcParams"
   ]
  },
  {
   "cell_type": "code",
   "execution_count": 5,
   "metadata": {},
   "outputs": [],
   "source": [
    "def create_dataframe(filepath):\n",
    "    test = pd.read_csv(filepath)  # here the given csv file is reading\n",
    "    return test"
   ]
  },
  {
   "cell_type": "code",
   "execution_count": 6,
   "metadata": {},
   "outputs": [],
   "source": [
    "def conversion_timestamp_to_unixtime(initial_dataframe):\n",
    "    ''' now conversion of timestamp to unixtime will start. In the csv file the column name of\n",
    "    timestamp is longtime.'''\n",
    "\n",
    "    longTime = initial_dataframe.loc[0:, ['longTime']]\n",
    "    longTime = longTime.as_matrix()\n",
    "    a = []\n",
    "    date_time_array = []\n",
    "    for k in longTime:\n",
    "        a = np.append(a, k)\n",
    "    str_time = []\n",
    "    correct_longtime = []\n",
    "    datetime_time = []\n",
    "    count = 0\n",
    "\n",
    "    for b in a:\n",
    "        b = int(b)  # make plain integer\n",
    "        str_b = str(b)\n",
    "        c = str_b[-3:]\n",
    "        new_str_b = str_b.replace(c, '', 1)\n",
    "        new_str_b_time = int(new_str_b)\n",
    "        correct_longtime.append(new_str_b_time)\n",
    "        now_time = datetime.datetime.fromtimestamp(new_str_b_time)\n",
    "        convert_time = now_time.strftime('%Y-%m-%d %H:%M')\n",
    "        str_time.append(convert_time)\n",
    "    test_new = initial_dataframe.assign(stringTime=str_time,\n",
    "                                        correct_longtime=correct_longtime)  # here new column in the panda dataframe for string_time has added\n",
    "    test_new['dateTime'] = pd.to_datetime(test_new['stringTime'], format='%Y-%m-%d %H:%M')\n",
    "    test_new = test_new.drop(['longTime', 'stringTime', 'correct_longtime'], axis=1)\n",
    "\n",
    "    return test_new"
   ]
  },
  {
   "cell_type": "code",
   "execution_count": 1,
   "metadata": {},
   "outputs": [],
   "source": [
    "def remove_rw_column(dataframe):\n",
    "    new_variable = []\n",
    "    for i in dataframe:\n",
    "        x = i[:2]\n",
    "        if x != 'RW':\n",
    "            new_variable = np.append(new_variable, i)\n",
    "    return new_variable"
   ]
  },
  {
   "cell_type": "code",
   "execution_count": null,
   "metadata": {},
   "outputs": [],
   "source": []
  }
 ],
 "metadata": {
  "kernelspec": {
   "display_name": "Python 3",
   "language": "python",
   "name": "python3"
  },
  "language_info": {
   "codemirror_mode": {
    "name": "ipython",
    "version": 3
   },
   "file_extension": ".py",
   "mimetype": "text/x-python",
   "name": "python",
   "nbconvert_exporter": "python",
   "pygments_lexer": "ipython3",
   "version": "3.6.8"
  }
 },
 "nbformat": 4,
 "nbformat_minor": 2
}
