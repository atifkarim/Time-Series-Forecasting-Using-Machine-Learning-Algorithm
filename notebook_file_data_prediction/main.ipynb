{
 "cells": [
  {
   "cell_type": "code",
   "execution_count": null,
   "metadata": {},
   "outputs": [],
   "source": [
    "# import import_ipynb\n",
    "# %run data_analysis_function.ipynb"
   ]
  },
  {
   "cell_type": "code",
   "execution_count": 1,
   "metadata": {},
   "outputs": [],
   "source": [
    "import numpy as np\n",
    "a = np.zeros((156816, 36, 53806), dtype='uint8')"
   ]
  },
  {
   "cell_type": "code",
   "execution_count": null,
   "metadata": {},
   "outputs": [],
   "source": [
    "# import data_analysis_function"
   ]
  },
  {
   "cell_type": "code",
   "execution_count": null,
   "metadata": {},
   "outputs": [],
   "source": [
    "# from ipynb.fs.full.data_analysis_function import create_dataframe\n",
    "# from ipynb.fs.full.data_analysis_function import conversion_timestamp_to_unixtime"
   ]
  },
  {
   "cell_type": "code",
   "execution_count": null,
   "metadata": {},
   "outputs": [],
   "source": [
    "# from ipynb.fs.full.data_analysis_function import remove_rw_column"
   ]
  },
  {
   "cell_type": "code",
   "execution_count": 2,
   "metadata": {},
   "outputs": [],
   "source": [
    "import json\n",
    "import collections\n",
    "import os\n",
    "from sklearn.linear_model import LinearRegression\n",
    "from sklearn.ensemble import ExtraTreesRegressor\n",
    "from sklearn.ensemble import BaggingRegressor\n",
    "from sklearn.ensemble import GradientBoostingRegressor as GBR\n",
    "from sklearn import linear_model\n",
    "from sklearn import tree\n",
    "\n",
    "import numpy as np\n",
    "import matplotlib.pyplot as plt\n",
    "import pandas as pd\n",
    "\n",
    "from dataset_analysis import create_dataframe\n",
    "from dataset_analysis import conversion_timestamp_to_unixtime\n",
    "from dataset_analysis import remove_rw_column\n",
    "from dataset_analysis import alter_time\n",
    "from dataset_analysis import rearrange_frame\n",
    "from dataset_analysis import drop_zero_value_row_of_blast_furnace_signal\n",
    "from dataset_analysis import drop_zero_value_row_of_target_signal\n",
    "\n",
    "from dataset_analysis import check_A_B_blast_furnace\n",
    "from dataset_analysis import no_zero_value_in_target\n",
    "\n",
    "from dataset_analysis import drop_column_with_same_value\n",
    "from dataset_analysis import drop_nan_value\n",
    "from dataset_analysis import drop_row\n",
    "from dataset_analysis import drop_string_column\n",
    "from dataset_analysis import feature_selection_with_selectKbest\n",
    "from dataset_analysis import pearson_correlation\n",
    "from dataset_analysis import make_dataframe_with_high_correlated_value\n",
    "from dataset_analysis import dataframe_date_time_type\n",
    "from dataset_analysis import my_sum\n",
    "from dataset_analysis import draw_graph\n",
    "from dataset_analysis import draw_feature_vs_target"
   ]
  },
  {
   "cell_type": "code",
   "execution_count": 3,
   "metadata": {},
   "outputs": [],
   "source": [
    "from model_file import make_dataset\n",
    "from model_file import scikit_learn_model\n",
    "from model_file import plot_graph\n",
    "from model_file import evaluation_metrices"
   ]
  },
  {
   "cell_type": "code",
   "execution_count": 4,
   "metadata": {},
   "outputs": [
    {
     "name": "stdout",
     "output_type": "stream",
     "text": [
      "0\n"
     ]
    }
   ],
   "source": [
    "with open('variable_config.json', 'r') as f:\n",
    "    config = json.load(f)\n",
    "\n",
    "filepath = config['DEFAULT']['file_path']\n",
    "filepath_ubuntu = config['DEFAULT']['file_path_ubuntu']\n",
    "filepath_server = config['DEFAULT']['file_path_server']\n",
    "start_pos = config['DEFAULT']['start_point_dataframe']\n",
    "end_pos = config['DEFAULT']['end_point_dataframe']\n",
    "date_column = config['DEFAULT']['date_column']\n",
    "target_column = config['DEFAULT']['target_column']\n",
    "req_drop_value_target = config['DEFAULT']['req_drop_value_target']\n",
    "furnace_signal_column_a = config['DEFAULT']['blast_furnace_signal_a']\n",
    "furnace_signal_column_b = config['DEFAULT']['blast_furnace_signal_b']\n",
    "value_A = config['DEFAULT']['req_value_of_blast_furnace_A']\n",
    "value_B = config['DEFAULT']['req_value_of_blast_furnace_B']\n",
    "max_best_number = config['DEFAULT']['max_best_number']\n",
    "correlation_threshold_min_value = config['DEFAULT']['correlation_threshold_min_value']\n",
    "correlation_threshold_max_value = config['DEFAULT']['correlation_threshold_max_value']\n",
    "subfolder_feature_vs_target = config['DEFAULT']['subfolder_feature_vs_target']\n",
    "evaluation_metrics_file_name = config['DEFAULT']['evaluation_metrics_file']\n",
    "# print(type(correlation_threshold_min_value))\n",
    "print(req_drop_value_target)"
   ]
  },
  {
   "cell_type": "code",
   "execution_count": 5,
   "metadata": {},
   "outputs": [],
   "source": [
    "initial_dataframe = create_dataframe(filepath_server)"
   ]
  },
  {
   "cell_type": "code",
   "execution_count": 6,
   "metadata": {
    "scrolled": true
   },
   "outputs": [
    {
     "data": {
      "text/html": [
       "<div>\n",
       "<style scoped>\n",
       "    .dataframe tbody tr th:only-of-type {\n",
       "        vertical-align: middle;\n",
       "    }\n",
       "\n",
       "    .dataframe tbody tr th {\n",
       "        vertical-align: top;\n",
       "    }\n",
       "\n",
       "    .dataframe thead th {\n",
       "        text-align: right;\n",
       "    }\n",
       "</style>\n",
       "<table border=\"1\" class=\"dataframe\">\n",
       "  <thead>\n",
       "    <tr style=\"text-align: right;\">\n",
       "      <th></th>\n",
       "      <th>longTime</th>\n",
       "      <th>AEAGHOAWE2T1</th>\n",
       "      <th>AEAGHOAWE2A0</th>\n",
       "      <th>AEAGHOAWE2T0</th>\n",
       "      <th>AEAGHOAWE1A0</th>\n",
       "      <th>AEAGHOAWE1T1</th>\n",
       "      <th>AEAGHOAWE1T0</th>\n",
       "      <th>AEAGHOAWE3T0</th>\n",
       "      <th>AEAGHOAWE3A0</th>\n",
       "      <th>AEAGHOAWE3T1</th>\n",
       "      <th>...</th>\n",
       "      <th>RWWIHOUT10V1</th>\n",
       "      <th>RWWIHOT7_RV0</th>\n",
       "      <th>RWWIHOT8_RV0</th>\n",
       "      <th>RWWIHOT9_RV0</th>\n",
       "      <th>RWWIHOT10RV0</th>\n",
       "      <th>RWWIHOTSURV0</th>\n",
       "      <th>RWWIHOTSUMV0</th>\n",
       "      <th>RWWIHO_VERV0</th>\n",
       "      <th>RWWIHO_UESV0</th>\n",
       "      <th>RWWIHOSUMAV0</th>\n",
       "    </tr>\n",
       "  </thead>\n",
       "  <tbody>\n",
       "    <tr>\n",
       "      <th>0</th>\n",
       "      <td>1565853000000</td>\n",
       "      <td>59.919107</td>\n",
       "      <td>100.0</td>\n",
       "      <td>91.029023</td>\n",
       "      <td>99.969567</td>\n",
       "      <td>55.766858</td>\n",
       "      <td>89.885921</td>\n",
       "      <td>90.963652</td>\n",
       "      <td>99.089689</td>\n",
       "      <td>56.910569</td>\n",
       "      <td>...</td>\n",
       "      <td>0</td>\n",
       "      <td>71.894489</td>\n",
       "      <td>50.087283</td>\n",
       "      <td>40.250768</td>\n",
       "      <td>73.763059</td>\n",
       "      <td>71.201763</td>\n",
       "      <td>49.606024</td>\n",
       "      <td>38.096640</td>\n",
       "      <td>0.671974</td>\n",
       "      <td>33.111827</td>\n",
       "    </tr>\n",
       "    <tr>\n",
       "      <th>1</th>\n",
       "      <td>1565852940000</td>\n",
       "      <td>59.919107</td>\n",
       "      <td>100.0</td>\n",
       "      <td>91.029023</td>\n",
       "      <td>99.969567</td>\n",
       "      <td>55.766858</td>\n",
       "      <td>89.885921</td>\n",
       "      <td>90.963652</td>\n",
       "      <td>99.089689</td>\n",
       "      <td>56.910569</td>\n",
       "      <td>...</td>\n",
       "      <td>0</td>\n",
       "      <td>71.902377</td>\n",
       "      <td>50.110508</td>\n",
       "      <td>40.379436</td>\n",
       "      <td>73.763059</td>\n",
       "      <td>71.276868</td>\n",
       "      <td>49.615189</td>\n",
       "      <td>38.034993</td>\n",
       "      <td>0.672205</td>\n",
       "      <td>33.060837</td>\n",
       "    </tr>\n",
       "    <tr>\n",
       "      <th>2</th>\n",
       "      <td>1565852880000</td>\n",
       "      <td>59.919107</td>\n",
       "      <td>100.0</td>\n",
       "      <td>91.029023</td>\n",
       "      <td>99.969567</td>\n",
       "      <td>55.766858</td>\n",
       "      <td>90.046727</td>\n",
       "      <td>90.963652</td>\n",
       "      <td>99.089689</td>\n",
       "      <td>56.910569</td>\n",
       "      <td>...</td>\n",
       "      <td>0</td>\n",
       "      <td>71.944404</td>\n",
       "      <td>50.107863</td>\n",
       "      <td>40.662733</td>\n",
       "      <td>73.763059</td>\n",
       "      <td>71.434676</td>\n",
       "      <td>49.749139</td>\n",
       "      <td>37.951489</td>\n",
       "      <td>0.682817</td>\n",
       "      <td>33.066594</td>\n",
       "    </tr>\n",
       "    <tr>\n",
       "      <th>3</th>\n",
       "      <td>1565852820000</td>\n",
       "      <td>59.919107</td>\n",
       "      <td>100.0</td>\n",
       "      <td>91.029023</td>\n",
       "      <td>99.969567</td>\n",
       "      <td>55.766858</td>\n",
       "      <td>90.046727</td>\n",
       "      <td>90.963652</td>\n",
       "      <td>99.089689</td>\n",
       "      <td>56.910569</td>\n",
       "      <td>...</td>\n",
       "      <td>0</td>\n",
       "      <td>71.943151</td>\n",
       "      <td>50.062481</td>\n",
       "      <td>40.229931</td>\n",
       "      <td>73.763059</td>\n",
       "      <td>71.210012</td>\n",
       "      <td>49.954175</td>\n",
       "      <td>37.911700</td>\n",
       "      <td>0.665143</td>\n",
       "      <td>34.003952</td>\n",
       "    </tr>\n",
       "    <tr>\n",
       "      <th>4</th>\n",
       "      <td>1565852760000</td>\n",
       "      <td>60.380468</td>\n",
       "      <td>100.0</td>\n",
       "      <td>91.029023</td>\n",
       "      <td>99.969567</td>\n",
       "      <td>55.766858</td>\n",
       "      <td>90.046727</td>\n",
       "      <td>90.963652</td>\n",
       "      <td>99.089689</td>\n",
       "      <td>56.910569</td>\n",
       "      <td>...</td>\n",
       "      <td>0</td>\n",
       "      <td>71.966247</td>\n",
       "      <td>50.058978</td>\n",
       "      <td>39.999024</td>\n",
       "      <td>73.763059</td>\n",
       "      <td>71.112367</td>\n",
       "      <td>49.849248</td>\n",
       "      <td>37.978844</td>\n",
       "      <td>0.664477</td>\n",
       "      <td>33.928494</td>\n",
       "    </tr>\n",
       "  </tbody>\n",
       "</table>\n",
       "<p>5 rows × 4239 columns</p>\n",
       "</div>"
      ],
      "text/plain": [
       "        longTime  AEAGHOAWE2T1  AEAGHOAWE2A0  AEAGHOAWE2T0  AEAGHOAWE1A0  \\\n",
       "0  1565853000000     59.919107         100.0     91.029023     99.969567   \n",
       "1  1565852940000     59.919107         100.0     91.029023     99.969567   \n",
       "2  1565852880000     59.919107         100.0     91.029023     99.969567   \n",
       "3  1565852820000     59.919107         100.0     91.029023     99.969567   \n",
       "4  1565852760000     60.380468         100.0     91.029023     99.969567   \n",
       "\n",
       "   AEAGHOAWE1T1  AEAGHOAWE1T0  AEAGHOAWE3T0  AEAGHOAWE3A0  AEAGHOAWE3T1  ...  \\\n",
       "0     55.766858     89.885921     90.963652     99.089689     56.910569  ...   \n",
       "1     55.766858     89.885921     90.963652     99.089689     56.910569  ...   \n",
       "2     55.766858     90.046727     90.963652     99.089689     56.910569  ...   \n",
       "3     55.766858     90.046727     90.963652     99.089689     56.910569  ...   \n",
       "4     55.766858     90.046727     90.963652     99.089689     56.910569  ...   \n",
       "\n",
       "   RWWIHOUT10V1  RWWIHOT7_RV0  RWWIHOT8_RV0  RWWIHOT9_RV0  RWWIHOT10RV0  \\\n",
       "0             0     71.894489     50.087283     40.250768     73.763059   \n",
       "1             0     71.902377     50.110508     40.379436     73.763059   \n",
       "2             0     71.944404     50.107863     40.662733     73.763059   \n",
       "3             0     71.943151     50.062481     40.229931     73.763059   \n",
       "4             0     71.966247     50.058978     39.999024     73.763059   \n",
       "\n",
       "   RWWIHOTSURV0  RWWIHOTSUMV0  RWWIHO_VERV0  RWWIHO_UESV0  RWWIHOSUMAV0  \n",
       "0     71.201763     49.606024     38.096640      0.671974     33.111827  \n",
       "1     71.276868     49.615189     38.034993      0.672205     33.060837  \n",
       "2     71.434676     49.749139     37.951489      0.682817     33.066594  \n",
       "3     71.210012     49.954175     37.911700      0.665143     34.003952  \n",
       "4     71.112367     49.849248     37.978844      0.664477     33.928494  \n",
       "\n",
       "[5 rows x 4239 columns]"
      ]
     },
     "execution_count": 6,
     "metadata": {},
     "output_type": "execute_result"
    }
   ],
   "source": [
    "initial_dataframe.head()"
   ]
  },
  {
   "cell_type": "code",
   "execution_count": 10,
   "metadata": {},
   "outputs": [],
   "source": [
    "# initial_dataframe.loc[:, initial_dataframe.dtypes == object]\n",
    "# initial_dataframe.dtypes == object"
   ]
  },
  {
   "cell_type": "code",
   "execution_count": 9,
   "metadata": {
    "scrolled": true
   },
   "outputs": [
    {
     "name": "stdout",
     "output_type": "stream",
     "text": [
      "4100 4101 4098 4099\n"
     ]
    }
   ],
   "source": [
    "u = initial_dataframe.columns.get_loc(\"DEWIHOAT9_I0\")\n",
    "v = initial_dataframe.columns.get_loc(\"DEWIHOBT9_I0\")\n",
    "w = initial_dataframe.columns.get_loc(\"DEWIHOAT8_I0\")\n",
    "x = initial_dataframe.columns.get_loc(\"DEWIHOBT8_I0\")\n",
    "print(u,v,w,x)"
   ]
  },
  {
   "cell_type": "markdown",
   "metadata": {},
   "source": [
    "# plotted blast furnace A and B for Turbine 8's output"
   ]
  },
  {
   "cell_type": "code",
   "execution_count": 7,
   "metadata": {
    "scrolled": true
   },
   "outputs": [],
   "source": [
    "# print(initial_dataframe.shape)\n",
    "# plt.plot(initial_dataframe[\"AEWIHO_T8AV2\"], color = 'blue')\n",
    "# plt.plot(initial_dataframe[\"DEWIHOBT8_I0\"], color = 'red')\n",
    "# plt.plot(initial_dataframe[\"DEWIHOAT8_I0\"], color = 'black')\n",
    "# plt.legend([\"AEWIHO_T8AV2\", \"DEWIHOBT8_I0\",\"DEWIHOAT8_I0\"], loc='upper left')\n",
    "# # plt.xlim(0,initial_dataframe.shape[0]+10)\n",
    "# # plt.xticks(np.arange(0,initial_dataframe.shape[0],))\n",
    "# plt.rcParams['figure.figsize'] = (20, 10)"
   ]
  },
  {
   "cell_type": "markdown",
   "metadata": {},
   "source": [
    "# plotted blast furnace A and B for Turbine 9's output"
   ]
  },
  {
   "cell_type": "code",
   "execution_count": 9,
   "metadata": {},
   "outputs": [
    {
     "name": "stdout",
     "output_type": "stream",
     "text": [
      "(186100, 4239)\n"
     ]
    },
    {
     "data": {
      "image/png": "[encoded data removed]",
      "text/plain": [
       "<Figure size 720x360 with 1 Axes>"
      ]
     },
     "metadata": {
      "needs_background": "light"
     },
     "output_type": "display_data"
    }
   ],
   "source": [
    "print(initial_dataframe.shape)\n",
    "plt.plot(initial_dataframe[target_column], color = 'blue')\n",
    "plt.plot(initial_dataframe[furnace_signal_column_a], color = 'red')\n",
    "plt.plot(initial_dataframe[furnace_signal_column_b], color = 'black')\n",
    "# plt.legend([target_column, furnace_signal_column_a, furnace_signal_column_b], loc='upper left')\n",
    "# plt.xlim(0,initial_dataframe.shape[0]+10)\n",
    "# plt.xticks(np.arange(0,initial_dataframe.shape[0],))\n",
    "plt.rcParams['figure.figsize'] = (10, 5)"
   ]
  },
  {
   "cell_type": "code",
   "execution_count": 7,
   "metadata": {
    "scrolled": true
   },
   "outputs": [
    {
     "name": "stderr",
     "output_type": "stream",
     "text": [
      "/home/atif/machine_learning_stuff/Time-Series-Forecasting-of-a-Power-Plant/notebook_file_data_prediction/dataset_analysis.py:28: FutureWarning: Method .as_matrix will be removed in a future version. Use .values instead.\n",
      "  longTime = longTime.as_matrix()\n"
     ]
    }
   ],
   "source": [
    "test_new = conversion_timestamp_to_unixtime(initial_dataframe)"
   ]
  },
  {
   "cell_type": "code",
   "execution_count": 10,
   "metadata": {},
   "outputs": [
    {
     "data": {
      "text/plain": [
       "(186100, 4239)"
      ]
     },
     "execution_count": 10,
     "metadata": {},
     "output_type": "execute_result"
    }
   ],
   "source": [
    "test_new.shape"
   ]
  },
  {
   "cell_type": "code",
   "execution_count": 11,
   "metadata": {},
   "outputs": [],
   "source": [
    "# test_new_1 = test_new.drop(['row ID'], axis = 1) # need it if dataset made fro KNIME using ROW_ID\n",
    "\n",
    "test_new_1 = test_new\n",
    "\n",
    "var_new = remove_rw_column(test_new_1)\n",
    "\n",
    "test_new_2 = test_new_1.iloc[:][var_new]\n",
    "\n",
    "# Taking define number of row from the beginning\n",
    "multivariate_data = alter_time(test_new_2, start_pos, test_new.shape[0])"
   ]
  },
  {
   "cell_type": "code",
   "execution_count": 12,
   "metadata": {},
   "outputs": [],
   "source": [
    "index_array=[0,-1]\n",
    "req_column_name = [date_column, target_column]\n",
    "# req_column_name = [date_column, furnace_signal_column]\n",
    "rearranged_dataframe = rearrange_frame(multivariate_data,req_column_name,index_array)"
   ]
  },
  {
   "cell_type": "code",
   "execution_count": 15,
   "metadata": {},
   "outputs": [
    {
     "name": "stdout",
     "output_type": "stream",
     "text": [
      "<class 'pandas.core.frame.DataFrame'> (186100, 3983)\n",
      "<class 'pandas.core.frame.DataFrame'> (186100, 3983)\n"
     ]
    }
   ],
   "source": [
    "print(type(multivariate_data), multivariate_data.shape)\n",
    "print(type(rearranged_dataframe), rearranged_dataframe.shape)"
   ]
  },
  {
   "cell_type": "code",
   "execution_count": 16,
   "metadata": {
    "scrolled": true
   },
   "outputs": [],
   "source": [
    "# increase_1=0\n",
    "# count_array_2 = []\n",
    "# for i,v in enumerate(rearranged_dataframe[furnace_signal_column_a]):\n",
    "    \n",
    "#     if v < 98 and rearranged_dataframe.iloc[i][furnace_signal_column_b] <100:\n",
    "        \n",
    "# #         print(\"i: \",i,\" ,blast A: \",v,\" ,blast B: \",rearranged_dataframe.iloc[i][furnace_signal_column_b])\n",
    "#         count_array_2 = np.append(count_array_2, i)\n",
    "#         increase_1+=1"
   ]
  },
  {
   "cell_type": "code",
   "execution_count": 16,
   "metadata": {},
   "outputs": [],
   "source": [
    "dataframe_no_zero_value_blast_furnace = check_A_B_blast_furnace(rearranged_dataframe, furnace_signal_column_a, value_A,\n",
    "                                                               furnace_signal_column_b, value_B)"
   ]
  },
  {
   "cell_type": "code",
   "execution_count": 17,
   "metadata": {},
   "outputs": [
    {
     "name": "stdout",
     "output_type": "stream",
     "text": [
      "<class 'pandas.core.frame.DataFrame'> (141456, 3983)\n"
     ]
    }
   ],
   "source": [
    "print(type(dataframe_no_zero_value_blast_furnace),dataframe_no_zero_value_blast_furnace.shape)"
   ]
  },
  {
   "cell_type": "code",
   "execution_count": 22,
   "metadata": {},
   "outputs": [
    {
     "name": "stdout",
     "output_type": "stream",
     "text": [
      "<class 'pandas.core.frame.DataFrame'> (1000, 3983)\n"
     ]
    }
   ],
   "source": [
    "s = dataframe_no_zero_value_blast_furnace.iloc[0:1000,:]\n",
    "print(type(s), s.shape)"
   ]
  },
  {
   "cell_type": "code",
   "execution_count": 23,
   "metadata": {},
   "outputs": [],
   "source": [
    "w = s.corr()"
   ]
  },
  {
   "cell_type": "code",
   "execution_count": null,
   "metadata": {},
   "outputs": [],
   "source": []
  },
  {
   "cell_type": "code",
   "execution_count": 19,
   "metadata": {
    "scrolled": true
   },
   "outputs": [
    {
     "data": {
      "image/png": "[encoded data removed]",
      "text/plain": [
       "<Figure size 720x360 with 1 Axes>"
      ]
     },
     "metadata": {
      "needs_background": "light"
     },
     "output_type": "display_data"
    }
   ],
   "source": [
    "plt.plot(dataframe_no_zero_value_blast_furnace[target_column], color = 'blue')\n",
    "plt.plot(dataframe_no_zero_value_blast_furnace[furnace_signal_column_a], color = 'red')\n",
    "plt.plot(dataframe_no_zero_value_blast_furnace[furnace_signal_column_b], color = 'green')\n",
    "# plt.legend([target_column, furnace_signal_column_a, furnace_signal_column_b], loc='upper left')\n",
    "# plt.xlim(0,initial_dataframe.shape[0]+10)\n",
    "# plt.xticks(np.arange(0,initial_dataframe.shape[0],))\n",
    "plt.rcParams['figure.figsize'] = (10, 5)"
   ]
  },
  {
   "cell_type": "code",
   "execution_count": 20,
   "metadata": {},
   "outputs": [],
   "source": [
    "dataframe_no_zero_value_target_column = no_zero_value_in_target(dataframe_no_zero_value_blast_furnace,target_column, req_drop_value_target)"
   ]
  },
  {
   "cell_type": "code",
   "execution_count": 21,
   "metadata": {},
   "outputs": [
    {
     "data": {
      "image/png": "[encoded data removed]",
      "text/plain": [
       "<Figure size 720x360 with 1 Axes>"
      ]
     },
     "metadata": {
      "needs_background": "light"
     },
     "output_type": "display_data"
    }
   ],
   "source": [
    "plt.plot(dataframe_no_zero_value_target_column[target_column], color = 'blue')\n",
    "plt.plot(dataframe_no_zero_value_target_column[furnace_signal_column_a], color = 'red')\n",
    "plt.plot(dataframe_no_zero_value_target_column[furnace_signal_column_b], color = 'green')\n",
    "# plt.legend([target_column, furnace_signal_column_a, furnace_signal_column_b], loc='upper left')\n",
    "# plt.xlim(0,initial_dataframe.shape[0]+10)\n",
    "# plt.xticks(np.arange(0,initial_dataframe.shape[0],))\n",
    "plt.rcParams['figure.figsize'] = (10, 5)"
   ]
  },
  {
   "cell_type": "code",
   "execution_count": 22,
   "metadata": {
    "scrolled": false
   },
   "outputs": [
    {
     "name": "stdout",
     "output_type": "stream",
     "text": [
      "(186100, 3983)\n",
      "(141456, 3983)\n",
      "(141269, 3983)\n"
     ]
    }
   ],
   "source": [
    "print(rearranged_dataframe.shape)\n",
    "print(dataframe_no_zero_value_blast_furnace.shape)\n",
    "print(dataframe_no_zero_value_target_column.shape)"
   ]
  },
  {
   "cell_type": "code",
   "execution_count": 46,
   "metadata": {},
   "outputs": [],
   "source": [
    "# drop_object = dataframe_no_zero_value_target_column.select_dtypes(exclude=['object'])"
   ]
  },
  {
   "cell_type": "code",
   "execution_count": 47,
   "metadata": {},
   "outputs": [],
   "source": [
    "# Drop the column which has sam evalue in every ROW\n",
    "# dataframe_drop_column_with_same_value = drop_column_with_same_value(dataframe_no_zero_value_target_column)"
   ]
  },
  {
   "cell_type": "code",
   "execution_count": 22,
   "metadata": {},
   "outputs": [],
   "source": [
    "\n",
    "# Drop the ROW which has NAN value\n",
    "multivariate_data_drop_nan = drop_nan_value(dataframe_no_zero_value_target_column)\n"
   ]
  },
  {
   "cell_type": "code",
   "execution_count": 23,
   "metadata": {},
   "outputs": [
    {
     "data": {
      "text/plain": [
       "(141269, 3983)"
      ]
     },
     "execution_count": 23,
     "metadata": {},
     "output_type": "execute_result"
    }
   ],
   "source": [
    "multivariate_data_drop_nan.shape"
   ]
  },
  {
   "cell_type": "code",
   "execution_count": 26,
   "metadata": {},
   "outputs": [],
   "source": [
    "# Drop the row who has consecutive same value\n",
    "# dataframe_drop_row_consecutive_same_value = drop_row(multivariate_data_drop_nan)"
   ]
  },
  {
   "cell_type": "code",
   "execution_count": 50,
   "metadata": {},
   "outputs": [],
   "source": [
    "# dataframe_drop_row_consecutive_same_value= multivariate_data_drop_nan"
   ]
  },
  {
   "cell_type": "code",
   "execution_count": 23,
   "metadata": {},
   "outputs": [],
   "source": [
    "nunique = dataframe_no_zero_value_target_column.apply(pd.Series.nunique)\n",
    "cols_to_drop = nunique[nunique == 1].index\n",
    "new_frame = dataframe_no_zero_value_target_column.drop(cols_to_drop, axis=1)"
   ]
  },
  {
   "cell_type": "code",
   "execution_count": 24,
   "metadata": {},
   "outputs": [
    {
     "name": "stdout",
     "output_type": "stream",
     "text": [
      "<class 'pandas.core.frame.DataFrame'>\n",
      "<class 'pandas.core.frame.DataFrame'>\n",
      "(141269, 2921)\n"
     ]
    },
    {
     "data": {
      "text/html": [
       "<div>\n",
       "<style scoped>\n",
       "    .dataframe tbody tr th:only-of-type {\n",
       "        vertical-align: middle;\n",
       "    }\n",
       "\n",
       "    .dataframe tbody tr th {\n",
       "        vertical-align: top;\n",
       "    }\n",
       "\n",
       "    .dataframe thead th {\n",
       "        text-align: right;\n",
       "    }\n",
       "</style>\n",
       "<table border=\"1\" class=\"dataframe\">\n",
       "  <thead>\n",
       "    <tr style=\"text-align: right;\">\n",
       "      <th></th>\n",
       "      <th>dateTime</th>\n",
       "      <th>AEAGHOAWE2A0</th>\n",
       "      <th>AEAGHOAWE2T0</th>\n",
       "      <th>AEAGHOAWE1A0</th>\n",
       "      <th>AEAGHOAWE1T1</th>\n",
       "      <th>AEAGHOAWE1T0</th>\n",
       "      <th>AEAGHOAWE3T0</th>\n",
       "      <th>AEAGHOAWE3A0</th>\n",
       "      <th>AEAGHOAWE3T1</th>\n",
       "      <th>AEAGHOAWE_A2</th>\n",
       "      <th>...</th>\n",
       "      <th>AEWIHOC_MWT0</th>\n",
       "      <th>AEWIHOCM__P0</th>\n",
       "      <th>AEWIHOC___P0</th>\n",
       "      <th>AEWIHOCKZ_V0</th>\n",
       "      <th>AEWIHOCK__V9</th>\n",
       "      <th>AEWIHOCWF_A2</th>\n",
       "      <th>AEWIHOC___T0</th>\n",
       "      <th>AEWIHOCWF_A1</th>\n",
       "      <th>AEWIHOAKVSV0</th>\n",
       "      <th>AEWIHO_T9AV2</th>\n",
       "    </tr>\n",
       "  </thead>\n",
       "  <tbody>\n",
       "    <tr>\n",
       "      <th>0</th>\n",
       "      <td>2019-02-11 21:57:00</td>\n",
       "      <td>28.0198</td>\n",
       "      <td>90.9881</td>\n",
       "      <td>25.369</td>\n",
       "      <td>92.3875</td>\n",
       "      <td>90.2083</td>\n",
       "      <td>93.6744</td>\n",
       "      <td>10.9712</td>\n",
       "      <td>51.9164</td>\n",
       "      <td>100</td>\n",
       "      <td>...</td>\n",
       "      <td>76.2732</td>\n",
       "      <td>94.8227</td>\n",
       "      <td>56.6627</td>\n",
       "      <td>0</td>\n",
       "      <td>59.0767</td>\n",
       "      <td>63.4936</td>\n",
       "      <td>45.5897</td>\n",
       "      <td>30.3542</td>\n",
       "      <td>72.5928</td>\n",
       "      <td>66.3871</td>\n",
       "    </tr>\n",
       "    <tr>\n",
       "      <th>1</th>\n",
       "      <td>2019-02-11 21:58:00</td>\n",
       "      <td>37.8704</td>\n",
       "      <td>90.9881</td>\n",
       "      <td>34.4516</td>\n",
       "      <td>88.1778</td>\n",
       "      <td>90.4495</td>\n",
       "      <td>93.3531</td>\n",
       "      <td>18.8973</td>\n",
       "      <td>51.4518</td>\n",
       "      <td>75.6018</td>\n",
       "      <td>...</td>\n",
       "      <td>76.3286</td>\n",
       "      <td>94.8065</td>\n",
       "      <td>56.6627</td>\n",
       "      <td>0</td>\n",
       "      <td>59.1864</td>\n",
       "      <td>63.4936</td>\n",
       "      <td>45.5897</td>\n",
       "      <td>30.3339</td>\n",
       "      <td>72.1086</td>\n",
       "      <td>66.7652</td>\n",
       "    </tr>\n",
       "    <tr>\n",
       "      <th>2</th>\n",
       "      <td>2019-02-11 21:59:00</td>\n",
       "      <td>37.5393</td>\n",
       "      <td>91.1494</td>\n",
       "      <td>28.2881</td>\n",
       "      <td>83.2178</td>\n",
       "      <td>90.6111</td>\n",
       "      <td>93.6948</td>\n",
       "      <td>21.6692</td>\n",
       "      <td>51.4518</td>\n",
       "      <td>88.1312</td>\n",
       "      <td>...</td>\n",
       "      <td>76.3855</td>\n",
       "      <td>94.8044</td>\n",
       "      <td>56.6627</td>\n",
       "      <td>0</td>\n",
       "      <td>59.3488</td>\n",
       "      <td>63.4936</td>\n",
       "      <td>45.5897</td>\n",
       "      <td>30.8965</td>\n",
       "      <td>71.9806</td>\n",
       "      <td>66.7674</td>\n",
       "    </tr>\n",
       "    <tr>\n",
       "      <th>3</th>\n",
       "      <td>2019-02-11 22:00:00</td>\n",
       "      <td>33.6546</td>\n",
       "      <td>91.1494</td>\n",
       "      <td>19.4841</td>\n",
       "      <td>78.5467</td>\n",
       "      <td>90.5906</td>\n",
       "      <td>93.3531</td>\n",
       "      <td>20.4553</td>\n",
       "      <td>50.9872</td>\n",
       "      <td>91.1575</td>\n",
       "      <td>...</td>\n",
       "      <td>76.3784</td>\n",
       "      <td>94.866</td>\n",
       "      <td>56.943</td>\n",
       "      <td>0</td>\n",
       "      <td>58.5514</td>\n",
       "      <td>63.4936</td>\n",
       "      <td>45.5897</td>\n",
       "      <td>30.9981</td>\n",
       "      <td>72.105</td>\n",
       "      <td>66.8595</td>\n",
       "    </tr>\n",
       "    <tr>\n",
       "      <th>4</th>\n",
       "      <td>2019-02-11 22:01:00</td>\n",
       "      <td>31.0041</td>\n",
       "      <td>91.1494</td>\n",
       "      <td>13.6516</td>\n",
       "      <td>74.452</td>\n",
       "      <td>90.9934</td>\n",
       "      <td>93.3735</td>\n",
       "      <td>16.2266</td>\n",
       "      <td>50.9872</td>\n",
       "      <td>100</td>\n",
       "      <td>...</td>\n",
       "      <td>76.4339</td>\n",
       "      <td>94.8579</td>\n",
       "      <td>56.943</td>\n",
       "      <td>0</td>\n",
       "      <td>58.9216</td>\n",
       "      <td>63.4936</td>\n",
       "      <td>45.5897</td>\n",
       "      <td>30.7704</td>\n",
       "      <td>72.0846</td>\n",
       "      <td>66.87</td>\n",
       "    </tr>\n",
       "  </tbody>\n",
       "</table>\n",
       "<p>5 rows × 2921 columns</p>\n",
       "</div>"
      ],
      "text/plain": [
       "             dateTime AEAGHOAWE2A0 AEAGHOAWE2T0 AEAGHOAWE1A0 AEAGHOAWE1T1  \\\n",
       "0 2019-02-11 21:57:00      28.0198      90.9881       25.369      92.3875   \n",
       "1 2019-02-11 21:58:00      37.8704      90.9881      34.4516      88.1778   \n",
       "2 2019-02-11 21:59:00      37.5393      91.1494      28.2881      83.2178   \n",
       "3 2019-02-11 22:00:00      33.6546      91.1494      19.4841      78.5467   \n",
       "4 2019-02-11 22:01:00      31.0041      91.1494      13.6516       74.452   \n",
       "\n",
       "  AEAGHOAWE1T0 AEAGHOAWE3T0 AEAGHOAWE3A0 AEAGHOAWE3T1 AEAGHOAWE_A2  ...  \\\n",
       "0      90.2083      93.6744      10.9712      51.9164          100  ...   \n",
       "1      90.4495      93.3531      18.8973      51.4518      75.6018  ...   \n",
       "2      90.6111      93.6948      21.6692      51.4518      88.1312  ...   \n",
       "3      90.5906      93.3531      20.4553      50.9872      91.1575  ...   \n",
       "4      90.9934      93.3735      16.2266      50.9872          100  ...   \n",
       "\n",
       "  AEWIHOC_MWT0 AEWIHOCM__P0 AEWIHOC___P0 AEWIHOCKZ_V0 AEWIHOCK__V9  \\\n",
       "0      76.2732      94.8227      56.6627            0      59.0767   \n",
       "1      76.3286      94.8065      56.6627            0      59.1864   \n",
       "2      76.3855      94.8044      56.6627            0      59.3488   \n",
       "3      76.3784       94.866       56.943            0      58.5514   \n",
       "4      76.4339      94.8579       56.943            0      58.9216   \n",
       "\n",
       "  AEWIHOCWF_A2 AEWIHOC___T0 AEWIHOCWF_A1 AEWIHOAKVSV0 AEWIHO_T9AV2  \n",
       "0      63.4936      45.5897      30.3542      72.5928      66.3871  \n",
       "1      63.4936      45.5897      30.3339      72.1086      66.7652  \n",
       "2      63.4936      45.5897      30.8965      71.9806      66.7674  \n",
       "3      63.4936      45.5897      30.9981       72.105      66.8595  \n",
       "4      63.4936      45.5897      30.7704      72.0846        66.87  \n",
       "\n",
       "[5 rows x 2921 columns]"
      ]
     },
     "execution_count": 24,
     "metadata": {},
     "output_type": "execute_result"
    }
   ],
   "source": [
    "print(type(dataframe_no_zero_value_target_column))\n",
    "print(type(new_frame))\n",
    "print(new_frame.shape)\n",
    "new_frame.head()"
   ]
  },
  {
   "cell_type": "code",
   "execution_count": 51,
   "metadata": {},
   "outputs": [],
   "source": [
    "# Drop the column who has 'objet' type value\n",
    "# dataframe_no_string = drop_string_column(dataframe_drop_row_consecutive_same_value)"
   ]
  },
  {
   "cell_type": "markdown",
   "metadata": {},
   "source": [
    "# drop column who has always same value"
   ]
  },
  {
   "cell_type": "code",
   "execution_count": 57,
   "metadata": {},
   "outputs": [],
   "source": [
    "# new_frame = multivariate_data_drop_nan.drop(multivariate_data_drop_nan.std()[(multivariate_data_drop_nan.std() == 0)].index, axis=1)"
   ]
  },
  {
   "cell_type": "code",
   "execution_count": 59,
   "metadata": {},
   "outputs": [],
   "source": [
    "# cols = multivariate_data_drop_nan.select_dtypes([np.number]).columns\n",
    "# diff = multivariate_data_drop_nan[cols].diff().sum()\n",
    "# no_same_value_column = multivariate_data_drop_nan.drop(diff[diff == 0].index, axis=1)"
   ]
  },
  {
   "cell_type": "code",
   "execution_count": 53,
   "metadata": {
    "scrolled": true
   },
   "outputs": [
    {
     "name": "stdout",
     "output_type": "stream",
     "text": [
      "(141269, 3983)\n",
      "(141269, 3983)\n",
      "(141269, 3983)\n",
      "(141269, 1)\n",
      "(141269, 1)\n"
     ]
    }
   ],
   "source": [
    "print(dataframe_drop_column_with_same_value.shape)\n",
    "print(multivariate_data_drop_nan.shape)\n",
    "print(dataframe_drop_row_consecutive_same_value.shape)\n",
    "print(dataframe_no_string.shape)\n",
    "print(new_frame.shape)"
   ]
  },
  {
   "cell_type": "code",
   "execution_count": 44,
   "metadata": {},
   "outputs": [],
   "source": [
    "# update_1 = multivariate_data_drop_nan.iloc[0:25000,:]"
   ]
  },
  {
   "cell_type": "code",
   "execution_count": 45,
   "metadata": {
    "scrolled": true
   },
   "outputs": [],
   "source": [
    "# update_1.shape"
   ]
  },
  {
   "cell_type": "code",
   "execution_count": 47,
   "metadata": {},
   "outputs": [],
   "source": [
    "# plt.plot(update_1[target_column], color = 'blue')\n",
    "# plt.plot(update_1[furnace_signal_column_a], color = 'red')\n",
    "# plt.plot(update_1[furnace_signal_column_b], color = 'green')\n",
    "# # plt.legend([target_column, furnace_signal_column_a, furnace_signal_column_b], loc='upper left')\n",
    "# # plt.xlim(0,initial_dataframe.shape[0]+10)\n",
    "# # plt.xticks(np.arange(0,initial_dataframe.shape[0],))\n",
    "# plt.rcParams['figure.figsize'] = (10, 5)"
   ]
  },
  {
   "cell_type": "code",
   "execution_count": 25,
   "metadata": {},
   "outputs": [],
   "source": [
    "# Make dataframe with dateTime index\n",
    "dataframe_datetime = new_frame.set_index('dateTime')"
   ]
  },
  {
   "cell_type": "code",
   "execution_count": 25,
   "metadata": {},
   "outputs": [],
   "source": [
    "# Feature selection with Sklearn feature best technique\n",
    "sklearn_feature_best_dataframe = feature_selection_with_selectKbest(dataframe_datetime,max_best_number)"
   ]
  },
  {
   "cell_type": "code",
   "execution_count": 26,
   "metadata": {},
   "outputs": [
    {
     "data": {
      "text/html": [
       "<div>\n",
       "<style scoped>\n",
       "    .dataframe tbody tr th:only-of-type {\n",
       "        vertical-align: middle;\n",
       "    }\n",
       "\n",
       "    .dataframe tbody tr th {\n",
       "        vertical-align: top;\n",
       "    }\n",
       "\n",
       "    .dataframe thead th {\n",
       "        text-align: right;\n",
       "    }\n",
       "</style>\n",
       "<table border=\"1\" class=\"dataframe\">\n",
       "  <thead>\n",
       "    <tr style=\"text-align: right;\">\n",
       "      <th></th>\n",
       "      <th>DEWASGGP_SG4</th>\n",
       "      <th>DEO2GBHS19I2</th>\n",
       "      <th>DEWIHOBT10I0</th>\n",
       "      <th>DEO2GBHRV2I1</th>\n",
       "      <th>DEO2GBHSS2I3</th>\n",
       "      <th>AEKDWAT1__V0</th>\n",
       "      <th>DEDASGGHSAG1</th>\n",
       "      <th>DEKDHO_T8_A0</th>\n",
       "      <th>DEHGHOA_OSI0</th>\n",
       "      <th>AEWIGHG7_AG0</th>\n",
       "      <th>...</th>\n",
       "      <th>DEHGF_C_ZGI1</th>\n",
       "      <th>DEKGTWW6RSI0</th>\n",
       "      <th>AEWIHO_T7AV2</th>\n",
       "      <th>DEHGK1_R_HI0</th>\n",
       "      <th>DEHGK2_R_HI0</th>\n",
       "      <th>AEWIGHG10AG2</th>\n",
       "      <th>DEWIHOAT10I0</th>\n",
       "      <th>DEDLTSB2_FI0</th>\n",
       "      <th>DEDLV5___SI0</th>\n",
       "      <th>AEWIHO_T9AV2</th>\n",
       "    </tr>\n",
       "    <tr>\n",
       "      <th>dateTime</th>\n",
       "      <th></th>\n",
       "      <th></th>\n",
       "      <th></th>\n",
       "      <th></th>\n",
       "      <th></th>\n",
       "      <th></th>\n",
       "      <th></th>\n",
       "      <th></th>\n",
       "      <th></th>\n",
       "      <th></th>\n",
       "      <th></th>\n",
       "      <th></th>\n",
       "      <th></th>\n",
       "      <th></th>\n",
       "      <th></th>\n",
       "      <th></th>\n",
       "      <th></th>\n",
       "      <th></th>\n",
       "      <th></th>\n",
       "      <th></th>\n",
       "      <th></th>\n",
       "    </tr>\n",
       "  </thead>\n",
       "  <tbody>\n",
       "    <tr>\n",
       "      <th>2019-02-11 21:57:00</th>\n",
       "      <td>0</td>\n",
       "      <td>0</td>\n",
       "      <td>100</td>\n",
       "      <td>0</td>\n",
       "      <td>0</td>\n",
       "      <td>69.9311</td>\n",
       "      <td>100</td>\n",
       "      <td>100</td>\n",
       "      <td>0</td>\n",
       "      <td>99.9901</td>\n",
       "      <td>...</td>\n",
       "      <td>100</td>\n",
       "      <td>100</td>\n",
       "      <td>96.9916</td>\n",
       "      <td>0</td>\n",
       "      <td>0</td>\n",
       "      <td>92.6118</td>\n",
       "      <td>0</td>\n",
       "      <td>0</td>\n",
       "      <td>0</td>\n",
       "      <td>66.3871</td>\n",
       "    </tr>\n",
       "    <tr>\n",
       "      <th>2019-02-11 21:58:00</th>\n",
       "      <td>0</td>\n",
       "      <td>0</td>\n",
       "      <td>100</td>\n",
       "      <td>0</td>\n",
       "      <td>0</td>\n",
       "      <td>62.7577</td>\n",
       "      <td>100</td>\n",
       "      <td>100</td>\n",
       "      <td>0</td>\n",
       "      <td>99.9901</td>\n",
       "      <td>...</td>\n",
       "      <td>100</td>\n",
       "      <td>100</td>\n",
       "      <td>97.0196</td>\n",
       "      <td>0</td>\n",
       "      <td>0</td>\n",
       "      <td>92.4882</td>\n",
       "      <td>0</td>\n",
       "      <td>0</td>\n",
       "      <td>0</td>\n",
       "      <td>66.7652</td>\n",
       "    </tr>\n",
       "    <tr>\n",
       "      <th>2019-02-11 21:59:00</th>\n",
       "      <td>0</td>\n",
       "      <td>0</td>\n",
       "      <td>100</td>\n",
       "      <td>0</td>\n",
       "      <td>0</td>\n",
       "      <td>62.2725</td>\n",
       "      <td>100</td>\n",
       "      <td>100</td>\n",
       "      <td>0</td>\n",
       "      <td>99.9751</td>\n",
       "      <td>...</td>\n",
       "      <td>100</td>\n",
       "      <td>100</td>\n",
       "      <td>97.0106</td>\n",
       "      <td>0</td>\n",
       "      <td>0</td>\n",
       "      <td>92.55</td>\n",
       "      <td>0</td>\n",
       "      <td>0</td>\n",
       "      <td>0</td>\n",
       "      <td>66.7674</td>\n",
       "    </tr>\n",
       "    <tr>\n",
       "      <th>2019-02-11 22:00:00</th>\n",
       "      <td>0</td>\n",
       "      <td>0</td>\n",
       "      <td>100</td>\n",
       "      <td>0</td>\n",
       "      <td>0</td>\n",
       "      <td>62.204</td>\n",
       "      <td>100</td>\n",
       "      <td>100</td>\n",
       "      <td>0</td>\n",
       "      <td>99.9861</td>\n",
       "      <td>...</td>\n",
       "      <td>100</td>\n",
       "      <td>100</td>\n",
       "      <td>96.8599</td>\n",
       "      <td>0</td>\n",
       "      <td>0</td>\n",
       "      <td>92.4264</td>\n",
       "      <td>0</td>\n",
       "      <td>0</td>\n",
       "      <td>0</td>\n",
       "      <td>66.8595</td>\n",
       "    </tr>\n",
       "    <tr>\n",
       "      <th>2019-02-11 22:01:00</th>\n",
       "      <td>0</td>\n",
       "      <td>0</td>\n",
       "      <td>100</td>\n",
       "      <td>0</td>\n",
       "      <td>0</td>\n",
       "      <td>62.0337</td>\n",
       "      <td>100</td>\n",
       "      <td>100</td>\n",
       "      <td>0</td>\n",
       "      <td>99.9861</td>\n",
       "      <td>...</td>\n",
       "      <td>100</td>\n",
       "      <td>100</td>\n",
       "      <td>97.1297</td>\n",
       "      <td>0</td>\n",
       "      <td>0</td>\n",
       "      <td>92.55</td>\n",
       "      <td>0</td>\n",
       "      <td>0</td>\n",
       "      <td>0</td>\n",
       "      <td>66.87</td>\n",
       "    </tr>\n",
       "  </tbody>\n",
       "</table>\n",
       "<p>5 rows × 21 columns</p>\n",
       "</div>"
      ],
      "text/plain": [
       "                    DEWASGGP_SG4 DEO2GBHS19I2 DEWIHOBT10I0 DEO2GBHRV2I1  \\\n",
       "dateTime                                                                  \n",
       "2019-02-11 21:57:00            0            0          100            0   \n",
       "2019-02-11 21:58:00            0            0          100            0   \n",
       "2019-02-11 21:59:00            0            0          100            0   \n",
       "2019-02-11 22:00:00            0            0          100            0   \n",
       "2019-02-11 22:01:00            0            0          100            0   \n",
       "\n",
       "                    DEO2GBHSS2I3 AEKDWAT1__V0 DEDASGGHSAG1 DEKDHO_T8_A0  \\\n",
       "dateTime                                                                  \n",
       "2019-02-11 21:57:00            0      69.9311          100          100   \n",
       "2019-02-11 21:58:00            0      62.7577          100          100   \n",
       "2019-02-11 21:59:00            0      62.2725          100          100   \n",
       "2019-02-11 22:00:00            0       62.204          100          100   \n",
       "2019-02-11 22:01:00            0      62.0337          100          100   \n",
       "\n",
       "                    DEHGHOA_OSI0 AEWIGHG7_AG0  ... DEHGF_C_ZGI1 DEKGTWW6RSI0  \\\n",
       "dateTime                                       ...                             \n",
       "2019-02-11 21:57:00            0      99.9901  ...          100          100   \n",
       "2019-02-11 21:58:00            0      99.9901  ...          100          100   \n",
       "2019-02-11 21:59:00            0      99.9751  ...          100          100   \n",
       "2019-02-11 22:00:00            0      99.9861  ...          100          100   \n",
       "2019-02-11 22:01:00            0      99.9861  ...          100          100   \n",
       "\n",
       "                    AEWIHO_T7AV2 DEHGK1_R_HI0 DEHGK2_R_HI0 AEWIGHG10AG2  \\\n",
       "dateTime                                                                  \n",
       "2019-02-11 21:57:00      96.9916            0            0      92.6118   \n",
       "2019-02-11 21:58:00      97.0196            0            0      92.4882   \n",
       "2019-02-11 21:59:00      97.0106            0            0        92.55   \n",
       "2019-02-11 22:00:00      96.8599            0            0      92.4264   \n",
       "2019-02-11 22:01:00      97.1297            0            0        92.55   \n",
       "\n",
       "                    DEWIHOAT10I0 DEDLTSB2_FI0 DEDLV5___SI0 AEWIHO_T9AV2  \n",
       "dateTime                                                                 \n",
       "2019-02-11 21:57:00            0            0            0      66.3871  \n",
       "2019-02-11 21:58:00            0            0            0      66.7652  \n",
       "2019-02-11 21:59:00            0            0            0      66.7674  \n",
       "2019-02-11 22:00:00            0            0            0      66.8595  \n",
       "2019-02-11 22:01:00            0            0            0        66.87  \n",
       "\n",
       "[5 rows x 21 columns]"
      ]
     },
     "execution_count": 26,
     "metadata": {},
     "output_type": "execute_result"
    }
   ],
   "source": [
    "sklearn_feature_best_dataframe.head()"
   ]
  },
  {
   "cell_type": "code",
   "execution_count": 30,
   "metadata": {},
   "outputs": [],
   "source": [
    "# feature selection with Pearson Correlation.\n",
    "\n",
    "sklearn_correlation, main_correlation = pearson_correlation(sklearn_feature_best_dataframe, dataframe_datetime)"
   ]
  },
  {
   "cell_type": "code",
   "execution_count": 27,
   "metadata": {},
   "outputs": [],
   "source": [
    "q = dataframe_no_zero_value_target_column.corr()"
   ]
  },
  {
   "cell_type": "code",
   "execution_count": 29,
   "metadata": {},
   "outputs": [
    {
     "data": {
      "text/html": [
       "<div>\n",
       "<style scoped>\n",
       "    .dataframe tbody tr th:only-of-type {\n",
       "        vertical-align: middle;\n",
       "    }\n",
       "\n",
       "    .dataframe tbody tr th {\n",
       "        vertical-align: top;\n",
       "    }\n",
       "\n",
       "    .dataframe thead th {\n",
       "        text-align: right;\n",
       "    }\n",
       "</style>\n",
       "<table border=\"1\" class=\"dataframe\">\n",
       "  <thead>\n",
       "    <tr style=\"text-align: right;\">\n",
       "      <th></th>\n",
       "    </tr>\n",
       "  </thead>\n",
       "  <tbody>\n",
       "  </tbody>\n",
       "</table>\n",
       "</div>"
      ],
      "text/plain": [
       "Empty DataFrame\n",
       "Columns: []\n",
       "Index: []"
      ]
     },
     "execution_count": 29,
     "metadata": {},
     "output_type": "execute_result"
    }
   ],
   "source": [
    "q"
   ]
  },
  {
   "cell_type": "code",
   "execution_count": null,
   "metadata": {},
   "outputs": [],
   "source": [
    "# make a dataframe with signal who is lies between a given range of correlation threshold value\n",
    "main_frame = dataframe_datetime\n",
    "correlated_frame = main_correlation\n",
    "\n",
    "# main_frame = sklearn_feature_best_dataframe\n",
    "# correlated_frame = sklearn_correlation\n",
    "\n",
    "dataframe_high_correlation = make_dataframe_with_high_correlated_value(main_frame,correlated_frame,\n",
    "                                                             correlation_threshold_min_value, correlation_threshold_max_value)"
   ]
  },
  {
   "cell_type": "code",
   "execution_count": null,
   "metadata": {},
   "outputs": [],
   "source": [
    "dataframe_high_correlation.shape"
   ]
  },
  {
   "cell_type": "code",
   "execution_count": null,
   "metadata": {},
   "outputs": [],
   "source": [
    "dataframe_datetime.tail()"
   ]
  },
  {
   "cell_type": "code",
   "execution_count": null,
   "metadata": {},
   "outputs": [],
   "source": [
    "current_directory = os.getcwd()\n",
    "print('current_directory is: ',current_directory)\n",
    "address = 'image_folder'\n",
    "final_directory = current_directory+'/'+str(address)\n",
    "if not os.path.exists(final_directory):\n",
    "    os.makedirs(final_directory)\n",
    "    print('created : ', final_directory)\n",
    "else:\n",
    "    print(final_directory,' has already created')\n",
    "    pass"
   ]
  },
  {
   "cell_type": "code",
   "execution_count": null,
   "metadata": {},
   "outputs": [],
   "source": [
    "print(len(dataframe_high_correlation.columns))\n",
    "subfolder_1 = 'feature_vs_target'\n",
    "draw_feature_vs_target = draw_feature_vs_target(dataframe_high_correlation,final_directory,subfolder_1)"
   ]
  },
  {
   "cell_type": "code",
   "execution_count": null,
   "metadata": {},
   "outputs": [],
   "source": [
    "train_input, train_output, test_input, test_output = make_dataset(dataframe_high_correlation[0:5000])\n",
    "\n",
    "#s_array = dataframe_high_correlation.values\n",
    "model_list = [LinearRegression(),linear_model.Lasso(alpha=0.1),linear_model.Ridge(alpha=.5),\n",
    "              linear_model.BayesianRidge(), tree.DecisionTreeRegressor(max_depth=2),ExtraTreesRegressor(),\n",
    "              BaggingRegressor(ExtraTreesRegressor()),GBR()]\n",
    "name = ['LinearRegression','Lasso','Ridge','BayesianRidge','tree','ExtraTreesRegressor','BaggingRegressor','GBR']"
   ]
  },
  {
   "cell_type": "code",
   "execution_count": null,
   "metadata": {
    "scrolled": true
   },
   "outputs": [],
   "source": [
    "evaluation_metrics_file_path = final_directory+'/'+evaluation_metrics_file_name\n",
    "if not os.path.isfile(evaluation_metrics_file_path):\n",
    "    f = open(evaluation_metrics_file_path,'a')\n",
    "    f.close()\n",
    "    print('metrics file now created')\n",
    "else:\n",
    "    os.remove(evaluation_metrics_file_path)\n",
    "    f = open(evaluation_metrics_file_path,'a')\n",
    "    f.close()\n",
    "    print('metrics file removed and created')"
   ]
  },
  {
   "cell_type": "code",
   "execution_count": null,
   "metadata": {
    "scrolled": true
   },
   "outputs": [],
   "source": [
    "model = scikit_learn_model(model_list, name, train_input, train_output, test_input, test_output, final_directory, evaluation_metrics_file_path)"
   ]
  },
  {
   "cell_type": "code",
   "execution_count": null,
   "metadata": {},
   "outputs": [],
   "source": [
    "temp_frame = rearranged_dataframe.copy()\n",
    "temp_frame_1 = temp_frame.set_index('dateTime')"
   ]
  },
  {
   "cell_type": "code",
   "execution_count": null,
   "metadata": {
    "scrolled": true
   },
   "outputs": [],
   "source": [
    "# df = dataframe_date_time_type(dataframe_datetime)\n",
    "df = dataframe_date_time_type(temp_frame_1)\n",
    "\n",
    "dict_of_dates = {k: v for k, v in df.groupby('Date')}\n",
    "dict_of_day_type = {k:v for k,v in df.groupby('TypeofDAY')}\n",
    "dict_of_day_name = {k:v for k,v in df.groupby('day_name')}\n",
    "\n",
    "\n",
    "date_key_value = collections.OrderedDict(dict_of_dates)\n",
    "day_type_key_value = collections.OrderedDict(dict_of_day_type)\n",
    "day_name_key_value = collections.OrderedDict(dict_of_day_name)\n",
    "\n",
    "draw_graph_date = draw_graph(date_key_value,dict_of_dates, furnace_signal_column,final_directory, subfolder_name = 'date_fig_blast_furnace')\n",
    "draw_graph_week = draw_graph(day_type_key_value,dict_of_day_type, furnace_signal_column,final_directory, subfolder_name = 'week_fig_blast_furnace')\n",
    "draw_graph_day = draw_graph(day_name_key_value,dict_of_day_name, furnace_signal_column,final_directory, subfolder_name = 'day_fig_blast_furnace')"
   ]
  },
  {
   "cell_type": "code",
   "execution_count": null,
   "metadata": {},
   "outputs": [],
   "source": []
  },
  {
   "cell_type": "code",
   "execution_count": null,
   "metadata": {},
   "outputs": [],
   "source": []
  },
  {
   "cell_type": "code",
   "execution_count": null,
   "metadata": {},
   "outputs": [],
   "source": [
    "from keras.models import Sequential\n",
    "from keras.layers import Dense, Activation, Flatten\n",
    "from sklearn.metrics import mean_absolute_error\n",
    "from keras.callbacks import LearningRateScheduler, ModelCheckpoint"
   ]
  },
  {
   "cell_type": "code",
   "execution_count": null,
   "metadata": {},
   "outputs": [],
   "source": [
    "lr = 0.01\n",
    "\n",
    "def lr_schedule(epoch):\n",
    "    return lr * (0.1 ** int(epoch / 10))\n",
    "\n",
    "batch_size=32\n",
    "epochs= 30\n",
    "\n",
    "# define model\n",
    "def NN_model():\n",
    "    NN_model = Sequential()\n",
    "    NN_model.add(Dense(128, kernel_initializer='normal',input_dim = train_input.shape[1], activation='relu'))\n",
    "    NN_model.add(Dense(256, kernel_initializer='normal',activation='relu'))\n",
    "    NN_model.add(Dense(256, kernel_initializer='normal',activation='relu'))\n",
    "    NN_model.add(Dense(256, kernel_initializer='normal',activation='relu'))\n",
    "#     NN_model.add(Dense(1, kernel_initializer='normal',activation='relu'))\n",
    "    NN_model.add(Dense(1))\n",
    "    return NN_model\n",
    "NN_model=NN_model()\n",
    "NN_model.compile(loss='mean_absolute_error', optimizer='adam', metrics=['mean_absolute_error','accuracy'])\n",
    "NN_model.summary()"
   ]
  },
  {
   "cell_type": "code",
   "execution_count": null,
   "metadata": {
    "scrolled": false
   },
   "outputs": [],
   "source": [
    "NN_model.fit(train_input, train_output, epochs=epochs, batch_size=batch_size)"
   ]
  },
  {
   "cell_type": "code",
   "execution_count": null,
   "metadata": {},
   "outputs": [],
   "source": [
    "predicted_output = NN_model.predict(test_input)"
   ]
  },
  {
   "cell_type": "code",
   "execution_count": null,
   "metadata": {},
   "outputs": [],
   "source": [
    "from sklearn import linear_model\n",
    "from sklearn.metrics import mean_squared_error, r2_score, mean_absolute_error\n",
    "import math\n",
    "print('r_2 statistic: %.2f' % r2_score(test_output,predicted_output))\n",
    "print(\"Mean_absolute_error: %.2f\" % mean_absolute_error(test_output,predicted_output))\n",
    "print(\"Mean squared error: %.2f\" % mean_squared_error(test_output,predicted_output))\n",
    "RMSE=math.sqrt(mean_squared_error(test_output,predicted_output))\n",
    "print('RMSE: ',RMSE)"
   ]
  },
  {
   "cell_type": "code",
   "execution_count": null,
   "metadata": {},
   "outputs": [],
   "source": [
    "plt.plot((min(test_output), max(test_output)), (min(predicted_output), max(predicted_output)), color='red')\n",
    "plt.scatter(test_output, predicted_output, color='blue')"
   ]
  },
  {
   "cell_type": "code",
   "execution_count": null,
   "metadata": {},
   "outputs": [],
   "source": []
  },
  {
   "cell_type": "code",
   "execution_count": null,
   "metadata": {},
   "outputs": [],
   "source": []
  },
  {
   "cell_type": "code",
   "execution_count": null,
   "metadata": {},
   "outputs": [],
   "source": []
  },
  {
   "cell_type": "code",
   "execution_count": null,
   "metadata": {},
   "outputs": [],
   "source": []
  },
  {
   "cell_type": "code",
   "execution_count": null,
   "metadata": {},
   "outputs": [],
   "source": []
  },
  {
   "cell_type": "code",
   "execution_count": null,
   "metadata": {},
   "outputs": [],
   "source": [
    "dataframe_datetime.iloc[0:5000].plot(y = dataframe_datetime.columns[-1], use_index=True)\n",
    "plt.rcParams['figure.figsize'] =(15,5)"
   ]
  },
  {
   "cell_type": "code",
   "execution_count": null,
   "metadata": {},
   "outputs": [],
   "source": []
  }
 ],
 "metadata": {
  "kernelspec": {
   "display_name": "Python 3",
   "language": "python",
   "name": "python3"
  },
  "language_info": {
   "codemirror_mode": {
    "name": "ipython",
    "version": 3
   },
   "file_extension": ".py",
   "mimetype": "text/x-python",
   "name": "python",
   "nbconvert_exporter": "python",
   "pygments_lexer": "ipython3",
   "version": "3.6.8"
  }
 },
 "nbformat": 4,
 "nbformat_minor": 2
}
