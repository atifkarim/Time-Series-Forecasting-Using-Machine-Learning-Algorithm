{
 "cells": [
  {
   "cell_type": "code",
   "execution_count": null,
   "metadata": {},
   "outputs": [],
   "source": [
    "# import import_ipynb\n",
    "# %run data_analysis_function.ipynb\n",
    "\n",
    "\n",
    "# pd.datetime(df.column, unit ='ms')"
   ]
  },
  {
   "cell_type": "code",
   "execution_count": null,
   "metadata": {},
   "outputs": [],
   "source": [
    "import numpy as np\n",
    "a = np.zeros((156816, 36, 53806), dtype='uint8')"
   ]
  },
  {
   "cell_type": "code",
   "execution_count": null,
   "metadata": {},
   "outputs": [],
   "source": [
    "# import data_analysis_function\n",
    "a=None"
   ]
  },
  {
   "cell_type": "code",
   "execution_count": null,
   "metadata": {},
   "outputs": [],
   "source": [
    "# from ipynb.fs.full.data_analysis_function import create_dataframe\n",
    "# from ipynb.fs.full.data_analysis_function import conversion_timestamp_to_unixtime"
   ]
  },
  {
   "cell_type": "code",
   "execution_count": null,
   "metadata": {},
   "outputs": [],
   "source": [
    "# from ipynb.fs.full.data_analysis_function import remove_rw_column"
   ]
  },
  {
   "cell_type": "code",
   "execution_count": 1,
   "metadata": {},
   "outputs": [],
   "source": [
    "import json\n",
    "#import collections\n",
    "import os\n",
    "import numpy as np\n",
    "import matplotlib.pyplot as plt\n",
    "#import pandas as pd\n",
    "\n",
    "\n",
    "from sklearn.linear_model import LinearRegression\n",
    "from sklearn.ensemble import ExtraTreesRegressor\n",
    "from sklearn.ensemble import BaggingRegressor\n",
    "from sklearn.ensemble import GradientBoostingRegressor as GBR\n",
    "from sklearn import linear_model\n",
    "from sklearn import tree\n",
    "\n",
    "from dataset_analysis import create_dataframe, create_dateTime, create_month\n",
    "from dataset_analysis import specific_month_df, drop_month_year, alter_time, rearrange_frame\n",
    "from dataset_analysis import check_A_B_blast_furnace_1, no_zero_value_in_target_1, dataframe_reset_index\n",
    "from dataset_analysis import drop_nan_value, drop_unique_valued_columns, drop_string_column, dataframe_datetime\n",
    "\n",
    "from dataset_analysis import feature_selection_with_selectKbest\n",
    "from dataset_analysis import pearson_correlation\n",
    "from dataset_analysis import make_dataframe_with_high_correlated_value\n",
    "# from dataset_analysis import dataframe_date_time_type\n",
    "from dataset_analysis import draw_graph\n",
    "# from dataset_analysis import draw_feature_vs_target"
   ]
  },
  {
   "cell_type": "code",
   "execution_count": 3,
   "metadata": {},
   "outputs": [],
   "source": [
    "from model_file import make_dataset, scikit_learn_model\n",
    "from model_file import plot_graph, evaluation_metrices\n",
    "from model_file import NN_model\n",
    "from model_file import make_dataset_LSTM, split_sequence, LSTM_model"
   ]
  },
  {
   "cell_type": "code",
   "execution_count": 135,
   "metadata": {
    "scrolled": false
   },
   "outputs": [
    {
     "name": "stdout",
     "output_type": "stream",
     "text": [
      "30\n"
     ]
    }
   ],
   "source": [
    "with open('variable_config.json', 'r') as f:\n",
    "    config = json.load(f)\n",
    "\n",
    "filepath = config['DEFAULT']['file_path']\n",
    "filepath_ubuntu = config['DEFAULT']['file_path_ubuntu']\n",
    "filepath_ubuntu_1 = config['DEFAULT']['file_path_ubuntu_1']\n",
    "feb_march_file = config['DEFAULT']['feb_march_file']\n",
    "\n",
    "filepath_server_feb_march = config['DEFAULT']['file_path_server_feb_march']\n",
    "filepath_server_april_may = config['DEFAULT']['file_path_server_april_may']\n",
    "filepath_server_june_july = config['DEFAULT']['file_path_server_june_july']\n",
    "\n",
    "\n",
    "start_pos = config['DEFAULT']['start_point_dataframe']\n",
    "end_pos = config['DEFAULT']['end_point_dataframe']\n",
    "date_column = config['DEFAULT']['date_column']\n",
    "target_column = config['DEFAULT']['target_column']\n",
    "req_drop_value_target = config['DEFAULT']['req_drop_value_target']\n",
    "furnace_signal_column_a = config['DEFAULT']['blast_furnace_signal_a']\n",
    "furnace_signal_column_b = config['DEFAULT']['blast_furnace_signal_b']\n",
    "value_A = config['DEFAULT']['req_value_of_blast_furnace_A']\n",
    "value_B = config['DEFAULT']['req_value_of_blast_furnace_B']\n",
    "max_best_number = config['DEFAULT']['max_best_number']\n",
    "correlation_threshold_min_value = config['DEFAULT']['correlation_threshold_min_value']\n",
    "correlation_threshold_max_value = config['DEFAULT']['correlation_threshold_max_value']\n",
    "required_number_of_test_data = config['DEFAULT']['required_number_of_test_data']\n",
    "subfolder_feature_vs_target = config['DEFAULT']['subfolder_feature_vs_target']\n",
    "evaluation_metrics_file_name = config['DEFAULT']['evaluation_metrics_file']\n",
    "number_of_step_lstm = config['DEFAULT']['n_steps_lstm']\n",
    "epochs = config['DEFAULT']['epochs']\n",
    "batch_size = config['DEFAULT']['batch_size']\n",
    "\n",
    "\n",
    "print(epochs)"
   ]
  },
  {
   "cell_type": "code",
   "execution_count": 5,
   "metadata": {},
   "outputs": [
    {
     "name": "stdout",
     "output_type": "stream",
     "text": [
      "current_directory is:  /home/atif/machine_learning_stuff/Time-Series-Forecasting-of-a-Power-Plant/notebook_file_data_prediction\n",
      " has already created /home/atif/machine_learning_stuff/Time-Series-Forecasting-of-a-Power-Plant/notebook_file_data_prediction/image_folder\n"
     ]
    }
   ],
   "source": [
    "current_directory = os.getcwd()\n",
    "print('current_directory is: ',current_directory)\n",
    "address = 'image_folder'\n",
    "final_directory = current_directory+'/'+str(address)\n",
    "if not os.path.exists(final_directory):\n",
    "    os.makedirs(final_directory)\n",
    "    print('created : ', final_directory)\n",
    "else:\n",
    "    print(' has already created',final_directory)\n",
    "    pass"
   ]
  },
  {
   "cell_type": "code",
   "execution_count": 6,
   "metadata": {},
   "outputs": [],
   "source": [
    "# # import pandas as pd\n",
    "# # count = 0\n",
    "# # for data in pd.read_csv(filepath_server,encoding = 'ISO-8859-1',chunksize  = 1000):\n",
    "# #     count += 1                          # counting the number of chunks\n",
    "# #     lastlen = len(data)                 # finding the length of last chunk\n",
    "# # datalength = (count*1000 + lastlen - 1000) # length of total file\n",
    "\n",
    "# import multiprocessing as mp\n",
    "# print(\"Number of processors: \", mp.cpu_count())"
   ]
  },
  {
   "cell_type": "code",
   "execution_count": 7,
   "metadata": {},
   "outputs": [],
   "source": [
    "initial_dataframe = create_dataframe(filepath_server_feb_march)"
   ]
  },
  {
   "cell_type": "code",
   "execution_count": 8,
   "metadata": {
    "scrolled": true
   },
   "outputs": [
    {
     "name": "stdout",
     "output_type": "stream",
     "text": [
      "(45128, 4240)\n"
     ]
    }
   ],
   "source": [
    "print(initial_dataframe.shape)"
   ]
  },
  {
   "cell_type": "code",
   "execution_count": 9,
   "metadata": {},
   "outputs": [
    {
     "data": {
      "text/html": [
       "<div>\n",
       "<style scoped>\n",
       "    .dataframe tbody tr th:only-of-type {\n",
       "        vertical-align: middle;\n",
       "    }\n",
       "\n",
       "    .dataframe tbody tr th {\n",
       "        vertical-align: top;\n",
       "    }\n",
       "\n",
       "    .dataframe thead th {\n",
       "        text-align: right;\n",
       "    }\n",
       "</style>\n",
       "<table border=\"1\" class=\"dataframe\">\n",
       "  <thead>\n",
       "    <tr style=\"text-align: right;\">\n",
       "      <th></th>\n",
       "      <th>Unnamed: 0</th>\n",
       "      <th>longTime</th>\n",
       "      <th>AEAGHOAWE2T1</th>\n",
       "      <th>AEAGHOAWE2A0</th>\n",
       "      <th>AEAGHOAWE2T0</th>\n",
       "      <th>AEAGHOAWE1A0</th>\n",
       "      <th>AEAGHOAWE1T1</th>\n",
       "      <th>AEAGHOAWE1T0</th>\n",
       "      <th>AEAGHOAWE3T0</th>\n",
       "      <th>AEAGHOAWE3A0</th>\n",
       "      <th>...</th>\n",
       "      <th>RWWIHOUT10V1</th>\n",
       "      <th>RWWIHOT7_RV0</th>\n",
       "      <th>RWWIHOT8_RV0</th>\n",
       "      <th>RWWIHOT9_RV0</th>\n",
       "      <th>RWWIHOT10RV0</th>\n",
       "      <th>RWWIHOTSURV0</th>\n",
       "      <th>RWWIHOTSUMV0</th>\n",
       "      <th>RWWIHO_VERV0</th>\n",
       "      <th>RWWIHO_UESV0</th>\n",
       "      <th>RWWIHOSUMAV0</th>\n",
       "    </tr>\n",
       "  </thead>\n",
       "  <tbody>\n",
       "    <tr>\n",
       "      <th>0</th>\n",
       "      <td>140972</td>\n",
       "      <td>1554076740000</td>\n",
       "      <td>68.800616</td>\n",
       "      <td>38.813747</td>\n",
       "      <td>92.134679</td>\n",
       "      <td>31.640239</td>\n",
       "      <td>55.709343</td>\n",
       "      <td>89.382264</td>\n",
       "      <td>93.755293</td>\n",
       "      <td>25.978776</td>\n",
       "      <td>...</td>\n",
       "      <td>0</td>\n",
       "      <td>83.568835</td>\n",
       "      <td>41.687065</td>\n",
       "      <td>37.582423</td>\n",
       "      <td>79.148815</td>\n",
       "      <td>75.633611</td>\n",
       "      <td>68.747738</td>\n",
       "      <td>66.438534</td>\n",
       "      <td>0.678688</td>\n",
       "      <td>12.421052</td>\n",
       "    </tr>\n",
       "    <tr>\n",
       "      <th>1</th>\n",
       "      <td>140973</td>\n",
       "      <td>1554076680000</td>\n",
       "      <td>71.799463</td>\n",
       "      <td>46.388546</td>\n",
       "      <td>91.813585</td>\n",
       "      <td>30.635985</td>\n",
       "      <td>55.709343</td>\n",
       "      <td>89.382264</td>\n",
       "      <td>93.714470</td>\n",
       "      <td>28.573610</td>\n",
       "      <td>...</td>\n",
       "      <td>0</td>\n",
       "      <td>83.620740</td>\n",
       "      <td>41.687065</td>\n",
       "      <td>37.524301</td>\n",
       "      <td>79.092552</td>\n",
       "      <td>75.611684</td>\n",
       "      <td>68.382080</td>\n",
       "      <td>66.390368</td>\n",
       "      <td>0.679430</td>\n",
       "      <td>11.903316</td>\n",
       "    </tr>\n",
       "  </tbody>\n",
       "</table>\n",
       "<p>2 rows × 4240 columns</p>\n",
       "</div>"
      ],
      "text/plain": [
       "   Unnamed: 0       longTime  AEAGHOAWE2T1  AEAGHOAWE2A0  AEAGHOAWE2T0  \\\n",
       "0      140972  1554076740000     68.800616     38.813747     92.134679   \n",
       "1      140973  1554076680000     71.799463     46.388546     91.813585   \n",
       "\n",
       "   AEAGHOAWE1A0  AEAGHOAWE1T1  AEAGHOAWE1T0  AEAGHOAWE3T0  AEAGHOAWE3A0  ...  \\\n",
       "0     31.640239     55.709343     89.382264     93.755293     25.978776  ...   \n",
       "1     30.635985     55.709343     89.382264     93.714470     28.573610  ...   \n",
       "\n",
       "   RWWIHOUT10V1  RWWIHOT7_RV0  RWWIHOT8_RV0  RWWIHOT9_RV0  RWWIHOT10RV0  \\\n",
       "0             0     83.568835     41.687065     37.582423     79.148815   \n",
       "1             0     83.620740     41.687065     37.524301     79.092552   \n",
       "\n",
       "   RWWIHOTSURV0  RWWIHOTSUMV0  RWWIHO_VERV0  RWWIHO_UESV0  RWWIHOSUMAV0  \n",
       "0     75.633611     68.747738     66.438534      0.678688     12.421052  \n",
       "1     75.611684     68.382080     66.390368      0.679430     11.903316  \n",
       "\n",
       "[2 rows x 4240 columns]"
      ]
     },
     "execution_count": 9,
     "metadata": {},
     "output_type": "execute_result"
    }
   ],
   "source": [
    "initial_dataframe.head(2)"
   ]
  },
  {
   "cell_type": "code",
   "execution_count": null,
   "metadata": {},
   "outputs": [],
   "source": [
    "# temp_frame = initial_dataframe.iloc[-45128:,:]\n",
    "# temp_frame = initial_dataframe.iloc[-85349:-45128,:]\n",
    "# temp_frame = initial_dataframe.iloc[-165519:-85349,:]"
   ]
  },
  {
   "cell_type": "code",
   "execution_count": null,
   "metadata": {},
   "outputs": [],
   "source": [
    "# temp_frame.to_csv('june_july_1.csv')"
   ]
  },
  {
   "cell_type": "code",
   "execution_count": null,
   "metadata": {},
   "outputs": [],
   "source": [
    "# read = create_dataframe('june_july_1.csv')"
   ]
  },
  {
   "cell_type": "code",
   "execution_count": null,
   "metadata": {},
   "outputs": [],
   "source": [
    "# read.columns.get_loc('Unnamed: 0')"
   ]
  },
  {
   "cell_type": "code",
   "execution_count": null,
   "metadata": {},
   "outputs": [],
   "source": [
    "# read_1 = read.drop(read.columns[0], axis=1)"
   ]
  },
  {
   "cell_type": "code",
   "execution_count": null,
   "metadata": {},
   "outputs": [],
   "source": [
    "# read_1.tail(2)"
   ]
  },
  {
   "cell_type": "code",
   "execution_count": 10,
   "metadata": {},
   "outputs": [],
   "source": [
    "df_1 = create_dateTime(initial_dataframe,'row_ID','Unnamed: 0')\n",
    "# df_1 = create_dateTime(read_1)"
   ]
  },
  {
   "cell_type": "code",
   "execution_count": null,
   "metadata": {},
   "outputs": [],
   "source": [
    "# def distinct_month_1(dataframe, target_column,month_key):\n",
    "#     array_df = []\n",
    "#     for i in month_key:\n",
    "#         req_data_1=dataframe.loc[(dataframe[target_column]==i)]\n",
    "#         req_frame_1=pd.DataFrame(req_data_1,columns=dataframe.columns)\n",
    "        \n",
    "#         array_df.append(req_frame_1)\n",
    "    \n",
    "#     return array_df"
   ]
  },
  {
   "cell_type": "code",
   "execution_count": null,
   "metadata": {},
   "outputs": [],
   "source": [
    "# def draw_month(month_key_value, dict_of_month,target_column):\n",
    "#     for i in month_key_value:\n",
    "#         value = dict_of_month[i]\n",
    "#         value.iloc[:].plot(y=[target_column])\n",
    "#         plt.title('visualization of signal ' + str(target_column) + ' in time of ' + str(i))\n",
    "#         plt.xlabel('range')\n",
    "#         plt.ylabel('value')\n",
    "\n",
    "#         plt.rcParams['figure.figsize'] = (5,5)\n",
    "#         plt.savefig(str(i) + '.jpg')\n",
    "#         plt.show()"
   ]
  },
  {
   "cell_type": "code",
   "execution_count": 11,
   "metadata": {
    "scrolled": true
   },
   "outputs": [],
   "source": [
    "date_df, month_array_df = create_month(df_1, 'month', target_column)"
   ]
  },
  {
   "cell_type": "code",
   "execution_count": null,
   "metadata": {},
   "outputs": [],
   "source": [
    "# # for i in specific_month_df['month']:\n",
    "# #     print(i)\n",
    "\n",
    "# initial_dataframe = None\n",
    "# df_1 = None\n",
    "# date_df = None\n",
    "# specific_month_df = None\n",
    "# spec_month = None\n",
    "# multivariate_data = None\n",
    "# rearranged_dataframe = None\n",
    "# dataframe_x = None\n",
    "# dataframe_y = None\n",
    "# dataframe_no_zero_value_blast_furnace = None"
   ]
  },
  {
   "cell_type": "code",
   "execution_count": 12,
   "metadata": {},
   "outputs": [],
   "source": [
    "# import pandas as pd\n",
    "# def specific_month_df(dataframe,target_column_month):\n",
    "#     req_data_month=dataframe.loc[(dataframe[target_column_month]==2) | (dataframe[target_column_month]==3) |\n",
    "#                                  (dataframe[target_column_month]==4)\n",
    "#                                  | (dataframe[target_column_month]==5) | (dataframe[target_column_month]==6) | (dataframe[target_column_month]==7)\n",
    "#                                  | (dataframe[target_column_month]==8)]\n",
    "# #     req_data_month=dataframe.loc[(dataframe[target_column_month]==2|3) ]\n",
    "#     req_frame_month=pd.DataFrame(req_data_month,columns=dataframe.columns)\n",
    "    \n",
    "#     return req_frame_month\n",
    "\n",
    "specific_month_df = specific_month_df(date_df,'month')"
   ]
  },
  {
   "cell_type": "code",
   "execution_count": 13,
   "metadata": {},
   "outputs": [],
   "source": [
    "# def drop_month_year(dataframe):\n",
    "# #     dataframe = dataframe.drop(['year','month'], axis=1)\n",
    "#     dataframe = dataframe.reset_index()\n",
    "#     return dataframe\n",
    "\n",
    "# spec_month = drop_month_year(date_df)\n",
    "spec_month = drop_month_year(specific_month_df)"
   ]
  },
  {
   "cell_type": "code",
   "execution_count": null,
   "metadata": {},
   "outputs": [],
   "source": [
    "# spec_month = spec_month.iloc[:200,:]"
   ]
  },
  {
   "cell_type": "code",
   "execution_count": null,
   "metadata": {
    "scrolled": true
   },
   "outputs": [],
   "source": [
    "# df_2.columns.get_loc(target_column)\n",
    "# print(df_2.columns[4142])\n",
    "# target_df = df_2.loc[:, df_2.columns[4142]]"
   ]
  },
  {
   "cell_type": "code",
   "execution_count": null,
   "metadata": {},
   "outputs": [],
   "source": [
    "# targ = pd.DataFrame(target_df)"
   ]
  },
  {
   "cell_type": "code",
   "execution_count": null,
   "metadata": {},
   "outputs": [],
   "source": [
    "# df_month = pd.DataFrame(index=df_2.index)"
   ]
  },
  {
   "cell_type": "code",
   "execution_count": null,
   "metadata": {},
   "outputs": [],
   "source": [
    "# df_month['year'] = pd.DatetimeIndex(df_month.index).year"
   ]
  },
  {
   "cell_type": "code",
   "execution_count": null,
   "metadata": {},
   "outputs": [],
   "source": [
    "# df_month['month'] = pd.DatetimeIndex(df_month.index).month"
   ]
  },
  {
   "cell_type": "code",
   "execution_count": null,
   "metadata": {},
   "outputs": [],
   "source": [
    "# df_month"
   ]
  },
  {
   "cell_type": "code",
   "execution_count": null,
   "metadata": {
    "scrolled": false
   },
   "outputs": [],
   "source": [
    "# df_month_final = pd.concat([df_month, target_df], axis=1)\n",
    "# df_month_final.head()"
   ]
  },
  {
   "cell_type": "code",
   "execution_count": null,
   "metadata": {
    "scrolled": true
   },
   "outputs": [],
   "source": [
    "# u = initial_dataframe.columns.get_loc(\"DEWIHOAT9_I0\")\n",
    "# v = initial_dataframe.columns.get_loc(\"DEWIHOBT9_I0\")\n",
    "# w = initial_dataframe.columns.get_loc(\"DEWIHOAT8_I0\")\n",
    "# x = initial_dataframe.columns.get_loc(\"DEWIHOBT8_I0\")\n",
    "# print(u,v,w,x)"
   ]
  },
  {
   "cell_type": "markdown",
   "metadata": {},
   "source": [
    "# plotted blast furnace A and B for Turbine 8's output"
   ]
  },
  {
   "cell_type": "code",
   "execution_count": null,
   "metadata": {
    "scrolled": true
   },
   "outputs": [],
   "source": [
    "# print(initial_dataframe.shape)\n",
    "# plt.plot(initial_dataframe[\"AEWIHO_T8AV2\"], color = 'blue')\n",
    "# plt.plot(initial_dataframe[\"DEWIHOBT8_I0\"], color = 'red')\n",
    "# plt.plot(initial_dataframe[\"DEWIHOAT8_I0\"], color = 'black')\n",
    "# plt.legend([\"AEWIHO_T8AV2\", \"DEWIHOBT8_I0\",\"DEWIHOAT8_I0\"], loc='upper left')\n",
    "# # plt.xlim(0,initial_dataframe.shape[0]+10)\n",
    "# # plt.xticks(np.arange(0,initial_dataframe.shape[0],))\n",
    "# plt.rcParams['figure.figsize'] = (20, 10)"
   ]
  },
  {
   "cell_type": "markdown",
   "metadata": {},
   "source": [
    "# plotted blast furnace A and B for Turbine 9's output"
   ]
  },
  {
   "cell_type": "code",
   "execution_count": 15,
   "metadata": {},
   "outputs": [
    {
     "name": "stdout",
     "output_type": "stream",
     "text": [
      "(45128, 4240)\n"
     ]
    },
    {
     "data": {
      "image/png": "[encoded data removed]",
      "text/plain": [
       "<Figure size 864x360 with 1 Axes>"
      ]
     },
     "metadata": {
      "needs_background": "light"
     },
     "output_type": "display_data"
    }
   ],
   "source": [
    "print(initial_dataframe.shape)\n",
    "plt.plot(initial_dataframe[target_column], color = 'blue')\n",
    "plt.plot(initial_dataframe[furnace_signal_column_a], color = 'red')\n",
    "plt.plot(initial_dataframe[furnace_signal_column_b], color = 'green')\n",
    "plt.legend([target_column, furnace_signal_column_a, furnace_signal_column_b], loc='best')\n",
    "# plt.xlim(0,initial_dataframe.shape[0]+10)\n",
    "plt.xticks(np.arange(0,initial_dataframe.shape[0],5000),rotation='vertical')\n",
    "plt.xlabel('Numebr of observation')\n",
    "plt.ylabel('Value')\n",
    "# plt.savefig('blast_vs_target_pre.png',bbox_inches='tight')\n",
    "plt.rcParams['figure.figsize'] = (12,5)"
   ]
  },
  {
   "cell_type": "code",
   "execution_count": 16,
   "metadata": {},
   "outputs": [],
   "source": [
    "multivariate_data = alter_time(spec_month, start_pos,spec_month.shape[0])"
   ]
  },
  {
   "cell_type": "code",
   "execution_count": 17,
   "metadata": {},
   "outputs": [],
   "source": [
    "index_array=[0,-1]\n",
    "req_column_name = [date_column, target_column]\n",
    "# req_column_name = [date_column, furnace_signal_column]\n",
    "rearranged_dataframe = rearrange_frame(multivariate_data,req_column_name,index_array)"
   ]
  },
  {
   "cell_type": "code",
   "execution_count": 18,
   "metadata": {},
   "outputs": [],
   "source": [
    "dataframe_no_zero_value_blast_furnace = check_A_B_blast_furnace_1(rearranged_dataframe, furnace_signal_column_a, value_A,\n",
    "                                                               furnace_signal_column_b, value_B)"
   ]
  },
  {
   "cell_type": "code",
   "execution_count": null,
   "metadata": {},
   "outputs": [],
   "source": [
    "# dataframe_x = dataframe_no_zero_value_blast_furnace.reset_index()\n",
    "# dataframe_y = dataframe_x.drop(['index'], axis=1)"
   ]
  },
  {
   "cell_type": "code",
   "execution_count": null,
   "metadata": {},
   "outputs": [],
   "source": [
    "# print(dataframe_y.shape)\n",
    "# plt.plot(dataframe_y[target_column], color = 'blue')\n",
    "# plt.plot(dataframe_y[furnace_signal_column_a], color = 'red')\n",
    "# plt.plot(dataframe_y[furnace_signal_column_b], color = 'green')\n",
    "# plt.legend([target_column, furnace_signal_column_a, furnace_signal_column_b], loc='best')\n",
    "# # plt.xlim(0,initial_dataframe.shape[0]+10)\n",
    "# plt.xticks(np.arange(0,dataframe_y.shape[0],5000),rotation='vertical')\n",
    "# plt.xlabel('Numebr of observation')\n",
    "# plt.ylabel('Value')\n",
    "# plt.savefig('blast_vs_target_vanish_furnace_zero.png',bbox_inches='tight')\n",
    "# plt.rcParams['figure.figsize'] = (12,5)"
   ]
  },
  {
   "cell_type": "code",
   "execution_count": null,
   "metadata": {},
   "outputs": [],
   "source": [
    "# no_zero_furnace_1 = check_A_B_blast_furnace(rearranged_dataframe, furnace_signal_column_a, value_A,\n",
    "#                                                                furnace_signal_column_b, value_B)"
   ]
  },
  {
   "cell_type": "code",
   "execution_count": null,
   "metadata": {},
   "outputs": [],
   "source": [
    "# no_zero_furnace_1.dtypes"
   ]
  },
  {
   "cell_type": "code",
   "execution_count": null,
   "metadata": {},
   "outputs": [],
   "source": [
    "# print(no_zero_furnace.shape)\n",
    "# print(type(no_zero_furnace))\n",
    "\n",
    "# print(no_zero_furnace_1.shape)\n",
    "# print(type(no_zero_furnace_1))\n",
    "\n",
    "\n",
    "# rearranged_dataframe.head()"
   ]
  },
  {
   "cell_type": "code",
   "execution_count": null,
   "metadata": {},
   "outputs": [],
   "source": [
    "# new_frame = pd.concat([first_col, sec_col], axis=1)"
   ]
  },
  {
   "cell_type": "code",
   "execution_count": null,
   "metadata": {},
   "outputs": [],
   "source": [
    "# for i in rearranged_dataframe:\n",
    "#     if rearranged_dataframe[i].dtypes == 'object':\n",
    "# #         rearranged_dataframe.loc[:,i].apply(pd.to_numeric)\n",
    "        \n",
    "#         print(i)"
   ]
  },
  {
   "cell_type": "code",
   "execution_count": null,
   "metadata": {
    "scrolled": true
   },
   "outputs": [],
   "source": [
    "# for i in rearranged_dataframe:\n",
    "#     if rearranged_dataframe[i].dtypes == '<M8[ns]' or rearranged_dataframe[i].dtypes == 'object':\n",
    "# #         rearranged_dataframe.loc[:,i].apply(pd.to_numeric)\n",
    "        \n",
    "#         print(i)\n",
    "    "
   ]
  },
  {
   "cell_type": "code",
   "execution_count": null,
   "metadata": {
    "scrolled": true
   },
   "outputs": [],
   "source": [
    "# increase_1=0\n",
    "# count_array_2 = []\n",
    "# for i,v in enumerate(rearranged_dataframe[furnace_signal_column_a]):\n",
    "    \n",
    "#     if v < 98 and rearranged_dataframe.iloc[i][furnace_signal_column_b] <100:\n",
    "        \n",
    "# #         print(\"i: \",i,\" ,blast A: \",v,\" ,blast B: \",rearranged_dataframe.iloc[i][furnace_signal_column_b])\n",
    "#         count_array_2 = np.append(count_array_2, i)\n",
    "#         increase_1+=1"
   ]
  },
  {
   "cell_type": "code",
   "execution_count": 19,
   "metadata": {},
   "outputs": [],
   "source": [
    "dataframe_no_zero_value_target_column = no_zero_value_in_target_1(dataframe_no_zero_value_blast_furnace,target_column, req_drop_value_target)"
   ]
  },
  {
   "cell_type": "code",
   "execution_count": null,
   "metadata": {
    "scrolled": false
   },
   "outputs": [],
   "source": [
    "# plt.plot(dataframe_no_zero_value_blast_furnace[target_column], color = 'blue')\n",
    "# plt.plot(dataframe_no_zero_value_blast_furnace[furnace_signal_column_a], color = 'red')\n",
    "# plt.plot(dataframe_no_zero_value_blast_furnace[furnace_signal_column_b], color = 'green')\n",
    "# # plt.legend([target_column, furnace_signal_column_a, furnace_signal_column_b], loc='upper left')\n",
    "# # plt.xlim(0,initial_dataframe.shape[0]+10)\n",
    "# # plt.xticks(np.arange(0,initial_dataframe.shape[0],))\n",
    "# plt.rcParams['figure.figsize'] = (10, 5)\n",
    "\n",
    "# dataframe_no_zero_value_target_column = None"
   ]
  },
  {
   "cell_type": "code",
   "execution_count": 20,
   "metadata": {},
   "outputs": [
    {
     "name": "stdout",
     "output_type": "stream",
     "text": [
      "(43982, 4241)\n"
     ]
    }
   ],
   "source": [
    "dataframe_no_zero_value_target_column_2 = dataframe_reset_index(dataframe_no_zero_value_target_column)\n",
    "print(dataframe_no_zero_value_target_column_2.shape)"
   ]
  },
  {
   "cell_type": "code",
   "execution_count": 21,
   "metadata": {
    "scrolled": false
   },
   "outputs": [
    {
     "data": {
      "image/png": "[encoded data removed]",
      "text/plain": [
       "<Figure size 864x360 with 1 Axes>"
      ]
     },
     "metadata": {
      "needs_background": "light"
     },
     "output_type": "display_data"
    }
   ],
   "source": [
    "plt.plot(dataframe_no_zero_value_target_column_2[target_column], color = 'blue')\n",
    "plt.plot(dataframe_no_zero_value_target_column_2[furnace_signal_column_a], color = 'red')\n",
    "plt.plot(dataframe_no_zero_value_target_column_2[furnace_signal_column_b], color = 'green')\n",
    "plt.legend([target_column, furnace_signal_column_a, furnace_signal_column_b], loc='center left')\n",
    "# plt.xlim(0,initial_dataframe.shape[0]+10)\n",
    "plt.xticks(np.arange(0,dataframe_no_zero_value_target_column_2.shape[0],5000),rotation='vertical')\n",
    "plt.xlabel('Numebr of observation')\n",
    "plt.ylabel('Value')\n",
    "# plt.savefig('blast_vs_target_post.png',bbox_inches='tight')\n",
    "plt.rcParams['figure.figsize'] = (12, 5)"
   ]
  },
  {
   "cell_type": "code",
   "execution_count": null,
   "metadata": {},
   "outputs": [],
   "source": [
    "# dataframe_no_zero_value_target_column = no_zero_value_in_target(dataframe_no_zero_value_blast_furnace,target_column, req_drop_value_target)"
   ]
  },
  {
   "cell_type": "code",
   "execution_count": null,
   "metadata": {},
   "outputs": [],
   "source": [
    "# qq = dataframe_no_zero_value_target_column.apply(pd.to_numeric)"
   ]
  },
  {
   "cell_type": "code",
   "execution_count": null,
   "metadata": {},
   "outputs": [],
   "source": [
    "# qq['dateTime'].dtypes"
   ]
  },
  {
   "cell_type": "code",
   "execution_count": null,
   "metadata": {},
   "outputs": [],
   "source": [
    "# drop_object = dataframe_no_zero_value_target_column.select_dtypes(exclude=['object'])"
   ]
  },
  {
   "cell_type": "code",
   "execution_count": null,
   "metadata": {},
   "outputs": [],
   "source": [
    "# Drop the column which has sam evalue in every ROW\n",
    "# dataframe_drop_column_with_same_value = drop_column_with_same_value(dataframe_no_zero_value_target_column)"
   ]
  },
  {
   "cell_type": "code",
   "execution_count": 22,
   "metadata": {},
   "outputs": [],
   "source": [
    "# Drop the ROW which has NAN value\n",
    "multivariate_data_drop_nan = drop_nan_value(dataframe_no_zero_value_target_column_2)"
   ]
  },
  {
   "cell_type": "code",
   "execution_count": null,
   "metadata": {},
   "outputs": [],
   "source": [
    "# nunique = multivariate_data_drop_nan.apply(pd.Series.nunique)\n",
    "# cols_to_drop = nunique[nunique == 1].index\n",
    "# dataframe_drop_column_with_same_value = multivariate_data_drop_nan.drop(cols_to_drop, axis=1)"
   ]
  },
  {
   "cell_type": "code",
   "execution_count": 23,
   "metadata": {},
   "outputs": [],
   "source": [
    "dataframe_drop_column_with_same_value = drop_unique_valued_columns(multivariate_data_drop_nan)"
   ]
  },
  {
   "cell_type": "code",
   "execution_count": null,
   "metadata": {},
   "outputs": [],
   "source": [
    "# dataframe_drop_column_with_same_value = drop_column_with_same_value(multivariate_data_drop_nan)"
   ]
  },
  {
   "cell_type": "code",
   "execution_count": null,
   "metadata": {},
   "outputs": [],
   "source": [
    "# Drop the row who has consecutive same value\n",
    "# dataframe_drop_row_consecutive_same_value = drop_row(multivariate_data_drop_nan)"
   ]
  },
  {
   "cell_type": "code",
   "execution_count": null,
   "metadata": {},
   "outputs": [],
   "source": [
    "# dataframe_drop_row_consecutive_same_value= multivariate_data_drop_nan"
   ]
  },
  {
   "cell_type": "code",
   "execution_count": 24,
   "metadata": {},
   "outputs": [],
   "source": [
    "# Drop the column who has 'objet' type value\n",
    "dataframe_no_string = drop_string_column(dataframe_drop_column_with_same_value)"
   ]
  },
  {
   "cell_type": "code",
   "execution_count": 25,
   "metadata": {},
   "outputs": [
    {
     "data": {
      "text/plain": [
       "dateTime        datetime64[ns]\n",
       "AEAGHOAWE2T1           float64\n",
       "AEAGHOAWE2A0           float64\n",
       "AEAGHOAWE2T0           float64\n",
       "AEAGHOAWE1A0           float64\n",
       "                     ...      \n",
       "RWWIHOTSUMV0           float64\n",
       "RWWIHO_VERV0           float64\n",
       "RWWIHO_UESV0           float64\n",
       "RWWIHOSUMAV0           float64\n",
       "AEWIHO_T9AV2           float64\n",
       "Length: 2923, dtype: object"
      ]
     },
     "execution_count": 25,
     "metadata": {},
     "output_type": "execute_result"
    }
   ],
   "source": [
    "dataframe_no_string.dtypes"
   ]
  },
  {
   "cell_type": "code",
   "execution_count": null,
   "metadata": {},
   "outputs": [],
   "source": []
  },
  {
   "cell_type": "code",
   "execution_count": null,
   "metadata": {},
   "outputs": [],
   "source": []
  },
  {
   "cell_type": "code",
   "execution_count": null,
   "metadata": {},
   "outputs": [],
   "source": []
  },
  {
   "cell_type": "code",
   "execution_count": null,
   "metadata": {},
   "outputs": [],
   "source": []
  },
  {
   "cell_type": "code",
   "execution_count": 26,
   "metadata": {},
   "outputs": [],
   "source": [
    "initial_dataframe = None\n",
    "date_df = None\n",
    "specific_month_df = None\n",
    "spec_month = None\n",
    "rearranged_dataframe = None\n",
    "multivariate_data = None\n",
    "dataframe_no_zero_value_blast_furnace = None\n",
    "dataframe_no_zero_value_target_column = None\n",
    "multivariate_data_drop_nan = None\n",
    "dataframe_drop_column_with_same_value = None"
   ]
  },
  {
   "cell_type": "code",
   "execution_count": null,
   "metadata": {},
   "outputs": [],
   "source": [
    "# dataframe_drop_row_consecutive_same_value = drop_row(dataframe_no_string)"
   ]
  },
  {
   "cell_type": "code",
   "execution_count": 27,
   "metadata": {
    "scrolled": false
   },
   "outputs": [
    {
     "name": "stdout",
     "output_type": "stream",
     "text": [
      "(43982, 2923)\n"
     ]
    },
    {
     "data": {
      "image/png": "[encoded data removed]",
      "text/plain": [
       "<Figure size 864x360 with 1 Axes>"
      ]
     },
     "metadata": {
      "needs_background": "light"
     },
     "output_type": "display_data"
    }
   ],
   "source": [
    "print(dataframe_no_string.shape)\n",
    "\n",
    "plt.plot(dataframe_no_string[target_column], color = 'blue')\n",
    "# plt.plot(dataframe_no_string[furnace_signal_column_a], color = 'red')\n",
    "# plt.plot(dataframe_no_string[furnace_signal_column_b], color = 'green')\n",
    "# plt.legend([target_column, furnace_signal_column_a, furnace_signal_column_b], loc='upper left')\n",
    "plt.legend([target_column], loc='best')\n",
    "plt.xticks(np.arange(0,dataframe_no_string.shape[0],1000),rotation='vertical')\n",
    "plt.xlabel('Numebr of observation')\n",
    "plt.ylabel('Value')\n",
    "# plt.savefig('final_target_column.png',bbox_inches='tight')\n",
    "# plt.xlim(0,initial_dataframe.shape[0]+10)\n",
    "# plt.xticks(np.arange(0,initial_dataframe.shape[0],))\n",
    "plt.rcParams['figure.figsize'] = (12, 5)"
   ]
  },
  {
   "cell_type": "markdown",
   "metadata": {},
   "source": [
    "# drop column who has always same value"
   ]
  },
  {
   "cell_type": "code",
   "execution_count": null,
   "metadata": {},
   "outputs": [],
   "source": [
    "# new_frame = multivariate_data_drop_nan.drop(multivariate_data_drop_nan.std()[(multivariate_data_drop_nan.std() == 0)].index, axis=1)"
   ]
  },
  {
   "cell_type": "code",
   "execution_count": null,
   "metadata": {},
   "outputs": [],
   "source": [
    "# cols = multivariate_data_drop_nan.select_dtypes([np.number]).columns\n",
    "# diff = multivariate_data_drop_nan[cols].diff().sum()\n",
    "# no_same_value_column = multivariate_data_drop_nan.drop(diff[diff == 0].index, axis=1)"
   ]
  },
  {
   "cell_type": "code",
   "execution_count": null,
   "metadata": {
    "scrolled": true
   },
   "outputs": [],
   "source": [
    "# print(dataframe_drop_column_with_same_value.shape)\n",
    "# print(multivariate_data_drop_nan.shape)\n",
    "# print(dataframe_drop_row_consecutive_same_value.shape)\n",
    "# print(dataframe_no_string.shape)\n",
    "# print(new_frame.shape)"
   ]
  },
  {
   "cell_type": "code",
   "execution_count": 28,
   "metadata": {},
   "outputs": [],
   "source": [
    "# Make dataframe with dateTime index\n",
    "dataframe_datetime = dataframe_datetime(dataframe_no_string)"
   ]
  },
  {
   "cell_type": "code",
   "execution_count": 29,
   "metadata": {},
   "outputs": [
    {
     "data": {
      "text/plain": [
       "(43982, 2922)"
      ]
     },
     "execution_count": 29,
     "metadata": {},
     "output_type": "execute_result"
    }
   ],
   "source": [
    "dataframe_datetime.shape"
   ]
  },
  {
   "cell_type": "code",
   "execution_count": 30,
   "metadata": {},
   "outputs": [],
   "source": [
    "# Feature selection with Sklearn feature best technique\n",
    "sklearn_feature_best_dataframe = feature_selection_with_selectKbest(dataframe_datetime,max_best_number)"
   ]
  },
  {
   "cell_type": "code",
   "execution_count": 31,
   "metadata": {},
   "outputs": [],
   "source": [
    "# feature selection with Pearson Correlation.\n",
    "sklearn_correlation, main_correlation = pearson_correlation(sklearn_feature_best_dataframe, dataframe_datetime)"
   ]
  },
  {
   "cell_type": "code",
   "execution_count": null,
   "metadata": {},
   "outputs": [],
   "source": [
    "# correlation_csv = main_correlation.to_csv('high_correlation_feb_march_april_may.csv')"
   ]
  },
  {
   "cell_type": "code",
   "execution_count": null,
   "metadata": {},
   "outputs": [],
   "source": [
    "# dataframe_datetime.to_csv('dataframe_datetime_feb_march_april_may.csv')"
   ]
  },
  {
   "cell_type": "code",
   "execution_count": 103,
   "metadata": {},
   "outputs": [],
   "source": [
    "# make a dataframe with signal who is lies between a given range of correlation threshold value\n",
    "main_frame = dataframe_datetime\n",
    "correlated_frame = main_correlation\n",
    "\n",
    "# main_frame = sklearn_feature_best_dataframe\n",
    "# correlated_frame = sklearn_correlation\n",
    "\n",
    "dataframe_high_correlation = make_dataframe_with_high_correlated_value(main_frame,correlated_frame,\n",
    "                                                             correlation_threshold_min_value, correlation_threshold_max_value)"
   ]
  },
  {
   "cell_type": "code",
   "execution_count": 104,
   "metadata": {
    "scrolled": false
   },
   "outputs": [
    {
     "name": "stdout",
     "output_type": "stream",
     "text": [
      "(43982, 4)\n"
     ]
    },
    {
     "data": {
      "text/html": [
       "<div>\n",
       "<style scoped>\n",
       "    .dataframe tbody tr th:only-of-type {\n",
       "        vertical-align: middle;\n",
       "    }\n",
       "\n",
       "    .dataframe tbody tr th {\n",
       "        vertical-align: top;\n",
       "    }\n",
       "\n",
       "    .dataframe thead th {\n",
       "        text-align: right;\n",
       "    }\n",
       "</style>\n",
       "<table border=\"1\" class=\"dataframe\">\n",
       "  <thead>\n",
       "    <tr style=\"text-align: right;\">\n",
       "      <th></th>\n",
       "      <th>RWWIHOBG9_V0</th>\n",
       "      <th>AEWIGHG9__P0</th>\n",
       "      <th>AEWIGHG9__T0</th>\n",
       "      <th>AEWIHO_T9AV2</th>\n",
       "    </tr>\n",
       "  </thead>\n",
       "  <tbody>\n",
       "    <tr>\n",
       "      <th>count</th>\n",
       "      <td>43982.000000</td>\n",
       "      <td>43982.000000</td>\n",
       "      <td>43982.000000</td>\n",
       "      <td>43982.000000</td>\n",
       "    </tr>\n",
       "    <tr>\n",
       "      <th>mean</th>\n",
       "      <td>64.260755</td>\n",
       "      <td>82.044461</td>\n",
       "      <td>77.888892</td>\n",
       "      <td>75.408309</td>\n",
       "    </tr>\n",
       "    <tr>\n",
       "      <th>std</th>\n",
       "      <td>30.286731</td>\n",
       "      <td>8.561464</td>\n",
       "      <td>5.660269</td>\n",
       "      <td>4.142153</td>\n",
       "    </tr>\n",
       "    <tr>\n",
       "      <th>min</th>\n",
       "      <td>0.000000</td>\n",
       "      <td>9.853600</td>\n",
       "      <td>37.072978</td>\n",
       "      <td>61.020431</td>\n",
       "    </tr>\n",
       "    <tr>\n",
       "      <th>25%</th>\n",
       "      <td>74.612018</td>\n",
       "      <td>78.339536</td>\n",
       "      <td>75.197192</td>\n",
       "      <td>73.414111</td>\n",
       "    </tr>\n",
       "    <tr>\n",
       "      <th>50%</th>\n",
       "      <td>77.344752</td>\n",
       "      <td>84.047312</td>\n",
       "      <td>78.973621</td>\n",
       "      <td>75.582311</td>\n",
       "    </tr>\n",
       "    <tr>\n",
       "      <th>75%</th>\n",
       "      <td>78.843572</td>\n",
       "      <td>88.140525</td>\n",
       "      <td>81.832457</td>\n",
       "      <td>77.020827</td>\n",
       "    </tr>\n",
       "    <tr>\n",
       "      <th>max</th>\n",
       "      <td>100.000000</td>\n",
       "      <td>100.000000</td>\n",
       "      <td>91.486047</td>\n",
       "      <td>97.591043</td>\n",
       "    </tr>\n",
       "  </tbody>\n",
       "</table>\n",
       "</div>"
      ],
      "text/plain": [
       "       RWWIHOBG9_V0  AEWIGHG9__P0  AEWIGHG9__T0  AEWIHO_T9AV2\n",
       "count  43982.000000  43982.000000  43982.000000  43982.000000\n",
       "mean      64.260755     82.044461     77.888892     75.408309\n",
       "std       30.286731      8.561464      5.660269      4.142153\n",
       "min        0.000000      9.853600     37.072978     61.020431\n",
       "25%       74.612018     78.339536     75.197192     73.414111\n",
       "50%       77.344752     84.047312     78.973621     75.582311\n",
       "75%       78.843572     88.140525     81.832457     77.020827\n",
       "max      100.000000    100.000000     91.486047     97.591043"
      ]
     },
     "execution_count": 104,
     "metadata": {},
     "output_type": "execute_result"
    }
   ],
   "source": [
    "print(dataframe_high_correlation.shape)\n",
    "dataframe_high_correlation.describe()"
   ]
  },
  {
   "cell_type": "code",
   "execution_count": 105,
   "metadata": {},
   "outputs": [
    {
     "data": {
      "text/html": [
       "<div>\n",
       "<style scoped>\n",
       "    .dataframe tbody tr th:only-of-type {\n",
       "        vertical-align: middle;\n",
       "    }\n",
       "\n",
       "    .dataframe tbody tr th {\n",
       "        vertical-align: top;\n",
       "    }\n",
       "\n",
       "    .dataframe thead th {\n",
       "        text-align: right;\n",
       "    }\n",
       "</style>\n",
       "<table border=\"1\" class=\"dataframe\">\n",
       "  <thead>\n",
       "    <tr style=\"text-align: right;\">\n",
       "      <th></th>\n",
       "      <th>RWWIHOBG9_V0</th>\n",
       "      <th>AEWIGHG9__P0</th>\n",
       "      <th>AEWIGHG9__T0</th>\n",
       "      <th>AEWIHO_T9AV2</th>\n",
       "    </tr>\n",
       "    <tr>\n",
       "      <th>dateTime</th>\n",
       "      <th></th>\n",
       "      <th></th>\n",
       "      <th></th>\n",
       "      <th></th>\n",
       "    </tr>\n",
       "  </thead>\n",
       "  <tbody>\n",
       "    <tr>\n",
       "      <th>2019-02-11 20:57:00</th>\n",
       "      <td>3.165909e-19</td>\n",
       "      <td>64.401098</td>\n",
       "      <td>63.413868</td>\n",
       "      <td>66.387058</td>\n",
       "    </tr>\n",
       "    <tr>\n",
       "      <th>2019-02-11 20:58:00</th>\n",
       "      <td>3.165909e-19</td>\n",
       "      <td>63.977060</td>\n",
       "      <td>63.408894</td>\n",
       "      <td>66.765225</td>\n",
       "    </tr>\n",
       "  </tbody>\n",
       "</table>\n",
       "</div>"
      ],
      "text/plain": [
       "                     RWWIHOBG9_V0  AEWIGHG9__P0  AEWIGHG9__T0  AEWIHO_T9AV2\n",
       "dateTime                                                                   \n",
       "2019-02-11 20:57:00  3.165909e-19     64.401098     63.413868     66.387058\n",
       "2019-02-11 20:58:00  3.165909e-19     63.977060     63.408894     66.765225"
      ]
     },
     "execution_count": 105,
     "metadata": {},
     "output_type": "execute_result"
    }
   ],
   "source": [
    "dataframe_high_correlation.head(2)"
   ]
  },
  {
   "cell_type": "code",
   "execution_count": 106,
   "metadata": {},
   "outputs": [],
   "source": [
    "dataframe_resample = dataframe_high_correlation.resample('1min').mean()\n",
    "dataframe_resample_copy = dataframe_resample.copy()\n",
    "dataframe_resample_copy = dataframe_resample_copy.reset_index()"
   ]
  },
  {
   "cell_type": "code",
   "execution_count": 107,
   "metadata": {},
   "outputs": [
    {
     "data": {
      "text/html": [
       "<div>\n",
       "<style scoped>\n",
       "    .dataframe tbody tr th:only-of-type {\n",
       "        vertical-align: middle;\n",
       "    }\n",
       "\n",
       "    .dataframe tbody tr th {\n",
       "        vertical-align: top;\n",
       "    }\n",
       "\n",
       "    .dataframe thead th {\n",
       "        text-align: right;\n",
       "    }\n",
       "</style>\n",
       "<table border=\"1\" class=\"dataframe\">\n",
       "  <thead>\n",
       "    <tr style=\"text-align: right;\">\n",
       "      <th></th>\n",
       "      <th>RWWIHOBG9_V0</th>\n",
       "      <th>AEWIGHG9__P0</th>\n",
       "      <th>AEWIGHG9__T0</th>\n",
       "      <th>AEWIHO_T9AV2</th>\n",
       "    </tr>\n",
       "    <tr>\n",
       "      <th>dateTime</th>\n",
       "      <th></th>\n",
       "      <th></th>\n",
       "      <th></th>\n",
       "      <th></th>\n",
       "    </tr>\n",
       "  </thead>\n",
       "  <tbody>\n",
       "    <tr>\n",
       "      <th>2019-02-11 20:57:00</th>\n",
       "      <td>3.165909e-19</td>\n",
       "      <td>64.401098</td>\n",
       "      <td>63.413868</td>\n",
       "      <td>66.387058</td>\n",
       "    </tr>\n",
       "    <tr>\n",
       "      <th>2019-02-11 20:58:00</th>\n",
       "      <td>3.165909e-19</td>\n",
       "      <td>63.977060</td>\n",
       "      <td>63.408894</td>\n",
       "      <td>66.765225</td>\n",
       "    </tr>\n",
       "  </tbody>\n",
       "</table>\n",
       "</div>"
      ],
      "text/plain": [
       "                     RWWIHOBG9_V0  AEWIGHG9__P0  AEWIGHG9__T0  AEWIHO_T9AV2\n",
       "dateTime                                                                   \n",
       "2019-02-11 20:57:00  3.165909e-19     64.401098     63.413868     66.387058\n",
       "2019-02-11 20:58:00  3.165909e-19     63.977060     63.408894     66.765225"
      ]
     },
     "execution_count": 107,
     "metadata": {},
     "output_type": "execute_result"
    }
   ],
   "source": [
    "dataframe_resample.head(2)"
   ]
  },
  {
   "cell_type": "code",
   "execution_count": 108,
   "metadata": {},
   "outputs": [
    {
     "name": "stdout",
     "output_type": "stream",
     "text": [
      "(69303, 5)\n"
     ]
    },
    {
     "data": {
      "image/png": "[encoded data removed]",
      "text/plain": [
       "<Figure size 864x360 with 1 Axes>"
      ]
     },
     "metadata": {
      "needs_background": "light"
     },
     "output_type": "display_data"
    }
   ],
   "source": [
    "print(dataframe_resample_copy.shape)\n",
    "\n",
    "plt.plot(dataframe_resample_copy[target_column], color = 'blue')\n",
    "plt.legend([target_column], loc='best')\n",
    "# plt.xticks(np.arange(dataframe_resample.index[0],dataframe_resample.index[-1]),rotation='vertical')\n",
    "# plt.xticks(rotation = 'vertical')\n",
    "plt.xlabel('Numebr of observation')\n",
    "plt.ylabel('Value')\n",
    "# plt.xlim(dataframe_resample_copy.index[0],dataframe_resample_copy.index[-1])\n",
    "plt.xticks(np.arange(0,dataframe_resample_copy.shape[0],5000),rotation='vertical')\n",
    "# plt.savefig('resample.png',bbox_inches='tight')\n",
    "plt.rcParams['figure.figsize'] = (12, 5)"
   ]
  },
  {
   "cell_type": "code",
   "execution_count": 109,
   "metadata": {},
   "outputs": [],
   "source": [
    "dataframe_interpolate = dataframe_resample.interpolate('linear')\n",
    "dataframe_interpolate_copy = dataframe_interpolate.copy()\n",
    "dataframe_interpolate_copy = dataframe_interpolate_copy.reset_index()"
   ]
  },
  {
   "cell_type": "code",
   "execution_count": 110,
   "metadata": {
    "scrolled": true
   },
   "outputs": [
    {
     "name": "stdout",
     "output_type": "stream",
     "text": [
      "(69303, 5)\n"
     ]
    },
    {
     "data": {
      "image/png": "[encoded data removed]",
      "text/plain": [
       "<Figure size 864x360 with 1 Axes>"
      ]
     },
     "metadata": {
      "needs_background": "light"
     },
     "output_type": "display_data"
    }
   ],
   "source": [
    "print(dataframe_interpolate_copy.shape)\n",
    "plt.plot(dataframe_interpolate_copy[target_column], color = 'blue')\n",
    "plt.legend([target_column], loc='best')\n",
    "# plt.xticks(np.arange(dataframe_resample.index[0],dataframe_resample.index[-1]),rotation='vertical')\n",
    "# plt.xticks(rotation = 'vertical')\n",
    "plt.xlabel('Numebr of observation')\n",
    "plt.ylabel('Value')\n",
    "# plt.xlim(dataframe_interpolate.index[0],dataframe_interpolate.index[-1]+5)\n",
    "plt.xticks(np.arange(0,dataframe_interpolate_copy.shape[0],5000),rotation = 'vertical')\n",
    "# plt.savefig('interpolation.png',bbox_inches='tight')\n",
    "plt.rcParams['figure.figsize'] = (12, 5)"
   ]
  },
  {
   "cell_type": "code",
   "execution_count": null,
   "metadata": {},
   "outputs": [],
   "source": []
  },
  {
   "cell_type": "code",
   "execution_count": null,
   "metadata": {},
   "outputs": [],
   "source": []
  },
  {
   "cell_type": "markdown",
   "metadata": {},
   "source": [
    "# make test dataset from another file"
   ]
  },
  {
   "cell_type": "code",
   "execution_count": 237,
   "metadata": {},
   "outputs": [
    {
     "name": "stdout",
     "output_type": "stream",
     "text": [
      "loaded dataframe shape:  (40221, 4240)\n",
      "here  (40221, 4240)\n",
      "here_1  (40221, 4240)\n",
      "here_2  (40221, 4241)\n"
     ]
    }
   ],
   "source": [
    "def make_testing_set_from_another_file(datafile_path,target_column,date_column, furnace_signal_column_a,furnace_signal_column_b,value_A,value_B,\n",
    "                                      req_drop_value_target, max_best_number, correlation_threshold_min_value, correlation_threshold_max_value, start_pos):\n",
    "    dataframe = create_dataframe(datafile_path)\n",
    "    \n",
    "    print('loaded dataframe shape: ',dataframe.shape)\n",
    "    dataframe = create_dateTime(dataframe,'row_ID','Unnamed: 0')\n",
    "    dataframe, month_array = create_month(dataframe, 'month', target_column)\n",
    "    print('here ', dataframe.shape)\n",
    "    dataframe.dtypes\n",
    "    \n",
    "    def specific_month_df(dataframe, target_column_month):\n",
    "        req_data_month = dataframe.loc[(dataframe[target_column_month] == 4) | (dataframe[target_column_month] == 5)]\n",
    "    #     req_data_month=dataframe.loc[(dataframe[target_column_month]==2|3) ]\n",
    "        req_frame_month = pd.DataFrame(req_data_month, columns=dataframe.columns)\n",
    "\n",
    "        return req_frame_month\n",
    "    dataframe = specific_month_df(dataframe,'month')\n",
    "    \n",
    "    print('here_1 ', dataframe.shape)\n",
    "    dataframe.dtypes\n",
    "    \n",
    "    dataframe = drop_month_year(dataframe)\n",
    "    dataframe = alter_time(dataframe, start_pos,dataframe.shape[0])\n",
    "    \n",
    "    print('here_2 ', dataframe.shape)\n",
    "    dataframe.dtypes\n",
    "    \n",
    "    index_array=[0,-1]\n",
    "    req_column_name = [date_column, target_column]\n",
    "#     req_column_name = [date_column, furnace_signal_column]\n",
    "    dataframe = rearrange_frame(dataframe,req_column_name,index_array)\n",
    "    \n",
    "    dataframe = check_A_B_blast_furnace_1(dataframe, furnace_signal_column_a, value_A,furnace_signal_column_b, value_B)\n",
    "    dataframe = no_zero_value_in_target_1(dataframe,target_column, req_drop_value_target)\n",
    "    dataframe = dataframe_reset_index(dataframe)\n",
    "    dataframe = drop_nan_value(dataframe)\n",
    "    dataframe = drop_unique_valued_columns(dataframe)\n",
    "    dataframe = drop_string_column(dataframe)\n",
    "    dataframe = dataframe.set_index('dateTime')\n",
    "#     dataframe = dataframe_datetime(dataframe)\n",
    "    \n",
    "    sklearn_feature_best_dataframe = feature_selection_with_selectKbest(dataframe,max_best_number)\n",
    "    sklearn_correlation, main_correlation = pearson_correlation(sklearn_feature_best_dataframe, dataframe)\n",
    "    \n",
    "    main_frame = dataframe\n",
    "    correlated_frame = main_correlation\n",
    "    \n",
    "    dataframe = make_dataframe_with_high_correlated_value(main_frame,correlated_frame,\n",
    "                                                             correlation_threshold_min_value, correlation_threshold_max_value)\n",
    "    dataframe = dataframe.resample('1min').mean()\n",
    "    dataframe = dataframe.interpolate('linear')\n",
    "    \n",
    "    return dataframe\n",
    "    \n",
    "dataframe_for_testing = make_testing_set_from_another_file(filepath_server_april_may,target_column,date_column,furnace_signal_column_a, \n",
    "                                                           furnace_signal_column_b,value_A, value_B, req_drop_value_target, max_best_number, \n",
    "                                                           correlation_threshold_min_value, correlation_threshold_max_value, start_pos)\n",
    "\n",
    "\n",
    "\n",
    "    "
   ]
  },
  {
   "cell_type": "code",
   "execution_count": 243,
   "metadata": {},
   "outputs": [
    {
     "name": "stdout",
     "output_type": "stream",
     "text": [
      "(500, 6)\n",
      "(500, 1)\n"
     ]
    }
   ],
   "source": [
    "dataframe_for_testing_array = np.array(dataframe_for_testing)\n",
    "new_test_input = dataframe_for_testing_array[:500,:-1]\n",
    "new_test_output = dataframe_for_testing_array[:500,-1]\n",
    "new_test_output = np.reshape(new_test_output,(-1,1))\n",
    "\n",
    "print(new_test_input.shape)\n",
    "print(new_test_output.shape)"
   ]
  },
  {
   "cell_type": "code",
   "execution_count": null,
   "metadata": {},
   "outputs": [],
   "source": []
  },
  {
   "cell_type": "code",
   "execution_count": null,
   "metadata": {},
   "outputs": [],
   "source": [
    "# dataframe_interpolate_poly = dataframe_resample.interpolate('time')"
   ]
  },
  {
   "cell_type": "code",
   "execution_count": null,
   "metadata": {},
   "outputs": [],
   "source": [
    "# print(dataframe_interpolate_poly.shape)\n",
    "# plt.plot(dataframe_interpolate_poly[target_column], color = 'blue')\n",
    "# plt.legend([target_column], loc='best')\n",
    "# # plt.xticks(np.arange(dataframe_resample.index[0],dataframe_resample.index[-1]),rotation='vertical')\n",
    "# # plt.xticks(rotation = 'vertical')\n",
    "# plt.xlabel('Numebr of observation')\n",
    "# plt.ylabel('Value')\n",
    "# # plt.xlim(dataframe_interpolate.index[0],dataframe_interpolate.index[-1]+5)\n",
    "# # plt.xticks(np.arange(0,dataframe_interpolate_poly.shape[0],5000),rotation = 'vertical')\n",
    "# # plt.savefig('interpolation.png',bbox_inches='tight')\n",
    "# plt.rcParams['figure.figsize'] = (12, 5)"
   ]
  },
  {
   "cell_type": "code",
   "execution_count": null,
   "metadata": {},
   "outputs": [],
   "source": []
  },
  {
   "cell_type": "code",
   "execution_count": null,
   "metadata": {},
   "outputs": [],
   "source": [
    "# multivariate_column_label = ['AEDATZ_HONP0','AEDATZK_ASP0','AEDATZ_HO_V0','AEDAHO_T9_V2','AEWIHO_T9AV2'] #rmse error 1.94\n"
   ]
  },
  {
   "cell_type": "code",
   "execution_count": null,
   "metadata": {
    "scrolled": true
   },
   "outputs": [],
   "source": [
    "# for i in dataframe_high_correlation:\n",
    "#     plt.plot(dataframe_high_correlation[i])\n",
    "#     plt.title(str(i))\n",
    "#     plt.show()\n",
    "    \n",
    "    \n",
    "#     # plt.plot(dataframe_high_correlation['AEWIHOBKF_V0'])"
   ]
  },
  {
   "cell_type": "code",
   "execution_count": null,
   "metadata": {},
   "outputs": [],
   "source": [
    "# dataframe_high_correlation_1 = dataframe_high_correlation.drop(['AEWIHOBKF_V0'], axis=1)\n",
    "# print(dataframe_high_correlation_1.shape)\n",
    "# plt.plot(dataframe_datetime['DEDAHGGHSZG1'], color = 'blue')"
   ]
  },
  {
   "cell_type": "code",
   "execution_count": null,
   "metadata": {},
   "outputs": [],
   "source": [
    "# current_directory = os.getcwd()\n",
    "# print('current_directory is: ',current_directory)\n",
    "# address = 'image_folder'\n",
    "# final_directory = current_directory+'/'+str(address)\n",
    "# if not os.path.exists(final_directory):\n",
    "#     os.makedirs(final_directory)\n",
    "#     print('created : ', final_directory)\n",
    "# else:\n",
    "#     print(' has already created',final_directory)\n",
    "#     pass"
   ]
  },
  {
   "cell_type": "code",
   "execution_count": 74,
   "metadata": {},
   "outputs": [
    {
     "name": "stdout",
     "output_type": "stream",
     "text": [
      "Today's date: 2019-10-11\n"
     ]
    }
   ],
   "source": [
    "from datetime import date\n",
    "today = date.today()\n",
    "print(\"Today's date:\", today)"
   ]
  },
  {
   "cell_type": "code",
   "execution_count": 40,
   "metadata": {},
   "outputs": [
    {
     "data": {
      "text/plain": [
       "(43982, 4)"
      ]
     },
     "execution_count": 40,
     "metadata": {},
     "output_type": "execute_result"
    }
   ],
   "source": [
    "dataframe_high_correlation.shape"
   ]
  },
  {
   "cell_type": "code",
   "execution_count": null,
   "metadata": {
    "scrolled": true
   },
   "outputs": [],
   "source": [
    "from dataset_analysis import draw_feature_vs_target\n",
    "print(len(dataframe_high_correlation.columns))\n",
    "subfolder_1 = 'feature_vs_target'+'_'+str(today)\n",
    "draw_feature_vs_target = draw_feature_vs_target(dataframe_interpolate,final_directory,subfolder_1)"
   ]
  },
  {
   "cell_type": "code",
   "execution_count": 46,
   "metadata": {},
   "outputs": [],
   "source": [
    "def make_dataset(dataframe, required_number_of_test_data):\n",
    "    dataset = np.array(dataframe)\n",
    "    \n",
    "    go_for_training = int(len(dataset)-required_number_of_test_data)\n",
    "    print('go_for_training: ', go_for_training)\n",
    "    print('required_number_of_test_data: ', required_number_of_test_data)\n",
    "    percentage = go_for_training/int(len(dataset))\n",
    "    print('percentage: ',percentage)\n",
    "    \n",
    "    NumberOfElements = int(len(dataset) * percentage)\n",
    "    print('Number of Elements for training: ', NumberOfElements)\n",
    "    print('dataset length: ', len(dataset))\n",
    "\n",
    "    train_input = dataset[0:NumberOfElements, 0:-1]\n",
    "    print('train_input shape: ', train_input.shape)\n",
    "    train_output = dataset[0:NumberOfElements, -1]\n",
    "    print('train_output shape: ', train_output.shape)\n",
    "\n",
    "    test_input = dataset[NumberOfElements:len(dataset), 0:-1]\n",
    "    test_output = dataset[NumberOfElements:len(dataset), -1]\n",
    "    \n",
    "\n",
    "#     test_input = test_input[500:560]\n",
    "#     test_output = test_output[500:560]\n",
    "    print('test_input shape: ', test_input.shape)\n",
    "    print('test_output shape: ', test_output.shape)\n",
    "\n",
    "    return train_input, train_output, test_input, test_output"
   ]
  },
  {
   "cell_type": "code",
   "execution_count": 75,
   "metadata": {},
   "outputs": [
    {
     "data": {
      "text/html": [
       "<div>\n",
       "<style scoped>\n",
       "    .dataframe tbody tr th:only-of-type {\n",
       "        vertical-align: middle;\n",
       "    }\n",
       "\n",
       "    .dataframe tbody tr th {\n",
       "        vertical-align: top;\n",
       "    }\n",
       "\n",
       "    .dataframe thead th {\n",
       "        text-align: right;\n",
       "    }\n",
       "</style>\n",
       "<table border=\"1\" class=\"dataframe\">\n",
       "  <thead>\n",
       "    <tr style=\"text-align: right;\">\n",
       "      <th></th>\n",
       "      <th>DEDATK_206I0</th>\n",
       "      <th>RWDAHOBG9_V0</th>\n",
       "      <th>AEDAHO_T9_V2</th>\n",
       "      <th>RWDATZ_HO_V1</th>\n",
       "      <th>AEDAKWM1OFF0</th>\n",
       "      <th>AEDAKWM2OFF0</th>\n",
       "      <th>AEDAKWM3OFF0</th>\n",
       "      <th>AEDAKW80SWP0</th>\n",
       "      <th>AEDAKWK1SWP0</th>\n",
       "      <th>AEDAKWK2SWP0</th>\n",
       "      <th>...</th>\n",
       "      <th>AEELGLBASWL3</th>\n",
       "      <th>AEBWTSB__AV0</th>\n",
       "      <th>DEWIHOBT9_I0</th>\n",
       "      <th>RWWIHOBG9_V0</th>\n",
       "      <th>AEWIGHG9__P0</th>\n",
       "      <th>AEWIGHG9__T0</th>\n",
       "      <th>AEWIHOBKF_V0</th>\n",
       "      <th>RWWIHOBT9_V0</th>\n",
       "      <th>RWWIHOUT9_V1</th>\n",
       "      <th>AEWIHO_T9AV2</th>\n",
       "    </tr>\n",
       "    <tr>\n",
       "      <th>dateTime</th>\n",
       "      <th></th>\n",
       "      <th></th>\n",
       "      <th></th>\n",
       "      <th></th>\n",
       "      <th></th>\n",
       "      <th></th>\n",
       "      <th></th>\n",
       "      <th></th>\n",
       "      <th></th>\n",
       "      <th></th>\n",
       "      <th></th>\n",
       "      <th></th>\n",
       "      <th></th>\n",
       "      <th></th>\n",
       "      <th></th>\n",
       "      <th></th>\n",
       "      <th></th>\n",
       "      <th></th>\n",
       "      <th></th>\n",
       "      <th></th>\n",
       "      <th></th>\n",
       "    </tr>\n",
       "  </thead>\n",
       "  <tbody>\n",
       "    <tr>\n",
       "      <th>2019-02-11 20:57:00</th>\n",
       "      <td>0.0</td>\n",
       "      <td>1.291106e-15</td>\n",
       "      <td>53.060006</td>\n",
       "      <td>35.085015</td>\n",
       "      <td>0.0</td>\n",
       "      <td>0.0</td>\n",
       "      <td>0.0</td>\n",
       "      <td>0.0</td>\n",
       "      <td>0.0</td>\n",
       "      <td>0.0</td>\n",
       "      <td>...</td>\n",
       "      <td>0.0</td>\n",
       "      <td>51.776329</td>\n",
       "      <td>0.0</td>\n",
       "      <td>3.165909e-19</td>\n",
       "      <td>64.401098</td>\n",
       "      <td>63.413868</td>\n",
       "      <td>0.0</td>\n",
       "      <td>0.0</td>\n",
       "      <td>0.0</td>\n",
       "      <td>66.387058</td>\n",
       "    </tr>\n",
       "    <tr>\n",
       "      <th>2019-02-11 20:58:00</th>\n",
       "      <td>0.0</td>\n",
       "      <td>1.291106e-15</td>\n",
       "      <td>54.769975</td>\n",
       "      <td>35.664017</td>\n",
       "      <td>0.0</td>\n",
       "      <td>0.0</td>\n",
       "      <td>0.0</td>\n",
       "      <td>0.0</td>\n",
       "      <td>0.0</td>\n",
       "      <td>0.0</td>\n",
       "      <td>...</td>\n",
       "      <td>0.0</td>\n",
       "      <td>47.478277</td>\n",
       "      <td>0.0</td>\n",
       "      <td>3.165909e-19</td>\n",
       "      <td>63.977060</td>\n",
       "      <td>63.408894</td>\n",
       "      <td>0.0</td>\n",
       "      <td>0.0</td>\n",
       "      <td>0.0</td>\n",
       "      <td>66.765225</td>\n",
       "    </tr>\n",
       "  </tbody>\n",
       "</table>\n",
       "<p>2 rows × 24 columns</p>\n",
       "</div>"
      ],
      "text/plain": [
       "                     DEDATK_206I0  RWDAHOBG9_V0  AEDAHO_T9_V2  RWDATZ_HO_V1  \\\n",
       "dateTime                                                                      \n",
       "2019-02-11 20:57:00           0.0  1.291106e-15     53.060006     35.085015   \n",
       "2019-02-11 20:58:00           0.0  1.291106e-15     54.769975     35.664017   \n",
       "\n",
       "                     AEDAKWM1OFF0  AEDAKWM2OFF0  AEDAKWM3OFF0  AEDAKW80SWP0  \\\n",
       "dateTime                                                                      \n",
       "2019-02-11 20:57:00           0.0           0.0           0.0           0.0   \n",
       "2019-02-11 20:58:00           0.0           0.0           0.0           0.0   \n",
       "\n",
       "                     AEDAKWK1SWP0  AEDAKWK2SWP0  ...  AEELGLBASWL3  \\\n",
       "dateTime                                         ...                 \n",
       "2019-02-11 20:57:00           0.0           0.0  ...           0.0   \n",
       "2019-02-11 20:58:00           0.0           0.0  ...           0.0   \n",
       "\n",
       "                     AEBWTSB__AV0  DEWIHOBT9_I0  RWWIHOBG9_V0  AEWIGHG9__P0  \\\n",
       "dateTime                                                                      \n",
       "2019-02-11 20:57:00     51.776329           0.0  3.165909e-19     64.401098   \n",
       "2019-02-11 20:58:00     47.478277           0.0  3.165909e-19     63.977060   \n",
       "\n",
       "                     AEWIGHG9__T0  AEWIHOBKF_V0  RWWIHOBT9_V0  RWWIHOUT9_V1  \\\n",
       "dateTime                                                                      \n",
       "2019-02-11 20:57:00     63.413868           0.0           0.0           0.0   \n",
       "2019-02-11 20:58:00     63.408894           0.0           0.0           0.0   \n",
       "\n",
       "                     AEWIHO_T9AV2  \n",
       "dateTime                           \n",
       "2019-02-11 20:57:00     66.387058  \n",
       "2019-02-11 20:58:00     66.765225  \n",
       "\n",
       "[2 rows x 24 columns]"
      ]
     },
     "execution_count": 75,
     "metadata": {},
     "output_type": "execute_result"
    }
   ],
   "source": [
    "dataframe_interpolate.head(2)"
   ]
  },
  {
   "cell_type": "code",
   "execution_count": 111,
   "metadata": {},
   "outputs": [
    {
     "name": "stdout",
     "output_type": "stream",
     "text": [
      "go_for_training:  69103\n",
      "required_number_of_test_data:  200\n",
      "percentage:  0.9971141220437788\n",
      "Number of Elements for training:  69103\n",
      "dataset length:  69303\n",
      "train_input shape:  (69103, 3)\n",
      "train_output shape:  (69103,)\n",
      "test_input shape:  (200, 3)\n",
      "test_output shape:  (200,)\n"
     ]
    }
   ],
   "source": [
    "train_input, train_output, test_input, test_output = make_dataset(dataframe_interpolate,required_number_of_test_data)\n",
    "\n",
    "#s_array = dataframe_high_correlation.values\n",
    "model_list = [LinearRegression(fit_intercept=True),linear_model.Lasso(alpha=0.1),linear_model.Ridge(alpha=.5),\n",
    "              linear_model.BayesianRidge(), tree.DecisionTreeRegressor(max_depth=2),ExtraTreesRegressor(),\n",
    "              BaggingRegressor(ExtraTreesRegressor()),GBR()]\n",
    "name = ['LinearRegression','Lasso','Ridge','BayesianRidge','tree','ExtraTreesRegressor','BaggingRegressor','GBR']"
   ]
  },
  {
   "cell_type": "code",
   "execution_count": 112,
   "metadata": {
    "scrolled": true
   },
   "outputs": [
    {
     "name": "stdout",
     "output_type": "stream",
     "text": [
      "metrics file removed and created\n"
     ]
    }
   ],
   "source": [
    "evaluation_metrics_file_path = final_directory+'/'+evaluation_metrics_file_name\n",
    "if not os.path.isfile(evaluation_metrics_file_path):\n",
    "    f = open(evaluation_metrics_file_path,'a')\n",
    "    f.close()\n",
    "    print('metrics file now created')\n",
    "else:\n",
    "    os.remove(evaluation_metrics_file_path)\n",
    "    f = open(evaluation_metrics_file_path,'a')\n",
    "    f.close()\n",
    "    print('metrics file removed and created')"
   ]
  },
  {
   "cell_type": "code",
   "execution_count": null,
   "metadata": {
    "scrolled": false
   },
   "outputs": [],
   "source": [
    "model = scikit_learn_model(model_list, name, train_input, train_output, test_input, test_output, final_directory, evaluation_metrics_file_path)"
   ]
  },
  {
   "cell_type": "code",
   "execution_count": null,
   "metadata": {
    "scrolled": false
   },
   "outputs": [],
   "source": [
    "# rowData = dataframe_datetime.loc[ '2019-08-16 11:20:00' :, : ]\n",
    "# print(type(rowData))\n",
    "# print(rowData.shape)\n",
    "# rowData.head(3)\n",
    "\n",
    "dataframe_high_correlation.tail()"
   ]
  },
  {
   "cell_type": "code",
   "execution_count": null,
   "metadata": {
    "scrolled": true
   },
   "outputs": [],
   "source": [
    "df = dataframe_date_time_type(dataframe_high_correlation)\n",
    "# df = dataframe_date_time_type(temp_frame_1)\n",
    "\n",
    "dict_of_dates = {k: v for k, v in df.groupby('Date')}\n",
    "dict_of_day_type = {k:v for k,v in df.groupby('TypeofDAY')}\n",
    "dict_of_day_name = {k:v for k,v in df.groupby('day_name')}\n",
    "\n",
    "\n",
    "date_key_value = collections.OrderedDict(dict_of_dates)\n",
    "day_type_key_value = collections.OrderedDict(dict_of_day_type)\n",
    "day_name_key_value = collections.OrderedDict(dict_of_day_name)\n",
    "\n",
    "draw_graph_date = draw_graph(date_key_value,dict_of_dates, target_column,final_directory, subfolder_name = '3_date_fig_target')\n",
    "draw_graph_week = draw_graph(day_type_key_value,dict_of_day_type, target_column,final_directory, subfolder_name = '3_week_fig_target')\n",
    "draw_graph_day = draw_graph(day_name_key_value,dict_of_day_name, target_column,final_directory, subfolder_name = '3_day_fig_target')"
   ]
  },
  {
   "cell_type": "code",
   "execution_count": 51,
   "metadata": {},
   "outputs": [
    {
     "name": "stdout",
     "output_type": "stream",
     "text": [
      "(500, 3)\n",
      "(500,)\n",
      "##########\n",
      "(10, 3)\n",
      "(10,)\n"
     ]
    }
   ],
   "source": [
    "train_ip_reg = train_input[0:500,:]\n",
    "train_op_reg = train_output[0:500]\n",
    "\n",
    "test_ip_reg = test_input[0:10,:]\n",
    "test_op_reg = test_output[0:10]\n",
    "\n",
    "print(train_ip_reg.shape)\n",
    "print(train_op_reg.shape)\n",
    "\n",
    "print('#'*10)\n",
    "\n",
    "print(test_ip_reg.shape)\n",
    "print(test_op_reg.shape)"
   ]
  },
  {
   "cell_type": "code",
   "execution_count": 44,
   "metadata": {},
   "outputs": [],
   "source": [
    "from sklearn import *"
   ]
  },
  {
   "cell_type": "code",
   "execution_count": 94,
   "metadata": {},
   "outputs": [
    {
     "name": "stderr",
     "output_type": "stream",
     "text": [
      "/home/atif/iai_ml_venv/lib/python3.6/site-packages/sklearn/ensemble/forest.py:245: FutureWarning: The default value of n_estimators will change from 10 in version 0.20 to 100 in 0.22.\n",
      "  \"10 in version 0.20 to 100 in 0.22.\", FutureWarning)\n"
     ]
    },
    {
     "data": {
      "text/plain": [
       "ExtraTreesRegressor(bootstrap=False, criterion='mse', max_depth=None,\n",
       "                    max_features='auto', max_leaf_nodes=None,\n",
       "                    min_impurity_decrease=0.0, min_impurity_split=None,\n",
       "                    min_samples_leaf=1, min_samples_split=2,\n",
       "                    min_weight_fraction_leaf=0.0, n_estimators=10, n_jobs=None,\n",
       "                    oob_score=False, random_state=None, verbose=0,\n",
       "                    warm_start=False)"
      ]
     },
     "execution_count": 94,
     "metadata": {},
     "output_type": "execute_result"
    }
   ],
   "source": [
    "my_model = ExtraTreesRegressor()\n",
    "# my_model = sklearn.linear_model.LinearRegression(fit_intercept=True)\n",
    "# my_model = linear_model.SGDRegressor(max_iter=1000, tol=1e-3)\n",
    "my_model.fit(train_input, train_output)\n",
    "# my_model.fit(train_ip_reg, train_op_reg)"
   ]
  },
  {
   "cell_type": "code",
   "execution_count": 244,
   "metadata": {},
   "outputs": [
    {
     "ename": "ValueError",
     "evalue": "Number of features of the model must match the input. Model n_features is 23 and input n_features is 6 ",
     "output_type": "error",
     "traceback": [
      "\u001b[0;31m---------------------------------------------------------------------------\u001b[0m",
      "\u001b[0;31mValueError\u001b[0m                                Traceback (most recent call last)",
      "\u001b[0;32m<ipython-input-244-9b1c923690db>\u001b[0m in \u001b[0;36m<module>\u001b[0;34m\u001b[0m\n\u001b[0;32m----> 1\u001b[0;31m \u001b[0mmy_pred\u001b[0m \u001b[0;34m=\u001b[0m \u001b[0mmy_model\u001b[0m\u001b[0;34m.\u001b[0m\u001b[0mpredict\u001b[0m\u001b[0;34m(\u001b[0m\u001b[0mnew_test_input\u001b[0m\u001b[0;34m)\u001b[0m\u001b[0;34m\u001b[0m\u001b[0;34m\u001b[0m\u001b[0m\n\u001b[0m",
      "\u001b[0;32m~/iai_ml_venv/lib/python3.6/site-packages/sklearn/ensemble/forest.py\u001b[0m in \u001b[0;36mpredict\u001b[0;34m(self, X)\u001b[0m\n\u001b[1;32m    691\u001b[0m         \u001b[0mcheck_is_fitted\u001b[0m\u001b[0;34m(\u001b[0m\u001b[0mself\u001b[0m\u001b[0;34m,\u001b[0m \u001b[0;34m'estimators_'\u001b[0m\u001b[0;34m)\u001b[0m\u001b[0;34m\u001b[0m\u001b[0;34m\u001b[0m\u001b[0m\n\u001b[1;32m    692\u001b[0m         \u001b[0;31m# Check data\u001b[0m\u001b[0;34m\u001b[0m\u001b[0;34m\u001b[0m\u001b[0;34m\u001b[0m\u001b[0m\n\u001b[0;32m--> 693\u001b[0;31m         \u001b[0mX\u001b[0m \u001b[0;34m=\u001b[0m \u001b[0mself\u001b[0m\u001b[0;34m.\u001b[0m\u001b[0m_validate_X_predict\u001b[0m\u001b[0;34m(\u001b[0m\u001b[0mX\u001b[0m\u001b[0;34m)\u001b[0m\u001b[0;34m\u001b[0m\u001b[0;34m\u001b[0m\u001b[0m\n\u001b[0m\u001b[1;32m    694\u001b[0m \u001b[0;34m\u001b[0m\u001b[0m\n\u001b[1;32m    695\u001b[0m         \u001b[0;31m# Assign chunk of trees to jobs\u001b[0m\u001b[0;34m\u001b[0m\u001b[0;34m\u001b[0m\u001b[0;34m\u001b[0m\u001b[0m\n",
      "\u001b[0;32m~/iai_ml_venv/lib/python3.6/site-packages/sklearn/ensemble/forest.py\u001b[0m in \u001b[0;36m_validate_X_predict\u001b[0;34m(self, X)\u001b[0m\n\u001b[1;32m    357\u001b[0m                                  \"call `fit` before exploiting the model.\")\n\u001b[1;32m    358\u001b[0m \u001b[0;34m\u001b[0m\u001b[0m\n\u001b[0;32m--> 359\u001b[0;31m         \u001b[0;32mreturn\u001b[0m \u001b[0mself\u001b[0m\u001b[0;34m.\u001b[0m\u001b[0mestimators_\u001b[0m\u001b[0;34m[\u001b[0m\u001b[0;36m0\u001b[0m\u001b[0;34m]\u001b[0m\u001b[0;34m.\u001b[0m\u001b[0m_validate_X_predict\u001b[0m\u001b[0;34m(\u001b[0m\u001b[0mX\u001b[0m\u001b[0;34m,\u001b[0m \u001b[0mcheck_input\u001b[0m\u001b[0;34m=\u001b[0m\u001b[0;32mTrue\u001b[0m\u001b[0;34m)\u001b[0m\u001b[0;34m\u001b[0m\u001b[0;34m\u001b[0m\u001b[0m\n\u001b[0m\u001b[1;32m    360\u001b[0m \u001b[0;34m\u001b[0m\u001b[0m\n\u001b[1;32m    361\u001b[0m     \u001b[0;34m@\u001b[0m\u001b[0mproperty\u001b[0m\u001b[0;34m\u001b[0m\u001b[0;34m\u001b[0m\u001b[0m\n",
      "\u001b[0;32m~/iai_ml_venv/lib/python3.6/site-packages/sklearn/tree/tree.py\u001b[0m in \u001b[0;36m_validate_X_predict\u001b[0;34m(self, X, check_input)\u001b[0m\n\u001b[1;32m    400\u001b[0m                              \u001b[0;34m\"match the input. Model n_features is %s and \"\u001b[0m\u001b[0;34m\u001b[0m\u001b[0;34m\u001b[0m\u001b[0m\n\u001b[1;32m    401\u001b[0m                              \u001b[0;34m\"input n_features is %s \"\u001b[0m\u001b[0;34m\u001b[0m\u001b[0;34m\u001b[0m\u001b[0m\n\u001b[0;32m--> 402\u001b[0;31m                              % (self.n_features_, n_features))\n\u001b[0m\u001b[1;32m    403\u001b[0m \u001b[0;34m\u001b[0m\u001b[0m\n\u001b[1;32m    404\u001b[0m         \u001b[0;32mreturn\u001b[0m \u001b[0mX\u001b[0m\u001b[0;34m\u001b[0m\u001b[0;34m\u001b[0m\u001b[0m\n",
      "\u001b[0;31mValueError\u001b[0m: Number of features of the model must match the input. Model n_features is 23 and input n_features is 6 "
     ]
    }
   ],
   "source": [
    "my_pred = my_model.predict(new_test_input)"
   ]
  },
  {
   "cell_type": "code",
   "execution_count": 96,
   "metadata": {},
   "outputs": [
    {
     "data": {
      "text/plain": [
       "[<matplotlib.lines.Line2D at 0x7f83b2015e10>]"
      ]
     },
     "execution_count": 96,
     "metadata": {},
     "output_type": "execute_result"
    },
    {
     "data": {
      "image/png": "[encoded data removed]",
      "text/plain": [
       "<Figure size 864x360 with 1 Axes>"
      ]
     },
     "metadata": {
      "needs_background": "light"
     },
     "output_type": "display_data"
    },
    {
     "data": {
      "image/png": "[encoded data removed]",
      "text/plain": [
       "<Figure size 864x360 with 1 Axes>"
      ]
     },
     "metadata": {
      "needs_background": "light"
     },
     "output_type": "display_data"
    }
   ],
   "source": [
    "plt.plot((min(test_output), max(test_output)), (min(my_pred), max(my_pred)), color='red')\n",
    "plt.scatter(test_output, my_pred, color='blue')\n",
    "\n",
    "plt.figure()\n",
    "\n",
    "difference = test_output-my_pred\n",
    "plt.plot(difference)\n",
    "\n",
    "# plt.plot((min(test_op_reg), max(test_op_reg)), (min(my_pred), max(my_pred)), color='red')\n",
    "# plt.scatter(test_op_reg, my_pred, color='blue')"
   ]
  },
  {
   "cell_type": "code",
   "execution_count": 97,
   "metadata": {},
   "outputs": [
    {
     "name": "stdout",
     "output_type": "stream",
     "text": [
      "r_2 statistic: 1.00\n",
      "Mean_absolute_error: 0.05\n",
      "Mean squared error: 0.01\n",
      "RMSE:  0.098003143399497\n"
     ]
    }
   ],
   "source": [
    "test_op_reg = test_output\n",
    "from sklearn import linear_model\n",
    "from sklearn.metrics import mean_squared_error, r2_score, mean_absolute_error\n",
    "import math\n",
    "print('r_2 statistic: %.2f' % r2_score(test_op_reg,my_pred))\n",
    "print(\"Mean_absolute_error: %.2f\" % mean_absolute_error(test_op_reg,my_pred))\n",
    "print(\"Mean squared error: %.2f\" % mean_squared_error(test_op_reg,my_pred))\n",
    "RMSE=math.sqrt(mean_squared_error(test_op_reg,my_pred))\n",
    "print('RMSE: ',RMSE)"
   ]
  },
  {
   "cell_type": "code",
   "execution_count": 68,
   "metadata": {},
   "outputs": [],
   "source": [
    "import graphviz \n",
    "dot_data = tree.export_graphviz(my_model, out_file='mytree_1.dot',feature_names =['f1','f2','f3'])"
   ]
  },
  {
   "cell_type": "code",
   "execution_count": null,
   "metadata": {
    "scrolled": false
   },
   "outputs": [],
   "source": [
    "from sklearn import tree  \n",
    "import pydotplus\n",
    "\n",
    "try:\n",
    "    from StringIO import StringIO ## for Python 2\n",
    "except ImportError:\n",
    "    from io import StringIO ## for Python 3\n",
    "\n",
    "dotfile = StringIO()\n",
    "tree.export_graphviz(my_model, out_file=dot_data.dot)\n",
    "# graph=pydotplus.graph_from_dot_data(dotfile.getvalue())\n",
    "(graph,)=pydot.graph_from_dot_data(dotfile.getvalue())\n",
    "\n",
    "graph.write_png(\"dtree.png\")"
   ]
  },
  {
   "cell_type": "code",
   "execution_count": null,
   "metadata": {},
   "outputs": [],
   "source": [
    "tree.export_graphviz(my_model, out_file='newtree.dot') #produces dot file\n",
    "\n",
    "import pydot\n",
    "dotfile = StringIO()\n",
    "tree.export_graphviz(my_model, out_file=dotfile)\n",
    "pydot.graph_from_dot_data(dotfile.getvalue()).write_png(\"dtree2.png\")"
   ]
  },
  {
   "cell_type": "code",
   "execution_count": null,
   "metadata": {},
   "outputs": [],
   "source": [
    "from sklearn.externals.six import StringIO  \n",
    "from IPython.display import Image  \n",
    "from sklearn.tree import export_graphviz\n",
    "import pydotplus\n",
    "dot_data = StringIO()\n",
    "export_graphviz(my_model, out_file=dot_data,  \n",
    "                filled=True, rounded=True,\n",
    "                special_characters=True)\n",
    "graph = pydotplus.graph_from_dot_data(dot_data.getvalue())  \n",
    "Image(graph.create_png())"
   ]
  },
  {
   "cell_type": "markdown",
   "metadata": {},
   "source": [
    "# scikit learn Learning Curve"
   ]
  },
  {
   "cell_type": "code",
   "execution_count": 210,
   "metadata": {},
   "outputs": [
    {
     "name": "stdout",
     "output_type": "stream",
     "text": [
      "Training scores:\n",
      "\n",
      " [[-1.04787942e-09 -1.47581849e-06 -1.47388436e-06 -1.47234039e-06\n",
      "  -1.47232673e-06 -1.47232635e-06 -1.47233755e-06 -1.47234369e-06\n",
      "  -1.47233179e-06 -1.55630136e-06]\n",
      " [-1.92522028e-09 -3.24518140e-06 -3.21824891e-06 -3.21877352e-06\n",
      "  -3.21913072e-06 -3.21877152e-06 -3.21893607e-06 -3.21881031e-06\n",
      "  -3.21889054e-06 -3.21877380e-06]\n",
      " [-1.65942442e-09 -1.90297380e-06 -1.90206533e-06 -1.90240721e-06\n",
      "  -1.90352841e-06 -1.90269878e-06 -1.90288596e-06 -1.90261341e-06\n",
      "  -1.90485119e-06 -1.90273138e-06]\n",
      " [-2.14165080e-09 -1.35155643e-06 -1.35093969e-06 -1.35135518e-06\n",
      "  -1.35109733e-06 -1.35119719e-06 -1.35047729e-06 -1.35175257e-06\n",
      "  -1.35118441e-06 -1.35102459e-06]\n",
      " [-2.07357239e-09 -1.04777315e-06 -1.04755508e-06 -1.04768733e-06\n",
      "  -1.04768868e-06 -1.04779397e-06 -1.04725565e-06 -1.04765995e-06\n",
      "  -1.04742428e-06 -1.05163977e-06]]\n",
      "\n",
      " ----------------------------------------------------------------------\n",
      "\n",
      "Validation scores:\n",
      "\n",
      " [[-1.06823379e+01 -1.75055525e+01 -1.05976455e+01 -1.92137763e+01\n",
      "  -3.81355825e+01 -1.58658905e+01 -2.04892858e+01 -1.65597452e+01\n",
      "  -2.57283545e+01 -1.91123487e+01]\n",
      " [-9.67295603e+00 -1.77144370e+00 -1.25687281e-02 -5.91227377e-02\n",
      "  -4.06885852e+00 -8.41782880e-01 -4.85201820e-04 -2.26810608e-02\n",
      "  -9.49380111e-02 -2.66696189e-01]\n",
      " [-9.37295593e+00 -1.95378302e+00 -1.25242775e-02 -3.49150438e-02\n",
      "  -2.58289479e+00 -3.82376986e-01 -2.32538910e-04 -2.39424222e-02\n",
      "  -5.39223409e-02 -2.75248441e-01]\n",
      " [-8.01453915e+00 -2.05135772e+00 -1.09633112e-02 -2.31739510e-02\n",
      "  -4.70111694e+00 -3.83459058e-01 -2.99452096e-04 -1.34031112e-02\n",
      "  -4.63274515e-02 -2.96021692e-01]\n",
      " [-9.28579615e+00 -2.06457873e+00 -1.01179878e-02 -1.15817420e-02\n",
      "  -3.92419700e+00 -3.98869743e-01 -2.50736724e-04 -1.07817915e-02\n",
      "  -4.99548522e-02 -3.67758906e-01]]\n",
      "Mean training scores\n",
      "\n",
      " 6219     1.334106e-06\n",
      "20212    2.899744e-06\n",
      "34205    1.712841e-06\n",
      "48198    1.216273e-06\n",
      "62192    9.434551e-07\n",
      "dtype: float64\n",
      "\n",
      " --------------------\n",
      "\n",
      "Mean validation scores\n",
      "\n",
      " 6219     19.389052\n",
      "20212     1.681153\n",
      "34205     1.469280\n",
      "48198     1.554066\n",
      "62192     1.612389\n",
      "dtype: float64\n",
      "train_size:  [ 6219 20212 34205 48198 62192]\n"
     ]
    }
   ],
   "source": [
    "from sklearn.model_selection import learning_curve\n",
    "\n",
    "train_sizes, train_scores, validation_scores = learning_curve(my_model,train_input,train_output, cv=10\n",
    "                                                              ,scoring = 'neg_mean_squared_error',n_jobs=4)\n",
    "\n",
    "print('Training scores:\\n\\n', train_scores)\n",
    "print('\\n', '-' * 70) # separator to make the output easy to read\n",
    "print('\\nValidation scores:\\n\\n', validation_scores)\n",
    "\n",
    "\n",
    "import pandas as pd\n",
    "train_scores_mean = -train_scores.mean(axis = 1)\n",
    "validation_scores_mean = -validation_scores.mean(axis = 1)\n",
    "print('Mean training scores\\n\\n', pd.Series(train_scores_mean, index = train_sizes))\n",
    "print('\\n', '-' * 20) # separator\n",
    "print('\\nMean validation scores\\n\\n',pd.Series(validation_scores_mean, index = train_sizes))\n",
    "\n",
    "print('train_size: ', train_sizes)"
   ]
  },
  {
   "cell_type": "code",
   "execution_count": 211,
   "metadata": {},
   "outputs": [
    {
     "data": {
      "text/plain": [
       "19.389051947471263"
      ]
     },
     "execution_count": 211,
     "metadata": {},
     "output_type": "execute_result"
    }
   ],
   "source": [
    "validation_scores_mean.max()"
   ]
  },
  {
   "cell_type": "code",
   "execution_count": 214,
   "metadata": {},
   "outputs": [
    {
     "data": {
      "image/png": "[encoded data removed]",
      "text/plain": [
       "<Figure size 576x396 with 1 Axes>"
      ]
     },
     "metadata": {},
     "output_type": "display_data"
    }
   ],
   "source": [
    "import matplotlib.pyplot as plt\n",
    "\n",
    "plt.style.use('seaborn')\n",
    "plt.plot(train_sizes, train_scores_mean, label = 'Training error')\n",
    "plt.plot(train_sizes, validation_scores_mean, label = 'Validation error')\n",
    "plt.ylabel('MSE', fontsize = 14)\n",
    "plt.xlabel('Training set size', fontsize = 14)\n",
    "# plt.title('Learning curves for a linear regression model', fontsize = 18, y = 1.03)\n",
    "plt.legend()\n",
    "plt.ylim(train_scores_mean.min()-1,validation_scores_mean.max()+5)\n",
    "plt.show()"
   ]
  },
  {
   "cell_type": "code",
   "execution_count": null,
   "metadata": {},
   "outputs": [],
   "source": []
  },
  {
   "cell_type": "markdown",
   "metadata": {},
   "source": [
    "# Neural Network"
   ]
  },
  {
   "cell_type": "code",
   "execution_count": 182,
   "metadata": {
    "scrolled": true
   },
   "outputs": [],
   "source": [
    "from keras.models import Sequential\n",
    "from keras.layers import Dense, Activation, Flatten\n",
    "from sklearn.metrics import mean_absolute_error\n",
    "from keras.callbacks import LearningRateScheduler, ModelCheckpoint"
   ]
  },
  {
   "cell_type": "code",
   "execution_count": 183,
   "metadata": {},
   "outputs": [],
   "source": [
    "lr = 0.01\n",
    "\n",
    "def lr_schedule(epoch):\n",
    "    return lr * (0.1 ** int(epoch / 10))\n",
    "\n",
    "batch_size=32\n",
    "epochs= 30"
   ]
  },
  {
   "cell_type": "code",
   "execution_count": 184,
   "metadata": {},
   "outputs": [
    {
     "name": "stdout",
     "output_type": "stream",
     "text": [
      "_________________________________________________________________\n",
      "Layer (type)                 Output Shape              Param #   \n",
      "=================================================================\n",
      "dense_6 (Dense)              (None, 128)               512       \n",
      "_________________________________________________________________\n",
      "dense_7 (Dense)              (None, 256)               33024     \n",
      "_________________________________________________________________\n",
      "dense_8 (Dense)              (None, 256)               65792     \n",
      "_________________________________________________________________\n",
      "dense_9 (Dense)              (None, 256)               65792     \n",
      "_________________________________________________________________\n",
      "dense_10 (Dense)             (None, 1)                 257       \n",
      "=================================================================\n",
      "Total params: 165,377\n",
      "Trainable params: 165,377\n",
      "Non-trainable params: 0\n",
      "_________________________________________________________________\n"
     ]
    }
   ],
   "source": [
    "# define model\n",
    "def NN_model():\n",
    "    NN_model = Sequential()\n",
    "    NN_model.add(Dense(128, kernel_initializer='normal',input_dim = train_input.shape[1], activation='relu'))\n",
    "    NN_model.add(Dense(256, kernel_initializer='normal',activation='relu'))\n",
    "    NN_model.add(Dense(256, kernel_initializer='normal',activation='relu'))\n",
    "    NN_model.add(Dense(256, kernel_initializer='normal',activation='relu'))\n",
    "#     NN_model.add(Dense(1, kernel_initializer='normal',activation='relu'))\n",
    "    NN_model.add(Dense(1))\n",
    "    return NN_model\n",
    "NN_model=NN_model()\n",
    "# NN_model.compile(loss='mean_absolute_error', optimizer='adam', metrics=['mean_absolute_error','accuracy'])\n",
    "NN_model.compile(optimizer='adam', loss='mse',metrics=['mse','accuracy'])\n",
    "NN_model.summary()"
   ]
  },
  {
   "cell_type": "code",
   "execution_count": 185,
   "metadata": {
    "scrolled": true
   },
   "outputs": [
    {
     "name": "stdout",
     "output_type": "stream",
     "text": [
      "Train on 55282 samples, validate on 13821 samples\n",
      "Epoch 1/30\n",
      "55282/55282 [==============================] - 7s 129us/step - loss: 57.1562 - mean_squared_error: 57.1562 - acc: 1.8089e-05 - val_loss: 0.4378 - val_mean_squared_error: 0.4378 - val_acc: 0.0000e+00\n",
      "Epoch 2/30\n",
      "55282/55282 [==============================] - 7s 126us/step - loss: 3.1915 - mean_squared_error: 3.1915 - acc: 0.0000e+00 - val_loss: 0.3554 - val_mean_squared_error: 0.3554 - val_acc: 0.0000e+00\n",
      "Epoch 3/30\n",
      "55282/55282 [==============================] - 7s 128us/step - loss: 2.7586 - mean_squared_error: 2.7586 - acc: 0.0000e+00 - val_loss: 2.4584 - val_mean_squared_error: 2.4584 - val_acc: 0.0000e+00\n",
      "Epoch 4/30\n",
      "55282/55282 [==============================] - 7s 124us/step - loss: 3.3951 - mean_squared_error: 3.3951 - acc: 0.0000e+00 - val_loss: 11.4175 - val_mean_squared_error: 11.4175 - val_acc: 0.0000e+00\n",
      "Epoch 5/30\n",
      "55282/55282 [==============================] - 7s 124us/step - loss: 2.2503 - mean_squared_error: 2.2503 - acc: 1.8089e-05 - val_loss: 0.2623 - val_mean_squared_error: 0.2623 - val_acc: 0.0000e+00\n",
      "Epoch 6/30\n",
      "55282/55282 [==============================] - 7s 126us/step - loss: 1.9736 - mean_squared_error: 1.9736 - acc: 0.0000e+00 - val_loss: 0.2067 - val_mean_squared_error: 0.2067 - val_acc: 0.0000e+00\n",
      "Epoch 7/30\n",
      "55282/55282 [==============================] - 7s 127us/step - loss: 2.4286 - mean_squared_error: 2.4286 - acc: 1.8089e-05 - val_loss: 2.0082 - val_mean_squared_error: 2.0082 - val_acc: 0.0000e+00\n",
      "Epoch 8/30\n",
      "55282/55282 [==============================] - 7s 128us/step - loss: 1.9680 - mean_squared_error: 1.9680 - acc: 1.8089e-05 - val_loss: 0.8550 - val_mean_squared_error: 0.8550 - val_acc: 0.0000e+00\n",
      "Epoch 9/30\n",
      "55282/55282 [==============================] - 7s 124us/step - loss: 1.5728 - mean_squared_error: 1.5728 - acc: 1.8089e-05 - val_loss: 0.9778 - val_mean_squared_error: 0.9778 - val_acc: 0.0000e+00\n",
      "Epoch 10/30\n",
      "55282/55282 [==============================] - 7s 124us/step - loss: 1.6307 - mean_squared_error: 1.6307 - acc: 1.8089e-05 - val_loss: 2.0090 - val_mean_squared_error: 2.0090 - val_acc: 0.0000e+00\n",
      "Epoch 11/30\n",
      "55282/55282 [==============================] - 7s 128us/step - loss: 0.7444 - mean_squared_error: 0.7444 - acc: 1.8089e-05 - val_loss: 0.2100 - val_mean_squared_error: 0.2100 - val_acc: 0.0000e+00\n",
      "Epoch 12/30\n",
      "55282/55282 [==============================] - 7s 124us/step - loss: 0.7353 - mean_squared_error: 0.7353 - acc: 1.8089e-05 - val_loss: 0.1175 - val_mean_squared_error: 0.1175 - val_acc: 0.0000e+00\n",
      "Epoch 13/30\n",
      "55282/55282 [==============================] - 7s 125us/step - loss: 0.7278 - mean_squared_error: 0.7278 - acc: 1.8089e-05 - val_loss: 0.4325 - val_mean_squared_error: 0.4325 - val_acc: 0.0000e+00\n",
      "Epoch 14/30\n",
      "55282/55282 [==============================] - 7s 126us/step - loss: 0.7219 - mean_squared_error: 0.7219 - acc: 1.8089e-05 - val_loss: 0.3047 - val_mean_squared_error: 0.3047 - val_acc: 0.0000e+00\n",
      "Epoch 15/30\n",
      "55282/55282 [==============================] - 7s 129us/step - loss: 0.7043 - mean_squared_error: 0.7043 - acc: 0.0000e+00 - val_loss: 0.0960 - val_mean_squared_error: 0.0960 - val_acc: 0.0000e+00\n",
      "Epoch 16/30\n",
      "55282/55282 [==============================] - 7s 126us/step - loss: 0.7003 - mean_squared_error: 0.7003 - acc: 1.8089e-05 - val_loss: 0.1070 - val_mean_squared_error: 0.1070 - val_acc: 0.0000e+00\n",
      "Epoch 17/30\n",
      "55282/55282 [==============================] - 7s 125us/step - loss: 0.6988 - mean_squared_error: 0.6988 - acc: 1.8089e-05 - val_loss: 0.1268 - val_mean_squared_error: 0.1268 - val_acc: 0.0000e+00\n",
      "Epoch 18/30\n",
      "55282/55282 [==============================] - 7s 127us/step - loss: 0.6934 - mean_squared_error: 0.6934 - acc: 1.8089e-05 - val_loss: 0.1685 - val_mean_squared_error: 0.1685 - val_acc: 0.0000e+00\n",
      "Epoch 19/30\n",
      "55282/55282 [==============================] - 7s 126us/step - loss: 0.6854 - mean_squared_error: 0.6854 - acc: 1.8089e-05 - val_loss: 0.0528 - val_mean_squared_error: 0.0528 - val_acc: 0.0000e+00\n",
      "Epoch 20/30\n",
      "55282/55282 [==============================] - 7s 123us/step - loss: 0.6826 - mean_squared_error: 0.6826 - acc: 1.8089e-05 - val_loss: 0.0551 - val_mean_squared_error: 0.0551 - val_acc: 0.0000e+00\n",
      "Epoch 21/30\n",
      "55282/55282 [==============================] - 7s 130us/step - loss: 0.6081 - mean_squared_error: 0.6081 - acc: 1.8089e-05 - val_loss: 0.0633 - val_mean_squared_error: 0.0633 - val_acc: 0.0000e+00\n",
      "Epoch 22/30\n",
      "55282/55282 [==============================] - 7s 129us/step - loss: 0.6077 - mean_squared_error: 0.6077 - acc: 1.8089e-05 - val_loss: 0.0655 - val_mean_squared_error: 0.0655 - val_acc: 0.0000e+00\n",
      "Epoch 23/30\n",
      "55282/55282 [==============================] - 7s 125us/step - loss: 0.6086 - mean_squared_error: 0.6086 - acc: 1.8089e-05 - val_loss: 0.0865 - val_mean_squared_error: 0.0865 - val_acc: 0.0000e+00\n",
      "Epoch 24/30\n",
      "55282/55282 [==============================] - 7s 127us/step - loss: 0.6073 - mean_squared_error: 0.6073 - acc: 1.8089e-05 - val_loss: 0.0875 - val_mean_squared_error: 0.0875 - val_acc: 0.0000e+00\n",
      "Epoch 25/30\n",
      "55282/55282 [==============================] - 7s 130us/step - loss: 0.6074 - mean_squared_error: 0.6074 - acc: 1.8089e-05 - val_loss: 0.0584 - val_mean_squared_error: 0.0584 - val_acc: 0.0000e+00\n",
      "Epoch 26/30\n",
      "55282/55282 [==============================] - 7s 123us/step - loss: 0.6055 - mean_squared_error: 0.6055 - acc: 1.8089e-05 - val_loss: 0.0700 - val_mean_squared_error: 0.0700 - val_acc: 0.0000e+00\n",
      "Epoch 27/30\n",
      "55282/55282 [==============================] - 7s 128us/step - loss: 0.6051 - mean_squared_error: 0.6051 - acc: 1.8089e-05 - val_loss: 0.0576 - val_mean_squared_error: 0.0576 - val_acc: 0.0000e+00\n",
      "Epoch 28/30\n",
      "55282/55282 [==============================] - 7s 127us/step - loss: 0.6037 - mean_squared_error: 0.6037 - acc: 1.8089e-05 - val_loss: 0.1137 - val_mean_squared_error: 0.1137 - val_acc: 0.0000e+00\n",
      "Epoch 29/30\n",
      "55282/55282 [==============================] - 7s 125us/step - loss: 0.6033 - mean_squared_error: 0.6033 - acc: 1.8089e-05 - val_loss: 0.0525 - val_mean_squared_error: 0.0525 - val_acc: 0.0000e+00\n",
      "Epoch 30/30\n",
      "55282/55282 [==============================] - 7s 126us/step - loss: 0.6028 - mean_squared_error: 0.6028 - acc: 1.8089e-05 - val_loss: 0.0511 - val_mean_squared_error: 0.0511 - val_acc: 0.0000e+00\n"
     ]
    }
   ],
   "source": [
    "train_model_NN = NN_model.fit(train_input, train_output, batch_size=batch_size, epochs=epochs, verbose=1,validation_split=0.2,shuffle=True,\n",
    "                            callbacks=[LearningRateScheduler(lr_schedule)])"
   ]
  },
  {
   "cell_type": "code",
   "execution_count": 193,
   "metadata": {},
   "outputs": [
    {
     "name": "stdout",
     "output_type": "stream",
     "text": [
      "dict_keys(['val_loss', 'val_mean_squared_error', 'val_acc', 'loss', 'mean_squared_error', 'acc'])\n"
     ]
    }
   ],
   "source": [
    "print(train_model_NN.history.keys())"
   ]
  },
  {
   "cell_type": "code",
   "execution_count": 194,
   "metadata": {},
   "outputs": [
    {
     "data": {
      "image/png": "[encoded data removed]",
      "text/plain": [
       "<Figure size 864x360 with 1 Axes>"
      ]
     },
     "metadata": {
      "needs_background": "light"
     },
     "output_type": "display_data"
    }
   ],
   "source": [
    "# summarize history for accuracy\n",
    "plt.plot(train_model_NN.history['loss'],'-^', color = 'green')\n",
    "plt.plot(train_model_NN.history['val_loss'],'-o', color = 'red')\n",
    "\n",
    "# plt.plot(train_model_NN.history['mean_squared_error'],'-^', color = 'green')\n",
    "# plt.plot(train_model_NN.history['val_mean_squared_error'],'-o', color = 'red')\n",
    "# plt.title('model accuracy')\n",
    "plt.ylabel('loss')\n",
    "plt.xlabel('epoch')\n",
    "plt.legend(['loss','val_loss'], loc='best')\n",
    "plt.savefig('Neural_Network_loss_vs_epoch_shuffle_false.png',bbox_inches='tight')\n",
    "plt.rcParams['figure.figsize'] =(12,5)"
   ]
  },
  {
   "cell_type": "code",
   "execution_count": null,
   "metadata": {},
   "outputs": [],
   "source": []
  },
  {
   "cell_type": "code",
   "execution_count": 195,
   "metadata": {},
   "outputs": [],
   "source": [
    "predicted_output_NN = NN_model.predict(test_input)"
   ]
  },
  {
   "cell_type": "code",
   "execution_count": 196,
   "metadata": {},
   "outputs": [
    {
     "name": "stdout",
     "output_type": "stream",
     "text": [
      "r_2 statistic: 1.00\n",
      "Mean_absolute_error: 0.11\n",
      "Mean squared error: 0.02\n",
      "RMSE:  0.1264640993724867\n"
     ]
    }
   ],
   "source": [
    "from sklearn import linear_model\n",
    "from sklearn.metrics import mean_squared_error, r2_score, mean_absolute_error\n",
    "import math\n",
    "print('r_2 statistic: %.2f' % r2_score(test_output,predicted_output_NN))\n",
    "print(\"Mean_absolute_error: %.2f\" % mean_absolute_error(test_output,predicted_output_NN))\n",
    "print(\"Mean squared error: %.2f\" % mean_squared_error(test_output,predicted_output_NN))\n",
    "RMSE=math.sqrt(mean_squared_error(test_output,predicted_output_NN))\n",
    "print('RMSE: ',RMSE)"
   ]
  },
  {
   "cell_type": "code",
   "execution_count": 190,
   "metadata": {},
   "outputs": [
    {
     "data": {
      "text/plain": [
       "(200, 1)"
      ]
     },
     "execution_count": 190,
     "metadata": {},
     "output_type": "execute_result"
    }
   ],
   "source": [
    "test_output_NN = np.reshape(test_output,(-1,1))\n",
    "test_output_NN.shape"
   ]
  },
  {
   "cell_type": "code",
   "execution_count": 191,
   "metadata": {
    "scrolled": true
   },
   "outputs": [
    {
     "data": {
      "image/png": "[encoded data removed]",
      "text/plain": [
       "<Figure size 864x360 with 1 Axes>"
      ]
     },
     "metadata": {
      "needs_background": "light"
     },
     "output_type": "display_data"
    },
    {
     "name": "stdout",
     "output_type": "stream",
     "text": [
      "<class 'numpy.ndarray'>\n"
     ]
    },
    {
     "data": {
      "image/png": "[encoded data removed]",
      "text/plain": [
       "<Figure size 864x360 with 1 Axes>"
      ]
     },
     "metadata": {
      "needs_background": "light"
     },
     "output_type": "display_data"
    },
    {
     "data": {
      "image/png": "[encoded data removed]",
      "text/plain": [
       "<Figure size 864x360 with 1 Axes>"
      ]
     },
     "metadata": {
      "needs_background": "light"
     },
     "output_type": "display_data"
    },
    {
     "data": {
      "image/png": "[encoded data removed]",
      "text/plain": [
       "<Figure size 864x360 with 1 Axes>"
      ]
     },
     "metadata": {
      "needs_background": "light"
     },
     "output_type": "display_data"
    }
   ],
   "source": [
    "plot_graph(test_output_NN, predicted_output_NN, final_directory,'Neural_Network')"
   ]
  },
  {
   "cell_type": "code",
   "execution_count": 192,
   "metadata": {},
   "outputs": [
    {
     "name": "stdout",
     "output_type": "stream",
     "text": [
      "r_2 statistic: 1.00\n",
      "Mean_absolute_error: 0.11\n",
      "Mean squared error: 0.02\n",
      "RMSE:  0.1264640993724867\n",
      "!!!!---------------!!!!----------------!!!!\n"
     ]
    }
   ],
   "source": [
    "evaluation_metrices(test_output_NN,predicted_output_NN,final_directory,'Neural Netowrk', evaluation_metrics_file_path)"
   ]
  },
  {
   "cell_type": "code",
   "execution_count": null,
   "metadata": {},
   "outputs": [],
   "source": []
  },
  {
   "cell_type": "code",
   "execution_count": null,
   "metadata": {},
   "outputs": [],
   "source": []
  },
  {
   "cell_type": "markdown",
   "metadata": {},
   "source": [
    "# LSTM"
   ]
  },
  {
   "cell_type": "code",
   "execution_count": 113,
   "metadata": {},
   "outputs": [],
   "source": [
    "from keras.callbacks import LearningRateScheduler, ModelCheckpoint"
   ]
  },
  {
   "cell_type": "code",
   "execution_count": 114,
   "metadata": {},
   "outputs": [
    {
     "name": "stdout",
     "output_type": "stream",
     "text": [
      "go_for_training:  69103\n",
      "required_number_of_test_data:  200\n",
      "percentage:  0.9971141220437788\n",
      "dataset length:  69303\n",
      "Number of Elements for training:  69103\n",
      "LSTM train set:  (69103, 4)\n",
      "LSTM test set:  (200, 4)\n"
     ]
    }
   ],
   "source": [
    "multiple_ip_train_data, multiple_ip_test_set = make_dataset_LSTM(dataframe_interpolate, required_number_of_test_data)"
   ]
  },
  {
   "cell_type": "code",
   "execution_count": 115,
   "metadata": {},
   "outputs": [],
   "source": [
    "X_Conv_Lstm, y_Conv_Lstm = split_sequence(multiple_ip_train_data, number_of_step_lstm)"
   ]
  },
  {
   "cell_type": "code",
   "execution_count": 116,
   "metadata": {},
   "outputs": [
    {
     "name": "stdout",
     "output_type": "stream",
     "text": [
      "X_Conv_Lstm shape:  (69101, 2, 3) \tX_Conv_Lstm size:  414606 \tX_Conv_Lstm dimension:  3\n",
      "y_Conv_Lstm shape:  (69101,)  size:  69101  dim:  1\n"
     ]
    }
   ],
   "source": [
    "print('X_Conv_Lstm shape: ',X_Conv_Lstm.shape,'\\tX_Conv_Lstm size: ',X_Conv_Lstm.size,'\\tX_Conv_Lstm dimension: ',X_Conv_Lstm.ndim)\n",
    "print('y_Conv_Lstm shape: ', y_Conv_Lstm.shape,' size: ',y_Conv_Lstm.size,' dim: ',y_Conv_Lstm.ndim)"
   ]
  },
  {
   "cell_type": "code",
   "execution_count": 117,
   "metadata": {},
   "outputs": [],
   "source": [
    "samples = X_Conv_Lstm.shape[0]\n",
    "time = number_of_step_lstm\n",
    "rows = 1\n",
    "n_features = X_Conv_Lstm.shape[-1]\n",
    "cols = n_features\n",
    "channels = 1"
   ]
  },
  {
   "cell_type": "code",
   "execution_count": 118,
   "metadata": {},
   "outputs": [],
   "source": [
    "# X_Conv_Lstm_train = X_Conv_Lstm.reshape((X_Conv_Lstm.shape[0], n_seq, n_rows, n_steps_2, n_features))\n",
    "X_Conv_Lstm_train = X_Conv_Lstm.reshape((samples, time, rows, cols, channels)) #last 2 is feature"
   ]
  },
  {
   "cell_type": "code",
   "execution_count": 119,
   "metadata": {},
   "outputs": [
    {
     "name": "stdout",
     "output_type": "stream",
     "text": [
      "X_Conv_Lstm shape:  (69101, 2, 3) \tX_Conv_Lstm size:  414606 \tX_Conv_Lstm dimension:  3\n",
      "X_Conv_Lstm_train shape:  (69101, 2, 1, 3, 1) \tX_Conv_Lstm_train size:  414606 \tX_Conv_Lstm_train dimension:  5\n"
     ]
    }
   ],
   "source": [
    "print('X_Conv_Lstm shape: ',X_Conv_Lstm.shape,'\\tX_Conv_Lstm size: ',X_Conv_Lstm.size,'\\tX_Conv_Lstm dimension: ',X_Conv_Lstm.ndim)\n",
    "print('X_Conv_Lstm_train shape: ',X_Conv_Lstm_train.shape,'\\tX_Conv_Lstm_train size: ',X_Conv_Lstm_train.size,'\\tX_Conv_Lstm_train dimension: ',X_Conv_Lstm_train.ndim)"
   ]
  },
  {
   "cell_type": "code",
   "execution_count": 136,
   "metadata": {},
   "outputs": [],
   "source": [
    "lr = 0.01\n",
    "\n",
    "def lr_schedule(epoch):\n",
    "    print('epoch value: ', epoch)\n",
    "    lr_1 = lr * (0.1 ** int(epoch / 10))\n",
    "    print('now lr_1: ', lr_1)\n",
    "    return lr_1\n",
    "\n",
    "batch_size = batch_size\n",
    "activation_function = 'relu'"
   ]
  },
  {
   "cell_type": "code",
   "execution_count": 137,
   "metadata": {},
   "outputs": [],
   "source": [
    "model = LSTM_model(activation_function, time, rows, cols, channels)"
   ]
  },
  {
   "cell_type": "code",
   "execution_count": 138,
   "metadata": {},
   "outputs": [],
   "source": [
    "model.compile(optimizer='adam', loss='mse',metrics=['accuracy'])"
   ]
  },
  {
   "cell_type": "code",
   "execution_count": 139,
   "metadata": {},
   "outputs": [
    {
     "name": "stdout",
     "output_type": "stream",
     "text": [
      "_________________________________________________________________\n",
      "Layer (type)                 Output Shape              Param #   \n",
      "=================================================================\n",
      "conv_lst_m2d_3 (ConvLSTM2D)  (None, 1, 2, 64)          33536     \n",
      "_________________________________________________________________\n",
      "flatten_3 (Flatten)          (None, 128)               0         \n",
      "_________________________________________________________________\n",
      "dense_3 (Dense)              (None, 1)                 129       \n",
      "=================================================================\n",
      "Total params: 33,665\n",
      "Trainable params: 33,665\n",
      "Non-trainable params: 0\n",
      "_________________________________________________________________\n"
     ]
    }
   ],
   "source": [
    "model.summary()"
   ]
  },
  {
   "cell_type": "code",
   "execution_count": 143,
   "metadata": {
    "scrolled": true
   },
   "outputs": [
    {
     "name": "stdout",
     "output_type": "stream",
     "text": [
      "Train on 55280 samples, validate on 13821 samples\n",
      "epoch value:  0\n",
      "now lr_1:  0.01\n",
      "Epoch 1/30\n",
      "55280/55280 [==============================] - 7s 135us/step - loss: 2.3401 - acc: 0.0000e+00 - val_loss: 0.9694 - val_acc: 0.0000e+00\n",
      "epoch value:  1\n",
      "now lr_1:  0.01\n",
      "Epoch 2/30\n",
      "55280/55280 [==============================] - 7s 135us/step - loss: 1.8901 - acc: 0.0000e+00 - val_loss: 3.0594 - val_acc: 0.0000e+00\n",
      "epoch value:  2\n",
      "now lr_1:  0.01\n",
      "Epoch 3/30\n",
      "55280/55280 [==============================] - 7s 134us/step - loss: 1.8257 - acc: 0.0000e+00 - val_loss: 1.3973 - val_acc: 0.0000e+00\n",
      "epoch value:  3\n",
      "now lr_1:  0.01\n",
      "Epoch 4/30\n",
      "55280/55280 [==============================] - 7s 131us/step - loss: 1.8760 - acc: 1.8090e-05 - val_loss: 0.8422 - val_acc: 0.0000e+00\n",
      "epoch value:  4\n",
      "now lr_1:  0.01\n",
      "Epoch 5/30\n",
      "55280/55280 [==============================] - 7s 134us/step - loss: 1.8688 - acc: 0.0000e+00 - val_loss: 0.8970 - val_acc: 0.0000e+00\n",
      "epoch value:  5\n",
      "now lr_1:  0.01\n",
      "Epoch 6/30\n",
      "55280/55280 [==============================] - 7s 130us/step - loss: 1.7836 - acc: 0.0000e+00 - val_loss: 1.8305 - val_acc: 0.0000e+00\n",
      "epoch value:  6\n",
      "now lr_1:  0.01\n",
      "Epoch 7/30\n",
      "55280/55280 [==============================] - 7s 133us/step - loss: 1.8097 - acc: 1.8090e-05 - val_loss: 0.8405 - val_acc: 0.0000e+00\n",
      "epoch value:  7\n",
      "now lr_1:  0.01\n",
      "Epoch 8/30\n",
      "55280/55280 [==============================] - 7s 134us/step - loss: 1.8566 - acc: 0.0000e+00 - val_loss: 3.4317 - val_acc: 0.0000e+00\n",
      "epoch value:  8\n",
      "now lr_1:  0.01\n",
      "Epoch 9/30\n",
      "55280/55280 [==============================] - 7s 133us/step - loss: 1.9691 - acc: 1.8090e-05 - val_loss: 0.8368 - val_acc: 0.0000e+00\n",
      "epoch value:  9\n",
      "now lr_1:  0.01\n",
      "Epoch 10/30\n",
      "55280/55280 [==============================] - 7s 132us/step - loss: 1.7652 - acc: 1.8090e-05 - val_loss: 0.6628 - val_acc: 0.0000e+00\n",
      "epoch value:  10\n",
      "now lr_1:  0.001\n",
      "Epoch 11/30\n",
      "55280/55280 [==============================] - 7s 132us/step - loss: 1.3098 - acc: 1.8090e-05 - val_loss: 0.7661 - val_acc: 0.0000e+00\n",
      "epoch value:  11\n",
      "now lr_1:  0.001\n",
      "Epoch 12/30\n",
      "55280/55280 [==============================] - 7s 135us/step - loss: 1.3001 - acc: 1.8090e-05 - val_loss: 0.6792 - val_acc: 0.0000e+00\n",
      "epoch value:  12\n",
      "now lr_1:  0.001\n",
      "Epoch 13/30\n",
      "55280/55280 [==============================] - 7s 135us/step - loss: 1.3056 - acc: 1.8090e-05 - val_loss: 0.7810 - val_acc: 0.0000e+00\n",
      "epoch value:  13\n",
      "now lr_1:  0.001\n",
      "Epoch 14/30\n",
      "55280/55280 [==============================] - 7s 134us/step - loss: 1.3026 - acc: 1.8090e-05 - val_loss: 0.7496 - val_acc: 0.0000e+00\n",
      "epoch value:  14\n",
      "now lr_1:  0.001\n",
      "Epoch 15/30\n",
      "55280/55280 [==============================] - 7s 133us/step - loss: 1.2900 - acc: 1.8090e-05 - val_loss: 0.6975 - val_acc: 0.0000e+00\n",
      "epoch value:  15\n",
      "now lr_1:  0.001\n",
      "Epoch 16/30\n",
      "55280/55280 [==============================] - 7s 134us/step - loss: 1.2934 - acc: 1.8090e-05 - val_loss: 0.6951 - val_acc: 0.0000e+00\n",
      "epoch value:  16\n",
      "now lr_1:  0.001\n",
      "Epoch 17/30\n",
      "55280/55280 [==============================] - 7s 133us/step - loss: 1.2925 - acc: 1.8090e-05 - val_loss: 0.7712 - val_acc: 0.0000e+00\n",
      "epoch value:  17\n",
      "now lr_1:  0.001\n",
      "Epoch 18/30\n",
      "55280/55280 [==============================] - 7s 133us/step - loss: 1.2834 - acc: 0.0000e+00 - val_loss: 0.6709 - val_acc: 0.0000e+00\n",
      "epoch value:  18\n",
      "now lr_1:  0.001\n",
      "Epoch 19/30\n",
      "55280/55280 [==============================] - 7s 136us/step - loss: 1.2862 - acc: 1.8090e-05 - val_loss: 0.7013 - val_acc: 0.0000e+00\n",
      "epoch value:  19\n",
      "now lr_1:  0.001\n",
      "Epoch 20/30\n",
      "55280/55280 [==============================] - 7s 132us/step - loss: 1.2825 - acc: 1.8090e-05 - val_loss: 0.7642 - val_acc: 0.0000e+00\n",
      "epoch value:  20\n",
      "now lr_1:  0.00010000000000000002\n",
      "Epoch 21/30\n",
      "55280/55280 [==============================] - 7s 134us/step - loss: 1.2259 - acc: 1.8090e-05 - val_loss: 0.7143 - val_acc: 0.0000e+00\n",
      "epoch value:  21\n",
      "now lr_1:  0.00010000000000000002\n",
      "Epoch 22/30\n",
      "55280/55280 [==============================] - 7s 134us/step - loss: 1.2243 - acc: 1.8090e-05 - val_loss: 0.7562 - val_acc: 0.0000e+00\n",
      "epoch value:  22\n",
      "now lr_1:  0.00010000000000000002\n",
      "Epoch 23/30\n",
      "55280/55280 [==============================] - 7s 133us/step - loss: 1.2235 - acc: 1.8090e-05 - val_loss: 0.6856 - val_acc: 0.0000e+00\n",
      "epoch value:  23\n",
      "now lr_1:  0.00010000000000000002\n",
      "Epoch 24/30\n",
      "55280/55280 [==============================] - 7s 134us/step - loss: 1.2227 - acc: 1.8090e-05 - val_loss: 0.7700 - val_acc: 0.0000e+00\n",
      "epoch value:  24\n",
      "now lr_1:  0.00010000000000000002\n",
      "Epoch 25/30\n",
      "55280/55280 [==============================] - 7s 134us/step - loss: 1.2216 - acc: 1.8090e-05 - val_loss: 0.7963 - val_acc: 0.0000e+00\n",
      "epoch value:  25\n",
      "now lr_1:  0.00010000000000000002\n",
      "Epoch 26/30\n",
      "55280/55280 [==============================] - 7s 134us/step - loss: 1.2213 - acc: 1.8090e-05 - val_loss: 0.7971 - val_acc: 0.0000e+00\n",
      "epoch value:  26\n",
      "now lr_1:  0.00010000000000000002\n",
      "Epoch 27/30\n",
      "55280/55280 [==============================] - 7s 134us/step - loss: 1.2217 - acc: 1.8090e-05 - val_loss: 0.7833 - val_acc: 0.0000e+00\n",
      "epoch value:  27\n",
      "now lr_1:  0.00010000000000000002\n",
      "Epoch 28/30\n",
      "55280/55280 [==============================] - 7s 133us/step - loss: 1.2218 - acc: 1.8090e-05 - val_loss: 0.7935 - val_acc: 0.0000e+00\n",
      "epoch value:  28\n",
      "now lr_1:  0.00010000000000000002\n",
      "Epoch 29/30\n",
      "55280/55280 [==============================] - 7s 133us/step - loss: 1.2219 - acc: 1.8090e-05 - val_loss: 0.7303 - val_acc: 0.0000e+00\n",
      "epoch value:  29\n",
      "now lr_1:  0.00010000000000000002\n",
      "Epoch 30/30\n",
      "55280/55280 [==============================] - 7s 134us/step - loss: 1.2220 - acc: 1.8090e-05 - val_loss: 0.7980 - val_acc: 0.0000e+00\n"
     ]
    }
   ],
   "source": [
    "train_model=model.fit(X_Conv_Lstm_train, y_Conv_Lstm, batch_size=batch_size, epochs=epochs, verbose=1, validation_split=0.2, \n",
    "                      shuffle=True, callbacks=[LearningRateScheduler(lr_schedule)])\n",
    "#                      ModelCheckpoint('E:/CONV_LSTM_30.h5', save_best_only=True)])"
   ]
  },
  {
   "cell_type": "code",
   "execution_count": 144,
   "metadata": {},
   "outputs": [
    {
     "name": "stdout",
     "output_type": "stream",
     "text": [
      "dict_keys(['val_loss', 'val_acc', 'loss', 'acc'])\n"
     ]
    },
    {
     "data": {
      "image/png": "[encoded data removed]",
      "text/plain": [
       "<Figure size 864x360 with 1 Axes>"
      ]
     },
     "metadata": {
      "needs_background": "light"
     },
     "output_type": "display_data"
    }
   ],
   "source": [
    "print(train_model.history.keys())\n",
    "\n",
    "# summarize history for accuracy\n",
    "# plt.plot(train_model_vanilla.history['acc'], '-o', color = 'red')\n",
    "plt.plot(train_model.history['loss'],'-^', color = 'green')\n",
    "plt.plot(train_model.history['val_loss'],'-o', color = 'red')\n",
    "# plt.title('model accuracy')\n",
    "plt.ylabel('loss')\n",
    "plt.xlabel('epoch')\n",
    "plt.legend(['loss','val_loss'], loc='best')\n",
    "# plt.savefig('vanilla_lstm_loss_vs_epoch_shuffle_false.png',bbox_inches='tight')\n",
    "plt.rcParams['figure.figsize'] =(12,5)"
   ]
  },
  {
   "cell_type": "code",
   "execution_count": 145,
   "metadata": {},
   "outputs": [],
   "source": [
    "# model.save_weights(\"CONV_LSTM_model.h5\")\n",
    "model.save(\"CONV_LSTM_model.h5\")"
   ]
  },
  {
   "cell_type": "code",
   "execution_count": 146,
   "metadata": {},
   "outputs": [],
   "source": [
    "from keras.models import load_model\n",
    "load_trained_CONV_LSTM=load_model(\"CONV_LSTM_model.h5\")\n",
    "# load_trained_model=load_model(\"/home/atif/machine_learning_stuff/Time-Series-Forecasting-of-a-Power-Plant/notebook_file_data_prediction/CONV_LSTM_model.h5\")"
   ]
  },
  {
   "cell_type": "code",
   "execution_count": 147,
   "metadata": {},
   "outputs": [
    {
     "name": "stdout",
     "output_type": "stream",
     "text": [
      "X_Conv_Lstm_test shape:  (198, 2, 3) \t X_Conv_Lstm_test dimension:  3\n",
      "y_Conv_Lstm_test shape:  (198,) \t y_Conv_Lstm_test dimension:  1\n"
     ]
    }
   ],
   "source": [
    "X_Conv_Lstm_test, y_Conv_Lstm_test = split_sequence(multiple_ip_test_set, number_of_step_lstm)\n",
    "print('X_Conv_Lstm_test shape: ', X_Conv_Lstm_test.shape,'\\t X_Conv_Lstm_test dimension: ', X_Conv_Lstm_test.ndim)\n",
    "print('y_Conv_Lstm_test shape: ', y_Conv_Lstm_test.shape,'\\t y_Conv_Lstm_test dimension: ', y_Conv_Lstm_test.ndim)\n",
    "\n",
    "test_sample = X_Conv_Lstm_test.shape[0]\n",
    "# x_input = X_Conv_Lstm_test.reshape((X_Conv_Lstm_test.shape[0], n_seq, 1, n_steps_2, X_Conv_Lstm_test.shape[2]))\n",
    "x_input = X_Conv_Lstm_test.reshape((test_sample, time, rows, cols, channels))"
   ]
  },
  {
   "cell_type": "code",
   "execution_count": 148,
   "metadata": {},
   "outputs": [
    {
     "name": "stdout",
     "output_type": "stream",
     "text": [
      "198/198 [==============================] - 0s 978us/step\n"
     ]
    }
   ],
   "source": [
    "yhat = model.predict(x_input, verbose=1)"
   ]
  },
  {
   "cell_type": "code",
   "execution_count": 149,
   "metadata": {},
   "outputs": [
    {
     "name": "stdout",
     "output_type": "stream",
     "text": [
      "198/198 [==============================] - 0s 998us/step\n"
     ]
    }
   ],
   "source": [
    "yhat_loaded = load_trained_CONV_LSTM.predict(x_input, verbose=1)"
   ]
  },
  {
   "cell_type": "code",
   "execution_count": 150,
   "metadata": {},
   "outputs": [
    {
     "data": {
      "text/plain": [
       "(198, 1)"
      ]
     },
     "execution_count": 150,
     "metadata": {},
     "output_type": "execute_result"
    }
   ],
   "source": [
    "y_Conv_Lstm_test_reshape = np.reshape(y_Conv_Lstm_test,(-1,1))\n",
    "y_Conv_Lstm_test_reshape.shape"
   ]
  },
  {
   "cell_type": "code",
   "execution_count": 151,
   "metadata": {
    "scrolled": true
   },
   "outputs": [
    {
     "data": {
      "image/png": "[encoded data removed]",
      "text/plain": [
       "<Figure size 864x360 with 1 Axes>"
      ]
     },
     "metadata": {
      "needs_background": "light"
     },
     "output_type": "display_data"
    },
    {
     "name": "stdout",
     "output_type": "stream",
     "text": [
      "<class 'numpy.ndarray'>\n"
     ]
    },
    {
     "data": {
      "image/png": "[encoded data removed]",
      "text/plain": [
       "<Figure size 864x360 with 1 Axes>"
      ]
     },
     "metadata": {
      "needs_background": "light"
     },
     "output_type": "display_data"
    },
    {
     "data": {
      "image/png": "[encoded data removed]",
      "text/plain": [
       "<Figure size 864x360 with 1 Axes>"
      ]
     },
     "metadata": {
      "needs_background": "light"
     },
     "output_type": "display_data"
    },
    {
     "data": {
      "image/png": "[encoded data removed]",
      "text/plain": [
       "<Figure size 864x360 with 1 Axes>"
      ]
     },
     "metadata": {
      "needs_background": "light"
     },
     "output_type": "display_data"
    }
   ],
   "source": [
    "plot_graph(y_Conv_Lstm_test_reshape, yhat, final_directory,'CONV_LSTM')"
   ]
  },
  {
   "cell_type": "code",
   "execution_count": 152,
   "metadata": {},
   "outputs": [
    {
     "name": "stdout",
     "output_type": "stream",
     "text": [
      "r_2 statistic: 0.84\n",
      "Mean_absolute_error: 0.63\n",
      "Mean squared error: 1.07\n",
      "RMSE:  1.0325203175434488\n",
      "!!!!---------------!!!!----------------!!!!\n"
     ]
    }
   ],
   "source": [
    "evaluation_metrices(y_Conv_Lstm_test_reshape, yhat_loaded, final_directory, 'CONV_LSTM',evaluation_metrics_file_path)"
   ]
  },
  {
   "cell_type": "code",
   "execution_count": null,
   "metadata": {},
   "outputs": [],
   "source": []
  },
  {
   "cell_type": "code",
   "execution_count": null,
   "metadata": {},
   "outputs": [],
   "source": [
    "dataframe_datetime.iloc[0:5000].plot(y = dataframe_datetime.columns[-1], use_index=True)\n",
    "plt.rcParams['figure.figsize'] =(15,5)"
   ]
  },
  {
   "cell_type": "markdown",
   "metadata": {},
   "source": [
    "# VANILLA LSTM"
   ]
  },
  {
   "cell_type": "code",
   "execution_count": 153,
   "metadata": {},
   "outputs": [],
   "source": [
    "X_train_vanilla, y_train_vanilla = split_sequence(multiple_ip_train_data, number_of_step_lstm)\n",
    "# X_train_vanilla, y_train_vanilla = split_sequence(multiple_ip_train_data,5)"
   ]
  },
  {
   "cell_type": "code",
   "execution_count": 154,
   "metadata": {},
   "outputs": [
    {
     "name": "stdout",
     "output_type": "stream",
     "text": [
      "X_train_vanilla shape:  (69101, 2, 3) \t dimension:  3 \t size:  414606\n",
      "y_train_vanilla shape:  (69101,) \t dimension:  1 \t size:  69101\n"
     ]
    }
   ],
   "source": [
    "print('X_train_vanilla shape: ',X_train_vanilla.shape,'\\t dimension: ',X_train_vanilla.ndim,'\\t size: ',X_train_vanilla.size)\n",
    "print('y_train_vanilla shape: ',y_train_vanilla.shape,'\\t dimension: ',y_train_vanilla.ndim,'\\t size: ',y_train_vanilla.size)"
   ]
  },
  {
   "cell_type": "code",
   "execution_count": 155,
   "metadata": {
    "scrolled": true
   },
   "outputs": [
    {
     "name": "stdout",
     "output_type": "stream",
     "text": [
      "(69101, 2, 3)\n"
     ]
    }
   ],
   "source": [
    "X_train_vanilla = X_train_vanilla.reshape((X_train_vanilla.shape[0], X_train_vanilla.shape[1], X_train_vanilla.shape[-1]))\n",
    "print(X_train_vanilla.shape)"
   ]
  },
  {
   "cell_type": "code",
   "execution_count": 156,
   "metadata": {},
   "outputs": [],
   "source": [
    "from keras.models import Sequential\n",
    "from keras.layers import LSTM\n",
    "from keras.layers import Dense, Dropout\n",
    "from keras.callbacks import LearningRateScheduler, ModelCheckpoint\n",
    "from keras.layers import Bidirectional\n",
    "from keras import optimizers"
   ]
  },
  {
   "cell_type": "code",
   "execution_count": 157,
   "metadata": {},
   "outputs": [],
   "source": [
    "def vanilla_lstm(n_steps_vanilla, n_features_vanilla):\n",
    "    model = Sequential()\n",
    "#     model.add(LSTM(units=100, activation='relu', batch_input_shape=(8,n_steps_vanilla,n_features_vanilla)))\n",
    "    model.add(LSTM(units=100, activation='relu', input_shape=(n_steps_vanilla, n_features_vanilla),return_sequences=False)) # make False if use only 1 layer.\n",
    "                                                                                                                                                                #make True if need multi layer\n",
    "#     model.add(LSTM(100,return_sequences=True))\n",
    "#     model.add(LSTM(100))\n",
    "#     model.add(Dropout(0.5))\n",
    "    model.add(Dense(1))\n",
    "    return model"
   ]
  },
  {
   "cell_type": "code",
   "execution_count": 163,
   "metadata": {},
   "outputs": [],
   "source": [
    "n_steps_vanilla = number_of_step_lstm\n",
    "# n_steps_vanilla = 5\n",
    "n_features_vanilla = X_train_vanilla.shape[-1]\n",
    "vanilla_model = vanilla_lstm(n_steps_vanilla, n_features_vanilla)"
   ]
  },
  {
   "cell_type": "code",
   "execution_count": 164,
   "metadata": {},
   "outputs": [],
   "source": [
    "vanilla_model.compile(optimizer='adam', loss='mse',metrics=['accuracy'])"
   ]
  },
  {
   "cell_type": "code",
   "execution_count": 165,
   "metadata": {
    "scrolled": true
   },
   "outputs": [
    {
     "name": "stdout",
     "output_type": "stream",
     "text": [
      "_________________________________________________________________\n",
      "Layer (type)                 Output Shape              Param #   \n",
      "=================================================================\n",
      "lstm_2 (LSTM)                (None, 100)               41600     \n",
      "_________________________________________________________________\n",
      "dense_5 (Dense)              (None, 1)                 101       \n",
      "=================================================================\n",
      "Total params: 41,701\n",
      "Trainable params: 41,701\n",
      "Non-trainable params: 0\n",
      "_________________________________________________________________\n"
     ]
    }
   ],
   "source": [
    "vanilla_model.summary()"
   ]
  },
  {
   "cell_type": "code",
   "execution_count": 166,
   "metadata": {},
   "outputs": [],
   "source": [
    "# epochs = 30"
   ]
  },
  {
   "cell_type": "code",
   "execution_count": 167,
   "metadata": {
    "scrolled": true
   },
   "outputs": [
    {
     "name": "stdout",
     "output_type": "stream",
     "text": [
      "Train on 55280 samples, validate on 13821 samples\n",
      "epoch value:  0\n",
      "now lr_1:  0.01\n",
      "Epoch 1/30\n",
      "55280/55280 [==============================] - 7s 125us/step - loss: 23.6576 - acc: 1.8090e-05 - val_loss: 2.8471 - val_acc: 0.0000e+00\n",
      "epoch value:  1\n",
      "now lr_1:  0.01\n",
      "Epoch 2/30\n",
      "55280/55280 [==============================] - 7s 120us/step - loss: 4.8116 - acc: 1.8090e-05 - val_loss: 2.2361 - val_acc: 0.0000e+00\n",
      "epoch value:  2\n",
      "now lr_1:  0.01\n",
      "Epoch 3/30\n",
      "55280/55280 [==============================] - 7s 119us/step - loss: 4.0387 - acc: 1.8090e-05 - val_loss: 1.7461 - val_acc: 0.0000e+00\n",
      "epoch value:  3\n",
      "now lr_1:  0.01\n",
      "Epoch 4/30\n",
      "55280/55280 [==============================] - 7s 119us/step - loss: 2.9587 - acc: 0.0000e+00 - val_loss: 3.9942 - val_acc: 0.0000e+00\n",
      "epoch value:  4\n",
      "now lr_1:  0.01\n",
      "Epoch 5/30\n",
      "55280/55280 [==============================] - 7s 120us/step - loss: 2.4049 - acc: 1.8090e-05 - val_loss: 0.8943 - val_acc: 0.0000e+00\n",
      "epoch value:  5\n",
      "now lr_1:  0.01\n",
      "Epoch 6/30\n",
      "55280/55280 [==============================] - 7s 120us/step - loss: 2.3422 - acc: 1.8090e-05 - val_loss: 0.9157 - val_acc: 0.0000e+00\n",
      "epoch value:  6\n",
      "now lr_1:  0.01\n",
      "Epoch 7/30\n",
      "55280/55280 [==============================] - 7s 120us/step - loss: 2.2325 - acc: 0.0000e+00 - val_loss: 1.9929 - val_acc: 0.0000e+00\n",
      "epoch value:  7\n",
      "now lr_1:  0.01\n",
      "Epoch 8/30\n",
      "55280/55280 [==============================] - 7s 120us/step - loss: 2.0676 - acc: 0.0000e+00 - val_loss: 2.1099 - val_acc: 0.0000e+00\n",
      "epoch value:  8\n",
      "now lr_1:  0.01\n",
      "Epoch 9/30\n",
      "55280/55280 [==============================] - 7s 121us/step - loss: 2.0254 - acc: 1.8090e-05 - val_loss: 0.8435 - val_acc: 0.0000e+00\n",
      "epoch value:  9\n",
      "now lr_1:  0.01\n",
      "Epoch 10/30\n",
      "55280/55280 [==============================] - 7s 119us/step - loss: 1.9534 - acc: 1.8090e-05 - val_loss: 1.1237 - val_acc: 0.0000e+00\n",
      "epoch value:  10\n",
      "now lr_1:  0.001\n",
      "Epoch 11/30\n",
      "55280/55280 [==============================] - 7s 119us/step - loss: 1.3300 - acc: 1.8090e-05 - val_loss: 0.6726 - val_acc: 0.0000e+00\n",
      "epoch value:  11\n",
      "now lr_1:  0.001\n",
      "Epoch 12/30\n",
      "55280/55280 [==============================] - 7s 120us/step - loss: 1.3106 - acc: 1.8090e-05 - val_loss: 0.6467 - val_acc: 0.0000e+00\n",
      "epoch value:  12\n",
      "now lr_1:  0.001\n",
      "Epoch 13/30\n",
      "55280/55280 [==============================] - 7s 118us/step - loss: 1.2971 - acc: 1.8090e-05 - val_loss: 0.8004 - val_acc: 0.0000e+00\n",
      "epoch value:  13\n",
      "now lr_1:  0.001\n",
      "Epoch 14/30\n",
      "55280/55280 [==============================] - 7s 120us/step - loss: 1.2776 - acc: 1.8090e-05 - val_loss: 0.7592 - val_acc: 0.0000e+00\n",
      "epoch value:  14\n",
      "now lr_1:  0.001\n",
      "Epoch 15/30\n",
      "55280/55280 [==============================] - 7s 119us/step - loss: 1.2689 - acc: 1.8090e-05 - val_loss: 0.6821 - val_acc: 0.0000e+00\n",
      "epoch value:  15\n",
      "now lr_1:  0.001\n",
      "Epoch 16/30\n",
      "55280/55280 [==============================] - 7s 119us/step - loss: 1.2649 - acc: 1.8090e-05 - val_loss: 0.6328 - val_acc: 0.0000e+00\n",
      "epoch value:  16\n",
      "now lr_1:  0.001\n",
      "Epoch 17/30\n",
      "55280/55280 [==============================] - 7s 119us/step - loss: 1.2459 - acc: 1.8090e-05 - val_loss: 0.6345 - val_acc: 0.0000e+00\n",
      "epoch value:  17\n",
      "now lr_1:  0.001\n",
      "Epoch 18/30\n",
      "55280/55280 [==============================] - 7s 119us/step - loss: 1.2486 - acc: 1.8090e-05 - val_loss: 0.6135 - val_acc: 0.0000e+00\n",
      "epoch value:  18\n",
      "now lr_1:  0.001\n",
      "Epoch 19/30\n",
      "55280/55280 [==============================] - 7s 118us/step - loss: 1.2471 - acc: 1.8090e-05 - val_loss: 0.5983 - val_acc: 0.0000e+00\n",
      "epoch value:  19\n",
      "now lr_1:  0.001\n",
      "Epoch 20/30\n",
      "55280/55280 [==============================] - 7s 118us/step - loss: 1.2406 - acc: 1.8090e-05 - val_loss: 0.6109 - val_acc: 0.0000e+00\n",
      "epoch value:  20\n",
      "now lr_1:  0.00010000000000000002\n",
      "Epoch 21/30\n",
      "55280/55280 [==============================] - 7s 120us/step - loss: 1.1681 - acc: 1.8090e-05 - val_loss: 0.6143 - val_acc: 0.0000e+00\n",
      "epoch value:  21\n",
      "now lr_1:  0.00010000000000000002\n",
      "Epoch 22/30\n",
      "55280/55280 [==============================] - 7s 119us/step - loss: 1.1647 - acc: 1.8090e-05 - val_loss: 0.5925 - val_acc: 0.0000e+00\n",
      "epoch value:  22\n",
      "now lr_1:  0.00010000000000000002\n",
      "Epoch 23/30\n",
      "55280/55280 [==============================] - 7s 119us/step - loss: 1.1651 - acc: 1.8090e-05 - val_loss: 0.6480 - val_acc: 0.0000e+00\n",
      "epoch value:  23\n",
      "now lr_1:  0.00010000000000000002\n",
      "Epoch 24/30\n",
      "55280/55280 [==============================] - 7s 120us/step - loss: 1.1633 - acc: 1.8090e-05 - val_loss: 0.6537 - val_acc: 0.0000e+00\n",
      "epoch value:  24\n",
      "now lr_1:  0.00010000000000000002\n",
      "Epoch 25/30\n",
      "55280/55280 [==============================] - 7s 120us/step - loss: 1.1624 - acc: 1.8090e-05 - val_loss: 0.6038 - val_acc: 0.0000e+00\n",
      "epoch value:  25\n",
      "now lr_1:  0.00010000000000000002\n",
      "Epoch 26/30\n",
      "55280/55280 [==============================] - 7s 119us/step - loss: 1.1634 - acc: 1.8090e-05 - val_loss: 0.6041 - val_acc: 0.0000e+00\n",
      "epoch value:  26\n",
      "now lr_1:  0.00010000000000000002\n",
      "Epoch 27/30\n",
      "55280/55280 [==============================] - 7s 119us/step - loss: 1.1620 - acc: 1.8090e-05 - val_loss: 0.6147 - val_acc: 0.0000e+00\n",
      "epoch value:  27\n",
      "now lr_1:  0.00010000000000000002\n",
      "Epoch 28/30\n",
      "55280/55280 [==============================] - 7s 119us/step - loss: 1.1599 - acc: 1.8090e-05 - val_loss: 0.6110 - val_acc: 0.0000e+00\n",
      "epoch value:  28\n",
      "now lr_1:  0.00010000000000000002\n",
      "Epoch 29/30\n",
      "55280/55280 [==============================] - 7s 119us/step - loss: 1.1609 - acc: 1.8090e-05 - val_loss: 0.6004 - val_acc: 0.0000e+00\n",
      "epoch value:  29\n",
      "now lr_1:  0.00010000000000000002\n",
      "Epoch 30/30\n",
      "55280/55280 [==============================] - 7s 120us/step - loss: 1.1589 - acc: 1.8090e-05 - val_loss: 0.6361 - val_acc: 0.0000e+00\n"
     ]
    }
   ],
   "source": [
    "train_model_vanilla = vanilla_model.fit(X_train_vanilla, y_train_vanilla, batch_size=batch_size, epochs=epochs, verbose=1,validation_split=0.2,\n",
    "                                        shuffle=True,callbacks=[LearningRateScheduler(lr_schedule)])"
   ]
  },
  {
   "cell_type": "code",
   "execution_count": 168,
   "metadata": {},
   "outputs": [
    {
     "name": "stdout",
     "output_type": "stream",
     "text": [
      "dict_keys(['val_loss', 'val_acc', 'loss', 'acc'])\n"
     ]
    }
   ],
   "source": [
    "print(train_model_vanilla.history.keys())"
   ]
  },
  {
   "cell_type": "code",
   "execution_count": 170,
   "metadata": {
    "scrolled": true
   },
   "outputs": [
    {
     "data": {
      "image/png": "[encoded data removed]",
      "text/plain": [
       "<Figure size 864x360 with 1 Axes>"
      ]
     },
     "metadata": {
      "needs_background": "light"
     },
     "output_type": "display_data"
    }
   ],
   "source": [
    "# summarize history for accuracy\n",
    "# plt.plot(train_model_vanilla.history['acc'], '-o', color = 'red')\n",
    "plt.plot(train_model_vanilla.history['loss'],'-^', color = 'green')\n",
    "plt.plot(train_model_vanilla.history['val_loss'],'-o', color = 'red')\n",
    "# plt.title('model accuracy')\n",
    "plt.ylabel('loss')\n",
    "plt.xlabel('epoch')\n",
    "plt.legend(['loss','val_loss'], loc='best')\n",
    "# plt.savefig('vanilla_lstm_loss_vs_epoch_shuffle_false.png',bbox_inches='tight')\n",
    "plt.rcParams['figure.figsize'] =(12,5)"
   ]
  },
  {
   "cell_type": "code",
   "execution_count": 171,
   "metadata": {},
   "outputs": [],
   "source": [
    "vanilla_model.save(\"VANILLA_LSTM.h5\")"
   ]
  },
  {
   "cell_type": "code",
   "execution_count": 172,
   "metadata": {},
   "outputs": [],
   "source": [
    "from keras.models import load_model\n",
    "load_trained_VANILLA_LSTM=load_model(\"VANILLA_LSTM.h5\")"
   ]
  },
  {
   "cell_type": "code",
   "execution_count": 175,
   "metadata": {},
   "outputs": [],
   "source": [
    "test_ip_vanilla,test_op_vanilla=split_sequence(multiple_ip_test_set,number_of_step_lstm)\n",
    "# test_ip_vanilla,test_op_vanilla=split_sequence(multiple_ip_test_set,1)\n",
    "n_features_test = test_ip_vanilla.shape[-1]\n",
    "X_test_ip_vanilla=test_ip_vanilla.reshape((test_ip_vanilla.shape[0], test_ip_vanilla.shape[1], n_features_test))"
   ]
  },
  {
   "cell_type": "code",
   "execution_count": 176,
   "metadata": {},
   "outputs": [
    {
     "name": "stdout",
     "output_type": "stream",
     "text": [
      "198/198 [==============================] - 0s 1ms/step\n",
      "(198, 1)\n"
     ]
    }
   ],
   "source": [
    "yhat_vanilla_loaded = vanilla_model.predict(X_test_ip_vanilla, verbose=1)\n",
    "print(yhat_vanilla_loaded.shape)"
   ]
  },
  {
   "cell_type": "code",
   "execution_count": 177,
   "metadata": {},
   "outputs": [
    {
     "name": "stdout",
     "output_type": "stream",
     "text": [
      "Train: 0.000, Test: 0.000\n"
     ]
    }
   ],
   "source": [
    "# evaluate the model\n",
    "_, train_mse = vanilla_model.evaluate(X_train_vanilla, y_train_vanilla, verbose=0)\n",
    "_, test_mse = vanilla_model.evaluate(X_test_ip_vanilla, test_op_vanilla, verbose=0)\n",
    "print('Train: %.3f, Test: %.3f' % (train_mse, test_mse))"
   ]
  },
  {
   "cell_type": "code",
   "execution_count": 178,
   "metadata": {
    "scrolled": true
   },
   "outputs": [
    {
     "name": "stdout",
     "output_type": "stream",
     "text": [
      "r_2 statistic: 0.84\n",
      "Mean_absolute_error: 0.62\n",
      "Mean squared error: 1.05\n",
      "RMSE:  1.023637838884722\n",
      "!!!!---------------!!!!----------------!!!!\n"
     ]
    }
   ],
   "source": [
    "evaluation_metrices(test_op_vanilla, yhat_vanilla_loaded, final_directory, 'VANILLA_LSTM',evaluation_metrics_file_path)"
   ]
  },
  {
   "cell_type": "code",
   "execution_count": 179,
   "metadata": {},
   "outputs": [
    {
     "name": "stdout",
     "output_type": "stream",
     "text": [
      "(198, 1)\n",
      "(198, 1)\n"
     ]
    }
   ],
   "source": [
    "test_op_vanilla_reshape = np.reshape(test_op_vanilla,(-1,1))\n",
    "print(test_op_vanilla_reshape.shape)\n",
    "print(yhat_vanilla_loaded.shape)"
   ]
  },
  {
   "cell_type": "code",
   "execution_count": 180,
   "metadata": {
    "scrolled": true
   },
   "outputs": [
    {
     "data": {
      "image/png": "[encoded data removed]",
      "text/plain": [
       "<Figure size 864x360 with 1 Axes>"
      ]
     },
     "metadata": {
      "needs_background": "light"
     },
     "output_type": "display_data"
    },
    {
     "name": "stdout",
     "output_type": "stream",
     "text": [
      "<class 'numpy.ndarray'>\n"
     ]
    },
    {
     "data": {
      "image/png": "[encoded data removed]",
      "text/plain": [
       "<Figure size 864x360 with 1 Axes>"
      ]
     },
     "metadata": {
      "needs_background": "light"
     },
     "output_type": "display_data"
    },
    {
     "data": {
      "image/png": "[encoded data removed]",
      "text/plain": [
       "<Figure size 864x360 with 1 Axes>"
      ]
     },
     "metadata": {
      "needs_background": "light"
     },
     "output_type": "display_data"
    },
    {
     "data": {
      "image/png": "[encoded data removed]",
      "text/plain": [
       "<Figure size 864x360 with 1 Axes>"
      ]
     },
     "metadata": {
      "needs_background": "light"
     },
     "output_type": "display_data"
    }
   ],
   "source": [
    "plot_graph(test_op_vanilla_reshape, yhat_vanilla_loaded, final_directory,'vanilla_LSTM')"
   ]
  },
  {
   "cell_type": "code",
   "execution_count": null,
   "metadata": {},
   "outputs": [],
   "source": []
  },
  {
   "cell_type": "code",
   "execution_count": null,
   "metadata": {},
   "outputs": [],
   "source": [
    "import numpy as np\n",
    "A = [12,3,4,5,6,7,8,9,12,10,201,202,21,-2,-3]"
   ]
  },
  {
   "cell_type": "code",
   "execution_count": null,
   "metadata": {},
   "outputs": [],
   "source": [
    "A = np.array(A)\n",
    "print(type(A))\n",
    "print(A.shape)"
   ]
  },
  {
   "cell_type": "code",
   "execution_count": null,
   "metadata": {},
   "outputs": [],
   "source": [
    "print(A[0:])"
   ]
  },
  {
   "cell_type": "code",
   "execution_count": null,
   "metadata": {},
   "outputs": [],
   "source": [
    "print(A[-1:])"
   ]
  },
  {
   "cell_type": "code",
   "execution_count": null,
   "metadata": {},
   "outputs": [],
   "source": [
    "print(A[-5:])"
   ]
  },
  {
   "cell_type": "markdown",
   "metadata": {},
   "source": [
    "# ARIMA TESTING"
   ]
  },
  {
   "cell_type": "code",
   "execution_count": null,
   "metadata": {},
   "outputs": [],
   "source": [
    "df = dataframe_no_string[[target_column]]"
   ]
  },
  {
   "cell_type": "code",
   "execution_count": null,
   "metadata": {},
   "outputs": [],
   "source": [
    "type(df)"
   ]
  },
  {
   "cell_type": "code",
   "execution_count": null,
   "metadata": {
    "scrolled": true
   },
   "outputs": [],
   "source": [
    "df.head()"
   ]
  },
  {
   "cell_type": "code",
   "execution_count": null,
   "metadata": {},
   "outputs": [],
   "source": [
    "df_1 = dataframe_no_string.iloc[:,-1]\n",
    "type(df_1)"
   ]
  },
  {
   "cell_type": "code",
   "execution_count": null,
   "metadata": {
    "scrolled": true
   },
   "outputs": [],
   "source": [
    "# from statsmodels.tsa.stattools import adfuller\n",
    "# from numpy import log\n",
    "# result = adfuller(df_1.values.dropna())\n",
    "# print('ADF Statistic: %f' % result[0])\n",
    "# print('p-value: %f' % result[1])"
   ]
  },
  {
   "cell_type": "code",
   "execution_count": null,
   "metadata": {},
   "outputs": [],
   "source": [
    "print(df.shape)\n",
    "print(df_1.shape)"
   ]
  },
  {
   "cell_type": "code",
   "execution_count": null,
   "metadata": {},
   "outputs": [],
   "source": [
    "# ADF Test\n",
    "result = adfuller(df_1.values, autolag='AIC')\n",
    "print(f'ADF Statistic: {result[0]}')\n",
    "print(f'p-value: {result[1]}')\n",
    "for key, value in result[4].items():\n",
    "    print('Critial Values:')\n",
    "    print(f'   {key}, {value}')"
   ]
  },
  {
   "cell_type": "code",
   "execution_count": null,
   "metadata": {},
   "outputs": [],
   "source": [
    "def test_stationarity(timeseries):\n",
    "    \n",
    "    #Determing rolling statistics\n",
    "    rolmean = timeseries.rolling(12).mean()\n",
    "    rolstd = timeseries.rolling(12).std()\n",
    "\n",
    "    #Plot rolling statistics:\n",
    "    fig = plt.figure(figsize=(12, 8))\n",
    "    orig = plt.plot(timeseries, color='blue',label='Original')\n",
    "    mean = plt.plot(rolmean, color='red', label='Rolling Mean')\n",
    "    std = plt.plot(rolstd, color='black', label = 'Rolling Std')\n",
    "    plt.legend(loc='best')\n",
    "    plt.title('Rolling Mean & Standard Deviation')\n",
    "    plt.show()\n",
    "    \n",
    "    #Perform Dickey-Fuller test:\n",
    "    print( 'Results of Dickey-Fuller Test:')\n",
    "    dftest = adfuller(timeseries, autolag='AIC')\n",
    "    dfoutput = pd.Series(dftest[0:4], index=['Test Statistic','p-value','#Lags Used','Number of Observations Used'])\n",
    "    p_value = dfoutput['p-value']\n",
    "    for key,value in dftest[4].items():\n",
    "        dfoutput['Critical Value (%s)'%key] = value\n",
    "    print(dfoutput) \n",
    "    \n",
    "    if p_value <= 0.05:\n",
    "        print(f\" => P-Value = {p_value}. Rejecting Null Hypothesis.\")\n",
    "        print(f\" => Series is Stationary.\")\n",
    "    else:\n",
    "        print(f\" => P-Value = {p_value}. Weak evidence to reject the Null Hypothesis.\")\n",
    "        print(f\" => Series is Non-Stationary.\") \n",
    "    "
   ]
  },
  {
   "cell_type": "code",
   "execution_count": null,
   "metadata": {},
   "outputs": [],
   "source": [
    "test_stationarity(df_1)"
   ]
  },
  {
   "cell_type": "code",
   "execution_count": null,
   "metadata": {},
   "outputs": [],
   "source": [
    "def make_dataset(PandaDataframe):\n",
    "    dataset = np.array(PandaDataframe)\n",
    "\n",
    "    NumberOfElements = int(len(dataset)*0.9985)\n",
    "    print('dataset length: ',len(dataset))\n",
    "    print('Number of Elements for training: ',NumberOfElements)\n",
    "\n",
    "    train_data = dataset[0:NumberOfElements]\n",
    "    test_data = dataset[NumberOfElements:len(dataset)]\n",
    "    \n",
    "    return train_data, test_data\n",
    "\n",
    "train_set, test_set = make_dataset(df)\n",
    "print('train_set shape: ', train_set.shape)\n",
    "print('test_set shape: ', test_set.shape)"
   ]
  },
  {
   "cell_type": "code",
   "execution_count": null,
   "metadata": {},
   "outputs": [],
   "source": [
    "Actual = [x for x in train_set]\n",
    "Predictions = list()"
   ]
  },
  {
   "cell_type": "code",
   "execution_count": null,
   "metadata": {},
   "outputs": [],
   "source": [
    "#Function that calls ARIMA model to fit and forecast the data\n",
    "def StartARIMAForecasting(Actual, P, D, Q):\n",
    "#     print('from function screaming')\n",
    "    model = ARIMA(Actual, order=(P, D, Q))\n",
    "    model_fit = model.fit(disp=0)\n",
    "    prediction = model_fit.forecast()[0]\n",
    "    return prediction"
   ]
  },
  {
   "cell_type": "code",
   "execution_count": null,
   "metadata": {},
   "outputs": [],
   "source": [
    "import statsmodels.api as sm\n",
    "from statsmodels.tsa.arima_model import ARIMA\n",
    "from statsmodels.tsa.arima_model import ARIMAResults"
   ]
  },
  {
   "cell_type": "code",
   "execution_count": null,
   "metadata": {
    "scrolled": true
   },
   "outputs": [],
   "source": [
    "count_1=1\n",
    "for timepoint in range(len(test_set)):\n",
    "#     print('I am in for loop')\n",
    "    ActualValue =  test_set[timepoint]\n",
    "    #forcast value\n",
    "    Prediction = StartARIMAForecasting(Actual, 1,1,2)\n",
    "    print('count=%d, Actual=%f, Predicted=%f' % (count_1 ,ActualValue, Prediction))\n",
    "    count_1+=1\n",
    "    #add it in the list\n",
    "    Predictions.append(Prediction)\n",
    "    Actual.append(ActualValue)"
   ]
  },
  {
   "cell_type": "code",
   "execution_count": null,
   "metadata": {
    "scrolled": true
   },
   "outputs": [],
   "source": [
    "from sklearn.metrics import mean_squared_error\n",
    "\n",
    "#Print MSE to see how good the model is\n",
    "Error = mean_squared_error(test_set, Predictions)\n",
    "print('Test Mean Squared Error (smaller the better fit): %.3f' % Error)\n",
    "\n",
    "print(\"size of prediction: \",len(Predictions))\n",
    "print(\"size of actual: \",len(Actual))"
   ]
  },
  {
   "cell_type": "code",
   "execution_count": null,
   "metadata": {},
   "outputs": [],
   "source": [
    "print(type(Predictions))\n",
    "predictions_array = np.array(Predictions)\n",
    "print(type(predictions_array))\n",
    "print(predictions_array.shape)\n",
    "print(type(test_set))\n",
    "print(test_set.shape)"
   ]
  },
  {
   "cell_type": "code",
   "execution_count": null,
   "metadata": {},
   "outputs": [],
   "source": [
    "plt.subplot(2,2,1)\n",
    "plt.plot(Predictions,color='green')\n",
    "plt.plot(test_set,color='red')\n",
    "plt.xticks( rotation=25)\n",
    "plt.rcParams['figure.figsize'] =(20,10)\n",
    "\n",
    "plt.subplot(2,2,2)\n",
    "plt.plot((min(test_set), max(test_set)), (min(predictions_array), max(predictions_array)), color='red')\n",
    "plt.scatter(test_set, predictions_array, color='blue')\n",
    "\n",
    "\n",
    "plt.subplot(2,2,3)\n",
    "difference_of_value = predictions_array - test_set\n",
    "# print(type(difference_of_value))\n",
    "plt.plot(difference_of_value[:])\n",
    "\n",
    "plt.subplot(2,2,4)\n",
    "plt.hist(difference_of_value, bins=20)\n",
    "\n",
    "plt.show()"
   ]
  },
  {
   "cell_type": "code",
   "execution_count": null,
   "metadata": {},
   "outputs": [],
   "source": []
  },
  {
   "cell_type": "code",
   "execution_count": null,
   "metadata": {},
   "outputs": [],
   "source": []
  },
  {
   "cell_type": "code",
   "execution_count": null,
   "metadata": {},
   "outputs": [],
   "source": [
    "%matplotlib inline\n",
    "import re\n",
    "import datetime\n",
    "import numpy as np\n",
    "import pandas as pd\n",
    "import seaborn as sns\n",
    "from scipy import stats\n",
    "import matplotlib.pyplot as plt\n",
    "import statsmodels.tsa.api as smt\n",
    "import plotly.graph_objects as go\n",
    "from plotly.subplots import make_subplots\n",
    "from dateutil.relativedelta import relativedelta\n",
    "from statsmodels.tsa.stattools import acf, pacf \n",
    "from statsmodels.tsa.seasonal import seasonal_decompose\n",
    "from statsmodels.tsa.stattools import adfuller\n",
    "from sklearn.model_selection import cross_val_predict\n",
    "from sklearn.metrics import mean_squared_error, r2_score\n",
    "from sklearn.svm import SVR\n",
    "import warnings\n",
    "warnings.filterwarnings(\"ignore\")"
   ]
  },
  {
   "cell_type": "code",
   "execution_count": null,
   "metadata": {},
   "outputs": [],
   "source": [
    "sns.pairplot(dataframe_high_correlation, height = 2.5)"
   ]
  },
  {
   "cell_type": "code",
   "execution_count": null,
   "metadata": {},
   "outputs": [],
   "source": [
    "stat, p = stats.normaltest(df_1)\n",
    "print('Statistics=%.3f, p=%.3f' % (stat, p))\n",
    "alpha = 0.05\n",
    "if p > alpha:\n",
    "    print('Data looks Gaussian (fail to reject H0)')\n",
    "else:\n",
    "    print('Data does not look Gaussian (reject H0)')"
   ]
  },
  {
   "cell_type": "code",
   "execution_count": null,
   "metadata": {},
   "outputs": [],
   "source": [
    "# decomposition = seasonal_decompose(df.iloc[:,-1], freq=7)\n",
    "decomposition = seasonal_decompose(df_1, freq=7)\n",
    "fig = plt.figure()  \n",
    "fig = decomposition.plot()  \n",
    "fig.set_size_inches(12,5)"
   ]
  },
  {
   "cell_type": "code",
   "execution_count": null,
   "metadata": {},
   "outputs": [],
   "source": [
    "n_sample = df_1.shape[0]\n",
    "print(n_sample)"
   ]
  },
  {
   "cell_type": "code",
   "execution_count": null,
   "metadata": {},
   "outputs": [],
   "source": [
    "n_train=int(0.9985*n_sample)+1\n",
    "n_forecast=n_sample-n_train\n",
    "\n",
    "ts_train = df.iloc[:n_train][target_column]\n",
    "ts_test = df.iloc[n_train:][target_column]\n",
    "print(ts_train.shape)\n",
    "print(ts_test.shape)\n",
    "print(\"Training Series:\", \"\\n\", ts_train.head(), \"\\n\")\n",
    "print(\"Testing Series:\", \"\\n\", ts_test.head())"
   ]
  },
  {
   "cell_type": "code",
   "execution_count": null,
   "metadata": {},
   "outputs": [],
   "source": [
    "def tsplot(y, lags=None, title='', figsize=(14, 8)):\n",
    "\n",
    "    fig = plt.figure(figsize=figsize)\n",
    "    layout = (2, 2)\n",
    "    ts_ax   = plt.subplot2grid(layout, (0, 0))\n",
    "    hist_ax = plt.subplot2grid(layout, (0, 1))\n",
    "    acf_ax  = plt.subplot2grid(layout, (1, 0))\n",
    "    pacf_ax = plt.subplot2grid(layout, (1, 1))\n",
    "    \n",
    "    y.plot(ax=ts_ax)\n",
    "    ts_ax.set_title(title)\n",
    "    y.plot(ax=hist_ax, kind='hist', bins=25)\n",
    "    hist_ax.set_title('Histogram')\n",
    "    smt.graphics.plot_acf(y, lags=lags, ax=acf_ax)\n",
    "    smt.graphics.plot_pacf(y, lags=lags, ax=pacf_ax)\n",
    "    [ax.set_xlim(0) for ax in [acf_ax, pacf_ax]]\n",
    "    sns.despine()\n",
    "    fig.tight_layout()\n",
    "    return ts_ax, acf_ax, pacf_ax"
   ]
  },
  {
   "cell_type": "code",
   "execution_count": null,
   "metadata": {},
   "outputs": [],
   "source": [
    "tsplot(ts_train, title='Output of the Turbine 9', lags=7)"
   ]
  },
  {
   "cell_type": "code",
   "execution_count": null,
   "metadata": {},
   "outputs": [],
   "source": []
  },
  {
   "cell_type": "code",
   "execution_count": null,
   "metadata": {},
   "outputs": [],
   "source": [
    "print(dataframe_high_correlation.shape)"
   ]
  },
  {
   "cell_type": "code",
   "execution_count": null,
   "metadata": {},
   "outputs": [],
   "source": [
    "dataframe_resample = dataframe_high_correlation.resample('1min').mean()"
   ]
  },
  {
   "cell_type": "code",
   "execution_count": null,
   "metadata": {},
   "outputs": [],
   "source": [
    "print(dataframe_resample.shape)"
   ]
  },
  {
   "cell_type": "code",
   "execution_count": null,
   "metadata": {},
   "outputs": [],
   "source": [
    "print(dataframe_resample.shape)\n",
    "\n",
    "plt.plot(dataframe_resample[target_column], color = 'blue')\n",
    "# plt.plot(dataframe_no_string[furnace_signal_column_a], color = 'red')\n",
    "# plt.plot(dataframe_no_string[furnace_signal_column_b], color = 'green')\n",
    "# plt.legend([target_column, furnace_signal_column_a, furnace_signal_column_b], loc='upper left')\n",
    "plt.legend([target_column], loc='best')\n",
    "plt.xticks(np.arange(dataframe_resample.index[0],dataframe_resample.index[-1]),rotation='vertical')\n",
    "# plt.xticks(rotation = 'vertical')\n",
    "plt.xlabel('Numebr of observation')\n",
    "plt.ylabel('Value')\n",
    "# plt.savefig('final_target_column.png',bbox_inches='tight')\n",
    "plt.xlim(dataframe_resample.index[0],dataframe_resample.index[-1]+5)\n",
    "# plt.xticks(np.arange(0,initial_dataframe.shape[0],))\n",
    "plt.rcParams['figure.figsize'] = (12, 5)"
   ]
  },
  {
   "cell_type": "code",
   "execution_count": null,
   "metadata": {},
   "outputs": [],
   "source": [
    "dataframe_resample.index[-1]"
   ]
  },
  {
   "cell_type": "code",
   "execution_count": null,
   "metadata": {},
   "outputs": [],
   "source": []
  }
 ],
 "metadata": {
  "kernelspec": {
   "display_name": "Python 3",
   "language": "python",
   "name": "python3"
  },
  "language_info": {
   "codemirror_mode": {
    "name": "ipython",
    "version": 3
   },
   "file_extension": ".py",
   "mimetype": "text/x-python",
   "name": "python",
   "nbconvert_exporter": "python",
   "pygments_lexer": "ipython3",
   "version": "3.6.8"
  }
 },
 "nbformat": 4,
 "nbformat_minor": 2
}
