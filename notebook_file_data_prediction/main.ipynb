{
 "cells": [
  {
   "cell_type": "code",
   "execution_count": null,
   "metadata": {},
   "outputs": [],
   "source": [
    "# import import_ipynb\n",
    "# %run data_analysis_function.ipynb"
   ]
  },
  {
   "cell_type": "code",
   "execution_count": null,
   "metadata": {},
   "outputs": [],
   "source": [
    "# import data_analysis_function"
   ]
  },
  {
   "cell_type": "code",
   "execution_count": null,
   "metadata": {},
   "outputs": [],
   "source": [
    "# from ipynb.fs.full.data_analysis_function import create_dataframe\n",
    "# from ipynb.fs.full.data_analysis_function import conversion_timestamp_to_unixtime"
   ]
  },
  {
   "cell_type": "code",
   "execution_count": null,
   "metadata": {},
   "outputs": [],
   "source": [
    "# from ipynb.fs.full.data_analysis_function import remove_rw_column"
   ]
  },
  {
   "cell_type": "code",
   "execution_count": 3,
   "metadata": {},
   "outputs": [],
   "source": [
    "import json\n",
    "import collections\n",
    "import os\n",
    "from sklearn.linear_model import LinearRegression\n",
    "from sklearn.ensemble import ExtraTreesRegressor\n",
    "from sklearn.ensemble import BaggingRegressor\n",
    "from sklearn.ensemble import GradientBoostingRegressor as GBR\n",
    "from sklearn import linear_model\n",
    "from sklearn import tree\n",
    "\n",
    "import numpy as np\n",
    "import matplotlib.pyplot as plt\n",
    "import pandas as pd\n",
    "\n",
    "from dataset_analysis import create_dataframe\n",
    "from dataset_analysis import conversion_timestamp_to_unixtime\n",
    "from dataset_analysis import remove_rw_column\n",
    "from dataset_analysis import alter_time\n",
    "from dataset_analysis import rearrange_frame\n",
    "from dataset_analysis import drop_zero_value_row_of_blast_furnace_signal\n",
    "from dataset_analysis import drop_zero_value_row_of_target_signal\n",
    "from dataset_analysis import drop_column_with_same_value\n",
    "from dataset_analysis import drop_nan_value\n",
    "from dataset_analysis import drop_row\n",
    "from dataset_analysis import drop_string_column\n",
    "from dataset_analysis import feature_selection_with_selectKbest\n",
    "from dataset_analysis import pearson_correlation\n",
    "from dataset_analysis import make_dataframe_with_high_correlated_value\n",
    "from dataset_analysis import dataframe_date_time_type\n",
    "from dataset_analysis import my_sum\n",
    "from dataset_analysis import draw_graph\n",
    "from dataset_analysis import draw_feature_vs_target"
   ]
  },
  {
   "cell_type": "code",
   "execution_count": 4,
   "metadata": {},
   "outputs": [],
   "source": [
    "from model_file import make_dataset\n",
    "from model_file import scikit_learn_model\n",
    "from model_file import plot_graph\n",
    "from model_file import evaluation_metrices"
   ]
  },
  {
   "cell_type": "code",
   "execution_count": 5,
   "metadata": {},
   "outputs": [
    {
     "name": "stdout",
     "output_type": "stream",
     "text": [
      "<class 'float'>\n",
      "DEWIHOAT9_I0\n"
     ]
    }
   ],
   "source": [
    "with open('variable_config.json', 'r') as f:\n",
    "    config = json.load(f)\n",
    "\n",
    "filepath = config['DEFAULT']['file_path']\n",
    "filepath_ubuntu = config['DEFAULT']['file_path_ubuntu']\n",
    "filepath_server = config['DEFAULT']['file_path_server']\n",
    "start_pos = config['DEFAULT']['start_point_dataframe']\n",
    "end_pos = config['DEFAULT']['end_point_dataframe']\n",
    "date_column = config['DEFAULT']['date_column']\n",
    "target_column = config['DEFAULT']['target_column']\n",
    "furnace_signal_column_a = config['DEFAULT']['blast_furnace_signal_a']\n",
    "furnace_signal_column_b = config['DEFAULT']['blast_furnace_signal_b']\n",
    "max_best_number = config['DEFAULT']['max_best_number']\n",
    "correlation_threshold_min_value = config['DEFAULT']['correlation_threshold_min_value']\n",
    "correlation_threshold_max_value = config['DEFAULT']['correlation_threshold_max_value']\n",
    "subfolder_feature_vs_target = config['DEFAULT']['subfolder_feature_vs_target']\n",
    "evaluation_metrics_file_name = config['DEFAULT']['evaluation_metrics_file']\n",
    "print(type(correlation_threshold_min_value))\n",
    "print(furnace_signal_column_a)"
   ]
  },
  {
   "cell_type": "code",
   "execution_count": 6,
   "metadata": {},
   "outputs": [],
   "source": [
    "initial_dataframe = create_dataframe(filepath_server)"
   ]
  },
  {
   "cell_type": "code",
   "execution_count": null,
   "metadata": {
    "scrolled": false
   },
   "outputs": [],
   "source": [
    "initial_dataframe.head()"
   ]
  },
  {
   "cell_type": "code",
   "execution_count": null,
   "metadata": {
    "scrolled": true
   },
   "outputs": [],
   "source": [
    "u = initial_dataframe.columns.get_loc(\"DEWIHOAT9_I0\")\n",
    "v = initial_dataframe.columns.get_loc(\"DEWIHOBT9_I0\")\n",
    "w = initial_dataframe.columns.get_loc(\"DEWIHOAT8_I0\")\n",
    "x = initial_dataframe.columns.get_loc(\"DEWIHOBT8_I0\")\n",
    "print(u,v,w,x)"
   ]
  },
  {
   "cell_type": "markdown",
   "metadata": {},
   "source": [
    "# plotted blast furnace A and B for Turbine 8's output"
   ]
  },
  {
   "cell_type": "code",
   "execution_count": null,
   "metadata": {
    "scrolled": true
   },
   "outputs": [],
   "source": [
    "print(initial_dataframe.shape)\n",
    "plt.plot(initial_dataframe[\"AEWIHO_T8AV2\"], color = 'blue')\n",
    "plt.plot(initial_dataframe[\"DEWIHOBT8_I0\"], color = 'red')\n",
    "plt.plot(initial_dataframe[\"DEWIHOAT8_I0\"], color = 'black')\n",
    "plt.legend([\"AEWIHO_T8AV2\", \"DEWIHOBT8_I0\",\"DEWIHOAT8_I0\"], loc='upper left')\n",
    "# plt.xlim(0,initial_dataframe.shape[0]+10)\n",
    "# plt.xticks(np.arange(0,initial_dataframe.shape[0],))\n",
    "plt.rcParams['figure.figsize'] = (20, 10)"
   ]
  },
  {
   "cell_type": "markdown",
   "metadata": {},
   "source": [
    "# plotted blast furnace A and B for Turbine 9's output"
   ]
  },
  {
   "cell_type": "code",
   "execution_count": null,
   "metadata": {},
   "outputs": [],
   "source": [
    "print(initial_dataframe.shape)\n",
    "plt.plot(initial_dataframe[target_column], color = 'blue')\n",
    "plt.plot(initial_dataframe[furnace_signal_column_a], color = 'red')\n",
    "plt.plot(initial_dataframe[furnace_signal_column_b], color = 'black')\n",
    "# plt.legend([target_column, furnace_signal_column_a, furnace_signal_column_b], loc='upper left')\n",
    "# plt.xlim(0,initial_dataframe.shape[0]+10)\n",
    "# plt.xticks(np.arange(0,initial_dataframe.shape[0],))\n",
    "plt.rcParams['figure.figsize'] = (20, 10)"
   ]
  },
  {
   "cell_type": "code",
   "execution_count": 7,
   "metadata": {
    "scrolled": true
   },
   "outputs": [
    {
     "name": "stderr",
     "output_type": "stream",
     "text": [
      "/home/atif/machine_learning_stuff/Time-Series-Forecasting-of-a-Power-Plant/notebook_file_data_prediction/dataset_analysis.py:28: FutureWarning: Method .as_matrix will be removed in a future version. Use .values instead.\n",
      "  longTime = longTime.as_matrix()\n"
     ]
    }
   ],
   "source": [
    "test_new = conversion_timestamp_to_unixtime(initial_dataframe)"
   ]
  },
  {
   "cell_type": "code",
   "execution_count": null,
   "metadata": {},
   "outputs": [],
   "source": [
    "test_new.tail()"
   ]
  },
  {
   "cell_type": "code",
   "execution_count": null,
   "metadata": {},
   "outputs": [],
   "source": [
    "# test_new_alter = test_new.loc[::-1]\n",
    "# print(test_new_alter.shape)\n",
    "# test_new_alter.head()"
   ]
  },
  {
   "cell_type": "code",
   "execution_count": null,
   "metadata": {},
   "outputs": [],
   "source": [
    "# plt.plot(test_new_alter[target_column], color = 'blue')\n",
    "# plt.plot(test_new_alter[furnace_signal_column], color = 'red')\n",
    "# plt.legend([target_column, furnace_signal_column], loc='upper left')\n",
    "# # plt.xlim(0,initial_dataframe.shape[0]+10)\n",
    "# # plt.xticks(np.arange(0,initial_dataframe.shape[0],))\n",
    "# plt.rcParams['figure.figsize'] = (20, 10)"
   ]
  },
  {
   "cell_type": "code",
   "execution_count": 21,
   "metadata": {},
   "outputs": [
    {
     "data": {
      "text/plain": [
       "(186100, 4239)"
      ]
     },
     "execution_count": 21,
     "metadata": {},
     "output_type": "execute_result"
    }
   ],
   "source": [
    "test_new.shape"
   ]
  },
  {
   "cell_type": "code",
   "execution_count": 8,
   "metadata": {},
   "outputs": [],
   "source": [
    "# test_new_1 = test_new.drop(['row ID'], axis = 1)\n",
    "\n",
    "test_new_1 = test_new\n",
    "\n",
    "var_new = remove_rw_column(test_new_1)\n",
    "\n",
    "test_new_2 = test_new_1.iloc[:][var_new]\n",
    "\n",
    "# Taking define number of row from the beginning\n",
    "multivariate_data = alter_time(test_new_2, start_pos, test_new.shape[0])"
   ]
  },
  {
   "cell_type": "code",
   "execution_count": 9,
   "metadata": {},
   "outputs": [
    {
     "data": {
      "text/plain": [
       "(186100, 3983)"
      ]
     },
     "execution_count": 9,
     "metadata": {},
     "output_type": "execute_result"
    }
   ],
   "source": [
    "multivariate_data.shape"
   ]
  },
  {
   "cell_type": "code",
   "execution_count": 10,
   "metadata": {},
   "outputs": [
    {
     "data": {
      "text/html": [
       "<div>\n",
       "<style scoped>\n",
       "    .dataframe tbody tr th:only-of-type {\n",
       "        vertical-align: middle;\n",
       "    }\n",
       "\n",
       "    .dataframe tbody tr th {\n",
       "        vertical-align: top;\n",
       "    }\n",
       "\n",
       "    .dataframe thead th {\n",
       "        text-align: right;\n",
       "    }\n",
       "</style>\n",
       "<table border=\"1\" class=\"dataframe\">\n",
       "  <thead>\n",
       "    <tr style=\"text-align: right;\">\n",
       "      <th></th>\n",
       "      <th>AEAGHOAWE2T1</th>\n",
       "      <th>AEAGHOAWE2A0</th>\n",
       "      <th>AEAGHOAWE2T0</th>\n",
       "      <th>AEAGHOAWE1A0</th>\n",
       "      <th>AEAGHOAWE1T1</th>\n",
       "      <th>AEAGHOAWE1T0</th>\n",
       "      <th>AEAGHOAWE3T0</th>\n",
       "      <th>AEAGHOAWE3A0</th>\n",
       "      <th>AEAGHOAWE3T1</th>\n",
       "      <th>AEAGHOAWE_A2</th>\n",
       "      <th>...</th>\n",
       "      <th>AEWIHOCM__P0</th>\n",
       "      <th>AEWIHOC___P0</th>\n",
       "      <th>AEWIHOCKZ_V0</th>\n",
       "      <th>AEWIHOCK__V9</th>\n",
       "      <th>AEWIHOCWF_A2</th>\n",
       "      <th>AEWIHOC___T0</th>\n",
       "      <th>AEWIHOCWF_A1</th>\n",
       "      <th>AEWIHOAWF_V0</th>\n",
       "      <th>AEWIHOAKVSV0</th>\n",
       "      <th>dateTime</th>\n",
       "    </tr>\n",
       "  </thead>\n",
       "  <tbody>\n",
       "    <tr>\n",
       "      <th>186099</th>\n",
       "      <td>72.030143</td>\n",
       "      <td>28.019753</td>\n",
       "      <td>90.988125</td>\n",
       "      <td>25.369044</td>\n",
       "      <td>92.387543</td>\n",
       "      <td>90.208292</td>\n",
       "      <td>93.674403</td>\n",
       "      <td>10.971169</td>\n",
       "      <td>51.916376</td>\n",
       "      <td>100.000000</td>\n",
       "      <td>...</td>\n",
       "      <td>94.822678</td>\n",
       "      <td>56.662746</td>\n",
       "      <td>0.0</td>\n",
       "      <td>59.076656</td>\n",
       "      <td>63.49364</td>\n",
       "      <td>45.589686</td>\n",
       "      <td>30.354219</td>\n",
       "      <td>0</td>\n",
       "      <td>72.592791</td>\n",
       "      <td>2019-02-11 21:57:00</td>\n",
       "    </tr>\n",
       "    <tr>\n",
       "      <th>186098</th>\n",
       "      <td>72.030143</td>\n",
       "      <td>37.870419</td>\n",
       "      <td>90.988125</td>\n",
       "      <td>34.451579</td>\n",
       "      <td>88.177774</td>\n",
       "      <td>90.449495</td>\n",
       "      <td>93.353135</td>\n",
       "      <td>18.897334</td>\n",
       "      <td>51.451800</td>\n",
       "      <td>75.601790</td>\n",
       "      <td>...</td>\n",
       "      <td>94.806487</td>\n",
       "      <td>56.662746</td>\n",
       "      <td>0.0</td>\n",
       "      <td>59.186438</td>\n",
       "      <td>63.49364</td>\n",
       "      <td>45.589686</td>\n",
       "      <td>30.333882</td>\n",
       "      <td>0</td>\n",
       "      <td>72.108628</td>\n",
       "      <td>2019-02-11 21:58:00</td>\n",
       "    </tr>\n",
       "    <tr>\n",
       "      <th>186097</th>\n",
       "      <td>72.030143</td>\n",
       "      <td>37.539252</td>\n",
       "      <td>91.149431</td>\n",
       "      <td>28.288056</td>\n",
       "      <td>83.217843</td>\n",
       "      <td>90.611060</td>\n",
       "      <td>93.694815</td>\n",
       "      <td>21.669213</td>\n",
       "      <td>51.451800</td>\n",
       "      <td>88.131190</td>\n",
       "      <td>...</td>\n",
       "      <td>94.804366</td>\n",
       "      <td>56.662746</td>\n",
       "      <td>0.0</td>\n",
       "      <td>59.348841</td>\n",
       "      <td>63.49364</td>\n",
       "      <td>45.589686</td>\n",
       "      <td>30.896460</td>\n",
       "      <td>0</td>\n",
       "      <td>71.980585</td>\n",
       "      <td>2019-02-11 21:59:00</td>\n",
       "    </tr>\n",
       "    <tr>\n",
       "      <th>186096</th>\n",
       "      <td>72.491504</td>\n",
       "      <td>33.654575</td>\n",
       "      <td>91.149431</td>\n",
       "      <td>19.484082</td>\n",
       "      <td>78.546713</td>\n",
       "      <td>90.590588</td>\n",
       "      <td>93.353135</td>\n",
       "      <td>20.455251</td>\n",
       "      <td>50.987224</td>\n",
       "      <td>91.157527</td>\n",
       "      <td>...</td>\n",
       "      <td>94.866030</td>\n",
       "      <td>56.943046</td>\n",
       "      <td>0.0</td>\n",
       "      <td>58.551446</td>\n",
       "      <td>63.49364</td>\n",
       "      <td>45.589686</td>\n",
       "      <td>30.998142</td>\n",
       "      <td>0</td>\n",
       "      <td>72.105027</td>\n",
       "      <td>2019-02-11 22:00:00</td>\n",
       "    </tr>\n",
       "    <tr>\n",
       "      <th>186095</th>\n",
       "      <td>72.952865</td>\n",
       "      <td>31.004058</td>\n",
       "      <td>91.149431</td>\n",
       "      <td>13.651564</td>\n",
       "      <td>74.451979</td>\n",
       "      <td>90.993356</td>\n",
       "      <td>93.373546</td>\n",
       "      <td>16.226620</td>\n",
       "      <td>50.987224</td>\n",
       "      <td>100.000000</td>\n",
       "      <td>...</td>\n",
       "      <td>94.857934</td>\n",
       "      <td>56.943046</td>\n",
       "      <td>0.0</td>\n",
       "      <td>58.921563</td>\n",
       "      <td>63.49364</td>\n",
       "      <td>45.589686</td>\n",
       "      <td>30.770411</td>\n",
       "      <td>0</td>\n",
       "      <td>72.084620</td>\n",
       "      <td>2019-02-11 22:01:00</td>\n",
       "    </tr>\n",
       "  </tbody>\n",
       "</table>\n",
       "<p>5 rows × 3983 columns</p>\n",
       "</div>"
      ],
      "text/plain": [
       "        AEAGHOAWE2T1  AEAGHOAWE2A0  AEAGHOAWE2T0  AEAGHOAWE1A0  AEAGHOAWE1T1  \\\n",
       "186099     72.030143     28.019753     90.988125     25.369044     92.387543   \n",
       "186098     72.030143     37.870419     90.988125     34.451579     88.177774   \n",
       "186097     72.030143     37.539252     91.149431     28.288056     83.217843   \n",
       "186096     72.491504     33.654575     91.149431     19.484082     78.546713   \n",
       "186095     72.952865     31.004058     91.149431     13.651564     74.451979   \n",
       "\n",
       "        AEAGHOAWE1T0  AEAGHOAWE3T0  AEAGHOAWE3A0  AEAGHOAWE3T1  AEAGHOAWE_A2  \\\n",
       "186099     90.208292     93.674403     10.971169     51.916376    100.000000   \n",
       "186098     90.449495     93.353135     18.897334     51.451800     75.601790   \n",
       "186097     90.611060     93.694815     21.669213     51.451800     88.131190   \n",
       "186096     90.590588     93.353135     20.455251     50.987224     91.157527   \n",
       "186095     90.993356     93.373546     16.226620     50.987224    100.000000   \n",
       "\n",
       "        ...  AEWIHOCM__P0  AEWIHOC___P0  AEWIHOCKZ_V0  AEWIHOCK__V9  \\\n",
       "186099  ...     94.822678     56.662746           0.0     59.076656   \n",
       "186098  ...     94.806487     56.662746           0.0     59.186438   \n",
       "186097  ...     94.804366     56.662746           0.0     59.348841   \n",
       "186096  ...     94.866030     56.943046           0.0     58.551446   \n",
       "186095  ...     94.857934     56.943046           0.0     58.921563   \n",
       "\n",
       "        AEWIHOCWF_A2  AEWIHOC___T0  AEWIHOCWF_A1  AEWIHOAWF_V0  AEWIHOAKVSV0  \\\n",
       "186099      63.49364     45.589686     30.354219             0     72.592791   \n",
       "186098      63.49364     45.589686     30.333882             0     72.108628   \n",
       "186097      63.49364     45.589686     30.896460             0     71.980585   \n",
       "186096      63.49364     45.589686     30.998142             0     72.105027   \n",
       "186095      63.49364     45.589686     30.770411             0     72.084620   \n",
       "\n",
       "                  dateTime  \n",
       "186099 2019-02-11 21:57:00  \n",
       "186098 2019-02-11 21:58:00  \n",
       "186097 2019-02-11 21:59:00  \n",
       "186096 2019-02-11 22:00:00  \n",
       "186095 2019-02-11 22:01:00  \n",
       "\n",
       "[5 rows x 3983 columns]"
      ]
     },
     "execution_count": 10,
     "metadata": {},
     "output_type": "execute_result"
    }
   ],
   "source": [
    "multivariate_data.head()"
   ]
  },
  {
   "cell_type": "code",
   "execution_count": 11,
   "metadata": {
    "scrolled": true
   },
   "outputs": [
    {
     "data": {
      "text/html": [
       "<div>\n",
       "<style scoped>\n",
       "    .dataframe tbody tr th:only-of-type {\n",
       "        vertical-align: middle;\n",
       "    }\n",
       "\n",
       "    .dataframe tbody tr th {\n",
       "        vertical-align: top;\n",
       "    }\n",
       "\n",
       "    .dataframe thead th {\n",
       "        text-align: right;\n",
       "    }\n",
       "</style>\n",
       "<table border=\"1\" class=\"dataframe\">\n",
       "  <thead>\n",
       "    <tr style=\"text-align: right;\">\n",
       "      <th></th>\n",
       "      <th>AEAGHOAWE2T1</th>\n",
       "      <th>AEAGHOAWE2A0</th>\n",
       "      <th>AEAGHOAWE2T0</th>\n",
       "      <th>AEAGHOAWE1A0</th>\n",
       "      <th>AEAGHOAWE1T1</th>\n",
       "      <th>AEAGHOAWE1T0</th>\n",
       "      <th>AEAGHOAWE3T0</th>\n",
       "      <th>AEAGHOAWE3A0</th>\n",
       "      <th>AEAGHOAWE3T1</th>\n",
       "      <th>AEAGHOAWE_A2</th>\n",
       "      <th>...</th>\n",
       "      <th>AEWIHOCM__P0</th>\n",
       "      <th>AEWIHOC___P0</th>\n",
       "      <th>AEWIHOCKZ_V0</th>\n",
       "      <th>AEWIHOCK__V9</th>\n",
       "      <th>AEWIHOCWF_A2</th>\n",
       "      <th>AEWIHOC___T0</th>\n",
       "      <th>AEWIHOCWF_A1</th>\n",
       "      <th>AEWIHOAWF_V0</th>\n",
       "      <th>AEWIHOAKVSV0</th>\n",
       "      <th>dateTime</th>\n",
       "    </tr>\n",
       "  </thead>\n",
       "  <tbody>\n",
       "    <tr>\n",
       "      <th>4</th>\n",
       "      <td>60.380468</td>\n",
       "      <td>100.0</td>\n",
       "      <td>91.029023</td>\n",
       "      <td>99.969567</td>\n",
       "      <td>55.766858</td>\n",
       "      <td>90.046727</td>\n",
       "      <td>90.963652</td>\n",
       "      <td>99.089689</td>\n",
       "      <td>56.910569</td>\n",
       "      <td>11.549719</td>\n",
       "      <td>...</td>\n",
       "      <td>95.629849</td>\n",
       "      <td>63.149452</td>\n",
       "      <td>42.009703</td>\n",
       "      <td>57.167141</td>\n",
       "      <td>70.572657</td>\n",
       "      <td>72.358673</td>\n",
       "      <td>25.090725</td>\n",
       "      <td>0</td>\n",
       "      <td>4.817258</td>\n",
       "      <td>2019-08-15 09:06:00</td>\n",
       "    </tr>\n",
       "    <tr>\n",
       "      <th>3</th>\n",
       "      <td>59.919107</td>\n",
       "      <td>100.0</td>\n",
       "      <td>91.029023</td>\n",
       "      <td>99.969567</td>\n",
       "      <td>55.766858</td>\n",
       "      <td>90.046727</td>\n",
       "      <td>90.963652</td>\n",
       "      <td>99.089689</td>\n",
       "      <td>56.910569</td>\n",
       "      <td>11.549719</td>\n",
       "      <td>...</td>\n",
       "      <td>95.592478</td>\n",
       "      <td>62.868783</td>\n",
       "      <td>42.389817</td>\n",
       "      <td>57.236065</td>\n",
       "      <td>70.572657</td>\n",
       "      <td>72.472953</td>\n",
       "      <td>24.828106</td>\n",
       "      <td>0</td>\n",
       "      <td>4.822540</td>\n",
       "      <td>2019-08-15 09:07:00</td>\n",
       "    </tr>\n",
       "    <tr>\n",
       "      <th>2</th>\n",
       "      <td>59.919107</td>\n",
       "      <td>100.0</td>\n",
       "      <td>91.029023</td>\n",
       "      <td>99.969567</td>\n",
       "      <td>55.766858</td>\n",
       "      <td>90.046727</td>\n",
       "      <td>90.963652</td>\n",
       "      <td>99.089689</td>\n",
       "      <td>56.910569</td>\n",
       "      <td>11.549719</td>\n",
       "      <td>...</td>\n",
       "      <td>95.592478</td>\n",
       "      <td>62.868783</td>\n",
       "      <td>41.909339</td>\n",
       "      <td>57.061893</td>\n",
       "      <td>70.572657</td>\n",
       "      <td>72.587232</td>\n",
       "      <td>24.741152</td>\n",
       "      <td>0</td>\n",
       "      <td>4.821300</td>\n",
       "      <td>2019-08-15 09:08:00</td>\n",
       "    </tr>\n",
       "    <tr>\n",
       "      <th>1</th>\n",
       "      <td>59.919107</td>\n",
       "      <td>100.0</td>\n",
       "      <td>91.029023</td>\n",
       "      <td>99.969567</td>\n",
       "      <td>55.766858</td>\n",
       "      <td>89.885921</td>\n",
       "      <td>90.963652</td>\n",
       "      <td>99.089689</td>\n",
       "      <td>56.910569</td>\n",
       "      <td>11.549719</td>\n",
       "      <td>...</td>\n",
       "      <td>95.564453</td>\n",
       "      <td>62.731216</td>\n",
       "      <td>41.866866</td>\n",
       "      <td>56.661886</td>\n",
       "      <td>70.572657</td>\n",
       "      <td>72.587232</td>\n",
       "      <td>24.685315</td>\n",
       "      <td>0</td>\n",
       "      <td>4.821300</td>\n",
       "      <td>2019-08-15 09:09:00</td>\n",
       "    </tr>\n",
       "    <tr>\n",
       "      <th>0</th>\n",
       "      <td>59.919107</td>\n",
       "      <td>100.0</td>\n",
       "      <td>91.029023</td>\n",
       "      <td>99.969567</td>\n",
       "      <td>55.766858</td>\n",
       "      <td>89.885921</td>\n",
       "      <td>90.963652</td>\n",
       "      <td>99.089689</td>\n",
       "      <td>56.910569</td>\n",
       "      <td>11.549719</td>\n",
       "      <td>...</td>\n",
       "      <td>95.517746</td>\n",
       "      <td>62.243573</td>\n",
       "      <td>42.216130</td>\n",
       "      <td>57.188928</td>\n",
       "      <td>70.572657</td>\n",
       "      <td>72.587232</td>\n",
       "      <td>24.318297</td>\n",
       "      <td>0</td>\n",
       "      <td>4.826622</td>\n",
       "      <td>2019-08-15 09:10:00</td>\n",
       "    </tr>\n",
       "  </tbody>\n",
       "</table>\n",
       "<p>5 rows × 3983 columns</p>\n",
       "</div>"
      ],
      "text/plain": [
       "   AEAGHOAWE2T1  AEAGHOAWE2A0  AEAGHOAWE2T0  AEAGHOAWE1A0  AEAGHOAWE1T1  \\\n",
       "4     60.380468         100.0     91.029023     99.969567     55.766858   \n",
       "3     59.919107         100.0     91.029023     99.969567     55.766858   \n",
       "2     59.919107         100.0     91.029023     99.969567     55.766858   \n",
       "1     59.919107         100.0     91.029023     99.969567     55.766858   \n",
       "0     59.919107         100.0     91.029023     99.969567     55.766858   \n",
       "\n",
       "   AEAGHOAWE1T0  AEAGHOAWE3T0  AEAGHOAWE3A0  AEAGHOAWE3T1  AEAGHOAWE_A2  ...  \\\n",
       "4     90.046727     90.963652     99.089689     56.910569     11.549719  ...   \n",
       "3     90.046727     90.963652     99.089689     56.910569     11.549719  ...   \n",
       "2     90.046727     90.963652     99.089689     56.910569     11.549719  ...   \n",
       "1     89.885921     90.963652     99.089689     56.910569     11.549719  ...   \n",
       "0     89.885921     90.963652     99.089689     56.910569     11.549719  ...   \n",
       "\n",
       "   AEWIHOCM__P0  AEWIHOC___P0  AEWIHOCKZ_V0  AEWIHOCK__V9  AEWIHOCWF_A2  \\\n",
       "4     95.629849     63.149452     42.009703     57.167141     70.572657   \n",
       "3     95.592478     62.868783     42.389817     57.236065     70.572657   \n",
       "2     95.592478     62.868783     41.909339     57.061893     70.572657   \n",
       "1     95.564453     62.731216     41.866866     56.661886     70.572657   \n",
       "0     95.517746     62.243573     42.216130     57.188928     70.572657   \n",
       "\n",
       "   AEWIHOC___T0  AEWIHOCWF_A1  AEWIHOAWF_V0  AEWIHOAKVSV0            dateTime  \n",
       "4     72.358673     25.090725             0      4.817258 2019-08-15 09:06:00  \n",
       "3     72.472953     24.828106             0      4.822540 2019-08-15 09:07:00  \n",
       "2     72.587232     24.741152             0      4.821300 2019-08-15 09:08:00  \n",
       "1     72.587232     24.685315             0      4.821300 2019-08-15 09:09:00  \n",
       "0     72.587232     24.318297             0      4.826622 2019-08-15 09:10:00  \n",
       "\n",
       "[5 rows x 3983 columns]"
      ]
     },
     "execution_count": 11,
     "metadata": {},
     "output_type": "execute_result"
    }
   ],
   "source": [
    "multivariate_data.tail()"
   ]
  },
  {
   "cell_type": "code",
   "execution_count": 12,
   "metadata": {},
   "outputs": [],
   "source": [
    "multivariate_data_1 = multivariate_data.loc[::-1]"
   ]
  },
  {
   "cell_type": "code",
   "execution_count": 13,
   "metadata": {},
   "outputs": [],
   "source": [
    "index_array=[0,-1]\n",
    "req_column_name = [date_column, target_column]\n",
    "# req_column_name = [date_column, furnace_signal_column]\n",
    "rearranged_dataframe = rearrange_frame(multivariate_data_1,req_column_name,index_array)"
   ]
  },
  {
   "cell_type": "code",
   "execution_count": 14,
   "metadata": {
    "scrolled": false
   },
   "outputs": [
    {
     "data": {
      "text/html": [
       "<div>\n",
       "<style scoped>\n",
       "    .dataframe tbody tr th:only-of-type {\n",
       "        vertical-align: middle;\n",
       "    }\n",
       "\n",
       "    .dataframe tbody tr th {\n",
       "        vertical-align: top;\n",
       "    }\n",
       "\n",
       "    .dataframe thead th {\n",
       "        text-align: right;\n",
       "    }\n",
       "</style>\n",
       "<table border=\"1\" class=\"dataframe\">\n",
       "  <thead>\n",
       "    <tr style=\"text-align: right;\">\n",
       "      <th></th>\n",
       "      <th>dateTime</th>\n",
       "      <th>AEAGHOAWE2A0</th>\n",
       "      <th>AEAGHOAWE2T0</th>\n",
       "      <th>AEAGHOAWE1A0</th>\n",
       "      <th>AEAGHOAWE1T1</th>\n",
       "      <th>AEAGHOAWE1T0</th>\n",
       "      <th>AEAGHOAWE3T0</th>\n",
       "      <th>AEAGHOAWE3A0</th>\n",
       "      <th>AEAGHOAWE3T1</th>\n",
       "      <th>AEAGHOAWE_A2</th>\n",
       "      <th>...</th>\n",
       "      <th>AEWIHOCM__P0</th>\n",
       "      <th>AEWIHOC___P0</th>\n",
       "      <th>AEWIHOCKZ_V0</th>\n",
       "      <th>AEWIHOCK__V9</th>\n",
       "      <th>AEWIHOCWF_A2</th>\n",
       "      <th>AEWIHOC___T0</th>\n",
       "      <th>AEWIHOCWF_A1</th>\n",
       "      <th>AEWIHOAWF_V0</th>\n",
       "      <th>AEWIHOAKVSV0</th>\n",
       "      <th>AEWIHO_T9AV2</th>\n",
       "    </tr>\n",
       "  </thead>\n",
       "  <tbody>\n",
       "    <tr>\n",
       "      <th>0</th>\n",
       "      <td>2019-08-15 09:10:00</td>\n",
       "      <td>100.0</td>\n",
       "      <td>91.029023</td>\n",
       "      <td>99.969567</td>\n",
       "      <td>55.766858</td>\n",
       "      <td>89.885921</td>\n",
       "      <td>90.963652</td>\n",
       "      <td>99.089689</td>\n",
       "      <td>56.910569</td>\n",
       "      <td>11.549719</td>\n",
       "      <td>...</td>\n",
       "      <td>95.517746</td>\n",
       "      <td>62.243573</td>\n",
       "      <td>42.216130</td>\n",
       "      <td>57.188928</td>\n",
       "      <td>70.572657</td>\n",
       "      <td>72.587232</td>\n",
       "      <td>24.318297</td>\n",
       "      <td>0</td>\n",
       "      <td>4.826622</td>\n",
       "      <td>74.720623</td>\n",
       "    </tr>\n",
       "    <tr>\n",
       "      <th>1</th>\n",
       "      <td>2019-08-15 09:09:00</td>\n",
       "      <td>100.0</td>\n",
       "      <td>91.029023</td>\n",
       "      <td>99.969567</td>\n",
       "      <td>55.766858</td>\n",
       "      <td>89.885921</td>\n",
       "      <td>90.963652</td>\n",
       "      <td>99.089689</td>\n",
       "      <td>56.910569</td>\n",
       "      <td>11.549719</td>\n",
       "      <td>...</td>\n",
       "      <td>95.564453</td>\n",
       "      <td>62.731216</td>\n",
       "      <td>41.866866</td>\n",
       "      <td>56.661886</td>\n",
       "      <td>70.572657</td>\n",
       "      <td>72.587232</td>\n",
       "      <td>24.685315</td>\n",
       "      <td>0</td>\n",
       "      <td>4.821300</td>\n",
       "      <td>74.837410</td>\n",
       "    </tr>\n",
       "    <tr>\n",
       "      <th>2</th>\n",
       "      <td>2019-08-15 09:08:00</td>\n",
       "      <td>100.0</td>\n",
       "      <td>91.029023</td>\n",
       "      <td>99.969567</td>\n",
       "      <td>55.766858</td>\n",
       "      <td>90.046727</td>\n",
       "      <td>90.963652</td>\n",
       "      <td>99.089689</td>\n",
       "      <td>56.910569</td>\n",
       "      <td>11.549719</td>\n",
       "      <td>...</td>\n",
       "      <td>95.592478</td>\n",
       "      <td>62.868783</td>\n",
       "      <td>41.909339</td>\n",
       "      <td>57.061893</td>\n",
       "      <td>70.572657</td>\n",
       "      <td>72.587232</td>\n",
       "      <td>24.741152</td>\n",
       "      <td>0</td>\n",
       "      <td>4.821300</td>\n",
       "      <td>75.169542</td>\n",
       "    </tr>\n",
       "    <tr>\n",
       "      <th>3</th>\n",
       "      <td>2019-08-15 09:07:00</td>\n",
       "      <td>100.0</td>\n",
       "      <td>91.029023</td>\n",
       "      <td>99.969567</td>\n",
       "      <td>55.766858</td>\n",
       "      <td>90.046727</td>\n",
       "      <td>90.963652</td>\n",
       "      <td>99.089689</td>\n",
       "      <td>56.910569</td>\n",
       "      <td>11.549719</td>\n",
       "      <td>...</td>\n",
       "      <td>95.592478</td>\n",
       "      <td>62.868783</td>\n",
       "      <td>42.389817</td>\n",
       "      <td>57.236065</td>\n",
       "      <td>70.572657</td>\n",
       "      <td>72.472953</td>\n",
       "      <td>24.828106</td>\n",
       "      <td>0</td>\n",
       "      <td>4.822540</td>\n",
       "      <td>75.608264</td>\n",
       "    </tr>\n",
       "    <tr>\n",
       "      <th>4</th>\n",
       "      <td>2019-08-15 09:06:00</td>\n",
       "      <td>100.0</td>\n",
       "      <td>91.029023</td>\n",
       "      <td>99.969567</td>\n",
       "      <td>55.766858</td>\n",
       "      <td>90.046727</td>\n",
       "      <td>90.963652</td>\n",
       "      <td>99.089689</td>\n",
       "      <td>56.910569</td>\n",
       "      <td>11.549719</td>\n",
       "      <td>...</td>\n",
       "      <td>95.629849</td>\n",
       "      <td>63.149452</td>\n",
       "      <td>42.009703</td>\n",
       "      <td>57.167141</td>\n",
       "      <td>70.572657</td>\n",
       "      <td>72.358673</td>\n",
       "      <td>25.090725</td>\n",
       "      <td>0</td>\n",
       "      <td>4.817258</td>\n",
       "      <td>75.514649</td>\n",
       "    </tr>\n",
       "  </tbody>\n",
       "</table>\n",
       "<p>5 rows × 3983 columns</p>\n",
       "</div>"
      ],
      "text/plain": [
       "             dateTime  AEAGHOAWE2A0  AEAGHOAWE2T0  AEAGHOAWE1A0  AEAGHOAWE1T1  \\\n",
       "0 2019-08-15 09:10:00         100.0     91.029023     99.969567     55.766858   \n",
       "1 2019-08-15 09:09:00         100.0     91.029023     99.969567     55.766858   \n",
       "2 2019-08-15 09:08:00         100.0     91.029023     99.969567     55.766858   \n",
       "3 2019-08-15 09:07:00         100.0     91.029023     99.969567     55.766858   \n",
       "4 2019-08-15 09:06:00         100.0     91.029023     99.969567     55.766858   \n",
       "\n",
       "   AEAGHOAWE1T0  AEAGHOAWE3T0  AEAGHOAWE3A0  AEAGHOAWE3T1  AEAGHOAWE_A2  ...  \\\n",
       "0     89.885921     90.963652     99.089689     56.910569     11.549719  ...   \n",
       "1     89.885921     90.963652     99.089689     56.910569     11.549719  ...   \n",
       "2     90.046727     90.963652     99.089689     56.910569     11.549719  ...   \n",
       "3     90.046727     90.963652     99.089689     56.910569     11.549719  ...   \n",
       "4     90.046727     90.963652     99.089689     56.910569     11.549719  ...   \n",
       "\n",
       "   AEWIHOCM__P0  AEWIHOC___P0  AEWIHOCKZ_V0  AEWIHOCK__V9  AEWIHOCWF_A2  \\\n",
       "0     95.517746     62.243573     42.216130     57.188928     70.572657   \n",
       "1     95.564453     62.731216     41.866866     56.661886     70.572657   \n",
       "2     95.592478     62.868783     41.909339     57.061893     70.572657   \n",
       "3     95.592478     62.868783     42.389817     57.236065     70.572657   \n",
       "4     95.629849     63.149452     42.009703     57.167141     70.572657   \n",
       "\n",
       "   AEWIHOC___T0  AEWIHOCWF_A1  AEWIHOAWF_V0  AEWIHOAKVSV0  AEWIHO_T9AV2  \n",
       "0     72.587232     24.318297             0      4.826622     74.720623  \n",
       "1     72.587232     24.685315             0      4.821300     74.837410  \n",
       "2     72.587232     24.741152             0      4.821300     75.169542  \n",
       "3     72.472953     24.828106             0      4.822540     75.608264  \n",
       "4     72.358673     25.090725             0      4.817258     75.514649  \n",
       "\n",
       "[5 rows x 3983 columns]"
      ]
     },
     "execution_count": 14,
     "metadata": {},
     "output_type": "execute_result"
    }
   ],
   "source": [
    "rearranged_dataframe.head()"
   ]
  },
  {
   "cell_type": "code",
   "execution_count": null,
   "metadata": {
    "scrolled": true
   },
   "outputs": [],
   "source": [
    "# count =0\n",
    "# for i,v in enumerate(rearranged_dataframe[furnace_signal_column_a]):\n",
    "#     if v>=98 or rearranged_dataframe.iloc[i][furnace_signal_column_b]>99:\n",
    "#         count +=1\n",
    "        \n",
    "# print(count)"
   ]
  },
  {
   "cell_type": "code",
   "execution_count": null,
   "metadata": {},
   "outputs": [],
   "source": [
    "# for x,r in enumerate(rearranged_dataframe[furnace_signal_column_b]):\n",
    "#     if r!=100:\n",
    "#         print(x,'\\t',r)"
   ]
  },
  {
   "cell_type": "code",
   "execution_count": null,
   "metadata": {
    "scrolled": true
   },
   "outputs": [],
   "source": [
    "# increase=0\n",
    "# count_array_1 = []\n",
    "# for i,v in enumerate(rearranged_dataframe[furnace_signal_column_a]):\n",
    "#     if v<98 and rearranged_dataframe.iloc[i][furnace_signal_column_b]<100:\n",
    "#         print(\"i: \",i,\" ,blast A: \",v,\" ,blast B: \",rearranged_dataframe.iloc[i][furnace_signal_column_b])\n",
    "#         count_array_1 = np.append(count_array_1, i)\n",
    "#         increase+=1"
   ]
  },
  {
   "cell_type": "code",
   "execution_count": 42,
   "metadata": {
    "scrolled": true
   },
   "outputs": [],
   "source": [
    "increase_1=0\n",
    "count_array_2 = []\n",
    "for i,v in enumerate(rearranged_dataframe[furnace_signal_column_a]):\n",
    "    \n",
    "    if v < 98 and rearranged_dataframe.iloc[i][furnace_signal_column_b] <100:\n",
    "        \n",
    "#         print(\"i: \",i,\" ,blast A: \",v,\" ,blast B: \",rearranged_dataframe.iloc[i][furnace_signal_column_b])\n",
    "        count_array_2 = np.append(count_array_2, i)\n",
    "        increase_1+=1"
   ]
  },
  {
   "cell_type": "code",
   "execution_count": 43,
   "metadata": {},
   "outputs": [
    {
     "name": "stdout",
     "output_type": "stream",
     "text": [
      "44644\n",
      "(44644,)\n"
     ]
    }
   ],
   "source": [
    "print(increase_1)\n",
    "print(count_array_2.shape)"
   ]
  },
  {
   "cell_type": "code",
   "execution_count": 11,
   "metadata": {},
   "outputs": [],
   "source": [
    "# count_3=0\n",
    "# count_array_3 = []\n",
    "# for i,v in enumerate(rearranged_dataframe[furnace_signal_column_a]):\n",
    "#     if v != 98.36065573770493 and rearranged_dataframe.iloc[i][furnace_signal_column_b] != 100:\n",
    "# #         print(\"i: \",i,\" ,blast A: \",v,\" ,blast B: \",rearranged_dataframe.iloc[i][furnace_signal_column_b])\n",
    "#         count_array_3 = np.append(count_array_3, i)\n",
    "#         count_3+=1"
   ]
  },
  {
   "cell_type": "code",
   "execution_count": 27,
   "metadata": {},
   "outputs": [
    {
     "data": {
      "text/plain": [
       "(44645,)"
      ]
     },
     "execution_count": 27,
     "metadata": {},
     "output_type": "execute_result"
    }
   ],
   "source": [
    "count_3\n",
    "count_array_3.shape"
   ]
  },
  {
   "cell_type": "code",
   "execution_count": 44,
   "metadata": {},
   "outputs": [],
   "source": [
    "if count_array_2.size > 0:\n",
    "    dataframe_drop = rearranged_dataframe.drop(count_array_2, axis=0)  # axis= 0 means row indiated. 1 means column indicated\n",
    "else:\n",
    "    dataframe_drop = rearranged_dataframe"
   ]
  },
  {
   "cell_type": "code",
   "execution_count": 33,
   "metadata": {},
   "outputs": [
    {
     "data": {
      "text/html": [
       "<div>\n",
       "<style scoped>\n",
       "    .dataframe tbody tr th:only-of-type {\n",
       "        vertical-align: middle;\n",
       "    }\n",
       "\n",
       "    .dataframe tbody tr th {\n",
       "        vertical-align: top;\n",
       "    }\n",
       "\n",
       "    .dataframe thead th {\n",
       "        text-align: right;\n",
       "    }\n",
       "</style>\n",
       "<table border=\"1\" class=\"dataframe\">\n",
       "  <thead>\n",
       "    <tr style=\"text-align: right;\">\n",
       "      <th></th>\n",
       "      <th>dateTime</th>\n",
       "      <th>AEAGHOAWE2A0</th>\n",
       "      <th>AEAGHOAWE2T0</th>\n",
       "      <th>AEAGHOAWE1A0</th>\n",
       "      <th>AEAGHOAWE1T1</th>\n",
       "      <th>AEAGHOAWE1T0</th>\n",
       "      <th>AEAGHOAWE3T0</th>\n",
       "      <th>AEAGHOAWE3A0</th>\n",
       "      <th>AEAGHOAWE3T1</th>\n",
       "      <th>AEAGHOAWE_A2</th>\n",
       "      <th>...</th>\n",
       "      <th>AEWIHOCM__P0</th>\n",
       "      <th>AEWIHOC___P0</th>\n",
       "      <th>AEWIHOCKZ_V0</th>\n",
       "      <th>AEWIHOCK__V9</th>\n",
       "      <th>AEWIHOCWF_A2</th>\n",
       "      <th>AEWIHOC___T0</th>\n",
       "      <th>AEWIHOCWF_A1</th>\n",
       "      <th>AEWIHOAWF_V0</th>\n",
       "      <th>AEWIHOAKVSV0</th>\n",
       "      <th>AEWIHO_T9AV2</th>\n",
       "    </tr>\n",
       "  </thead>\n",
       "  <tbody>\n",
       "    <tr>\n",
       "      <th>186099</th>\n",
       "      <td>2019-02-11 21:57:00</td>\n",
       "      <td>28.019753</td>\n",
       "      <td>90.988125</td>\n",
       "      <td>25.369044</td>\n",
       "      <td>92.387543</td>\n",
       "      <td>90.208292</td>\n",
       "      <td>93.674403</td>\n",
       "      <td>10.971169</td>\n",
       "      <td>51.916376</td>\n",
       "      <td>100.000000</td>\n",
       "      <td>...</td>\n",
       "      <td>94.822678</td>\n",
       "      <td>56.662746</td>\n",
       "      <td>0.0</td>\n",
       "      <td>59.076656</td>\n",
       "      <td>63.49364</td>\n",
       "      <td>45.589686</td>\n",
       "      <td>30.354219</td>\n",
       "      <td>0</td>\n",
       "      <td>72.592791</td>\n",
       "      <td>66.387058</td>\n",
       "    </tr>\n",
       "    <tr>\n",
       "      <th>186098</th>\n",
       "      <td>2019-02-11 21:58:00</td>\n",
       "      <td>37.870419</td>\n",
       "      <td>90.988125</td>\n",
       "      <td>34.451579</td>\n",
       "      <td>88.177774</td>\n",
       "      <td>90.449495</td>\n",
       "      <td>93.353135</td>\n",
       "      <td>18.897334</td>\n",
       "      <td>51.451800</td>\n",
       "      <td>75.601790</td>\n",
       "      <td>...</td>\n",
       "      <td>94.806487</td>\n",
       "      <td>56.662746</td>\n",
       "      <td>0.0</td>\n",
       "      <td>59.186438</td>\n",
       "      <td>63.49364</td>\n",
       "      <td>45.589686</td>\n",
       "      <td>30.333882</td>\n",
       "      <td>0</td>\n",
       "      <td>72.108628</td>\n",
       "      <td>66.765225</td>\n",
       "    </tr>\n",
       "    <tr>\n",
       "      <th>186097</th>\n",
       "      <td>2019-02-11 21:59:00</td>\n",
       "      <td>37.539252</td>\n",
       "      <td>91.149431</td>\n",
       "      <td>28.288056</td>\n",
       "      <td>83.217843</td>\n",
       "      <td>90.611060</td>\n",
       "      <td>93.694815</td>\n",
       "      <td>21.669213</td>\n",
       "      <td>51.451800</td>\n",
       "      <td>88.131190</td>\n",
       "      <td>...</td>\n",
       "      <td>94.804366</td>\n",
       "      <td>56.662746</td>\n",
       "      <td>0.0</td>\n",
       "      <td>59.348841</td>\n",
       "      <td>63.49364</td>\n",
       "      <td>45.589686</td>\n",
       "      <td>30.896460</td>\n",
       "      <td>0</td>\n",
       "      <td>71.980585</td>\n",
       "      <td>66.767387</td>\n",
       "    </tr>\n",
       "    <tr>\n",
       "      <th>186096</th>\n",
       "      <td>2019-02-11 22:00:00</td>\n",
       "      <td>33.654575</td>\n",
       "      <td>91.149431</td>\n",
       "      <td>19.484082</td>\n",
       "      <td>78.546713</td>\n",
       "      <td>90.590588</td>\n",
       "      <td>93.353135</td>\n",
       "      <td>20.455251</td>\n",
       "      <td>50.987224</td>\n",
       "      <td>91.157527</td>\n",
       "      <td>...</td>\n",
       "      <td>94.866030</td>\n",
       "      <td>56.943046</td>\n",
       "      <td>0.0</td>\n",
       "      <td>58.551446</td>\n",
       "      <td>63.49364</td>\n",
       "      <td>45.589686</td>\n",
       "      <td>30.998142</td>\n",
       "      <td>0</td>\n",
       "      <td>72.105027</td>\n",
       "      <td>66.859457</td>\n",
       "    </tr>\n",
       "    <tr>\n",
       "      <th>186095</th>\n",
       "      <td>2019-02-11 22:01:00</td>\n",
       "      <td>31.004058</td>\n",
       "      <td>91.149431</td>\n",
       "      <td>13.651564</td>\n",
       "      <td>74.451979</td>\n",
       "      <td>90.993356</td>\n",
       "      <td>93.373546</td>\n",
       "      <td>16.226620</td>\n",
       "      <td>50.987224</td>\n",
       "      <td>100.000000</td>\n",
       "      <td>...</td>\n",
       "      <td>94.857934</td>\n",
       "      <td>56.943046</td>\n",
       "      <td>0.0</td>\n",
       "      <td>58.921563</td>\n",
       "      <td>63.49364</td>\n",
       "      <td>45.589686</td>\n",
       "      <td>30.770411</td>\n",
       "      <td>0</td>\n",
       "      <td>72.084620</td>\n",
       "      <td>66.869962</td>\n",
       "    </tr>\n",
       "  </tbody>\n",
       "</table>\n",
       "<p>5 rows × 3983 columns</p>\n",
       "</div>"
      ],
      "text/plain": [
       "                  dateTime  AEAGHOAWE2A0  AEAGHOAWE2T0  AEAGHOAWE1A0  \\\n",
       "186099 2019-02-11 21:57:00     28.019753     90.988125     25.369044   \n",
       "186098 2019-02-11 21:58:00     37.870419     90.988125     34.451579   \n",
       "186097 2019-02-11 21:59:00     37.539252     91.149431     28.288056   \n",
       "186096 2019-02-11 22:00:00     33.654575     91.149431     19.484082   \n",
       "186095 2019-02-11 22:01:00     31.004058     91.149431     13.651564   \n",
       "\n",
       "        AEAGHOAWE1T1  AEAGHOAWE1T0  AEAGHOAWE3T0  AEAGHOAWE3A0  AEAGHOAWE3T1  \\\n",
       "186099     92.387543     90.208292     93.674403     10.971169     51.916376   \n",
       "186098     88.177774     90.449495     93.353135     18.897334     51.451800   \n",
       "186097     83.217843     90.611060     93.694815     21.669213     51.451800   \n",
       "186096     78.546713     90.590588     93.353135     20.455251     50.987224   \n",
       "186095     74.451979     90.993356     93.373546     16.226620     50.987224   \n",
       "\n",
       "        AEAGHOAWE_A2  ...  AEWIHOCM__P0  AEWIHOC___P0  AEWIHOCKZ_V0  \\\n",
       "186099    100.000000  ...     94.822678     56.662746           0.0   \n",
       "186098     75.601790  ...     94.806487     56.662746           0.0   \n",
       "186097     88.131190  ...     94.804366     56.662746           0.0   \n",
       "186096     91.157527  ...     94.866030     56.943046           0.0   \n",
       "186095    100.000000  ...     94.857934     56.943046           0.0   \n",
       "\n",
       "        AEWIHOCK__V9  AEWIHOCWF_A2  AEWIHOC___T0  AEWIHOCWF_A1  AEWIHOAWF_V0  \\\n",
       "186099     59.076656      63.49364     45.589686     30.354219             0   \n",
       "186098     59.186438      63.49364     45.589686     30.333882             0   \n",
       "186097     59.348841      63.49364     45.589686     30.896460             0   \n",
       "186096     58.551446      63.49364     45.589686     30.998142             0   \n",
       "186095     58.921563      63.49364     45.589686     30.770411             0   \n",
       "\n",
       "        AEWIHOAKVSV0  AEWIHO_T9AV2  \n",
       "186099     72.592791     66.387058  \n",
       "186098     72.108628     66.765225  \n",
       "186097     71.980585     66.767387  \n",
       "186096     72.105027     66.859457  \n",
       "186095     72.084620     66.869962  \n",
       "\n",
       "[5 rows x 3983 columns]"
      ]
     },
     "execution_count": 33,
     "metadata": {},
     "output_type": "execute_result"
    }
   ],
   "source": [
    "rearranged_dataframe.head()"
   ]
  },
  {
   "cell_type": "code",
   "execution_count": 30,
   "metadata": {},
   "outputs": [
    {
     "data": {
      "text/html": [
       "<div>\n",
       "<style scoped>\n",
       "    .dataframe tbody tr th:only-of-type {\n",
       "        vertical-align: middle;\n",
       "    }\n",
       "\n",
       "    .dataframe tbody tr th {\n",
       "        vertical-align: top;\n",
       "    }\n",
       "\n",
       "    .dataframe thead th {\n",
       "        text-align: right;\n",
       "    }\n",
       "</style>\n",
       "<table border=\"1\" class=\"dataframe\">\n",
       "  <thead>\n",
       "    <tr style=\"text-align: right;\">\n",
       "      <th></th>\n",
       "      <th>index</th>\n",
       "      <th>dateTime</th>\n",
       "      <th>AEAGHOAWE2A0</th>\n",
       "      <th>AEAGHOAWE2T0</th>\n",
       "      <th>AEAGHOAWE1A0</th>\n",
       "      <th>AEAGHOAWE1T1</th>\n",
       "      <th>AEAGHOAWE1T0</th>\n",
       "      <th>AEAGHOAWE3T0</th>\n",
       "      <th>AEAGHOAWE3A0</th>\n",
       "      <th>AEAGHOAWE3T1</th>\n",
       "      <th>...</th>\n",
       "      <th>AEWIHOCM__P0</th>\n",
       "      <th>AEWIHOC___P0</th>\n",
       "      <th>AEWIHOCKZ_V0</th>\n",
       "      <th>AEWIHOCK__V9</th>\n",
       "      <th>AEWIHOCWF_A2</th>\n",
       "      <th>AEWIHOC___T0</th>\n",
       "      <th>AEWIHOCWF_A1</th>\n",
       "      <th>AEWIHOAWF_V0</th>\n",
       "      <th>AEWIHOAKVSV0</th>\n",
       "      <th>AEWIHO_T9AV2</th>\n",
       "    </tr>\n",
       "  </thead>\n",
       "  <tbody>\n",
       "    <tr>\n",
       "      <th>0</th>\n",
       "      <td>186099</td>\n",
       "      <td>2019-02-11 21:57:00</td>\n",
       "      <td>28.019753</td>\n",
       "      <td>90.988125</td>\n",
       "      <td>25.369044</td>\n",
       "      <td>92.387543</td>\n",
       "      <td>90.208292</td>\n",
       "      <td>93.674403</td>\n",
       "      <td>10.971169</td>\n",
       "      <td>51.916376</td>\n",
       "      <td>...</td>\n",
       "      <td>94.822678</td>\n",
       "      <td>56.662746</td>\n",
       "      <td>0.0</td>\n",
       "      <td>59.076656</td>\n",
       "      <td>63.49364</td>\n",
       "      <td>45.589686</td>\n",
       "      <td>30.354219</td>\n",
       "      <td>0</td>\n",
       "      <td>72.592791</td>\n",
       "      <td>66.387058</td>\n",
       "    </tr>\n",
       "    <tr>\n",
       "      <th>1</th>\n",
       "      <td>186098</td>\n",
       "      <td>2019-02-11 21:58:00</td>\n",
       "      <td>37.870419</td>\n",
       "      <td>90.988125</td>\n",
       "      <td>34.451579</td>\n",
       "      <td>88.177774</td>\n",
       "      <td>90.449495</td>\n",
       "      <td>93.353135</td>\n",
       "      <td>18.897334</td>\n",
       "      <td>51.451800</td>\n",
       "      <td>...</td>\n",
       "      <td>94.806487</td>\n",
       "      <td>56.662746</td>\n",
       "      <td>0.0</td>\n",
       "      <td>59.186438</td>\n",
       "      <td>63.49364</td>\n",
       "      <td>45.589686</td>\n",
       "      <td>30.333882</td>\n",
       "      <td>0</td>\n",
       "      <td>72.108628</td>\n",
       "      <td>66.765225</td>\n",
       "    </tr>\n",
       "    <tr>\n",
       "      <th>2</th>\n",
       "      <td>186097</td>\n",
       "      <td>2019-02-11 21:59:00</td>\n",
       "      <td>37.539252</td>\n",
       "      <td>91.149431</td>\n",
       "      <td>28.288056</td>\n",
       "      <td>83.217843</td>\n",
       "      <td>90.611060</td>\n",
       "      <td>93.694815</td>\n",
       "      <td>21.669213</td>\n",
       "      <td>51.451800</td>\n",
       "      <td>...</td>\n",
       "      <td>94.804366</td>\n",
       "      <td>56.662746</td>\n",
       "      <td>0.0</td>\n",
       "      <td>59.348841</td>\n",
       "      <td>63.49364</td>\n",
       "      <td>45.589686</td>\n",
       "      <td>30.896460</td>\n",
       "      <td>0</td>\n",
       "      <td>71.980585</td>\n",
       "      <td>66.767387</td>\n",
       "    </tr>\n",
       "    <tr>\n",
       "      <th>3</th>\n",
       "      <td>186096</td>\n",
       "      <td>2019-02-11 22:00:00</td>\n",
       "      <td>33.654575</td>\n",
       "      <td>91.149431</td>\n",
       "      <td>19.484082</td>\n",
       "      <td>78.546713</td>\n",
       "      <td>90.590588</td>\n",
       "      <td>93.353135</td>\n",
       "      <td>20.455251</td>\n",
       "      <td>50.987224</td>\n",
       "      <td>...</td>\n",
       "      <td>94.866030</td>\n",
       "      <td>56.943046</td>\n",
       "      <td>0.0</td>\n",
       "      <td>58.551446</td>\n",
       "      <td>63.49364</td>\n",
       "      <td>45.589686</td>\n",
       "      <td>30.998142</td>\n",
       "      <td>0</td>\n",
       "      <td>72.105027</td>\n",
       "      <td>66.859457</td>\n",
       "    </tr>\n",
       "    <tr>\n",
       "      <th>4</th>\n",
       "      <td>186095</td>\n",
       "      <td>2019-02-11 22:01:00</td>\n",
       "      <td>31.004058</td>\n",
       "      <td>91.149431</td>\n",
       "      <td>13.651564</td>\n",
       "      <td>74.451979</td>\n",
       "      <td>90.993356</td>\n",
       "      <td>93.373546</td>\n",
       "      <td>16.226620</td>\n",
       "      <td>50.987224</td>\n",
       "      <td>...</td>\n",
       "      <td>94.857934</td>\n",
       "      <td>56.943046</td>\n",
       "      <td>0.0</td>\n",
       "      <td>58.921563</td>\n",
       "      <td>63.49364</td>\n",
       "      <td>45.589686</td>\n",
       "      <td>30.770411</td>\n",
       "      <td>0</td>\n",
       "      <td>72.084620</td>\n",
       "      <td>66.869962</td>\n",
       "    </tr>\n",
       "  </tbody>\n",
       "</table>\n",
       "<p>5 rows × 3984 columns</p>\n",
       "</div>"
      ],
      "text/plain": [
       "    index            dateTime  AEAGHOAWE2A0  AEAGHOAWE2T0  AEAGHOAWE1A0  \\\n",
       "0  186099 2019-02-11 21:57:00     28.019753     90.988125     25.369044   \n",
       "1  186098 2019-02-11 21:58:00     37.870419     90.988125     34.451579   \n",
       "2  186097 2019-02-11 21:59:00     37.539252     91.149431     28.288056   \n",
       "3  186096 2019-02-11 22:00:00     33.654575     91.149431     19.484082   \n",
       "4  186095 2019-02-11 22:01:00     31.004058     91.149431     13.651564   \n",
       "\n",
       "   AEAGHOAWE1T1  AEAGHOAWE1T0  AEAGHOAWE3T0  AEAGHOAWE3A0  AEAGHOAWE3T1  ...  \\\n",
       "0     92.387543     90.208292     93.674403     10.971169     51.916376  ...   \n",
       "1     88.177774     90.449495     93.353135     18.897334     51.451800  ...   \n",
       "2     83.217843     90.611060     93.694815     21.669213     51.451800  ...   \n",
       "3     78.546713     90.590588     93.353135     20.455251     50.987224  ...   \n",
       "4     74.451979     90.993356     93.373546     16.226620     50.987224  ...   \n",
       "\n",
       "   AEWIHOCM__P0  AEWIHOC___P0  AEWIHOCKZ_V0  AEWIHOCK__V9  AEWIHOCWF_A2  \\\n",
       "0     94.822678     56.662746           0.0     59.076656      63.49364   \n",
       "1     94.806487     56.662746           0.0     59.186438      63.49364   \n",
       "2     94.804366     56.662746           0.0     59.348841      63.49364   \n",
       "3     94.866030     56.943046           0.0     58.551446      63.49364   \n",
       "4     94.857934     56.943046           0.0     58.921563      63.49364   \n",
       "\n",
       "   AEWIHOC___T0  AEWIHOCWF_A1  AEWIHOAWF_V0  AEWIHOAKVSV0  AEWIHO_T9AV2  \n",
       "0     45.589686     30.354219             0     72.592791     66.387058  \n",
       "1     45.589686     30.333882             0     72.108628     66.765225  \n",
       "2     45.589686     30.896460             0     71.980585     66.767387  \n",
       "3     45.589686     30.998142             0     72.105027     66.859457  \n",
       "4     45.589686     30.770411             0     72.084620     66.869962  \n",
       "\n",
       "[5 rows x 3984 columns]"
      ]
     },
     "execution_count": 30,
     "metadata": {},
     "output_type": "execute_result"
    }
   ],
   "source": [
    "#rearranged_dataframe.shape\n",
    "dataframe_drop1=dataframe_drop.reset_index()\n",
    "dataframe_drop1.head()"
   ]
  },
  {
   "cell_type": "code",
   "execution_count": 45,
   "metadata": {
    "scrolled": false
   },
   "outputs": [
    {
     "data": {
      "image/png": "[encoded data removed]",
      "text/plain": [
       "<Figure size 720x360 with 1 Axes>"
      ]
     },
     "metadata": {
      "needs_background": "light"
     },
     "output_type": "display_data"
    }
   ],
   "source": [
    "    # plt.plot(dataframe_2[target_column], color = 'blue')\n",
    "plt.plot(dataframe_drop[furnace_signal_column_a], color = 'red')\n",
    "plt.plot(dataframe_drop[furnace_signal_column_b], color = 'green')\n",
    "# plt.legend([target_column, furnace_signal_column_a, furnace_signal_column_b], loc='upper left')\n",
    "# plt.xlim(0,initial_dataframe.shape[0]+10)\n",
    "# plt.xticks(np.arange(0,initial_dataframe.shape[0],))\n",
    "plt.rcParams['figure.figsize'] = (10, 5)"
   ]
  },
  {
   "cell_type": "code",
   "execution_count": 15,
   "metadata": {},
   "outputs": [],
   "source": [
    "# dataframe_drop.iloc[174999][furnace_signal_column_a]\n",
    "req_data=rearranged_dataframe.loc[(rearranged_dataframe[furnace_signal_column_a]>=98) | (rearranged_dataframe[furnace_signal_column_b]>=100)].values\n",
    "req_frame=pd.DataFrame(req_data,columns=rearranged_dataframe.columns)"
   ]
  },
  {
   "cell_type": "code",
   "execution_count": 18,
   "metadata": {
    "scrolled": true
   },
   "outputs": [
    {
     "data": {
      "image/png": "[encoded data removed]",
      "text/plain": [
       "<Figure size 720x360 with 1 Axes>"
      ]
     },
     "metadata": {
      "needs_background": "light"
     },
     "output_type": "display_data"
    }
   ],
   "source": [
    "plt.plot(req_frame[target_column], color = 'blue')\n",
    "plt.plot(req_frame[furnace_signal_column_a], color = 'red')\n",
    "plt.plot(req_frame[furnace_signal_column_b], color = 'green')\n",
    "# plt.legend([target_column, furnace_signal_column_a, furnace_signal_column_b], loc='upper left')\n",
    "# plt.xlim(0,initial_dataframe.shape[0]+10)\n",
    "# plt.xticks(np.arange(0,initial_dataframe.shape[0],))\n",
    "plt.rcParams['figure.figsize'] = (10, 5)"
   ]
  },
  {
   "cell_type": "code",
   "execution_count": 19,
   "metadata": {},
   "outputs": [],
   "source": [
    "req_data_1=req_frame.loc[(req_frame[target_column]!=0)].values\n",
    "req_frame_1=pd.DataFrame(req_data_1,columns=req_frame.columns)"
   ]
  },
  {
   "cell_type": "code",
   "execution_count": 20,
   "metadata": {
    "scrolled": true
   },
   "outputs": [
    {
     "data": {
      "image/png": "[encoded data removed]",
      "text/plain": [
       "<Figure size 720x360 with 1 Axes>"
      ]
     },
     "metadata": {
      "needs_background": "light"
     },
     "output_type": "display_data"
    }
   ],
   "source": [
    "plt.plot(req_frame_1[target_column], color = 'blue')\n",
    "plt.plot(req_frame_1[furnace_signal_column_a], color = 'red')\n",
    "plt.plot(req_frame_1[furnace_signal_column_b], color = 'green')\n",
    "# plt.legend([target_column, furnace_signal_column_a, furnace_signal_column_b], loc='upper left')\n",
    "# plt.xlim(0,initial_dataframe.shape[0]+10)\n",
    "# plt.xticks(np.arange(0,initial_dataframe.shape[0],))\n",
    "plt.rcParams['figure.figsize'] = (10, 5)"
   ]
  },
  {
   "cell_type": "code",
   "execution_count": 21,
   "metadata": {},
   "outputs": [
    {
     "name": "stdout",
     "output_type": "stream",
     "text": [
      "(186100, 3983)\n",
      "(141456, 3983)\n",
      "(141269, 3983)\n"
     ]
    }
   ],
   "source": [
    "print(rearranged_dataframe.shape)\n",
    "print(req_frame.shape)\n",
    "print(req_frame_1.shape)"
   ]
  },
  {
   "cell_type": "code",
   "execution_count": null,
   "metadata": {
    "scrolled": true
   },
   "outputs": [],
   "source": [
    "# Checking signal for blast furnace B for turbine 9. If the value is 100 keep the ROW except drop\n",
    "dataframe_no_zero_value_blast_furnace = drop_zero_value_row_of_blast_furnace_signal(rearranged_dataframe,furnace_signal_column)"
   ]
  },
  {
   "cell_type": "code",
   "execution_count": null,
   "metadata": {},
   "outputs": [],
   "source": [
    "print(rearranged_dataframe.shape)\n",
    "print(dataframe_no_zero_value_blast_furnace.shape)"
   ]
  },
  {
   "cell_type": "code",
   "execution_count": null,
   "metadata": {},
   "outputs": [],
   "source": [
    "# # Checking target column's value. If ZERO drop the row.\n",
    "# #target_signal = 'AEWIHO_T9AV2'\n",
    "# # dataframe_reset = dataframe_no_zero_value_blast_furnace.reset_index()\n",
    "# dataframe_no_zero_value_target_column = drop_zero_value_row_of_target_signal(dataframe_no_zero_value_blast_furnace, target_column)"
   ]
  },
  {
   "cell_type": "code",
   "execution_count": null,
   "metadata": {},
   "outputs": [],
   "source": [
    "def remove_zero(data_frame,col_name,val):\n",
    "    df = data_frame[(data_frame[[col_name]] != val).all(axis=1)]\n",
    "    return df\n",
    "\n",
    "dataframe_no_zero_value_target_column = remove_zero(dataframe_no_zero_value_blast_furnace, target_column,0)"
   ]
  },
  {
   "cell_type": "code",
   "execution_count": null,
   "metadata": {},
   "outputs": [],
   "source": [
    "print(dataframe_no_zero_value_target_column.shape)"
   ]
  },
  {
   "cell_type": "code",
   "execution_count": 22,
   "metadata": {},
   "outputs": [],
   "source": [
    "dataframe_no_zero_value_target_column = req_frame_1"
   ]
  },
  {
   "cell_type": "code",
   "execution_count": 23,
   "metadata": {},
   "outputs": [],
   "source": [
    "# Drop the column which has sam evalue in every ROW\n",
    "dataframe_drop_column_with_same_value = drop_column_with_same_value(dataframe_no_zero_value_target_column)"
   ]
  },
  {
   "cell_type": "code",
   "execution_count": 24,
   "metadata": {},
   "outputs": [],
   "source": [
    "\n",
    "# Drop the ROW which has NAN value\n",
    "multivariate_data_drop_nan = drop_nan_value(dataframe_drop_column_with_same_value)\n"
   ]
  },
  {
   "cell_type": "code",
   "execution_count": null,
   "metadata": {},
   "outputs": [],
   "source": [
    "# Drop the row who has consecutive same value\n",
    "dataframe_drop_row_consecutive_same_value = drop_row(multivariate_data_drop_nan)"
   ]
  },
  {
   "cell_type": "code",
   "execution_count": 25,
   "metadata": {},
   "outputs": [],
   "source": [
    "dataframe_drop_row_consecutive_same_value= multivariate_data_drop_nan"
   ]
  },
  {
   "cell_type": "code",
   "execution_count": 26,
   "metadata": {},
   "outputs": [],
   "source": [
    "# Drop the column who has 'objet' type value\n",
    "dataframe_no_string = drop_string_column(dataframe_drop_row_consecutive_same_value)"
   ]
  },
  {
   "cell_type": "code",
   "execution_count": 27,
   "metadata": {},
   "outputs": [
    {
     "name": "stdout",
     "output_type": "stream",
     "text": [
      "(141269, 3983)\n",
      "(141269, 3983)\n",
      "(141269, 3983)\n",
      "(141269, 1)\n"
     ]
    }
   ],
   "source": [
    "print(dataframe_drop_column_with_same_value.shape)\n",
    "print(multivariate_data_drop_nan.shape)\n",
    "print(dataframe_drop_row_consecutive_same_value.shape)\n",
    "print(dataframe_no_string.shape)"
   ]
  },
  {
   "cell_type": "code",
   "execution_count": null,
   "metadata": {},
   "outputs": [],
   "source": [
    "# Make dataframe with dateTime index\n",
    "dataframe_datetime = dataframe_no_string.set_index('dateTime')\n",
    "\n",
    "\n",
    "# Feature selection with Sklearn feature best technique\n",
    "sklearn_feature_best_dataframe = feature_selection_with_selectKbest(dataframe_datetime,max_best_number)\n",
    "\n",
    "# feature selection with Pearson Correlation.\n",
    "\n",
    "sklearn_correlation, main_correlation = pearson_correlation(sklearn_feature_best_dataframe, dataframe_datetime)\n",
    "\n",
    "# make a dataframe with signal who is lies between a given range of correlation threshold value\n",
    "main_frame = dataframe_datetime\n",
    "correlated_frame = main_correlation\n",
    "\n",
    "# main_frame = sklearn_feature_best_dataframe\n",
    "# correlated_frame = sklearn_correlation\n",
    "\n",
    "dataframe_high_correlation = make_dataframe_with_high_correlated_value(main_frame,correlated_frame,\n",
    "                                                             correlation_threshold_min_value, correlation_threshold_max_value)\n"
   ]
  },
  {
   "cell_type": "code",
   "execution_count": null,
   "metadata": {},
   "outputs": [],
   "source": [
    "dataframe_high_correlation.shape"
   ]
  },
  {
   "cell_type": "code",
   "execution_count": null,
   "metadata": {},
   "outputs": [],
   "source": [
    "dataframe_datetime.tail()"
   ]
  },
  {
   "cell_type": "code",
   "execution_count": null,
   "metadata": {},
   "outputs": [],
   "source": [
    "current_directory = os.getcwd()\n",
    "print('current_directory is: ',current_directory)\n",
    "address = 'image_folder'\n",
    "final_directory = current_directory+'/'+str(address)\n",
    "if not os.path.exists(final_directory):\n",
    "    os.makedirs(final_directory)\n",
    "    print('created : ', final_directory)\n",
    "else:\n",
    "    print(final_directory,' has already created')\n",
    "    pass"
   ]
  },
  {
   "cell_type": "code",
   "execution_count": null,
   "metadata": {},
   "outputs": [],
   "source": [
    "print(len(dataframe_high_correlation.columns))\n",
    "subfolder_1 = 'feature_vs_target'\n",
    "draw_feature_vs_target = draw_feature_vs_target(dataframe_high_correlation,final_directory,subfolder_1)"
   ]
  },
  {
   "cell_type": "code",
   "execution_count": null,
   "metadata": {},
   "outputs": [],
   "source": [
    "train_input, train_output, test_input, test_output = make_dataset(dataframe_high_correlation[0:5000])\n",
    "\n",
    "#s_array = dataframe_high_correlation.values\n",
    "model_list = [LinearRegression(),linear_model.Lasso(alpha=0.1),linear_model.Ridge(alpha=.5),\n",
    "              linear_model.BayesianRidge(), tree.DecisionTreeRegressor(max_depth=2),ExtraTreesRegressor(),\n",
    "              BaggingRegressor(ExtraTreesRegressor()),GBR()]\n",
    "name = ['LinearRegression','Lasso','Ridge','BayesianRidge','tree','ExtraTreesRegressor','BaggingRegressor','GBR']"
   ]
  },
  {
   "cell_type": "code",
   "execution_count": null,
   "metadata": {
    "scrolled": true
   },
   "outputs": [],
   "source": [
    "evaluation_metrics_file_path = final_directory+'/'+evaluation_metrics_file_name\n",
    "if not os.path.isfile(evaluation_metrics_file_path):\n",
    "    f = open(evaluation_metrics_file_path,'a')\n",
    "    f.close()\n",
    "    print('metrics file now created')\n",
    "else:\n",
    "    os.remove(evaluation_metrics_file_path)\n",
    "    f = open(evaluation_metrics_file_path,'a')\n",
    "    f.close()\n",
    "    print('metrics file removed and created')"
   ]
  },
  {
   "cell_type": "code",
   "execution_count": null,
   "metadata": {
    "scrolled": true
   },
   "outputs": [],
   "source": [
    "model = scikit_learn_model(model_list, name, train_input, train_output, test_input, test_output, final_directory, evaluation_metrics_file_path)"
   ]
  },
  {
   "cell_type": "code",
   "execution_count": null,
   "metadata": {},
   "outputs": [],
   "source": [
    "temp_frame = rearranged_dataframe.copy()\n",
    "temp_frame_1 = temp_frame.set_index('dateTime')"
   ]
  },
  {
   "cell_type": "code",
   "execution_count": null,
   "metadata": {
    "scrolled": true
   },
   "outputs": [],
   "source": [
    "# df = dataframe_date_time_type(dataframe_datetime)\n",
    "df = dataframe_date_time_type(temp_frame_1)\n",
    "\n",
    "dict_of_dates = {k: v for k, v in df.groupby('Date')}\n",
    "dict_of_day_type = {k:v for k,v in df.groupby('TypeofDAY')}\n",
    "dict_of_day_name = {k:v for k,v in df.groupby('day_name')}\n",
    "\n",
    "\n",
    "date_key_value = collections.OrderedDict(dict_of_dates)\n",
    "day_type_key_value = collections.OrderedDict(dict_of_day_type)\n",
    "day_name_key_value = collections.OrderedDict(dict_of_day_name)\n",
    "\n",
    "draw_graph_date = draw_graph(date_key_value,dict_of_dates, furnace_signal_column,final_directory, subfolder_name = 'date_fig_blast_furnace')\n",
    "draw_graph_week = draw_graph(day_type_key_value,dict_of_day_type, furnace_signal_column,final_directory, subfolder_name = 'week_fig_blast_furnace')\n",
    "draw_graph_day = draw_graph(day_name_key_value,dict_of_day_name, furnace_signal_column,final_directory, subfolder_name = 'day_fig_blast_furnace')"
   ]
  },
  {
   "cell_type": "code",
   "execution_count": null,
   "metadata": {},
   "outputs": [],
   "source": []
  },
  {
   "cell_type": "code",
   "execution_count": null,
   "metadata": {},
   "outputs": [],
   "source": []
  },
  {
   "cell_type": "code",
   "execution_count": null,
   "metadata": {},
   "outputs": [],
   "source": [
    "from keras.models import Sequential\n",
    "from keras.layers import Dense, Activation, Flatten\n",
    "from sklearn.metrics import mean_absolute_error\n",
    "from keras.callbacks import LearningRateScheduler, ModelCheckpoint"
   ]
  },
  {
   "cell_type": "code",
   "execution_count": null,
   "metadata": {},
   "outputs": [],
   "source": [
    "lr = 0.01\n",
    "\n",
    "def lr_schedule(epoch):\n",
    "    return lr * (0.1 ** int(epoch / 10))\n",
    "\n",
    "batch_size=32\n",
    "epochs= 30\n",
    "\n",
    "# define model\n",
    "def NN_model():\n",
    "    NN_model = Sequential()\n",
    "    NN_model.add(Dense(128, kernel_initializer='normal',input_dim = train_input.shape[1], activation='relu'))\n",
    "    NN_model.add(Dense(256, kernel_initializer='normal',activation='relu'))\n",
    "    NN_model.add(Dense(256, kernel_initializer='normal',activation='relu'))\n",
    "    NN_model.add(Dense(256, kernel_initializer='normal',activation='relu'))\n",
    "#     NN_model.add(Dense(1, kernel_initializer='normal',activation='relu'))\n",
    "    NN_model.add(Dense(1))\n",
    "    return NN_model\n",
    "NN_model=NN_model()\n",
    "NN_model.compile(loss='mean_absolute_error', optimizer='adam', metrics=['mean_absolute_error','accuracy'])\n",
    "NN_model.summary()"
   ]
  },
  {
   "cell_type": "code",
   "execution_count": null,
   "metadata": {
    "scrolled": false
   },
   "outputs": [],
   "source": [
    "NN_model.fit(train_input, train_output, epochs=epochs, batch_size=batch_size)"
   ]
  },
  {
   "cell_type": "code",
   "execution_count": null,
   "metadata": {},
   "outputs": [],
   "source": [
    "predicted_output = NN_model.predict(test_input)"
   ]
  },
  {
   "cell_type": "code",
   "execution_count": null,
   "metadata": {},
   "outputs": [],
   "source": [
    "from sklearn import linear_model\n",
    "from sklearn.metrics import mean_squared_error, r2_score, mean_absolute_error\n",
    "import math\n",
    "print('r_2 statistic: %.2f' % r2_score(test_output,predicted_output))\n",
    "print(\"Mean_absolute_error: %.2f\" % mean_absolute_error(test_output,predicted_output))\n",
    "print(\"Mean squared error: %.2f\" % mean_squared_error(test_output,predicted_output))\n",
    "RMSE=math.sqrt(mean_squared_error(test_output,predicted_output))\n",
    "print('RMSE: ',RMSE)"
   ]
  },
  {
   "cell_type": "code",
   "execution_count": null,
   "metadata": {},
   "outputs": [],
   "source": [
    "plt.plot((min(test_output), max(test_output)), (min(predicted_output), max(predicted_output)), color='red')\n",
    "plt.scatter(test_output, predicted_output, color='blue')"
   ]
  },
  {
   "cell_type": "code",
   "execution_count": null,
   "metadata": {},
   "outputs": [],
   "source": []
  },
  {
   "cell_type": "code",
   "execution_count": null,
   "metadata": {},
   "outputs": [],
   "source": []
  },
  {
   "cell_type": "code",
   "execution_count": null,
   "metadata": {},
   "outputs": [],
   "source": []
  },
  {
   "cell_type": "code",
   "execution_count": null,
   "metadata": {},
   "outputs": [],
   "source": []
  },
  {
   "cell_type": "code",
   "execution_count": null,
   "metadata": {},
   "outputs": [],
   "source": []
  },
  {
   "cell_type": "code",
   "execution_count": null,
   "metadata": {},
   "outputs": [],
   "source": [
    "dataframe_datetime.iloc[0:5000].plot(y = dataframe_datetime.columns[-1], use_index=True)\n",
    "plt.rcParams['figure.figsize'] =(15,5)"
   ]
  },
  {
   "cell_type": "code",
   "execution_count": null,
   "metadata": {},
   "outputs": [],
   "source": []
  }
 ],
 "metadata": {
  "kernelspec": {
   "display_name": "Python 3",
   "language": "python",
   "name": "python3"
  },
  "language_info": {
   "codemirror_mode": {
    "name": "ipython",
    "version": 3
   },
   "file_extension": ".py",
   "mimetype": "text/x-python",
   "name": "python",
   "nbconvert_exporter": "python",
   "pygments_lexer": "ipython3",
   "version": "3.6.8"
  }
 },
 "nbformat": 4,
 "nbformat_minor": 2
}
