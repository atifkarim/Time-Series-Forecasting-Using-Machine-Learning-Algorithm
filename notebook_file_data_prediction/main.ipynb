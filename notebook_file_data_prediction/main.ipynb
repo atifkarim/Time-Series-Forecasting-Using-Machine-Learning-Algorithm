{
 "cells": [
  {
   "cell_type": "code",
   "execution_count": null,
   "metadata": {},
   "outputs": [],
   "source": [
    "# import import_ipynb\n",
    "# %run data_analysis_function.ipynb\n",
    "\n",
    "\n",
    "# pd.datetime(df.column, unit ='ms')"
   ]
  },
  {
   "cell_type": "code",
   "execution_count": 1,
   "metadata": {},
   "outputs": [],
   "source": [
    "import numpy as np\n",
    "a = np.zeros((156816, 36, 53806), dtype='uint8')"
   ]
  },
  {
   "cell_type": "code",
   "execution_count": 2,
   "metadata": {},
   "outputs": [],
   "source": [
    "# import data_analysis_function"
   ]
  },
  {
   "cell_type": "code",
   "execution_count": 3,
   "metadata": {},
   "outputs": [],
   "source": [
    "# from ipynb.fs.full.data_analysis_function import create_dataframe\n",
    "# from ipynb.fs.full.data_analysis_function import conversion_timestamp_to_unixtime"
   ]
  },
  {
   "cell_type": "code",
   "execution_count": 4,
   "metadata": {},
   "outputs": [],
   "source": [
    "# from ipynb.fs.full.data_analysis_function import remove_rw_column"
   ]
  },
  {
   "cell_type": "code",
   "execution_count": 5,
   "metadata": {},
   "outputs": [],
   "source": [
    "import json\n",
    "import collections\n",
    "import os\n",
    "from sklearn.linear_model import LinearRegression\n",
    "from sklearn.ensemble import ExtraTreesRegressor\n",
    "from sklearn.ensemble import BaggingRegressor\n",
    "from sklearn.ensemble import GradientBoostingRegressor as GBR\n",
    "from sklearn import linear_model\n",
    "from sklearn import tree\n",
    "\n",
    "import numpy as np\n",
    "import matplotlib.pyplot as plt\n",
    "import pandas as pd\n",
    "\n",
    "from dataset_analysis import create_dataframe\n",
    "from dataset_analysis import conversion_timestamp_to_unixtime\n",
    "from dataset_analysis import remove_rw_column\n",
    "from dataset_analysis import alter_time\n",
    "from dataset_analysis import rearrange_frame\n",
    "from dataset_analysis import drop_zero_value_row_of_blast_furnace_signal\n",
    "from dataset_analysis import drop_zero_value_row_of_target_signal\n",
    "\n",
    "from dataset_analysis import check_A_B_blast_furnace\n",
    "from dataset_analysis import no_zero_value_in_target\n",
    "\n",
    "from dataset_analysis import drop_column_with_same_value\n",
    "from dataset_analysis import drop_nan_value\n",
    "from dataset_analysis import drop_row\n",
    "from dataset_analysis import drop_string_column\n",
    "from dataset_analysis import feature_selection_with_selectKbest\n",
    "from dataset_analysis import pearson_correlation\n",
    "from dataset_analysis import make_dataframe_with_high_correlated_value\n",
    "from dataset_analysis import dataframe_date_time_type\n",
    "from dataset_analysis import my_sum\n",
    "from dataset_analysis import draw_graph\n",
    "from dataset_analysis import draw_feature_vs_target"
   ]
  },
  {
   "cell_type": "code",
   "execution_count": 6,
   "metadata": {},
   "outputs": [],
   "source": [
    "from dataset_analysis import remove_rw_column_1"
   ]
  },
  {
   "cell_type": "code",
   "execution_count": 7,
   "metadata": {},
   "outputs": [],
   "source": [
    "from model_file import make_dataset\n",
    "from model_file import scikit_learn_model\n",
    "from model_file import plot_graph\n",
    "from model_file import evaluation_metrices"
   ]
  },
  {
   "cell_type": "code",
   "execution_count": 8,
   "metadata": {
    "scrolled": false
   },
   "outputs": [
    {
     "name": "stdout",
     "output_type": "stream",
     "text": [
      "0.9\n",
      "0.5\n"
     ]
    }
   ],
   "source": [
    "with open('variable_config.json', 'r') as f:\n",
    "    config = json.load(f)\n",
    "\n",
    "filepath = config['DEFAULT']['file_path']\n",
    "filepath_ubuntu = config['DEFAULT']['file_path_ubuntu']\n",
    "filepath_ubuntu_1 = config['DEFAULT']['file_path_ubuntu_1']\n",
    "filepath_server = config['DEFAULT']['file_path_server']\n",
    "start_pos = config['DEFAULT']['start_point_dataframe']\n",
    "end_pos = config['DEFAULT']['end_point_dataframe']\n",
    "date_column = config['DEFAULT']['date_column']\n",
    "target_column = config['DEFAULT']['target_column']\n",
    "req_drop_value_target = config['DEFAULT']['req_drop_value_target']\n",
    "furnace_signal_column_a = config['DEFAULT']['blast_furnace_signal_a']\n",
    "furnace_signal_column_b = config['DEFAULT']['blast_furnace_signal_b']\n",
    "value_A = config['DEFAULT']['req_value_of_blast_furnace_A']\n",
    "value_B = config['DEFAULT']['req_value_of_blast_furnace_B']\n",
    "max_best_number = config['DEFAULT']['max_best_number']\n",
    "correlation_threshold_min_value = config['DEFAULT']['correlation_threshold_min_value']\n",
    "correlation_threshold_max_value = config['DEFAULT']['correlation_threshold_max_value']\n",
    "subfolder_feature_vs_target = config['DEFAULT']['subfolder_feature_vs_target']\n",
    "evaluation_metrics_file_name = config['DEFAULT']['evaluation_metrics_file']\n",
    "# print(type(correlation_threshold_min_value))\n",
    "print(correlation_threshold_max_value)\n",
    "print(correlation_threshold_min_value)"
   ]
  },
  {
   "cell_type": "code",
   "execution_count": 9,
   "metadata": {},
   "outputs": [
    {
     "name": "stdout",
     "output_type": "stream",
     "text": [
      "Number of processors:  12\n"
     ]
    }
   ],
   "source": [
    "# import pandas as pd\n",
    "# count = 0\n",
    "# for data in pd.read_csv(filepath_server,encoding = 'ISO-8859-1',chunksize  = 1000):\n",
    "#     count += 1                          # counting the number of chunks\n",
    "#     lastlen = len(data)                 # finding the length of last chunk\n",
    "# datalength = (count*1000 + lastlen - 1000) # length of total file\n",
    "\n",
    "import multiprocessing as mp\n",
    "print(\"Number of processors: \", mp.cpu_count())"
   ]
  },
  {
   "cell_type": "code",
   "execution_count": 10,
   "metadata": {},
   "outputs": [],
   "source": [
    "def create_dataframe(filepath):\n",
    "    test = pd.read_csv(filepath)  # here the given csv file is reading\n",
    "    return test"
   ]
  },
  {
   "cell_type": "code",
   "execution_count": 11,
   "metadata": {},
   "outputs": [],
   "source": [
    "initial_dataframe = create_dataframe(filepath_server)"
   ]
  },
  {
   "cell_type": "code",
   "execution_count": 12,
   "metadata": {},
   "outputs": [
    {
     "data": {
      "text/html": [
       "<div>\n",
       "<style scoped>\n",
       "    .dataframe tbody tr th:only-of-type {\n",
       "        vertical-align: middle;\n",
       "    }\n",
       "\n",
       "    .dataframe tbody tr th {\n",
       "        vertical-align: top;\n",
       "    }\n",
       "\n",
       "    .dataframe thead th {\n",
       "        text-align: right;\n",
       "    }\n",
       "</style>\n",
       "<table border=\"1\" class=\"dataframe\">\n",
       "  <thead>\n",
       "    <tr style=\"text-align: right;\">\n",
       "      <th></th>\n",
       "      <th>longTime</th>\n",
       "      <th>AEAGHOAWE2T1</th>\n",
       "      <th>AEAGHOAWE2A0</th>\n",
       "      <th>AEAGHOAWE2T0</th>\n",
       "      <th>AEAGHOAWE1A0</th>\n",
       "      <th>AEAGHOAWE1T1</th>\n",
       "      <th>AEAGHOAWE1T0</th>\n",
       "      <th>AEAGHOAWE3T0</th>\n",
       "      <th>AEAGHOAWE3A0</th>\n",
       "      <th>AEAGHOAWE3T1</th>\n",
       "      <th>...</th>\n",
       "      <th>RWWIHOUT10V1</th>\n",
       "      <th>RWWIHOT7_RV0</th>\n",
       "      <th>RWWIHOT8_RV0</th>\n",
       "      <th>RWWIHOT9_RV0</th>\n",
       "      <th>RWWIHOT10RV0</th>\n",
       "      <th>RWWIHOTSURV0</th>\n",
       "      <th>RWWIHOTSUMV0</th>\n",
       "      <th>RWWIHO_VERV0</th>\n",
       "      <th>RWWIHO_UESV0</th>\n",
       "      <th>RWWIHOSUMAV0</th>\n",
       "    </tr>\n",
       "  </thead>\n",
       "  <tbody>\n",
       "    <tr>\n",
       "      <th>0</th>\n",
       "      <td>1565853000000</td>\n",
       "      <td>59.919107</td>\n",
       "      <td>100.0</td>\n",
       "      <td>91.029023</td>\n",
       "      <td>99.969567</td>\n",
       "      <td>55.766858</td>\n",
       "      <td>89.885921</td>\n",
       "      <td>90.963652</td>\n",
       "      <td>99.089689</td>\n",
       "      <td>56.910569</td>\n",
       "      <td>...</td>\n",
       "      <td>0</td>\n",
       "      <td>71.894489</td>\n",
       "      <td>50.087283</td>\n",
       "      <td>40.250768</td>\n",
       "      <td>73.763059</td>\n",
       "      <td>71.201763</td>\n",
       "      <td>49.606024</td>\n",
       "      <td>38.09664</td>\n",
       "      <td>0.671974</td>\n",
       "      <td>33.111827</td>\n",
       "    </tr>\n",
       "  </tbody>\n",
       "</table>\n",
       "<p>1 rows × 4239 columns</p>\n",
       "</div>"
      ],
      "text/plain": [
       "        longTime  AEAGHOAWE2T1  AEAGHOAWE2A0  AEAGHOAWE2T0  AEAGHOAWE1A0  \\\n",
       "0  1565853000000     59.919107         100.0     91.029023     99.969567   \n",
       "\n",
       "   AEAGHOAWE1T1  AEAGHOAWE1T0  AEAGHOAWE3T0  AEAGHOAWE3A0  AEAGHOAWE3T1  ...  \\\n",
       "0     55.766858     89.885921     90.963652     99.089689     56.910569  ...   \n",
       "\n",
       "   RWWIHOUT10V1  RWWIHOT7_RV0  RWWIHOT8_RV0  RWWIHOT9_RV0  RWWIHOT10RV0  \\\n",
       "0             0     71.894489     50.087283     40.250768     73.763059   \n",
       "\n",
       "   RWWIHOTSURV0  RWWIHOTSUMV0  RWWIHO_VERV0  RWWIHO_UESV0  RWWIHOSUMAV0  \n",
       "0     71.201763     49.606024      38.09664      0.671974     33.111827  \n",
       "\n",
       "[1 rows x 4239 columns]"
      ]
     },
     "execution_count": 12,
     "metadata": {},
     "output_type": "execute_result"
    }
   ],
   "source": [
    "initial_dataframe.head(1)"
   ]
  },
  {
   "cell_type": "code",
   "execution_count": 10,
   "metadata": {},
   "outputs": [],
   "source": [
    "def create_dateTime(dataframe):\n",
    "    dataframe = dataframe.sort_index()\n",
    "    dataframe['dateTime'] = pd.to_datetime(dataframe['longTime'], unit='ms')\n",
    "    dataframe = dataframe.drop(['longTime'], axis=1)\n",
    "    try:\n",
    "        dataframe.drop(['row ID'], axis = 1)\n",
    "    except:\n",
    "        None\n",
    "    \n",
    "    return dataframe\n",
    "\n",
    "\n",
    "df_1 = create_dateTime(initial_dataframe)"
   ]
  },
  {
   "cell_type": "code",
   "execution_count": 11,
   "metadata": {},
   "outputs": [],
   "source": [
    "def distinct_month_1(dataframe, target_column,month_key):\n",
    "    array_df = []\n",
    "    for i in month_key:\n",
    "        req_data_1=dataframe.loc[(dataframe[target_column]==i)]\n",
    "        req_frame_1=pd.DataFrame(req_data_1,columns=dataframe.columns)\n",
    "        \n",
    "        array_df.append(req_frame_1)\n",
    "    \n",
    "    return array_df"
   ]
  },
  {
   "cell_type": "code",
   "execution_count": 12,
   "metadata": {},
   "outputs": [],
   "source": [
    "def draw_month(month_key_value, dict_of_month,target_column):\n",
    "    for i in month_key_value:\n",
    "        value = dict_of_month[i]\n",
    "        value.iloc[:].plot(y=[target_column])\n",
    "        plt.title('visualization of signal ' + str(target_column) + ' in time of ' + str(i))\n",
    "        plt.xlabel('range')\n",
    "        plt.ylabel('value')\n",
    "\n",
    "        plt.rcParams['figure.figsize'] = (5,5)\n",
    "        plt.savefig(str(i) + '.jpg')\n",
    "        plt.show()"
   ]
  },
  {
   "cell_type": "code",
   "execution_count": 13,
   "metadata": {
    "scrolled": true
   },
   "outputs": [],
   "source": [
    "# df_2 = df_1.copy()\n",
    "# df_2 = df_2.set_index('dateTime')\n",
    "\n",
    "def create_month(dataframe, target_column_month):\n",
    "    dataframe = dataframe.set_index('dateTime')\n",
    "    dataframe['year'] = pd.DatetimeIndex(dataframe.index).year\n",
    "    dataframe['month'] = pd.DatetimeIndex(dataframe.index).month\n",
    "    \n",
    "    dict_of_month = {k:v for k,v in dataframe.groupby('month')}\n",
    "    month_key_value = collections.OrderedDict(dict_of_month)\n",
    "    \n",
    "    month_array_df = distinct_month_1(dataframe, target_column_month, month_key_value)\n",
    "    \n",
    "#     draw_month_fig = draw_month(month_key_value, dict_of_month, target_column)\n",
    "    \n",
    "    return dataframe, month_array_df\n",
    "\n",
    "date_df, month_array_df = create_month(df_1, 'month')"
   ]
  },
  {
   "cell_type": "code",
   "execution_count": 14,
   "metadata": {},
   "outputs": [],
   "source": [
    "def specific_month_df(dataframe,target_column_month):\n",
    "    req_data_month=dataframe.loc[(dataframe[target_column_month]==2) | (dataframe[target_column_month]==3) | (dataframe[target_column_month]==4) | (dataframe[target_column_month]==5) ]\n",
    "    req_frame_month=pd.DataFrame(req_data_month,columns=dataframe.columns)\n",
    "    \n",
    "    return req_frame_month\n",
    "\n",
    "specific_month_df = specific_month_df(date_df,'month')"
   ]
  },
  {
   "cell_type": "code",
   "execution_count": 15,
   "metadata": {},
   "outputs": [],
   "source": [
    "def drop_month_year(dataframe):\n",
    "#     dataframe = dataframe.drop(['year','month'], axis=1)\n",
    "    dataframe = dataframe.reset_index()\n",
    "    return dataframe\n",
    "\n",
    "spec_month = drop_month_year(date_df)\n",
    "# spec_month = drop_month_year(specific_month_df)"
   ]
  },
  {
   "cell_type": "code",
   "execution_count": 16,
   "metadata": {
    "scrolled": true
   },
   "outputs": [
    {
     "name": "stdout",
     "output_type": "stream",
     "text": [
      "(1000, 4241)\n"
     ]
    }
   ],
   "source": [
    "print(spec_month.shape)"
   ]
  },
  {
   "cell_type": "code",
   "execution_count": 18,
   "metadata": {},
   "outputs": [
    {
     "data": {
      "text/html": [
       "<div>\n",
       "<style scoped>\n",
       "    .dataframe tbody tr th:only-of-type {\n",
       "        vertical-align: middle;\n",
       "    }\n",
       "\n",
       "    .dataframe tbody tr th {\n",
       "        vertical-align: top;\n",
       "    }\n",
       "\n",
       "    .dataframe thead th {\n",
       "        text-align: right;\n",
       "    }\n",
       "</style>\n",
       "<table border=\"1\" class=\"dataframe\">\n",
       "  <thead>\n",
       "    <tr style=\"text-align: right;\">\n",
       "      <th></th>\n",
       "      <th>dateTime</th>\n",
       "      <th>AEAGHOAWE2T1</th>\n",
       "      <th>AEAGHOAWE2A0</th>\n",
       "      <th>AEAGHOAWE2T0</th>\n",
       "      <th>AEAGHOAWE1A0</th>\n",
       "      <th>AEAGHOAWE1T1</th>\n",
       "      <th>AEAGHOAWE1T0</th>\n",
       "      <th>AEAGHOAWE3T0</th>\n",
       "      <th>AEAGHOAWE3A0</th>\n",
       "      <th>AEAGHOAWE3T1</th>\n",
       "      <th>...</th>\n",
       "      <th>RWWIHOT8_RV0</th>\n",
       "      <th>RWWIHOT9_RV0</th>\n",
       "      <th>RWWIHOT10RV0</th>\n",
       "      <th>RWWIHOTSURV0</th>\n",
       "      <th>RWWIHOTSUMV0</th>\n",
       "      <th>RWWIHO_VERV0</th>\n",
       "      <th>RWWIHO_UESV0</th>\n",
       "      <th>RWWIHOSUMAV0</th>\n",
       "      <th>year</th>\n",
       "      <th>month</th>\n",
       "    </tr>\n",
       "  </thead>\n",
       "  <tbody>\n",
       "    <tr>\n",
       "      <th>998</th>\n",
       "      <td>2019-08-14 14:32:00</td>\n",
       "      <td>73.702422</td>\n",
       "      <td>26.682323</td>\n",
       "      <td>96.097629</td>\n",
       "      <td>25.181413</td>\n",
       "      <td>84.140565</td>\n",
       "      <td>95.668104</td>\n",
       "      <td>94.979890</td>\n",
       "      <td>14.327497</td>\n",
       "      <td>60.685406</td>\n",
       "      <td>...</td>\n",
       "      <td>44.697605</td>\n",
       "      <td>45.726155</td>\n",
       "      <td>73.763059</td>\n",
       "      <td>71.301494</td>\n",
       "      <td>58.414486</td>\n",
       "      <td>58.960012</td>\n",
       "      <td>0.767154</td>\n",
       "      <td>15.390826</td>\n",
       "      <td>2019</td>\n",
       "      <td>8</td>\n",
       "    </tr>\n",
       "    <tr>\n",
       "      <th>999</th>\n",
       "      <td>2019-08-14 14:31:00</td>\n",
       "      <td>73.241061</td>\n",
       "      <td>23.796397</td>\n",
       "      <td>95.937082</td>\n",
       "      <td>23.735700</td>\n",
       "      <td>83.679204</td>\n",
       "      <td>95.668104</td>\n",
       "      <td>95.200624</td>\n",
       "      <td>12.774177</td>\n",
       "      <td>61.149982</td>\n",
       "      <td>...</td>\n",
       "      <td>44.770156</td>\n",
       "      <td>42.155184</td>\n",
       "      <td>73.763059</td>\n",
       "      <td>69.600416</td>\n",
       "      <td>56.461998</td>\n",
       "      <td>58.940248</td>\n",
       "      <td>0.785380</td>\n",
       "      <td>15.683403</td>\n",
       "      <td>2019</td>\n",
       "      <td>8</td>\n",
       "    </tr>\n",
       "  </tbody>\n",
       "</table>\n",
       "<p>2 rows × 4241 columns</p>\n",
       "</div>"
      ],
      "text/plain": [
       "               dateTime  AEAGHOAWE2T1  AEAGHOAWE2A0  AEAGHOAWE2T0  \\\n",
       "998 2019-08-14 14:32:00     73.702422     26.682323     96.097629   \n",
       "999 2019-08-14 14:31:00     73.241061     23.796397     95.937082   \n",
       "\n",
       "     AEAGHOAWE1A0  AEAGHOAWE1T1  AEAGHOAWE1T0  AEAGHOAWE3T0  AEAGHOAWE3A0  \\\n",
       "998     25.181413     84.140565     95.668104     94.979890     14.327497   \n",
       "999     23.735700     83.679204     95.668104     95.200624     12.774177   \n",
       "\n",
       "     AEAGHOAWE3T1  ...  RWWIHOT8_RV0  RWWIHOT9_RV0  RWWIHOT10RV0  \\\n",
       "998     60.685406  ...     44.697605     45.726155     73.763059   \n",
       "999     61.149982  ...     44.770156     42.155184     73.763059   \n",
       "\n",
       "     RWWIHOTSURV0  RWWIHOTSUMV0  RWWIHO_VERV0  RWWIHO_UESV0  RWWIHOSUMAV0  \\\n",
       "998     71.301494     58.414486     58.960012      0.767154     15.390826   \n",
       "999     69.600416     56.461998     58.940248      0.785380     15.683403   \n",
       "\n",
       "     year  month  \n",
       "998  2019      8  \n",
       "999  2019      8  \n",
       "\n",
       "[2 rows x 4241 columns]"
      ]
     },
     "execution_count": 18,
     "metadata": {},
     "output_type": "execute_result"
    }
   ],
   "source": [
    "spec_month.tail(2)"
   ]
  },
  {
   "cell_type": "code",
   "execution_count": null,
   "metadata": {
    "scrolled": true
   },
   "outputs": [],
   "source": [
    "# df_2.columns.get_loc(target_column)\n",
    "# print(df_2.columns[4142])\n",
    "# target_df = df_2.loc[:, df_2.columns[4142]]"
   ]
  },
  {
   "cell_type": "code",
   "execution_count": null,
   "metadata": {},
   "outputs": [],
   "source": [
    "# targ = pd.DataFrame(target_df)"
   ]
  },
  {
   "cell_type": "code",
   "execution_count": null,
   "metadata": {},
   "outputs": [],
   "source": [
    "# df_month = pd.DataFrame(index=df_2.index)"
   ]
  },
  {
   "cell_type": "code",
   "execution_count": null,
   "metadata": {},
   "outputs": [],
   "source": [
    "# df_month['year'] = pd.DatetimeIndex(df_month.index).year"
   ]
  },
  {
   "cell_type": "code",
   "execution_count": null,
   "metadata": {},
   "outputs": [],
   "source": [
    "# df_month['month'] = pd.DatetimeIndex(df_month.index).month"
   ]
  },
  {
   "cell_type": "code",
   "execution_count": null,
   "metadata": {},
   "outputs": [],
   "source": [
    "# df_month"
   ]
  },
  {
   "cell_type": "code",
   "execution_count": null,
   "metadata": {
    "scrolled": false
   },
   "outputs": [],
   "source": [
    "# df_month_final = pd.concat([df_month, target_df], axis=1)\n",
    "# df_month_final.head()"
   ]
  },
  {
   "cell_type": "code",
   "execution_count": null,
   "metadata": {
    "scrolled": true
   },
   "outputs": [],
   "source": [
    "# u = initial_dataframe.columns.get_loc(\"DEWIHOAT9_I0\")\n",
    "# v = initial_dataframe.columns.get_loc(\"DEWIHOBT9_I0\")\n",
    "# w = initial_dataframe.columns.get_loc(\"DEWIHOAT8_I0\")\n",
    "# x = initial_dataframe.columns.get_loc(\"DEWIHOBT8_I0\")\n",
    "# print(u,v,w,x)"
   ]
  },
  {
   "cell_type": "markdown",
   "metadata": {},
   "source": [
    "# plotted blast furnace A and B for Turbine 8's output"
   ]
  },
  {
   "cell_type": "code",
   "execution_count": null,
   "metadata": {
    "scrolled": true
   },
   "outputs": [],
   "source": [
    "# print(initial_dataframe.shape)\n",
    "# plt.plot(initial_dataframe[\"AEWIHO_T8AV2\"], color = 'blue')\n",
    "# plt.plot(initial_dataframe[\"DEWIHOBT8_I0\"], color = 'red')\n",
    "# plt.plot(initial_dataframe[\"DEWIHOAT8_I0\"], color = 'black')\n",
    "# plt.legend([\"AEWIHO_T8AV2\", \"DEWIHOBT8_I0\",\"DEWIHOAT8_I0\"], loc='upper left')\n",
    "# # plt.xlim(0,initial_dataframe.shape[0]+10)\n",
    "# # plt.xticks(np.arange(0,initial_dataframe.shape[0],))\n",
    "# plt.rcParams['figure.figsize'] = (20, 10)"
   ]
  },
  {
   "cell_type": "markdown",
   "metadata": {},
   "source": [
    "# plotted blast furnace A and B for Turbine 9's output"
   ]
  },
  {
   "cell_type": "code",
   "execution_count": null,
   "metadata": {},
   "outputs": [],
   "source": [
    "print(initial_dataframe.shape)\n",
    "plt.plot(initial_dataframe[target_column], color = 'blue')\n",
    "plt.plot(initial_dataframe[furnace_signal_column_a], color = 'red')\n",
    "plt.plot(initial_dataframe[furnace_signal_column_b], color = 'black')\n",
    "# plt.legend([target_column, furnace_signal_column_a, furnace_signal_column_b], loc='upper left')\n",
    "# plt.xlim(0,initial_dataframe.shape[0]+10)\n",
    "# plt.xticks(np.arange(0,initial_dataframe.shape[0],))\n",
    "plt.rcParams['figure.figsize'] = (8, 5)"
   ]
  },
  {
   "cell_type": "code",
   "execution_count": null,
   "metadata": {
    "scrolled": false
   },
   "outputs": [],
   "source": [
    "# test_new = conversion_timestamp_to_unixtime(initial_dataframe)"
   ]
  },
  {
   "cell_type": "code",
   "execution_count": 19,
   "metadata": {},
   "outputs": [],
   "source": [
    "test_new = spec_month"
   ]
  },
  {
   "cell_type": "code",
   "execution_count": 20,
   "metadata": {},
   "outputs": [],
   "source": [
    "# test_new_1 = test_new.drop(['row ID'], axis = 1) # need it if dataset made fro KNIME using ROW_ID\n",
    "test_new_1 = test_new"
   ]
  },
  {
   "cell_type": "code",
   "execution_count": 21,
   "metadata": {},
   "outputs": [],
   "source": [
    "# test_new_2 = remove_rw_column_1(test_new_1,'RW')\n",
    "test_new_2 = test_new_1"
   ]
  },
  {
   "cell_type": "code",
   "execution_count": 22,
   "metadata": {},
   "outputs": [
    {
     "data": {
      "text/plain": [
       "(1000, 4241)"
      ]
     },
     "execution_count": 22,
     "metadata": {},
     "output_type": "execute_result"
    }
   ],
   "source": [
    "test_new_2.shape\n",
    "# test_new_2.shape[0]"
   ]
  },
  {
   "cell_type": "code",
   "execution_count": 23,
   "metadata": {},
   "outputs": [],
   "source": [
    "\n",
    "# Taking define number of row from the beginning\n",
    "# multivariate_data = alter_time(test_new_2, start_pos, test_new.shape[0])\n",
    "multivariate_data = alter_time(test_new_2, start_pos,test_new_2.shape[0])"
   ]
  },
  {
   "cell_type": "code",
   "execution_count": 24,
   "metadata": {},
   "outputs": [
    {
     "data": {
      "text/html": [
       "<div>\n",
       "<style scoped>\n",
       "    .dataframe tbody tr th:only-of-type {\n",
       "        vertical-align: middle;\n",
       "    }\n",
       "\n",
       "    .dataframe tbody tr th {\n",
       "        vertical-align: top;\n",
       "    }\n",
       "\n",
       "    .dataframe thead th {\n",
       "        text-align: right;\n",
       "    }\n",
       "</style>\n",
       "<table border=\"1\" class=\"dataframe\">\n",
       "  <thead>\n",
       "    <tr style=\"text-align: right;\">\n",
       "      <th></th>\n",
       "      <th>dateTime</th>\n",
       "      <th>AEAGHOAWE2T1</th>\n",
       "      <th>AEAGHOAWE2A0</th>\n",
       "      <th>AEAGHOAWE2T0</th>\n",
       "      <th>AEAGHOAWE1A0</th>\n",
       "      <th>AEAGHOAWE1T1</th>\n",
       "      <th>AEAGHOAWE1T0</th>\n",
       "      <th>AEAGHOAWE3T0</th>\n",
       "      <th>AEAGHOAWE3A0</th>\n",
       "      <th>AEAGHOAWE3T1</th>\n",
       "      <th>...</th>\n",
       "      <th>RWWIHOT8_RV0</th>\n",
       "      <th>RWWIHOT9_RV0</th>\n",
       "      <th>RWWIHOT10RV0</th>\n",
       "      <th>RWWIHOTSURV0</th>\n",
       "      <th>RWWIHOTSUMV0</th>\n",
       "      <th>RWWIHO_VERV0</th>\n",
       "      <th>RWWIHO_UESV0</th>\n",
       "      <th>RWWIHOSUMAV0</th>\n",
       "      <th>year</th>\n",
       "      <th>month</th>\n",
       "    </tr>\n",
       "  </thead>\n",
       "  <tbody>\n",
       "    <tr>\n",
       "      <th>1</th>\n",
       "      <td>2019-08-15 07:09:00</td>\n",
       "      <td>59.919107</td>\n",
       "      <td>100.0</td>\n",
       "      <td>91.029023</td>\n",
       "      <td>99.969567</td>\n",
       "      <td>55.766858</td>\n",
       "      <td>89.885921</td>\n",
       "      <td>90.963652</td>\n",
       "      <td>99.089689</td>\n",
       "      <td>56.910569</td>\n",
       "      <td>...</td>\n",
       "      <td>50.110508</td>\n",
       "      <td>40.379436</td>\n",
       "      <td>73.763059</td>\n",
       "      <td>71.276868</td>\n",
       "      <td>49.615189</td>\n",
       "      <td>38.034993</td>\n",
       "      <td>0.672205</td>\n",
       "      <td>33.060837</td>\n",
       "      <td>2019</td>\n",
       "      <td>8</td>\n",
       "    </tr>\n",
       "    <tr>\n",
       "      <th>0</th>\n",
       "      <td>2019-08-15 07:10:00</td>\n",
       "      <td>59.919107</td>\n",
       "      <td>100.0</td>\n",
       "      <td>91.029023</td>\n",
       "      <td>99.969567</td>\n",
       "      <td>55.766858</td>\n",
       "      <td>89.885921</td>\n",
       "      <td>90.963652</td>\n",
       "      <td>99.089689</td>\n",
       "      <td>56.910569</td>\n",
       "      <td>...</td>\n",
       "      <td>50.087283</td>\n",
       "      <td>40.250768</td>\n",
       "      <td>73.763059</td>\n",
       "      <td>71.201763</td>\n",
       "      <td>49.606024</td>\n",
       "      <td>38.096640</td>\n",
       "      <td>0.671974</td>\n",
       "      <td>33.111827</td>\n",
       "      <td>2019</td>\n",
       "      <td>8</td>\n",
       "    </tr>\n",
       "  </tbody>\n",
       "</table>\n",
       "<p>2 rows × 4241 columns</p>\n",
       "</div>"
      ],
      "text/plain": [
       "             dateTime  AEAGHOAWE2T1  AEAGHOAWE2A0  AEAGHOAWE2T0  AEAGHOAWE1A0  \\\n",
       "1 2019-08-15 07:09:00     59.919107         100.0     91.029023     99.969567   \n",
       "0 2019-08-15 07:10:00     59.919107         100.0     91.029023     99.969567   \n",
       "\n",
       "   AEAGHOAWE1T1  AEAGHOAWE1T0  AEAGHOAWE3T0  AEAGHOAWE3A0  AEAGHOAWE3T1  ...  \\\n",
       "1     55.766858     89.885921     90.963652     99.089689     56.910569  ...   \n",
       "0     55.766858     89.885921     90.963652     99.089689     56.910569  ...   \n",
       "\n",
       "   RWWIHOT8_RV0  RWWIHOT9_RV0  RWWIHOT10RV0  RWWIHOTSURV0  RWWIHOTSUMV0  \\\n",
       "1     50.110508     40.379436     73.763059     71.276868     49.615189   \n",
       "0     50.087283     40.250768     73.763059     71.201763     49.606024   \n",
       "\n",
       "   RWWIHO_VERV0  RWWIHO_UESV0  RWWIHOSUMAV0  year  month  \n",
       "1     38.034993      0.672205     33.060837  2019      8  \n",
       "0     38.096640      0.671974     33.111827  2019      8  \n",
       "\n",
       "[2 rows x 4241 columns]"
      ]
     },
     "execution_count": 24,
     "metadata": {},
     "output_type": "execute_result"
    }
   ],
   "source": [
    "multivariate_data.tail(2)"
   ]
  },
  {
   "cell_type": "code",
   "execution_count": 25,
   "metadata": {},
   "outputs": [],
   "source": [
    "index_array=[0,-1]\n",
    "req_column_name = [date_column, target_column]\n",
    "# req_column_name = [date_column, furnace_signal_column]\n",
    "rearranged_dataframe = rearrange_frame(multivariate_data,req_column_name,index_array)"
   ]
  },
  {
   "cell_type": "code",
   "execution_count": 27,
   "metadata": {},
   "outputs": [
    {
     "data": {
      "text/html": [
       "<div>\n",
       "<style scoped>\n",
       "    .dataframe tbody tr th:only-of-type {\n",
       "        vertical-align: middle;\n",
       "    }\n",
       "\n",
       "    .dataframe tbody tr th {\n",
       "        vertical-align: top;\n",
       "    }\n",
       "\n",
       "    .dataframe thead th {\n",
       "        text-align: right;\n",
       "    }\n",
       "</style>\n",
       "<table border=\"1\" class=\"dataframe\">\n",
       "  <thead>\n",
       "    <tr style=\"text-align: right;\">\n",
       "      <th></th>\n",
       "      <th>dateTime</th>\n",
       "      <th>AEAGHOAWE2T1</th>\n",
       "      <th>AEAGHOAWE2A0</th>\n",
       "      <th>AEAGHOAWE2T0</th>\n",
       "      <th>AEAGHOAWE1A0</th>\n",
       "      <th>AEAGHOAWE1T1</th>\n",
       "      <th>AEAGHOAWE1T0</th>\n",
       "      <th>AEAGHOAWE3T0</th>\n",
       "      <th>AEAGHOAWE3A0</th>\n",
       "      <th>AEAGHOAWE3T1</th>\n",
       "      <th>...</th>\n",
       "      <th>RWWIHOT8_RV0</th>\n",
       "      <th>RWWIHOT9_RV0</th>\n",
       "      <th>RWWIHOT10RV0</th>\n",
       "      <th>RWWIHOTSURV0</th>\n",
       "      <th>RWWIHOTSUMV0</th>\n",
       "      <th>RWWIHO_VERV0</th>\n",
       "      <th>RWWIHO_UESV0</th>\n",
       "      <th>RWWIHOSUMAV0</th>\n",
       "      <th>year</th>\n",
       "      <th>AEWIHO_T9AV2</th>\n",
       "    </tr>\n",
       "  </thead>\n",
       "  <tbody>\n",
       "    <tr>\n",
       "      <th>999</th>\n",
       "      <td>2019-08-14 14:31:00</td>\n",
       "      <td>73.241061</td>\n",
       "      <td>23.796397</td>\n",
       "      <td>95.937082</td>\n",
       "      <td>23.735700</td>\n",
       "      <td>83.679204</td>\n",
       "      <td>95.668104</td>\n",
       "      <td>95.200624</td>\n",
       "      <td>12.774177</td>\n",
       "      <td>61.149982</td>\n",
       "      <td>...</td>\n",
       "      <td>44.770156</td>\n",
       "      <td>42.155184</td>\n",
       "      <td>73.763059</td>\n",
       "      <td>69.600416</td>\n",
       "      <td>56.461998</td>\n",
       "      <td>58.940248</td>\n",
       "      <td>0.785380</td>\n",
       "      <td>15.683403</td>\n",
       "      <td>2019</td>\n",
       "      <td>74.784887</td>\n",
       "    </tr>\n",
       "    <tr>\n",
       "      <th>998</th>\n",
       "      <td>2019-08-14 14:32:00</td>\n",
       "      <td>73.702422</td>\n",
       "      <td>26.682323</td>\n",
       "      <td>96.097629</td>\n",
       "      <td>25.181413</td>\n",
       "      <td>84.140565</td>\n",
       "      <td>95.668104</td>\n",
       "      <td>94.979890</td>\n",
       "      <td>14.327497</td>\n",
       "      <td>60.685406</td>\n",
       "      <td>...</td>\n",
       "      <td>44.697605</td>\n",
       "      <td>45.726155</td>\n",
       "      <td>73.763059</td>\n",
       "      <td>71.301494</td>\n",
       "      <td>58.414486</td>\n",
       "      <td>58.960012</td>\n",
       "      <td>0.767154</td>\n",
       "      <td>15.390826</td>\n",
       "      <td>2019</td>\n",
       "      <td>80.304449</td>\n",
       "    </tr>\n",
       "  </tbody>\n",
       "</table>\n",
       "<p>2 rows × 4241 columns</p>\n",
       "</div>"
      ],
      "text/plain": [
       "               dateTime  AEAGHOAWE2T1  AEAGHOAWE2A0  AEAGHOAWE2T0  \\\n",
       "999 2019-08-14 14:31:00     73.241061     23.796397     95.937082   \n",
       "998 2019-08-14 14:32:00     73.702422     26.682323     96.097629   \n",
       "\n",
       "     AEAGHOAWE1A0  AEAGHOAWE1T1  AEAGHOAWE1T0  AEAGHOAWE3T0  AEAGHOAWE3A0  \\\n",
       "999     23.735700     83.679204     95.668104     95.200624     12.774177   \n",
       "998     25.181413     84.140565     95.668104     94.979890     14.327497   \n",
       "\n",
       "     AEAGHOAWE3T1  ...  RWWIHOT8_RV0  RWWIHOT9_RV0  RWWIHOT10RV0  \\\n",
       "999     61.149982  ...     44.770156     42.155184     73.763059   \n",
       "998     60.685406  ...     44.697605     45.726155     73.763059   \n",
       "\n",
       "     RWWIHOTSURV0  RWWIHOTSUMV0  RWWIHO_VERV0  RWWIHO_UESV0  RWWIHOSUMAV0  \\\n",
       "999     69.600416     56.461998     58.940248      0.785380     15.683403   \n",
       "998     71.301494     58.414486     58.960012      0.767154     15.390826   \n",
       "\n",
       "     year  AEWIHO_T9AV2  \n",
       "999  2019     74.784887  \n",
       "998  2019     80.304449  \n",
       "\n",
       "[2 rows x 4241 columns]"
      ]
     },
     "execution_count": 27,
     "metadata": {},
     "output_type": "execute_result"
    }
   ],
   "source": [
    "rearranged_dataframe.head(2)"
   ]
  },
  {
   "cell_type": "code",
   "execution_count": 28,
   "metadata": {
    "scrolled": true
   },
   "outputs": [
    {
     "name": "stdout",
     "output_type": "stream",
     "text": [
      "<class 'pandas.core.frame.DataFrame'> (1000, 4241)\n",
      "<class 'pandas.core.frame.DataFrame'> (1000, 4241)\n"
     ]
    }
   ],
   "source": [
    "print(type(multivariate_data), multivariate_data.shape)\n",
    "print(type(rearranged_dataframe), rearranged_dataframe.shape)"
   ]
  },
  {
   "cell_type": "code",
   "execution_count": 29,
   "metadata": {},
   "outputs": [],
   "source": [
    "def check_A_B_blast_furnace_1(dataframe,furnace_signal_column_a,value_A, furnace_signal_column_b,value_B):\n",
    "    req_data=dataframe.loc[(dataframe[furnace_signal_column_a]>=value_A) | (dataframe[furnace_signal_column_b]>=value_B)]\n",
    "    req_frame=pd.DataFrame(req_data,columns=dataframe.columns)\n",
    "    \n",
    "    return req_frame\n",
    "\n",
    "dataframe_no_zero_value_blast_furnace = check_A_B_blast_furnace_1(rearranged_dataframe, furnace_signal_column_a, value_A,\n",
    "                                                               furnace_signal_column_b, value_B)"
   ]
  },
  {
   "cell_type": "code",
   "execution_count": null,
   "metadata": {},
   "outputs": [],
   "source": [
    "# no_zero_furnace_1 = check_A_B_blast_furnace(rearranged_dataframe, furnace_signal_column_a, value_A,\n",
    "#                                                                furnace_signal_column_b, value_B)"
   ]
  },
  {
   "cell_type": "code",
   "execution_count": null,
   "metadata": {},
   "outputs": [],
   "source": [
    "# no_zero_furnace_1.dtypes"
   ]
  },
  {
   "cell_type": "code",
   "execution_count": null,
   "metadata": {},
   "outputs": [],
   "source": [
    "# print(no_zero_furnace.shape)\n",
    "# print(type(no_zero_furnace))\n",
    "\n",
    "# print(no_zero_furnace_1.shape)\n",
    "# print(type(no_zero_furnace_1))\n",
    "\n",
    "\n",
    "# rearranged_dataframe.head()"
   ]
  },
  {
   "cell_type": "code",
   "execution_count": null,
   "metadata": {},
   "outputs": [],
   "source": [
    "# new_frame = pd.concat([first_col, sec_col], axis=1)"
   ]
  },
  {
   "cell_type": "code",
   "execution_count": null,
   "metadata": {},
   "outputs": [],
   "source": [
    "# for i in rearranged_dataframe:\n",
    "#     if rearranged_dataframe[i].dtypes == 'object':\n",
    "# #         rearranged_dataframe.loc[:,i].apply(pd.to_numeric)\n",
    "        \n",
    "#         print(i)"
   ]
  },
  {
   "cell_type": "code",
   "execution_count": null,
   "metadata": {
    "scrolled": true
   },
   "outputs": [],
   "source": [
    "# for i in rearranged_dataframe:\n",
    "#     if rearranged_dataframe[i].dtypes == '<M8[ns]' or rearranged_dataframe[i].dtypes == 'object':\n",
    "# #         rearranged_dataframe.loc[:,i].apply(pd.to_numeric)\n",
    "        \n",
    "#         print(i)\n",
    "    "
   ]
  },
  {
   "cell_type": "code",
   "execution_count": null,
   "metadata": {
    "scrolled": true
   },
   "outputs": [],
   "source": [
    "# increase_1=0\n",
    "# count_array_2 = []\n",
    "# for i,v in enumerate(rearranged_dataframe[furnace_signal_column_a]):\n",
    "    \n",
    "#     if v < 98 and rearranged_dataframe.iloc[i][furnace_signal_column_b] <100:\n",
    "        \n",
    "# #         print(\"i: \",i,\" ,blast A: \",v,\" ,blast B: \",rearranged_dataframe.iloc[i][furnace_signal_column_b])\n",
    "#         count_array_2 = np.append(count_array_2, i)\n",
    "#         increase_1+=1"
   ]
  },
  {
   "cell_type": "code",
   "execution_count": null,
   "metadata": {},
   "outputs": [],
   "source": [
    "def no_zero_value_in_target_1(dataframe, target_column, req_drop_value_target):\n",
    "#     req_data_1=dataframe.loc[(dataframe[target_column]!=req_drop_value_target)]\n",
    "    req_data_1 = dataframe.loc[(dataframe[target_column]>=60)]\n",
    "    req_frame_1=pd.DataFrame(req_data_1,columns=dataframe.columns)\n",
    "    \n",
    "    return req_frame_1\n",
    "\n",
    "dataframe_no_zero_value_target_column = no_zero_value_in_target_1(dataframe_no_zero_value_blast_furnace,target_column, req_drop_value_target)"
   ]
  },
  {
   "cell_type": "code",
   "execution_count": null,
   "metadata": {},
   "outputs": [],
   "source": [
    "dataframe_no_zero_value_target_column.shape"
   ]
  },
  {
   "cell_type": "code",
   "execution_count": null,
   "metadata": {
    "scrolled": false
   },
   "outputs": [],
   "source": [
    "# plt.plot(dataframe_no_zero_value_blast_furnace[target_column], color = 'blue')\n",
    "# plt.plot(dataframe_no_zero_value_blast_furnace[furnace_signal_column_a], color = 'red')\n",
    "# plt.plot(dataframe_no_zero_value_blast_furnace[furnace_signal_column_b], color = 'green')\n",
    "# # plt.legend([target_column, furnace_signal_column_a, furnace_signal_column_b], loc='upper left')\n",
    "# # plt.xlim(0,initial_dataframe.shape[0]+10)\n",
    "# # plt.xticks(np.arange(0,initial_dataframe.shape[0],))\n",
    "# plt.rcParams['figure.figsize'] = (10, 5)"
   ]
  },
  {
   "cell_type": "code",
   "execution_count": null,
   "metadata": {},
   "outputs": [],
   "source": [
    "dataframe_no_zero_value_target_column.dtypes"
   ]
  },
  {
   "cell_type": "code",
   "execution_count": null,
   "metadata": {
    "scrolled": true
   },
   "outputs": [],
   "source": [
    "print(rearranged_dataframe.shape)\n",
    "print(dataframe_no_zero_value_blast_furnace.shape)\n",
    "print(dataframe_no_zero_value_target_column.shape)"
   ]
  },
  {
   "cell_type": "code",
   "execution_count": null,
   "metadata": {},
   "outputs": [],
   "source": [
    "dataframe_no_zero_value_target_column.tail(2)"
   ]
  },
  {
   "cell_type": "code",
   "execution_count": null,
   "metadata": {},
   "outputs": [],
   "source": [
    "dataframe_no_zero_value_target_column_1 = dataframe_no_zero_value_target_column.reset_index()\n",
    "dataframe_no_zero_value_target_column_2 = dataframe_no_zero_value_target_column_1.drop(['index'], axis=1)\n",
    "print(dataframe_no_zero_value_target_column_2.shape)\n",
    "dataframe_no_zero_value_target_column_2.head(2)"
   ]
  },
  {
   "cell_type": "code",
   "execution_count": null,
   "metadata": {
    "scrolled": false
   },
   "outputs": [],
   "source": [
    "plt.plot(dataframe_no_zero_value_target_column_2[target_column], color = 'blue')\n",
    "plt.plot(dataframe_no_zero_value_target_column_2[furnace_signal_column_a], color = 'red')\n",
    "plt.plot(dataframe_no_zero_value_target_column_2[furnace_signal_column_b], color = 'green')\n",
    "# plt.legend([target_column, furnace_signal_column_a, furnace_signal_column_b], loc='upper left')\n",
    "# plt.xlim(0,initial_dataframe.shape[0]+10)\n",
    "# plt.xticks(np.arange(0,initial_dataframe.shape[0],))\n",
    "plt.rcParams['figure.figsize'] = (8, 5)"
   ]
  },
  {
   "cell_type": "code",
   "execution_count": null,
   "metadata": {},
   "outputs": [],
   "source": [
    "# dataframe_no_zero_value_target_column = no_zero_value_in_target(dataframe_no_zero_value_blast_furnace,target_column, req_drop_value_target)"
   ]
  },
  {
   "cell_type": "code",
   "execution_count": null,
   "metadata": {},
   "outputs": [],
   "source": [
    "# qq = dataframe_no_zero_value_target_column.apply(pd.to_numeric)"
   ]
  },
  {
   "cell_type": "code",
   "execution_count": null,
   "metadata": {},
   "outputs": [],
   "source": [
    "# qq['dateTime'].dtypes"
   ]
  },
  {
   "cell_type": "code",
   "execution_count": null,
   "metadata": {},
   "outputs": [],
   "source": [
    "# drop_object = dataframe_no_zero_value_target_column.select_dtypes(exclude=['object'])"
   ]
  },
  {
   "cell_type": "code",
   "execution_count": null,
   "metadata": {},
   "outputs": [],
   "source": [
    "# Drop the column which has sam evalue in every ROW\n",
    "# dataframe_drop_column_with_same_value = drop_column_with_same_value(dataframe_no_zero_value_target_column)"
   ]
  },
  {
   "cell_type": "code",
   "execution_count": null,
   "metadata": {},
   "outputs": [],
   "source": [
    "\n",
    "# Drop the ROW which has NAN value\n",
    "multivariate_data_drop_nan = drop_nan_value(dataframe_no_zero_value_target_column_2)"
   ]
  },
  {
   "cell_type": "code",
   "execution_count": null,
   "metadata": {},
   "outputs": [],
   "source": [
    "initial_dataframe = None\n",
    "date_df = None\n",
    "specific_month_df = None\n",
    "spec_month = None\n",
    "rearranged_dataframe = None\n",
    "multivariate_data = None\n",
    "dataframe_no_zero_value_blast_furnace = None\n",
    "dataframe_no_zero_value_target_column = None"
   ]
  },
  {
   "cell_type": "code",
   "execution_count": null,
   "metadata": {},
   "outputs": [],
   "source": [
    "nunique = multivariate_data_drop_nan.apply(pd.Series.nunique)\n",
    "cols_to_drop = nunique[nunique == 1].index\n",
    "dataframe_drop_column_with_same_value = multivariate_data_drop_nan.drop(cols_to_drop, axis=1)"
   ]
  },
  {
   "cell_type": "code",
   "execution_count": null,
   "metadata": {},
   "outputs": [],
   "source": [
    "# dataframe_drop_column_with_same_value = drop_column_with_same_value(multivariate_data_drop_nan)"
   ]
  },
  {
   "cell_type": "code",
   "execution_count": null,
   "metadata": {},
   "outputs": [],
   "source": [
    "print(type(dataframe_drop_column_with_same_value))\n",
    "print(dataframe_drop_column_with_same_value.shape)\n",
    "dataframe_drop_column_with_same_value.tail(1)"
   ]
  },
  {
   "cell_type": "code",
   "execution_count": null,
   "metadata": {},
   "outputs": [],
   "source": [
    "dataframe_drop_column_with_same_value.dtypes"
   ]
  },
  {
   "cell_type": "code",
   "execution_count": null,
   "metadata": {},
   "outputs": [],
   "source": [
    "# Drop the row who has consecutive same value\n",
    "# dataframe_drop_row_consecutive_same_value = drop_row(multivariate_data_drop_nan)"
   ]
  },
  {
   "cell_type": "code",
   "execution_count": null,
   "metadata": {},
   "outputs": [],
   "source": [
    "# dataframe_drop_row_consecutive_same_value= multivariate_data_drop_nan"
   ]
  },
  {
   "cell_type": "code",
   "execution_count": null,
   "metadata": {},
   "outputs": [],
   "source": [
    "# Drop the column who has 'objet' type value\n",
    "dataframe_no_string = drop_string_column(dataframe_drop_column_with_same_value)"
   ]
  },
  {
   "cell_type": "code",
   "execution_count": null,
   "metadata": {
    "scrolled": true
   },
   "outputs": [],
   "source": [
    "dataframe_no_string.dtypes"
   ]
  },
  {
   "cell_type": "code",
   "execution_count": null,
   "metadata": {},
   "outputs": [],
   "source": [
    "# def remove_rw_column_1(dataframe,req_string):\n",
    "#     print(req_string)\n",
    "#     new_variable = []\n",
    "#     for i in dataframe:\n",
    "#         x = i[:2]\n",
    "#         if x != req_string:\n",
    "#             new_variable = np.append(new_variable, i)\n",
    "    \n",
    "#     dataframe = dataframe.iloc[:][new_variable]\n",
    "#     return dataframe"
   ]
  },
  {
   "cell_type": "code",
   "execution_count": null,
   "metadata": {},
   "outputs": [],
   "source": []
  },
  {
   "cell_type": "code",
   "execution_count": null,
   "metadata": {},
   "outputs": [],
   "source": [
    "# no_DE = remove_rw_column_1(dataframe_no_string,'DE')"
   ]
  },
  {
   "cell_type": "code",
   "execution_count": null,
   "metadata": {},
   "outputs": [],
   "source": [
    "# no_CW = remove_rw_column_1(no_DE,'CW')"
   ]
  },
  {
   "cell_type": "code",
   "execution_count": null,
   "metadata": {},
   "outputs": [],
   "source": [
    "# dataframe_drop_row_consecutive_same_value = drop_row(dataframe_no_string)"
   ]
  },
  {
   "cell_type": "code",
   "execution_count": null,
   "metadata": {
    "scrolled": false
   },
   "outputs": [],
   "source": [
    "print(dataframe_no_string.shape)\n",
    "# print(no_DE.shape)\n",
    "# print(no_CW.shape)\n",
    "# print(dataframe_drop_row_consecutive_same_value.shape)"
   ]
  },
  {
   "cell_type": "code",
   "execution_count": null,
   "metadata": {
    "scrolled": true
   },
   "outputs": [],
   "source": [
    "plt.plot(dataframe_no_string[target_column], color = 'blue')\n",
    "# plt.plot(dataframe_no_zero_value_target_column[furnace_signal_column_a], color = 'red')\n",
    "# plt.plot(dataframe_no_zero_value_target_column[furnace_signal_column_b], color = 'green')\n",
    "# plt.legend([target_column, furnace_signal_column_a, furnace_signal_column_b], loc='upper left')\n",
    "# plt.xlim(0,initial_dataframe.shape[0]+10)\n",
    "# plt.xticks(np.arange(0,initial_dataframe.shape[0],))\n",
    "plt.rcParams['figure.figsize'] = (8, 5)"
   ]
  },
  {
   "cell_type": "markdown",
   "metadata": {},
   "source": [
    "# drop column who has always same value"
   ]
  },
  {
   "cell_type": "code",
   "execution_count": null,
   "metadata": {},
   "outputs": [],
   "source": [
    "# new_frame = multivariate_data_drop_nan.drop(multivariate_data_drop_nan.std()[(multivariate_data_drop_nan.std() == 0)].index, axis=1)"
   ]
  },
  {
   "cell_type": "code",
   "execution_count": null,
   "metadata": {},
   "outputs": [],
   "source": [
    "# cols = multivariate_data_drop_nan.select_dtypes([np.number]).columns\n",
    "# diff = multivariate_data_drop_nan[cols].diff().sum()\n",
    "# no_same_value_column = multivariate_data_drop_nan.drop(diff[diff == 0].index, axis=1)"
   ]
  },
  {
   "cell_type": "code",
   "execution_count": null,
   "metadata": {
    "scrolled": true
   },
   "outputs": [],
   "source": [
    "# print(dataframe_drop_column_with_same_value.shape)\n",
    "# print(multivariate_data_drop_nan.shape)\n",
    "# print(dataframe_drop_row_consecutive_same_value.shape)\n",
    "# print(dataframe_no_string.shape)\n",
    "# print(new_frame.shape)"
   ]
  },
  {
   "cell_type": "code",
   "execution_count": null,
   "metadata": {},
   "outputs": [],
   "source": [
    "# Make dataframe with dateTime index\n",
    "def dataframe_datetime(dataframe):\n",
    "    dataframe_datetime = dataframe.set_index('dateTime')\n",
    "    return dataframe_datetime\n",
    "\n",
    "dataframe_datetime = dataframe_datetime(dataframe_no_string)"
   ]
  },
  {
   "cell_type": "code",
   "execution_count": null,
   "metadata": {},
   "outputs": [],
   "source": [
    "# dataframe_datetime = dataframe_datetime.drop(['longTime'], axis = 1)"
   ]
  },
  {
   "cell_type": "code",
   "execution_count": null,
   "metadata": {},
   "outputs": [],
   "source": [
    "dataframe_datetime.shape"
   ]
  },
  {
   "cell_type": "code",
   "execution_count": null,
   "metadata": {},
   "outputs": [],
   "source": [
    "# Feature selection with Sklearn feature best technique\n",
    "sklearn_feature_best_dataframe = feature_selection_with_selectKbest(dataframe_datetime,max_best_number)"
   ]
  },
  {
   "cell_type": "code",
   "execution_count": null,
   "metadata": {},
   "outputs": [],
   "source": [
    "dataframe_drop_column_with_same_value = None"
   ]
  },
  {
   "cell_type": "code",
   "execution_count": null,
   "metadata": {},
   "outputs": [],
   "source": [
    "# feature selection with Pearson Correlation.\n",
    "\n",
    "sklearn_correlation, main_correlation = pearson_correlation(sklearn_feature_best_dataframe, dataframe_datetime)"
   ]
  },
  {
   "cell_type": "code",
   "execution_count": null,
   "metadata": {},
   "outputs": [],
   "source": [
    "correlation_csv = main_correlation.to_csv('high_correlation_feb_march_april_may.csv')"
   ]
  },
  {
   "cell_type": "code",
   "execution_count": null,
   "metadata": {},
   "outputs": [],
   "source": [
    "dataframe_datetime.to_csv('dataframe_datetime_feb_march_april_may.csv')"
   ]
  },
  {
   "cell_type": "code",
   "execution_count": null,
   "metadata": {},
   "outputs": [],
   "source": [
    "# make a dataframe with signal who is lies between a given range of correlation threshold value\n",
    "main_frame = dataframe_datetime\n",
    "correlated_frame = main_correlation\n",
    "\n",
    "# main_frame = sklearn_feature_best_dataframe\n",
    "# correlated_frame = sklearn_correlation\n",
    "\n",
    "dataframe_high_correlation = make_dataframe_with_high_correlated_value(main_frame,correlated_frame,\n",
    "                                                             correlation_threshold_min_value, correlation_threshold_max_value)"
   ]
  },
  {
   "cell_type": "code",
   "execution_count": null,
   "metadata": {
    "scrolled": true
   },
   "outputs": [],
   "source": [
    "print(dataframe_high_correlation.shape)\n",
    "dataframe_high_correlation.describe()"
   ]
  },
  {
   "cell_type": "code",
   "execution_count": null,
   "metadata": {},
   "outputs": [],
   "source": [
    "# multivariate_column_label = ['AEDATZ_HONP0','AEDATZK_ASP0','AEDATZ_HO_V0','AEDAHO_T9_V2','AEWIHO_T9AV2'] #rmse error 1.94\n"
   ]
  },
  {
   "cell_type": "code",
   "execution_count": null,
   "metadata": {
    "scrolled": true
   },
   "outputs": [],
   "source": [
    "# for i in dataframe_high_correlation:\n",
    "#     plt.plot(dataframe_high_correlation[i])\n",
    "#     plt.title(str(i))\n",
    "#     plt.show()\n",
    "    \n",
    "    \n",
    "#     # plt.plot(dataframe_high_correlation['AEWIHOBKF_V0'])"
   ]
  },
  {
   "cell_type": "code",
   "execution_count": null,
   "metadata": {},
   "outputs": [],
   "source": [
    "# dataframe_high_correlation_1 = dataframe_high_correlation.drop(['AEWIHOBKF_V0'], axis=1)\n",
    "# print(dataframe_high_correlation_1.shape)\n",
    "# plt.plot(dataframe_datetime['DEDAHGGHSZG1'], color = 'blue')"
   ]
  },
  {
   "cell_type": "code",
   "execution_count": null,
   "metadata": {},
   "outputs": [],
   "source": [
    "current_directory = os.getcwd()\n",
    "print('current_directory is: ',current_directory)\n",
    "address = 'image_folder'\n",
    "final_directory = current_directory+'/'+str(address)\n",
    "if not os.path.exists(final_directory):\n",
    "    os.makedirs(final_directory)\n",
    "    print('created : ', final_directory)\n",
    "else:\n",
    "    print(final_directory,' has already created')\n",
    "    pass"
   ]
  },
  {
   "cell_type": "code",
   "execution_count": null,
   "metadata": {},
   "outputs": [],
   "source": [
    "from datetime import date\n",
    "today = date.today()\n",
    "print(\"Today's date:\", today)"
   ]
  },
  {
   "cell_type": "code",
   "execution_count": null,
   "metadata": {},
   "outputs": [],
   "source": [
    "dataframe_high_correlation.shape"
   ]
  },
  {
   "cell_type": "code",
   "execution_count": null,
   "metadata": {
    "scrolled": true
   },
   "outputs": [],
   "source": [
    "print(len(dataframe_high_correlation.columns))\n",
    "subfolder_1 = 'feature_vs_target'+'_'+str(today)\n",
    "draw_feature_vs_target = draw_feature_vs_target(dataframe_high_correlation,final_directory,subfolder_1)"
   ]
  },
  {
   "cell_type": "code",
   "execution_count": null,
   "metadata": {},
   "outputs": [],
   "source": [
    "def make_dataset(dataframe, percentage):\n",
    "    dataset = np.array(dataframe)\n",
    "    NumberOfElements = int(len(dataset) * percentage)\n",
    "    print('Number of Elements for training: ', NumberOfElements)\n",
    "    print('dataset length: ', len(dataset))\n",
    "\n",
    "    train_input = dataset[0:NumberOfElements, 0:-1]\n",
    "    print('train_input shape: ', train_input.shape)\n",
    "    train_output = dataset[0:NumberOfElements, -1]\n",
    "    print('train_output shape: ', train_output.shape)\n",
    "\n",
    "    test_input = dataset[NumberOfElements:len(dataset), 0:-1]\n",
    "    print('test_input shape: ', test_input.shape)\n",
    "    test_output = dataset[NumberOfElements:len(dataset), -1]\n",
    "    print('test_output shape: ', test_output.shape)\n",
    "\n",
    "    return train_input, train_output, test_input, test_output"
   ]
  },
  {
   "cell_type": "code",
   "execution_count": null,
   "metadata": {},
   "outputs": [],
   "source": [
    "train_input, train_output, test_input, test_output = make_dataset(dataframe_high_correlation,0.99)\n",
    "\n",
    "#s_array = dataframe_high_correlation.values\n",
    "model_list = [LinearRegression(),linear_model.Lasso(alpha=0.1),linear_model.Ridge(alpha=.5),\n",
    "              linear_model.BayesianRidge(), tree.DecisionTreeRegressor(max_depth=2),ExtraTreesRegressor(),\n",
    "              BaggingRegressor(ExtraTreesRegressor()),GBR()]\n",
    "name = ['LinearRegression','Lasso','Ridge','BayesianRidge','tree','ExtraTreesRegressor','BaggingRegressor','GBR']"
   ]
  },
  {
   "cell_type": "code",
   "execution_count": null,
   "metadata": {
    "scrolled": true
   },
   "outputs": [],
   "source": [
    "evaluation_metrics_file_path = final_directory+'/'+evaluation_metrics_file_name\n",
    "if not os.path.isfile(evaluation_metrics_file_path):\n",
    "    f = open(evaluation_metrics_file_path,'a')\n",
    "    f.close()\n",
    "    print('metrics file now created')\n",
    "else:\n",
    "    os.remove(evaluation_metrics_file_path)\n",
    "    f = open(evaluation_metrics_file_path,'a')\n",
    "    f.close()\n",
    "    print('metrics file removed and created')"
   ]
  },
  {
   "cell_type": "code",
   "execution_count": null,
   "metadata": {
    "scrolled": true
   },
   "outputs": [],
   "source": [
    "model = scikit_learn_model(model_list, name, train_input, train_output, test_input, test_output, final_directory, evaluation_metrics_file_path)"
   ]
  },
  {
   "cell_type": "code",
   "execution_count": null,
   "metadata": {
    "scrolled": false
   },
   "outputs": [],
   "source": [
    "# rowData = dataframe_datetime.loc[ '2019-08-16 11:20:00' :, : ]\n",
    "# print(type(rowData))\n",
    "# print(rowData.shape)\n",
    "# rowData.head(3)\n",
    "\n",
    "dataframe_high_correlation.tail()"
   ]
  },
  {
   "cell_type": "code",
   "execution_count": null,
   "metadata": {
    "scrolled": true
   },
   "outputs": [],
   "source": [
    "df = dataframe_date_time_type(dataframe_high_correlation)\n",
    "# df = dataframe_date_time_type(temp_frame_1)\n",
    "\n",
    "dict_of_dates = {k: v for k, v in df.groupby('Date')}\n",
    "dict_of_day_type = {k:v for k,v in df.groupby('TypeofDAY')}\n",
    "dict_of_day_name = {k:v for k,v in df.groupby('day_name')}\n",
    "\n",
    "\n",
    "date_key_value = collections.OrderedDict(dict_of_dates)\n",
    "day_type_key_value = collections.OrderedDict(dict_of_day_type)\n",
    "day_name_key_value = collections.OrderedDict(dict_of_day_name)\n",
    "\n",
    "draw_graph_date = draw_graph(date_key_value,dict_of_dates, target_column,final_directory, subfolder_name = '3_date_fig_target')\n",
    "draw_graph_week = draw_graph(day_type_key_value,dict_of_day_type, target_column,final_directory, subfolder_name = '3_week_fig_target')\n",
    "draw_graph_day = draw_graph(day_name_key_value,dict_of_day_name, target_column,final_directory, subfolder_name = '3_day_fig_target')"
   ]
  },
  {
   "cell_type": "code",
   "execution_count": null,
   "metadata": {},
   "outputs": [],
   "source": []
  },
  {
   "cell_type": "code",
   "execution_count": null,
   "metadata": {},
   "outputs": [],
   "source": [
    "import sklearn"
   ]
  },
  {
   "cell_type": "code",
   "execution_count": null,
   "metadata": {},
   "outputs": [],
   "source": [
    "my_model = sklearn.tree.ExtraTreeRegressor()\n",
    "my_model.fit(train_input, train_output)"
   ]
  },
  {
   "cell_type": "code",
   "execution_count": null,
   "metadata": {},
   "outputs": [],
   "source": [
    "my_pred = my_model.predict(test_input)"
   ]
  },
  {
   "cell_type": "code",
   "execution_count": null,
   "metadata": {},
   "outputs": [],
   "source": [
    "plt.plot((min(test_output), max(test_output)), (min(my_pred), max(my_pred)), color='red')\n",
    "plt.scatter(test_output, my_pred, color='blue')"
   ]
  },
  {
   "cell_type": "code",
   "execution_count": null,
   "metadata": {},
   "outputs": [],
   "source": [
    "from sklearn import linear_model\n",
    "from sklearn.metrics import mean_squared_error, r2_score, mean_absolute_error\n",
    "import math\n",
    "print('r_2 statistic: %.2f' % r2_score(test_output,my_pred))\n",
    "print(\"Mean_absolute_error: %.2f\" % mean_absolute_error(test_output,my_pred))\n",
    "print(\"Mean squared error: %.2f\" % mean_squared_error(test_output,my_pred))\n",
    "RMSE=math.sqrt(mean_squared_error(test_output,my_pred))\n",
    "print('RMSE: ',RMSE)"
   ]
  },
  {
   "cell_type": "markdown",
   "metadata": {},
   "source": [
    "# Neural Network"
   ]
  },
  {
   "cell_type": "code",
   "execution_count": null,
   "metadata": {
    "scrolled": true
   },
   "outputs": [],
   "source": [
    "from keras.models import Sequential\n",
    "from keras.layers import Dense, Activation, Flatten\n",
    "from sklearn.metrics import mean_absolute_error\n",
    "from keras.callbacks import LearningRateScheduler, ModelCheckpoint"
   ]
  },
  {
   "cell_type": "code",
   "execution_count": null,
   "metadata": {},
   "outputs": [],
   "source": [
    "lr = 0.01\n",
    "\n",
    "def lr_schedule(epoch):\n",
    "    return lr * (0.1 ** int(epoch / 10))\n",
    "\n",
    "batch_size=32\n",
    "epochs= 30\n",
    "\n",
    "# define model\n",
    "def NN_model():\n",
    "    NN_model = Sequential()\n",
    "    NN_model.add(Dense(128, kernel_initializer='normal',input_dim = train_input.shape[1], activation='relu'))\n",
    "    NN_model.add(Dense(256, kernel_initializer='normal',activation='relu'))\n",
    "    NN_model.add(Dense(256, kernel_initializer='normal',activation='relu'))\n",
    "    NN_model.add(Dense(256, kernel_initializer='normal',activation='relu'))\n",
    "#     NN_model.add(Dense(1, kernel_initializer='normal',activation='relu'))\n",
    "    NN_model.add(Dense(1))\n",
    "    return NN_model\n",
    "NN_model=NN_model()\n",
    "NN_model.compile(loss='mean_absolute_error', optimizer='adam', metrics=['mean_absolute_error','accuracy'])\n",
    "NN_model.summary()"
   ]
  },
  {
   "cell_type": "code",
   "execution_count": null,
   "metadata": {
    "scrolled": true
   },
   "outputs": [],
   "source": [
    "NN_model.fit(train_input, train_output, epochs=epochs, batch_size=batch_size)"
   ]
  },
  {
   "cell_type": "code",
   "execution_count": null,
   "metadata": {},
   "outputs": [],
   "source": [
    "predicted_output_NN = NN_model.predict(test_input)"
   ]
  },
  {
   "cell_type": "code",
   "execution_count": null,
   "metadata": {},
   "outputs": [],
   "source": [
    "from sklearn import linear_model\n",
    "from sklearn.metrics import mean_squared_error, r2_score, mean_absolute_error\n",
    "import math\n",
    "print('r_2 statistic: %.2f' % r2_score(test_output,predicted_output_NN))\n",
    "print(\"Mean_absolute_error: %.2f\" % mean_absolute_error(test_output,predicted_output_NN))\n",
    "print(\"Mean squared error: %.2f\" % mean_squared_error(test_output,predicted_output_NN))\n",
    "RMSE=math.sqrt(mean_squared_error(test_output,predicted_output_NN))\n",
    "print('RMSE: ',RMSE)"
   ]
  },
  {
   "cell_type": "code",
   "execution_count": null,
   "metadata": {},
   "outputs": [],
   "source": [
    "test_output_NN = np.reshape(test_output,(-1,1))\n",
    "test_output_NN.shape"
   ]
  },
  {
   "cell_type": "code",
   "execution_count": null,
   "metadata": {
    "scrolled": true
   },
   "outputs": [],
   "source": [
    "plot_graph(test_output_NN, predicted_output_NN, final_directory,'Neural_Network')"
   ]
  },
  {
   "cell_type": "code",
   "execution_count": null,
   "metadata": {},
   "outputs": [],
   "source": [
    "evaluation_metrices(test_output_NN,predicted_output_NN,final_directory,'Neural Netowrk', evaluation_metrics_file_path)"
   ]
  },
  {
   "cell_type": "code",
   "execution_count": null,
   "metadata": {},
   "outputs": [],
   "source": []
  },
  {
   "cell_type": "code",
   "execution_count": null,
   "metadata": {},
   "outputs": [],
   "source": []
  },
  {
   "cell_type": "code",
   "execution_count": null,
   "metadata": {},
   "outputs": [],
   "source": []
  },
  {
   "cell_type": "markdown",
   "metadata": {},
   "source": [
    "# LSTM"
   ]
  },
  {
   "cell_type": "code",
   "execution_count": null,
   "metadata": {},
   "outputs": [],
   "source": [
    "from numpy import array\n",
    "from keras.models import Sequential\n",
    "from keras.layers import LSTM\n",
    "from keras.layers import Dense, Dropout\n",
    "from keras.layers import Flatten\n",
    "from keras.layers import ConvLSTM2D\n",
    "from keras.callbacks import LearningRateScheduler, ModelCheckpoint\n",
    "from keras import callbacks"
   ]
  },
  {
   "cell_type": "code",
   "execution_count": null,
   "metadata": {},
   "outputs": [],
   "source": [
    "def make_dataset(PandaDataframe):\n",
    "    dataset = np.array(PandaDataframe)\n",
    "\n",
    "    NumberOfElements = int(len(dataset)*0.99)\n",
    "    print('dataset length: ',len(dataset))\n",
    "    print('Number of Elements for training: ',NumberOfElements)\n",
    "\n",
    "    multiple_ip_train_data = dataset[0:NumberOfElements]\n",
    "    multiple_ip_test_set = dataset[NumberOfElements:len(dataset)]\n",
    "    \n",
    "    return multiple_ip_train_data, multiple_ip_test_set\n",
    "\n",
    "multiple_ip_train_data, multiple_ip_test_set = make_dataset(dataframe_high_correlation)\n",
    "\n",
    "print('train_data_conv shape: ', multiple_ip_train_data.shape)\n",
    "print('test_data_conv shape: ', multiple_ip_test_set.shape)"
   ]
  },
  {
   "cell_type": "code",
   "execution_count": null,
   "metadata": {},
   "outputs": [],
   "source": [
    " # split a multivariate sequence into samples\n",
    "def split_sequence(sequence, n_steps):\n",
    "    X, y = list(), list()\n",
    "    for i in range(len(sequence)):\n",
    "        # find the end of this pattern\n",
    "        end_ix = i + n_steps\n",
    "        # check if we are beyond the sequence\n",
    "        if end_ix > len(sequence)-1:\n",
    "            break\n",
    "        # gather input and output parts of the pattern\n",
    "        seq_x, seq_y = sequence[i:end_ix,:-1], sequence[end_ix,-1]\n",
    "        X.append(seq_x)\n",
    "        y.append(seq_y)\n",
    "    return array(X), array(y)\n",
    " \n",
    "# define input sequence\n",
    "# raw_seq = [10, 20, 30, 40, 50, 60, 70, 80, 90]\n",
    "# choose a number of time steps\n",
    "n_steps_1 = 2\n",
    "# split into samples\n",
    "X_Conv_Lstm, y_Conv_Lstm = split_sequence(multiple_ip_train_data, n_steps_1)\n",
    "\n",
    "print('X_Conv_Lstm shape: ',X_Conv_Lstm.shape,'\\tX_Conv_Lstm size: ',X_Conv_Lstm.size,'\\tX_Conv_Lstm dimension: ',X_Conv_Lstm.ndim)\n",
    "print('y_Conv_Lstm shape: ', y_Conv_Lstm.shape,' size: ',y_Conv_Lstm.size,' dim: ',y_Conv_Lstm.ndim)"
   ]
  },
  {
   "cell_type": "code",
   "execution_count": null,
   "metadata": {},
   "outputs": [],
   "source": [
    "# reshape from [samples, timesteps] into [samples, timesteps, rows, columns, features]\n",
    "\n",
    "samples = X_Conv_Lstm.shape[0]\n",
    "time = n_steps_1\n",
    "rows = 1\n",
    "n_features = X_Conv_Lstm.shape[-1]\n",
    "cols = n_features\n",
    "channels = 1\n",
    "\n",
    "# X_Conv_Lstm_train = X_Conv_Lstm.reshape((X_Conv_Lstm.shape[0], n_seq, n_rows, n_steps_2, n_features))\n",
    "X_Conv_Lstm_train = X_Conv_Lstm.reshape((samples, time, rows, cols, channels)) #last 2 is feature"
   ]
  },
  {
   "cell_type": "code",
   "execution_count": null,
   "metadata": {},
   "outputs": [],
   "source": [
    "print('X_Conv_Lstm shape: ',X_Conv_Lstm.shape,'\\tX_Conv_Lstm size: ',X_Conv_Lstm.size,'\\tX_Conv_Lstm dimension: ',X_Conv_Lstm.ndim)\n",
    "print('X_Conv_Lstm_train shape: ',X_Conv_Lstm_train.shape,'\\tX_Conv_Lstm_train size: ',X_Conv_Lstm_train.size,'\\tX_Conv_Lstm_train dimension: ',X_Conv_Lstm_train.ndim)"
   ]
  },
  {
   "cell_type": "code",
   "execution_count": null,
   "metadata": {},
   "outputs": [],
   "source": [
    "# define model\n",
    "\n",
    "# cbks = [callbacks.LearningRateScheduler(lambda x: 1. / (1. + x))]\n",
    "\n",
    "lr = 0.01\n",
    "\n",
    "def lr_schedule(epoch):\n",
    "#     print('epoch value: ', epoch)\n",
    "    lr_1 = lr * (0.1 ** int(epoch / 10))\n",
    "#     print('now lr_1: ', lr_1)\n",
    "    return lr_1\n",
    "\n",
    "batch_size=32\n",
    "epochs= 30\n",
    "activation_function = 'relu'"
   ]
  },
  {
   "cell_type": "code",
   "execution_count": null,
   "metadata": {},
   "outputs": [],
   "source": [
    "model = Sequential()\n",
    "# n_seq, 1, n_steps_2, n_features\n",
    "model.add(ConvLSTM2D(filters=64,data_format='channels_last', kernel_size=(1,2), activation=str(activation_function), input_shape=(time,rows,cols,channels),return_sequences=False))\n",
    "# model.add(ConvLSTM2D(filters=64,data_format='channels_last', kernel_size=(1,2), activation=str(activation_function)))\n",
    "model.add(Flatten())\n",
    "model.add(Dense(1))\n",
    "model.compile(optimizer='adam', loss='mse',metrics=['accuracy'])"
   ]
  },
  {
   "cell_type": "code",
   "execution_count": null,
   "metadata": {
    "scrolled": true
   },
   "outputs": [],
   "source": [
    "train_model=model.fit(X_Conv_Lstm_train, y_Conv_Lstm, batch_size=batch_size, epochs=epochs, verbose=1,\n",
    "                      shuffle=True, callbacks=[LearningRateScheduler(lr_schedule)])\n",
    "#                      ModelCheckpoint('E:/CONV_LSTM_30.h5', save_best_only=True)])"
   ]
  },
  {
   "cell_type": "code",
   "execution_count": null,
   "metadata": {},
   "outputs": [],
   "source": [
    "X_Conv_Lstm_test, y_Conv_Lstm_test = split_sequence(multiple_ip_test_set, n_steps_1)\n",
    "print('X_Conv_Lstm_test shape: ', X_Conv_Lstm_test.shape,'\\t X_Conv_Lstm_test dimension: ', X_Conv_Lstm_test.ndim)\n",
    "print('y_Conv_Lstm_test shape: ', y_Conv_Lstm_test.shape,'\\t y_Conv_Lstm_test dimension: ', y_Conv_Lstm_test.ndim)\n",
    "\n",
    "test_sample = X_Conv_Lstm_test.shape[0]\n",
    "# x_input = X_Conv_Lstm_test.reshape((X_Conv_Lstm_test.shape[0], n_seq, 1, n_steps_2, X_Conv_Lstm_test.shape[2]))\n",
    "x_input = X_Conv_Lstm_test.reshape((test_sample, time, rows, cols, channels))"
   ]
  },
  {
   "cell_type": "code",
   "execution_count": null,
   "metadata": {},
   "outputs": [],
   "source": [
    "from keras.models import load_model\n",
    "\n",
    "# load_trained_model=load_model('/media/atif/BE0E05910E0543BD/University of Bremen MSc/masters_thesis/forecasting_sensor_data_Salzgitter_AG/trained_model_file/conv_LSTM_norm_100.h5')\n",
    "\n",
    "yhat = model.predict(x_input, verbose=1)\n",
    "# print(yhat)"
   ]
  },
  {
   "cell_type": "code",
   "execution_count": null,
   "metadata": {},
   "outputs": [],
   "source": [
    "from sklearn import linear_model\n",
    "from sklearn.metrics import mean_squared_error, r2_score, mean_absolute_error\n",
    "import math\n",
    "print('r_2 statistic: %.2f' % r2_score(y_Conv_Lstm_test,yhat))\n",
    "print(\"Mean_absolute_error: %.2f\" % mean_absolute_error(y_Conv_Lstm_test,yhat))\n",
    "print(\"Mean squared error: %.2f\" % mean_squared_error(y_Conv_Lstm_test,yhat))\n",
    "RMSE=math.sqrt(mean_squared_error(y_Conv_Lstm_test,yhat))\n",
    "print('RMSE: ',RMSE)"
   ]
  },
  {
   "cell_type": "code",
   "execution_count": null,
   "metadata": {},
   "outputs": [],
   "source": [
    "# plt.plot((min(y_Conv_Lstm_test), max(y_Conv_Lstm_test)), (min(yhat), max(yhat)), color='red')\n",
    "# plt.scatter(y_Conv_Lstm_test, yhat, color='blue')"
   ]
  },
  {
   "cell_type": "code",
   "execution_count": null,
   "metadata": {},
   "outputs": [],
   "source": [
    "y_Conv_Lstm_test_reshape = np.reshape(y_Conv_Lstm_test,(-1,1))\n",
    "y_Conv_Lstm_test_reshape.shape"
   ]
  },
  {
   "cell_type": "code",
   "execution_count": null,
   "metadata": {
    "scrolled": false
   },
   "outputs": [],
   "source": [
    "plot_graph(y_Conv_Lstm_test_reshape, yhat, final_directory,'CONV_LSTM')"
   ]
  },
  {
   "cell_type": "code",
   "execution_count": null,
   "metadata": {},
   "outputs": [],
   "source": [
    "evaluation_metrices(y_Conv_Lstm_test_reshape, yhat, final_directory, 'CONV_LSTM',evaluation_metrics_file_path)"
   ]
  },
  {
   "cell_type": "code",
   "execution_count": null,
   "metadata": {},
   "outputs": [],
   "source": []
  },
  {
   "cell_type": "code",
   "execution_count": null,
   "metadata": {},
   "outputs": [],
   "source": []
  },
  {
   "cell_type": "code",
   "execution_count": null,
   "metadata": {},
   "outputs": [],
   "source": []
  },
  {
   "cell_type": "code",
   "execution_count": null,
   "metadata": {},
   "outputs": [],
   "source": []
  },
  {
   "cell_type": "code",
   "execution_count": null,
   "metadata": {},
   "outputs": [],
   "source": []
  },
  {
   "cell_type": "code",
   "execution_count": null,
   "metadata": {},
   "outputs": [],
   "source": []
  },
  {
   "cell_type": "code",
   "execution_count": null,
   "metadata": {},
   "outputs": [],
   "source": []
  },
  {
   "cell_type": "code",
   "execution_count": null,
   "metadata": {},
   "outputs": [],
   "source": [
    "dataframe_datetime.tail()"
   ]
  },
  {
   "cell_type": "code",
   "execution_count": null,
   "metadata": {},
   "outputs": [],
   "source": [
    "dataframe_datetime.iloc[0:5000].plot(y = dataframe_datetime.columns[-1], use_index=True)\n",
    "plt.rcParams['figure.figsize'] =(15,5)"
   ]
  },
  {
   "cell_type": "code",
   "execution_count": null,
   "metadata": {},
   "outputs": [],
   "source": []
  }
 ],
 "metadata": {
  "kernelspec": {
   "display_name": "Python 3",
   "language": "python",
   "name": "python3"
  },
  "language_info": {
   "codemirror_mode": {
    "name": "ipython",
    "version": 3
   },
   "file_extension": ".py",
   "mimetype": "text/x-python",
   "name": "python",
   "nbconvert_exporter": "python",
   "pygments_lexer": "ipython3",
   "version": "3.6.8"
  }
 },
 "nbformat": 4,
 "nbformat_minor": 2
}
