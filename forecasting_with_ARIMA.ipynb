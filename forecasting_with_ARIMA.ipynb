{
 "cells": [
  {
   "cell_type": "code",
   "execution_count": 1,
   "metadata": {},
   "outputs": [],
   "source": [
    "import pandas as pd\n",
    "from pandas import *\n",
    "import numpy as np\n",
    "import time\n",
    "import matplotlib.pyplot as plt\n",
    "import matplotlib.dates as md\n",
    "import datetime as dt\n",
    "%matplotlib inline\n",
    "import warnings\n",
    "import itertools\n",
    "import statsmodels.api as sm\n",
    "from statsmodels.tsa.arima_model import ARIMA\n",
    "from statsmodels.tsa.arima_model import ARIMAResults\n",
    "from sklearn.metrics import mean_squared_error"
   ]
  },
  {
   "cell_type": "code",
   "execution_count": 2,
   "metadata": {},
   "outputs": [],
   "source": [
    "# test= pd.read_csv('/media/atif/BE0E05910E0543BD/University of Bremen MSc/masters_thesis/IAT_sebastian/dataset_26_april_3.csv')\n",
    "# test=pd.read_csv('/home/atif/dataset_26_april_3.csv')\n",
    "test=pd.read_csv('E:/University of Bremen MSc/masters_thesis/IAT_sebastian/dataset_26_april_3.csv')"
   ]
  },
  {
   "cell_type": "code",
   "execution_count": 3,
   "metadata": {},
   "outputs": [
    {
     "name": "stderr",
     "output_type": "stream",
     "text": [
      "C:\\Users\\atif\\Anaconda3\\lib\\site-packages\\ipykernel_launcher.py:3: FutureWarning: Method .as_matrix will be removed in a future version. Use .values instead.\n",
      "  This is separate from the ipykernel package so we can avoid doing imports until\n"
     ]
    }
   ],
   "source": [
    "import datetime\n",
    "longTime=test.loc[0:,['longTime']]\n",
    "longTime=longTime.as_matrix()\n",
    "a=[]\n",
    "date_time_array=[]\n",
    "for k in longTime:\n",
    "    a=np.append(a,k)\n",
    "str_time=[]\n",
    "correct_longtime=[]\n",
    "datetime_time=[]\n",
    "count=0\n",
    "for b in a:\n",
    "    b=int(b) # make plain integer\n",
    "    str_b=str(b)\n",
    "    c=str_b[-3:]\n",
    "    new_str_b=str_b.replace(c, '',1)\n",
    "    new_str_b_time=int(new_str_b)\n",
    "    correct_longtime.append(new_str_b_time)\n",
    "    now_time=datetime.datetime.fromtimestamp(new_str_b_time)\n",
    "    convert_time=now_time.strftime('%Y-%m-%d %H:%M')\n",
    "    str_time.append(convert_time)\n",
    "# print(str_time)\n",
    "test_new = test.assign(stringTime=str_time,correct_longtime=correct_longtime) # here new column in the panda dataframe for string_time has added"
   ]
  },
  {
   "cell_type": "code",
   "execution_count": 4,
   "metadata": {},
   "outputs": [],
   "source": [
    "test_new['dateTime'] =  pd.to_datetime(test_new['stringTime'], format='%Y-%m-%d %H:%M')"
   ]
  },
  {
   "cell_type": "code",
   "execution_count": 5,
   "metadata": {},
   "outputs": [
    {
     "data": {
      "text/plain": [
       "(25000, 4223)"
      ]
     },
     "execution_count": 5,
     "metadata": {},
     "output_type": "execute_result"
    }
   ],
   "source": [
    "test_new.shape #ROWS, COLUMNS"
   ]
  },
  {
   "cell_type": "code",
   "execution_count": 6,
   "metadata": {},
   "outputs": [],
   "source": [
    "test_new = test_new.set_index('dateTime') # make dataTime column as index of the dataframe test_new"
   ]
  },
  {
   "cell_type": "code",
   "execution_count": 7,
   "metadata": {},
   "outputs": [],
   "source": [
    "univariate_column_label=['DEWIHOBT9_I0','AEDAHO_T9_V2',]\n",
    "univariate_data=test_new.iloc[2000:7000][univariate_column_label]\n",
    "univariate_data=univariate_data.loc[::-1]"
   ]
  },
  {
   "cell_type": "code",
   "execution_count": 8,
   "metadata": {},
   "outputs": [
    {
     "data": {
      "text/html": [
       "<div>\n",
       "<style scoped>\n",
       "    .dataframe tbody tr th:only-of-type {\n",
       "        vertical-align: middle;\n",
       "    }\n",
       "\n",
       "    .dataframe tbody tr th {\n",
       "        vertical-align: top;\n",
       "    }\n",
       "\n",
       "    .dataframe thead th {\n",
       "        text-align: right;\n",
       "    }\n",
       "</style>\n",
       "<table border=\"1\" class=\"dataframe\">\n",
       "  <thead>\n",
       "    <tr style=\"text-align: right;\">\n",
       "      <th></th>\n",
       "      <th>DEWIHOBT9_I0</th>\n",
       "      <th>AEDAHO_T9_V2</th>\n",
       "    </tr>\n",
       "    <tr>\n",
       "      <th>dateTime</th>\n",
       "      <th></th>\n",
       "      <th></th>\n",
       "    </tr>\n",
       "  </thead>\n",
       "  <tbody>\n",
       "    <tr>\n",
       "      <th>2019-04-06 00:21:00</th>\n",
       "      <td>100.0</td>\n",
       "      <td>72.427071</td>\n",
       "    </tr>\n",
       "    <tr>\n",
       "      <th>2019-04-06 00:22:00</th>\n",
       "      <td>100.0</td>\n",
       "      <td>71.620643</td>\n",
       "    </tr>\n",
       "    <tr>\n",
       "      <th>2019-04-06 00:23:00</th>\n",
       "      <td>100.0</td>\n",
       "      <td>70.606738</td>\n",
       "    </tr>\n",
       "    <tr>\n",
       "      <th>2019-04-06 00:24:00</th>\n",
       "      <td>100.0</td>\n",
       "      <td>70.531626</td>\n",
       "    </tr>\n",
       "    <tr>\n",
       "      <th>2019-04-06 00:25:00</th>\n",
       "      <td>100.0</td>\n",
       "      <td>70.692115</td>\n",
       "    </tr>\n",
       "  </tbody>\n",
       "</table>\n",
       "</div>"
      ],
      "text/plain": [
       "                     DEWIHOBT9_I0  AEDAHO_T9_V2\n",
       "dateTime                                       \n",
       "2019-04-06 00:21:00         100.0     72.427071\n",
       "2019-04-06 00:22:00         100.0     71.620643\n",
       "2019-04-06 00:23:00         100.0     70.606738\n",
       "2019-04-06 00:24:00         100.0     70.531626\n",
       "2019-04-06 00:25:00         100.0     70.692115"
      ]
     },
     "execution_count": 8,
     "metadata": {},
     "output_type": "execute_result"
    }
   ],
   "source": [
    "univariate_data.head()"
   ]
  },
  {
   "cell_type": "code",
   "execution_count": 9,
   "metadata": {},
   "outputs": [
    {
     "name": "stdout",
     "output_type": "stream",
     "text": [
      "size of zero_index:  0\n"
     ]
    }
   ],
   "source": [
    "zero_index=[]\n",
    "zero_index=np.array(zero_index)\n",
    "for index, value in univariate_data.iterrows():\n",
    "    for i , v in enumerate(value):\n",
    "        if i == 0  and v == 0.0:\n",
    "#             print('index: ',index)\n",
    "            zero_index=np.append(zero_index,index)\n",
    "\n",
    "print('size of zero_index: ',zero_index.size)"
   ]
  },
  {
   "cell_type": "code",
   "execution_count": 10,
   "metadata": {},
   "outputs": [],
   "source": [
    "if zero_index.size > 0:\n",
    "    univariate_data_modify = univariate_data.drop(zero_index,axis=0) # axis= 0 means row indiated. 1 means column indicated\n",
    "else:\n",
    "    univariate_data_modify = univariate_data"
   ]
  },
  {
   "cell_type": "code",
   "execution_count": 11,
   "metadata": {},
   "outputs": [],
   "source": [
    "univariate_data_modify = univariate_data_modify.drop(['DEWIHOBT9_I0'], axis=1)"
   ]
  },
  {
   "cell_type": "code",
   "execution_count": 12,
   "metadata": {},
   "outputs": [
    {
     "data": {
      "text/html": [
       "<div>\n",
       "<style scoped>\n",
       "    .dataframe tbody tr th:only-of-type {\n",
       "        vertical-align: middle;\n",
       "    }\n",
       "\n",
       "    .dataframe tbody tr th {\n",
       "        vertical-align: top;\n",
       "    }\n",
       "\n",
       "    .dataframe thead th {\n",
       "        text-align: right;\n",
       "    }\n",
       "</style>\n",
       "<table border=\"1\" class=\"dataframe\">\n",
       "  <thead>\n",
       "    <tr style=\"text-align: right;\">\n",
       "      <th></th>\n",
       "      <th>AEDAHO_T9_V2</th>\n",
       "    </tr>\n",
       "    <tr>\n",
       "      <th>dateTime</th>\n",
       "      <th></th>\n",
       "    </tr>\n",
       "  </thead>\n",
       "  <tbody>\n",
       "    <tr>\n",
       "      <th>2019-04-06 00:21:00</th>\n",
       "      <td>72.427071</td>\n",
       "    </tr>\n",
       "    <tr>\n",
       "      <th>2019-04-06 00:22:00</th>\n",
       "      <td>71.620643</td>\n",
       "    </tr>\n",
       "    <tr>\n",
       "      <th>2019-04-06 00:23:00</th>\n",
       "      <td>70.606738</td>\n",
       "    </tr>\n",
       "    <tr>\n",
       "      <th>2019-04-06 00:24:00</th>\n",
       "      <td>70.531626</td>\n",
       "    </tr>\n",
       "    <tr>\n",
       "      <th>2019-04-06 00:25:00</th>\n",
       "      <td>70.692115</td>\n",
       "    </tr>\n",
       "  </tbody>\n",
       "</table>\n",
       "</div>"
      ],
      "text/plain": [
       "                     AEDAHO_T9_V2\n",
       "dateTime                         \n",
       "2019-04-06 00:21:00     72.427071\n",
       "2019-04-06 00:22:00     71.620643\n",
       "2019-04-06 00:23:00     70.606738\n",
       "2019-04-06 00:24:00     70.531626\n",
       "2019-04-06 00:25:00     70.692115"
      ]
     },
     "execution_count": 12,
     "metadata": {},
     "output_type": "execute_result"
    }
   ],
   "source": [
    "univariate_data_modify.head()"
   ]
  },
  {
   "cell_type": "code",
   "execution_count": 13,
   "metadata": {},
   "outputs": [],
   "source": [
    "# from matplotlib.pylab import rcParams\n",
    "# print('shape of univariate_data: ',univariate_data.shape)\n",
    "# univariate_data.plot()\n",
    "# plt.rcParams['figure.figsize'] =(20,10)\n",
    "# plt.show()"
   ]
  },
  {
   "cell_type": "code",
   "execution_count": 87,
   "metadata": {},
   "outputs": [],
   "source": [
    "# from numpy import nan\n",
    "# univariate_data_drop_zero= univariate_data.replace(0,nan)\n",
    "# univariate_data_drop_zero= univariate_data_drop_zero.dropna(how='any',axis=0)\n",
    "\n",
    "# univariate_data_drop_zero.plot()\n",
    "# plt.show()"
   ]
  },
  {
   "cell_type": "code",
   "execution_count": 88,
   "metadata": {},
   "outputs": [],
   "source": [
    "# dataset=univariate_data_drop_zero.values\n",
    "# print(type(dataset))\n",
    "# # print(dataset)\n",
    "# print('length of dataset: ',len(dataset))"
   ]
  },
  {
   "cell_type": "markdown",
   "metadata": {},
   "source": [
    "# check for zero value"
   ]
  },
  {
   "cell_type": "code",
   "execution_count": 14,
   "metadata": {},
   "outputs": [],
   "source": [
    "# # zero_value=univariate_data.columns[univariate_data.isnull().any()]\n",
    "# # univariate_data[zero_value].isnull().sum()\n",
    "\n",
    "# for idx,val in enumerate(list(univariate_data.columns)):\n",
    "#     count=1\n",
    "#     for i, j in univariate_data.iterrows():\n",
    "#         for k in j:\n",
    "#             if k==0:\n",
    "#                 count+=1\n",
    "#                 print(i,'\\t\\t',k)"
   ]
  },
  {
   "cell_type": "code",
   "execution_count": 15,
   "metadata": {},
   "outputs": [
    {
     "name": "stdout",
     "output_type": "stream",
     "text": [
      "1\n"
     ]
    }
   ],
   "source": [
    "zero_val=univariate_data_modify.loc[univariate_data_modify['AEDAHO_T9_V2']==0]\n",
    "print(zero_val.size)"
   ]
  },
  {
   "cell_type": "markdown",
   "metadata": {},
   "source": [
    "# dropping zero"
   ]
  },
  {
   "cell_type": "code",
   "execution_count": 16,
   "metadata": {},
   "outputs": [
    {
     "name": "stdout",
     "output_type": "stream",
     "text": [
      "shape:  (4999, 1)  size:  4999\n"
     ]
    }
   ],
   "source": [
    "from numpy import nan\n",
    "univariate_data_drop_zero = univariate_data_modify.replace(0,nan)\n",
    "univariate_data_drop_zero = univariate_data_drop_zero.dropna(how='any',axis=0)\n",
    "print('shape: ',univariate_data_drop_zero.shape,' size: ',univariate_data_drop_zero.size)"
   ]
  },
  {
   "cell_type": "code",
   "execution_count": 17,
   "metadata": {},
   "outputs": [
    {
     "data": {
      "image/png": "[encoded data removed]",
      "text/plain": [
       "<Figure size 432x288 with 1 Axes>"
      ]
     },
     "metadata": {},
     "output_type": "display_data"
    }
   ],
   "source": [
    "univariate_data_drop_zero.plot()\n",
    "plt.show()"
   ]
  },
  {
   "cell_type": "code",
   "execution_count": 18,
   "metadata": {},
   "outputs": [
    {
     "name": "stdout",
     "output_type": "stream",
     "text": [
      "shape:  (5000, 2)  size:  10000\n"
     ]
    }
   ],
   "source": [
    "print('shape: ',univariate_data.shape,' size: ',univariate_data.size)"
   ]
  },
  {
   "cell_type": "markdown",
   "metadata": {},
   "source": [
    "# replace zero value with the mean value"
   ]
  },
  {
   "cell_type": "code",
   "execution_count": 91,
   "metadata": {},
   "outputs": [
    {
     "name": "stdout",
     "output_type": "stream",
     "text": [
      "univariate_data_mean :                       AEDAHO_T9_V2\n",
      "dateTime                         \n",
      "2019-03-31 00:21:00     65.738268\n",
      "2019-03-31 00:22:00     66.053339\n",
      "2019-03-31 00:23:00     66.451354\n",
      "2019-03-31 00:24:00     66.211389\n",
      "2019-03-31 00:25:00     65.839185\n"
     ]
    }
   ],
   "source": [
    "univariate_mean = univariate_data.mean()\n",
    "univariate_data_mean= univariate_data.replace(0,univariate_mean)\n",
    "print('univariate_data_mean : ',univariate_data_mean.head())"
   ]
  },
  {
   "cell_type": "code",
   "execution_count": 92,
   "metadata": {},
   "outputs": [
    {
     "name": "stdout",
     "output_type": "stream",
     "text": [
      "0\n"
     ]
    }
   ],
   "source": [
    "zero_val_now=univariate_data_mean.loc[univariate_data_mean['AEDAHO_T9_V2']==0]\n",
    "print(zero_val_now.size)"
   ]
  },
  {
   "cell_type": "code",
   "execution_count": 93,
   "metadata": {},
   "outputs": [
    {
     "data": {
      "image/png": "[encoded data removed]",
      "text/plain": [
       "<Figure size 1440x720 with 1 Axes>"
      ]
     },
     "metadata": {},
     "output_type": "display_data"
    }
   ],
   "source": [
    "univariate_data_mean.plot()\n",
    "plt.show()"
   ]
  },
  {
   "cell_type": "code",
   "execution_count": 19,
   "metadata": {},
   "outputs": [
    {
     "name": "stdout",
     "output_type": "stream",
     "text": [
      "4499\n",
      "4999\n"
     ]
    }
   ],
   "source": [
    "# dataset=univariate_data_mean.values\n",
    "dataset = univariate_data_drop_zero.values\n",
    "NumberOfElements=int(len(dataset)*0.9)\n",
    "print(NumberOfElements)\n",
    "print(len(dataset))"
   ]
  },
  {
   "cell_type": "code",
   "execution_count": 25,
   "metadata": {},
   "outputs": [],
   "source": [
    "train_set=dataset[0:NumberOfElements]\n",
    "test_set=dataset[NumberOfElements:len(dataset)]\n",
    "\n",
    "# test_set_1=dataset[4949:len(dataset)]"
   ]
  },
  {
   "cell_type": "code",
   "execution_count": 26,
   "metadata": {},
   "outputs": [
    {
     "name": "stdout",
     "output_type": "stream",
     "text": [
      "Train data shape: (4499, 1) \tsize: 4499\n",
      "Test data shape: (500, 1) \tsize: 500\n"
     ]
    }
   ],
   "source": [
    "print('Train data shape:',train_set.shape,'\\tsize:',train_set.size)\n",
    "print('Test data shape:',test_set.shape,'\\tsize:',test_set.size)\n",
    "# print('Test data 1 shape:',test_set_1.shape,'\\tsize:',test_set_1.size)"
   ]
  },
  {
   "cell_type": "code",
   "execution_count": 35,
   "metadata": {},
   "outputs": [],
   "source": [
    "Actual = [x for x in train_set]\n",
    "Predictions = list()"
   ]
  },
  {
   "cell_type": "code",
   "execution_count": 36,
   "metadata": {},
   "outputs": [],
   "source": [
    "#Function that calls ARIMA model to fit and forecast the data\n",
    "def StartARIMAForecasting(Actual, P, D, Q):\n",
    "#     print('from function screaming')\n",
    "    model = ARIMA(Actual, order=(P, D, Q))\n",
    "    model_fit = model.fit(disp=0)\n",
    "#     save_model=model_fit.save('model_22.pkl')\n",
    "    prediction = model_fit.forecast()[0]\n",
    "    save_model=model_fit.save('model_22.pkl')\n",
    "    return prediction,save_model"
   ]
  },
  {
   "cell_type": "code",
   "execution_count": 37,
   "metadata": {},
   "outputs": [
    {
     "name": "stdout",
     "output_type": "stream",
     "text": [
      "count=1, Actual=61.315957, Predicted=60.631489\n",
      "count=2, Actual=62.692824, Predicted=62.163768\n",
      "count=3, Actual=61.682259, Predicted=62.685960\n",
      "count=4, Actual=58.954713, Predicted=60.314237\n",
      "count=5, Actual=57.320935, Predicted=57.001832\n",
      "count=6, Actual=57.487585, Predicted=56.439466\n",
      "count=7, Actual=56.978387, Predicted=57.717790\n",
      "count=8, Actual=56.553797, Predicted=56.743153\n",
      "count=9, Actual=56.781821, Predicted=56.479070\n",
      "count=10, Actual=56.419114, Predicted=57.093413\n",
      "count=11, Actual=56.447232, Predicted=56.352789\n",
      "count=12, Actual=56.207781, Predicted=56.664642\n",
      "count=13, Actual=56.028931, Predicted=56.253423\n",
      "count=14, Actual=56.026364, Predicted=56.151034\n",
      "count=15, Actual=56.244887, Predicted=56.253835\n",
      "count=16, Actual=55.708339, Predicted=56.569221\n",
      "count=17, Actual=55.728239, Predicted=55.593357\n",
      "count=18, Actual=55.861252, Predicted=56.013564\n",
      "count=19, Actual=55.768043, Predicted=56.160088\n",
      "count=20, Actual=55.716431, Predicted=55.918804\n",
      "count=21, Actual=55.559536, Predicted=55.907078\n",
      "count=22, Actual=55.648381, Predicted=55.692802\n",
      "count=23, Actual=55.360786, Predicted=55.929291\n",
      "count=24, Actual=55.704230, Predicted=55.413209\n",
      "count=25, Actual=55.686001, Predicted=56.137080\n",
      "count=26, Actual=55.765858, Predicted=55.837927\n",
      "count=27, Actual=55.697168, Predicted=55.985916\n",
      "count=28, Actual=55.892583, Predicted=55.815415\n",
      "count=29, Actual=55.631435, Predicted=56.159095\n",
      "count=30, Actual=55.530135, Predicted=55.613458\n",
      "count=31, Actual=55.755975, Predicted=55.653528\n",
      "count=32, Actual=57.291788, Predicted=56.045977\n",
      "count=33, Actual=60.451883, Predicted=58.198067\n",
      "count=34, Actual=61.674555, Predicted=61.891365\n",
      "count=35, Actual=61.846470, Predicted=61.567565\n",
      "count=36, Actual=59.268246, Predicted=61.145032\n",
      "count=37, Actual=56.800310, Predicted=57.197828\n",
      "count=38, Actual=56.337841, Predicted=55.338681\n",
      "count=39, Actual=55.961141, Predicted=56.271123\n",
      "count=40, Actual=55.782295, Predicted=55.899706\n",
      "count=41, Actual=54.989861, Predicted=55.878143\n",
      "count=42, Actual=55.223150, Predicted=54.779935\n",
      "count=43, Actual=55.173717, Predicted=55.685385\n",
      "count=44, Actual=55.179109, Predicted=55.387714\n",
      "count=45, Actual=55.184374, Predicted=55.438894\n",
      "count=46, Actual=55.325606, Predicted=55.429559\n",
      "count=47, Actual=55.409318, Predicted=55.631311\n",
      "count=48, Actual=55.244333, Predicted=55.648489\n",
      "count=49, Actual=55.218786, Predicted=55.339227\n",
      "count=50, Actual=55.112476, Predicted=55.416050\n",
      "count=51, Actual=54.907819, Predicted=55.256101\n",
      "count=52, Actual=55.097454, Predicted=55.014371\n",
      "count=53, Actual=55.666101, Predicted=55.434415\n",
      "count=54, Actual=55.304932, Predicted=56.139673\n",
      "count=55, Actual=55.045455, Predicted=55.189922\n",
      "count=56, Actual=55.095270, Predicted=55.083578\n",
      "count=57, Actual=55.453099, Predicted=55.315916\n",
      "count=58, Actual=55.626939, Predicted=55.801989\n",
      "count=59, Actual=55.633233, Predicted=55.806200\n",
      "count=60, Actual=55.844051, Predicted=55.707015\n",
      "count=61, Actual=55.555427, Predicted=56.026718\n",
      "count=62, Actual=55.348845, Predicted=55.435180\n",
      "count=63, Actual=55.617437, Predicted=55.339411\n",
      "count=64, Actual=55.516137, Predicted=55.873147\n",
      "count=65, Actual=57.585804, Predicted=55.512476\n",
      "count=66, Actual=60.100735, Predicted=58.731425\n",
      "count=67, Actual=61.163814, Predicted=61.046063\n",
      "count=68, Actual=61.087291, Predicted=60.979548\n",
      "count=69, Actual=59.920473, Predicted=60.256812\n",
      "count=70, Actual=56.709148, Predicted=58.619780\n",
      "count=71, Actual=55.440516, Predicted=54.607429\n",
      "count=72, Actual=55.150095, Predicted=54.941060\n",
      "count=73, Actual=55.689723, Predicted=55.231564\n",
      "count=74, Actual=55.417404, Predicted=56.191496\n",
      "count=75, Actual=55.329715, Predicted=55.372180\n",
      "count=76, Actual=55.340372, Predicted=55.461937\n",
      "count=77, Actual=55.196702, Predicted=55.516597\n",
      "count=78, Actual=55.458746, Predicted=55.281489\n",
      "count=79, Actual=55.503942, Predicted=55.776113\n",
      "count=80, Actual=55.315462, Predicted=55.641655\n",
      "count=81, Actual=55.106055, Predicted=55.334613\n",
      "count=82, Actual=55.025942, Predicted=55.149444\n",
      "count=83, Actual=55.316231, Predicted=55.161912\n",
      "count=84, Actual=55.314052, Predicted=55.641360\n",
      "count=85, Actual=54.732181, Predicted=55.419608\n",
      "count=86, Actual=54.820516, Predicted=54.552377\n",
      "count=87, Actual=54.866604, Predicted=55.097339\n",
      "count=88, Actual=55.105158, Predicted=55.062795\n",
      "count=89, Actual=55.411630, Predicted=55.391928\n",
      "count=90, Actual=55.388644, Predicted=55.680583\n",
      "count=91, Actual=55.278744, Predicted=55.434700\n",
      "count=92, Actual=55.125313, Predicted=55.298238\n",
      "count=93, Actual=55.362197, Predicted=55.138931\n",
      "count=94, Actual=55.493412, Predicted=55.597890\n",
      "count=95, Actual=55.435124, Predicted=55.614013\n",
      "count=96, Actual=55.612819, Predicted=55.443070\n",
      "count=97, Actual=55.873065, Predicted=55.758194\n",
      "count=98, Actual=59.829831, Predicted=56.018520\n",
      "count=99, Actual=61.126067, Predicted=61.832226\n",
      "count=100, Actual=61.639506, Predicted=60.971287\n",
      "count=101, Actual=60.378574, Predicted=61.065881\n",
      "count=102, Actual=57.386285, Predicted=58.871524\n",
      "count=103, Actual=56.003125, Predicted=55.296912\n",
      "count=104, Actual=56.175040, Predicted=55.294124\n",
      "count=105, Actual=55.825175, Predicted=56.385238\n",
      "count=106, Actual=55.348586, Predicted=55.663666\n",
      "count=107, Actual=55.636441, Predicted=55.206403\n",
      "count=108, Actual=55.477235, Predicted=55.958785\n",
      "count=109, Actual=55.169995, Predicted=55.480227\n",
      "count=110, Actual=55.420230, Predicted=55.143728\n",
      "count=111, Actual=55.688954, Predicted=55.727162\n",
      "count=112, Actual=55.663530, Predicted=55.931620\n",
      "count=113, Actual=55.870753, Predicted=55.711615\n",
      "count=114, Actual=55.718228, Predicted=56.054433\n",
      "count=115, Actual=55.921856, Predicted=55.669388\n",
      "count=116, Actual=55.778441, Predicted=56.096864\n",
      "count=117, Actual=55.784347, Predicted=55.721538\n",
      "count=118, Actual=55.718997, Predicted=55.844032\n",
      "count=119, Actual=55.774973, Predicted=55.729422\n",
      "count=120, Actual=55.726956, Predicted=55.859833\n",
      "count=121, Actual=55.549775, Predicted=55.740813\n",
      "count=122, Actual=55.620905, Predicted=55.508521\n",
      "count=123, Actual=55.481599, Predicted=55.737801\n",
      "count=124, Actual=55.856246, Predicted=55.463066\n",
      "count=125, Actual=56.226398, Predicted=56.132045\n",
      "count=126, Actual=56.320253, Predicted=56.412272\n",
      "count=127, Actual=56.220878, Predicted=56.310091\n",
      "count=128, Actual=56.287899, Predicted=56.112643\n",
      "count=129, Actual=56.360312, Predicted=56.290242\n",
      "count=130, Actual=59.161809, Predicted=56.346452\n",
      "count=131, Actual=61.141215, Predicted=60.539390\n",
      "count=132, Actual=62.123026, Predicted=61.533534\n",
      "count=133, Actual=61.005381, Predicted=61.777772\n",
      "count=134, Actual=58.532180, Predicted=59.507648\n",
      "count=135, Actual=56.532100, Predicted=56.641913\n",
      "count=136, Actual=56.052812, Predicted=55.342008\n",
      "count=137, Actual=55.567495, Predicted=55.923490\n",
      "count=138, Actual=55.394551, Predicted=55.426668\n",
      "count=139, Actual=55.457335, Predicted=55.489897\n",
      "count=140, Actual=55.408804, Predicted=55.676455\n",
      "count=141, Actual=55.449376, Predicted=55.543353\n",
      "count=142, Actual=55.456434, Predicted=55.637641\n",
      "count=143, Actual=55.100662, Predicted=55.609863\n",
      "count=144, Actual=54.779429, Predicted=55.063014\n",
      "count=145, Actual=54.693920, Predicted=54.826512\n",
      "count=146, Actual=54.512630, Predicted=54.899696\n",
      "count=147, Actual=54.201540, Predicted=54.661069\n",
      "count=148, Actual=54.338790, Predicted=54.307811\n",
      "count=149, Actual=54.302326, Predicted=54.719184\n",
      "count=150, Actual=54.163024, Predicted=54.537727\n",
      "count=151, Actual=54.600064, Predicted=54.352723\n",
      "count=152, Actual=54.593516, Predicted=55.102009\n",
      "count=153, Actual=54.254181, Predicted=54.760972\n",
      "count=154, Actual=54.111667, Predicted=54.270585\n",
      "count=155, Actual=54.123862, Predicted=54.288733\n",
      "count=156, Actual=54.326467, Predicted=54.381417\n",
      "count=157, Actual=54.442014, Predicted=54.663728\n",
      "count=158, Actual=54.648214, Predicted=54.685949\n",
      "count=159, Actual=54.683904, Predicted=54.919591\n",
      "count=160, Actual=54.660669, Predicted=54.825008\n",
      "count=161, Actual=54.707403, Predicted=54.770527\n",
      "count=162, Actual=54.573362, Predicted=54.854260\n",
      "count=163, Actual=57.683769, Predicted=54.611566\n",
      "count=164, Actual=59.959890, Predicted=59.414716\n",
      "count=165, Actual=60.762209, Predicted=60.616890\n",
      "count=166, Actual=60.086869, Predicted=60.390799\n",
      "count=167, Actual=56.766927, Predicted=58.932111\n",
      "count=168, Actual=55.488406, Predicted=54.451122\n",
      "count=169, Actual=55.103234, Predicted=54.878624\n",
      "count=170, Actual=54.380131, Predicted=55.027380\n"
     ]
    },
    {
     "name": "stdout",
     "output_type": "stream",
     "text": [
      "count=171, Actual=54.978694, Predicted=54.147106\n",
      "count=172, Actual=54.437136, Predicted=55.549584\n",
      "count=173, Actual=54.541649, Predicted=54.251835\n",
      "count=174, Actual=54.337379, Predicted=54.831116\n",
      "count=175, Actual=54.457168, Predicted=54.405244\n",
      "count=176, Actual=54.194478, Predicted=54.734917\n",
      "count=177, Actual=54.579396, Predicted=54.231445\n",
      "count=178, Actual=54.835920, Predicted=55.003404\n",
      "count=179, Actual=54.679800, Predicted=55.092179\n",
      "count=180, Actual=54.718957, Predicted=54.689855\n",
      "count=181, Actual=54.941074, Predicted=54.869780\n",
      "count=182, Actual=55.069464, Predicted=55.163062\n",
      "count=183, Actual=54.704450, Predicted=55.196810\n",
      "count=184, Actual=54.339691, Predicted=54.561809\n",
      "count=185, Actual=54.032064, Predicted=54.275412\n",
      "count=186, Actual=54.055818, Predicted=54.045580\n",
      "count=187, Actual=53.912530, Predicted=54.276846\n",
      "count=188, Actual=53.886723, Predicted=54.019536\n",
      "count=189, Actual=54.003686, Predicted=54.078954\n",
      "count=190, Actual=54.254436, Predicted=54.258618\n",
      "count=191, Actual=53.894041, Predicted=54.546204\n",
      "count=192, Actual=54.204234, Predicted=53.821424\n",
      "count=193, Actual=54.192680, Predicted=54.558142\n",
      "count=194, Actual=53.498597, Predicted=54.289916\n",
      "count=195, Actual=53.663068, Predicted=53.262536\n",
      "count=196, Actual=53.722899, Predicted=54.001956\n",
      "count=197, Actual=53.621212, Predicted=53.926787\n",
      "count=198, Actual=53.588730, Predicted=53.735677\n",
      "count=199, Actual=54.194865, Predicted=53.755390\n",
      "count=200, Actual=54.169186, Predicted=54.683207\n",
      "count=201, Actual=54.052605, Predicted=54.201957\n",
      "count=202, Actual=56.733671, Predicted=54.075551\n",
      "count=203, Actual=59.069883, Predicted=58.208700\n",
      "count=204, Actual=60.013687, Predicted=59.812966\n",
      "count=205, Actual=58.863429, Predicted=59.732016\n",
      "count=206, Actual=56.661645, Predicted=57.457696\n",
      "count=207, Actual=55.355261, Predicted=55.020049\n",
      "count=208, Actual=54.857490, Predicted=54.571239\n",
      "count=209, Actual=54.869817, Predicted=54.639803\n",
      "count=210, Actual=54.968164, Predicted=54.949514\n",
      "count=211, Actual=54.991790, Predicted=55.063399\n",
      "count=212, Actual=54.838491, Predicted=55.028942\n",
      "count=213, Actual=54.904096, Predicted=54.783772\n",
      "count=214, Actual=54.917707, Predicted=54.992550\n",
      "count=215, Actual=54.824366, Predicted=54.954782\n",
      "count=216, Actual=55.105540, Predicted=54.806453\n",
      "count=217, Actual=55.086542, Predicted=55.297809\n",
      "count=218, Actual=54.823597, Predicted=55.059610\n",
      "count=219, Actual=54.710611, Predicted=54.691480\n",
      "count=220, Actual=54.761195, Predicted=54.706031\n",
      "count=221, Actual=54.823210, Predicted=54.846528\n",
      "count=222, Actual=54.792266, Predicted=54.896201\n",
      "count=223, Actual=54.812298, Predicted=54.806067\n",
      "count=224, Actual=54.803952, Predicted=54.860173\n",
      "count=225, Actual=54.810755, Predicted=54.829201\n",
      "count=226, Actual=54.682748, Predicted=54.845116\n",
      "count=227, Actual=54.708686, Predicted=54.644168\n",
      "count=228, Actual=54.219770, Predicted=54.774160\n",
      "count=229, Actual=54.112695, Predicted=54.005730\n",
      "count=230, Actual=54.033092, Predicted=54.194724\n",
      "count=231, Actual=56.018019, Predicted=54.117927\n",
      "count=232, Actual=58.892061, Predicted=57.170833\n",
      "count=233, Actual=59.858204, Predicted=60.088225\n",
      "count=234, Actual=59.303809, Predicted=59.607817\n",
      "count=235, Actual=57.226310, Predicted=58.253181\n",
      "count=236, Actual=55.303649, Predicted=55.573120\n",
      "count=237, Actual=54.791370, Predicted=54.139219\n",
      "count=238, Actual=54.653479, Predicted=54.635679\n",
      "count=239, Actual=54.489008, Predicted=54.690114\n",
      "count=240, Actual=53.937180, Predicted=54.514758\n",
      "count=241, Actual=53.957981, Predicted=53.786792\n",
      "count=242, Actual=54.077897, Predicted=54.201090\n",
      "count=243, Actual=54.563601, Predicted=54.328225\n",
      "count=244, Actual=54.203078, Predicted=54.974188\n",
      "count=245, Actual=54.135288, Predicted=54.079396\n",
      "count=246, Actual=54.073533, Predicted=54.260619\n",
      "count=247, Actual=54.784949, Predicted=54.186831\n",
      "count=248, Actual=54.702265, Predicted=55.300923\n",
      "count=249, Actual=54.649752, Predicted=54.655066\n",
      "count=250, Actual=54.663363, Predicted=54.675543\n",
      "count=251, Actual=54.614576, Predicted=54.723359\n",
      "count=252, Actual=54.519051, Predicted=54.634892\n",
      "count=253, Actual=54.534586, Predicted=54.524093\n",
      "count=254, Actual=54.445741, Predicted=54.610918\n",
      "count=255, Actual=54.548452, Predicted=54.456999\n",
      "count=256, Actual=54.117059, Predicted=54.675117\n",
      "count=257, Actual=53.988538, Predicted=53.939709\n",
      "count=258, Actual=53.851161, Predicted=54.059384\n",
      "count=259, Actual=54.036687, Predicted=53.913233\n",
      "count=260, Actual=54.603919, Predicted=54.282444\n",
      "count=261, Actual=54.232866, Predicted=54.994749\n",
      "count=262, Actual=53.907524, Predicted=54.032350\n",
      "count=263, Actual=54.520079, Predicted=53.837714\n",
      "count=264, Actual=54.037711, Predicted=54.971276\n",
      "count=265, Actual=54.117955, Predicted=53.778674\n",
      "count=266, Actual=54.117186, Predicted=54.282900\n",
      "count=267, Actual=54.205522, Predicted=54.188695\n",
      "count=268, Actual=56.134340, Predicted=54.326934\n",
      "count=269, Actual=60.139251, Predicted=57.179671\n",
      "count=270, Actual=60.708152, Predicted=61.862552\n",
      "count=271, Actual=59.903782, Predicted=59.961678\n",
      "count=272, Actual=56.460329, Predicted=58.590834\n",
      "count=273, Actual=55.815032, Predicted=53.997531\n",
      "count=274, Actual=55.381327, Predicted=55.473713\n",
      "count=275, Actual=54.864038, Predicted=55.087168\n",
      "count=276, Actual=54.678771, Predicted=54.596431\n",
      "count=277, Actual=54.628314, Predicted=54.663985\n",
      "count=278, Actual=54.170214, Predicted=54.689627\n",
      "count=279, Actual=54.421473, Predicted=54.020586\n",
      "count=280, Actual=53.906495, Predicted=54.724208\n",
      "count=281, Actual=54.125278, Predicted=53.731821\n",
      "count=282, Actual=54.057101, Predicted=54.445523\n",
      "count=283, Actual=54.202309, Predicted=54.146873\n",
      "count=284, Actual=53.938595, Predicted=54.425643\n",
      "count=285, Actual=53.686690, Predicted=53.911521\n",
      "count=286, Actual=53.834597, Predicted=53.724014\n",
      "count=287, Actual=53.673593, Predicted=54.106681\n",
      "count=288, Actual=53.786065, Predicted=53.736469\n",
      "count=289, Actual=53.621854, Predicted=54.026171\n",
      "count=290, Actual=53.801988, Predicted=53.680148\n",
      "count=291, Actual=53.653694, Predicted=54.072358\n",
      "count=292, Actual=53.924470, Predicted=53.702012\n",
      "count=293, Actual=54.359972, Predicted=54.224402\n",
      "count=294, Actual=53.970308, Predicted=54.673589\n",
      "count=295, Actual=53.915870, Predicted=53.783753\n",
      "count=296, Actual=53.953744, Predicted=54.003445\n",
      "count=297, Actual=54.125532, Predicted=54.071168\n",
      "count=298, Actual=53.273399, Predicted=54.298800\n",
      "count=299, Actual=53.755121, Predicted=52.884747\n",
      "count=300, Actual=53.718275, Predicted=54.232434\n",
      "count=301, Actual=54.041306, Predicted=53.773545\n",
      "count=302, Actual=53.965939, Predicted=54.316718\n",
      "count=303, Actual=54.000992, Predicted=53.962025\n",
      "count=304, Actual=54.415312, Predicted=54.085876\n",
      "count=305, Actual=54.506983, Predicted=54.678836\n",
      "count=306, Actual=54.780585, Predicted=54.520415\n",
      "count=307, Actual=54.335067, Predicted=54.892257\n",
      "count=308, Actual=54.267660, Predicted=54.025649\n",
      "count=309, Actual=54.525599, Predicted=54.260375\n",
      "count=310, Actual=57.019342, Predicted=54.670944\n",
      "count=311, Actual=60.666042, Predicted=58.255950\n",
      "count=312, Actual=61.488005, Predicted=62.002680\n",
      "count=313, Actual=60.370615, Predicted=60.784221\n",
      "count=314, Actual=57.215913, Predicted=58.736554\n",
      "count=315, Actual=55.447579, Predicted=54.828625\n",
      "count=316, Actual=54.697902, Predicted=54.379724\n",
      "count=317, Actual=54.589539, Predicted=54.345256\n",
      "count=318, Actual=54.248529, Predicted=54.631080\n",
      "count=319, Actual=54.098825, Predicted=54.152718\n",
      "count=320, Actual=53.980319, Predicted=54.164759\n",
      "count=321, Actual=54.150951, Predicted=54.068114\n",
      "count=322, Actual=54.004842, Predicted=54.398933\n",
      "count=323, Actual=54.463329, Predicted=54.042664\n",
      "count=324, Actual=54.390662, Predicted=54.847720\n",
      "count=325, Actual=54.812038, Predicted=54.393000\n",
      "count=326, Actual=55.289269, Predicted=55.108318\n",
      "count=327, Actual=54.614189, Predicted=55.517909\n",
      "count=328, Actual=54.283710, Predicted=54.177616\n",
      "count=329, Actual=53.984561, Predicted=54.190701\n",
      "count=330, Actual=53.950536, Predicted=53.931224\n",
      "count=331, Actual=53.985457, Predicted=54.075084\n",
      "count=332, Actual=53.946427, Predicted=54.130984\n",
      "count=333, Actual=53.811357, Predicted=54.041178\n",
      "count=334, Actual=53.717761, Predicted=53.862325\n",
      "count=335, Actual=54.021921, Predicted=53.810628\n",
      "count=336, Actual=54.190114, Predicted=54.325300\n",
      "count=337, Actual=53.933330, Predicted=54.350770\n",
      "count=338, Actual=54.288588, Predicted=53.855923\n"
     ]
    },
    {
     "name": "stdout",
     "output_type": "stream",
     "text": [
      "count=339, Actual=54.723835, Predicted=54.584005\n",
      "count=340, Actual=54.708172, Predicted=54.967385\n",
      "count=341, Actual=54.859032, Predicted=54.651150\n",
      "count=342, Actual=54.632933, Predicted=54.915063\n",
      "count=343, Actual=54.215278, Predicted=54.461603\n",
      "count=344, Actual=54.599937, Predicted=54.002135\n",
      "count=345, Actual=54.460890, Predicted=54.870137\n",
      "count=346, Actual=54.152749, Predicted=54.357052\n",
      "count=347, Actual=54.013447, Predicted=54.015121\n",
      "count=348, Actual=54.255210, Predicted=54.014449\n",
      "count=349, Actual=54.353042, Predicted=54.460442\n",
      "count=350, Actual=55.008864, Predicted=54.424652\n",
      "count=351, Actual=54.898831, Predicted=55.360012\n",
      "count=352, Actual=54.580552, Predicted=54.725325\n",
      "count=353, Actual=54.842728, Predicted=54.363405\n",
      "count=354, Actual=55.416508, Predicted=54.980713\n",
      "count=355, Actual=55.028249, Predicted=55.642288\n",
      "count=356, Actual=54.415826, Predicted=54.660396\n",
      "count=357, Actual=57.552167, Predicted=54.049382\n",
      "count=358, Actual=60.257369, Predicted=59.212125\n",
      "count=359, Actual=60.319257, Predicted=61.015819\n",
      "count=360, Actual=58.220057, Predicted=59.368024\n",
      "count=361, Actual=55.692035, Predicted=56.320613\n",
      "count=362, Actual=55.679967, Predicted=54.024162\n",
      "count=363, Actual=54.764281, Predicted=55.717864\n",
      "count=364, Actual=54.935168, Predicted=54.197792\n",
      "count=365, Actual=55.639908, Predicted=55.129682\n",
      "count=366, Actual=55.494054, Predicted=56.014059\n",
      "count=367, Actual=55.523587, Predicted=55.299288\n",
      "count=368, Actual=55.446678, Predicted=55.492920\n",
      "count=369, Actual=55.433454, Predicted=55.344097\n",
      "count=370, Actual=55.225844, Predicted=55.383713\n",
      "count=371, Actual=54.871355, Predicted=55.075014\n",
      "count=372, Actual=54.639354, Predicted=54.688455\n",
      "count=373, Actual=54.475143, Predicted=54.579757\n",
      "count=374, Actual=54.320428, Predicted=54.475714\n",
      "count=375, Actual=54.334808, Predicted=54.344257\n",
      "count=376, Actual=53.681297, Predicted=54.464630\n",
      "count=377, Actual=53.856166, Predicted=53.451915\n",
      "count=378, Actual=53.728546, Predicted=54.184607\n",
      "count=379, Actual=53.527871, Predicted=53.818089\n",
      "count=380, Actual=54.030908, Predicted=53.613959\n",
      "count=381, Actual=55.187715, Predicted=54.504121\n",
      "count=382, Actual=54.746688, Predicted=55.873741\n",
      "count=383, Actual=54.034757, Predicted=54.400103\n",
      "count=384, Actual=53.913431, Predicted=53.709462\n",
      "count=385, Actual=53.915356, Predicted=54.004877\n",
      "count=386, Actual=53.740874, Predicted=54.049815\n",
      "count=387, Actual=54.121683, Predicted=53.775352\n",
      "count=388, Actual=53.936670, Predicted=54.472958\n",
      "count=389, Actual=54.087398, Predicted=53.902453\n",
      "count=390, Actual=54.000224, Predicted=54.284507\n",
      "count=391, Actual=54.030653, Predicted=54.026441\n",
      "count=392, Actual=54.015627, Predicted=54.142219\n",
      "count=393, Actual=54.240316, Predicted=54.087679\n",
      "count=394, Actual=54.074943, Predicted=54.437493\n",
      "count=395, Actual=54.131953, Predicted=54.020951\n",
      "count=396, Actual=54.473987, Predicted=54.237971\n",
      "count=397, Actual=54.216562, Predicted=54.700382\n",
      "count=398, Actual=53.680142, Predicted=54.066472\n",
      "count=399, Actual=53.969152, Predicted=53.459835\n",
      "count=400, Actual=53.841914, Predicted=54.264018\n",
      "count=401, Actual=53.556376, Predicted=53.827479\n",
      "count=402, Actual=53.324757, Predicted=53.504239\n",
      "count=403, Actual=53.694394, Predicted=53.346275\n",
      "count=404, Actual=57.845287, Predicted=54.050902\n",
      "count=405, Actual=60.437376, Predicted=60.048707\n",
      "count=406, Actual=60.618406, Predicted=61.001243\n",
      "count=407, Actual=58.278604, Predicted=59.676861\n",
      "count=408, Actual=55.827487, Predicted=56.171386\n",
      "count=409, Actual=55.457081, Predicted=54.178055\n",
      "count=410, Actual=55.065487, Predicted=55.259231\n",
      "count=411, Actual=54.527142, Predicted=54.796692\n",
      "count=412, Actual=54.266122, Predicted=54.255318\n",
      "count=413, Actual=54.052091, Predicted=54.225191\n",
      "count=414, Actual=53.787476, Predicted=54.055131\n",
      "count=415, Actual=53.632511, Predicted=53.791409\n",
      "count=416, Actual=54.181254, Predicted=53.730655\n",
      "count=417, Actual=53.948479, Predicted=54.651640\n",
      "count=418, Actual=53.364815, Predicted=53.887976\n",
      "count=419, Actual=53.882874, Predicted=53.203779\n",
      "count=420, Actual=53.235780, Predicted=54.387086\n",
      "count=421, Actual=53.527998, Predicted=52.991022\n",
      "count=422, Actual=53.359036, Predicted=53.930934\n",
      "count=423, Actual=52.949854, Predicted=53.413277\n",
      "count=424, Actual=53.677830, Predicted=52.931646\n",
      "count=425, Actual=53.347223, Predicted=54.309491\n",
      "count=426, Actual=53.616074, Predicted=53.251219\n",
      "count=427, Actual=53.879793, Predicted=53.939119\n",
      "count=428, Actual=54.264197, Predicted=54.113745\n",
      "count=429, Actual=54.393101, Predicted=54.519561\n",
      "count=430, Actual=54.363313, Predicted=54.449210\n",
      "count=431, Actual=54.352273, Predicted=54.332757\n",
      "count=432, Actual=54.500949, Predicted=54.343243\n",
      "count=433, Actual=54.348546, Predicted=54.573337\n",
      "count=434, Actual=54.176376, Predicted=54.234539\n",
      "count=435, Actual=54.048368, Predicted=54.093362\n",
      "count=436, Actual=54.010621, Predicted=54.012990\n",
      "count=437, Actual=54.258932, Predicted=54.036959\n",
      "count=438, Actual=53.921135, Predicted=54.430841\n",
      "count=439, Actual=54.037970, Predicted=53.736854\n",
      "count=440, Actual=53.961835, Predicted=54.171873\n",
      "count=441, Actual=54.060696, Predicted=53.947753\n",
      "count=442, Actual=53.619929, Predicted=54.159558\n",
      "count=443, Actual=54.029110, Predicted=53.413755\n",
      "count=444, Actual=53.860021, Predicted=54.355550\n",
      "count=445, Actual=54.297702, Predicted=53.773387\n",
      "count=446, Actual=54.208088, Predicted=54.583479\n",
      "count=447, Actual=53.821245, Predicted=54.117559\n",
      "count=448, Actual=54.004073, Predicted=53.624827\n",
      "count=449, Actual=54.503515, Predicted=54.171664\n",
      "count=450, Actual=54.867378, Predicted=54.770008\n",
      "count=451, Actual=59.130610, Predicted=54.972585\n",
      "count=452, Actual=61.114253, Predicted=61.191828\n",
      "count=453, Actual=60.836801, Predicted=61.145667\n",
      "count=454, Actual=58.978849, Predicted=59.581605\n",
      "count=455, Actual=56.106482, Predicted=57.103370\n",
      "count=456, Actual=55.465421, Predicted=54.100286\n",
      "count=457, Actual=55.197985, Predicted=55.109657\n",
      "count=458, Actual=55.189125, Predicted=55.004268\n",
      "count=459, Actual=55.060222, Predicted=55.160264\n",
      "count=460, Actual=54.500949, Predicted=54.957839\n",
      "count=461, Actual=53.916252, Predicted=54.205803\n",
      "count=462, Actual=53.579483, Predicted=53.716028\n",
      "count=463, Actual=53.785423, Predicted=53.590938\n",
      "count=464, Actual=53.261586, Predicted=54.106083\n",
      "count=465, Actual=53.102125, Predicted=53.139792\n",
      "count=466, Actual=53.109315, Predicted=53.284286\n",
      "count=467, Actual=53.733938, Predicted=53.367919\n",
      "count=468, Actual=53.728673, Predicted=54.291784\n",
      "count=469, Actual=53.908166, Predicted=53.826159\n",
      "count=470, Actual=54.036428, Predicted=54.134898\n",
      "count=471, Actual=53.979678, Predicted=54.190956\n",
      "count=472, Actual=53.932047, Predicted=54.020143\n",
      "count=473, Actual=53.923701, Predicted=53.992740\n",
      "count=474, Actual=54.051576, Predicted=54.006942\n",
      "count=475, Actual=54.261885, Predicted=54.200303\n",
      "count=476, Actual=54.660155, Predicted=54.422612\n",
      "count=477, Actual=54.501203, Predicted=54.878882\n",
      "count=478, Actual=54.477322, Predicted=54.362315\n",
      "count=479, Actual=54.960974, Predicted=54.464839\n",
      "count=480, Actual=54.749000, Predicted=55.201572\n",
      "count=481, Actual=59.483429, Predicted=54.531613\n",
      "count=482, Actual=59.032264, Predicted=61.876047\n",
      "count=483, Actual=58.933785, Predicted=57.782537\n",
      "count=484, Actual=58.345752, Predicted=58.259180\n",
      "count=485, Actual=59.009024, Predicted=57.416246\n",
      "count=486, Actual=59.204306, Predicted=58.855690\n",
      "count=487, Actual=58.888721, Predicted=58.660702\n",
      "count=488, Actual=58.995673, Predicted=58.105892\n",
      "count=489, Actual=59.412940, Predicted=58.520713\n",
      "count=490, Actual=58.784208, Predicted=59.073443\n",
      "count=491, Actual=58.841345, Predicted=57.852126\n",
      "count=492, Actual=59.322298, Predicted=58.429946\n",
      "count=493, Actual=58.871388, Predicted=59.092645\n",
      "count=494, Actual=58.523193, Predicted=58.090415\n",
      "count=495, Actual=59.022889, Predicted=57.931266\n",
      "count=496, Actual=60.423638, Predicted=58.920307\n",
      "count=497, Actual=65.349113, Predicted=60.673175\n",
      "count=498, Actual=68.233293, Predicted=67.163309\n",
      "count=499, Actual=67.651555, Predicted=68.101722\n",
      "count=500, Actual=64.434328, Predicted=65.485678\n"
     ]
    }
   ],
   "source": [
    "count_1=1\n",
    "for timepoint in range(len(test_set)):\n",
    "#     print('I am in for loop')\n",
    "    ActualValue =  test_set[timepoint]\n",
    "    #forcast value\n",
    "    Prediction,save_model_1 = StartARIMAForecasting(Actual, 2,1,2) \n",
    "    print('count=%d, Actual=%f, Predicted=%f' % (count_1 ,ActualValue, Prediction))\n",
    "    count_1+=1\n",
    "    #add it in the list\n",
    "    Predictions.append(Prediction)\n",
    "    Actual.append(ActualValue)\n",
    "    "
   ]
  },
  {
   "cell_type": "code",
   "execution_count": 38,
   "metadata": {},
   "outputs": [
    {
     "name": "stdout",
     "output_type": "stream",
     "text": [
      "Actual type:  <class 'list'>  size:  4999\n",
      "Predictions type:  <class 'list'>  size:  500\n",
      "test_set type:  <class 'numpy.ndarray'>  size:  500\n"
     ]
    }
   ],
   "source": [
    "print('Actual type: ',type(Actual),' size: ',len(Actual))\n",
    "print('Predictions type: ',type(Predictions),' size: ',len(Predictions))\n",
    "print('test_set type: ',type(test_set),' size: ',len(test_set))"
   ]
  },
  {
   "cell_type": "code",
   "execution_count": 39,
   "metadata": {},
   "outputs": [
    {
     "name": "stdout",
     "output_type": "stream",
     "text": [
      "Test Mean Squared Error (smaller the better fit): 0.607\n",
      "size of prediction:  500\n",
      "size of actual:  4999\n"
     ]
    }
   ],
   "source": [
    "from sklearn.metrics import mean_squared_error\n",
    "\n",
    "#Print MSE to see how good the model is\n",
    "Error = mean_squared_error(test_set, Predictions)\n",
    "print('Test Mean Squared Error (smaller the better fit): %.3f' % Error)\n",
    "\n",
    "print(\"size of prediction: \",len(Predictions))\n",
    "print(\"size of actual: \",len(Actual))"
   ]
  },
  {
   "cell_type": "code",
   "execution_count": 55,
   "metadata": {},
   "outputs": [],
   "source": [
    "# loaded = ARIMAResults.load('model_22.pkl')\n",
    "# loaded=save_model_1"
   ]
  },
  {
   "cell_type": "code",
   "execution_count": 56,
   "metadata": {},
   "outputs": [],
   "source": [
    "# start_index = len(Actual)\n",
    "# end_index = start_index + len(test_set)-1\n",
    "# # forecast = model_fit.predict(start=start_index, end=end_index)\n",
    "# forecast = loaded.predict(start=start_index, end=end_index)"
   ]
  },
  {
   "cell_type": "code",
   "execution_count": 43,
   "metadata": {},
   "outputs": [
    {
     "data": {
      "image/png": "[encoded data removed]",
      "text/plain": [
       "<Figure size 432x288 with 1 Axes>"
      ]
     },
     "metadata": {},
     "output_type": "display_data"
    }
   ],
   "source": [
    "plt.plot(Predictions,color='green')\n",
    "plt.plot(test_set,color='red')\n",
    "plt.xticks( rotation=25)\n",
    "plt.show()"
   ]
  },
  {
   "cell_type": "code",
   "execution_count": null,
   "metadata": {},
   "outputs": [],
   "source": []
  }
 ],
 "metadata": {
  "kernelspec": {
   "display_name": "Python 3",
   "language": "python",
   "name": "python3"
  },
  "language_info": {
   "codemirror_mode": {
    "name": "ipython",
    "version": 3
   },
   "file_extension": ".py",
   "mimetype": "text/x-python",
   "name": "python",
   "nbconvert_exporter": "python",
   "pygments_lexer": "ipython3",
   "version": "3.6.5"
  }
 },
 "nbformat": 4,
 "nbformat_minor": 2
}
