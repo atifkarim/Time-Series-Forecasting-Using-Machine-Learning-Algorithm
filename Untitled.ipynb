{
 "cells": [
  {
   "cell_type": "code",
   "execution_count": 4,
   "metadata": {},
   "outputs": [
    {
     "name": "stdout",
     "output_type": "stream",
     "text": [
      "what is your name\n",
      "alex\n",
      "hi, alex\n",
      "what is your age\n",
      "16\n",
      "that is the same age of me\n"
     ]
    }
   ],
   "source": [
    "N = 'alex'\n",
    "A = 16\n",
    "print ('what is your name')\n",
    "name = input()\n",
    "if name == N:\n",
    "    print ('hi, alex')\n",
    "else:\n",
    "    print('who r u, stranger')\n",
    "    \n",
    "print ('what is your age')\n",
    "age = int(input())\n",
    "if age == A:\n",
    "    print ('that is the same age of me')\n",
    "\n",
    "elif age > A:\n",
    "    print ('you r elder than me, granni')\n",
    "else:\n",
    "    print (' you r younger than me, kiddo')"
   ]
  },
  {
   "cell_type": "code",
   "execution_count": 9,
   "metadata": {},
   "outputs": [
    {
     "name": "stdout",
     "output_type": "stream",
     "text": [
      "what is your name\n",
      "12\n",
      "who r u, stranger\n",
      "what is your age\n",
      "12\n",
      " you r younger than me, kiddo\n"
     ]
    }
   ],
   "source": [
    "N = 'alex'\n",
    "A = 16\n",
    "print ('what is your name')\n",
    "name = input()\n",
    "if name == N:\n",
    "    print ('hi, alex')\n",
    "else:\n",
    "    print('who r u, stranger')\n",
    "    \n",
    "print ('what is your age')\n",
    "age = int(input())\n",
    "if age == A:\n",
    "    print ('that is the same age of me')\n",
    "\n",
    "elif age > A:\n",
    "    print ('you r elder than me, granni')\n",
    "else:\n",
    "    print (' you r younger than me, kiddo')"
   ]
  },
  {
   "cell_type": "code",
   "execution_count": null,
   "metadata": {},
   "outputs": [],
   "source": []
  }
 ],
 "metadata": {
  "kernelspec": {
   "display_name": "Python 3",
   "language": "python",
   "name": "python3"
  },
  "language_info": {
   "codemirror_mode": {
    "name": "ipython",
    "version": 3
   },
   "file_extension": ".py",
   "mimetype": "text/x-python",
   "name": "python",
   "nbconvert_exporter": "python",
   "pygments_lexer": "ipython3",
   "version": "3.6.5"
  }
 },
 "nbformat": 4,
 "nbformat_minor": 2
}
