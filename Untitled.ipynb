{
 "cells": [
  {
   "cell_type": "code",
   "execution_count": 4,
   "metadata": {},
   "outputs": [
    {
     "name": "stdout",
     "output_type": "stream",
     "text": [
      "what is your name\n",
      "alex\n",
      "hi, alex\n",
      "what is your age\n",
      "16\n",
      "that is the same age of me\n"
     ]
    }
   ],
   "source": [
    "N = 'alex'\n",
    "A = 16\n",
    "print ('what is your name')\n",
    "name = input()\n",
    "if name == N:\n",
    "    print ('hi, alex')\n",
    "else:\n",
    "    print('who r u, stranger')\n",
    "    \n",
    "print ('what is your age')\n",
    "age = int(input())\n",
    "if age == A:\n",
    "    print ('that is the same age of me')\n",
    "\n",
    "elif age > A:\n",
    "    print ('you r elder than me, granni')\n",
    "else:\n",
    "    print (' you r younger than me, kiddo')"
   ]
  },
  {
   "cell_type": "code",
   "execution_count": 9,
   "metadata": {},
   "outputs": [
    {
     "name": "stdout",
     "output_type": "stream",
     "text": [
      "what is your name\n",
      "12\n",
      "who r u, stranger\n",
      "what is your age\n",
      "12\n",
      " you r younger than me, kiddo\n"
     ]
    }
   ],
   "source": [
    "N = 'alex'\n",
    "A = 16\n",
    "print ('what is your name')\n",
    "name = input()\n",
    "if name == N:\n",
    "    print ('hi, alex')\n",
    "else:\n",
    "    print('who r u, stranger')\n",
    "    \n",
    "print ('what is your age')\n",
    "age = int(input())\n",
    "if age == A:\n",
    "    print ('that is the same age of me')\n",
    "\n",
    "elif age > A:\n",
    "    print ('you r elder than me, granni')\n",
    "else:\n",
    "    print (' you r younger than me, kiddo')"
   ]
  },
  {
   "cell_type": "code",
   "execution_count": 6,
   "metadata": {},
   "outputs": [],
   "source": [
    "with open(\"test.txt\", \"a\") as myfile:\n",
    "    myfile.write(\"appended text\")\n",
    "    \n",
    "myfile.close()"
   ]
  },
  {
   "cell_type": "code",
   "execution_count": 14,
   "metadata": {},
   "outputs": [],
   "source": [
    "path = 'E:/University of Bremen MSc/masters_thesis/forecasting_sensor_data_Salzgitter_AG/data_prediction_of_PowerPlant/image_folder'"
   ]
  },
  {
   "cell_type": "code",
   "execution_count": 27,
   "metadata": {},
   "outputs": [],
   "source": [
    "file_name = 'myfile_1.txt'"
   ]
  },
  {
   "cell_type": "code",
   "execution_count": 29,
   "metadata": {},
   "outputs": [
    {
     "name": "stdout",
     "output_type": "stream",
     "text": [
      "E:/University of Bremen MSc/masters_thesis/forecasting_sensor_data_Salzgitter_AG/data_prediction_of_PowerPlant/image_folder/myfile_1.txt\n"
     ]
    }
   ],
   "source": [
    "file_path = path+'/'+file_name\n",
    "print(file_path)"
   ]
  },
  {
   "cell_type": "code",
   "execution_count": 30,
   "metadata": {},
   "outputs": [
    {
     "name": "stdout",
     "output_type": "stream",
     "text": [
      "True\n"
     ]
    }
   ],
   "source": [
    "import os\n",
    "\n",
    "print(os.path.isfile(file_path))"
   ]
  },
  {
   "cell_type": "code",
   "execution_count": 31,
   "metadata": {},
   "outputs": [],
   "source": [
    "os.remove(file_path)"
   ]
  },
  {
   "cell_type": "code",
   "execution_count": 33,
   "metadata": {},
   "outputs": [
    {
     "name": "stdout",
     "output_type": "stream",
     "text": [
      "<_io.TextIOWrapper name='E:/University of Bremen MSc/masters_thesis/forecasting_sensor_data_Salzgitter_AG/data_prediction_of_PowerPlant/image_folder/myfile_1.txt' mode='a' encoding='cp1252'>\n",
      "<_io.TextIOWrapper name='E:/University of Bremen MSc/masters_thesis/forecasting_sensor_data_Salzgitter_AG/data_prediction_of_PowerPlant/image_folder/myfile_1.txt' mode='a' encoding='cp1252'>\n",
      "<_io.TextIOWrapper name='E:/University of Bremen MSc/masters_thesis/forecasting_sensor_data_Salzgitter_AG/data_prediction_of_PowerPlant/image_folder/myfile_1.txt' mode='a' encoding='cp1252'>\n",
      "<_io.TextIOWrapper name='E:/University of Bremen MSc/masters_thesis/forecasting_sensor_data_Salzgitter_AG/data_prediction_of_PowerPlant/image_folder/myfile_1.txt' mode='a' encoding='cp1252'>\n",
      "<_io.TextIOWrapper name='E:/University of Bremen MSc/masters_thesis/forecasting_sensor_data_Salzgitter_AG/data_prediction_of_PowerPlant/image_folder/myfile_1.txt' mode='a' encoding='cp1252'>\n",
      "<_io.TextIOWrapper name='E:/University of Bremen MSc/masters_thesis/forecasting_sensor_data_Salzgitter_AG/data_prediction_of_PowerPlant/image_folder/myfile_1.txt' mode='a' encoding='cp1252'>\n",
      "<_io.TextIOWrapper name='E:/University of Bremen MSc/masters_thesis/forecasting_sensor_data_Salzgitter_AG/data_prediction_of_PowerPlant/image_folder/myfile_1.txt' mode='a' encoding='cp1252'>\n",
      "<_io.TextIOWrapper name='E:/University of Bremen MSc/masters_thesis/forecasting_sensor_data_Salzgitter_AG/data_prediction_of_PowerPlant/image_folder/myfile_1.txt' mode='a' encoding='cp1252'>\n"
     ]
    }
   ],
   "source": [
    "for i in range(8):\n",
    "#     f=open(path+'/'+file_name, 'a')\n",
    "    f=open(file_path, 'a')\n",
    "    print(f)\n",
    "    f.write('number is: '+str(i)+'\\n')\n",
    "    f.close()"
   ]
  },
  {
   "cell_type": "code",
   "execution_count": null,
   "metadata": {},
   "outputs": [],
   "source": []
  }
 ],
 "metadata": {
  "kernelspec": {
   "display_name": "Python 3",
   "language": "python",
   "name": "python3"
  },
  "language_info": {
   "codemirror_mode": {
    "name": "ipython",
    "version": 3
   },
   "file_extension": ".py",
   "mimetype": "text/x-python",
   "name": "python",
   "nbconvert_exporter": "python",
   "pygments_lexer": "ipython3",
   "version": "3.6.5"
  }
 },
 "nbformat": 4,
 "nbformat_minor": 2
}
