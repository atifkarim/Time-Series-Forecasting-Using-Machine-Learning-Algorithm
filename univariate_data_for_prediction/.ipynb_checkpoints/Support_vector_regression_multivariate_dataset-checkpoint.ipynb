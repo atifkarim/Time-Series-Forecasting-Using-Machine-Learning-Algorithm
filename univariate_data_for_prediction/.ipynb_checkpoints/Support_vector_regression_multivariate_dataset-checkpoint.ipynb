{
 "cells": [
  {
   "cell_type": "code",
   "execution_count": 1,
   "metadata": {},
   "outputs": [],
   "source": [
    "import numpy as np\n",
    "import matplotlib.pyplot as plt\n",
    "import pandas as pd\n",
    "import math\n",
    "import time\n",
    "import datetime\n",
    "%matplotlib inline\n",
    "from matplotlib.pylab import rcParams"
   ]
  },
  {
   "cell_type": "code",
   "execution_count": 2,
   "metadata": {},
   "outputs": [],
   "source": [
    "# test= pd.read_csv('/media/atif/BE0E05910E0543BD/University of Bremen MSc/masters_thesis/IAT_sebastian/dataset_26_april_3.csv')\n",
    "test=pd.read_csv('E:/University of Bremen MSc/masters_thesis/IAT_sebastian/dataset_26_april_3.csv')"
   ]
  },
  {
   "cell_type": "code",
   "execution_count": 3,
   "metadata": {},
   "outputs": [
    {
     "name": "stderr",
     "output_type": "stream",
     "text": [
      "C:\\Users\\atif\\Anaconda3\\lib\\site-packages\\ipykernel_launcher.py:2: FutureWarning: Method .as_matrix will be removed in a future version. Use .values instead.\n",
      "  \n"
     ]
    }
   ],
   "source": [
    "longTime=test.loc[0:,['longTime']]\n",
    "longTime=longTime.as_matrix()\n",
    "a=[]\n",
    "date_time_array=[]\n",
    "for k in longTime:\n",
    "    a=np.append(a,k)\n",
    "str_time=[]\n",
    "correct_longtime=[]\n",
    "datetime_time=[]\n",
    "count=0\n",
    "for b in a:\n",
    "    b=int(b) # make plain integer\n",
    "    str_b=str(b)\n",
    "    c=str_b[-3:]\n",
    "    new_str_b=str_b.replace(c, '',1)\n",
    "    new_str_b_time=int(new_str_b)\n",
    "    correct_longtime.append(new_str_b_time)\n",
    "    now_time=datetime.datetime.fromtimestamp(new_str_b_time)\n",
    "    convert_time=now_time.strftime('%Y-%m-%d %H:%M')\n",
    "    str_time.append(convert_time)\n",
    "# print(str_time)\n",
    "test_new = test.assign(stringTime=str_time,correct_longtime=correct_longtime) # here new column in the panda dataframe for string_time has added"
   ]
  },
  {
   "cell_type": "code",
   "execution_count": 4,
   "metadata": {},
   "outputs": [],
   "source": [
    "test_new['dateTime'] =  pd.to_datetime(test_new['stringTime'], format='%Y-%m-%d %H:%M')"
   ]
  },
  {
   "cell_type": "code",
   "execution_count": 5,
   "metadata": {},
   "outputs": [
    {
     "name": "stdout",
     "output_type": "stream",
     "text": [
      "(25000, 4223)\n"
     ]
    }
   ],
   "source": [
    "print(test_new.shape)  #ROWS, COLUMNS"
   ]
  },
  {
   "cell_type": "code",
   "execution_count": 6,
   "metadata": {},
   "outputs": [],
   "source": [
    "# making dateTime column as a index for the test_new panda dataframe\n",
    "test_new = test_new.set_index('dateTime')"
   ]
  },
  {
   "cell_type": "code",
   "execution_count": 7,
   "metadata": {},
   "outputs": [
    {
     "name": "stdout",
     "output_type": "stream",
     "text": [
      "8\n"
     ]
    }
   ],
   "source": [
    "# multivariate_column_label=['DEWIHOBT9_I0','AEDATZ_HO_V0','AEDAHO_T9_V2','AEWIHO_T9AV2','RWWIHOB_HWT0'\n",
    "#                            ,'RWWIHOB_MWT0']#rmse error 1.99\n",
    "\n",
    "# multivariate_column_label = ['DEWIHOBT9_I0','AEDATZ_HONP0','AEDATZK_ASP0','AEDATZ_HO_V0',\n",
    "#                              'AEDAHO_T9_V2','AEWIHO_T9AV2'] #rmse error 1.38\n",
    "\n",
    "multivariate_column_label = ['DEWIHOBT9_I0','AEDATZ_HONP0','AEDATZK_ASP0','AEDATZ_HO_V0','AEDAHO_T9_V2',\n",
    "                             'RWWIHOB_HWT0','RWWIHOB_MWT0','AEWIHO_T9AV2'] #rmse error 1.94\n",
    "size_column = len(multivariate_column_label)\n",
    "print(size_column)"
   ]
  },
  {
   "cell_type": "code",
   "execution_count": 8,
   "metadata": {},
   "outputs": [
    {
     "name": "stdout",
     "output_type": "stream",
     "text": [
      "8\n"
     ]
    }
   ],
   "source": [
    "size_column = len(multivariate_column_label)\n",
    "print(size_column)"
   ]
  },
  {
   "cell_type": "code",
   "execution_count": 9,
   "metadata": {},
   "outputs": [],
   "source": [
    "multivariate_data=test_new.iloc[2000:10000][multivariate_column_label]\n",
    "multivariate_data=multivariate_data.loc[::-1]"
   ]
  },
  {
   "cell_type": "code",
   "execution_count": 10,
   "metadata": {},
   "outputs": [
    {
     "data": {
      "text/html": [
       "<div>\n",
       "<style scoped>\n",
       "    .dataframe tbody tr th:only-of-type {\n",
       "        vertical-align: middle;\n",
       "    }\n",
       "\n",
       "    .dataframe tbody tr th {\n",
       "        vertical-align: top;\n",
       "    }\n",
       "\n",
       "    .dataframe thead th {\n",
       "        text-align: right;\n",
       "    }\n",
       "</style>\n",
       "<table border=\"1\" class=\"dataframe\">\n",
       "  <thead>\n",
       "    <tr style=\"text-align: right;\">\n",
       "      <th></th>\n",
       "      <th>DEWIHOBT9_I0</th>\n",
       "      <th>AEDATZ_HONP0</th>\n",
       "      <th>AEDATZK_ASP0</th>\n",
       "      <th>AEDATZ_HO_V0</th>\n",
       "      <th>AEDAHO_T9_V2</th>\n",
       "      <th>RWWIHOB_HWT0</th>\n",
       "      <th>RWWIHOB_MWT0</th>\n",
       "      <th>AEWIHO_T9AV2</th>\n",
       "    </tr>\n",
       "    <tr>\n",
       "      <th>dateTime</th>\n",
       "      <th></th>\n",
       "      <th></th>\n",
       "      <th></th>\n",
       "      <th></th>\n",
       "      <th></th>\n",
       "      <th></th>\n",
       "      <th></th>\n",
       "      <th></th>\n",
       "    </tr>\n",
       "  </thead>\n",
       "  <tbody>\n",
       "    <tr>\n",
       "      <th>2019-04-01 10:41:00</th>\n",
       "      <td>100.0</td>\n",
       "      <td>97.700539</td>\n",
       "      <td>97.882738</td>\n",
       "      <td>40.370434</td>\n",
       "      <td>71.079345</td>\n",
       "      <td>94.396188</td>\n",
       "      <td>95.197505</td>\n",
       "      <td>79.651755</td>\n",
       "    </tr>\n",
       "    <tr>\n",
       "      <th>2019-04-01 10:42:00</th>\n",
       "      <td>100.0</td>\n",
       "      <td>97.602208</td>\n",
       "      <td>97.759636</td>\n",
       "      <td>40.216788</td>\n",
       "      <td>70.706495</td>\n",
       "      <td>94.318615</td>\n",
       "      <td>95.151028</td>\n",
       "      <td>77.686548</td>\n",
       "    </tr>\n",
       "    <tr>\n",
       "      <th>2019-04-01 10:43:00</th>\n",
       "      <td>100.0</td>\n",
       "      <td>97.434917</td>\n",
       "      <td>97.576584</td>\n",
       "      <td>39.823313</td>\n",
       "      <td>70.289996</td>\n",
       "      <td>94.031510</td>\n",
       "      <td>94.982774</td>\n",
       "      <td>76.496477</td>\n",
       "    </tr>\n",
       "    <tr>\n",
       "      <th>2019-04-01 10:44:00</th>\n",
       "      <td>100.0</td>\n",
       "      <td>96.856201</td>\n",
       "      <td>97.025646</td>\n",
       "      <td>39.922763</td>\n",
       "      <td>69.994697</td>\n",
       "      <td>94.286623</td>\n",
       "      <td>95.170256</td>\n",
       "      <td>76.661633</td>\n",
       "    </tr>\n",
       "    <tr>\n",
       "      <th>2019-04-01 10:45:00</th>\n",
       "      <td>100.0</td>\n",
       "      <td>96.748572</td>\n",
       "      <td>96.909181</td>\n",
       "      <td>39.771485</td>\n",
       "      <td>70.138749</td>\n",
       "      <td>94.273834</td>\n",
       "      <td>95.158246</td>\n",
       "      <td>76.051026</td>\n",
       "    </tr>\n",
       "  </tbody>\n",
       "</table>\n",
       "</div>"
      ],
      "text/plain": [
       "                     DEWIHOBT9_I0  AEDATZ_HONP0  AEDATZK_ASP0  AEDATZ_HO_V0  \\\n",
       "dateTime                                                                      \n",
       "2019-04-01 10:41:00         100.0     97.700539     97.882738     40.370434   \n",
       "2019-04-01 10:42:00         100.0     97.602208     97.759636     40.216788   \n",
       "2019-04-01 10:43:00         100.0     97.434917     97.576584     39.823313   \n",
       "2019-04-01 10:44:00         100.0     96.856201     97.025646     39.922763   \n",
       "2019-04-01 10:45:00         100.0     96.748572     96.909181     39.771485   \n",
       "\n",
       "                     AEDAHO_T9_V2  RWWIHOB_HWT0  RWWIHOB_MWT0  AEWIHO_T9AV2  \n",
       "dateTime                                                                     \n",
       "2019-04-01 10:41:00     71.079345     94.396188     95.197505     79.651755  \n",
       "2019-04-01 10:42:00     70.706495     94.318615     95.151028     77.686548  \n",
       "2019-04-01 10:43:00     70.289996     94.031510     94.982774     76.496477  \n",
       "2019-04-01 10:44:00     69.994697     94.286623     95.170256     76.661633  \n",
       "2019-04-01 10:45:00     70.138749     94.273834     95.158246     76.051026  "
      ]
     },
     "execution_count": 10,
     "metadata": {},
     "output_type": "execute_result"
    }
   ],
   "source": [
    "multivariate_data.head()"
   ]
  },
  {
   "cell_type": "code",
   "execution_count": null,
   "metadata": {},
   "outputs": [],
   "source": [
    "ax = multivariate_data.plot(subplots=True, layout=(size_column,1))\n",
    "plt.rcParams['figure.figsize'] =(20,10)\n",
    "# plt.savefig('E:/University of Bremen MSc/masters_thesis/forecasting_sensor_data_Salzgitter_AG/images_from_training/multivariate_data_regression.png')\n",
    "plt.show()"
   ]
  },
  {
   "cell_type": "code",
   "execution_count": 11,
   "metadata": {},
   "outputs": [
    {
     "name": "stdout",
     "output_type": "stream",
     "text": [
      "size of zero_index:  5\n"
     ]
    }
   ],
   "source": [
    "zero_index=[]\n",
    "zero_index=np.array(zero_index)\n",
    "for index, value in multivariate_data.iterrows():\n",
    "    for i , v in enumerate(value):\n",
    "        if i == 0  and v == 0.0:\n",
    "#             print('index: ',index)\n",
    "            zero_index=np.append(zero_index,index)\n",
    "\n",
    "print('size of zero_index: ',zero_index.size)"
   ]
  },
  {
   "cell_type": "code",
   "execution_count": 12,
   "metadata": {},
   "outputs": [],
   "source": [
    "if zero_index.size > 0:\n",
    "    multivariate_data_modify = multivariate_data.drop(zero_index,axis=0) # axis= 0 means row indiated. 1 means column indicated\n",
    "else:\n",
    "    multivariate_data_modify = multivariate_data"
   ]
  },
  {
   "cell_type": "code",
   "execution_count": 13,
   "metadata": {},
   "outputs": [
    {
     "name": "stdout",
     "output_type": "stream",
     "text": [
      "(8000, 8)\n",
      "(7995, 8)\n"
     ]
    }
   ],
   "source": [
    "print(multivariate_data.shape)\n",
    "print(multivariate_data_modify.shape)"
   ]
  },
  {
   "cell_type": "code",
   "execution_count": null,
   "metadata": {},
   "outputs": [],
   "source": [
    "bx = multivariate_data_modify.plot(subplots=True, layout=(size_column,1))\n",
    "plt.rcParams['figure.figsize'] =(20,10)\n",
    "plt.legend(loc='upper left')\n",
    "plt.show()"
   ]
  },
  {
   "cell_type": "code",
   "execution_count": 14,
   "metadata": {},
   "outputs": [],
   "source": [
    "from numpy import nan\n",
    "multivariate_data_drop_zero= multivariate_data.replace(0,nan)\n",
    "multivariate_data_drop_zero=multivariate_data_drop_zero.dropna(how='any',axis=0)"
   ]
  },
  {
   "cell_type": "code",
   "execution_count": null,
   "metadata": {},
   "outputs": [],
   "source": [
    "cx = multivariate_data_drop_zero.plot(subplots=True, layout=(size_column,1))\n",
    "plt.rcParams['figure.figsize'] =(20,10)\n",
    "plt.show()"
   ]
  },
  {
   "cell_type": "code",
   "execution_count": 15,
   "metadata": {},
   "outputs": [],
   "source": [
    "multivariate_data_drop_zero_resample = multivariate_data_drop_zero.resample('1min').mean()"
   ]
  },
  {
   "cell_type": "code",
   "execution_count": 16,
   "metadata": {},
   "outputs": [
    {
     "name": "stdout",
     "output_type": "stream",
     "text": [
      "(7937, 8)\n",
      "(12951, 8)\n"
     ]
    }
   ],
   "source": [
    "print(multivariate_data_drop_zero.shape)\n",
    "print(multivariate_data_drop_zero_resample.shape)"
   ]
  },
  {
   "cell_type": "code",
   "execution_count": 17,
   "metadata": {},
   "outputs": [],
   "source": [
    "multivariate_data_drop_zero_interpolate = multivariate_data_drop_zero_resample.interpolate('linear')"
   ]
  },
  {
   "cell_type": "code",
   "execution_count": 18,
   "metadata": {},
   "outputs": [
    {
     "name": "stdout",
     "output_type": "stream",
     "text": [
      "(12951, 8)\n"
     ]
    }
   ],
   "source": [
    "print(multivariate_data_drop_zero_interpolate.shape)"
   ]
  },
  {
   "cell_type": "code",
   "execution_count": null,
   "metadata": {},
   "outputs": [],
   "source": [
    "dx = multivariate_data_drop_zero_interpolate.plot(subplots=True, layout=(size_column,1))\n",
    "plt.rcParams['figure.figsize'] =(20,40)\n",
    "plt.show()"
   ]
  },
  {
   "cell_type": "code",
   "execution_count": 19,
   "metadata": {},
   "outputs": [
    {
     "data": {
      "image/png": "[encoded data removed]",
      "text/plain": [
       "<Figure size 432x288 with 9 Axes>"
      ]
     },
     "metadata": {},
     "output_type": "display_data"
    }
   ],
   "source": [
    "hist = multivariate_data_drop_zero.hist(bins=3)"
   ]
  },
  {
   "cell_type": "code",
   "execution_count": 20,
   "metadata": {},
   "outputs": [
    {
     "name": "stdout",
     "output_type": "stream",
     "text": [
      "AEDATZ_HONP0\n",
      "AEDATZK_ASP0\n",
      "AEDATZ_HO_V0\n",
      "AEDAHO_T9_V2\n",
      "RWWIHOB_HWT0\n",
      "RWWIHOB_MWT0\n",
      "AEWIHO_T9AV2\n",
      "terminate\n"
     ]
    }
   ],
   "source": [
    "# print(len(multivariate_column_label))\n",
    "for idx, i in enumerate(multivariate_column_label):\n",
    "    now_idx = idx+1\n",
    "    \n",
    "    if now_idx == len(multivariate_column_label):\n",
    "        print('terminate')\n",
    "        break\n",
    "    print(multivariate_column_label[now_idx])\n",
    "    drop_consecutive_same_value_zero = multivariate_data_drop_zero.loc[multivariate_data_drop_zero[multivariate_column_label[now_idx]].shift() != multivariate_data_drop_zero[multivariate_column_label[now_idx]]]\n",
    "    drop_consecutive_same_value_interpolate = multivariate_data_drop_zero_interpolate.loc[multivariate_data_drop_zero_interpolate[multivariate_column_label[now_idx]].shift() != multivariate_data_drop_zero_interpolate[multivariate_column_label[now_idx]]]\n",
    "    \n"
   ]
  },
  {
   "cell_type": "code",
   "execution_count": 21,
   "metadata": {},
   "outputs": [
    {
     "name": "stdout",
     "output_type": "stream",
     "text": [
      "(7937, 8)\n",
      "(7930, 8)\n",
      "(12944, 8)\n"
     ]
    }
   ],
   "source": [
    "print(multivariate_data_drop_zero.shape)\n",
    "print(drop_consecutive_same_value_zero.shape)\n",
    "print(drop_consecutive_same_value_interpolate.shape)"
   ]
  },
  {
   "cell_type": "code",
   "execution_count": 22,
   "metadata": {},
   "outputs": [],
   "source": [
    "new_dataframe = drop_consecutive_same_value_zero.drop(['DEWIHOBT9_I0'], axis=1)\n",
    "# new_dataframe = drop_consecutive_same_value_interpolate.drop(['DEWIHOBT9_I0'], axis=1)"
   ]
  },
  {
   "cell_type": "code",
   "execution_count": null,
   "metadata": {},
   "outputs": [],
   "source": [
    "ex = new_dataframe.plot(subplots=True, layout=(size_column-1,1))\n",
    "plt.rcParams['figure.figsize'] =(20,10)\n",
    "plt.show()"
   ]
  },
  {
   "cell_type": "code",
   "execution_count": null,
   "metadata": {},
   "outputs": [],
   "source": []
  },
  {
   "cell_type": "code",
   "execution_count": 23,
   "metadata": {},
   "outputs": [
    {
     "name": "stdout",
     "output_type": "stream",
     "text": [
      "shape of multivariate_data:  (8000, 8)\n",
      "shape of multivariate_data_modify:  (7995, 8)\n",
      "shape of multivariate_data_drop_zero:  (7937, 8)\n",
      "shape of new_dataframe:  (7930, 7)\n"
     ]
    }
   ],
   "source": [
    "print('shape of multivariate_data: ',multivariate_data.shape)\n",
    "print('shape of multivariate_data_modify: ', multivariate_data_modify.shape)\n",
    "print('shape of multivariate_data_drop_zero: ',multivariate_data_drop_zero.shape)\n",
    "print('shape of new_dataframe: ', new_dataframe.shape)"
   ]
  },
  {
   "cell_type": "code",
   "execution_count": 24,
   "metadata": {},
   "outputs": [
    {
     "data": {
      "text/html": [
       "<div>\n",
       "<style scoped>\n",
       "    .dataframe tbody tr th:only-of-type {\n",
       "        vertical-align: middle;\n",
       "    }\n",
       "\n",
       "    .dataframe tbody tr th {\n",
       "        vertical-align: top;\n",
       "    }\n",
       "\n",
       "    .dataframe thead th {\n",
       "        text-align: right;\n",
       "    }\n",
       "</style>\n",
       "<table border=\"1\" class=\"dataframe\">\n",
       "  <thead>\n",
       "    <tr style=\"text-align: right;\">\n",
       "      <th></th>\n",
       "      <th>DEWIHOBT9_I0</th>\n",
       "      <th>AEDATZ_HONP0</th>\n",
       "      <th>AEDATZK_ASP0</th>\n",
       "      <th>AEDATZ_HO_V0</th>\n",
       "      <th>AEDAHO_T9_V2</th>\n",
       "      <th>RWWIHOB_HWT0</th>\n",
       "      <th>RWWIHOB_MWT0</th>\n",
       "      <th>AEWIHO_T9AV2</th>\n",
       "    </tr>\n",
       "    <tr>\n",
       "      <th>dateTime</th>\n",
       "      <th></th>\n",
       "      <th></th>\n",
       "      <th></th>\n",
       "      <th></th>\n",
       "      <th></th>\n",
       "      <th></th>\n",
       "      <th></th>\n",
       "      <th></th>\n",
       "    </tr>\n",
       "  </thead>\n",
       "  <tbody>\n",
       "    <tr>\n",
       "      <th>2019-04-01 10:41:00</th>\n",
       "      <td>100.0</td>\n",
       "      <td>97.700539</td>\n",
       "      <td>97.882738</td>\n",
       "      <td>40.370434</td>\n",
       "      <td>71.079345</td>\n",
       "      <td>94.396188</td>\n",
       "      <td>95.197505</td>\n",
       "      <td>79.651755</td>\n",
       "    </tr>\n",
       "    <tr>\n",
       "      <th>2019-04-01 10:42:00</th>\n",
       "      <td>100.0</td>\n",
       "      <td>97.602208</td>\n",
       "      <td>97.759636</td>\n",
       "      <td>40.216788</td>\n",
       "      <td>70.706495</td>\n",
       "      <td>94.318615</td>\n",
       "      <td>95.151028</td>\n",
       "      <td>77.686548</td>\n",
       "    </tr>\n",
       "    <tr>\n",
       "      <th>2019-04-01 10:43:00</th>\n",
       "      <td>100.0</td>\n",
       "      <td>97.434917</td>\n",
       "      <td>97.576584</td>\n",
       "      <td>39.823313</td>\n",
       "      <td>70.289996</td>\n",
       "      <td>94.031510</td>\n",
       "      <td>94.982774</td>\n",
       "      <td>76.496477</td>\n",
       "    </tr>\n",
       "    <tr>\n",
       "      <th>2019-04-01 10:44:00</th>\n",
       "      <td>100.0</td>\n",
       "      <td>96.856201</td>\n",
       "      <td>97.025646</td>\n",
       "      <td>39.922763</td>\n",
       "      <td>69.994697</td>\n",
       "      <td>94.286623</td>\n",
       "      <td>95.170256</td>\n",
       "      <td>76.661633</td>\n",
       "    </tr>\n",
       "    <tr>\n",
       "      <th>2019-04-01 10:45:00</th>\n",
       "      <td>100.0</td>\n",
       "      <td>96.748572</td>\n",
       "      <td>96.909181</td>\n",
       "      <td>39.771485</td>\n",
       "      <td>70.138749</td>\n",
       "      <td>94.273834</td>\n",
       "      <td>95.158246</td>\n",
       "      <td>76.051026</td>\n",
       "    </tr>\n",
       "  </tbody>\n",
       "</table>\n",
       "</div>"
      ],
      "text/plain": [
       "                     DEWIHOBT9_I0  AEDATZ_HONP0  AEDATZK_ASP0  AEDATZ_HO_V0  \\\n",
       "dateTime                                                                      \n",
       "2019-04-01 10:41:00         100.0     97.700539     97.882738     40.370434   \n",
       "2019-04-01 10:42:00         100.0     97.602208     97.759636     40.216788   \n",
       "2019-04-01 10:43:00         100.0     97.434917     97.576584     39.823313   \n",
       "2019-04-01 10:44:00         100.0     96.856201     97.025646     39.922763   \n",
       "2019-04-01 10:45:00         100.0     96.748572     96.909181     39.771485   \n",
       "\n",
       "                     AEDAHO_T9_V2  RWWIHOB_HWT0  RWWIHOB_MWT0  AEWIHO_T9AV2  \n",
       "dateTime                                                                     \n",
       "2019-04-01 10:41:00     71.079345     94.396188     95.197505     79.651755  \n",
       "2019-04-01 10:42:00     70.706495     94.318615     95.151028     77.686548  \n",
       "2019-04-01 10:43:00     70.289996     94.031510     94.982774     76.496477  \n",
       "2019-04-01 10:44:00     69.994697     94.286623     95.170256     76.661633  \n",
       "2019-04-01 10:45:00     70.138749     94.273834     95.158246     76.051026  "
      ]
     },
     "execution_count": 24,
     "metadata": {},
     "output_type": "execute_result"
    }
   ],
   "source": [
    "multivariate_data_drop_zero.head()"
   ]
  },
  {
   "cell_type": "code",
   "execution_count": 25,
   "metadata": {},
   "outputs": [
    {
     "data": {
      "text/html": [
       "<div>\n",
       "<style scoped>\n",
       "    .dataframe tbody tr th:only-of-type {\n",
       "        vertical-align: middle;\n",
       "    }\n",
       "\n",
       "    .dataframe tbody tr th {\n",
       "        vertical-align: top;\n",
       "    }\n",
       "\n",
       "    .dataframe thead th {\n",
       "        text-align: right;\n",
       "    }\n",
       "</style>\n",
       "<table border=\"1\" class=\"dataframe\">\n",
       "  <thead>\n",
       "    <tr style=\"text-align: right;\">\n",
       "      <th></th>\n",
       "      <th>AEDATZ_HONP0</th>\n",
       "      <th>AEDATZK_ASP0</th>\n",
       "      <th>AEDATZ_HO_V0</th>\n",
       "      <th>AEDAHO_T9_V2</th>\n",
       "      <th>RWWIHOB_HWT0</th>\n",
       "      <th>RWWIHOB_MWT0</th>\n",
       "      <th>AEWIHO_T9AV2</th>\n",
       "    </tr>\n",
       "  </thead>\n",
       "  <tbody>\n",
       "    <tr>\n",
       "      <th>AEDATZ_HONP0</th>\n",
       "      <td>1.000000</td>\n",
       "      <td>0.986607</td>\n",
       "      <td>-0.375157</td>\n",
       "      <td>-0.161240</td>\n",
       "      <td>-0.052884</td>\n",
       "      <td>-0.066476</td>\n",
       "      <td>-0.042117</td>\n",
       "    </tr>\n",
       "    <tr>\n",
       "      <th>AEDATZK_ASP0</th>\n",
       "      <td>0.986607</td>\n",
       "      <td>1.000000</td>\n",
       "      <td>-0.303132</td>\n",
       "      <td>-0.108016</td>\n",
       "      <td>-0.045979</td>\n",
       "      <td>-0.045416</td>\n",
       "      <td>0.018198</td>\n",
       "    </tr>\n",
       "    <tr>\n",
       "      <th>AEDATZ_HO_V0</th>\n",
       "      <td>-0.375157</td>\n",
       "      <td>-0.303132</td>\n",
       "      <td>1.000000</td>\n",
       "      <td>0.612193</td>\n",
       "      <td>0.142894</td>\n",
       "      <td>0.269080</td>\n",
       "      <td>0.395302</td>\n",
       "    </tr>\n",
       "    <tr>\n",
       "      <th>AEDAHO_T9_V2</th>\n",
       "      <td>-0.161240</td>\n",
       "      <td>-0.108016</td>\n",
       "      <td>0.612193</td>\n",
       "      <td>1.000000</td>\n",
       "      <td>0.149537</td>\n",
       "      <td>0.359298</td>\n",
       "      <td>0.768550</td>\n",
       "    </tr>\n",
       "    <tr>\n",
       "      <th>RWWIHOB_HWT0</th>\n",
       "      <td>-0.052884</td>\n",
       "      <td>-0.045979</td>\n",
       "      <td>0.142894</td>\n",
       "      <td>0.149537</td>\n",
       "      <td>1.000000</td>\n",
       "      <td>0.246607</td>\n",
       "      <td>-0.005621</td>\n",
       "    </tr>\n",
       "    <tr>\n",
       "      <th>RWWIHOB_MWT0</th>\n",
       "      <td>-0.066476</td>\n",
       "      <td>-0.045416</td>\n",
       "      <td>0.269080</td>\n",
       "      <td>0.359298</td>\n",
       "      <td>0.246607</td>\n",
       "      <td>1.000000</td>\n",
       "      <td>0.104084</td>\n",
       "    </tr>\n",
       "    <tr>\n",
       "      <th>AEWIHO_T9AV2</th>\n",
       "      <td>-0.042117</td>\n",
       "      <td>0.018198</td>\n",
       "      <td>0.395302</td>\n",
       "      <td>0.768550</td>\n",
       "      <td>-0.005621</td>\n",
       "      <td>0.104084</td>\n",
       "      <td>1.000000</td>\n",
       "    </tr>\n",
       "  </tbody>\n",
       "</table>\n",
       "</div>"
      ],
      "text/plain": [
       "              AEDATZ_HONP0  AEDATZK_ASP0  AEDATZ_HO_V0  AEDAHO_T9_V2  \\\n",
       "AEDATZ_HONP0      1.000000      0.986607     -0.375157     -0.161240   \n",
       "AEDATZK_ASP0      0.986607      1.000000     -0.303132     -0.108016   \n",
       "AEDATZ_HO_V0     -0.375157     -0.303132      1.000000      0.612193   \n",
       "AEDAHO_T9_V2     -0.161240     -0.108016      0.612193      1.000000   \n",
       "RWWIHOB_HWT0     -0.052884     -0.045979      0.142894      0.149537   \n",
       "RWWIHOB_MWT0     -0.066476     -0.045416      0.269080      0.359298   \n",
       "AEWIHO_T9AV2     -0.042117      0.018198      0.395302      0.768550   \n",
       "\n",
       "              RWWIHOB_HWT0  RWWIHOB_MWT0  AEWIHO_T9AV2  \n",
       "AEDATZ_HONP0     -0.052884     -0.066476     -0.042117  \n",
       "AEDATZK_ASP0     -0.045979     -0.045416      0.018198  \n",
       "AEDATZ_HO_V0      0.142894      0.269080      0.395302  \n",
       "AEDAHO_T9_V2      0.149537      0.359298      0.768550  \n",
       "RWWIHOB_HWT0      1.000000      0.246607     -0.005621  \n",
       "RWWIHOB_MWT0      0.246607      1.000000      0.104084  \n",
       "AEWIHO_T9AV2     -0.005621      0.104084      1.000000  "
      ]
     },
     "execution_count": 25,
     "metadata": {},
     "output_type": "execute_result"
    }
   ],
   "source": [
    "new_dataframe.corr()"
   ]
  },
  {
   "cell_type": "code",
   "execution_count": 26,
   "metadata": {},
   "outputs": [],
   "source": [
    "new_dataframe_1 = new_dataframe.drop(['RWWIHOB_HWT0','RWWIHOB_MWT0'], axis=1)"
   ]
  },
  {
   "cell_type": "code",
   "execution_count": null,
   "metadata": {},
   "outputs": [],
   "source": []
  },
  {
   "cell_type": "code",
   "execution_count": 27,
   "metadata": {},
   "outputs": [],
   "source": [
    "# print('multivariate_data_drop_zero head: \\n',multivariate_data_drop_zero.head())\n",
    "dataset=np.array(new_dataframe_1)"
   ]
  },
  {
   "cell_type": "code",
   "execution_count": 28,
   "metadata": {},
   "outputs": [
    {
     "name": "stdout",
     "output_type": "stream",
     "text": [
      "Number of Elements for training:  7137\n",
      "dataset length:  7930\n",
      "train_input shape:  (7137, 4)\n",
      "train_output shape:  (7137,)\n",
      "test_input shape:  (793, 4)\n",
      "test_output shape:  (793,)\n"
     ]
    }
   ],
   "source": [
    "NumberOfElements=int(len(dataset)*0.9)\n",
    "print('Number of Elements for training: ',NumberOfElements)\n",
    "print('dataset length: ',len(dataset))\n",
    "\n",
    "train_input=dataset[0:NumberOfElements,0:-1]\n",
    "print('train_input shape: ',train_input.shape)\n",
    "train_output=dataset[0:NumberOfElements,-1]\n",
    "print('train_output shape: ',train_output.shape)\n",
    "\n",
    "test_input=dataset[NumberOfElements:len(dataset),0:-1]\n",
    "print('test_input shape: ',test_input.shape)\n",
    "test_output=dataset[NumberOfElements:len(dataset),-1]\n",
    "print('test_output shape: ',test_output.shape)\n",
    "# print('train data size: ',train_data.shape,'\\ntest data size: ',test_data.shape)"
   ]
  },
  {
   "cell_type": "markdown",
   "metadata": {},
   "source": [
    "# Support Regression"
   ]
  },
  {
   "cell_type": "code",
   "execution_count": 29,
   "metadata": {},
   "outputs": [],
   "source": [
    "import seaborn as sn\n",
    "from sklearn import svm\n",
    "# from sklearn import preprocessing, cross_validation, neighbors, svm\n",
    "from sklearn.svm import SVR\n",
    "from sklearn.model_selection import RandomizedSearchCV"
   ]
  },
  {
   "cell_type": "code",
   "execution_count": 30,
   "metadata": {},
   "outputs": [
    {
     "data": {
      "text/plain": [
       "SVR(C=1.0, cache_size=200, coef0=0.0, degree=3, epsilon=0.1, gamma='auto',\n",
       "  kernel='rbf', max_iter=-1, shrinking=True, tol=0.001, verbose=False)"
      ]
     },
     "execution_count": 30,
     "metadata": {},
     "output_type": "execute_result"
    }
   ],
   "source": [
    "SVR_regression = svm.SVR()\n",
    "SVR_regression.fit(train_input, train_output)"
   ]
  },
  {
   "cell_type": "code",
   "execution_count": 41,
   "metadata": {},
   "outputs": [],
   "source": [
    "predicted_output = SVR_regression.predict(test_input)"
   ]
  },
  {
   "cell_type": "code",
   "execution_count": 43,
   "metadata": {},
   "outputs": [],
   "source": [
    "# %matplotlib qt\n",
    "plt.plot(predicted_output, color = 'blue')\n",
    "plt.plot(test_output, color = 'red')\n",
    "plt.show()"
   ]
  },
  {
   "cell_type": "code",
   "execution_count": 42,
   "metadata": {},
   "outputs": [
    {
     "name": "stdout",
     "output_type": "stream",
     "text": [
      "Intercept: [77.7374711]\n",
      "r_2 statistic: -3.30\n",
      "Mean_absolute_error: 4.76\n",
      "Mean squared error: 32.12\n",
      "RMSE:  5.6674578014370125\n"
     ]
    }
   ],
   "source": [
    "from sklearn import linear_model\n",
    "from sklearn.metrics import mean_squared_error, r2_score, mean_absolute_error\n",
    "import math\n",
    "# print('Slope:' ,SVR_regression.coef_)\n",
    "print('Intercept:', SVR_regression.intercept_)\n",
    "print('r_2 statistic: %.2f' % r2_score(test_output,predicted_output))\n",
    "print(\"Mean_absolute_error: %.2f\" % mean_absolute_error(test_output,predicted_output))\n",
    "print(\"Mean squared error: %.2f\" % mean_squared_error(test_output,predicted_output))\n",
    "RMSE=math.sqrt(mean_squared_error(test_output,predicted_output))\n",
    "print('RMSE: ',RMSE)"
   ]
  },
  {
   "cell_type": "code",
   "execution_count": null,
   "metadata": {},
   "outputs": [],
   "source": []
  },
  {
   "cell_type": "code",
   "execution_count": null,
   "metadata": {},
   "outputs": [],
   "source": []
  },
  {
   "cell_type": "code",
   "execution_count": null,
   "metadata": {},
   "outputs": [],
   "source": []
  },
  {
   "cell_type": "code",
   "execution_count": null,
   "metadata": {},
   "outputs": [],
   "source": [
    "clf_SVR = svm.SVR()\n",
    "print('Default Parameters currently in use:\\n')\n",
    "print(clf_SVR.get_params())"
   ]
  },
  {
   "cell_type": "code",
   "execution_count": null,
   "metadata": {},
   "outputs": [],
   "source": [
    "C = [0.001, 0.01, 0.1, 1, 5, 10, 50, 100, 500, 1000]\n",
    "kernel = ['linear', 'poly', 'rbf', 'sigmoid']\n",
    "degree = [2, 3, 4, 5]\n",
    "gamma = [0.0001, 0.001, 0.01, 0.1, 1]"
   ]
  },
  {
   "cell_type": "code",
   "execution_count": null,
   "metadata": {},
   "outputs": [],
   "source": [
    "param_SVR = {'C':C, 'kernel':kernel, 'degree':degree, 'gamma':gamma}"
   ]
  },
  {
   "cell_type": "code",
   "execution_count": null,
   "metadata": {},
   "outputs": [],
   "source": [
    "no_iter = 10\n",
    "no_cv = 2\n",
    "no_verbose = 1\n",
    "no_process = -1"
   ]
  },
  {
   "cell_type": "code",
   "execution_count": null,
   "metadata": {},
   "outputs": [],
   "source": [
    "MODEL_SVR = RandomizedSearchCV(estimator = clf_SVR, param_distributions = param_SVR, n_iter=no_iter, cv=no_cv, verbose=no_verbose, random_state=42, n_jobs=no_process)\n",
    "\n",
    "# Fit the random search model\n",
    "# start_training_SVM = time.time()\n",
    "MODEL_SVR.fit(train_input,train_output)\n",
    "# end_training_SVM = time.time()"
   ]
  },
  {
   "cell_type": "code",
   "execution_count": null,
   "metadata": {},
   "outputs": [],
   "source": []
  }
 ],
 "metadata": {
  "kernelspec": {
   "display_name": "Python 3",
   "language": "python",
   "name": "python3"
  },
  "language_info": {
   "codemirror_mode": {
    "name": "ipython",
    "version": 3
   },
   "file_extension": ".py",
   "mimetype": "text/x-python",
   "name": "python",
   "nbconvert_exporter": "python",
   "pygments_lexer": "ipython3",
   "version": "3.6.5"
  }
 },
 "nbformat": 4,
 "nbformat_minor": 2
}
