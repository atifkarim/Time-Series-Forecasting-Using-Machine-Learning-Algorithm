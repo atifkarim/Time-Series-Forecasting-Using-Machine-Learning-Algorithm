{
 "cells": [
  {
   "cell_type": "code",
   "execution_count": null,
   "metadata": {},
   "outputs": [],
   "source": [
    "import numpy as np\n",
    "import matplotlib.pyplot as plt\n",
    "from sklearn import linear_model\n",
    "%matplotlib inline"
   ]
  },
  {
   "cell_type": "code",
   "execution_count": null,
   "metadata": {},
   "outputs": [],
   "source": [
    "# multivariate = [[1,2,4,2],\n",
    "#                 [2,3,6,3],\n",
    "#                 [3,4,5,4]]\n",
    "\n",
    "multivariate = [[1,2,7,2],[3,4,2,3],[5,2,4,7]]\n",
    "univariate = [[4,2],[6,3],[5,4]]\n",
    "# ,[4,5,8,9],[5,7,9,10]"
   ]
  },
  {
   "cell_type": "code",
   "execution_count": null,
   "metadata": {},
   "outputs": [],
   "source": [
    "multivariate_array = np.array(multivariate)\n",
    "univariate_array = np.array(univariate)"
   ]
  },
  {
   "cell_type": "code",
   "execution_count": null,
   "metadata": {},
   "outputs": [],
   "source": [
    "multivariate_array"
   ]
  },
  {
   "cell_type": "code",
   "execution_count": null,
   "metadata": {},
   "outputs": [],
   "source": [
    "multivariate_train = multivariate_array[:,:-1]\n",
    "multivariate_test = multivariate_array[:,-1]\n",
    "\n",
    "univariate_train = univariate_array[:,:-1]\n",
    "univariate_test = univariate_array[:,-1]"
   ]
  },
  {
   "cell_type": "code",
   "execution_count": null,
   "metadata": {
    "scrolled": true
   },
   "outputs": [],
   "source": [
    "print(multivariate_test.shape)\n",
    "test_1 = np.reshape(multivariate_test,(-1,1))\n",
    "print(test_1.shape)\n",
    "print(test_1,'\\n')\n",
    "\n",
    "print(univariate_test.shape)\n",
    "test_2 = np.reshape(univariate_test,(-1,1))\n",
    "print(test_2.shape)\n",
    "print(test_2)"
   ]
  },
  {
   "cell_type": "code",
   "execution_count": null,
   "metadata": {},
   "outputs": [],
   "source": [
    "# test_ip = A[5:,:-1]\n",
    "# test_op = A[5:,-1]\n",
    "\n",
    "# print(test_ip)\n",
    "# print(test_op)"
   ]
  },
  {
   "cell_type": "code",
   "execution_count": null,
   "metadata": {
    "scrolled": true
   },
   "outputs": [],
   "source": [
    "plt.plot(multivariate_array)\n",
    "plt.show()"
   ]
  },
  {
   "cell_type": "code",
   "execution_count": null,
   "metadata": {},
   "outputs": [],
   "source": [
    "%matplotlib inline\n",
    "plt.plot(multivariate_train)\n",
    "plt.show()"
   ]
  },
  {
   "cell_type": "code",
   "execution_count": null,
   "metadata": {},
   "outputs": [],
   "source": [
    "# %matplotlib notebook\n",
    "plt.plot(multivariate_test)\n",
    "plt.show()"
   ]
  },
  {
   "cell_type": "code",
   "execution_count": null,
   "metadata": {},
   "outputs": [],
   "source": []
  },
  {
   "cell_type": "code",
   "execution_count": null,
   "metadata": {},
   "outputs": [],
   "source": []
  },
  {
   "cell_type": "code",
   "execution_count": null,
   "metadata": {},
   "outputs": [],
   "source": [
    "from sklearn import metrics\n",
    "from sklearn.linear_model import LinearRegression"
   ]
  },
  {
   "cell_type": "code",
   "execution_count": null,
   "metadata": {},
   "outputs": [],
   "source": [
    "my_reg = LinearRegression(fit_intercept=True, normalize=False)\n",
    "\n",
    "my_reg.fit(univariate_train, test_2)"
   ]
  },
  {
   "cell_type": "code",
   "execution_count": null,
   "metadata": {
    "scrolled": true
   },
   "outputs": [],
   "source": [
    "print('Slope:' ,my_reg.coef_)\n",
    "print('Intercept:', my_reg.intercept_)"
   ]
  },
  {
   "cell_type": "code",
   "execution_count": null,
   "metadata": {},
   "outputs": [],
   "source": [
    "my_reg_mul = LinearRegression(fit_intercept=True, normalize=False)\n",
    "my_reg_mul.fit(multivariate_train, test_1)"
   ]
  },
  {
   "cell_type": "code",
   "execution_count": null,
   "metadata": {},
   "outputs": [],
   "source": [
    "print('Slope:' ,my_reg_mul.coef_)\n",
    "print('Intercept:', my_reg_mul.intercept_)"
   ]
  },
  {
   "cell_type": "code",
   "execution_count": null,
   "metadata": {},
   "outputs": [],
   "source": [
    "import numpy as np\n",
    "new_1 = [[0.94, 4.22, 1.58, 8.23],\n",
    "            [1.13, 3.48, 1.28, 8.26],\n",
    "            [0.61 ,2.20, 0.64, 9.33],\n",
    "            [1.17, 2.20, 0.08, 8.92],\n",
    "            [ 0.93, 2.25, 0.38, 8.89],\n",
    "            [1.94, 2.45, 1.45, 8.34],\n",
    "            [2.12, 2.62, 2.31, 8.51],\n",
    "            [1.03, 2.97, 3.60, 9.15],\n",
    "            [0.67, 2.90, 2.59, 9.40],\n",
    "            [0.78, 2.64, 1.62, 9.01],\n",
    "            [1.10, 2.64 ,3.16, 8.77 ],\n",
    "            [1.78, 2.39, 0.23, 8.11],\n",
    "            [1.54, 2.76, 0.76, 8.00],\n",
    "            [1.77, 2.23,1.42, 8.68],\n",
    "            [2.22, 3.35, 1.86, 8.11]]"
   ]
  },
  {
   "cell_type": "code",
   "execution_count": null,
   "metadata": {},
   "outputs": [],
   "source": [
    "new_1 = np.array(new_1)"
   ]
  },
  {
   "cell_type": "code",
   "execution_count": null,
   "metadata": {},
   "outputs": [],
   "source": [
    "x_1 = new_1[:,0]\n",
    "x_2 = new_1[:,1]\n",
    "x_3 = new_1[:,2]\n",
    "y = new_1[:,3]"
   ]
  },
  {
   "cell_type": "code",
   "execution_count": null,
   "metadata": {},
   "outputs": [],
   "source": [
    "x_1_sum = x_1.sum()\n",
    "x_2_sum = x_2.sum()\n",
    "x_3_sum = x_3.sum()\n",
    "\n",
    "y_sum = y.sum()\n",
    "\n",
    "n = 15"
   ]
  },
  {
   "cell_type": "code",
   "execution_count": null,
   "metadata": {},
   "outputs": [],
   "source": [
    "x_1_mul_y = x_1*y\n",
    "print(x_1_mul_y)\n",
    "x_1_mul_y_sum = x_1_mul_y.sum()\n",
    "print(x_1_mul_y_sum)\n",
    "\n",
    "sum_of_x_1_y_result = x_1_mul_y_sum - ((x_1_sum*y_sum)/n)\n",
    "print(sum_of_x_1_y_result)"
   ]
  },
  {
   "cell_type": "code",
   "execution_count": null,
   "metadata": {},
   "outputs": [],
   "source": []
  },
  {
   "cell_type": "code",
   "execution_count": null,
   "metadata": {},
   "outputs": [],
   "source": []
  },
  {
   "cell_type": "code",
   "execution_count": null,
   "metadata": {},
   "outputs": [],
   "source": [
    "new_train = new_1[:,:-1]\n",
    "new_test = new_1[:,-1]\n",
    "\n",
    "new_1_reg = LinearRegression(fit_intercept=True, normalize=False)\n",
    "new_1_reg.fit(new_train, new_test)\n"
   ]
  },
  {
   "cell_type": "code",
   "execution_count": null,
   "metadata": {},
   "outputs": [],
   "source": [
    "print('Slope:' ,new_1_reg.coef_)\n",
    "print('Intercept:', new_1_reg.intercept_)"
   ]
  },
  {
   "cell_type": "code",
   "execution_count": null,
   "metadata": {},
   "outputs": [],
   "source": []
  },
  {
   "cell_type": "code",
   "execution_count": null,
   "metadata": {},
   "outputs": [],
   "source": []
  },
  {
   "cell_type": "code",
   "execution_count": null,
   "metadata": {},
   "outputs": [],
   "source": []
  },
  {
   "cell_type": "markdown",
   "metadata": {},
   "source": [
    "# Please STOP !!! Till above line enough to check the intercept and the slope and to cross check it with your manual calculation"
   ]
  },
  {
   "cell_type": "code",
   "execution_count": null,
   "metadata": {},
   "outputs": [],
   "source": []
  },
  {
   "cell_type": "code",
   "execution_count": null,
   "metadata": {},
   "outputs": [],
   "source": [
    "pred_y_linear_regression = my_reg.predict(univariate_train)"
   ]
  },
  {
   "cell_type": "code",
   "execution_count": null,
   "metadata": {},
   "outputs": [],
   "source": [
    "pred_y_linear_regression"
   ]
  },
  {
   "cell_type": "code",
   "execution_count": null,
   "metadata": {
    "scrolled": true
   },
   "outputs": [],
   "source": [
    "plt.scatter(univariate_train,test_2, color = 'green')\n",
    "plt.plot(univariate_train,pred_y_linear_regression, color = 'red')\n",
    "plt.show()"
   ]
  },
  {
   "cell_type": "code",
   "execution_count": null,
   "metadata": {},
   "outputs": [],
   "source": [
    "my_SGD = linear_model.SGDRegressor(max_iter=1000, tol=1e-3, loss='huber')\n",
    "my_SGD.fit(univariate_train, test_2)"
   ]
  },
  {
   "cell_type": "code",
   "execution_count": null,
   "metadata": {},
   "outputs": [],
   "source": [
    "pred_y_SGD = my_SGD.predict(univariate_train)"
   ]
  },
  {
   "cell_type": "code",
   "execution_count": null,
   "metadata": {},
   "outputs": [],
   "source": [
    "print('Slope:' ,my_SGD.coef_)\n",
    "print('Intercept:', my_SGD.intercept_)"
   ]
  },
  {
   "cell_type": "markdown",
   "metadata": {},
   "source": [
    "# Break DOWN Gradient Descent CODE"
   ]
  },
  {
   "cell_type": "code",
   "execution_count": null,
   "metadata": {},
   "outputs": [],
   "source": [
    "# Building the model\n",
    "m = 0\n",
    "c = 0\n",
    "\n",
    "L = 0.0001  # The learning Rate\n",
    "epochs = 1000  # The number of iterations to perform gradient descent\n",
    "\n",
    "n = float(len(univariate_train)) # Number of elements in X\n",
    "\n",
    "# Performing Gradient Descent \n",
    "for i in range(epochs): \n",
    "    Y_pred = m*univariate_train + c  # The current predicted value of Y\n",
    "#     print(Y_pred)\n",
    "    D_m = (-2/n) * sum(univariate_train * (test_2 - Y_pred))  # Derivative wrt m\n",
    "    D_c = (-2/n) * sum(test_2 - Y_pred)  # Derivative wrt c\n",
    "    m = m - L * D_m  # Update m\n",
    "    c = c - L * D_c  # Update c\n",
    "    \n",
    "print (m, c)"
   ]
  },
  {
   "cell_type": "code",
   "execution_count": null,
   "metadata": {},
   "outputs": [],
   "source": [
    "# Making predictions\n",
    "Y_pred = m*univariate_train + c\n",
    "\n",
    "# plt.scatter(train, test_1)\n",
    "plt.plot([min(univariate_train), max(univariate_train)], [min(Y_pred), max(Y_pred)], color='red')  # regression line\n",
    "plt.show()"
   ]
  },
  {
   "cell_type": "markdown",
   "metadata": {},
   "source": [
    "# multivariate SGD"
   ]
  },
  {
   "cell_type": "code",
   "execution_count": null,
   "metadata": {},
   "outputs": [],
   "source": [
    "my_SGD_multivariate = linear_model.SGDRegressor(max_iter=1000, tol=1e-3, loss='huber')\n",
    "my_SGD_multivariate.fit(multivariate_train, test_1)"
   ]
  },
  {
   "cell_type": "code",
   "execution_count": null,
   "metadata": {},
   "outputs": [],
   "source": [
    "print('Slope:' ,my_SGD_multivariate.coef_)\n",
    "print('Intercept:', my_SGD_multivariate.intercept_)"
   ]
  },
  {
   "cell_type": "code",
   "execution_count": null,
   "metadata": {},
   "outputs": [],
   "source": [
    "pred_y_SGD_multivariate = my_SGD_multivariate.predict(multivariate_train)\n",
    "print(pred_y_SGD_multivariate)"
   ]
  },
  {
   "cell_type": "code",
   "execution_count": null,
   "metadata": {},
   "outputs": [],
   "source": [
    "\n",
    "\n",
    "plt.plot(multivariate_train,test_1,'bo')\n",
    "# plt.plot(pred_y_SGD_multivariate, color = 'red')"
   ]
  },
  {
   "cell_type": "code",
   "execution_count": null,
   "metadata": {},
   "outputs": [],
   "source": [
    "\n",
    "\n",
    "plt.plot(multivariate_train)"
   ]
  },
  {
   "cell_type": "code",
   "execution_count": null,
   "metadata": {},
   "outputs": [],
   "source": [
    "plt.plot(multivariate_test)"
   ]
  },
  {
   "cell_type": "code",
   "execution_count": null,
   "metadata": {},
   "outputs": [],
   "source": []
  },
  {
   "cell_type": "code",
   "execution_count": null,
   "metadata": {},
   "outputs": [],
   "source": [
    "print('test_op', test_op)\n",
    "print('pred_y_SGD',pred_y_SGD)\n",
    "plt.plot(test_op, color = 'green')\n",
    "plt.plot(pred_y_SGD, color ='red')\n",
    "plt.show()"
   ]
  },
  {
   "cell_type": "code",
   "execution_count": null,
   "metadata": {},
   "outputs": [],
   "source": [
    "# my way"
   ]
  },
  {
   "cell_type": "code",
   "execution_count": null,
   "metadata": {},
   "outputs": [],
   "source": [
    "x_1 = train[:,0]\n",
    "x_2 = train[:,1]\n",
    "x_3 = train[:,2]"
   ]
  },
  {
   "cell_type": "code",
   "execution_count": null,
   "metadata": {},
   "outputs": [],
   "source": [
    "print(x_1,'\\n',x_2,'\\n',x_3)"
   ]
  },
  {
   "cell_type": "code",
   "execution_count": null,
   "metadata": {},
   "outputs": [],
   "source": [
    "x_1_mean = np.mean(x_1)\n",
    "x_2_mean = np.mean(x_2)\n",
    "x_3_mean = np.mean(x_3)\n",
    "print(x_1_mean)\n",
    "print(x_2_mean)\n",
    "print(x_3_mean)"
   ]
  },
  {
   "cell_type": "code",
   "execution_count": null,
   "metadata": {},
   "outputs": [],
   "source": [
    "x_1_minus_x_1_mean = x_1 - x_1_mean\n",
    "x_2_minus_x_2_mean = x_2 - x_2_mean\n",
    "x_3_minus_x_3_mean = x_3 - x_3_mean"
   ]
  },
  {
   "cell_type": "code",
   "execution_count": null,
   "metadata": {},
   "outputs": [],
   "source": [
    "print(x_1_minus_x_1_mean)\n",
    "print(x_2_minus_x_2_mean)\n",
    "print(x_3_minus_x_3_mean)"
   ]
  },
  {
   "cell_type": "code",
   "execution_count": null,
   "metadata": {},
   "outputs": [],
   "source": [
    "y = test\n",
    "y_mean = np.mean(y)\n",
    "print(y_mean)\n",
    "y_minus_y_mean = y - y_mean\n",
    "print(y_minus_y_mean)"
   ]
  },
  {
   "cell_type": "code",
   "execution_count": null,
   "metadata": {},
   "outputs": [],
   "source": [
    "first_mul = x_1_minus_x_1_mean*y_minus_y_mean\n",
    "second_mul = x_2_minus_x_2_mean*y_minus_y_mean\n",
    "third_mul = x_3_minus_x_3_mean*y_minus_y_mean\n",
    "\n",
    "print(first_mul,'\\n',second_mul,'\\n',third_mul)\n"
   ]
  },
  {
   "cell_type": "code",
   "execution_count": null,
   "metadata": {},
   "outputs": [],
   "source": [
    "m=0\n",
    "for i in first_mul:\n",
    "    i= i+m\n",
    "    m=i\n",
    "print(i)\n",
    "\n",
    "n=0\n",
    "for j in second_mul:\n",
    "    j= j+n\n",
    "    n=j\n",
    "print(j)\n",
    "\n",
    "p=0\n",
    "for k in third_mul:\n",
    "    k= k+p\n",
    "    p=k\n",
    "print(k)"
   ]
  },
  {
   "cell_type": "code",
   "execution_count": null,
   "metadata": {},
   "outputs": [],
   "source": [
    "m_1 =0\n",
    "for i_1 in x_1_minus_x_1_mean:\n",
    "    i_1 = i_1**2 + m_1\n",
    "    m_1 = i_1\n",
    "print(i_1)\n",
    "\n",
    "n_1 =0\n",
    "for j_1 in x_2_minus_x_2_mean:\n",
    "    j_1 = j_1**2 + n_1\n",
    "    n_1 = j_1\n",
    "print(j_1)\n",
    "\n",
    "p_1 =0\n",
    "for k_1 in x_3_minus_x_3_mean:\n",
    "    k_1 = k_1**2 + p_1\n",
    "    p_1 = k_1\n",
    "print(k_1)"
   ]
  },
  {
   "cell_type": "code",
   "execution_count": null,
   "metadata": {},
   "outputs": [],
   "source": [
    "slope_1 = i/i_1\n",
    "slope_2 = j/j_1\n",
    "slope_3 = k/k_1"
   ]
  },
  {
   "cell_type": "code",
   "execution_count": null,
   "metadata": {},
   "outputs": [],
   "source": [
    "print(slope_1)\n",
    "print(slope_2)\n",
    "print(slope_3)"
   ]
  },
  {
   "cell_type": "code",
   "execution_count": null,
   "metadata": {},
   "outputs": [],
   "source": [
    "a1 = [[1,1,2,4,2],[1,2,3,6,3],[1,3,4,7,4],[1,4,5,8,9],[1,5,7,9,10]]\n",
    "a1 = np.array(a1)"
   ]
  },
  {
   "cell_type": "code",
   "execution_count": null,
   "metadata": {},
   "outputs": [],
   "source": [
    "from numpy.linalg import inv\n",
    "ainv = inv(np.matrix(a1))"
   ]
  },
  {
   "cell_type": "code",
   "execution_count": null,
   "metadata": {},
   "outputs": [],
   "source": [
    "ainv"
   ]
  },
  {
   "cell_type": "code",
   "execution_count": null,
   "metadata": {},
   "outputs": [],
   "source": [
    "b1 = [[2],[3],[4],[9],[10]]\n",
    "b1 = np.array(b1)\n",
    "print(b1.shape)\n",
    "print(b1)"
   ]
  },
  {
   "cell_type": "code",
   "execution_count": null,
   "metadata": {},
   "outputs": [],
   "source": [
    "c1 = np.matmul(ainv,b1)"
   ]
  },
  {
   "cell_type": "code",
   "execution_count": null,
   "metadata": {
    "scrolled": true
   },
   "outputs": [],
   "source": [
    "c1"
   ]
  },
  {
   "cell_type": "code",
   "execution_count": null,
   "metadata": {},
   "outputs": [],
   "source": [
    "len(A)"
   ]
  },
  {
   "cell_type": "code",
   "execution_count": null,
   "metadata": {},
   "outputs": [],
   "source": [
    "d = np.ones(shape=(len(A),1))"
   ]
  },
  {
   "cell_type": "code",
   "execution_count": null,
   "metadata": {},
   "outputs": [],
   "source": [
    "d"
   ]
  },
  {
   "cell_type": "code",
   "execution_count": null,
   "metadata": {},
   "outputs": [],
   "source": [
    "X = [[1,7,560],[1,3,220],[1,3,340],[1,4,80],[1,6,150],[1,7,330]]\n",
    "X_inv = inv(np.matrix(X))"
   ]
  },
  {
   "cell_type": "code",
   "execution_count": null,
   "metadata": {},
   "outputs": [],
   "source": [
    "import numpy as np\n",
    "from numpy.linalg import inv"
   ]
  },
  {
   "cell_type": "code",
   "execution_count": null,
   "metadata": {},
   "outputs": [],
   "source": [
    "A = [[8,0,-6],[0,3.66,-4.66],[-6,-4.66,12.66]]\n",
    "A = np.array(A)\n",
    "print(A)\n",
    "C = [[10],[-4],[-4]]\n",
    "C = np.array(C)\n",
    "print(C)"
   ]
  },
  {
   "cell_type": "code",
   "execution_count": null,
   "metadata": {},
   "outputs": [],
   "source": [
    "A = [[0.25,0.01,0.00289010573],[0.01,0.25,-0.05],[0.00289010573,-0.05,0.07]]\n",
    "A_inn = np.array(A)\n",
    "print(A)\n",
    "C = [[-2.40],[-1.42],[-1.8]]\n",
    "C = np.array(C)\n",
    "print(C)"
   ]
  },
  {
   "cell_type": "code",
   "execution_count": null,
   "metadata": {},
   "outputs": [],
   "source": [
    "A_inv = inv(np.matrix(A))"
   ]
  },
  {
   "cell_type": "code",
   "execution_count": null,
   "metadata": {},
   "outputs": [],
   "source": [
    "A_inv"
   ]
  },
  {
   "cell_type": "code",
   "execution_count": null,
   "metadata": {},
   "outputs": [],
   "source": [
    "B = np.matmul(A_inn,C)"
   ]
  },
  {
   "cell_type": "code",
   "execution_count": null,
   "metadata": {},
   "outputs": [],
   "source": [
    "B"
   ]
  },
  {
   "cell_type": "code",
   "execution_count": null,
   "metadata": {},
   "outputs": [],
   "source": [
    "# Building the model\n",
    "m = 0\n",
    "c = 0\n",
    "\n",
    "L = 0.0001  # The learning Rate\n",
    "epochs = 1000  # The number of iterations to perform gradient descent\n",
    "\n",
    "n = float(len(train)) # Number of elements in X\n",
    "\n",
    "# Performing Gradient Descent \n",
    "for i in range(epochs): \n",
    "    Y_pred = m*train + c  # The current predicted value of Y\n",
    "    print(Y_pred)\n",
    "    D_m = (-2/n) * sum(train * (test_1 - Y_pred))  # Derivative wrt m\n",
    "    D_c = (-2/n) * sum(test_1 - Y_pred)  # Derivative wrt c\n",
    "    m = m - L * D_m  # Update m\n",
    "    c = c - L * D_c  # Update c\n",
    "    \n",
    "print (m, c)"
   ]
  },
  {
   "cell_type": "code",
   "execution_count": null,
   "metadata": {},
   "outputs": [],
   "source": [
    "# Making predictions\n",
    "Y_pred = m*train + c\n",
    "\n",
    "# plt.scatter(train, test_1)\n",
    "plt.plot([min(train), max(train)], [min(Y_pred), max(Y_pred)], color='red')  # regression line\n",
    "plt.show()"
   ]
  },
  {
   "cell_type": "code",
   "execution_count": null,
   "metadata": {},
   "outputs": [],
   "source": [
    "# noman vai"
   ]
  },
  {
   "cell_type": "code",
   "execution_count": null,
   "metadata": {},
   "outputs": [],
   "source": []
  },
  {
   "cell_type": "code",
   "execution_count": null,
   "metadata": {},
   "outputs": [],
   "source": [
    "s = [0.000049,-0.000025,-0.000017]\n",
    "s = np.array(s)\n",
    "\n",
    "t=sum(s)"
   ]
  },
  {
   "cell_type": "code",
   "execution_count": null,
   "metadata": {},
   "outputs": [],
   "source": [
    "r = t*49121"
   ]
  },
  {
   "cell_type": "code",
   "execution_count": null,
   "metadata": {},
   "outputs": [],
   "source": [
    "r"
   ]
  },
  {
   "cell_type": "code",
   "execution_count": null,
   "metadata": {},
   "outputs": [],
   "source": [
    "# esco = [0.000049\t-0.000025\t-0.000017],[]\n",
    "\n",
    "esco = [[0.000049,-0.000025,-0.000017],\n",
    "[-0.000025,0.000069,-0.000047],\n",
    "[-0.000017,-0.000047,0.000071]]\n",
    "\n",
    "esco = np.array(esco)\n",
    "\n",
    "esco_c = [49121,56421,51118]\n",
    "esco_c = np.array(esco_c)"
   ]
  },
  {
   "cell_type": "code",
   "execution_count": null,
   "metadata": {},
   "outputs": [],
   "source": [
    "esco_inv = inv(np.matrix(esco))"
   ]
  },
  {
   "cell_type": "code",
   "execution_count": null,
   "metadata": {},
   "outputs": [],
   "source": [
    "e = esco_inv.dot(esco)\n",
    "print(e)"
   ]
  },
  {
   "cell_type": "code",
   "execution_count": null,
   "metadata": {},
   "outputs": [],
   "source": []
  },
  {
   "cell_type": "code",
   "execution_count": null,
   "metadata": {},
   "outputs": [],
   "source": [
    "res_esco = np.matmul(esco,esco_c)"
   ]
  },
  {
   "cell_type": "code",
   "execution_count": null,
   "metadata": {},
   "outputs": [],
   "source": [
    "res_esco"
   ]
  },
  {
   "cell_type": "code",
   "execution_count": null,
   "metadata": {},
   "outputs": [],
   "source": [
    "esco**-1"
   ]
  },
  {
   "cell_type": "code",
   "execution_count": null,
   "metadata": {},
   "outputs": [],
   "source": [
    "esco_inv"
   ]
  },
  {
   "cell_type": "code",
   "execution_count": null,
   "metadata": {},
   "outputs": [],
   "source": [
    "esco"
   ]
  },
  {
   "cell_type": "code",
   "execution_count": null,
   "metadata": {},
   "outputs": [],
   "source": [
    "esco_inv.dot(esco)"
   ]
  },
  {
   "cell_type": "code",
   "execution_count": null,
   "metadata": {},
   "outputs": [],
   "source": [
    "(esco**-1).dot(esco)"
   ]
  },
  {
   "cell_type": "code",
   "execution_count": null,
   "metadata": {},
   "outputs": [],
   "source": []
  }
 ],
 "metadata": {
  "kernelspec": {
   "display_name": "Python 3",
   "language": "python",
   "name": "python3"
  },
  "language_info": {
   "codemirror_mode": {
    "name": "ipython",
    "version": 3
   },
   "file_extension": ".py",
   "mimetype": "text/x-python",
   "name": "python",
   "nbconvert_exporter": "python",
   "pygments_lexer": "ipython3",
   "version": "3.6.8"
  }
 },
 "nbformat": 4,
 "nbformat_minor": 2
}
