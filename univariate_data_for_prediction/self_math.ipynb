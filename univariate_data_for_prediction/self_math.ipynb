{
 "cells": [
  {
   "cell_type": "code",
   "execution_count": 37,
   "metadata": {},
   "outputs": [],
   "source": [
    "import numpy as np\n",
    "import matplotlib.pyplot as plt\n",
    "from sklearn import linear_model"
   ]
  },
  {
   "cell_type": "code",
   "execution_count": 24,
   "metadata": {},
   "outputs": [],
   "source": [
    "A = [[1,2,4,2],[2,3,6,3],[3,4,7,4],[4,5,8,9],[5,7,9,10],[7,5,4,88],[-4,-2,5,4],[1,2,8,77]]"
   ]
  },
  {
   "cell_type": "code",
   "execution_count": 25,
   "metadata": {},
   "outputs": [
    {
     "data": {
      "text/plain": [
       "list"
      ]
     },
     "execution_count": 25,
     "metadata": {},
     "output_type": "execute_result"
    }
   ],
   "source": [
    "type(A)"
   ]
  },
  {
   "cell_type": "code",
   "execution_count": 26,
   "metadata": {},
   "outputs": [
    {
     "data": {
      "text/plain": [
       "numpy.ndarray"
      ]
     },
     "execution_count": 26,
     "metadata": {},
     "output_type": "execute_result"
    }
   ],
   "source": [
    "A = np.array(A)\n",
    "type(A)"
   ]
  },
  {
   "cell_type": "code",
   "execution_count": 27,
   "metadata": {},
   "outputs": [
    {
     "data": {
      "text/plain": [
       "(8, 4)"
      ]
     },
     "execution_count": 27,
     "metadata": {},
     "output_type": "execute_result"
    }
   ],
   "source": [
    "A.shape"
   ]
  },
  {
   "cell_type": "code",
   "execution_count": 28,
   "metadata": {},
   "outputs": [
    {
     "data": {
      "text/plain": [
       "array([[ 1,  2,  4,  2],\n",
       "       [ 2,  3,  6,  3],\n",
       "       [ 3,  4,  7,  4],\n",
       "       [ 4,  5,  8,  9],\n",
       "       [ 5,  7,  9, 10],\n",
       "       [ 7,  5,  4, 88],\n",
       "       [-4, -2,  5,  4],\n",
       "       [ 1,  2,  8, 77]])"
      ]
     },
     "execution_count": 28,
     "metadata": {},
     "output_type": "execute_result"
    }
   ],
   "source": [
    "A"
   ]
  },
  {
   "cell_type": "code",
   "execution_count": 29,
   "metadata": {},
   "outputs": [],
   "source": [
    "train = A[0:5,:-1]\n",
    "test = A[0:5,-1]"
   ]
  },
  {
   "cell_type": "code",
   "execution_count": 30,
   "metadata": {},
   "outputs": [
    {
     "name": "stdout",
     "output_type": "stream",
     "text": [
      "[[1 2 4]\n",
      " [2 3 6]\n",
      " [3 4 7]\n",
      " [4 5 8]\n",
      " [5 7 9]]\n",
      "(5, 3)\n"
     ]
    }
   ],
   "source": [
    "print(train)\n",
    "print(train.shape)"
   ]
  },
  {
   "cell_type": "code",
   "execution_count": 31,
   "metadata": {
    "scrolled": true
   },
   "outputs": [
    {
     "name": "stdout",
     "output_type": "stream",
     "text": [
      "(5,)\n",
      "(5, 1)\n",
      "[[ 2]\n",
      " [ 3]\n",
      " [ 4]\n",
      " [ 9]\n",
      " [10]]\n"
     ]
    }
   ],
   "source": [
    "print(test.shape)\n",
    "test_1 = np.reshape(test,(-1,1))\n",
    "print(test_1.shape)\n",
    "print(test_1)"
   ]
  },
  {
   "cell_type": "code",
   "execution_count": 32,
   "metadata": {},
   "outputs": [
    {
     "name": "stdout",
     "output_type": "stream",
     "text": [
      "[[ 7  5  4]\n",
      " [-4 -2  5]\n",
      " [ 1  2  8]]\n",
      "[88  4 77]\n"
     ]
    }
   ],
   "source": [
    "test_ip = A[5:,:-1]\n",
    "test_op = A[5:,-1]\n",
    "\n",
    "print(test_ip)\n",
    "print(test_op)"
   ]
  },
  {
   "cell_type": "code",
   "execution_count": null,
   "metadata": {},
   "outputs": [],
   "source": []
  },
  {
   "cell_type": "code",
   "execution_count": 10,
   "metadata": {},
   "outputs": [],
   "source": [
    "from sklearn import metrics\n",
    "from sklearn.linear_model import LinearRegression"
   ]
  },
  {
   "cell_type": "code",
   "execution_count": 11,
   "metadata": {},
   "outputs": [
    {
     "data": {
      "text/plain": [
       "LinearRegression(copy_X=True, fit_intercept=True, n_jobs=1, normalize=False)"
      ]
     },
     "execution_count": 11,
     "metadata": {},
     "output_type": "execute_result"
    }
   ],
   "source": [
    "my_reg = LinearRegression(fit_intercept=True, normalize=False)\n",
    "\n",
    "my_reg.fit(train, test)"
   ]
  },
  {
   "cell_type": "code",
   "execution_count": 36,
   "metadata": {
    "scrolled": true
   },
   "outputs": [
    {
     "name": "stdout",
     "output_type": "stream",
     "text": [
      "Slope: [ 7.         -1.33333333 -2.66666667]\n",
      "Intercept: 8.333333333333316\n"
     ]
    }
   ],
   "source": [
    "print('Slope:' ,my_reg.coef_)\n",
    "print('Intercept:', my_reg.intercept_)"
   ]
  },
  {
   "cell_type": "code",
   "execution_count": 33,
   "metadata": {},
   "outputs": [],
   "source": [
    "pred_y_linear_regression = my_reg.predict(test_ip)"
   ]
  },
  {
   "cell_type": "code",
   "execution_count": 34,
   "metadata": {},
   "outputs": [
    {
     "data": {
      "text/plain": [
       "array([ 40.        , -30.33333333,  -8.66666667])"
      ]
     },
     "execution_count": 34,
     "metadata": {},
     "output_type": "execute_result"
    }
   ],
   "source": [
    "pred_y_linear_regression"
   ]
  },
  {
   "cell_type": "code",
   "execution_count": 35,
   "metadata": {
    "scrolled": true
   },
   "outputs": [
    {
     "data": {
      "image/png": "[encoded data removed]",
      "text/plain": [
       "<Figure size 432x288 with 1 Axes>"
      ]
     },
     "metadata": {},
     "output_type": "display_data"
    }
   ],
   "source": [
    "plt.plot(test_op, color = 'green')\n",
    "plt.plot(pred_y_linear_regression, color = 'red')\n",
    "plt.show()"
   ]
  },
  {
   "cell_type": "code",
   "execution_count": 50,
   "metadata": {},
   "outputs": [
    {
     "data": {
      "text/plain": [
       "SGDRegressor(alpha=0.0001, average=False, epsilon=0.1, eta0=0.01,\n",
       "       fit_intercept=True, l1_ratio=0.15, learning_rate='invscaling',\n",
       "       loss='huber', max_iter=1000, n_iter=None, penalty='l2',\n",
       "       power_t=0.25, random_state=None, shuffle=True, tol=0.001, verbose=0,\n",
       "       warm_start=False)"
      ]
     },
     "execution_count": 50,
     "metadata": {},
     "output_type": "execute_result"
    }
   ],
   "source": [
    "my_SGD = linear_model.SGDRegressor(max_iter=1000, tol=1e-3, loss='huber')\n",
    "my_SGD.fit(train, test)"
   ]
  },
  {
   "cell_type": "code",
   "execution_count": 47,
   "metadata": {},
   "outputs": [],
   "source": [
    "pred_y_SGD = my_SGD.predict(test_ip)"
   ]
  },
  {
   "cell_type": "code",
   "execution_count": 48,
   "metadata": {},
   "outputs": [
    {
     "name": "stdout",
     "output_type": "stream",
     "text": [
      "test_op [88  4 77]\n",
      "pred_y_SGD [3.85277041 0.76241285 3.62867603]\n"
     ]
    },
    {
     "data": {
      "image/png": "[encoded data removed]",
      "text/plain": [
       "<Figure size 432x288 with 1 Axes>"
      ]
     },
     "metadata": {},
     "output_type": "display_data"
    }
   ],
   "source": [
    "print('test_op', test_op)\n",
    "print('pred_y_SGD',pred_y_SGD)\n",
    "plt.plot(test_op, color = 'green')\n",
    "plt.plot(pred_y_SGD, color ='red')\n",
    "plt.show()"
   ]
  },
  {
   "cell_type": "code",
   "execution_count": 25,
   "metadata": {},
   "outputs": [],
   "source": [
    "# my way"
   ]
  },
  {
   "cell_type": "code",
   "execution_count": 26,
   "metadata": {},
   "outputs": [],
   "source": [
    "x_1 = train[:,0]\n",
    "x_2 = train[:,1]\n",
    "x_3 = train[:,2]"
   ]
  },
  {
   "cell_type": "code",
   "execution_count": 27,
   "metadata": {},
   "outputs": [
    {
     "name": "stdout",
     "output_type": "stream",
     "text": [
      "[1 2 3 4 5] \n",
      " [2 3 4 5 7] \n",
      " [4 6 7 8 9]\n"
     ]
    }
   ],
   "source": [
    "print(x_1,'\\n',x_2,'\\n',x_3)"
   ]
  },
  {
   "cell_type": "code",
   "execution_count": 30,
   "metadata": {},
   "outputs": [
    {
     "name": "stdout",
     "output_type": "stream",
     "text": [
      "3.0\n",
      "4.2\n",
      "6.8\n"
     ]
    }
   ],
   "source": [
    "x_1_mean = np.mean(x_1)\n",
    "x_2_mean = np.mean(x_2)\n",
    "x_3_mean = np.mean(x_3)\n",
    "print(x_1_mean)\n",
    "print(x_2_mean)\n",
    "print(x_3_mean)"
   ]
  },
  {
   "cell_type": "code",
   "execution_count": 33,
   "metadata": {},
   "outputs": [],
   "source": [
    "x_1_minus_x_1_mean = x_1 - x_1_mean\n",
    "x_2_minus_x_2_mean = x_2 - x_2_mean\n",
    "x_3_minus_x_3_mean = x_3 - x_3_mean"
   ]
  },
  {
   "cell_type": "code",
   "execution_count": 34,
   "metadata": {},
   "outputs": [
    {
     "name": "stdout",
     "output_type": "stream",
     "text": [
      "[-2. -1.  0.  1.  2.]\n",
      "[-2.2 -1.2 -0.2  0.8  2.8]\n",
      "[-2.8 -0.8  0.2  1.2  2.2]\n"
     ]
    }
   ],
   "source": [
    "print(x_1_minus_x_1_mean)\n",
    "print(x_2_minus_x_2_mean)\n",
    "print(x_3_minus_x_3_mean)"
   ]
  },
  {
   "cell_type": "code",
   "execution_count": 37,
   "metadata": {},
   "outputs": [
    {
     "name": "stdout",
     "output_type": "stream",
     "text": [
      "5.6\n",
      "[-3.6 -2.6 -1.6  3.4  4.4]\n"
     ]
    }
   ],
   "source": [
    "y = test\n",
    "y_mean = np.mean(y)\n",
    "print(y_mean)\n",
    "y_minus_y_mean = y - y_mean\n",
    "print(y_minus_y_mean)"
   ]
  },
  {
   "cell_type": "code",
   "execution_count": 38,
   "metadata": {},
   "outputs": [
    {
     "name": "stdout",
     "output_type": "stream",
     "text": [
      "[ 7.2  2.6 -0.   3.4  8.8] \n",
      " [ 7.92  3.12  0.32  2.72 12.32] \n",
      " [10.08  2.08 -0.32  4.08  9.68]\n"
     ]
    }
   ],
   "source": [
    "first_mul = x_1_minus_x_1_mean*y_minus_y_mean\n",
    "second_mul = x_2_minus_x_2_mean*y_minus_y_mean\n",
    "third_mul = x_3_minus_x_3_mean*y_minus_y_mean\n",
    "\n",
    "print(first_mul,'\\n',second_mul,'\\n',third_mul)\n"
   ]
  },
  {
   "cell_type": "code",
   "execution_count": 41,
   "metadata": {},
   "outputs": [
    {
     "name": "stdout",
     "output_type": "stream",
     "text": [
      "22.0\n",
      "26.4\n",
      "25.6\n"
     ]
    }
   ],
   "source": [
    "m=0\n",
    "for i in first_mul:\n",
    "    i= i+m\n",
    "    m=i\n",
    "print(i)\n",
    "\n",
    "n=0\n",
    "for j in second_mul:\n",
    "    j= j+n\n",
    "    n=j\n",
    "print(j)\n",
    "\n",
    "p=0\n",
    "for k in third_mul:\n",
    "    k= k+p\n",
    "    p=k\n",
    "print(k)"
   ]
  },
  {
   "cell_type": "code",
   "execution_count": 43,
   "metadata": {},
   "outputs": [
    {
     "name": "stdout",
     "output_type": "stream",
     "text": [
      "10.0\n",
      "14.8\n",
      "14.8\n"
     ]
    }
   ],
   "source": [
    "m_1 =0\n",
    "for i_1 in x_1_minus_x_1_mean:\n",
    "    i_1 = i_1**2 + m_1\n",
    "    m_1 = i_1\n",
    "print(i_1)\n",
    "\n",
    "n_1 =0\n",
    "for j_1 in x_2_minus_x_2_mean:\n",
    "    j_1 = j_1**2 + n_1\n",
    "    n_1 = j_1\n",
    "print(j_1)\n",
    "\n",
    "p_1 =0\n",
    "for k_1 in x_3_minus_x_3_mean:\n",
    "    k_1 = k_1**2 + p_1\n",
    "    p_1 = k_1\n",
    "print(k_1)"
   ]
  },
  {
   "cell_type": "code",
   "execution_count": 47,
   "metadata": {},
   "outputs": [],
   "source": [
    "slope_1 = i/i_1\n",
    "slope_2 = j/j_1\n",
    "slope_3 = k/k_1"
   ]
  },
  {
   "cell_type": "code",
   "execution_count": 48,
   "metadata": {},
   "outputs": [
    {
     "name": "stdout",
     "output_type": "stream",
     "text": [
      "2.2\n",
      "1.7837837837837835\n",
      "1.7297297297297298\n"
     ]
    }
   ],
   "source": [
    "print(slope_1)\n",
    "print(slope_2)\n",
    "print(slope_3)"
   ]
  },
  {
   "cell_type": "code",
   "execution_count": null,
   "metadata": {},
   "outputs": [],
   "source": []
  }
 ],
 "metadata": {
  "kernelspec": {
   "display_name": "Python 3",
   "language": "python",
   "name": "python3"
  },
  "language_info": {
   "codemirror_mode": {
    "name": "ipython",
    "version": 3
   },
   "file_extension": ".py",
   "mimetype": "text/x-python",
   "name": "python",
   "nbconvert_exporter": "python",
   "pygments_lexer": "ipython3",
   "version": "3.6.5"
  }
 },
 "nbformat": 4,
 "nbformat_minor": 2
}
