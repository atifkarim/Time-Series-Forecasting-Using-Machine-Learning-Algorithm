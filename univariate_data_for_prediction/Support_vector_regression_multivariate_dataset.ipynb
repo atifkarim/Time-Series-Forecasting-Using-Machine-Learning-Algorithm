{
 "cells": [
  {
   "cell_type": "code",
   "execution_count": 1,
   "metadata": {},
   "outputs": [],
   "source": [
    "import numpy as np\n",
    "import matplotlib.pyplot as plt\n",
    "import pandas as pd\n",
    "import math\n",
    "import time\n",
    "import datetime\n",
    "%matplotlib inline\n",
    "from matplotlib.pylab import rcParams"
   ]
  },
  {
   "cell_type": "code",
   "execution_count": null,
   "metadata": {},
   "outputs": [],
   "source": [
    "# test= pd.read_csv('/media/atif/BE0E05910E0543BD/University of Bremen MSc/masters_thesis/IAT_sebastian/dataset_26_april_3.csv')\n",
    "test=pd.read_csv('E:/University of Bremen MSc/masters_thesis/IAT_sebastian/dataset_26_april_3.csv')"
   ]
  },
  {
   "cell_type": "code",
   "execution_count": null,
   "metadata": {},
   "outputs": [],
   "source": [
    "longTime=test.loc[0:,['longTime']]\n",
    "longTime=longTime.as_matrix()\n",
    "a=[]\n",
    "date_time_array=[]\n",
    "for k in longTime:\n",
    "    a=np.append(a,k)\n",
    "str_time=[]\n",
    "correct_longtime=[]\n",
    "datetime_time=[]\n",
    "count=0\n",
    "for b in a:\n",
    "    b=int(b) # make plain integer\n",
    "    str_b=str(b)\n",
    "    c=str_b[-3:]\n",
    "    new_str_b=str_b.replace(c, '',1)\n",
    "    new_str_b_time=int(new_str_b)\n",
    "    correct_longtime.append(new_str_b_time)\n",
    "    now_time=datetime.datetime.fromtimestamp(new_str_b_time)\n",
    "    convert_time=now_time.strftime('%Y-%m-%d %H:%M')\n",
    "    str_time.append(convert_time)\n",
    "# print(str_time)\n",
    "test_new = test.assign(stringTime=str_time,correct_longtime=correct_longtime) # here new column in the panda dataframe for string_time has added"
   ]
  },
  {
   "cell_type": "code",
   "execution_count": null,
   "metadata": {},
   "outputs": [],
   "source": [
    "test_new['dateTime'] =  pd.to_datetime(test_new['stringTime'], format='%Y-%m-%d %H:%M')"
   ]
  },
  {
   "cell_type": "code",
   "execution_count": null,
   "metadata": {},
   "outputs": [],
   "source": [
    "print(test_new.shape)  #ROWS, COLUMNS"
   ]
  },
  {
   "cell_type": "code",
   "execution_count": null,
   "metadata": {},
   "outputs": [],
   "source": [
    "# making dateTime column as a index for the test_new panda dataframe\n",
    "test_new = test_new.set_index('dateTime')"
   ]
  },
  {
   "cell_type": "code",
   "execution_count": null,
   "metadata": {},
   "outputs": [],
   "source": [
    "# multivariate_column_label=['DEWIHOBT9_I0','AEDATZ_HO_V0','AEDAHO_T9_V2','AEWIHO_T9AV2','RWWIHOB_HWT0'\n",
    "#                            ,'RWWIHOB_MWT0']#rmse error 1.99\n",
    "\n",
    "multivariate_column_label = ['DEWIHOBT9_I0','AEDATZ_HONP0','AEDATZK_ASP0','AEDATZ_HO_V0',\n",
    "                             'AEDAHO_T9_V2','AEWIHO_T9AV2'] #rmse error 1.38\n",
    "size_column = len(multivariate_column_label)\n",
    "print(size_column)"
   ]
  },
  {
   "cell_type": "code",
   "execution_count": null,
   "metadata": {},
   "outputs": [],
   "source": [
    "size_column = len(multivariate_column_label)\n",
    "print(size_column)"
   ]
  },
  {
   "cell_type": "code",
   "execution_count": null,
   "metadata": {},
   "outputs": [],
   "source": [
    "multivariate_data=test_new.iloc[2000:7000][multivariate_column_label]\n",
    "multivariate_data=multivariate_data.loc[::-1]"
   ]
  },
  {
   "cell_type": "code",
   "execution_count": null,
   "metadata": {},
   "outputs": [],
   "source": [
    "multivariate_data.head()"
   ]
  },
  {
   "cell_type": "code",
   "execution_count": null,
   "metadata": {},
   "outputs": [],
   "source": [
    "ax = multivariate_data.plot(subplots=True, layout=(size_column,1))\n",
    "plt.rcParams['figure.figsize'] =(20,10)\n",
    "# plt.savefig('E:/University of Bremen MSc/masters_thesis/forecasting_sensor_data_Salzgitter_AG/images_from_training/multivariate_data_regression.png')\n",
    "plt.show()"
   ]
  },
  {
   "cell_type": "code",
   "execution_count": null,
   "metadata": {},
   "outputs": [],
   "source": [
    "zero_index=[]\n",
    "zero_index=np.array(zero_index)\n",
    "for index, value in multivariate_data.iterrows():\n",
    "    for i , v in enumerate(value):\n",
    "        if i == 0  and v == 0.0:\n",
    "#             print('index: ',index)\n",
    "            zero_index=np.append(zero_index,index)\n",
    "\n",
    "print('size of zero_index: ',zero_index.size)"
   ]
  },
  {
   "cell_type": "code",
   "execution_count": null,
   "metadata": {},
   "outputs": [],
   "source": [
    "if zero_index.size > 0:\n",
    "    multivariate_data_modify = multivariate_data.drop(zero_index,axis=0) # axis= 0 means row indiated. 1 means column indicated\n",
    "else:\n",
    "    multivariate_data_modify = multivariate_data"
   ]
  },
  {
   "cell_type": "code",
   "execution_count": null,
   "metadata": {},
   "outputs": [],
   "source": [
    "print(multivariate_data.shape)\n",
    "print(multivariate_data_modify.shape)"
   ]
  },
  {
   "cell_type": "code",
   "execution_count": null,
   "metadata": {},
   "outputs": [],
   "source": [
    "bx = multivariate_data_modify.plot(subplots=True, layout=(size_column,1))\n",
    "plt.rcParams['figure.figsize'] =(20,10)\n",
    "plt.legend(loc='upper left')\n",
    "plt.show()"
   ]
  },
  {
   "cell_type": "code",
   "execution_count": null,
   "metadata": {},
   "outputs": [],
   "source": [
    "from numpy import nan\n",
    "multivariate_data_drop_zero= multivariate_data.replace(0,nan)\n",
    "multivariate_data_drop_zero=multivariate_data_drop_zero.dropna(how='any',axis=0)"
   ]
  },
  {
   "cell_type": "code",
   "execution_count": null,
   "metadata": {},
   "outputs": [],
   "source": [
    "cx = multivariate_data_drop_zero.plot(subplots=True, layout=(size_column,1))\n",
    "plt.rcParams['figure.figsize'] =(20,10)\n",
    "plt.show()"
   ]
  },
  {
   "cell_type": "code",
   "execution_count": null,
   "metadata": {},
   "outputs": [],
   "source": [
    "print('shape of multivariate_data: ',multivariate_data.shape)\n",
    "print('shape of multivariate_data_modify: ', multivariate_data_modify.shape)\n",
    "print('shape of multivariate_data_drop_zero: ',multivariate_data_drop_zero.shape)"
   ]
  },
  {
   "cell_type": "code",
   "execution_count": null,
   "metadata": {},
   "outputs": [],
   "source": [
    "multivariate_data_drop_zero.head()"
   ]
  },
  {
   "cell_type": "code",
   "execution_count": null,
   "metadata": {},
   "outputs": [],
   "source": [
    "# print('multivariate_data_drop_zero head: \\n',multivariate_data_drop_zero.head())\n",
    "dataset=np.array(multivariate_data_drop_zero)"
   ]
  },
  {
   "cell_type": "code",
   "execution_count": null,
   "metadata": {},
   "outputs": [],
   "source": [
    "NumberOfElements=int(len(dataset)*0.9)\n",
    "print('Number of Elements for training: ',NumberOfElements)\n",
    "print('dataset length: ',len(dataset))\n",
    "\n",
    "train_input=dataset[0:NumberOfElements,0:-1]\n",
    "print('train_input shape: ',train_input.shape)\n",
    "train_output=dataset[0:NumberOfElements,-1]\n",
    "print('train_output shape: ',train_output.shape)\n",
    "\n",
    "test_input=dataset[NumberOfElements:len(dataset),0:-1]\n",
    "print('test_input shape: ',test_input.shape)\n",
    "test_output=dataset[NumberOfElements:len(dataset),-1]\n",
    "print('test_output shape: ',test_output.shape)\n",
    "# print('train data size: ',train_data.shape,'\\ntest data size: ',test_data.shape)"
   ]
  },
  {
   "cell_type": "markdown",
   "metadata": {},
   "source": [
    "# Support Regression"
   ]
  },
  {
   "cell_type": "code",
   "execution_count": null,
   "metadata": {},
   "outputs": [],
   "source": [
    "import seaborn as sn\n",
    "from sklearn import svm\n",
    "# from sklearn import preprocessing, cross_validation, neighbors, svm\n",
    "from sklearn.svm import SVR\n",
    "from sklearn.model_selection import RandomizedSearchCV"
   ]
  },
  {
   "cell_type": "code",
   "execution_count": null,
   "metadata": {},
   "outputs": [],
   "source": [
    "clf_SVR = svm.SVR()\n",
    "print('Default Parameters currently in use:\\n')\n",
    "print(clf_SVR.get_params())"
   ]
  },
  {
   "cell_type": "code",
   "execution_count": null,
   "metadata": {},
   "outputs": [],
   "source": [
    "C = [0.001, 0.01, 0.1, 1, 5, 10, 50, 100, 500, 1000]\n",
    "kernel = ['linear', 'poly', 'rbf', 'sigmoid']\n",
    "degree = [2, 3, 4, 5]\n",
    "gamma = [0.0001, 0.001, 0.01, 0.1, 1]"
   ]
  },
  {
   "cell_type": "code",
   "execution_count": null,
   "metadata": {},
   "outputs": [],
   "source": [
    "param_SVR = {'C':C, 'kernel':kernel, 'degree':degree, 'gamma':gamma}"
   ]
  },
  {
   "cell_type": "code",
   "execution_count": null,
   "metadata": {},
   "outputs": [],
   "source": [
    "no_iter = 10\n",
    "no_cv = 10\n",
    "no_verbose = 1\n",
    "no_process = -1"
   ]
  },
  {
   "cell_type": "code",
   "execution_count": null,
   "metadata": {},
   "outputs": [],
   "source": [
    "MODEL_SVR = RandomizedSearchCV(estimator = clf_SVR, param_distributions = param_SVR, n_iter=no_iter, cv=no_cv, verbose=no_verbose, random_state=42, n_jobs=no_process)\n",
    "\n",
    "# Fit the random search model\n",
    "# start_training_SVM = time.time()\n",
    "MODEL_SVR.fit(train_input,train_output)\n",
    "# end_training_SVM = time.time()"
   ]
  },
  {
   "cell_type": "code",
   "execution_count": null,
   "metadata": {},
   "outputs": [],
   "source": []
  }
 ],
 "metadata": {
  "kernelspec": {
   "display_name": "Python 3",
   "language": "python",
   "name": "python3"
  },
  "language_info": {
   "codemirror_mode": {
    "name": "ipython",
    "version": 3
   },
   "file_extension": ".py",
   "mimetype": "text/x-python",
   "name": "python",
   "nbconvert_exporter": "python",
   "pygments_lexer": "ipython3",
   "version": "3.6.5"
  }
 },
 "nbformat": 4,
 "nbformat_minor": 2
}
