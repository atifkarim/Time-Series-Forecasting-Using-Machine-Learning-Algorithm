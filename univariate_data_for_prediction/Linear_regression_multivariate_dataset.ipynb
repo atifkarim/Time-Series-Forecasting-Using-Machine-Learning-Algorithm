{
 "cells": [
  {
   "cell_type": "code",
   "execution_count": 2,
   "metadata": {},
   "outputs": [],
   "source": [
    "import numpy as np\n",
    "import matplotlib.pyplot as plt\n",
    "import pandas as pd\n",
    "import math\n",
    "import time\n",
    "import datetime\n",
    "%matplotlib inline\n",
    "from matplotlib.pylab import rcParams"
   ]
  },
  {
   "cell_type": "code",
   "execution_count": 3,
   "metadata": {},
   "outputs": [],
   "source": [
    "import cesium\n",
    "from cesium import featurize"
   ]
  },
  {
   "cell_type": "code",
   "execution_count": 4,
   "metadata": {},
   "outputs": [
    {
     "name": "stdout",
     "output_type": "stream",
     "text": [
      "0.9.9\n"
     ]
    }
   ],
   "source": [
    "print(cesium.__version__)"
   ]
  },
  {
   "cell_type": "code",
   "execution_count": 5,
   "metadata": {},
   "outputs": [],
   "source": [
    "# test= pd.read_csv('/media/atif/BE0E05910E0543BD/University of Bremen MSc/masters_thesis/IAT_sebastian/dataset_01_Aug_2019.csv')\n",
    "test=pd.read_csv('E:/University of Bremen MSc/masters_thesis/IAT_sebastian/dataset_26_april_3.csv')"
   ]
  },
  {
   "cell_type": "code",
   "execution_count": 5,
   "metadata": {
    "scrolled": true
   },
   "outputs": [
    {
     "name": "stderr",
     "output_type": "stream",
     "text": [
      "C:\\Users\\atif\\Anaconda3\\lib\\site-packages\\ipykernel_launcher.py:2: FutureWarning: Method .as_matrix will be removed in a future version. Use .values instead.\n",
      "  \n"
     ]
    }
   ],
   "source": [
    "longTime=test.loc[0:,['longTime']]\n",
    "longTime=longTime.as_matrix()\n",
    "a=[]\n",
    "date_time_array=[]\n",
    "for k in longTime:\n",
    "    a=np.append(a,k)\n",
    "str_time=[]\n",
    "correct_longtime=[]\n",
    "datetime_time=[]\n",
    "count=0\n",
    "for b in a:\n",
    "    b=int(b) # make plain integer\n",
    "    str_b=str(b)\n",
    "    c=str_b[-3:]\n",
    "    new_str_b=str_b.replace(c, '',1)\n",
    "    new_str_b_time=int(new_str_b)\n",
    "    correct_longtime.append(new_str_b_time)\n",
    "    now_time=datetime.datetime.fromtimestamp(new_str_b_time)\n",
    "    convert_time=now_time.strftime('%Y-%m-%d %H:%M')\n",
    "    str_time.append(convert_time)\n",
    "# print(str_time)\n",
    "test_new = test.assign(stringTime=str_time,correct_longtime=correct_longtime) # here new column in the panda dataframe for string_time has added"
   ]
  },
  {
   "cell_type": "code",
   "execution_count": 6,
   "metadata": {
    "scrolled": true
   },
   "outputs": [
    {
     "data": {
      "text/html": [
       "<div>\n",
       "<style scoped>\n",
       "    .dataframe tbody tr th:only-of-type {\n",
       "        vertical-align: middle;\n",
       "    }\n",
       "\n",
       "    .dataframe tbody tr th {\n",
       "        vertical-align: top;\n",
       "    }\n",
       "\n",
       "    .dataframe thead th {\n",
       "        text-align: right;\n",
       "    }\n",
       "</style>\n",
       "<table border=\"1\" class=\"dataframe\">\n",
       "  <thead>\n",
       "    <tr style=\"text-align: right;\">\n",
       "      <th></th>\n",
       "      <th>row ID</th>\n",
       "      <th>longTime</th>\n",
       "      <th>AEAGHOAWE2T1</th>\n",
       "      <th>AEAGHOAWE2A0</th>\n",
       "      <th>AEAGHOAWE2T0</th>\n",
       "      <th>AEAGHOAWE1A0</th>\n",
       "      <th>AEAGHOAWE1T1</th>\n",
       "      <th>AEAGHOAWE1T0</th>\n",
       "      <th>AEAGHOAWE3T0</th>\n",
       "      <th>AEAGHOAWE3A0</th>\n",
       "      <th>...</th>\n",
       "      <th>RWWIHOT8_RV0</th>\n",
       "      <th>RWWIHOT9_RV0</th>\n",
       "      <th>RWWIHOT10RV0</th>\n",
       "      <th>RWWIHOTSURV0</th>\n",
       "      <th>RWWIHOTSUMV0</th>\n",
       "      <th>RWWIHO_VERV0</th>\n",
       "      <th>RWWIHO_UESV0</th>\n",
       "      <th>RWWIHOSUMAV0</th>\n",
       "      <th>stringTime</th>\n",
       "      <th>correct_longtime</th>\n",
       "    </tr>\n",
       "  </thead>\n",
       "  <tbody>\n",
       "    <tr>\n",
       "      <th>0</th>\n",
       "      <td>Row0</td>\n",
       "      <td>1555311120000</td>\n",
       "      <td>74.451979</td>\n",
       "      <td>19.111606</td>\n",
       "      <td>98.371549</td>\n",
       "      <td>18.819155</td>\n",
       "      <td>93.337524</td>\n",
       "      <td>69.969526</td>\n",
       "      <td>95.445534</td>\n",
       "      <td>7.802471</td>\n",
       "      <td>...</td>\n",
       "      <td>44.620461</td>\n",
       "      <td>22.338103</td>\n",
       "      <td>75.685755</td>\n",
       "      <td>73.945394</td>\n",
       "      <td>0.000000</td>\n",
       "      <td>0.000000</td>\n",
       "      <td>0.000000</td>\n",
       "      <td>0.000000</td>\n",
       "      <td>2019-04-15 08:52</td>\n",
       "      <td>1555311120</td>\n",
       "    </tr>\n",
       "    <tr>\n",
       "      <th>1</th>\n",
       "      <td>Row1</td>\n",
       "      <td>1555311060000</td>\n",
       "      <td>73.933103</td>\n",
       "      <td>18.088026</td>\n",
       "      <td>98.186038</td>\n",
       "      <td>18.943335</td>\n",
       "      <td>92.869960</td>\n",
       "      <td>69.969526</td>\n",
       "      <td>95.445534</td>\n",
       "      <td>12.856953</td>\n",
       "      <td>...</td>\n",
       "      <td>53.182296</td>\n",
       "      <td>26.967692</td>\n",
       "      <td>75.685755</td>\n",
       "      <td>66.649583</td>\n",
       "      <td>56.385432</td>\n",
       "      <td>68.734584</td>\n",
       "      <td>9.127668</td>\n",
       "      <td>2.275890</td>\n",
       "      <td>2019-04-15 08:51</td>\n",
       "      <td>1555311060</td>\n",
       "    </tr>\n",
       "    <tr>\n",
       "      <th>2</th>\n",
       "      <td>Row2</td>\n",
       "      <td>1555311000000</td>\n",
       "      <td>73.471742</td>\n",
       "      <td>25.843589</td>\n",
       "      <td>98.371549</td>\n",
       "      <td>33.166077</td>\n",
       "      <td>92.343799</td>\n",
       "      <td>69.969526</td>\n",
       "      <td>95.628479</td>\n",
       "      <td>21.591973</td>\n",
       "      <td>...</td>\n",
       "      <td>53.029243</td>\n",
       "      <td>26.851837</td>\n",
       "      <td>75.685755</td>\n",
       "      <td>66.587330</td>\n",
       "      <td>56.402658</td>\n",
       "      <td>68.853203</td>\n",
       "      <td>9.136596</td>\n",
       "      <td>2.275735</td>\n",
       "      <td>2019-04-15 08:50</td>\n",
       "      <td>1555311000</td>\n",
       "    </tr>\n",
       "    <tr>\n",
       "      <th>3</th>\n",
       "      <td>Row3</td>\n",
       "      <td>1555310940000</td>\n",
       "      <td>73.010381</td>\n",
       "      <td>27.772137</td>\n",
       "      <td>98.371549</td>\n",
       "      <td>35.991205</td>\n",
       "      <td>91.876236</td>\n",
       "      <td>69.850105</td>\n",
       "      <td>95.607810</td>\n",
       "      <td>19.492370</td>\n",
       "      <td>...</td>\n",
       "      <td>53.015226</td>\n",
       "      <td>26.266369</td>\n",
       "      <td>75.685755</td>\n",
       "      <td>66.373907</td>\n",
       "      <td>56.527297</td>\n",
       "      <td>69.391059</td>\n",
       "      <td>9.138625</td>\n",
       "      <td>2.281882</td>\n",
       "      <td>2019-04-15 08:49</td>\n",
       "      <td>1555310940</td>\n",
       "    </tr>\n",
       "    <tr>\n",
       "      <th>4</th>\n",
       "      <td>Row4</td>\n",
       "      <td>1555310880000</td>\n",
       "      <td>72.549020</td>\n",
       "      <td>18.402556</td>\n",
       "      <td>98.186038</td>\n",
       "      <td>19.591687</td>\n",
       "      <td>91.408672</td>\n",
       "      <td>69.969526</td>\n",
       "      <td>95.607810</td>\n",
       "      <td>8.014898</td>\n",
       "      <td>...</td>\n",
       "      <td>53.172932</td>\n",
       "      <td>26.605640</td>\n",
       "      <td>75.685755</td>\n",
       "      <td>66.529224</td>\n",
       "      <td>56.640964</td>\n",
       "      <td>69.299560</td>\n",
       "      <td>9.121256</td>\n",
       "      <td>2.269317</td>\n",
       "      <td>2019-04-15 08:48</td>\n",
       "      <td>1555310880</td>\n",
       "    </tr>\n",
       "  </tbody>\n",
       "</table>\n",
       "<p>5 rows × 4222 columns</p>\n",
       "</div>"
      ],
      "text/plain": [
       "  row ID       longTime  AEAGHOAWE2T1  AEAGHOAWE2A0  AEAGHOAWE2T0  \\\n",
       "0   Row0  1555311120000     74.451979     19.111606     98.371549   \n",
       "1   Row1  1555311060000     73.933103     18.088026     98.186038   \n",
       "2   Row2  1555311000000     73.471742     25.843589     98.371549   \n",
       "3   Row3  1555310940000     73.010381     27.772137     98.371549   \n",
       "4   Row4  1555310880000     72.549020     18.402556     98.186038   \n",
       "\n",
       "   AEAGHOAWE1A0  AEAGHOAWE1T1  AEAGHOAWE1T0  AEAGHOAWE3T0  AEAGHOAWE3A0  ...  \\\n",
       "0     18.819155     93.337524     69.969526     95.445534      7.802471  ...   \n",
       "1     18.943335     92.869960     69.969526     95.445534     12.856953  ...   \n",
       "2     33.166077     92.343799     69.969526     95.628479     21.591973  ...   \n",
       "3     35.991205     91.876236     69.850105     95.607810     19.492370  ...   \n",
       "4     19.591687     91.408672     69.969526     95.607810      8.014898  ...   \n",
       "\n",
       "   RWWIHOT8_RV0  RWWIHOT9_RV0  RWWIHOT10RV0  RWWIHOTSURV0  RWWIHOTSUMV0  \\\n",
       "0     44.620461     22.338103     75.685755     73.945394      0.000000   \n",
       "1     53.182296     26.967692     75.685755     66.649583     56.385432   \n",
       "2     53.029243     26.851837     75.685755     66.587330     56.402658   \n",
       "3     53.015226     26.266369     75.685755     66.373907     56.527297   \n",
       "4     53.172932     26.605640     75.685755     66.529224     56.640964   \n",
       "\n",
       "   RWWIHO_VERV0  RWWIHO_UESV0  RWWIHOSUMAV0        stringTime  \\\n",
       "0      0.000000      0.000000      0.000000  2019-04-15 08:52   \n",
       "1     68.734584      9.127668      2.275890  2019-04-15 08:51   \n",
       "2     68.853203      9.136596      2.275735  2019-04-15 08:50   \n",
       "3     69.391059      9.138625      2.281882  2019-04-15 08:49   \n",
       "4     69.299560      9.121256      2.269317  2019-04-15 08:48   \n",
       "\n",
       "   correct_longtime  \n",
       "0        1555311120  \n",
       "1        1555311060  \n",
       "2        1555311000  \n",
       "3        1555310940  \n",
       "4        1555310880  \n",
       "\n",
       "[5 rows x 4222 columns]"
      ]
     },
     "execution_count": 6,
     "metadata": {},
     "output_type": "execute_result"
    }
   ],
   "source": [
    "test_new.head()"
   ]
  },
  {
   "cell_type": "code",
   "execution_count": 8,
   "metadata": {},
   "outputs": [
    {
     "name": "stdout",
     "output_type": "stream",
     "text": [
      "<class 'pandas.core.series.Series'>\n",
      "<class 'pandas.core.series.Series'>\n"
     ]
    }
   ],
   "source": [
    "# It will print the type of value of each column\n",
    "long_time = test_new.correct_longtime\n",
    "print(type(long_time))\n",
    "string_time = test_new.stringTime\n",
    "print(type(string_time))"
   ]
  },
  {
   "cell_type": "code",
   "execution_count": 9,
   "metadata": {},
   "outputs": [],
   "source": [
    "test_new['dateTime'] =  pd.to_datetime(test_new['stringTime'], format='%Y-%m-%d %H:%M')\n",
    "test_new['dateTime_column'] =  pd.to_datetime(test_new['stringTime'], format='%Y-%m-%d %H:%M')"
   ]
  },
  {
   "cell_type": "code",
   "execution_count": 10,
   "metadata": {},
   "outputs": [
    {
     "name": "stdout",
     "output_type": "stream",
     "text": [
      "(25000, 4224)\n"
     ]
    }
   ],
   "source": [
    "print(test_new.shape)  #ROWS, COLUMNS"
   ]
  },
  {
   "cell_type": "code",
   "execution_count": 11,
   "metadata": {},
   "outputs": [],
   "source": [
    "# making dateTime column as a index for the test_new panda dataframe\n",
    "test_new = test_new.set_index('dateTime')"
   ]
  },
  {
   "cell_type": "code",
   "execution_count": 12,
   "metadata": {},
   "outputs": [
    {
     "name": "stdout",
     "output_type": "stream",
     "text": [
      "12\n"
     ]
    }
   ],
   "source": [
    "# multivariate_column_label=['DEWIHOBT9_I0','AEDATZ_HO_V0','AEDAHO_T9_V2','AEWIHO_T9AV2','RWWIHOB_HWT0'\n",
    "#                            ,'RWWIHOB_MWT0']#rmse error 1.99\n",
    "\n",
    "# multivariate_column_label = ['DEWIHOBT9_I0','AEDATZ_HONP0','AEDATZK_ASP0','AEDATZ_HO_V0',\n",
    "#                              'AEDAHO_T9_V2','AEWIHO_T9AV2'] #rmse error 1.38\n",
    "\n",
    "#RWDAKRWRS8V0\n",
    "# 'AEDAHO_T8_V2','AEWIHO_T8AV2',\n",
    "multivariate_column_label = ['dateTime_column','DEWIHOBT9_I0','AEDATZ_HONP0','AEDATZK_ASP0','AEDATZ_HO_V0',\n",
    "                             'AEDATZ_TZCP2','AEDATZKA_8P0','AEDATZ_HO_P1','AEDAHO_T9_V2',\n",
    "                             'RWWIHOB_HWT0','RWWIHOB_MWT0','AEWIHO_T9AV2'] #rmse error 1.94\n",
    "size_column = len(multivariate_column_label)\n",
    "print(size_column)"
   ]
  },
  {
   "cell_type": "code",
   "execution_count": 13,
   "metadata": {},
   "outputs": [
    {
     "name": "stdout",
     "output_type": "stream",
     "text": [
      "12\n"
     ]
    }
   ],
   "source": [
    "size_column = len(multivariate_column_label)\n",
    "print(size_column)"
   ]
  },
  {
   "cell_type": "code",
   "execution_count": 14,
   "metadata": {},
   "outputs": [],
   "source": [
    "multivariate_data=test_new.iloc[0:25000][multivariate_column_label]\n",
    "multivariate_data=multivariate_data.loc[::-1]"
   ]
  },
  {
   "cell_type": "code",
   "execution_count": 16,
   "metadata": {
    "scrolled": false
   },
   "outputs": [
    {
     "data": {
      "text/html": [
       "<div>\n",
       "<style scoped>\n",
       "    .dataframe tbody tr th:only-of-type {\n",
       "        vertical-align: middle;\n",
       "    }\n",
       "\n",
       "    .dataframe tbody tr th {\n",
       "        vertical-align: top;\n",
       "    }\n",
       "\n",
       "    .dataframe thead th {\n",
       "        text-align: right;\n",
       "    }\n",
       "</style>\n",
       "<table border=\"1\" class=\"dataframe\">\n",
       "  <thead>\n",
       "    <tr style=\"text-align: right;\">\n",
       "      <th></th>\n",
       "      <th>dateTime_column</th>\n",
       "      <th>DEWIHOBT9_I0</th>\n",
       "      <th>AEDATZ_HONP0</th>\n",
       "      <th>AEDATZK_ASP0</th>\n",
       "      <th>AEDATZ_HO_V0</th>\n",
       "      <th>AEDATZ_TZCP2</th>\n",
       "      <th>AEDATZKA_8P0</th>\n",
       "      <th>AEDATZ_HO_P1</th>\n",
       "      <th>AEDAHO_T9_V2</th>\n",
       "      <th>RWWIHOB_HWT0</th>\n",
       "      <th>RWWIHOB_MWT0</th>\n",
       "      <th>AEWIHO_T9AV2</th>\n",
       "    </tr>\n",
       "    <tr>\n",
       "      <th>dateTime</th>\n",
       "      <th></th>\n",
       "      <th></th>\n",
       "      <th></th>\n",
       "      <th></th>\n",
       "      <th></th>\n",
       "      <th></th>\n",
       "      <th></th>\n",
       "      <th></th>\n",
       "      <th></th>\n",
       "      <th></th>\n",
       "      <th></th>\n",
       "      <th></th>\n",
       "    </tr>\n",
       "  </thead>\n",
       "  <tbody>\n",
       "    <tr>\n",
       "      <th>2019-03-11 03:14:00</th>\n",
       "      <td>2019-03-11 03:14:00</td>\n",
       "      <td>100.0</td>\n",
       "      <td>97.304518</td>\n",
       "      <td>97.482960</td>\n",
       "      <td>46.119388</td>\n",
       "      <td>98.275765</td>\n",
       "      <td>92.911299</td>\n",
       "      <td>97.357811</td>\n",
       "      <td>83.327361</td>\n",
       "      <td>94.076290</td>\n",
       "      <td>96.594824</td>\n",
       "      <td>79.178306</td>\n",
       "    </tr>\n",
       "    <tr>\n",
       "      <th>2019-03-11 03:15:00</th>\n",
       "      <td>2019-03-11 03:15:00</td>\n",
       "      <td>100.0</td>\n",
       "      <td>96.950979</td>\n",
       "      <td>97.167113</td>\n",
       "      <td>46.534541</td>\n",
       "      <td>97.658591</td>\n",
       "      <td>92.709599</td>\n",
       "      <td>97.563494</td>\n",
       "      <td>84.314814</td>\n",
       "      <td>94.003521</td>\n",
       "      <td>96.529931</td>\n",
       "      <td>81.659117</td>\n",
       "    </tr>\n",
       "    <tr>\n",
       "      <th>2019-03-11 03:16:00</th>\n",
       "      <td>2019-03-11 03:16:00</td>\n",
       "      <td>100.0</td>\n",
       "      <td>96.722113</td>\n",
       "      <td>96.937628</td>\n",
       "      <td>46.555631</td>\n",
       "      <td>95.779320</td>\n",
       "      <td>92.519508</td>\n",
       "      <td>97.431268</td>\n",
       "      <td>84.380943</td>\n",
       "      <td>93.851567</td>\n",
       "      <td>96.404936</td>\n",
       "      <td>86.055430</td>\n",
       "    </tr>\n",
       "    <tr>\n",
       "      <th>2019-03-11 03:17:00</th>\n",
       "      <td>2019-03-11 03:17:00</td>\n",
       "      <td>100.0</td>\n",
       "      <td>96.671992</td>\n",
       "      <td>96.868238</td>\n",
       "      <td>45.940449</td>\n",
       "      <td>96.898266</td>\n",
       "      <td>92.876853</td>\n",
       "      <td>97.252133</td>\n",
       "      <td>83.279853</td>\n",
       "      <td>93.727603</td>\n",
       "      <td>96.295169</td>\n",
       "      <td>87.113691</td>\n",
       "    </tr>\n",
       "    <tr>\n",
       "      <th>2019-03-11 03:18:00</th>\n",
       "      <td>2019-03-11 03:18:00</td>\n",
       "      <td>100.0</td>\n",
       "      <td>96.717532</td>\n",
       "      <td>96.901785</td>\n",
       "      <td>44.218947</td>\n",
       "      <td>97.680386</td>\n",
       "      <td>92.997927</td>\n",
       "      <td>97.289250</td>\n",
       "      <td>79.963124</td>\n",
       "      <td>93.643636</td>\n",
       "      <td>96.264723</td>\n",
       "      <td>87.266264</td>\n",
       "    </tr>\n",
       "  </tbody>\n",
       "</table>\n",
       "</div>"
      ],
      "text/plain": [
       "                        dateTime_column  DEWIHOBT9_I0  AEDATZ_HONP0  \\\n",
       "dateTime                                                              \n",
       "2019-03-11 03:14:00 2019-03-11 03:14:00         100.0     97.304518   \n",
       "2019-03-11 03:15:00 2019-03-11 03:15:00         100.0     96.950979   \n",
       "2019-03-11 03:16:00 2019-03-11 03:16:00         100.0     96.722113   \n",
       "2019-03-11 03:17:00 2019-03-11 03:17:00         100.0     96.671992   \n",
       "2019-03-11 03:18:00 2019-03-11 03:18:00         100.0     96.717532   \n",
       "\n",
       "                     AEDATZK_ASP0  AEDATZ_HO_V0  AEDATZ_TZCP2  AEDATZKA_8P0  \\\n",
       "dateTime                                                                      \n",
       "2019-03-11 03:14:00     97.482960     46.119388     98.275765     92.911299   \n",
       "2019-03-11 03:15:00     97.167113     46.534541     97.658591     92.709599   \n",
       "2019-03-11 03:16:00     96.937628     46.555631     95.779320     92.519508   \n",
       "2019-03-11 03:17:00     96.868238     45.940449     96.898266     92.876853   \n",
       "2019-03-11 03:18:00     96.901785     44.218947     97.680386     92.997927   \n",
       "\n",
       "                     AEDATZ_HO_P1  AEDAHO_T9_V2  RWWIHOB_HWT0  RWWIHOB_MWT0  \\\n",
       "dateTime                                                                      \n",
       "2019-03-11 03:14:00     97.357811     83.327361     94.076290     96.594824   \n",
       "2019-03-11 03:15:00     97.563494     84.314814     94.003521     96.529931   \n",
       "2019-03-11 03:16:00     97.431268     84.380943     93.851567     96.404936   \n",
       "2019-03-11 03:17:00     97.252133     83.279853     93.727603     96.295169   \n",
       "2019-03-11 03:18:00     97.289250     79.963124     93.643636     96.264723   \n",
       "\n",
       "                     AEWIHO_T9AV2  \n",
       "dateTime                           \n",
       "2019-03-11 03:14:00     79.178306  \n",
       "2019-03-11 03:15:00     81.659117  \n",
       "2019-03-11 03:16:00     86.055430  \n",
       "2019-03-11 03:17:00     87.113691  \n",
       "2019-03-11 03:18:00     87.266264  "
      ]
     },
     "execution_count": 16,
     "metadata": {},
     "output_type": "execute_result"
    }
   ],
   "source": [
    "multivariate_data.head()"
   ]
  },
  {
   "cell_type": "code",
   "execution_count": null,
   "metadata": {},
   "outputs": [],
   "source": [
    "ax = multivariate_data.plot(subplots=True, layout=(size_column,1))\n",
    "plt.rcParams['figure.figsize'] =(20,10)\n",
    "# plt.savefig('E:/University of Bremen MSc/masters_thesis/forecasting_sensor_data_Salzgitter_AG/images_from_training/multivariate_data_regression.png')\n",
    "plt.show()"
   ]
  },
  {
   "cell_type": "code",
   "execution_count": 32,
   "metadata": {},
   "outputs": [
    {
     "name": "stdout",
     "output_type": "stream",
     "text": [
      "size of zero_index:  756\n"
     ]
    }
   ],
   "source": [
    "zero_index=[]\n",
    "zero_index=np.array(zero_index)\n",
    "for index, value in multivariate_data.iterrows():\n",
    "    for i , v in enumerate(value):\n",
    "        if i == 0  and v == 0.0:\n",
    "#             print('index: ',index)\n",
    "            zero_index=np.append(zero_index,index)\n",
    "\n",
    "print('size of zero_index: ',zero_index.size)"
   ]
  },
  {
   "cell_type": "code",
   "execution_count": 33,
   "metadata": {},
   "outputs": [],
   "source": [
    "if zero_index.size > 0:\n",
    "    multivariate_data_modify = multivariate_data.drop(zero_index,axis=0) # axis= 0 means row indiated. 1 means column indicated\n",
    "else:\n",
    "    multivariate_data_modify = multivariate_data"
   ]
  },
  {
   "cell_type": "code",
   "execution_count": 34,
   "metadata": {},
   "outputs": [
    {
     "name": "stdout",
     "output_type": "stream",
     "text": [
      "(25000, 18)\n",
      "(24242, 18)\n"
     ]
    },
    {
     "data": {
      "text/html": [
       "<div>\n",
       "<style scoped>\n",
       "    .dataframe tbody tr th:only-of-type {\n",
       "        vertical-align: middle;\n",
       "    }\n",
       "\n",
       "    .dataframe tbody tr th {\n",
       "        vertical-align: top;\n",
       "    }\n",
       "\n",
       "    .dataframe thead th {\n",
       "        text-align: right;\n",
       "    }\n",
       "</style>\n",
       "<table border=\"1\" class=\"dataframe\">\n",
       "  <thead>\n",
       "    <tr style=\"text-align: right;\">\n",
       "      <th></th>\n",
       "      <th>DEWIHOBT9_I0</th>\n",
       "      <th>AEDATZ_HONP0</th>\n",
       "      <th>AEDATZK_ASP0</th>\n",
       "      <th>AEDATZ_HO_V0</th>\n",
       "      <th>AEDATZ_TZCP2</th>\n",
       "      <th>AEDATZKA_8P0</th>\n",
       "      <th>AEDATZ_HO_P1</th>\n",
       "      <th>AEDAHO_T9_V2</th>\n",
       "      <th>RWWIHOB_HWT0</th>\n",
       "      <th>RWWIHOB_MWT0</th>\n",
       "      <th>AEWIHO_T9AV2</th>\n",
       "      <th>Date</th>\n",
       "      <th>Time</th>\n",
       "      <th>Weekday_name</th>\n",
       "      <th>weekday</th>\n",
       "      <th>TypeofDAY</th>\n",
       "      <th>TypeofDAY_number</th>\n",
       "      <th>numric_time</th>\n",
       "    </tr>\n",
       "    <tr>\n",
       "      <th>dateTime</th>\n",
       "      <th></th>\n",
       "      <th></th>\n",
       "      <th></th>\n",
       "      <th></th>\n",
       "      <th></th>\n",
       "      <th></th>\n",
       "      <th></th>\n",
       "      <th></th>\n",
       "      <th></th>\n",
       "      <th></th>\n",
       "      <th></th>\n",
       "      <th></th>\n",
       "      <th></th>\n",
       "      <th></th>\n",
       "      <th></th>\n",
       "      <th></th>\n",
       "      <th></th>\n",
       "      <th></th>\n",
       "    </tr>\n",
       "  </thead>\n",
       "  <tbody>\n",
       "    <tr>\n",
       "      <th>2019-03-11 03:14:00</th>\n",
       "      <td>100.0</td>\n",
       "      <td>97.304518</td>\n",
       "      <td>97.482960</td>\n",
       "      <td>46.119388</td>\n",
       "      <td>98.275765</td>\n",
       "      <td>92.911299</td>\n",
       "      <td>97.357811</td>\n",
       "      <td>83.327361</td>\n",
       "      <td>94.076290</td>\n",
       "      <td>96.594824</td>\n",
       "      <td>79.178306</td>\n",
       "      <td>11/03/2019</td>\n",
       "      <td>03:14:00</td>\n",
       "      <td>Monday</td>\n",
       "      <td>0</td>\n",
       "      <td>Weekday</td>\n",
       "      <td>1</td>\n",
       "      <td>11640.0</td>\n",
       "    </tr>\n",
       "    <tr>\n",
       "      <th>2019-03-11 03:15:00</th>\n",
       "      <td>100.0</td>\n",
       "      <td>96.950979</td>\n",
       "      <td>97.167113</td>\n",
       "      <td>46.534541</td>\n",
       "      <td>97.658591</td>\n",
       "      <td>92.709599</td>\n",
       "      <td>97.563494</td>\n",
       "      <td>84.314814</td>\n",
       "      <td>94.003521</td>\n",
       "      <td>96.529931</td>\n",
       "      <td>81.659117</td>\n",
       "      <td>11/03/2019</td>\n",
       "      <td>03:15:00</td>\n",
       "      <td>Monday</td>\n",
       "      <td>0</td>\n",
       "      <td>Weekday</td>\n",
       "      <td>1</td>\n",
       "      <td>11700.0</td>\n",
       "    </tr>\n",
       "    <tr>\n",
       "      <th>2019-03-11 03:16:00</th>\n",
       "      <td>100.0</td>\n",
       "      <td>96.722113</td>\n",
       "      <td>96.937628</td>\n",
       "      <td>46.555631</td>\n",
       "      <td>95.779320</td>\n",
       "      <td>92.519508</td>\n",
       "      <td>97.431268</td>\n",
       "      <td>84.380943</td>\n",
       "      <td>93.851567</td>\n",
       "      <td>96.404936</td>\n",
       "      <td>86.055430</td>\n",
       "      <td>11/03/2019</td>\n",
       "      <td>03:16:00</td>\n",
       "      <td>Monday</td>\n",
       "      <td>0</td>\n",
       "      <td>Weekday</td>\n",
       "      <td>1</td>\n",
       "      <td>11760.0</td>\n",
       "    </tr>\n",
       "    <tr>\n",
       "      <th>2019-03-11 03:17:00</th>\n",
       "      <td>100.0</td>\n",
       "      <td>96.671992</td>\n",
       "      <td>96.868238</td>\n",
       "      <td>45.940449</td>\n",
       "      <td>96.898266</td>\n",
       "      <td>92.876853</td>\n",
       "      <td>97.252133</td>\n",
       "      <td>83.279853</td>\n",
       "      <td>93.727603</td>\n",
       "      <td>96.295169</td>\n",
       "      <td>87.113691</td>\n",
       "      <td>11/03/2019</td>\n",
       "      <td>03:17:00</td>\n",
       "      <td>Monday</td>\n",
       "      <td>0</td>\n",
       "      <td>Weekday</td>\n",
       "      <td>1</td>\n",
       "      <td>11820.0</td>\n",
       "    </tr>\n",
       "    <tr>\n",
       "      <th>2019-03-11 03:18:00</th>\n",
       "      <td>100.0</td>\n",
       "      <td>96.717532</td>\n",
       "      <td>96.901785</td>\n",
       "      <td>44.218947</td>\n",
       "      <td>97.680386</td>\n",
       "      <td>92.997927</td>\n",
       "      <td>97.289250</td>\n",
       "      <td>79.963124</td>\n",
       "      <td>93.643636</td>\n",
       "      <td>96.264723</td>\n",
       "      <td>87.266264</td>\n",
       "      <td>11/03/2019</td>\n",
       "      <td>03:18:00</td>\n",
       "      <td>Monday</td>\n",
       "      <td>0</td>\n",
       "      <td>Weekday</td>\n",
       "      <td>1</td>\n",
       "      <td>11880.0</td>\n",
       "    </tr>\n",
       "  </tbody>\n",
       "</table>\n",
       "</div>"
      ],
      "text/plain": [
       "                     DEWIHOBT9_I0  AEDATZ_HONP0  AEDATZK_ASP0  AEDATZ_HO_V0  \\\n",
       "dateTime                                                                      \n",
       "2019-03-11 03:14:00         100.0     97.304518     97.482960     46.119388   \n",
       "2019-03-11 03:15:00         100.0     96.950979     97.167113     46.534541   \n",
       "2019-03-11 03:16:00         100.0     96.722113     96.937628     46.555631   \n",
       "2019-03-11 03:17:00         100.0     96.671992     96.868238     45.940449   \n",
       "2019-03-11 03:18:00         100.0     96.717532     96.901785     44.218947   \n",
       "\n",
       "                     AEDATZ_TZCP2  AEDATZKA_8P0  AEDATZ_HO_P1  AEDAHO_T9_V2  \\\n",
       "dateTime                                                                      \n",
       "2019-03-11 03:14:00     98.275765     92.911299     97.357811     83.327361   \n",
       "2019-03-11 03:15:00     97.658591     92.709599     97.563494     84.314814   \n",
       "2019-03-11 03:16:00     95.779320     92.519508     97.431268     84.380943   \n",
       "2019-03-11 03:17:00     96.898266     92.876853     97.252133     83.279853   \n",
       "2019-03-11 03:18:00     97.680386     92.997927     97.289250     79.963124   \n",
       "\n",
       "                     RWWIHOB_HWT0  RWWIHOB_MWT0  AEWIHO_T9AV2        Date  \\\n",
       "dateTime                                                                    \n",
       "2019-03-11 03:14:00     94.076290     96.594824     79.178306  11/03/2019   \n",
       "2019-03-11 03:15:00     94.003521     96.529931     81.659117  11/03/2019   \n",
       "2019-03-11 03:16:00     93.851567     96.404936     86.055430  11/03/2019   \n",
       "2019-03-11 03:17:00     93.727603     96.295169     87.113691  11/03/2019   \n",
       "2019-03-11 03:18:00     93.643636     96.264723     87.266264  11/03/2019   \n",
       "\n",
       "                         Time Weekday_name  weekday TypeofDAY  \\\n",
       "dateTime                                                        \n",
       "2019-03-11 03:14:00  03:14:00       Monday        0   Weekday   \n",
       "2019-03-11 03:15:00  03:15:00       Monday        0   Weekday   \n",
       "2019-03-11 03:16:00  03:16:00       Monday        0   Weekday   \n",
       "2019-03-11 03:17:00  03:17:00       Monday        0   Weekday   \n",
       "2019-03-11 03:18:00  03:18:00       Monday        0   Weekday   \n",
       "\n",
       "                     TypeofDAY_number  numric_time  \n",
       "dateTime                                            \n",
       "2019-03-11 03:14:00                 1      11640.0  \n",
       "2019-03-11 03:15:00                 1      11700.0  \n",
       "2019-03-11 03:16:00                 1      11760.0  \n",
       "2019-03-11 03:17:00                 1      11820.0  \n",
       "2019-03-11 03:18:00                 1      11880.0  "
      ]
     },
     "execution_count": 34,
     "metadata": {},
     "output_type": "execute_result"
    }
   ],
   "source": [
    "print(multivariate_data.shape)\n",
    "print(multivariate_data_modify.shape)\n",
    "\n",
    "multivariate_data_modify.head()"
   ]
  },
  {
   "cell_type": "code",
   "execution_count": null,
   "metadata": {},
   "outputs": [],
   "source": [
    "bx = multivariate_data_modify.plot(subplots=True, layout=(size_column,1))\n",
    "plt.rcParams['figure.figsize'] =(20,10)\n",
    "plt.legend(loc='upper left')\n",
    "plt.show()"
   ]
  },
  {
   "cell_type": "code",
   "execution_count": 37,
   "metadata": {},
   "outputs": [],
   "source": [
    "multivariate_data_modify = multivariate_data_modify.drop(['Date','Time','Weekday_name','weekday','TypeofDAY','TypeofDAY_number','numric_time'], axis=1)"
   ]
  },
  {
   "cell_type": "code",
   "execution_count": 38,
   "metadata": {},
   "outputs": [
    {
     "data": {
      "text/html": [
       "<div>\n",
       "<style scoped>\n",
       "    .dataframe tbody tr th:only-of-type {\n",
       "        vertical-align: middle;\n",
       "    }\n",
       "\n",
       "    .dataframe tbody tr th {\n",
       "        vertical-align: top;\n",
       "    }\n",
       "\n",
       "    .dataframe thead th {\n",
       "        text-align: right;\n",
       "    }\n",
       "</style>\n",
       "<table border=\"1\" class=\"dataframe\">\n",
       "  <thead>\n",
       "    <tr style=\"text-align: right;\">\n",
       "      <th></th>\n",
       "      <th>DEWIHOBT9_I0</th>\n",
       "      <th>AEDATZ_HONP0</th>\n",
       "      <th>AEDATZK_ASP0</th>\n",
       "      <th>AEDATZ_HO_V0</th>\n",
       "      <th>AEDATZ_TZCP2</th>\n",
       "      <th>AEDATZKA_8P0</th>\n",
       "      <th>AEDATZ_HO_P1</th>\n",
       "      <th>AEDAHO_T9_V2</th>\n",
       "      <th>RWWIHOB_HWT0</th>\n",
       "      <th>RWWIHOB_MWT0</th>\n",
       "      <th>AEWIHO_T9AV2</th>\n",
       "    </tr>\n",
       "    <tr>\n",
       "      <th>dateTime</th>\n",
       "      <th></th>\n",
       "      <th></th>\n",
       "      <th></th>\n",
       "      <th></th>\n",
       "      <th></th>\n",
       "      <th></th>\n",
       "      <th></th>\n",
       "      <th></th>\n",
       "      <th></th>\n",
       "      <th></th>\n",
       "      <th></th>\n",
       "    </tr>\n",
       "  </thead>\n",
       "  <tbody>\n",
       "    <tr>\n",
       "      <th>2019-03-11 06:00:00</th>\n",
       "      <td>100.0</td>\n",
       "      <td>97.177166</td>\n",
       "      <td>97.291490</td>\n",
       "      <td>41.065755</td>\n",
       "      <td>97.940932</td>\n",
       "      <td>93.150835</td>\n",
       "      <td>97.429980</td>\n",
       "      <td>72.288793</td>\n",
       "      <td>92.283270</td>\n",
       "      <td>94.806510</td>\n",
       "      <td>77.949226</td>\n",
       "    </tr>\n",
       "    <tr>\n",
       "      <th>2019-03-11 06:01:00</th>\n",
       "      <td>100.0</td>\n",
       "      <td>97.020823</td>\n",
       "      <td>97.203219</td>\n",
       "      <td>43.359671</td>\n",
       "      <td>97.870094</td>\n",
       "      <td>93.173144</td>\n",
       "      <td>97.448278</td>\n",
       "      <td>77.459238</td>\n",
       "      <td>92.224090</td>\n",
       "      <td>94.735201</td>\n",
       "      <td>77.951114</td>\n",
       "    </tr>\n",
       "    <tr>\n",
       "      <th>2019-03-11 06:02:00</th>\n",
       "      <td>100.0</td>\n",
       "      <td>96.975788</td>\n",
       "      <td>97.185224</td>\n",
       "      <td>44.332790</td>\n",
       "      <td>97.912693</td>\n",
       "      <td>93.263816</td>\n",
       "      <td>97.418899</td>\n",
       "      <td>79.500532</td>\n",
       "      <td>92.072937</td>\n",
       "      <td>94.611008</td>\n",
       "      <td>78.243991</td>\n",
       "    </tr>\n",
       "    <tr>\n",
       "      <th>2019-03-11 06:03:00</th>\n",
       "      <td>100.0</td>\n",
       "      <td>97.168392</td>\n",
       "      <td>97.320316</td>\n",
       "      <td>44.755227</td>\n",
       "      <td>97.891398</td>\n",
       "      <td>93.245289</td>\n",
       "      <td>97.555245</td>\n",
       "      <td>80.792918</td>\n",
       "      <td>91.976162</td>\n",
       "      <td>94.514064</td>\n",
       "      <td>83.347804</td>\n",
       "    </tr>\n",
       "    <tr>\n",
       "      <th>2019-03-11 06:04:00</th>\n",
       "      <td>100.0</td>\n",
       "      <td>97.392551</td>\n",
       "      <td>97.544565</td>\n",
       "      <td>44.507580</td>\n",
       "      <td>97.868120</td>\n",
       "      <td>93.167271</td>\n",
       "      <td>97.382815</td>\n",
       "      <td>80.309394</td>\n",
       "      <td>91.892995</td>\n",
       "      <td>94.442754</td>\n",
       "      <td>85.305147</td>\n",
       "    </tr>\n",
       "  </tbody>\n",
       "</table>\n",
       "</div>"
      ],
      "text/plain": [
       "                     DEWIHOBT9_I0  AEDATZ_HONP0  AEDATZK_ASP0  AEDATZ_HO_V0  \\\n",
       "dateTime                                                                      \n",
       "2019-03-11 06:00:00         100.0     97.177166     97.291490     41.065755   \n",
       "2019-03-11 06:01:00         100.0     97.020823     97.203219     43.359671   \n",
       "2019-03-11 06:02:00         100.0     96.975788     97.185224     44.332790   \n",
       "2019-03-11 06:03:00         100.0     97.168392     97.320316     44.755227   \n",
       "2019-03-11 06:04:00         100.0     97.392551     97.544565     44.507580   \n",
       "\n",
       "                     AEDATZ_TZCP2  AEDATZKA_8P0  AEDATZ_HO_P1  AEDAHO_T9_V2  \\\n",
       "dateTime                                                                      \n",
       "2019-03-11 06:00:00     97.940932     93.150835     97.429980     72.288793   \n",
       "2019-03-11 06:01:00     97.870094     93.173144     97.448278     77.459238   \n",
       "2019-03-11 06:02:00     97.912693     93.263816     97.418899     79.500532   \n",
       "2019-03-11 06:03:00     97.891398     93.245289     97.555245     80.792918   \n",
       "2019-03-11 06:04:00     97.868120     93.167271     97.382815     80.309394   \n",
       "\n",
       "                     RWWIHOB_HWT0  RWWIHOB_MWT0  AEWIHO_T9AV2  \n",
       "dateTime                                                       \n",
       "2019-03-11 06:00:00     92.283270     94.806510     77.949226  \n",
       "2019-03-11 06:01:00     92.224090     94.735201     77.951114  \n",
       "2019-03-11 06:02:00     92.072937     94.611008     78.243991  \n",
       "2019-03-11 06:03:00     91.976162     94.514064     83.347804  \n",
       "2019-03-11 06:04:00     91.892995     94.442754     85.305147  "
      ]
     },
     "execution_count": 38,
     "metadata": {},
     "output_type": "execute_result"
    }
   ],
   "source": [
    "multivariate_data_modify.head()"
   ]
  },
  {
   "cell_type": "code",
   "execution_count": 35,
   "metadata": {},
   "outputs": [],
   "source": [
    "from numpy import nan\n",
    "multivariate_data_drop_zero= multivariate_data_modify.replace(0,nan)\n",
    "multivariate_data_drop_zero=multivariate_data_drop_zero.dropna(how='any',axis=0)"
   ]
  },
  {
   "cell_type": "code",
   "execution_count": 36,
   "metadata": {},
   "outputs": [
    {
     "name": "stdout",
     "output_type": "stream",
     "text": [
      "(24242, 18)\n",
      "(12923, 18)\n"
     ]
    }
   ],
   "source": [
    "print(multivariate_data_modify.shape)\n",
    "print(multivariate_data_drop_zero.shape)"
   ]
  },
  {
   "cell_type": "code",
   "execution_count": null,
   "metadata": {
    "scrolled": false
   },
   "outputs": [],
   "source": [
    "cx = multivariate_data_drop_zero.plot(subplots=True, layout=(size_column,1))\n",
    "plt.rcParams['figure.figsize'] =(20,10)\n",
    "plt.show()"
   ]
  },
  {
   "cell_type": "code",
   "execution_count": 37,
   "metadata": {},
   "outputs": [],
   "source": [
    "multivariate_data_drop_zero_resample = multivariate_data_drop_zero.resample('1min').mean()"
   ]
  },
  {
   "cell_type": "code",
   "execution_count": 38,
   "metadata": {},
   "outputs": [
    {
     "name": "stdout",
     "output_type": "stream",
     "text": [
      "(12923, 18)\n",
      "(60640, 14)\n"
     ]
    }
   ],
   "source": [
    "print(multivariate_data_drop_zero.shape)\n",
    "print(multivariate_data_drop_zero_resample.shape)"
   ]
  },
  {
   "cell_type": "code",
   "execution_count": 39,
   "metadata": {},
   "outputs": [],
   "source": [
    "multivariate_data_drop_zero_interpolate = multivariate_data_drop_zero_resample.interpolate('linear')"
   ]
  },
  {
   "cell_type": "code",
   "execution_count": 40,
   "metadata": {},
   "outputs": [
    {
     "name": "stdout",
     "output_type": "stream",
     "text": [
      "(60640, 14)\n"
     ]
    }
   ],
   "source": [
    "print(multivariate_data_drop_zero_interpolate.shape)"
   ]
  },
  {
   "cell_type": "code",
   "execution_count": 41,
   "metadata": {
    "scrolled": true
   },
   "outputs": [
    {
     "data": {
      "text/html": [
       "<div>\n",
       "<style scoped>\n",
       "    .dataframe tbody tr th:only-of-type {\n",
       "        vertical-align: middle;\n",
       "    }\n",
       "\n",
       "    .dataframe tbody tr th {\n",
       "        vertical-align: top;\n",
       "    }\n",
       "\n",
       "    .dataframe thead th {\n",
       "        text-align: right;\n",
       "    }\n",
       "</style>\n",
       "<table border=\"1\" class=\"dataframe\">\n",
       "  <thead>\n",
       "    <tr style=\"text-align: right;\">\n",
       "      <th></th>\n",
       "      <th>DEWIHOBT9_I0</th>\n",
       "      <th>AEDATZ_HONP0</th>\n",
       "      <th>AEDATZK_ASP0</th>\n",
       "      <th>AEDATZ_HO_V0</th>\n",
       "      <th>AEDATZ_TZCP2</th>\n",
       "      <th>AEDATZKA_8P0</th>\n",
       "      <th>AEDATZ_HO_P1</th>\n",
       "      <th>AEDAHO_T9_V2</th>\n",
       "      <th>RWWIHOB_HWT0</th>\n",
       "      <th>RWWIHOB_MWT0</th>\n",
       "      <th>AEWIHO_T9AV2</th>\n",
       "      <th>weekday</th>\n",
       "      <th>TypeofDAY_number</th>\n",
       "      <th>numric_time</th>\n",
       "    </tr>\n",
       "    <tr>\n",
       "      <th>dateTime</th>\n",
       "      <th></th>\n",
       "      <th></th>\n",
       "      <th></th>\n",
       "      <th></th>\n",
       "      <th></th>\n",
       "      <th></th>\n",
       "      <th></th>\n",
       "      <th></th>\n",
       "      <th></th>\n",
       "      <th></th>\n",
       "      <th></th>\n",
       "      <th></th>\n",
       "      <th></th>\n",
       "      <th></th>\n",
       "    </tr>\n",
       "  </thead>\n",
       "  <tbody>\n",
       "    <tr>\n",
       "      <th>2019-03-12 00:01:00</th>\n",
       "      <td>100.0</td>\n",
       "      <td>97.659706</td>\n",
       "      <td>97.900850</td>\n",
       "      <td>50.415568</td>\n",
       "      <td>96.066121</td>\n",
       "      <td>93.089252</td>\n",
       "      <td>95.626245</td>\n",
       "      <td>75.463649</td>\n",
       "      <td>94.670504</td>\n",
       "      <td>96.830387</td>\n",
       "      <td>84.910029</td>\n",
       "      <td>1.0</td>\n",
       "      <td>1.0</td>\n",
       "      <td>60.0</td>\n",
       "    </tr>\n",
       "    <tr>\n",
       "      <th>2019-03-12 00:02:00</th>\n",
       "      <td>100.0</td>\n",
       "      <td>97.676245</td>\n",
       "      <td>97.915906</td>\n",
       "      <td>49.594916</td>\n",
       "      <td>96.171131</td>\n",
       "      <td>93.094994</td>\n",
       "      <td>95.935807</td>\n",
       "      <td>75.068848</td>\n",
       "      <td>94.503361</td>\n",
       "      <td>96.692570</td>\n",
       "      <td>80.273688</td>\n",
       "      <td>1.0</td>\n",
       "      <td>1.0</td>\n",
       "      <td>120.0</td>\n",
       "    </tr>\n",
       "    <tr>\n",
       "      <th>2019-03-12 00:03:00</th>\n",
       "      <td>100.0</td>\n",
       "      <td>97.564928</td>\n",
       "      <td>97.778770</td>\n",
       "      <td>48.591651</td>\n",
       "      <td>96.339044</td>\n",
       "      <td>93.109346</td>\n",
       "      <td>96.008232</td>\n",
       "      <td>74.879726</td>\n",
       "      <td>94.371401</td>\n",
       "      <td>96.601240</td>\n",
       "      <td>78.495344</td>\n",
       "      <td>1.0</td>\n",
       "      <td>1.0</td>\n",
       "      <td>180.0</td>\n",
       "    </tr>\n",
       "    <tr>\n",
       "      <th>2019-03-12 00:04:00</th>\n",
       "      <td>100.0</td>\n",
       "      <td>97.599656</td>\n",
       "      <td>97.790127</td>\n",
       "      <td>48.110811</td>\n",
       "      <td>96.071072</td>\n",
       "      <td>93.073855</td>\n",
       "      <td>95.955914</td>\n",
       "      <td>75.158981</td>\n",
       "      <td>94.009915</td>\n",
       "      <td>96.360875</td>\n",
       "      <td>78.383038</td>\n",
       "      <td>1.0</td>\n",
       "      <td>1.0</td>\n",
       "      <td>240.0</td>\n",
       "    </tr>\n",
       "    <tr>\n",
       "      <th>2019-03-12 00:05:00</th>\n",
       "      <td>100.0</td>\n",
       "      <td>97.745070</td>\n",
       "      <td>97.935292</td>\n",
       "      <td>47.084092</td>\n",
       "      <td>96.985940</td>\n",
       "      <td>93.257551</td>\n",
       "      <td>95.921884</td>\n",
       "      <td>75.074500</td>\n",
       "      <td>94.049902</td>\n",
       "      <td>96.419362</td>\n",
       "      <td>78.123191</td>\n",
       "      <td>1.0</td>\n",
       "      <td>1.0</td>\n",
       "      <td>300.0</td>\n",
       "    </tr>\n",
       "  </tbody>\n",
       "</table>\n",
       "</div>"
      ],
      "text/plain": [
       "                     DEWIHOBT9_I0  AEDATZ_HONP0  AEDATZK_ASP0  AEDATZ_HO_V0  \\\n",
       "dateTime                                                                      \n",
       "2019-03-12 00:01:00         100.0     97.659706     97.900850     50.415568   \n",
       "2019-03-12 00:02:00         100.0     97.676245     97.915906     49.594916   \n",
       "2019-03-12 00:03:00         100.0     97.564928     97.778770     48.591651   \n",
       "2019-03-12 00:04:00         100.0     97.599656     97.790127     48.110811   \n",
       "2019-03-12 00:05:00         100.0     97.745070     97.935292     47.084092   \n",
       "\n",
       "                     AEDATZ_TZCP2  AEDATZKA_8P0  AEDATZ_HO_P1  AEDAHO_T9_V2  \\\n",
       "dateTime                                                                      \n",
       "2019-03-12 00:01:00     96.066121     93.089252     95.626245     75.463649   \n",
       "2019-03-12 00:02:00     96.171131     93.094994     95.935807     75.068848   \n",
       "2019-03-12 00:03:00     96.339044     93.109346     96.008232     74.879726   \n",
       "2019-03-12 00:04:00     96.071072     93.073855     95.955914     75.158981   \n",
       "2019-03-12 00:05:00     96.985940     93.257551     95.921884     75.074500   \n",
       "\n",
       "                     RWWIHOB_HWT0  RWWIHOB_MWT0  AEWIHO_T9AV2  weekday  \\\n",
       "dateTime                                                                 \n",
       "2019-03-12 00:01:00     94.670504     96.830387     84.910029      1.0   \n",
       "2019-03-12 00:02:00     94.503361     96.692570     80.273688      1.0   \n",
       "2019-03-12 00:03:00     94.371401     96.601240     78.495344      1.0   \n",
       "2019-03-12 00:04:00     94.009915     96.360875     78.383038      1.0   \n",
       "2019-03-12 00:05:00     94.049902     96.419362     78.123191      1.0   \n",
       "\n",
       "                     TypeofDAY_number  numric_time  \n",
       "dateTime                                            \n",
       "2019-03-12 00:01:00               1.0         60.0  \n",
       "2019-03-12 00:02:00               1.0        120.0  \n",
       "2019-03-12 00:03:00               1.0        180.0  \n",
       "2019-03-12 00:04:00               1.0        240.0  \n",
       "2019-03-12 00:05:00               1.0        300.0  "
      ]
     },
     "execution_count": 41,
     "metadata": {},
     "output_type": "execute_result"
    }
   ],
   "source": [
    "multivariate_data_drop_zero_interpolate.head()"
   ]
  },
  {
   "cell_type": "code",
   "execution_count": null,
   "metadata": {},
   "outputs": [],
   "source": [
    "dx = multivariate_data_drop_zero_interpolate.plot(subplots=True, layout=(size_column,1))\n",
    "plt.rcParams['figure.figsize'] =(20,10)\n",
    "plt.show()"
   ]
  },
  {
   "cell_type": "code",
   "execution_count": null,
   "metadata": {
    "scrolled": true
   },
   "outputs": [],
   "source": [
    "hist = multivariate_data_drop_zero.hist(bins=3)"
   ]
  },
  {
   "cell_type": "code",
   "execution_count": 42,
   "metadata": {},
   "outputs": [
    {
     "name": "stdout",
     "output_type": "stream",
     "text": [
      "AEDATZ_HONP0\n",
      "AEDATZK_ASP0\n",
      "AEDATZ_HO_V0\n",
      "AEDATZ_TZCP2\n",
      "AEDATZKA_8P0\n",
      "AEDATZ_HO_P1\n",
      "AEDAHO_T9_V2\n",
      "RWWIHOB_HWT0\n",
      "RWWIHOB_MWT0\n",
      "AEWIHO_T9AV2\n",
      "terminate\n"
     ]
    }
   ],
   "source": [
    "# print(len(multivariate_column_label))\n",
    "for idx, i in enumerate(multivariate_column_label):\n",
    "    now_idx = idx+2\n",
    "    \n",
    "    if now_idx == len(multivariate_column_label):\n",
    "        print('terminate')\n",
    "        break\n",
    "    print(multivariate_column_label[now_idx])\n",
    "    drop_consecutive_same_value_zero = multivariate_data_drop_zero.loc[multivariate_data_drop_zero[multivariate_column_label[now_idx]].shift() != multivariate_data_drop_zero[multivariate_column_label[now_idx]]]\n",
    "    drop_consecutive_same_value_interpolate = multivariate_data_drop_zero_interpolate.loc[multivariate_data_drop_zero_interpolate[multivariate_column_label[now_idx]].shift() != multivariate_data_drop_zero_interpolate[multivariate_column_label[now_idx]]]\n",
    "    \n"
   ]
  },
  {
   "cell_type": "code",
   "execution_count": 43,
   "metadata": {},
   "outputs": [
    {
     "name": "stdout",
     "output_type": "stream",
     "text": [
      "(12923, 18)\n",
      "(12911, 18)\n",
      "(60628, 14)\n"
     ]
    }
   ],
   "source": [
    "print(multivariate_data_drop_zero.shape)\n",
    "print(drop_consecutive_same_value_zero.shape)\n",
    "print(drop_consecutive_same_value_interpolate.shape)"
   ]
  },
  {
   "cell_type": "code",
   "execution_count": 44,
   "metadata": {},
   "outputs": [],
   "source": [
    "new_dataframe = drop_consecutive_same_value_zero.drop(['DEWIHOBT9_I0'], axis=1)\n",
    "# new_dataframe = drop_consecutive_same_value_interpolate.drop(['DEWIHOBT9_I0'], axis=1)"
   ]
  },
  {
   "cell_type": "code",
   "execution_count": 45,
   "metadata": {
    "scrolled": true
   },
   "outputs": [
    {
     "data": {
      "text/plain": [
       "Index(['AEDATZ_HONP0', 'AEDATZK_ASP0', 'AEDATZ_HO_V0', 'AEDATZ_TZCP2',\n",
       "       'AEDATZKA_8P0', 'AEDATZ_HO_P1', 'AEDAHO_T9_V2', 'RWWIHOB_HWT0',\n",
       "       'RWWIHOB_MWT0', 'AEWIHO_T9AV2', 'Date', 'Time', 'Weekday_name',\n",
       "       'weekday', 'TypeofDAY', 'TypeofDAY_number', 'numric_time'],\n",
       "      dtype='object')"
      ]
     },
     "execution_count": 45,
     "metadata": {},
     "output_type": "execute_result"
    }
   ],
   "source": [
    "new_dataframe.columns"
   ]
  },
  {
   "cell_type": "code",
   "execution_count": 49,
   "metadata": {},
   "outputs": [],
   "source": [
    "new_dataframe = new_dataframe.drop(['Date', 'Time', 'Weekday_name','weekday', 'TypeofDAY', 'TypeofDAY_number', 'numric_time'], axis=1)"
   ]
  },
  {
   "cell_type": "code",
   "execution_count": 50,
   "metadata": {},
   "outputs": [
    {
     "data": {
      "text/plain": [
       "Index(['AEDATZ_HONP0', 'AEDATZK_ASP0', 'AEDATZ_HO_V0', 'AEDATZ_TZCP2',\n",
       "       'AEDATZKA_8P0', 'AEDATZ_HO_P1', 'AEDAHO_T9_V2', 'RWWIHOB_HWT0',\n",
       "       'RWWIHOB_MWT0', 'AEWIHO_T9AV2'],\n",
       "      dtype='object')"
      ]
     },
     "execution_count": 50,
     "metadata": {},
     "output_type": "execute_result"
    }
   ],
   "source": [
    "new_dataframe.columns"
   ]
  },
  {
   "cell_type": "code",
   "execution_count": null,
   "metadata": {},
   "outputs": [],
   "source": [
    "ex = new_dataframe.plot(subplots=True, layout=(size_column-1,1))\n",
    "plt.rcParams['figure.figsize'] =(20,10)\n",
    "plt.show()"
   ]
  },
  {
   "cell_type": "code",
   "execution_count": 50,
   "metadata": {},
   "outputs": [
    {
     "name": "stdout",
     "output_type": "stream",
     "text": [
      "shape of multivariate_data:  (8761, 18)\n",
      "shape of multivariate_data_modify:  (8272, 11)\n",
      "shape of multivariate_data_drop_zero:  (8094, 11)\n",
      "shape of new_dataframe:  (8084, 10)\n"
     ]
    }
   ],
   "source": [
    "print('shape of multivariate_data: ',multivariate_data.shape)\n",
    "print('shape of multivariate_data_modify: ', multivariate_data_modify.shape)\n",
    "print('shape of multivariate_data_drop_zero: ',multivariate_data_drop_zero.shape)\n",
    "print('shape of new_dataframe: ', new_dataframe.shape)"
   ]
  },
  {
   "cell_type": "code",
   "execution_count": null,
   "metadata": {
    "scrolled": true
   },
   "outputs": [],
   "source": [
    "multivariate_data_drop_zero.head()"
   ]
  },
  {
   "cell_type": "code",
   "execution_count": 51,
   "metadata": {
    "scrolled": true
   },
   "outputs": [
    {
     "data": {
      "text/html": [
       "<div>\n",
       "<style scoped>\n",
       "    .dataframe tbody tr th:only-of-type {\n",
       "        vertical-align: middle;\n",
       "    }\n",
       "\n",
       "    .dataframe tbody tr th {\n",
       "        vertical-align: top;\n",
       "    }\n",
       "\n",
       "    .dataframe thead th {\n",
       "        text-align: right;\n",
       "    }\n",
       "</style>\n",
       "<table border=\"1\" class=\"dataframe\">\n",
       "  <thead>\n",
       "    <tr style=\"text-align: right;\">\n",
       "      <th></th>\n",
       "      <th>AEDATZ_HONP0</th>\n",
       "      <th>AEDATZK_ASP0</th>\n",
       "      <th>AEDATZ_HO_V0</th>\n",
       "      <th>AEDATZ_TZCP2</th>\n",
       "      <th>AEDATZKA_8P0</th>\n",
       "      <th>AEDATZ_HO_P1</th>\n",
       "      <th>AEDAHO_T9_V2</th>\n",
       "      <th>RWWIHOB_HWT0</th>\n",
       "      <th>RWWIHOB_MWT0</th>\n",
       "      <th>AEWIHO_T9AV2</th>\n",
       "    </tr>\n",
       "  </thead>\n",
       "  <tbody>\n",
       "    <tr>\n",
       "      <th>AEDATZ_HONP0</th>\n",
       "      <td>1.000000</td>\n",
       "      <td>0.985497</td>\n",
       "      <td>-0.323622</td>\n",
       "      <td>0.360693</td>\n",
       "      <td>0.229899</td>\n",
       "      <td>0.186000</td>\n",
       "      <td>-0.119475</td>\n",
       "      <td>-0.035763</td>\n",
       "      <td>-0.048061</td>\n",
       "      <td>-0.024841</td>\n",
       "    </tr>\n",
       "    <tr>\n",
       "      <th>AEDATZK_ASP0</th>\n",
       "      <td>0.985497</td>\n",
       "      <td>1.000000</td>\n",
       "      <td>-0.220446</td>\n",
       "      <td>0.316317</td>\n",
       "      <td>0.241771</td>\n",
       "      <td>0.133372</td>\n",
       "      <td>-0.056854</td>\n",
       "      <td>-0.011345</td>\n",
       "      <td>-0.009372</td>\n",
       "      <td>0.028312</td>\n",
       "    </tr>\n",
       "    <tr>\n",
       "      <th>AEDATZ_HO_V0</th>\n",
       "      <td>-0.323622</td>\n",
       "      <td>-0.220446</td>\n",
       "      <td>1.000000</td>\n",
       "      <td>-0.496813</td>\n",
       "      <td>-0.239519</td>\n",
       "      <td>-0.265458</td>\n",
       "      <td>0.634346</td>\n",
       "      <td>0.022227</td>\n",
       "      <td>0.240449</td>\n",
       "      <td>0.486626</td>\n",
       "    </tr>\n",
       "    <tr>\n",
       "      <th>AEDATZ_TZCP2</th>\n",
       "      <td>0.360693</td>\n",
       "      <td>0.316317</td>\n",
       "      <td>-0.496813</td>\n",
       "      <td>1.000000</td>\n",
       "      <td>0.331556</td>\n",
       "      <td>0.179188</td>\n",
       "      <td>0.025588</td>\n",
       "      <td>0.019064</td>\n",
       "      <td>0.023466</td>\n",
       "      <td>0.048061</td>\n",
       "    </tr>\n",
       "    <tr>\n",
       "      <th>AEDATZKA_8P0</th>\n",
       "      <td>0.229899</td>\n",
       "      <td>0.241771</td>\n",
       "      <td>-0.239519</td>\n",
       "      <td>0.331556</td>\n",
       "      <td>1.000000</td>\n",
       "      <td>-0.005321</td>\n",
       "      <td>0.036988</td>\n",
       "      <td>0.134637</td>\n",
       "      <td>0.047571</td>\n",
       "      <td>0.032755</td>\n",
       "    </tr>\n",
       "    <tr>\n",
       "      <th>AEDATZ_HO_P1</th>\n",
       "      <td>0.186000</td>\n",
       "      <td>0.133372</td>\n",
       "      <td>-0.265458</td>\n",
       "      <td>0.179188</td>\n",
       "      <td>-0.005321</td>\n",
       "      <td>1.000000</td>\n",
       "      <td>-0.244910</td>\n",
       "      <td>-0.127920</td>\n",
       "      <td>-0.145897</td>\n",
       "      <td>-0.153658</td>\n",
       "    </tr>\n",
       "    <tr>\n",
       "      <th>AEDAHO_T9_V2</th>\n",
       "      <td>-0.119475</td>\n",
       "      <td>-0.056854</td>\n",
       "      <td>0.634346</td>\n",
       "      <td>0.025588</td>\n",
       "      <td>0.036988</td>\n",
       "      <td>-0.244910</td>\n",
       "      <td>1.000000</td>\n",
       "      <td>0.108564</td>\n",
       "      <td>0.353230</td>\n",
       "      <td>0.780895</td>\n",
       "    </tr>\n",
       "    <tr>\n",
       "      <th>RWWIHOB_HWT0</th>\n",
       "      <td>-0.035763</td>\n",
       "      <td>-0.011345</td>\n",
       "      <td>0.022227</td>\n",
       "      <td>0.019064</td>\n",
       "      <td>0.134637</td>\n",
       "      <td>-0.127920</td>\n",
       "      <td>0.108564</td>\n",
       "      <td>1.000000</td>\n",
       "      <td>0.612707</td>\n",
       "      <td>-0.146044</td>\n",
       "    </tr>\n",
       "    <tr>\n",
       "      <th>RWWIHOB_MWT0</th>\n",
       "      <td>-0.048061</td>\n",
       "      <td>-0.009372</td>\n",
       "      <td>0.240449</td>\n",
       "      <td>0.023466</td>\n",
       "      <td>0.047571</td>\n",
       "      <td>-0.145897</td>\n",
       "      <td>0.353230</td>\n",
       "      <td>0.612707</td>\n",
       "      <td>1.000000</td>\n",
       "      <td>0.142414</td>\n",
       "    </tr>\n",
       "    <tr>\n",
       "      <th>AEWIHO_T9AV2</th>\n",
       "      <td>-0.024841</td>\n",
       "      <td>0.028312</td>\n",
       "      <td>0.486626</td>\n",
       "      <td>0.048061</td>\n",
       "      <td>0.032755</td>\n",
       "      <td>-0.153658</td>\n",
       "      <td>0.780895</td>\n",
       "      <td>-0.146044</td>\n",
       "      <td>0.142414</td>\n",
       "      <td>1.000000</td>\n",
       "    </tr>\n",
       "  </tbody>\n",
       "</table>\n",
       "</div>"
      ],
      "text/plain": [
       "              AEDATZ_HONP0  AEDATZK_ASP0  AEDATZ_HO_V0  AEDATZ_TZCP2  \\\n",
       "AEDATZ_HONP0      1.000000      0.985497     -0.323622      0.360693   \n",
       "AEDATZK_ASP0      0.985497      1.000000     -0.220446      0.316317   \n",
       "AEDATZ_HO_V0     -0.323622     -0.220446      1.000000     -0.496813   \n",
       "AEDATZ_TZCP2      0.360693      0.316317     -0.496813      1.000000   \n",
       "AEDATZKA_8P0      0.229899      0.241771     -0.239519      0.331556   \n",
       "AEDATZ_HO_P1      0.186000      0.133372     -0.265458      0.179188   \n",
       "AEDAHO_T9_V2     -0.119475     -0.056854      0.634346      0.025588   \n",
       "RWWIHOB_HWT0     -0.035763     -0.011345      0.022227      0.019064   \n",
       "RWWIHOB_MWT0     -0.048061     -0.009372      0.240449      0.023466   \n",
       "AEWIHO_T9AV2     -0.024841      0.028312      0.486626      0.048061   \n",
       "\n",
       "              AEDATZKA_8P0  AEDATZ_HO_P1  AEDAHO_T9_V2  RWWIHOB_HWT0  \\\n",
       "AEDATZ_HONP0      0.229899      0.186000     -0.119475     -0.035763   \n",
       "AEDATZK_ASP0      0.241771      0.133372     -0.056854     -0.011345   \n",
       "AEDATZ_HO_V0     -0.239519     -0.265458      0.634346      0.022227   \n",
       "AEDATZ_TZCP2      0.331556      0.179188      0.025588      0.019064   \n",
       "AEDATZKA_8P0      1.000000     -0.005321      0.036988      0.134637   \n",
       "AEDATZ_HO_P1     -0.005321      1.000000     -0.244910     -0.127920   \n",
       "AEDAHO_T9_V2      0.036988     -0.244910      1.000000      0.108564   \n",
       "RWWIHOB_HWT0      0.134637     -0.127920      0.108564      1.000000   \n",
       "RWWIHOB_MWT0      0.047571     -0.145897      0.353230      0.612707   \n",
       "AEWIHO_T9AV2      0.032755     -0.153658      0.780895     -0.146044   \n",
       "\n",
       "              RWWIHOB_MWT0  AEWIHO_T9AV2  \n",
       "AEDATZ_HONP0     -0.048061     -0.024841  \n",
       "AEDATZK_ASP0     -0.009372      0.028312  \n",
       "AEDATZ_HO_V0      0.240449      0.486626  \n",
       "AEDATZ_TZCP2      0.023466      0.048061  \n",
       "AEDATZKA_8P0      0.047571      0.032755  \n",
       "AEDATZ_HO_P1     -0.145897     -0.153658  \n",
       "AEDAHO_T9_V2      0.353230      0.780895  \n",
       "RWWIHOB_HWT0      0.612707     -0.146044  \n",
       "RWWIHOB_MWT0      1.000000      0.142414  \n",
       "AEWIHO_T9AV2      0.142414      1.000000  "
      ]
     },
     "execution_count": 51,
     "metadata": {},
     "output_type": "execute_result"
    }
   ],
   "source": [
    "new_dataframe.corr()"
   ]
  },
  {
   "cell_type": "code",
   "execution_count": 52,
   "metadata": {},
   "outputs": [],
   "source": [
    "new_dataframe_1 = new_dataframe.drop(['AEDATZ_HONP0','AEDATZK_ASP0','RWWIHOB_HWT0','RWWIHOB_MWT0'], axis=1)"
   ]
  },
  {
   "cell_type": "code",
   "execution_count": 53,
   "metadata": {},
   "outputs": [],
   "source": [
    "# print('multivariate_data_drop_zero head: \\n',multivariate_data_drop_zero.head())\n",
    "# dataset=np.array(multivariate_data_drop_zero)\n",
    "dataset=np.array(new_dataframe_1)"
   ]
  },
  {
   "cell_type": "code",
   "execution_count": 54,
   "metadata": {},
   "outputs": [
    {
     "data": {
      "text/html": [
       "<div>\n",
       "<style scoped>\n",
       "    .dataframe tbody tr th:only-of-type {\n",
       "        vertical-align: middle;\n",
       "    }\n",
       "\n",
       "    .dataframe tbody tr th {\n",
       "        vertical-align: top;\n",
       "    }\n",
       "\n",
       "    .dataframe thead th {\n",
       "        text-align: right;\n",
       "    }\n",
       "</style>\n",
       "<table border=\"1\" class=\"dataframe\">\n",
       "  <thead>\n",
       "    <tr style=\"text-align: right;\">\n",
       "      <th></th>\n",
       "      <th>AEDATZ_HO_V0</th>\n",
       "      <th>AEDATZ_TZCP2</th>\n",
       "      <th>AEDATZKA_8P0</th>\n",
       "      <th>AEDATZ_HO_P1</th>\n",
       "      <th>AEDAHO_T9_V2</th>\n",
       "      <th>AEWIHO_T9AV2</th>\n",
       "    </tr>\n",
       "    <tr>\n",
       "      <th>dateTime</th>\n",
       "      <th></th>\n",
       "      <th></th>\n",
       "      <th></th>\n",
       "      <th></th>\n",
       "      <th></th>\n",
       "      <th></th>\n",
       "    </tr>\n",
       "  </thead>\n",
       "  <tbody>\n",
       "    <tr>\n",
       "      <th>2019-03-12 09:40:00</th>\n",
       "      <td>42.195534</td>\n",
       "      <td>97.831463</td>\n",
       "      <td>93.155009</td>\n",
       "      <td>97.358322</td>\n",
       "      <td>75.241023</td>\n",
       "      <td>78.782245</td>\n",
       "    </tr>\n",
       "    <tr>\n",
       "      <th>2019-03-12 00:01:00</th>\n",
       "      <td>50.415568</td>\n",
       "      <td>96.066121</td>\n",
       "      <td>93.089252</td>\n",
       "      <td>95.626245</td>\n",
       "      <td>75.463649</td>\n",
       "      <td>84.910029</td>\n",
       "    </tr>\n",
       "    <tr>\n",
       "      <th>2019-03-12 00:02:00</th>\n",
       "      <td>49.594916</td>\n",
       "      <td>96.171131</td>\n",
       "      <td>93.094994</td>\n",
       "      <td>95.935807</td>\n",
       "      <td>75.068848</td>\n",
       "      <td>80.273688</td>\n",
       "    </tr>\n",
       "    <tr>\n",
       "      <th>2019-03-12 00:03:00</th>\n",
       "      <td>48.591651</td>\n",
       "      <td>96.339044</td>\n",
       "      <td>93.109346</td>\n",
       "      <td>96.008232</td>\n",
       "      <td>74.879726</td>\n",
       "      <td>78.495344</td>\n",
       "    </tr>\n",
       "    <tr>\n",
       "      <th>2019-03-12 00:04:00</th>\n",
       "      <td>48.110811</td>\n",
       "      <td>96.071072</td>\n",
       "      <td>93.073855</td>\n",
       "      <td>95.955914</td>\n",
       "      <td>75.158981</td>\n",
       "      <td>78.383038</td>\n",
       "    </tr>\n",
       "  </tbody>\n",
       "</table>\n",
       "</div>"
      ],
      "text/plain": [
       "                     AEDATZ_HO_V0  AEDATZ_TZCP2  AEDATZKA_8P0  AEDATZ_HO_P1  \\\n",
       "dateTime                                                                      \n",
       "2019-03-12 09:40:00     42.195534     97.831463     93.155009     97.358322   \n",
       "2019-03-12 00:01:00     50.415568     96.066121     93.089252     95.626245   \n",
       "2019-03-12 00:02:00     49.594916     96.171131     93.094994     95.935807   \n",
       "2019-03-12 00:03:00     48.591651     96.339044     93.109346     96.008232   \n",
       "2019-03-12 00:04:00     48.110811     96.071072     93.073855     95.955914   \n",
       "\n",
       "                     AEDAHO_T9_V2  AEWIHO_T9AV2  \n",
       "dateTime                                         \n",
       "2019-03-12 09:40:00     75.241023     78.782245  \n",
       "2019-03-12 00:01:00     75.463649     84.910029  \n",
       "2019-03-12 00:02:00     75.068848     80.273688  \n",
       "2019-03-12 00:03:00     74.879726     78.495344  \n",
       "2019-03-12 00:04:00     75.158981     78.383038  "
      ]
     },
     "execution_count": 54,
     "metadata": {},
     "output_type": "execute_result"
    }
   ],
   "source": [
    "new_dataframe_1.head()"
   ]
  },
  {
   "cell_type": "code",
   "execution_count": 55,
   "metadata": {
    "scrolled": true
   },
   "outputs": [
    {
     "name": "stdout",
     "output_type": "stream",
     "text": [
      "Number of Elements for training:  12265\n",
      "dataset length:  12911\n",
      "train_input shape:  (12265, 5)\n",
      "train_output shape:  (12265,)\n",
      "test_input shape:  (646, 5)\n",
      "test_output shape:  (646,)\n"
     ]
    }
   ],
   "source": [
    "def make_dataset(dataset):\n",
    "    NumberOfElements=int(len(dataset)*0.95)\n",
    "    print('Number of Elements for training: ',NumberOfElements)\n",
    "    print('dataset length: ',len(dataset))\n",
    "\n",
    "    train_input=dataset[0:NumberOfElements,0:-1]\n",
    "    print('train_input shape: ',train_input.shape)\n",
    "    train_output=dataset[0:NumberOfElements,-1]\n",
    "    print('train_output shape: ',train_output.shape)\n",
    "\n",
    "    test_input=dataset[NumberOfElements:len(dataset),0:-1]\n",
    "    print('test_input shape: ',test_input.shape)\n",
    "    test_output=dataset[NumberOfElements:len(dataset),-1]\n",
    "    print('test_output shape: ',test_output.shape)\n",
    "    \n",
    "    return train_input, train_output, test_input, test_output\n",
    "\n",
    "train_input, train_output, test_input, test_output = make_dataset(dataset)\n",
    "# print('train data size: ',train_data.shape,'\\ntest data size: ',test_data.shape)"
   ]
  },
  {
   "cell_type": "code",
   "execution_count": 57,
   "metadata": {},
   "outputs": [
    {
     "data": {
      "text/html": [
       "<div>\n",
       "<style scoped>\n",
       "    .dataframe tbody tr th:only-of-type {\n",
       "        vertical-align: middle;\n",
       "    }\n",
       "\n",
       "    .dataframe tbody tr th {\n",
       "        vertical-align: top;\n",
       "    }\n",
       "\n",
       "    .dataframe thead th {\n",
       "        text-align: right;\n",
       "    }\n",
       "</style>\n",
       "<table border=\"1\" class=\"dataframe\">\n",
       "  <thead>\n",
       "    <tr style=\"text-align: right;\">\n",
       "      <th></th>\n",
       "      <th>AEDATZ_HO_V0</th>\n",
       "      <th>AEDATZ_TZCP2</th>\n",
       "      <th>AEDATZKA_8P0</th>\n",
       "      <th>AEDATZ_HO_P1</th>\n",
       "      <th>AEDAHO_T9_V2</th>\n",
       "      <th>AEWIHO_T9AV2</th>\n",
       "    </tr>\n",
       "  </thead>\n",
       "  <tbody>\n",
       "    <tr>\n",
       "      <th>count</th>\n",
       "      <td>12911.000000</td>\n",
       "      <td>12911.000000</td>\n",
       "      <td>12911.000000</td>\n",
       "      <td>12911.000000</td>\n",
       "      <td>12911.000000</td>\n",
       "      <td>12911.000000</td>\n",
       "    </tr>\n",
       "    <tr>\n",
       "      <th>mean</th>\n",
       "      <td>42.134655</td>\n",
       "      <td>96.527563</td>\n",
       "      <td>93.851110</td>\n",
       "      <td>96.327715</td>\n",
       "      <td>70.605920</td>\n",
       "      <td>77.306310</td>\n",
       "    </tr>\n",
       "    <tr>\n",
       "      <th>std</th>\n",
       "      <td>4.916171</td>\n",
       "      <td>1.032257</td>\n",
       "      <td>1.527783</td>\n",
       "      <td>1.498181</td>\n",
       "      <td>7.065707</td>\n",
       "      <td>4.291434</td>\n",
       "    </tr>\n",
       "    <tr>\n",
       "      <th>min</th>\n",
       "      <td>25.095394</td>\n",
       "      <td>92.683038</td>\n",
       "      <td>90.768145</td>\n",
       "      <td>83.306091</td>\n",
       "      <td>34.757063</td>\n",
       "      <td>64.938342</td>\n",
       "    </tr>\n",
       "    <tr>\n",
       "      <th>25%</th>\n",
       "      <td>39.249686</td>\n",
       "      <td>95.858827</td>\n",
       "      <td>92.569482</td>\n",
       "      <td>94.585073</td>\n",
       "      <td>67.311446</td>\n",
       "      <td>75.170662</td>\n",
       "    </tr>\n",
       "    <tr>\n",
       "      <th>50%</th>\n",
       "      <td>41.550803</td>\n",
       "      <td>96.807125</td>\n",
       "      <td>93.160876</td>\n",
       "      <td>97.128668</td>\n",
       "      <td>71.352561</td>\n",
       "      <td>76.872405</td>\n",
       "    </tr>\n",
       "    <tr>\n",
       "      <th>75%</th>\n",
       "      <td>44.364120</td>\n",
       "      <td>97.307404</td>\n",
       "      <td>95.306642</td>\n",
       "      <td>97.378429</td>\n",
       "      <td>74.796401</td>\n",
       "      <td>78.242576</td>\n",
       "    </tr>\n",
       "    <tr>\n",
       "      <th>max</th>\n",
       "      <td>67.611019</td>\n",
       "      <td>99.181223</td>\n",
       "      <td>100.000000</td>\n",
       "      <td>99.954889</td>\n",
       "      <td>99.451639</td>\n",
       "      <td>99.037058</td>\n",
       "    </tr>\n",
       "  </tbody>\n",
       "</table>\n",
       "</div>"
      ],
      "text/plain": [
       "       AEDATZ_HO_V0  AEDATZ_TZCP2  AEDATZKA_8P0  AEDATZ_HO_P1  AEDAHO_T9_V2  \\\n",
       "count  12911.000000  12911.000000  12911.000000  12911.000000  12911.000000   \n",
       "mean      42.134655     96.527563     93.851110     96.327715     70.605920   \n",
       "std        4.916171      1.032257      1.527783      1.498181      7.065707   \n",
       "min       25.095394     92.683038     90.768145     83.306091     34.757063   \n",
       "25%       39.249686     95.858827     92.569482     94.585073     67.311446   \n",
       "50%       41.550803     96.807125     93.160876     97.128668     71.352561   \n",
       "75%       44.364120     97.307404     95.306642     97.378429     74.796401   \n",
       "max       67.611019     99.181223    100.000000     99.954889     99.451639   \n",
       "\n",
       "       AEWIHO_T9AV2  \n",
       "count  12911.000000  \n",
       "mean      77.306310  \n",
       "std        4.291434  \n",
       "min       64.938342  \n",
       "25%       75.170662  \n",
       "50%       76.872405  \n",
       "75%       78.242576  \n",
       "max       99.037058  "
      ]
     },
     "execution_count": 57,
     "metadata": {},
     "output_type": "execute_result"
    }
   ],
   "source": [
    "new_dataframe_1.describe()"
   ]
  },
  {
   "cell_type": "markdown",
   "metadata": {},
   "source": [
    "# Linear Regression"
   ]
  },
  {
   "cell_type": "code",
   "execution_count": 78,
   "metadata": {},
   "outputs": [],
   "source": [
    "from sklearn import metrics\n",
    "from sklearn.linear_model import LinearRegression\n",
    "from sklearn.ensemble import *\n",
    "from sklearn.svm import SVR\n",
    "from sklearn.ensemble import GradientBoostingRegressor as GBR"
   ]
  },
  {
   "cell_type": "code",
   "execution_count": 137,
   "metadata": {},
   "outputs": [
    {
     "data": {
      "text/plain": [
       "ExtraTreesRegressor(bootstrap=False, criterion='mse', max_depth=None,\n",
       "                    max_features='auto', max_leaf_nodes=None,\n",
       "                    min_impurity_decrease=0.0, min_impurity_split=None,\n",
       "                    min_samples_leaf=1, min_samples_split=2,\n",
       "                    min_weight_fraction_leaf=0.0, n_estimators=100, n_jobs=None,\n",
       "                    oob_score=False, random_state=0, verbose=0,\n",
       "                    warm_start=False)"
      ]
     },
     "execution_count": 137,
     "metadata": {},
     "output_type": "execute_result"
    }
   ],
   "source": [
    "# train_model=LinearRegression(fit_intercept = True,normalize=False).fit(train_input,train_output)\n",
    "# print(train_model)\n",
    "train_model = ExtraTreesRegressor(n_estimators=100, random_state=0)\n",
    "train_model.fit(train_input, train_output)"
   ]
  },
  {
   "cell_type": "code",
   "execution_count": 138,
   "metadata": {},
   "outputs": [],
   "source": [
    "predicted_output=train_model.predict(test_input)"
   ]
  },
  {
   "cell_type": "code",
   "execution_count": 139,
   "metadata": {
    "scrolled": false
   },
   "outputs": [
    {
     "name": "stdout",
     "output_type": "stream",
     "text": [
      "test_input size:  3230\n",
      "test_output size:  646\n",
      "predicted output size:  646\n",
      "test_input shape:  (646, 5)\n",
      "test_output shape:  (646,)\n",
      "predicted output shape:  (646,)\n"
     ]
    }
   ],
   "source": [
    "print('test_input size: ',test_input.size)\n",
    "print('test_output size: ',test_output.size)\n",
    "print('predicted output size: ',predicted_output.size)\n",
    "\n",
    "print('test_input shape: ',test_input.shape)\n",
    "print('test_output shape: ',test_output.shape)\n",
    "print('predicted output shape: ',predicted_output.shape)"
   ]
  },
  {
   "cell_type": "code",
   "execution_count": 140,
   "metadata": {},
   "outputs": [],
   "source": [
    "from sklearn import linear_model\n",
    "from sklearn.metrics import mean_squared_error, r2_score, mean_absolute_error\n",
    "import math"
   ]
  },
  {
   "cell_type": "code",
   "execution_count": 141,
   "metadata": {
    "scrolled": true
   },
   "outputs": [
    {
     "name": "stdout",
     "output_type": "stream",
     "text": [
      "r_2 statistic: 0.63\n",
      "Mean_absolute_error: 4.76\n",
      "Mean squared error: 43.50\n",
      "RMSE:  6.595672902097829\n"
     ]
    }
   ],
   "source": [
    "# print('Slope:' ,train_model.coef_)\n",
    "# print('Intercept:', train_model.intercept_)\n",
    "print('r_2 statistic: %.2f' % r2_score(test_output,predicted_output))\n",
    "print(\"Mean_absolute_error: %.2f\" % mean_absolute_error(test_output,predicted_output))\n",
    "print(\"Mean squared error: %.2f\" % mean_squared_error(test_output,predicted_output))\n",
    "RMSE=math.sqrt(mean_squared_error(test_output,predicted_output))\n",
    "print('RMSE: ',RMSE)"
   ]
  },
  {
   "cell_type": "code",
   "execution_count": 135,
   "metadata": {},
   "outputs": [
    {
     "name": "stdout",
     "output_type": "stream",
     "text": [
      "68.44311375361777\n",
      "91.347297722411\n"
     ]
    }
   ],
   "source": [
    "print(min(predicted_output))\n",
    "print(max(predicted_output))"
   ]
  },
  {
   "cell_type": "code",
   "execution_count": 136,
   "metadata": {},
   "outputs": [
    {
     "data": {
      "text/plain": [
       "<matplotlib.collections.PathCollection at 0x2433255e278>"
      ]
     },
     "execution_count": 136,
     "metadata": {},
     "output_type": "execute_result"
    },
    {
     "data": {
      "image/png": "[encoded data removed]",
      "text/plain": [
       "<Figure size 432x288 with 1 Axes>"
      ]
     },
     "metadata": {},
     "output_type": "display_data"
    }
   ],
   "source": [
    "plt.plot((min(test_output),max(test_output)), (min(predicted_output),max(predicted_output)))\n",
    "plt.scatter(test_output,predicted_output, color = 'blue')"
   ]
  },
  {
   "cell_type": "code",
   "execution_count": 66,
   "metadata": {},
   "outputs": [
    {
     "data": {
      "text/plain": [
       "[<matplotlib.lines.Line2D at 0x252155b2e80>]"
      ]
     },
     "execution_count": 66,
     "metadata": {},
     "output_type": "execute_result"
    },
    {
     "data": {
      "image/png": "[encoded data removed]",
      "text/plain": [
       "<Figure size 1440x720 with 1 Axes>"
      ]
     },
     "metadata": {},
     "output_type": "display_data"
    }
   ],
   "source": [
    "plt.plot(predicted_output[90:130], color = 'blue')\n",
    "plt.plot(test_output[90:130], color = 'red')"
   ]
  },
  {
   "cell_type": "code",
   "execution_count": 63,
   "metadata": {
    "scrolled": false
   },
   "outputs": [
    {
     "data": {
      "image/png": "[encoded data removed]",
      "text/plain": [
       "<Figure size 1440x720 with 1 Axes>"
      ]
     },
     "metadata": {},
     "output_type": "display_data"
    }
   ],
   "source": [
    "actual_data = range(65)\n",
    "\n",
    "plt.plot(predicted_output[:60],color='blue',marker='s', linestyle=':')\n",
    "plt.plot(actual_data[5:], test_output[:60],color='red',marker='^', linestyle='-.')\n",
    "# plt.plot(yhat[51:99],color='black',marker='s', linestyle=':')\n",
    "plt.title('deviation between predicted and target value')\n",
    "plt.ylabel('value')\n",
    "plt.xlabel('interval of minutes')\n",
    "plt.legend(['predicted','actual_output'], loc='upper left')\n",
    "plt.grid(b=None, which='both', axis='both')\n",
    "plt.xticks(np.arange(0,65,5))\n",
    "plt.xticks( rotation=25)\n",
    "plt.rcParams['figure.figsize'] =(20,10)\n",
    "plt.show()"
   ]
  },
  {
   "cell_type": "code",
   "execution_count": 75,
   "metadata": {
    "scrolled": false
   },
   "outputs": [
    {
     "name": "stdout",
     "output_type": "stream",
     "text": [
      "<class 'numpy.ndarray'>\n"
     ]
    },
    {
     "data": {
      "image/png": "[encoded data removed]",
      "text/plain": [
       "<Figure size 1440x720 with 1 Axes>"
      ]
     },
     "metadata": {},
     "output_type": "display_data"
    }
   ],
   "source": [
    "# try to draw a graph where I will plot only the differences between actual and predicted value.\n",
    "# %matplotlib qt\n",
    "\n",
    "difference_of_value = predicted_output - test_output\n",
    "print(type(difference_of_value))\n",
    "\n",
    "plt.plot(difference_of_value[0:60])\n",
    "plt.title('observation of the difference of actual and predicted value')\n",
    "\n",
    "# plt.rcParams['xtick.labelsize']=2\n",
    "# plt.rcParams['ytick.labelsize']=2\n",
    "# plt.tick_params(labelsize=20)\n",
    "plt.ylabel('difference of value')\n",
    "plt.xlabel('range')\n",
    "plt.grid(b=None, which='both', axis='both')\n",
    "# plt.savefig('difference_of_actual_and_predicted_value.png')\n",
    "plt.show()"
   ]
  },
  {
   "cell_type": "code",
   "execution_count": 67,
   "metadata": {
    "scrolled": false
   },
   "outputs": [
    {
     "data": {
      "image/png": "[encoded data removed]",
      "text/plain": [
       "<Figure size 1440x720 with 1 Axes>"
      ]
     },
     "metadata": {},
     "output_type": "display_data"
    }
   ],
   "source": [
    "plt.hist(difference_of_value, bins=15)\n",
    "# plt.xlim(-10,10,1)\n",
    "plt.show()"
   ]
  },
  {
   "cell_type": "code",
   "execution_count": 68,
   "metadata": {
    "scrolled": true
   },
   "outputs": [
    {
     "name": "stdout",
     "output_type": "stream",
     "text": [
      "(405,)\n",
      "(405,)\n",
      "72.62750832288604\n",
      "405\n",
      "2.5785188718512773\n"
     ]
    }
   ],
   "source": [
    "print(test_output.shape)\n",
    "print(predicted_output.shape)\n",
    "\n",
    "test_output_mean = np.mean(test_output)\n",
    "print(test_output_mean)\n",
    "\n",
    "length_predicted_output = len(predicted_output)\n",
    "print(length_predicted_output)\n",
    "\n",
    "m = 0\n",
    "\n",
    "for i in predicted_output:\n",
    "    n = i - test_output_mean\n",
    "    n = n**2\n",
    "    m = n+m\n",
    "variance_pred_wrt_test = m / length_predicted_output\n",
    "\n",
    "\n",
    "std_pred_wrt_test = math.sqrt(variance_pred_wrt_test)\n",
    "\n",
    "print(std_pred_wrt_test)"
   ]
  },
  {
   "cell_type": "code",
   "execution_count": 69,
   "metadata": {
    "scrolled": false
   },
   "outputs": [
    {
     "name": "stdout",
     "output_type": "stream",
     "text": [
      "min : 67.3420787718636  and max:  85.29885491380395\n",
      "min : 65.19969298000237  and max:  83.2104848579333\n"
     ]
    },
    {
     "data": {
      "image/png": "[encoded data removed]",
      "text/plain": [
       "<Figure size 1440x720 with 1 Axes>"
      ]
     },
     "metadata": {},
     "output_type": "display_data"
    }
   ],
   "source": [
    "low = 0\n",
    "high = len(predicted_output)\n",
    "\n",
    "print('min :', min(test_output[low:high]),' and max: ',max(test_output[low:high]))\n",
    "print('min :', min(predicted_output[low:high]),' and max: ',max(predicted_output[low:high]))\n",
    "\n",
    "plt.plot(test_output[low:high], predicted_output[low:high], 'bo')\n",
    "# plt.plot(predicted_output[low:high],test_output[low:high], 'bo')\n",
    "\n",
    "plt.xticks(np.arange(min(test_output[low:high]),max(test_output[low:high])+1,1))\n",
    "plt.yticks(np.arange(min(predicted_output[low:high]),max(predicted_output[low:high])+1,1))\n",
    "\n",
    "plt.xlim(min(test_output[low:high]-1), max(test_output[low:high])+1)\n",
    "plt.ylim(min(predicted_output[low:high]-1), max(predicted_output[low:high])+1)\n",
    "\n",
    "plt.ylabel('prdicted value')\n",
    "plt.xlabel('actual value')\n",
    "\n",
    "plt.grid(b=None, which='both', axis='both')\n",
    "plt.title('actual vs predicted graph')\n",
    "\n",
    "plt.show()"
   ]
  },
  {
   "cell_type": "code",
   "execution_count": 70,
   "metadata": {},
   "outputs": [
    {
     "data": {
      "text/plain": [
       "[<matplotlib.lines.Line2D at 0x2527ca14320>]"
      ]
     },
     "execution_count": 70,
     "metadata": {},
     "output_type": "execute_result"
    },
    {
     "data": {
      "image/png": "[encoded data removed]",
      "text/plain": [
       "<Figure size 1440x720 with 1 Axes>"
      ]
     },
     "metadata": {},
     "output_type": "display_data"
    }
   ],
   "source": [
    "# graph actual vs error\n",
    "\n",
    "low_1 = 0\n",
    "high_1 = len(test_output)\n",
    "\n",
    "plt.plot(test_output[low:high], difference_of_value[low:high], 'bo')"
   ]
  },
  {
   "cell_type": "code",
   "execution_count": null,
   "metadata": {},
   "outputs": [],
   "source": [
    "plt.scatter(range(0, len(test_output)),test_output)\n",
    "plt.show()\n",
    "plt.scatter(range(0, len(predicted_output)),predicted_output)\n",
    "plt.show()"
   ]
  },
  {
   "cell_type": "code",
   "execution_count": null,
   "metadata": {
    "scrolled": false
   },
   "outputs": [],
   "source": [
    "low = 100\n",
    "high = 500\n",
    "\n",
    "print('min :', min(test_output[low:high]),' and max: ',max(test_output[low:high]))\n",
    "# print('min :', min(predicted_output[low:high]),' and max: ',max(predicted_output[low:high]))\n",
    "plt.plot(test_output[low:high], 'bo')\n",
    "# plt.xticks(np.arange(low, high+1,1))\n",
    "plt.yticks(np.arange(min(test_output[low:high]),max(test_output[low:high])+1,1))\n",
    "\n",
    "# plt.xlim(min(low, high+1))\n",
    "plt.ylim(min(test_output[low:high]-1), max(test_output[low:high])+1)\n",
    "\n",
    "plt.ylabel('prdicted value')\n",
    "plt.xlabel('actual value')\n",
    "plt.grid(b=None, which='both', axis='both')\n",
    "plt.title('actual value graph')\n",
    "\n",
    "plt.show()"
   ]
  },
  {
   "cell_type": "code",
   "execution_count": null,
   "metadata": {},
   "outputs": [],
   "source": [
    "low = 0\n",
    "high = 500\n",
    "\n",
    "print('min :', min(predicted_output[low:high]),' and max: ',max(predicted_output[low:high]))\n",
    "# print('min :', min(predicted_output[low:high]),' and max: ',max(predicted_output[low:high]))\n",
    "plt.plot(predicted_output[low:high], 'bo')\n",
    "# plt.xticks(np.arange(low, high+1,1))\n",
    "plt.yticks(np.arange(min(predicted_output[low:high]),max(predicted_output[low:high])+1,1))\n",
    "\n",
    "# plt.xlim(min(low, high+1))\n",
    "plt.ylim(min(predicted_output[low:high]-1), max(predicted_output[low:high])+1)\n",
    "\n",
    "plt.ylabel('prdicted value')\n",
    "plt.xlabel('actual value')\n",
    "plt.grid(b=None, which='both', axis='both')\n",
    "plt.title('predicted value graph')\n",
    "\n",
    "plt.show()"
   ]
  },
  {
   "cell_type": "code",
   "execution_count": null,
   "metadata": {},
   "outputs": [],
   "source": []
  },
  {
   "cell_type": "code",
   "execution_count": null,
   "metadata": {},
   "outputs": [],
   "source": []
  },
  {
   "cell_type": "markdown",
   "metadata": {},
   "source": [
    "# polynomial regression"
   ]
  },
  {
   "cell_type": "code",
   "execution_count": null,
   "metadata": {},
   "outputs": [],
   "source": [
    "from sklearn.preprocessing import PolynomialFeatures\n",
    "# from sklearn.linear_model import LinearRegression\n",
    "from sklearn.pipeline import Pipeline"
   ]
  },
  {
   "cell_type": "code",
   "execution_count": null,
   "metadata": {},
   "outputs": [],
   "source": [
    "model = Pipeline([('poly', PolynomialFeatures(degree=3)), ('linear', LinearRegression(fit_intercept=False))])"
   ]
  },
  {
   "cell_type": "code",
   "execution_count": null,
   "metadata": {},
   "outputs": [],
   "source": [
    "model = model.fit(train_input, train_output)"
   ]
  },
  {
   "cell_type": "code",
   "execution_count": null,
   "metadata": {},
   "outputs": [],
   "source": [
    "predicted_output_polynomial = model.predict(test_input)"
   ]
  },
  {
   "cell_type": "code",
   "execution_count": null,
   "metadata": {},
   "outputs": [],
   "source": [
    "%matplotlib qt\n",
    "\n",
    "actual_data = range(65)\n",
    "\n",
    "\n",
    "plt.plot(predicted_output_polynomial[:60],color='blue',marker='s', linestyle=':')\n",
    "plt.plot(actual_data[5:], test_output[:60],color='red',marker='^', linestyle='-.')\n",
    "# plt.plot(yhat[51:99],color='black',marker='s', linestyle=':')\n",
    "plt.title('deviation between predicted and target value')\n",
    "plt.ylabel('value')\n",
    "plt.xlabel('interval of minutes')\n",
    "plt.legend(['predicted output','actual_output'], loc='upper left')\n",
    "plt.grid(b=None, which='both', axis='both')\n",
    "plt.xticks(np.arange(0,65,5))\n",
    "plt.xticks( rotation=25)\n",
    "plt.rcParams['figure.figsize'] =(20,10)\n",
    "plt.show()"
   ]
  },
  {
   "cell_type": "code",
   "execution_count": null,
   "metadata": {},
   "outputs": [],
   "source": [
    "print('r_2 statistic: %.2f' % r2_score(test_output,predicted_output_polynomial))\n",
    "print(\"Mean_absolute_error: %.2f\" % mean_absolute_error(test_output,predicted_output_polynomial))\n",
    "print(\"Mean squared error: %.2f\" % mean_squared_error(test_output,predicted_output_polynomial))\n",
    "RMSE=math.sqrt(mean_squared_error(test_output,predicted_output_polynomial))\n",
    "print('RMSE: ',RMSE)"
   ]
  },
  {
   "cell_type": "code",
   "execution_count": null,
   "metadata": {},
   "outputs": [],
   "source": []
  },
  {
   "cell_type": "code",
   "execution_count": null,
   "metadata": {},
   "outputs": [],
   "source": []
  },
  {
   "cell_type": "code",
   "execution_count": null,
   "metadata": {},
   "outputs": [],
   "source": [
    "val = []\n",
    "val = np.array(val)\n",
    "for i in range (0,len(test_output)):\n",
    "    val_1 = predicted_output[i] - test_output[i]\n",
    "#     print(val)\n",
    "    val = np.append(val, val_1)\n",
    "    i+=1"
   ]
  },
  {
   "cell_type": "code",
   "execution_count": null,
   "metadata": {},
   "outputs": [],
   "source": [
    "val.shape"
   ]
  },
  {
   "cell_type": "code",
   "execution_count": null,
   "metadata": {},
   "outputs": [],
   "source": [
    "plt.plot(val)\n",
    "plt.show()"
   ]
  },
  {
   "cell_type": "code",
   "execution_count": null,
   "metadata": {},
   "outputs": [],
   "source": [
    "# plt.plot(difference_of_value)\n",
    "# plt.show()"
   ]
  },
  {
   "cell_type": "code",
   "execution_count": null,
   "metadata": {},
   "outputs": [],
   "source": [
    "# new_val = difference_of_value - val"
   ]
  },
  {
   "cell_type": "code",
   "execution_count": null,
   "metadata": {},
   "outputs": [],
   "source": [
    "# new_val.shape"
   ]
  },
  {
   "cell_type": "code",
   "execution_count": null,
   "metadata": {},
   "outputs": [],
   "source": [
    "# plt.plot(new_val)\n",
    "# plt.show()"
   ]
  },
  {
   "cell_type": "code",
   "execution_count": null,
   "metadata": {},
   "outputs": [],
   "source": [
    "from sklearn import linear_model\n",
    "x = [1,2,3,4,5]\n",
    "x=np.array(x)\n",
    "y = [2,4,5,4,5]\n",
    "y=np.array(y)\n",
    "\n",
    "\n",
    "x_1 = np.reshape(x, (-1, 1))\n",
    "y_1 = np.reshape(y, (-1, 1))"
   ]
  },
  {
   "cell_type": "code",
   "execution_count": null,
   "metadata": {},
   "outputs": [],
   "source": [
    "y_1"
   ]
  },
  {
   "cell_type": "code",
   "execution_count": null,
   "metadata": {},
   "outputs": [],
   "source": [
    "# my_reg = linear_model.LinearRegression(fit_intercept=True, normalize=False)\n",
    "my_reg = LinearRegression(fit_intercept=True, normalize=False)\n",
    "\n",
    "my_reg.fit(x_1,y_1)"
   ]
  },
  {
   "cell_type": "code",
   "execution_count": null,
   "metadata": {},
   "outputs": [],
   "source": [
    "my_reg"
   ]
  },
  {
   "cell_type": "code",
   "execution_count": null,
   "metadata": {},
   "outputs": [],
   "source": [
    "print('Slope:' ,my_reg.coef_)\n",
    "print('Intercept:', my_reg.intercept_)"
   ]
  },
  {
   "cell_type": "code",
   "execution_count": null,
   "metadata": {},
   "outputs": [],
   "source": [
    "pred_y = my_reg.predict(x_1)"
   ]
  },
  {
   "cell_type": "code",
   "execution_count": null,
   "metadata": {},
   "outputs": [],
   "source": [
    "plt.scatter(x_1, y_1)\n",
    "plt.plot(x_1,pred_y, color='red')\n",
    "plt.show()"
   ]
  },
  {
   "cell_type": "code",
   "execution_count": null,
   "metadata": {
    "scrolled": true
   },
   "outputs": [],
   "source": [
    "clf = linear_model.SGDRegressor(max_iter=1000, tol=1e-3)"
   ]
  },
  {
   "cell_type": "code",
   "execution_count": null,
   "metadata": {},
   "outputs": [],
   "source": [
    "# clf.fit(train_input, train_output)\n",
    "clf.fit(x_1, y_1)"
   ]
  },
  {
   "cell_type": "code",
   "execution_count": null,
   "metadata": {},
   "outputs": [],
   "source": [
    "print('Slope:' ,clf.coef_)\n",
    "print('Intercept:', clf.intercept_)"
   ]
  },
  {
   "cell_type": "code",
   "execution_count": null,
   "metadata": {},
   "outputs": [],
   "source": [
    "pred_y_SGD = clf.predict(test_input)"
   ]
  },
  {
   "cell_type": "code",
   "execution_count": null,
   "metadata": {
    "scrolled": false
   },
   "outputs": [],
   "source": [
    "plt.plot(test_output, color = 'black')\n",
    "plt.plot(pred_y_SGD, color='red')\n",
    "plt.show()"
   ]
  },
  {
   "cell_type": "code",
   "execution_count": null,
   "metadata": {},
   "outputs": [],
   "source": [
    "pred_y_SGD_reshape = np.reshape(pred_y_SGD, (-1, 1))\n",
    "test_output_reshape = np.reshape(test_output, (-1, 1))\n",
    "print(pred_y_SGD_reshape.shape)\n",
    "print(test_output_reshape.shape)\n",
    "print(test_input.shape)"
   ]
  },
  {
   "cell_type": "code",
   "execution_count": null,
   "metadata": {},
   "outputs": [],
   "source": [
    "clf.score(test_output_reshape, pred_y_SGD_reshape)"
   ]
  },
  {
   "cell_type": "code",
   "execution_count": null,
   "metadata": {},
   "outputs": [],
   "source": [
    "test_input"
   ]
  },
  {
   "cell_type": "code",
   "execution_count": null,
   "metadata": {},
   "outputs": [],
   "source": []
  }
 ],
 "metadata": {
  "kernelspec": {
   "display_name": "Python 3",
   "language": "python",
   "name": "python3"
  },
  "language_info": {
   "codemirror_mode": {
    "name": "ipython",
    "version": 3
   },
   "file_extension": ".py",
   "mimetype": "text/x-python",
   "name": "python",
   "nbconvert_exporter": "python",
   "pygments_lexer": "ipython3",
   "version": "3.6.5"
  }
 },
 "nbformat": 4,
 "nbformat_minor": 2
}
