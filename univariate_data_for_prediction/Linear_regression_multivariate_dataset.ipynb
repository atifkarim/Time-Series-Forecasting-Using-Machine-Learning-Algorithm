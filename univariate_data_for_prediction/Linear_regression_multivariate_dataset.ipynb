{
 "cells": [
  {
   "cell_type": "code",
   "execution_count": null,
   "metadata": {},
   "outputs": [],
   "source": [
    "import numpy as np\n",
    "import matplotlib.pyplot as plt\n",
    "import pandas as pd\n",
    "import math\n",
    "import time\n",
    "import datetime\n",
    "%matplotlib inline\n",
    "from matplotlib.pylab import rcParams"
   ]
  },
  {
   "cell_type": "code",
   "execution_count": null,
   "metadata": {},
   "outputs": [],
   "source": [
    "import cesium\n",
    "from cesium import featurize"
   ]
  },
  {
   "cell_type": "code",
   "execution_count": null,
   "metadata": {},
   "outputs": [],
   "source": [
    "print(cesium.__version__)"
   ]
  },
  {
   "cell_type": "code",
   "execution_count": null,
   "metadata": {},
   "outputs": [],
   "source": [
    "# test= pd.read_csv('/media/atif/BE0E05910E0543BD/University of Bremen MSc/masters_thesis/IAT_sebastian/dataset_26_april_3.csv')\n",
    "test=pd.read_csv('E:/University of Bremen MSc/masters_thesis/IAT_sebastian/dataset_26_april_3.csv')"
   ]
  },
  {
   "cell_type": "code",
   "execution_count": 80,
   "metadata": {
    "scrolled": true
   },
   "outputs": [
    {
     "name": "stderr",
     "output_type": "stream",
     "text": [
      "C:\\Users\\atif\\Anaconda3\\lib\\site-packages\\ipykernel_launcher.py:2: FutureWarning: Method .as_matrix will be removed in a future version. Use .values instead.\n",
      "  \n"
     ]
    }
   ],
   "source": [
    "longTime=test.loc[0:,['longTime']]\n",
    "longTime=longTime.as_matrix()\n",
    "a=[]\n",
    "date_time_array=[]\n",
    "for k in longTime:\n",
    "    a=np.append(a,k)\n",
    "str_time=[]\n",
    "correct_longtime=[]\n",
    "datetime_time=[]\n",
    "count=0\n",
    "for b in a:\n",
    "    b=int(b) # make plain integer\n",
    "    str_b=str(b)\n",
    "    c=str_b[-3:]\n",
    "    new_str_b=str_b.replace(c, '',1)\n",
    "    new_str_b_time=int(new_str_b)\n",
    "    correct_longtime.append(new_str_b_time)\n",
    "    now_time=datetime.datetime.fromtimestamp(new_str_b_time)\n",
    "    convert_time=now_time.strftime('%Y-%m-%d %H:%M')\n",
    "    str_time.append(convert_time)\n",
    "# print(str_time)\n",
    "test_new = test.assign(stringTime=str_time,correct_longtime=correct_longtime) # here new column in the panda dataframe for string_time has added"
   ]
  },
  {
   "cell_type": "code",
   "execution_count": null,
   "metadata": {
    "scrolled": true
   },
   "outputs": [],
   "source": [
    "test_new.head()"
   ]
  },
  {
   "cell_type": "code",
   "execution_count": null,
   "metadata": {},
   "outputs": [],
   "source": [
    "# It will print the type of value of each column\n",
    "long_time = test_new.correct_longtime\n",
    "print(type(long_time))\n",
    "string_time = test_new.stringTime\n",
    "print(type(string_time))"
   ]
  },
  {
   "cell_type": "code",
   "execution_count": null,
   "metadata": {},
   "outputs": [],
   "source": [
    "test_new['dateTime'] =  pd.to_datetime(test_new['stringTime'], format='%Y-%m-%d %H:%M')\n",
    "test_new['dateTime_column'] =  pd.to_datetime(test_new['stringTime'], format='%Y-%m-%d %H:%M')"
   ]
  },
  {
   "cell_type": "code",
   "execution_count": null,
   "metadata": {},
   "outputs": [],
   "source": [
    "print(test_new.shape)  #ROWS, COLUMNS"
   ]
  },
  {
   "cell_type": "code",
   "execution_count": null,
   "metadata": {},
   "outputs": [],
   "source": [
    "# making dateTime column as a index for the test_new panda dataframe\n",
    "test_new = test_new.set_index('dateTime')"
   ]
  },
  {
   "cell_type": "code",
   "execution_count": null,
   "metadata": {},
   "outputs": [],
   "source": [
    "# multivariate_column_label=['DEWIHOBT9_I0','AEDATZ_HO_V0','AEDAHO_T9_V2','AEWIHO_T9AV2','RWWIHOB_HWT0'\n",
    "#                            ,'RWWIHOB_MWT0']#rmse error 1.99\n",
    "\n",
    "# multivariate_column_label = ['DEWIHOBT9_I0','AEDATZ_HONP0','AEDATZK_ASP0','AEDATZ_HO_V0',\n",
    "#                              'AEDAHO_T9_V2','AEWIHO_T9AV2'] #rmse error 1.38\n",
    "\n",
    "#RWDAKRWRS8V0\n",
    "# 'AEDAHO_T8_V2','AEWIHO_T8AV2',\n",
    "multivariate_column_label = ['dateTime_column','DEWIHOBT9_I0','AEDATZ_HONP0','AEDATZK_ASP0','AEDATZ_HO_V0','AEDAHO_T9_V2',\n",
    "                             'RWWIHOB_HWT0','RWWIHOB_MWT0','AEWIHO_T9AV2'] #rmse error 1.94\n",
    "size_column = len(multivariate_column_label)\n",
    "print(size_column)"
   ]
  },
  {
   "cell_type": "code",
   "execution_count": null,
   "metadata": {},
   "outputs": [],
   "source": [
    "size_column = len(multivariate_column_label)\n",
    "print(size_column)"
   ]
  },
  {
   "cell_type": "code",
   "execution_count": null,
   "metadata": {},
   "outputs": [],
   "source": [
    "multivariate_data=test_new.iloc[2000:10000][multivariate_column_label]\n",
    "multivariate_data=multivariate_data.loc[::-1]"
   ]
  },
  {
   "cell_type": "code",
   "execution_count": null,
   "metadata": {
    "scrolled": false
   },
   "outputs": [],
   "source": [
    "multivariate_data.head()"
   ]
  },
  {
   "cell_type": "code",
   "execution_count": null,
   "metadata": {},
   "outputs": [],
   "source": [
    "multivariate_data[\"a\"] = pd.to_datetime(multivariate_data[\"dateTime_column\"])"
   ]
  },
  {
   "cell_type": "code",
   "execution_count": null,
   "metadata": {
    "scrolled": false
   },
   "outputs": [],
   "source": [
    "# checking column type\n",
    "s = multivariate_data['dateTime_column'].dtype\n",
    "print(s)"
   ]
  },
  {
   "cell_type": "code",
   "execution_count": null,
   "metadata": {},
   "outputs": [],
   "source": [
    "multivariate_data.head()"
   ]
  },
  {
   "cell_type": "code",
   "execution_count": null,
   "metadata": {},
   "outputs": [],
   "source": [
    "# multivariate_data[\"a\"] = pd.to_datetime(multivariate_data[\"dateTime_column\"])\n",
    "tr = multivariate_data.drop(multivariate_data.columns[-1], axis=1)"
   ]
  },
  {
   "cell_type": "code",
   "execution_count": null,
   "metadata": {
    "scrolled": true
   },
   "outputs": [],
   "source": [
    "tr.head()"
   ]
  },
  {
   "cell_type": "code",
   "execution_count": null,
   "metadata": {},
   "outputs": [],
   "source": [
    "tr['Date'] = multivariate_data['dateTime_column'].dt.strftime('%d/%m/%Y')\n",
    "tr['Time'] = multivariate_data['dateTime_column'].dt.strftime('%H:%M:%S')"
   ]
  },
  {
   "cell_type": "code",
   "execution_count": null,
   "metadata": {},
   "outputs": [],
   "source": [
    "e1 = tr['Date'].dtype\n",
    "print(type(e1))"
   ]
  },
  {
   "cell_type": "code",
   "execution_count": null,
   "metadata": {},
   "outputs": [],
   "source": [
    "# v = pd.to_datetime(multivariate_data['dateTime_column'], errors='coerce')\n",
    "\n",
    "# tr['Time_1'] = v.dt.time\n",
    "# tr['Date_1'] = v.dt.floor('D')"
   ]
  },
  {
   "cell_type": "code",
   "execution_count": null,
   "metadata": {},
   "outputs": [],
   "source": [
    "# it will return a column with weekday name\n",
    "tr['Weekday_name'] = tr.index.weekday_name"
   ]
  },
  {
   "cell_type": "code",
   "execution_count": null,
   "metadata": {},
   "outputs": [],
   "source": [
    "# It will return a column with number associated with DAY. like monday =0, Tuesday=1 and so on\n",
    "tr['weekday'] = multivariate_data['dateTime_column'].apply(lambda x: x.weekday())"
   ]
  },
  {
   "cell_type": "code",
   "execution_count": null,
   "metadata": {},
   "outputs": [],
   "source": [
    "tr['TypeofDAY'] = np.where(multivariate_data['dateTime_column'].dt.dayofweek < 5, 'Weekday', 'weekend') # if the associated number less than 5 then weekend, otherwise weekday\n",
    "tr['TypeofDAY_number'] = np.where(multivariate_data['dateTime_column'].dt.dayofweek < 5, 1, 0) # 1 for weekday, 0 for weekend"
   ]
  },
  {
   "cell_type": "code",
   "execution_count": null,
   "metadata": {},
   "outputs": [],
   "source": [
    "# tr['new'] = multivariate_data.apply(lambda row: row.name, axis=1)\n",
    "# tr = tr.drop(['new'], axis=1)"
   ]
  },
  {
   "cell_type": "code",
   "execution_count": null,
   "metadata": {
    "scrolled": false
   },
   "outputs": [],
   "source": [
    "e = 'weekend'\n",
    "print(type(e))\n",
    "for index_1, value_1 in tr.iterrows():\n",
    "    for i_1 , v_1 in enumerate(value_1):\n",
    "        if i_1 == 13 and v_1 == e:\n",
    "            d = tr.index.get_loc(index_1) #It will give the row value for the corresponding index of the dataframe\n",
    "#             print(tr.iloc[d]['Weekday_name'])\n",
    "            print(index_1)"
   ]
  },
  {
   "cell_type": "code",
   "execution_count": null,
   "metadata": {},
   "outputs": [],
   "source": [
    "# make all the time(without date) to numeric value\n",
    "tr['numric_time'] = pd.to_timedelta(tr['Time']).dt.total_seconds()"
   ]
  },
  {
   "cell_type": "code",
   "execution_count": 103,
   "metadata": {},
   "outputs": [],
   "source": [
    "tr[\"shift of day\"] = \"\""
   ]
  },
  {
   "cell_type": "code",
   "execution_count": 104,
   "metadata": {
    "scrolled": false
   },
   "outputs": [
    {
     "data": {
      "text/html": [
       "<div>\n",
       "<style scoped>\n",
       "    .dataframe tbody tr th:only-of-type {\n",
       "        vertical-align: middle;\n",
       "    }\n",
       "\n",
       "    .dataframe tbody tr th {\n",
       "        vertical-align: top;\n",
       "    }\n",
       "\n",
       "    .dataframe thead th {\n",
       "        text-align: right;\n",
       "    }\n",
       "</style>\n",
       "<table border=\"1\" class=\"dataframe\">\n",
       "  <thead>\n",
       "    <tr style=\"text-align: right;\">\n",
       "      <th></th>\n",
       "      <th>dateTime_column</th>\n",
       "      <th>DEWIHOBT9_I0</th>\n",
       "      <th>AEDATZ_HONP0</th>\n",
       "      <th>AEDATZK_ASP0</th>\n",
       "      <th>AEDATZ_HO_V0</th>\n",
       "      <th>AEDAHO_T9_V2</th>\n",
       "      <th>RWWIHOB_HWT0</th>\n",
       "      <th>RWWIHOB_MWT0</th>\n",
       "      <th>AEWIHO_T9AV2</th>\n",
       "      <th>Date</th>\n",
       "      <th>Time</th>\n",
       "      <th>Weekday_name</th>\n",
       "      <th>weekday</th>\n",
       "      <th>TypeofDAY</th>\n",
       "      <th>TypeofDAY_number</th>\n",
       "      <th>numric_time</th>\n",
       "      <th>shift of day</th>\n",
       "    </tr>\n",
       "    <tr>\n",
       "      <th>dateTime</th>\n",
       "      <th></th>\n",
       "      <th></th>\n",
       "      <th></th>\n",
       "      <th></th>\n",
       "      <th></th>\n",
       "      <th></th>\n",
       "      <th></th>\n",
       "      <th></th>\n",
       "      <th></th>\n",
       "      <th></th>\n",
       "      <th></th>\n",
       "      <th></th>\n",
       "      <th></th>\n",
       "      <th></th>\n",
       "      <th></th>\n",
       "      <th></th>\n",
       "      <th></th>\n",
       "    </tr>\n",
       "  </thead>\n",
       "  <tbody>\n",
       "    <tr>\n",
       "      <th>2019-04-01 10:41:00</th>\n",
       "      <td>2019-04-01 10:41:00</td>\n",
       "      <td>100.0</td>\n",
       "      <td>97.700539</td>\n",
       "      <td>97.882738</td>\n",
       "      <td>40.370434</td>\n",
       "      <td>71.079345</td>\n",
       "      <td>94.396188</td>\n",
       "      <td>95.197505</td>\n",
       "      <td>79.651755</td>\n",
       "      <td>01/04/2019</td>\n",
       "      <td>10:41:00</td>\n",
       "      <td>Monday</td>\n",
       "      <td>0</td>\n",
       "      <td>Weekday</td>\n",
       "      <td>1</td>\n",
       "      <td>38460.0</td>\n",
       "      <td></td>\n",
       "    </tr>\n",
       "    <tr>\n",
       "      <th>2019-04-01 10:42:00</th>\n",
       "      <td>2019-04-01 10:42:00</td>\n",
       "      <td>100.0</td>\n",
       "      <td>97.602208</td>\n",
       "      <td>97.759636</td>\n",
       "      <td>40.216788</td>\n",
       "      <td>70.706495</td>\n",
       "      <td>94.318615</td>\n",
       "      <td>95.151028</td>\n",
       "      <td>77.686548</td>\n",
       "      <td>01/04/2019</td>\n",
       "      <td>10:42:00</td>\n",
       "      <td>Monday</td>\n",
       "      <td>0</td>\n",
       "      <td>Weekday</td>\n",
       "      <td>1</td>\n",
       "      <td>38520.0</td>\n",
       "      <td></td>\n",
       "    </tr>\n",
       "    <tr>\n",
       "      <th>2019-04-01 10:43:00</th>\n",
       "      <td>2019-04-01 10:43:00</td>\n",
       "      <td>100.0</td>\n",
       "      <td>97.434917</td>\n",
       "      <td>97.576584</td>\n",
       "      <td>39.823313</td>\n",
       "      <td>70.289996</td>\n",
       "      <td>94.031510</td>\n",
       "      <td>94.982774</td>\n",
       "      <td>76.496477</td>\n",
       "      <td>01/04/2019</td>\n",
       "      <td>10:43:00</td>\n",
       "      <td>Monday</td>\n",
       "      <td>0</td>\n",
       "      <td>Weekday</td>\n",
       "      <td>1</td>\n",
       "      <td>38580.0</td>\n",
       "      <td></td>\n",
       "    </tr>\n",
       "    <tr>\n",
       "      <th>2019-04-01 10:44:00</th>\n",
       "      <td>2019-04-01 10:44:00</td>\n",
       "      <td>100.0</td>\n",
       "      <td>96.856201</td>\n",
       "      <td>97.025646</td>\n",
       "      <td>39.922763</td>\n",
       "      <td>69.994697</td>\n",
       "      <td>94.286623</td>\n",
       "      <td>95.170256</td>\n",
       "      <td>76.661633</td>\n",
       "      <td>01/04/2019</td>\n",
       "      <td>10:44:00</td>\n",
       "      <td>Monday</td>\n",
       "      <td>0</td>\n",
       "      <td>Weekday</td>\n",
       "      <td>1</td>\n",
       "      <td>38640.0</td>\n",
       "      <td></td>\n",
       "    </tr>\n",
       "    <tr>\n",
       "      <th>2019-04-01 10:45:00</th>\n",
       "      <td>2019-04-01 10:45:00</td>\n",
       "      <td>100.0</td>\n",
       "      <td>96.748572</td>\n",
       "      <td>96.909181</td>\n",
       "      <td>39.771485</td>\n",
       "      <td>70.138749</td>\n",
       "      <td>94.273834</td>\n",
       "      <td>95.158246</td>\n",
       "      <td>76.051026</td>\n",
       "      <td>01/04/2019</td>\n",
       "      <td>10:45:00</td>\n",
       "      <td>Monday</td>\n",
       "      <td>0</td>\n",
       "      <td>Weekday</td>\n",
       "      <td>1</td>\n",
       "      <td>38700.0</td>\n",
       "      <td></td>\n",
       "    </tr>\n",
       "  </tbody>\n",
       "</table>\n",
       "</div>"
      ],
      "text/plain": [
       "                        dateTime_column  DEWIHOBT9_I0  AEDATZ_HONP0  \\\n",
       "dateTime                                                              \n",
       "2019-04-01 10:41:00 2019-04-01 10:41:00         100.0     97.700539   \n",
       "2019-04-01 10:42:00 2019-04-01 10:42:00         100.0     97.602208   \n",
       "2019-04-01 10:43:00 2019-04-01 10:43:00         100.0     97.434917   \n",
       "2019-04-01 10:44:00 2019-04-01 10:44:00         100.0     96.856201   \n",
       "2019-04-01 10:45:00 2019-04-01 10:45:00         100.0     96.748572   \n",
       "\n",
       "                     AEDATZK_ASP0  AEDATZ_HO_V0  AEDAHO_T9_V2  RWWIHOB_HWT0  \\\n",
       "dateTime                                                                      \n",
       "2019-04-01 10:41:00     97.882738     40.370434     71.079345     94.396188   \n",
       "2019-04-01 10:42:00     97.759636     40.216788     70.706495     94.318615   \n",
       "2019-04-01 10:43:00     97.576584     39.823313     70.289996     94.031510   \n",
       "2019-04-01 10:44:00     97.025646     39.922763     69.994697     94.286623   \n",
       "2019-04-01 10:45:00     96.909181     39.771485     70.138749     94.273834   \n",
       "\n",
       "                     RWWIHOB_MWT0  AEWIHO_T9AV2        Date      Time  \\\n",
       "dateTime                                                                \n",
       "2019-04-01 10:41:00     95.197505     79.651755  01/04/2019  10:41:00   \n",
       "2019-04-01 10:42:00     95.151028     77.686548  01/04/2019  10:42:00   \n",
       "2019-04-01 10:43:00     94.982774     76.496477  01/04/2019  10:43:00   \n",
       "2019-04-01 10:44:00     95.170256     76.661633  01/04/2019  10:44:00   \n",
       "2019-04-01 10:45:00     95.158246     76.051026  01/04/2019  10:45:00   \n",
       "\n",
       "                    Weekday_name  weekday TypeofDAY  TypeofDAY_number  \\\n",
       "dateTime                                                                \n",
       "2019-04-01 10:41:00       Monday        0   Weekday                 1   \n",
       "2019-04-01 10:42:00       Monday        0   Weekday                 1   \n",
       "2019-04-01 10:43:00       Monday        0   Weekday                 1   \n",
       "2019-04-01 10:44:00       Monday        0   Weekday                 1   \n",
       "2019-04-01 10:45:00       Monday        0   Weekday                 1   \n",
       "\n",
       "                     numric_time shift of day  \n",
       "dateTime                                       \n",
       "2019-04-01 10:41:00      38460.0               \n",
       "2019-04-01 10:42:00      38520.0               \n",
       "2019-04-01 10:43:00      38580.0               \n",
       "2019-04-01 10:44:00      38640.0               \n",
       "2019-04-01 10:45:00      38700.0               "
      ]
     },
     "execution_count": 104,
     "metadata": {},
     "output_type": "execute_result"
    }
   ],
   "source": [
    "tr.head()"
   ]
  },
  {
   "cell_type": "code",
   "execution_count": 107,
   "metadata": {
    "scrolled": true
   },
   "outputs": [
    {
     "ename": "ValueError",
     "evalue": "The truth value of a DataFrame is ambiguous. Use a.empty, a.bool(), a.item(), a.any() or a.all().",
     "output_type": "error",
     "traceback": [
      "\u001b[1;31m---------------------------------------------------------------------------\u001b[0m",
      "\u001b[1;31mValueError\u001b[0m                                Traceback (most recent call last)",
      "\u001b[1;32m<ipython-input-107-a0c11a08e446>\u001b[0m in \u001b[0;36m<module>\u001b[1;34m()\u001b[0m\n\u001b[0;32m      5\u001b[0m \u001b[1;33m\u001b[0m\u001b[0m\n\u001b[0;32m      6\u001b[0m \u001b[1;32mfor\u001b[0m \u001b[0mi\u001b[0m\u001b[1;33m,\u001b[0m \u001b[0mrow\u001b[0m \u001b[1;32min\u001b[0m \u001b[0mtr\u001b[0m\u001b[1;33m.\u001b[0m\u001b[0miterrows\u001b[0m\u001b[1;33m(\u001b[0m\u001b[1;33m)\u001b[0m\u001b[1;33m:\u001b[0m\u001b[1;33m\u001b[0m\u001b[0m\n\u001b[1;32m----> 7\u001b[1;33m     \u001b[1;32mif\u001b[0m \u001b[0mtr\u001b[0m\u001b[1;33m.\u001b[0m\u001b[0mbetween_time\u001b[0m\u001b[1;33m(\u001b[0m\u001b[1;34m'06:00'\u001b[0m\u001b[1;33m,\u001b[0m \u001b[1;34m'14:00'\u001b[0m\u001b[1;33m)\u001b[0m\u001b[1;33m:\u001b[0m\u001b[1;33m\u001b[0m\u001b[0m\n\u001b[0m\u001b[0;32m      8\u001b[0m         \u001b[0mifor_val\u001b[0m \u001b[1;33m=\u001b[0m \u001b[1;34m'morning_shift'\u001b[0m\u001b[1;33m\u001b[0m\u001b[0m\n\u001b[0;32m      9\u001b[0m         \u001b[0mtr\u001b[0m\u001b[1;33m.\u001b[0m\u001b[0mat\u001b[0m\u001b[1;33m[\u001b[0m\u001b[0mi\u001b[0m\u001b[1;33m,\u001b[0m\u001b[1;34m'shift of day'\u001b[0m\u001b[1;33m]\u001b[0m \u001b[1;33m=\u001b[0m \u001b[0mifor_val\u001b[0m\u001b[1;33m\u001b[0m\u001b[0m\n",
      "\u001b[1;32m~\\Anaconda3\\lib\\site-packages\\pandas\\core\\generic.py\u001b[0m in \u001b[0;36m__nonzero__\u001b[1;34m(self)\u001b[0m\n\u001b[0;32m   1476\u001b[0m         raise ValueError(\"The truth value of a {0} is ambiguous. \"\n\u001b[0;32m   1477\u001b[0m                          \u001b[1;34m\"Use a.empty, a.bool(), a.item(), a.any() or a.all().\"\u001b[0m\u001b[1;33m\u001b[0m\u001b[0m\n\u001b[1;32m-> 1478\u001b[1;33m                          .format(self.__class__.__name__))\n\u001b[0m\u001b[0;32m   1479\u001b[0m \u001b[1;33m\u001b[0m\u001b[0m\n\u001b[0;32m   1480\u001b[0m     \u001b[0m__bool__\u001b[0m \u001b[1;33m=\u001b[0m \u001b[0m__nonzero__\u001b[0m\u001b[1;33m\u001b[0m\u001b[0m\n",
      "\u001b[1;31mValueError\u001b[0m: The truth value of a DataFrame is ambiguous. Use a.empty, a.bool(), a.item(), a.any() or a.all()."
     ]
    }
   ],
   "source": [
    "# print(tr['Time'][7000:7060])\n",
    "# tr.between_time('10:00', '10:01')\n",
    "# for i in range(len(tr)):\n",
    "# tr['shift_of_day'] = np.where(tr.between_time('06:00', '14:00'), 'morning_shift','no shift')\n",
    "\n",
    "for i, row in tr.iterrows():\n",
    "    if tr.between_time('06:00', '14:00'):\n",
    "        ifor_val = 'morning_shift'\n",
    "        tr.at[i,'shift of day'] = ifor_val\n",
    "    else:\n",
    "        ifor_val = 'no shift'\n",
    "        tr.at[i,'shift of day'] = ifor_val"
   ]
  },
  {
   "cell_type": "code",
   "execution_count": 120,
   "metadata": {},
   "outputs": [
    {
     "name": "stdout",
     "output_type": "stream",
     "text": [
      "2793\n",
      "2812\n",
      "2395\n"
     ]
    },
    {
     "data": {
      "text/html": [
       "<div>\n",
       "<style scoped>\n",
       "    .dataframe tbody tr th:only-of-type {\n",
       "        vertical-align: middle;\n",
       "    }\n",
       "\n",
       "    .dataframe tbody tr th {\n",
       "        vertical-align: top;\n",
       "    }\n",
       "\n",
       "    .dataframe thead th {\n",
       "        text-align: right;\n",
       "    }\n",
       "</style>\n",
       "<table border=\"1\" class=\"dataframe\">\n",
       "  <thead>\n",
       "    <tr style=\"text-align: right;\">\n",
       "      <th></th>\n",
       "      <th>dateTime_column</th>\n",
       "      <th>DEWIHOBT9_I0</th>\n",
       "      <th>AEDATZ_HONP0</th>\n",
       "      <th>AEDATZK_ASP0</th>\n",
       "      <th>AEDATZ_HO_V0</th>\n",
       "      <th>AEDAHO_T9_V2</th>\n",
       "      <th>RWWIHOB_HWT0</th>\n",
       "      <th>RWWIHOB_MWT0</th>\n",
       "      <th>AEWIHO_T9AV2</th>\n",
       "      <th>Date</th>\n",
       "      <th>Time</th>\n",
       "      <th>Weekday_name</th>\n",
       "      <th>weekday</th>\n",
       "      <th>TypeofDAY</th>\n",
       "      <th>TypeofDAY_number</th>\n",
       "      <th>numric_time</th>\n",
       "      <th>shift of day</th>\n",
       "    </tr>\n",
       "    <tr>\n",
       "      <th>dateTime</th>\n",
       "      <th></th>\n",
       "      <th></th>\n",
       "      <th></th>\n",
       "      <th></th>\n",
       "      <th></th>\n",
       "      <th></th>\n",
       "      <th></th>\n",
       "      <th></th>\n",
       "      <th></th>\n",
       "      <th></th>\n",
       "      <th></th>\n",
       "      <th></th>\n",
       "      <th></th>\n",
       "      <th></th>\n",
       "      <th></th>\n",
       "      <th></th>\n",
       "      <th></th>\n",
       "    </tr>\n",
       "  </thead>\n",
       "  <tbody>\n",
       "    <tr>\n",
       "      <th>2019-04-01 22:01:00</th>\n",
       "      <td>2019-04-01 22:01:00</td>\n",
       "      <td>100.0</td>\n",
       "      <td>97.442167</td>\n",
       "      <td>97.620466</td>\n",
       "      <td>39.906476</td>\n",
       "      <td>70.415305</td>\n",
       "      <td>95.425458</td>\n",
       "      <td>96.344042</td>\n",
       "      <td>75.974896</td>\n",
       "      <td>01/04/2019</td>\n",
       "      <td>22:01:00</td>\n",
       "      <td>Monday</td>\n",
       "      <td>0</td>\n",
       "      <td>Weekday</td>\n",
       "      <td>1</td>\n",
       "      <td>79260.0</td>\n",
       "      <td></td>\n",
       "    </tr>\n",
       "    <tr>\n",
       "      <th>2019-04-01 22:02:00</th>\n",
       "      <td>2019-04-01 22:02:00</td>\n",
       "      <td>100.0</td>\n",
       "      <td>97.327288</td>\n",
       "      <td>97.508984</td>\n",
       "      <td>40.123380</td>\n",
       "      <td>70.714459</td>\n",
       "      <td>95.370280</td>\n",
       "      <td>96.283951</td>\n",
       "      <td>75.605889</td>\n",
       "      <td>01/04/2019</td>\n",
       "      <td>22:02:00</td>\n",
       "      <td>Monday</td>\n",
       "      <td>0</td>\n",
       "      <td>Weekday</td>\n",
       "      <td>1</td>\n",
       "      <td>79320.0</td>\n",
       "      <td></td>\n",
       "    </tr>\n",
       "    <tr>\n",
       "      <th>2019-04-01 22:03:00</th>\n",
       "      <td>2019-04-01 22:03:00</td>\n",
       "      <td>100.0</td>\n",
       "      <td>97.325764</td>\n",
       "      <td>97.502980</td>\n",
       "      <td>40.084819</td>\n",
       "      <td>70.892408</td>\n",
       "      <td>95.339089</td>\n",
       "      <td>96.295169</td>\n",
       "      <td>76.179690</td>\n",
       "      <td>01/04/2019</td>\n",
       "      <td>22:03:00</td>\n",
       "      <td>Monday</td>\n",
       "      <td>0</td>\n",
       "      <td>Weekday</td>\n",
       "      <td>1</td>\n",
       "      <td>79380.0</td>\n",
       "      <td></td>\n",
       "    </tr>\n",
       "    <tr>\n",
       "      <th>2019-04-01 22:04:00</th>\n",
       "      <td>2019-04-01 22:04:00</td>\n",
       "      <td>100.0</td>\n",
       "      <td>97.469130</td>\n",
       "      <td>97.661156</td>\n",
       "      <td>39.976367</td>\n",
       "      <td>70.556536</td>\n",
       "      <td>95.243924</td>\n",
       "      <td>96.268733</td>\n",
       "      <td>76.501195</td>\n",
       "      <td>01/04/2019</td>\n",
       "      <td>22:04:00</td>\n",
       "      <td>Monday</td>\n",
       "      <td>0</td>\n",
       "      <td>Weekday</td>\n",
       "      <td>1</td>\n",
       "      <td>79440.0</td>\n",
       "      <td></td>\n",
       "    </tr>\n",
       "    <tr>\n",
       "      <th>2019-04-01 22:05:00</th>\n",
       "      <td>2019-04-01 22:05:00</td>\n",
       "      <td>100.0</td>\n",
       "      <td>97.533384</td>\n",
       "      <td>97.724046</td>\n",
       "      <td>39.679916</td>\n",
       "      <td>70.351879</td>\n",
       "      <td>95.172746</td>\n",
       "      <td>96.179799</td>\n",
       "      <td>76.533912</td>\n",
       "      <td>01/04/2019</td>\n",
       "      <td>22:05:00</td>\n",
       "      <td>Monday</td>\n",
       "      <td>0</td>\n",
       "      <td>Weekday</td>\n",
       "      <td>1</td>\n",
       "      <td>79500.0</td>\n",
       "      <td></td>\n",
       "    </tr>\n",
       "  </tbody>\n",
       "</table>\n",
       "</div>"
      ],
      "text/plain": [
       "                        dateTime_column  DEWIHOBT9_I0  AEDATZ_HONP0  \\\n",
       "dateTime                                                              \n",
       "2019-04-01 22:01:00 2019-04-01 22:01:00         100.0     97.442167   \n",
       "2019-04-01 22:02:00 2019-04-01 22:02:00         100.0     97.327288   \n",
       "2019-04-01 22:03:00 2019-04-01 22:03:00         100.0     97.325764   \n",
       "2019-04-01 22:04:00 2019-04-01 22:04:00         100.0     97.469130   \n",
       "2019-04-01 22:05:00 2019-04-01 22:05:00         100.0     97.533384   \n",
       "\n",
       "                     AEDATZK_ASP0  AEDATZ_HO_V0  AEDAHO_T9_V2  RWWIHOB_HWT0  \\\n",
       "dateTime                                                                      \n",
       "2019-04-01 22:01:00     97.620466     39.906476     70.415305     95.425458   \n",
       "2019-04-01 22:02:00     97.508984     40.123380     70.714459     95.370280   \n",
       "2019-04-01 22:03:00     97.502980     40.084819     70.892408     95.339089   \n",
       "2019-04-01 22:04:00     97.661156     39.976367     70.556536     95.243924   \n",
       "2019-04-01 22:05:00     97.724046     39.679916     70.351879     95.172746   \n",
       "\n",
       "                     RWWIHOB_MWT0  AEWIHO_T9AV2        Date      Time  \\\n",
       "dateTime                                                                \n",
       "2019-04-01 22:01:00     96.344042     75.974896  01/04/2019  22:01:00   \n",
       "2019-04-01 22:02:00     96.283951     75.605889  01/04/2019  22:02:00   \n",
       "2019-04-01 22:03:00     96.295169     76.179690  01/04/2019  22:03:00   \n",
       "2019-04-01 22:04:00     96.268733     76.501195  01/04/2019  22:04:00   \n",
       "2019-04-01 22:05:00     96.179799     76.533912  01/04/2019  22:05:00   \n",
       "\n",
       "                    Weekday_name  weekday TypeofDAY  TypeofDAY_number  \\\n",
       "dateTime                                                                \n",
       "2019-04-01 22:01:00       Monday        0   Weekday                 1   \n",
       "2019-04-01 22:02:00       Monday        0   Weekday                 1   \n",
       "2019-04-01 22:03:00       Monday        0   Weekday                 1   \n",
       "2019-04-01 22:04:00       Monday        0   Weekday                 1   \n",
       "2019-04-01 22:05:00       Monday        0   Weekday                 1   \n",
       "\n",
       "                     numric_time shift of day  \n",
       "dateTime                                       \n",
       "2019-04-01 22:01:00      79260.0               \n",
       "2019-04-01 22:02:00      79320.0               \n",
       "2019-04-01 22:03:00      79380.0               \n",
       "2019-04-01 22:04:00      79440.0               \n",
       "2019-04-01 22:05:00      79500.0               "
      ]
     },
     "execution_count": 120,
     "metadata": {},
     "output_type": "execute_result"
    }
   ],
   "source": [
    "morning_shift = tr.between_time('06:00', '14:00')\n",
    "day_shift = tr.between_time('14:01', '22:00')\n",
    "night_shift = tr.between_time('22:01', '05:59')\n",
    "\n",
    "print(len(morning_shift))\n",
    "print(len(day_shift))\n",
    "print(len(night_shift))\n",
    "\n",
    "night_shift.head()"
   ]
  },
  {
   "cell_type": "code",
   "execution_count": 117,
   "metadata": {},
   "outputs": [
    {
     "name": "stdout",
     "output_type": "stream",
     "text": [
      "2793\n"
     ]
    },
    {
     "data": {
      "image/png": "[encoded data removed]",
      "text/plain": [
       "<Figure size 1440x720 with 1 Axes>"
      ]
     },
     "metadata": {},
     "output_type": "display_data"
    }
   ],
   "source": [
    "print(len(morning_shift))\n",
    "morning_shift.plot(y='AEWIHO_T9AV2')\n",
    "plt.rcParams['figure.figsize'] =(20,10)"
   ]
  },
  {
   "cell_type": "code",
   "execution_count": null,
   "metadata": {},
   "outputs": [],
   "source": [
    "# test_purpose = test_new.iloc[2000:2010][multivariate_column_label]\n",
    "# test_purpose = test_purpose.loc[::-1]\n",
    "# test_purpose.head()"
   ]
  },
  {
   "cell_type": "code",
   "execution_count": null,
   "metadata": {
    "scrolled": false
   },
   "outputs": [],
   "source": [
    "# test_purpose_array = test_purpose.values\n",
    "# print(test_purpose_array.shape)\n",
    "# one_element = test_purpose_array[:,-1]\n",
    "# one_element = np.reshape(one_element,(-1,1))\n",
    "# print(one_element.shape)\n",
    "\n",
    "# cesium.features.graphs.amplitude(one_element)"
   ]
  },
  {
   "cell_type": "code",
   "execution_count": null,
   "metadata": {},
   "outputs": [],
   "source": [
    "# group = one_element"
   ]
  },
  {
   "cell_type": "code",
   "execution_count": null,
   "metadata": {},
   "outputs": [],
   "source": [
    "# def get_feature(group):\n",
    "#     return {\n",
    "#             \"amplitude\": cesium.features.graphs.amplitude(group),\n",
    "#             \"maximum\": cesium.features.graphs.maximum(group),\n",
    "#             \"median\": cesium.features.graphs.median(group),\n",
    "#             \"minimum\": cesium.features.graphs.minimum(group),\n",
    "#             \"std\": cesium.features.graphs.std(group),\n",
    "#             \"mean\": group.mean(),\n",
    "#             \"median_absolute_deviation\": cesium.features.graphs.median_absolute_deviation(group),\n",
    "#             \"percent_close_to_median\": cesium.features.graphs.percent_close_to_median(group),\n",
    "#             \"skew\": cesium.features.graphs.skew(group),\n",
    "#             \"stetson_j\": cesium.features.graphs.stetson_j(group),\n",
    "#             \"stetson_k\": cesium.features.graphs.stetson_k(group),\n",
    "# #             \"peaks_count\": detect_peaks(group, mph= 10000, mpd=20).size\n",
    "#            }\n",
    "\n",
    "# feature = get_feature(group)\n",
    "# print(feature)"
   ]
  },
  {
   "cell_type": "code",
   "execution_count": null,
   "metadata": {},
   "outputs": [],
   "source": [
    "# def feature_group(rrx, freq = '300s'):\n",
    "#     dfx = pd.DataFrame()\n",
    "\n",
    "#     dfx = rrx.groupby(pd.Grouper(freq=freq)).mean() #[\"mrri\"]\n",
    "#     dfx[\"mhr\"] = rrx.groupby(pd.Grouper(freq=freq)).aggregate(lambda x: cesium.features.graphs.amplitude(x)[\"amplitude\"])\n",
    "#     dfx[\"nn50\"] = rrx.groupby(pd.Grouper(freq=freq)).aggregate(lambda x: time_domain(x)[\"nn50\"])\n",
    "#     dfx[\"rmssd\"] = rrx.groupby(pd.Grouper(freq=freq)).aggregate(lambda x: time_domain(x)[\"rmssd\"])\n",
    "#     dfx[\"sdnn\"] = rrx.groupby(pd.Grouper(freq=freq)).aggregate(lambda x: time_domain(x)[\"sdnn\"])\n",
    "\n",
    "#     dfx[\"hf\"] = rrx.groupby(pd.Grouper(freq=freq)).aggregate(lambda x: frequency_domain(x)[\"hf\"])\n",
    "#     dfx[\"hfnu\"] = rrx.groupby(pd.Grouper(freq=freq)).aggregate(lambda x: frequency_domain(x)[\"hfnu\"])\n",
    "#     dfx[\"lf\"] = rrx.groupby(pd.Grouper(freq=freq)).aggregate(lambda x: frequency_domain(x)[\"lf\"])\n",
    "#     dfx[\"lf_hf\"] = rrx.groupby(pd.Grouper(freq=freq)).aggregate(lambda x: frequency_domain(x)[\"lf_hf\"])\n",
    "#     dfx[\"lfnu\"] = rrx.groupby(pd.Grouper(freq=freq)).aggregate(lambda x: frequency_domain(x)[\"lfnu\"])\n",
    "#     dfx[\"total_power\"] = rrx.groupby(pd.Grouper(freq=freq)).aggregate(lambda x: frequency_domain(x)[\"total_power\"])\n",
    "#     dfx[\"vlf\"] = rrx.groupby(pd.Grouper(freq=freq)).aggregate(lambda x: frequency_domain(x)[\"vlf\"])\n",
    "\n",
    "\n",
    "#     return dfx.round(2)"
   ]
  },
  {
   "cell_type": "code",
   "execution_count": null,
   "metadata": {},
   "outputs": [],
   "source": [
    "ax = multivariate_data.plot(subplots=True, layout=(size_column,1))\n",
    "plt.rcParams['figure.figsize'] =(20,10)\n",
    "# plt.savefig('E:/University of Bremen MSc/masters_thesis/forecasting_sensor_data_Salzgitter_AG/images_from_training/multivariate_data_regression.png')\n",
    "plt.show()"
   ]
  },
  {
   "cell_type": "code",
   "execution_count": null,
   "metadata": {},
   "outputs": [],
   "source": [
    "zero_index=[]\n",
    "zero_index=np.array(zero_index)\n",
    "for index, value in multivariate_data.iterrows():\n",
    "    for i , v in enumerate(value):\n",
    "        if i == 0  and v == 0.0:\n",
    "#             print('index: ',index)\n",
    "            zero_index=np.append(zero_index,index)\n",
    "\n",
    "print('size of zero_index: ',zero_index.size)"
   ]
  },
  {
   "cell_type": "code",
   "execution_count": null,
   "metadata": {},
   "outputs": [],
   "source": [
    "if zero_index.size > 0:\n",
    "    multivariate_data_modify = multivariate_data.drop(zero_index,axis=0) # axis= 0 means row indiated. 1 means column indicated\n",
    "else:\n",
    "    multivariate_data_modify = multivariate_data"
   ]
  },
  {
   "cell_type": "code",
   "execution_count": null,
   "metadata": {},
   "outputs": [],
   "source": [
    "print(multivariate_data.shape)\n",
    "print(multivariate_data_modify.shape)"
   ]
  },
  {
   "cell_type": "code",
   "execution_count": null,
   "metadata": {},
   "outputs": [],
   "source": [
    "bx = multivariate_data_modify.plot(subplots=True, layout=(size_column,1))\n",
    "plt.rcParams['figure.figsize'] =(20,10)\n",
    "plt.legend(loc='upper left')\n",
    "plt.show()"
   ]
  },
  {
   "cell_type": "code",
   "execution_count": null,
   "metadata": {},
   "outputs": [],
   "source": [
    "from numpy import nan\n",
    "multivariate_data_drop_zero= multivariate_data.replace(0,nan)\n",
    "multivariate_data_drop_zero=multivariate_data_drop_zero.dropna(how='any',axis=0)"
   ]
  },
  {
   "cell_type": "code",
   "execution_count": null,
   "metadata": {
    "scrolled": false
   },
   "outputs": [],
   "source": [
    "cx = multivariate_data_drop_zero.plot(subplots=True, layout=(size_column,1))\n",
    "plt.rcParams['figure.figsize'] =(20,10)\n",
    "plt.show()"
   ]
  },
  {
   "cell_type": "code",
   "execution_count": null,
   "metadata": {},
   "outputs": [],
   "source": [
    "multivariate_data_drop_zero_resample = multivariate_data_drop_zero.resample('1min').mean()"
   ]
  },
  {
   "cell_type": "code",
   "execution_count": null,
   "metadata": {},
   "outputs": [],
   "source": [
    "print(multivariate_data_drop_zero.shape)\n",
    "print(multivariate_data_drop_zero_resample.shape)"
   ]
  },
  {
   "cell_type": "code",
   "execution_count": null,
   "metadata": {},
   "outputs": [],
   "source": [
    "multivariate_data_drop_zero_interpolate = multivariate_data_drop_zero_resample.interpolate('linear')"
   ]
  },
  {
   "cell_type": "code",
   "execution_count": null,
   "metadata": {},
   "outputs": [],
   "source": [
    "print(multivariate_data_drop_zero_interpolate.shape)"
   ]
  },
  {
   "cell_type": "code",
   "execution_count": null,
   "metadata": {
    "scrolled": true
   },
   "outputs": [],
   "source": [
    "multivariate_data_drop_zero_interpolate.head()"
   ]
  },
  {
   "cell_type": "code",
   "execution_count": null,
   "metadata": {},
   "outputs": [],
   "source": [
    "dx = multivariate_data_drop_zero_interpolate.plot(subplots=True, layout=(size_column,1))\n",
    "plt.rcParams['figure.figsize'] =(20,10)\n",
    "plt.show()"
   ]
  },
  {
   "cell_type": "code",
   "execution_count": null,
   "metadata": {
    "scrolled": true
   },
   "outputs": [],
   "source": [
    "hist = multivariate_data_drop_zero.hist(bins=3)"
   ]
  },
  {
   "cell_type": "code",
   "execution_count": null,
   "metadata": {},
   "outputs": [],
   "source": [
    "# print(len(multivariate_column_label))\n",
    "for idx, i in enumerate(multivariate_column_label):\n",
    "    now_idx = idx+1\n",
    "    \n",
    "    if now_idx == len(multivariate_column_label):\n",
    "        print('terminate')\n",
    "        break\n",
    "    print(multivariate_column_label[now_idx])\n",
    "    drop_consecutive_same_value_zero = multivariate_data_drop_zero.loc[multivariate_data_drop_zero[multivariate_column_label[now_idx]].shift() != multivariate_data_drop_zero[multivariate_column_label[now_idx]]]\n",
    "    drop_consecutive_same_value_interpolate = multivariate_data_drop_zero_interpolate.loc[multivariate_data_drop_zero_interpolate[multivariate_column_label[now_idx]].shift() != multivariate_data_drop_zero_interpolate[multivariate_column_label[now_idx]]]\n",
    "    \n"
   ]
  },
  {
   "cell_type": "code",
   "execution_count": null,
   "metadata": {},
   "outputs": [],
   "source": [
    "print(multivariate_data_drop_zero.shape)\n",
    "print(drop_consecutive_same_value_zero.shape)\n",
    "print(drop_consecutive_same_value_interpolate.shape)"
   ]
  },
  {
   "cell_type": "code",
   "execution_count": null,
   "metadata": {},
   "outputs": [],
   "source": [
    "new_dataframe = drop_consecutive_same_value_zero.drop(['DEWIHOBT9_I0'], axis=1)\n",
    "# new_dataframe = drop_consecutive_same_value_interpolate.drop(['DEWIHOBT9_I0'], axis=1)"
   ]
  },
  {
   "cell_type": "code",
   "execution_count": null,
   "metadata": {},
   "outputs": [],
   "source": [
    "ex = new_dataframe.plot(subplots=True, layout=(size_column-1,1))\n",
    "plt.rcParams['figure.figsize'] =(20,10)\n",
    "plt.show()"
   ]
  },
  {
   "cell_type": "code",
   "execution_count": null,
   "metadata": {},
   "outputs": [],
   "source": [
    "print('shape of multivariate_data: ',multivariate_data.shape)\n",
    "print('shape of multivariate_data_modify: ', multivariate_data_modify.shape)\n",
    "print('shape of multivariate_data_drop_zero: ',multivariate_data_drop_zero.shape)\n",
    "print('shape of new_dataframe: ', new_dataframe.shape)"
   ]
  },
  {
   "cell_type": "code",
   "execution_count": null,
   "metadata": {
    "scrolled": true
   },
   "outputs": [],
   "source": [
    "multivariate_data_drop_zero.head()"
   ]
  },
  {
   "cell_type": "code",
   "execution_count": null,
   "metadata": {
    "scrolled": true
   },
   "outputs": [],
   "source": [
    "new_dataframe.corr()"
   ]
  },
  {
   "cell_type": "code",
   "execution_count": null,
   "metadata": {},
   "outputs": [],
   "source": [
    "new_dataframe_1 = new_dataframe.drop(['AEDATZ_HONP0','AEDATZK_ASP0','AEDATZ_HO_V0','RWWIHOB_HWT0','RWWIHOB_MWT0'], axis=1)"
   ]
  },
  {
   "cell_type": "code",
   "execution_count": null,
   "metadata": {},
   "outputs": [],
   "source": [
    "# print('multivariate_data_drop_zero head: \\n',multivariate_data_drop_zero.head())\n",
    "# dataset=np.array(multivariate_data_drop_zero)\n",
    "dataset=np.array(new_dataframe_1)"
   ]
  },
  {
   "cell_type": "code",
   "execution_count": null,
   "metadata": {},
   "outputs": [],
   "source": [
    "new_dataframe_1.head()"
   ]
  },
  {
   "cell_type": "code",
   "execution_count": null,
   "metadata": {},
   "outputs": [],
   "source": [
    "def make_dataset(dataset):\n",
    "    NumberOfElements=int(len(dataset)*0.9)\n",
    "    print('Number of Elements for training: ',NumberOfElements)\n",
    "    print('dataset length: ',len(dataset))\n",
    "\n",
    "    train_input=dataset[0:NumberOfElements,0:-1]\n",
    "    print('train_input shape: ',train_input.shape)\n",
    "    train_output=dataset[0:NumberOfElements,-1]\n",
    "    print('train_output shape: ',train_output.shape)\n",
    "\n",
    "    test_input=dataset[NumberOfElements:len(dataset),0:-1]\n",
    "    print('test_input shape: ',test_input.shape)\n",
    "    test_output=dataset[NumberOfElements:len(dataset),-1]\n",
    "    print('test_output shape: ',test_output.shape)\n",
    "    \n",
    "    return train_input, train_output, test_input, test_output\n",
    "\n",
    "train_input, train_output, test_input, test_output = make_dataset(dataset)\n",
    "# print('train data size: ',train_data.shape,'\\ntest data size: ',test_data.shape)"
   ]
  },
  {
   "cell_type": "markdown",
   "metadata": {},
   "source": [
    "# Linear Regression"
   ]
  },
  {
   "cell_type": "code",
   "execution_count": null,
   "metadata": {},
   "outputs": [],
   "source": [
    "from sklearn import metrics\n",
    "from sklearn.linear_model import LinearRegression"
   ]
  },
  {
   "cell_type": "code",
   "execution_count": null,
   "metadata": {},
   "outputs": [],
   "source": [
    "train_model=LinearRegression(fit_intercept = True,normalize=False).fit(train_input,train_output)\n",
    "print(train_model)"
   ]
  },
  {
   "cell_type": "code",
   "execution_count": null,
   "metadata": {},
   "outputs": [],
   "source": [
    "predicted_output=train_model.predict(test_input)"
   ]
  },
  {
   "cell_type": "code",
   "execution_count": null,
   "metadata": {
    "scrolled": false
   },
   "outputs": [],
   "source": [
    "print('test_input size: ',test_input.size)\n",
    "print('test_output size: ',test_output.size)\n",
    "print('predicted output size: ',predicted_output.size)\n",
    "\n",
    "print('test_input shape: ',test_input.shape)\n",
    "print('test_output shape: ',test_output.shape)\n",
    "print('predicted output shape: ',predicted_output.shape)"
   ]
  },
  {
   "cell_type": "code",
   "execution_count": null,
   "metadata": {},
   "outputs": [],
   "source": [
    "from sklearn import linear_model\n",
    "from sklearn.metrics import mean_squared_error, r2_score, mean_absolute_error\n",
    "import math"
   ]
  },
  {
   "cell_type": "code",
   "execution_count": null,
   "metadata": {
    "scrolled": true
   },
   "outputs": [],
   "source": [
    "print('Slope:' ,train_model.coef_)\n",
    "print('Intercept:', train_model.intercept_)\n",
    "print('r_2 statistic: %.2f' % r2_score(test_output,predicted_output))\n",
    "print(\"Mean_absolute_error: %.2f\" % mean_absolute_error(test_output,predicted_output))\n",
    "print(\"Mean squared error: %.2f\" % mean_squared_error(test_output,predicted_output))\n",
    "RMSE=math.sqrt(mean_squared_error(test_output,predicted_output))\n",
    "print('RMSE: ',RMSE)"
   ]
  },
  {
   "cell_type": "code",
   "execution_count": null,
   "metadata": {},
   "outputs": [],
   "source": [
    "plt.plot(predicted_output[0:15], color = 'blue')\n",
    "plt.plot(test_output[0:15], color = 'red')"
   ]
  },
  {
   "cell_type": "code",
   "execution_count": null,
   "metadata": {
    "scrolled": false
   },
   "outputs": [],
   "source": [
    "actual_data = range(65)\n",
    "\n",
    "plt.plot(predicted_output[:60],color='blue',marker='s', linestyle=':')\n",
    "plt.plot(actual_data[5:], test_output[:60],color='red',marker='^', linestyle='-.')\n",
    "# plt.plot(yhat[51:99],color='black',marker='s', linestyle=':')\n",
    "plt.title('deviation between predicted and target value')\n",
    "plt.ylabel('value')\n",
    "plt.xlabel('interval of minutes')\n",
    "plt.legend(['predicted','actual_output'], loc='upper left')\n",
    "plt.grid(b=None, which='both', axis='both')\n",
    "plt.xticks(np.arange(0,65,5))\n",
    "plt.xticks( rotation=25)\n",
    "plt.rcParams['figure.figsize'] =(20,10)\n",
    "plt.show()"
   ]
  },
  {
   "cell_type": "code",
   "execution_count": null,
   "metadata": {
    "scrolled": false
   },
   "outputs": [],
   "source": [
    "# try to draw a graph where I will plot only the differences between actual and predicted value.\n",
    "# %matplotlib qt\n",
    "\n",
    "difference_of_value = predicted_output - test_output\n",
    "print(type(difference_of_value))\n",
    "\n",
    "plt.plot(difference_of_value[0:60])\n",
    "plt.title('observation of the difference of actual and predicted value')\n",
    "\n",
    "# plt.rcParams['xtick.labelsize']=2\n",
    "# plt.rcParams['ytick.labelsize']=2\n",
    "# plt.tick_params(labelsize=20)\n",
    "plt.ylabel('difference of value')\n",
    "plt.xlabel('range')\n",
    "plt.grid(b=None, which='both', axis='both')\n",
    "# plt.savefig('difference_of_actual_and_predicted_value.png')\n",
    "plt.show()"
   ]
  },
  {
   "cell_type": "code",
   "execution_count": null,
   "metadata": {
    "scrolled": false
   },
   "outputs": [],
   "source": [
    "plt.hist(difference_of_value, bins=15)\n",
    "# plt.xlim(-10,10,1)\n",
    "plt.show()"
   ]
  },
  {
   "cell_type": "code",
   "execution_count": null,
   "metadata": {
    "scrolled": true
   },
   "outputs": [],
   "source": [
    "print(test_output.shape)\n",
    "print(predicted_output.shape)\n",
    "\n",
    "test_output_mean = np.mean(test_output)\n",
    "print(test_output_mean)\n",
    "\n",
    "length_predicted_output = len(predicted_output)\n",
    "print(length_predicted_output)\n",
    "\n",
    "m = 0\n",
    "\n",
    "for i in predicted_output:\n",
    "    n = i - test_output_mean\n",
    "    n = n**2\n",
    "    m = n+m\n",
    "variance_pred_wrt_test = m / length_predicted_output\n",
    "\n",
    "\n",
    "std_pred_wrt_test = math.sqrt(variance_pred_wrt_test)\n",
    "\n",
    "print(std_pred_wrt_test)"
   ]
  },
  {
   "cell_type": "code",
   "execution_count": null,
   "metadata": {
    "scrolled": false
   },
   "outputs": [],
   "source": [
    "low = 0\n",
    "high = len(predicted_output)\n",
    "\n",
    "print('min :', min(test_output[low:high]),' and max: ',max(test_output[low:high]))\n",
    "print('min :', min(predicted_output[low:high]),' and max: ',max(predicted_output[low:high]))\n",
    "\n",
    "plt.plot(test_output[low:high], predicted_output[low:high], 'bo')\n",
    "# plt.plot(predicted_output[low:high],test_output[low:high], 'bo')\n",
    "\n",
    "plt.xticks(np.arange(min(test_output[low:high]),max(test_output[low:high])+1,1))\n",
    "plt.yticks(np.arange(min(predicted_output[low:high]),max(predicted_output[low:high])+1,1))\n",
    "\n",
    "plt.xlim(min(test_output[low:high]-1), max(test_output[low:high])+1)\n",
    "plt.ylim(min(predicted_output[low:high]-1), max(predicted_output[low:high])+1)\n",
    "\n",
    "plt.ylabel('prdicted value')\n",
    "plt.xlabel('actual value')\n",
    "\n",
    "plt.grid(b=None, which='both', axis='both')\n",
    "plt.title('actual vs predicted graph')\n",
    "\n",
    "plt.show()"
   ]
  },
  {
   "cell_type": "code",
   "execution_count": null,
   "metadata": {},
   "outputs": [],
   "source": [
    "# graph actual vs error\n",
    "\n",
    "low_1 = 0\n",
    "high_1 = len(test_output)\n",
    "\n",
    "plt.plot(test_output[low:high], difference_of_value[low:high], 'bo')"
   ]
  },
  {
   "cell_type": "code",
   "execution_count": null,
   "metadata": {},
   "outputs": [],
   "source": [
    "plt.scatter(range(0, len(test_output)),test_output)\n",
    "plt.show()\n",
    "plt.scatter(range(0, len(predicted_output)),predicted_output)\n",
    "plt.show()"
   ]
  },
  {
   "cell_type": "code",
   "execution_count": null,
   "metadata": {
    "scrolled": false
   },
   "outputs": [],
   "source": [
    "low = 100\n",
    "high = 500\n",
    "\n",
    "print('min :', min(test_output[low:high]),' and max: ',max(test_output[low:high]))\n",
    "# print('min :', min(predicted_output[low:high]),' and max: ',max(predicted_output[low:high]))\n",
    "plt.plot(test_output[low:high], 'bo')\n",
    "# plt.xticks(np.arange(low, high+1,1))\n",
    "plt.yticks(np.arange(min(test_output[low:high]),max(test_output[low:high])+1,1))\n",
    "\n",
    "# plt.xlim(min(low, high+1))\n",
    "plt.ylim(min(test_output[low:high]-1), max(test_output[low:high])+1)\n",
    "\n",
    "plt.ylabel('prdicted value')\n",
    "plt.xlabel('actual value')\n",
    "plt.grid(b=None, which='both', axis='both')\n",
    "plt.title('actual value graph')\n",
    "\n",
    "plt.show()"
   ]
  },
  {
   "cell_type": "code",
   "execution_count": null,
   "metadata": {},
   "outputs": [],
   "source": [
    "low = 0\n",
    "high = 500\n",
    "\n",
    "print('min :', min(predicted_output[low:high]),' and max: ',max(predicted_output[low:high]))\n",
    "# print('min :', min(predicted_output[low:high]),' and max: ',max(predicted_output[low:high]))\n",
    "plt.plot(predicted_output[low:high], 'bo')\n",
    "# plt.xticks(np.arange(low, high+1,1))\n",
    "plt.yticks(np.arange(min(predicted_output[low:high]),max(predicted_output[low:high])+1,1))\n",
    "\n",
    "# plt.xlim(min(low, high+1))\n",
    "plt.ylim(min(predicted_output[low:high]-1), max(predicted_output[low:high])+1)\n",
    "\n",
    "plt.ylabel('prdicted value')\n",
    "plt.xlabel('actual value')\n",
    "plt.grid(b=None, which='both', axis='both')\n",
    "plt.title('predicted value graph')\n",
    "\n",
    "plt.show()"
   ]
  },
  {
   "cell_type": "code",
   "execution_count": null,
   "metadata": {},
   "outputs": [],
   "source": []
  },
  {
   "cell_type": "code",
   "execution_count": null,
   "metadata": {},
   "outputs": [],
   "source": [
    "from sklearn import linear_model\n",
    "from sklearn.metrics import mean_squared_error, r2_score, mean_absolute_error\n",
    "import math\n",
    "print('Slope:' ,train_model.coef_)\n",
    "print('Intercept:', train_model.intercept_)\n",
    "print('r_2 statistic: %.2f' % r2_score(test_output,predicted_output))\n",
    "print(\"Mean_absolute_error: %.2f\" % mean_absolute_error(test_output,predicted_output))\n",
    "print(\"Mean squared error: %.2f\" % mean_squared_error(test_output,predicted_output))\n",
    "RMSE=math.sqrt(mean_squared_error(test_output,predicted_output))\n",
    "print('RMSE: ',RMSE)"
   ]
  },
  {
   "cell_type": "code",
   "execution_count": null,
   "metadata": {
    "scrolled": false
   },
   "outputs": [],
   "source": [
    "plt.plot(predicted_output)\n",
    "plt.plot(test_output)\n",
    "plt.show()"
   ]
  },
  {
   "cell_type": "markdown",
   "metadata": {},
   "source": [
    "# polynomial regression"
   ]
  },
  {
   "cell_type": "code",
   "execution_count": null,
   "metadata": {},
   "outputs": [],
   "source": [
    "from sklearn.preprocessing import PolynomialFeatures\n",
    "# from sklearn.linear_model import LinearRegression\n",
    "from sklearn.pipeline import Pipeline"
   ]
  },
  {
   "cell_type": "code",
   "execution_count": null,
   "metadata": {},
   "outputs": [],
   "source": [
    "model = Pipeline([('poly', PolynomialFeatures(degree=3)), ('linear', LinearRegression(fit_intercept=False))])"
   ]
  },
  {
   "cell_type": "code",
   "execution_count": null,
   "metadata": {},
   "outputs": [],
   "source": [
    "model = model.fit(train_input, train_output)"
   ]
  },
  {
   "cell_type": "code",
   "execution_count": null,
   "metadata": {},
   "outputs": [],
   "source": [
    "predicted_output_polynomial = model.predict(test_input)"
   ]
  },
  {
   "cell_type": "code",
   "execution_count": null,
   "metadata": {},
   "outputs": [],
   "source": [
    "%matplotlib qt\n",
    "\n",
    "actual_data = range(65)\n",
    "\n",
    "\n",
    "plt.plot(predicted_output_polynomial[:60],color='blue',marker='s', linestyle=':')\n",
    "plt.plot(actual_data[5:], test_output[:60],color='red',marker='^', linestyle='-.')\n",
    "# plt.plot(yhat[51:99],color='black',marker='s', linestyle=':')\n",
    "plt.title('deviation between predicted and target value')\n",
    "plt.ylabel('value')\n",
    "plt.xlabel('interval of minutes')\n",
    "plt.legend(['predicted output','actual_output'], loc='upper left')\n",
    "plt.grid(b=None, which='both', axis='both')\n",
    "plt.xticks(np.arange(0,65,5))\n",
    "plt.xticks( rotation=25)\n",
    "plt.rcParams['figure.figsize'] =(20,10)\n",
    "plt.show()"
   ]
  },
  {
   "cell_type": "code",
   "execution_count": null,
   "metadata": {},
   "outputs": [],
   "source": [
    "print('r_2 statistic: %.2f' % r2_score(test_output,predicted_output_polynomial))\n",
    "print(\"Mean_absolute_error: %.2f\" % mean_absolute_error(test_output,predicted_output_polynomial))\n",
    "print(\"Mean squared error: %.2f\" % mean_squared_error(test_output,predicted_output_polynomial))\n",
    "RMSE=math.sqrt(mean_squared_error(test_output,predicted_output_polynomial))\n",
    "print('RMSE: ',RMSE)"
   ]
  },
  {
   "cell_type": "code",
   "execution_count": null,
   "metadata": {},
   "outputs": [],
   "source": []
  },
  {
   "cell_type": "code",
   "execution_count": null,
   "metadata": {},
   "outputs": [],
   "source": []
  },
  {
   "cell_type": "code",
   "execution_count": null,
   "metadata": {},
   "outputs": [],
   "source": [
    "val = []\n",
    "val = np.array(val)\n",
    "for i in range (0,len(test_output)):\n",
    "    val_1 = predicted_output[i] - test_output[i]\n",
    "#     print(val)\n",
    "    val = np.append(val, val_1)\n",
    "    i+=1"
   ]
  },
  {
   "cell_type": "code",
   "execution_count": null,
   "metadata": {},
   "outputs": [],
   "source": [
    "val.shape"
   ]
  },
  {
   "cell_type": "code",
   "execution_count": null,
   "metadata": {},
   "outputs": [],
   "source": [
    "plt.plot(val)\n",
    "plt.show()"
   ]
  },
  {
   "cell_type": "code",
   "execution_count": null,
   "metadata": {},
   "outputs": [],
   "source": [
    "# plt.plot(difference_of_value)\n",
    "# plt.show()"
   ]
  },
  {
   "cell_type": "code",
   "execution_count": null,
   "metadata": {},
   "outputs": [],
   "source": [
    "# new_val = difference_of_value - val"
   ]
  },
  {
   "cell_type": "code",
   "execution_count": null,
   "metadata": {},
   "outputs": [],
   "source": [
    "# new_val.shape"
   ]
  },
  {
   "cell_type": "code",
   "execution_count": null,
   "metadata": {},
   "outputs": [],
   "source": [
    "# plt.plot(new_val)\n",
    "# plt.show()"
   ]
  },
  {
   "cell_type": "code",
   "execution_count": null,
   "metadata": {},
   "outputs": [],
   "source": [
    "from sklearn import linear_model\n",
    "x = [1,2,3,4,5]\n",
    "x=np.array(x)\n",
    "y = [2,4,5,4,5]\n",
    "y=np.array(y)\n",
    "\n",
    "\n",
    "x_1 = np.reshape(x, (-1, 1))\n",
    "y_1 = np.reshape(y, (-1, 1))"
   ]
  },
  {
   "cell_type": "code",
   "execution_count": null,
   "metadata": {},
   "outputs": [],
   "source": [
    "y_1"
   ]
  },
  {
   "cell_type": "code",
   "execution_count": null,
   "metadata": {},
   "outputs": [],
   "source": [
    "# my_reg = linear_model.LinearRegression(fit_intercept=True, normalize=False)\n",
    "my_reg = LinearRegression(fit_intercept=True, normalize=False)\n",
    "\n",
    "my_reg.fit(x_1,y_1)"
   ]
  },
  {
   "cell_type": "code",
   "execution_count": null,
   "metadata": {},
   "outputs": [],
   "source": [
    "my_reg"
   ]
  },
  {
   "cell_type": "code",
   "execution_count": null,
   "metadata": {},
   "outputs": [],
   "source": [
    "print('Slope:' ,my_reg.coef_)\n",
    "print('Intercept:', my_reg.intercept_)"
   ]
  },
  {
   "cell_type": "code",
   "execution_count": null,
   "metadata": {},
   "outputs": [],
   "source": [
    "pred_y = my_reg.predict(x_1)"
   ]
  },
  {
   "cell_type": "code",
   "execution_count": null,
   "metadata": {},
   "outputs": [],
   "source": [
    "plt.scatter(x_1, y_1)\n",
    "plt.plot(x_1,pred_y, color='red')\n",
    "plt.show()"
   ]
  },
  {
   "cell_type": "code",
   "execution_count": null,
   "metadata": {
    "scrolled": true
   },
   "outputs": [],
   "source": [
    "clf = linear_model.SGDRegressor(max_iter=1000, tol=1e-3)"
   ]
  },
  {
   "cell_type": "code",
   "execution_count": null,
   "metadata": {},
   "outputs": [],
   "source": [
    "# clf.fit(train_input, train_output)\n",
    "clf.fit(x_1, y_1)"
   ]
  },
  {
   "cell_type": "code",
   "execution_count": null,
   "metadata": {},
   "outputs": [],
   "source": [
    "print('Slope:' ,clf.coef_)\n",
    "print('Intercept:', clf.intercept_)"
   ]
  },
  {
   "cell_type": "code",
   "execution_count": null,
   "metadata": {},
   "outputs": [],
   "source": [
    "pred_y_SGD = clf.predict(test_input)"
   ]
  },
  {
   "cell_type": "code",
   "execution_count": null,
   "metadata": {
    "scrolled": false
   },
   "outputs": [],
   "source": [
    "plt.plot(test_output, color = 'black')\n",
    "plt.plot(pred_y_SGD, color='red')\n",
    "plt.show()"
   ]
  },
  {
   "cell_type": "code",
   "execution_count": null,
   "metadata": {},
   "outputs": [],
   "source": [
    "pred_y_SGD_reshape = np.reshape(pred_y_SGD, (-1, 1))\n",
    "test_output_reshape = np.reshape(test_output, (-1, 1))\n",
    "print(pred_y_SGD_reshape.shape)\n",
    "print(test_output_reshape.shape)\n",
    "print(test_input.shape)"
   ]
  },
  {
   "cell_type": "code",
   "execution_count": null,
   "metadata": {},
   "outputs": [],
   "source": [
    "clf.score(test_output_reshape, pred_y_SGD_reshape)"
   ]
  },
  {
   "cell_type": "code",
   "execution_count": null,
   "metadata": {},
   "outputs": [],
   "source": [
    "test_input"
   ]
  },
  {
   "cell_type": "code",
   "execution_count": null,
   "metadata": {},
   "outputs": [],
   "source": []
  }
 ],
 "metadata": {
  "kernelspec": {
   "display_name": "Python 3",
   "language": "python",
   "name": "python3"
  },
  "language_info": {
   "codemirror_mode": {
    "name": "ipython",
    "version": 3
   },
   "file_extension": ".py",
   "mimetype": "text/x-python",
   "name": "python",
   "nbconvert_exporter": "python",
   "pygments_lexer": "ipython3",
   "version": "3.6.5"
  }
 },
 "nbformat": 4,
 "nbformat_minor": 2
}
