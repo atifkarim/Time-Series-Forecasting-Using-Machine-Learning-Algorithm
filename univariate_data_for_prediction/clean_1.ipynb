{
 "cells": [
  {
   "cell_type": "code",
   "execution_count": 1,
   "metadata": {},
   "outputs": [],
   "source": [
    "import numpy as np\n",
    "import matplotlib.pyplot as plt\n",
    "import pandas as pd\n",
    "import math\n",
    "import time\n",
    "import datetime\n",
    "from numpy import nan\n",
    "from sklearn.datasets import load_iris\n",
    "from sklearn.feature_selection import SelectKBest\n",
    "from sklearn.feature_selection import chi2\n",
    "import collections\n",
    "\n",
    "%matplotlib inline\n",
    "from matplotlib.pylab import rcParams"
   ]
  },
  {
   "cell_type": "markdown",
   "metadata": {},
   "source": [
    "# function to read the csv file"
   ]
  },
  {
   "cell_type": "code",
   "execution_count": 2,
   "metadata": {},
   "outputs": [],
   "source": [
    "def create_dataframe(filepath):\n",
    "    test = pd.read_csv(filepath) # here the given csv file is reading\n",
    "    return test\n",
    "filepath = '/home/atif/dataset_26_april_3.csv'\n",
    "# filepath = 'E:/University of Bremen MSc/masters_thesis/IAT_sebastian/dataset_26_april_3.csv'\n",
    "initial_dataframe = create_dataframe(filepath)"
   ]
  },
  {
   "cell_type": "markdown",
   "metadata": {},
   "source": [
    "# In this cell dateTime column will be made but will not set it up as index column"
   ]
  },
  {
   "cell_type": "code",
   "execution_count": 3,
   "metadata": {},
   "outputs": [
    {
     "name": "stderr",
     "output_type": "stream",
     "text": [
      "/home/atif/iai_ml_venv/lib/python3.6/site-packages/ipykernel_launcher.py:8: FutureWarning: Method .as_matrix will be removed in a future version. Use .values instead.\n",
      "  \n"
     ]
    }
   ],
   "source": [
    "# function for converting timestamp to unixtime and return the ready dataframe\n",
    "\n",
    "def conversion_timestamp_to_unixtime(initial_dataframe):\n",
    "    ''' now conversion of timestamp to unixtime will start. In the csv file the column name of\n",
    "    timestamp is longtime.'''\n",
    "    \n",
    "    longTime = initial_dataframe.loc[0:,['longTime']]\n",
    "    longTime = longTime.as_matrix()\n",
    "    a = []\n",
    "    date_time_array = []\n",
    "    for k in longTime:\n",
    "        a = np.append(a,k)\n",
    "    str_time = []\n",
    "    correct_longtime = []\n",
    "    datetime_time = []\n",
    "    count = 0\n",
    "    \n",
    "    for b in a:\n",
    "        b = int(b) # make plain integer\n",
    "        str_b = str(b)\n",
    "        c = str_b[-3:]\n",
    "        new_str_b = str_b.replace(c, '',1)\n",
    "        new_str_b_time = int(new_str_b)\n",
    "        correct_longtime.append(new_str_b_time)\n",
    "        now_time = datetime.datetime.fromtimestamp(new_str_b_time)\n",
    "        convert_time = now_time.strftime('%Y-%m-%d %H:%M')\n",
    "        str_time.append(convert_time)\n",
    "    test_new = initial_dataframe.assign(stringTime=str_time,correct_longtime=correct_longtime) # here new column in the panda dataframe for string_time has added\n",
    "    test_new['dateTime'] =  pd.to_datetime(test_new['stringTime'], format='%Y-%m-%d %H:%M')\n",
    "    test_new = test_new.drop(['longTime','stringTime','correct_longtime'], axis=1)\n",
    "    \n",
    "    return test_new\n",
    "\n",
    "test_new = conversion_timestamp_to_unixtime(initial_dataframe)"
   ]
  },
  {
   "cell_type": "code",
   "execution_count": 4,
   "metadata": {},
   "outputs": [
    {
     "data": {
      "text/html": [
       "<div>\n",
       "<style scoped>\n",
       "    .dataframe tbody tr th:only-of-type {\n",
       "        vertical-align: middle;\n",
       "    }\n",
       "\n",
       "    .dataframe tbody tr th {\n",
       "        vertical-align: top;\n",
       "    }\n",
       "\n",
       "    .dataframe thead th {\n",
       "        text-align: right;\n",
       "    }\n",
       "</style>\n",
       "<table border=\"1\" class=\"dataframe\">\n",
       "  <thead>\n",
       "    <tr style=\"text-align: right;\">\n",
       "      <th></th>\n",
       "      <th>row ID</th>\n",
       "      <th>AEAGHOAWE2T1</th>\n",
       "      <th>AEAGHOAWE2A0</th>\n",
       "      <th>AEAGHOAWE2T0</th>\n",
       "      <th>AEAGHOAWE1A0</th>\n",
       "      <th>AEAGHOAWE1T1</th>\n",
       "      <th>AEAGHOAWE1T0</th>\n",
       "      <th>AEAGHOAWE3T0</th>\n",
       "      <th>AEAGHOAWE3A0</th>\n",
       "      <th>AEAGHOAWE3T1</th>\n",
       "      <th>...</th>\n",
       "      <th>RWWIHOT7_RV0</th>\n",
       "      <th>RWWIHOT8_RV0</th>\n",
       "      <th>RWWIHOT9_RV0</th>\n",
       "      <th>RWWIHOT10RV0</th>\n",
       "      <th>RWWIHOTSURV0</th>\n",
       "      <th>RWWIHOTSUMV0</th>\n",
       "      <th>RWWIHO_VERV0</th>\n",
       "      <th>RWWIHO_UESV0</th>\n",
       "      <th>RWWIHOSUMAV0</th>\n",
       "      <th>dateTime</th>\n",
       "    </tr>\n",
       "  </thead>\n",
       "  <tbody>\n",
       "    <tr>\n",
       "      <th>0</th>\n",
       "      <td>Row0</td>\n",
       "      <td>74.451979</td>\n",
       "      <td>19.111606</td>\n",
       "      <td>98.371549</td>\n",
       "      <td>18.819155</td>\n",
       "      <td>93.337524</td>\n",
       "      <td>69.969526</td>\n",
       "      <td>95.445534</td>\n",
       "      <td>7.802471</td>\n",
       "      <td>57.766387</td>\n",
       "      <td>...</td>\n",
       "      <td>92.632593</td>\n",
       "      <td>44.620461</td>\n",
       "      <td>22.338103</td>\n",
       "      <td>75.685755</td>\n",
       "      <td>73.945394</td>\n",
       "      <td>0.000000</td>\n",
       "      <td>0.000000</td>\n",
       "      <td>0.000000</td>\n",
       "      <td>0.000000</td>\n",
       "      <td>2019-04-15 08:52:00</td>\n",
       "    </tr>\n",
       "    <tr>\n",
       "      <th>1</th>\n",
       "      <td>Row1</td>\n",
       "      <td>73.933103</td>\n",
       "      <td>18.088026</td>\n",
       "      <td>98.186038</td>\n",
       "      <td>18.943335</td>\n",
       "      <td>92.869960</td>\n",
       "      <td>69.969526</td>\n",
       "      <td>95.445534</td>\n",
       "      <td>12.856953</td>\n",
       "      <td>58.231774</td>\n",
       "      <td>...</td>\n",
       "      <td>82.082055</td>\n",
       "      <td>53.182296</td>\n",
       "      <td>26.967692</td>\n",
       "      <td>75.685755</td>\n",
       "      <td>66.649583</td>\n",
       "      <td>56.385432</td>\n",
       "      <td>68.734584</td>\n",
       "      <td>9.127668</td>\n",
       "      <td>2.275890</td>\n",
       "      <td>2019-04-15 08:51:00</td>\n",
       "    </tr>\n",
       "    <tr>\n",
       "      <th>2</th>\n",
       "      <td>Row2</td>\n",
       "      <td>73.471742</td>\n",
       "      <td>25.843589</td>\n",
       "      <td>98.371549</td>\n",
       "      <td>33.166077</td>\n",
       "      <td>92.343799</td>\n",
       "      <td>69.969526</td>\n",
       "      <td>95.628479</td>\n",
       "      <td>21.591973</td>\n",
       "      <td>58.231774</td>\n",
       "      <td>...</td>\n",
       "      <td>82.098144</td>\n",
       "      <td>53.029243</td>\n",
       "      <td>26.851837</td>\n",
       "      <td>75.685755</td>\n",
       "      <td>66.587330</td>\n",
       "      <td>56.402658</td>\n",
       "      <td>68.853203</td>\n",
       "      <td>9.136596</td>\n",
       "      <td>2.275735</td>\n",
       "      <td>2019-04-15 08:50:00</td>\n",
       "    </tr>\n",
       "    <tr>\n",
       "      <th>3</th>\n",
       "      <td>Row3</td>\n",
       "      <td>73.010381</td>\n",
       "      <td>27.772137</td>\n",
       "      <td>98.371549</td>\n",
       "      <td>35.991205</td>\n",
       "      <td>91.876236</td>\n",
       "      <td>69.850105</td>\n",
       "      <td>95.607810</td>\n",
       "      <td>19.492370</td>\n",
       "      <td>58.231774</td>\n",
       "      <td>...</td>\n",
       "      <td>82.074011</td>\n",
       "      <td>53.015226</td>\n",
       "      <td>26.266369</td>\n",
       "      <td>75.685755</td>\n",
       "      <td>66.373907</td>\n",
       "      <td>56.527297</td>\n",
       "      <td>69.391059</td>\n",
       "      <td>9.138625</td>\n",
       "      <td>2.281882</td>\n",
       "      <td>2019-04-15 08:49:00</td>\n",
       "    </tr>\n",
       "    <tr>\n",
       "      <th>4</th>\n",
       "      <td>Row4</td>\n",
       "      <td>72.549020</td>\n",
       "      <td>18.402556</td>\n",
       "      <td>98.186038</td>\n",
       "      <td>19.591687</td>\n",
       "      <td>91.408672</td>\n",
       "      <td>69.969526</td>\n",
       "      <td>95.607810</td>\n",
       "      <td>8.014898</td>\n",
       "      <td>58.697162</td>\n",
       "      <td>...</td>\n",
       "      <td>82.078296</td>\n",
       "      <td>53.172932</td>\n",
       "      <td>26.605640</td>\n",
       "      <td>75.685755</td>\n",
       "      <td>66.529224</td>\n",
       "      <td>56.640964</td>\n",
       "      <td>69.299560</td>\n",
       "      <td>9.121256</td>\n",
       "      <td>2.269317</td>\n",
       "      <td>2019-04-15 08:48:00</td>\n",
       "    </tr>\n",
       "  </tbody>\n",
       "</table>\n",
       "<p>5 rows × 4220 columns</p>\n",
       "</div>"
      ],
      "text/plain": [
       "  row ID  AEAGHOAWE2T1  AEAGHOAWE2A0  AEAGHOAWE2T0  AEAGHOAWE1A0  \\\n",
       "0   Row0     74.451979     19.111606     98.371549     18.819155   \n",
       "1   Row1     73.933103     18.088026     98.186038     18.943335   \n",
       "2   Row2     73.471742     25.843589     98.371549     33.166077   \n",
       "3   Row3     73.010381     27.772137     98.371549     35.991205   \n",
       "4   Row4     72.549020     18.402556     98.186038     19.591687   \n",
       "\n",
       "   AEAGHOAWE1T1  AEAGHOAWE1T0  AEAGHOAWE3T0  AEAGHOAWE3A0  AEAGHOAWE3T1  ...  \\\n",
       "0     93.337524     69.969526     95.445534      7.802471     57.766387  ...   \n",
       "1     92.869960     69.969526     95.445534     12.856953     58.231774  ...   \n",
       "2     92.343799     69.969526     95.628479     21.591973     58.231774  ...   \n",
       "3     91.876236     69.850105     95.607810     19.492370     58.231774  ...   \n",
       "4     91.408672     69.969526     95.607810      8.014898     58.697162  ...   \n",
       "\n",
       "   RWWIHOT7_RV0  RWWIHOT8_RV0  RWWIHOT9_RV0  RWWIHOT10RV0  RWWIHOTSURV0  \\\n",
       "0     92.632593     44.620461     22.338103     75.685755     73.945394   \n",
       "1     82.082055     53.182296     26.967692     75.685755     66.649583   \n",
       "2     82.098144     53.029243     26.851837     75.685755     66.587330   \n",
       "3     82.074011     53.015226     26.266369     75.685755     66.373907   \n",
       "4     82.078296     53.172932     26.605640     75.685755     66.529224   \n",
       "\n",
       "   RWWIHOTSUMV0  RWWIHO_VERV0  RWWIHO_UESV0  RWWIHOSUMAV0            dateTime  \n",
       "0      0.000000      0.000000      0.000000      0.000000 2019-04-15 08:52:00  \n",
       "1     56.385432     68.734584      9.127668      2.275890 2019-04-15 08:51:00  \n",
       "2     56.402658     68.853203      9.136596      2.275735 2019-04-15 08:50:00  \n",
       "3     56.527297     69.391059      9.138625      2.281882 2019-04-15 08:49:00  \n",
       "4     56.640964     69.299560      9.121256      2.269317 2019-04-15 08:48:00  \n",
       "\n",
       "[5 rows x 4220 columns]"
      ]
     },
     "execution_count": 4,
     "metadata": {},
     "output_type": "execute_result"
    }
   ],
   "source": [
    "test_new.head()"
   ]
  },
  {
   "cell_type": "markdown",
   "metadata": {},
   "source": [
    "# look here in the previous cell if test.head() is printed then 'row ID' column will be appeared which is problematic. so, remove it."
   ]
  },
  {
   "cell_type": "code",
   "execution_count": 5,
   "metadata": {},
   "outputs": [],
   "source": [
    "test_new_1 = test_new.drop(['row ID'], axis = 1)"
   ]
  },
  {
   "cell_type": "code",
   "execution_count": 6,
   "metadata": {},
   "outputs": [
    {
     "data": {
      "text/html": [
       "<div>\n",
       "<style scoped>\n",
       "    .dataframe tbody tr th:only-of-type {\n",
       "        vertical-align: middle;\n",
       "    }\n",
       "\n",
       "    .dataframe tbody tr th {\n",
       "        vertical-align: top;\n",
       "    }\n",
       "\n",
       "    .dataframe thead th {\n",
       "        text-align: right;\n",
       "    }\n",
       "</style>\n",
       "<table border=\"1\" class=\"dataframe\">\n",
       "  <thead>\n",
       "    <tr style=\"text-align: right;\">\n",
       "      <th></th>\n",
       "      <th>AEAGHOAWE2T1</th>\n",
       "      <th>AEAGHOAWE2A0</th>\n",
       "      <th>AEAGHOAWE2T0</th>\n",
       "      <th>AEAGHOAWE1A0</th>\n",
       "      <th>AEAGHOAWE1T1</th>\n",
       "      <th>AEAGHOAWE1T0</th>\n",
       "      <th>AEAGHOAWE3T0</th>\n",
       "      <th>AEAGHOAWE3A0</th>\n",
       "      <th>AEAGHOAWE3T1</th>\n",
       "      <th>AEAGHOAWE_A2</th>\n",
       "      <th>...</th>\n",
       "      <th>RWWIHOT7_RV0</th>\n",
       "      <th>RWWIHOT8_RV0</th>\n",
       "      <th>RWWIHOT9_RV0</th>\n",
       "      <th>RWWIHOT10RV0</th>\n",
       "      <th>RWWIHOTSURV0</th>\n",
       "      <th>RWWIHOTSUMV0</th>\n",
       "      <th>RWWIHO_VERV0</th>\n",
       "      <th>RWWIHO_UESV0</th>\n",
       "      <th>RWWIHOSUMAV0</th>\n",
       "      <th>dateTime</th>\n",
       "    </tr>\n",
       "  </thead>\n",
       "  <tbody>\n",
       "    <tr>\n",
       "      <th>0</th>\n",
       "      <td>74.451979</td>\n",
       "      <td>19.111606</td>\n",
       "      <td>98.371549</td>\n",
       "      <td>18.819155</td>\n",
       "      <td>93.337524</td>\n",
       "      <td>69.969526</td>\n",
       "      <td>95.445534</td>\n",
       "      <td>7.802471</td>\n",
       "      <td>57.766387</td>\n",
       "      <td>99.791538</td>\n",
       "      <td>...</td>\n",
       "      <td>92.632593</td>\n",
       "      <td>44.620461</td>\n",
       "      <td>22.338103</td>\n",
       "      <td>75.685755</td>\n",
       "      <td>73.945394</td>\n",
       "      <td>0.000000</td>\n",
       "      <td>0.000000</td>\n",
       "      <td>0.000000</td>\n",
       "      <td>0.000000</td>\n",
       "      <td>2019-04-15 08:52:00</td>\n",
       "    </tr>\n",
       "    <tr>\n",
       "      <th>1</th>\n",
       "      <td>73.933103</td>\n",
       "      <td>18.088026</td>\n",
       "      <td>98.186038</td>\n",
       "      <td>18.943335</td>\n",
       "      <td>92.869960</td>\n",
       "      <td>69.969526</td>\n",
       "      <td>95.445534</td>\n",
       "      <td>12.856953</td>\n",
       "      <td>58.231774</td>\n",
       "      <td>99.791538</td>\n",
       "      <td>...</td>\n",
       "      <td>82.082055</td>\n",
       "      <td>53.182296</td>\n",
       "      <td>26.967692</td>\n",
       "      <td>75.685755</td>\n",
       "      <td>66.649583</td>\n",
       "      <td>56.385432</td>\n",
       "      <td>68.734584</td>\n",
       "      <td>9.127668</td>\n",
       "      <td>2.275890</td>\n",
       "      <td>2019-04-15 08:51:00</td>\n",
       "    </tr>\n",
       "    <tr>\n",
       "      <th>2</th>\n",
       "      <td>73.471742</td>\n",
       "      <td>25.843589</td>\n",
       "      <td>98.371549</td>\n",
       "      <td>33.166077</td>\n",
       "      <td>92.343799</td>\n",
       "      <td>69.969526</td>\n",
       "      <td>95.628479</td>\n",
       "      <td>21.591973</td>\n",
       "      <td>58.231774</td>\n",
       "      <td>79.907849</td>\n",
       "      <td>...</td>\n",
       "      <td>82.098144</td>\n",
       "      <td>53.029243</td>\n",
       "      <td>26.851837</td>\n",
       "      <td>75.685755</td>\n",
       "      <td>66.587330</td>\n",
       "      <td>56.402658</td>\n",
       "      <td>68.853203</td>\n",
       "      <td>9.136596</td>\n",
       "      <td>2.275735</td>\n",
       "      <td>2019-04-15 08:50:00</td>\n",
       "    </tr>\n",
       "    <tr>\n",
       "      <th>3</th>\n",
       "      <td>73.010381</td>\n",
       "      <td>27.772137</td>\n",
       "      <td>98.371549</td>\n",
       "      <td>35.991205</td>\n",
       "      <td>91.876236</td>\n",
       "      <td>69.850105</td>\n",
       "      <td>95.607810</td>\n",
       "      <td>19.492370</td>\n",
       "      <td>58.231774</td>\n",
       "      <td>94.169116</td>\n",
       "      <td>...</td>\n",
       "      <td>82.074011</td>\n",
       "      <td>53.015226</td>\n",
       "      <td>26.266369</td>\n",
       "      <td>75.685755</td>\n",
       "      <td>66.373907</td>\n",
       "      <td>56.527297</td>\n",
       "      <td>69.391059</td>\n",
       "      <td>9.138625</td>\n",
       "      <td>2.281882</td>\n",
       "      <td>2019-04-15 08:49:00</td>\n",
       "    </tr>\n",
       "    <tr>\n",
       "      <th>4</th>\n",
       "      <td>72.549020</td>\n",
       "      <td>18.402556</td>\n",
       "      <td>98.186038</td>\n",
       "      <td>19.591687</td>\n",
       "      <td>91.408672</td>\n",
       "      <td>69.969526</td>\n",
       "      <td>95.607810</td>\n",
       "      <td>8.014898</td>\n",
       "      <td>58.697162</td>\n",
       "      <td>100.000000</td>\n",
       "      <td>...</td>\n",
       "      <td>82.078296</td>\n",
       "      <td>53.172932</td>\n",
       "      <td>26.605640</td>\n",
       "      <td>75.685755</td>\n",
       "      <td>66.529224</td>\n",
       "      <td>56.640964</td>\n",
       "      <td>69.299560</td>\n",
       "      <td>9.121256</td>\n",
       "      <td>2.269317</td>\n",
       "      <td>2019-04-15 08:48:00</td>\n",
       "    </tr>\n",
       "  </tbody>\n",
       "</table>\n",
       "<p>5 rows × 4219 columns</p>\n",
       "</div>"
      ],
      "text/plain": [
       "   AEAGHOAWE2T1  AEAGHOAWE2A0  AEAGHOAWE2T0  AEAGHOAWE1A0  AEAGHOAWE1T1  \\\n",
       "0     74.451979     19.111606     98.371549     18.819155     93.337524   \n",
       "1     73.933103     18.088026     98.186038     18.943335     92.869960   \n",
       "2     73.471742     25.843589     98.371549     33.166077     92.343799   \n",
       "3     73.010381     27.772137     98.371549     35.991205     91.876236   \n",
       "4     72.549020     18.402556     98.186038     19.591687     91.408672   \n",
       "\n",
       "   AEAGHOAWE1T0  AEAGHOAWE3T0  AEAGHOAWE3A0  AEAGHOAWE3T1  AEAGHOAWE_A2  ...  \\\n",
       "0     69.969526     95.445534      7.802471     57.766387     99.791538  ...   \n",
       "1     69.969526     95.445534     12.856953     58.231774     99.791538  ...   \n",
       "2     69.969526     95.628479     21.591973     58.231774     79.907849  ...   \n",
       "3     69.850105     95.607810     19.492370     58.231774     94.169116  ...   \n",
       "4     69.969526     95.607810      8.014898     58.697162    100.000000  ...   \n",
       "\n",
       "   RWWIHOT7_RV0  RWWIHOT8_RV0  RWWIHOT9_RV0  RWWIHOT10RV0  RWWIHOTSURV0  \\\n",
       "0     92.632593     44.620461     22.338103     75.685755     73.945394   \n",
       "1     82.082055     53.182296     26.967692     75.685755     66.649583   \n",
       "2     82.098144     53.029243     26.851837     75.685755     66.587330   \n",
       "3     82.074011     53.015226     26.266369     75.685755     66.373907   \n",
       "4     82.078296     53.172932     26.605640     75.685755     66.529224   \n",
       "\n",
       "   RWWIHOTSUMV0  RWWIHO_VERV0  RWWIHO_UESV0  RWWIHOSUMAV0            dateTime  \n",
       "0      0.000000      0.000000      0.000000      0.000000 2019-04-15 08:52:00  \n",
       "1     56.385432     68.734584      9.127668      2.275890 2019-04-15 08:51:00  \n",
       "2     56.402658     68.853203      9.136596      2.275735 2019-04-15 08:50:00  \n",
       "3     56.527297     69.391059      9.138625      2.281882 2019-04-15 08:49:00  \n",
       "4     56.640964     69.299560      9.121256      2.269317 2019-04-15 08:48:00  \n",
       "\n",
       "[5 rows x 4219 columns]"
      ]
     },
     "execution_count": 6,
     "metadata": {},
     "output_type": "execute_result"
    }
   ],
   "source": [
    "test_new_1.head()"
   ]
  },
  {
   "cell_type": "code",
   "execution_count": 7,
   "metadata": {},
   "outputs": [
    {
     "name": "stdout",
     "output_type": "stream",
     "text": [
      "(25000, 4220)\n",
      "(25000, 4219)\n"
     ]
    }
   ],
   "source": [
    "print(test_new.shape)\n",
    "print(test_new_1.shape)"
   ]
  },
  {
   "cell_type": "code",
   "execution_count": 8,
   "metadata": {},
   "outputs": [],
   "source": [
    "a = test_new.reset_index()\n",
    "b = test_new_1.reset_index()"
   ]
  },
  {
   "cell_type": "code",
   "execution_count": 9,
   "metadata": {},
   "outputs": [
    {
     "name": "stdout",
     "output_type": "stream",
     "text": [
      "(25000, 4221)\n",
      "(25000, 4220)\n"
     ]
    }
   ],
   "source": [
    "print(a.shape)\n",
    "print(b.shape)"
   ]
  },
  {
   "cell_type": "code",
   "execution_count": 10,
   "metadata": {},
   "outputs": [],
   "source": [
    "new_variable = []\n",
    "for i in test_new_1:\n",
    "    x = i[:2]\n",
    "    if x != 'RW':\n",
    "        new_variable = np.append(new_variable, i)"
   ]
  },
  {
   "cell_type": "code",
   "execution_count": 11,
   "metadata": {},
   "outputs": [
    {
     "data": {
      "text/plain": [
       "(3965,)"
      ]
     },
     "execution_count": 11,
     "metadata": {},
     "output_type": "execute_result"
    }
   ],
   "source": [
    "new_variable.shape"
   ]
  },
  {
   "cell_type": "code",
   "execution_count": 12,
   "metadata": {},
   "outputs": [
    {
     "data": {
      "text/plain": [
       "(25000, 3965)"
      ]
     },
     "execution_count": 12,
     "metadata": {},
     "output_type": "execute_result"
    }
   ],
   "source": [
    "n = test_new_1.iloc[:][new_variable]\n",
    "n.shape"
   ]
  },
  {
   "cell_type": "code",
   "execution_count": 13,
   "metadata": {},
   "outputs": [],
   "source": [
    "def remove_rw_column(dataframe):\n",
    "    new_variable = []\n",
    "    for i in dataframe:\n",
    "        x = i[:2]\n",
    "        if x != 'RW':\n",
    "            new_variable = np.append(new_variable, i)\n",
    "    return new_variable"
   ]
  },
  {
   "cell_type": "code",
   "execution_count": 14,
   "metadata": {},
   "outputs": [],
   "source": [
    "var_new = remove_rw_column(test_new_1)"
   ]
  },
  {
   "cell_type": "code",
   "execution_count": 15,
   "metadata": {},
   "outputs": [],
   "source": [
    "test_new_2 = test_new_1.iloc[:][var_new]"
   ]
  },
  {
   "cell_type": "markdown",
   "metadata": {},
   "source": [
    "# be careful here , when perform on a dataframe reset_index then a new column will appear and it is 'index'. No need of it so immediately drop it. for better view please take a look in the previous cell"
   ]
  },
  {
   "cell_type": "markdown",
   "metadata": {},
   "source": [
    "# Now it's time to alter the dataframe. This will oreder the dataframe in ascending prder with respect to dateTime"
   ]
  },
  {
   "cell_type": "code",
   "execution_count": 16,
   "metadata": {},
   "outputs": [
    {
     "data": {
      "text/html": [
       "<div>\n",
       "<style scoped>\n",
       "    .dataframe tbody tr th:only-of-type {\n",
       "        vertical-align: middle;\n",
       "    }\n",
       "\n",
       "    .dataframe tbody tr th {\n",
       "        vertical-align: top;\n",
       "    }\n",
       "\n",
       "    .dataframe thead th {\n",
       "        text-align: right;\n",
       "    }\n",
       "</style>\n",
       "<table border=\"1\" class=\"dataframe\">\n",
       "  <thead>\n",
       "    <tr style=\"text-align: right;\">\n",
       "      <th></th>\n",
       "      <th>AEAGHOAWE2T1</th>\n",
       "      <th>AEAGHOAWE2A0</th>\n",
       "      <th>AEAGHOAWE2T0</th>\n",
       "      <th>AEAGHOAWE1A0</th>\n",
       "      <th>AEAGHOAWE1T1</th>\n",
       "      <th>AEAGHOAWE1T0</th>\n",
       "      <th>AEAGHOAWE3T0</th>\n",
       "      <th>AEAGHOAWE3A0</th>\n",
       "      <th>AEAGHOAWE3T1</th>\n",
       "      <th>AEAGHOAWE_A2</th>\n",
       "      <th>...</th>\n",
       "      <th>AEWIHOCM__P0</th>\n",
       "      <th>AEWIHOC___P0</th>\n",
       "      <th>AEWIHOCKZ_V0</th>\n",
       "      <th>AEWIHOCK__V9</th>\n",
       "      <th>AEWIHOCWF_A2</th>\n",
       "      <th>AEWIHOC___T0</th>\n",
       "      <th>AEWIHOCWF_A1</th>\n",
       "      <th>AEWIHOAWF_V0</th>\n",
       "      <th>AEWIHOAKVSV0</th>\n",
       "      <th>dateTime</th>\n",
       "    </tr>\n",
       "  </thead>\n",
       "  <tbody>\n",
       "    <tr>\n",
       "      <th>24999</th>\n",
       "      <td>72.030143</td>\n",
       "      <td>21.542766</td>\n",
       "      <td>94.083085</td>\n",
       "      <td>22.656925</td>\n",
       "      <td>82.875638</td>\n",
       "      <td>67.650387</td>\n",
       "      <td>95.811415</td>\n",
       "      <td>11.299942</td>\n",
       "      <td>60.849423</td>\n",
       "      <td>100.000000</td>\n",
       "      <td>...</td>\n",
       "      <td>69.603678</td>\n",
       "      <td>69.804147</td>\n",
       "      <td>0.0</td>\n",
       "      <td>59.499933</td>\n",
       "      <td>63.256942</td>\n",
       "      <td>54.447036</td>\n",
       "      <td>9.526666</td>\n",
       "      <td>0.0</td>\n",
       "      <td>87.871569</td>\n",
       "      <td>2019-03-11 03:14:00</td>\n",
       "    </tr>\n",
       "    <tr>\n",
       "      <th>24998</th>\n",
       "      <td>72.491504</td>\n",
       "      <td>26.431470</td>\n",
       "      <td>94.083085</td>\n",
       "      <td>27.250685</td>\n",
       "      <td>82.875638</td>\n",
       "      <td>67.530966</td>\n",
       "      <td>95.648382</td>\n",
       "      <td>15.316148</td>\n",
       "      <td>60.849423</td>\n",
       "      <td>83.088535</td>\n",
       "      <td>...</td>\n",
       "      <td>68.510851</td>\n",
       "      <td>69.756789</td>\n",
       "      <td>0.0</td>\n",
       "      <td>60.545225</td>\n",
       "      <td>63.256942</td>\n",
       "      <td>54.447036</td>\n",
       "      <td>9.535701</td>\n",
       "      <td>0.0</td>\n",
       "      <td>87.974291</td>\n",
       "      <td>2019-03-11 03:15:00</td>\n",
       "    </tr>\n",
       "    <tr>\n",
       "      <th>24997</th>\n",
       "      <td>72.952865</td>\n",
       "      <td>16.340439</td>\n",
       "      <td>94.083085</td>\n",
       "      <td>9.402699</td>\n",
       "      <td>83.810765</td>\n",
       "      <td>67.501116</td>\n",
       "      <td>95.648382</td>\n",
       "      <td>7.900882</td>\n",
       "      <td>60.384036</td>\n",
       "      <td>95.667996</td>\n",
       "      <td>...</td>\n",
       "      <td>69.014328</td>\n",
       "      <td>70.037211</td>\n",
       "      <td>0.0</td>\n",
       "      <td>59.823032</td>\n",
       "      <td>63.256942</td>\n",
       "      <td>54.447036</td>\n",
       "      <td>9.567361</td>\n",
       "      <td>0.0</td>\n",
       "      <td>87.964299</td>\n",
       "      <td>2019-03-11 03:16:00</td>\n",
       "    </tr>\n",
       "    <tr>\n",
       "      <th>24996</th>\n",
       "      <td>73.414226</td>\n",
       "      <td>25.111296</td>\n",
       "      <td>94.247637</td>\n",
       "      <td>20.460754</td>\n",
       "      <td>84.336621</td>\n",
       "      <td>67.501116</td>\n",
       "      <td>95.648382</td>\n",
       "      <td>8.682349</td>\n",
       "      <td>60.384036</td>\n",
       "      <td>93.447307</td>\n",
       "      <td>...</td>\n",
       "      <td>68.573950</td>\n",
       "      <td>69.685747</td>\n",
       "      <td>0.0</td>\n",
       "      <td>60.584968</td>\n",
       "      <td>63.256942</td>\n",
       "      <td>54.447036</td>\n",
       "      <td>9.549974</td>\n",
       "      <td>0.0</td>\n",
       "      <td>87.945113</td>\n",
       "      <td>2019-03-11 03:17:00</td>\n",
       "    </tr>\n",
       "    <tr>\n",
       "      <th>24995</th>\n",
       "      <td>73.875587</td>\n",
       "      <td>26.183628</td>\n",
       "      <td>94.247637</td>\n",
       "      <td>26.243646</td>\n",
       "      <td>84.862783</td>\n",
       "      <td>67.635740</td>\n",
       "      <td>95.486096</td>\n",
       "      <td>16.656556</td>\n",
       "      <td>60.384036</td>\n",
       "      <td>76.483634</td>\n",
       "      <td>...</td>\n",
       "      <td>68.168040</td>\n",
       "      <td>69.472622</td>\n",
       "      <td>0.0</td>\n",
       "      <td>60.862261</td>\n",
       "      <td>63.256942</td>\n",
       "      <td>54.447036</td>\n",
       "      <td>9.478994</td>\n",
       "      <td>0.0</td>\n",
       "      <td>87.950310</td>\n",
       "      <td>2019-03-11 03:18:00</td>\n",
       "    </tr>\n",
       "  </tbody>\n",
       "</table>\n",
       "<p>5 rows × 3965 columns</p>\n",
       "</div>"
      ],
      "text/plain": [
       "       AEAGHOAWE2T1  AEAGHOAWE2A0  AEAGHOAWE2T0  AEAGHOAWE1A0  AEAGHOAWE1T1  \\\n",
       "24999     72.030143     21.542766     94.083085     22.656925     82.875638   \n",
       "24998     72.491504     26.431470     94.083085     27.250685     82.875638   \n",
       "24997     72.952865     16.340439     94.083085      9.402699     83.810765   \n",
       "24996     73.414226     25.111296     94.247637     20.460754     84.336621   \n",
       "24995     73.875587     26.183628     94.247637     26.243646     84.862783   \n",
       "\n",
       "       AEAGHOAWE1T0  AEAGHOAWE3T0  AEAGHOAWE3A0  AEAGHOAWE3T1  AEAGHOAWE_A2  \\\n",
       "24999     67.650387     95.811415     11.299942     60.849423    100.000000   \n",
       "24998     67.530966     95.648382     15.316148     60.849423     83.088535   \n",
       "24997     67.501116     95.648382      7.900882     60.384036     95.667996   \n",
       "24996     67.501116     95.648382      8.682349     60.384036     93.447307   \n",
       "24995     67.635740     95.486096     16.656556     60.384036     76.483634   \n",
       "\n",
       "       ...  AEWIHOCM__P0  AEWIHOC___P0  AEWIHOCKZ_V0  AEWIHOCK__V9  \\\n",
       "24999  ...     69.603678     69.804147           0.0     59.499933   \n",
       "24998  ...     68.510851     69.756789           0.0     60.545225   \n",
       "24997  ...     69.014328     70.037211           0.0     59.823032   \n",
       "24996  ...     68.573950     69.685747           0.0     60.584968   \n",
       "24995  ...     68.168040     69.472622           0.0     60.862261   \n",
       "\n",
       "       AEWIHOCWF_A2  AEWIHOC___T0  AEWIHOCWF_A1  AEWIHOAWF_V0  AEWIHOAKVSV0  \\\n",
       "24999     63.256942     54.447036      9.526666           0.0     87.871569   \n",
       "24998     63.256942     54.447036      9.535701           0.0     87.974291   \n",
       "24997     63.256942     54.447036      9.567361           0.0     87.964299   \n",
       "24996     63.256942     54.447036      9.549974           0.0     87.945113   \n",
       "24995     63.256942     54.447036      9.478994           0.0     87.950310   \n",
       "\n",
       "                 dateTime  \n",
       "24999 2019-03-11 03:14:00  \n",
       "24998 2019-03-11 03:15:00  \n",
       "24997 2019-03-11 03:16:00  \n",
       "24996 2019-03-11 03:17:00  \n",
       "24995 2019-03-11 03:18:00  \n",
       "\n",
       "[5 rows x 3965 columns]"
      ]
     },
     "execution_count": 16,
     "metadata": {},
     "output_type": "execute_result"
    }
   ],
   "source": [
    "# here using test_new_1 as it has no row ID column and also no problematic value\n",
    "\n",
    "def alter_time(dataframe, start_pos, end_pos):\n",
    "#     multivariate_data=test_new.iloc[start_pos:end_pos][multivariate_column_label] # comment out this line if you pass column label\n",
    "    dataframe=dataframe.iloc[start_pos:end_pos][:]\n",
    "    dataframe=dataframe.loc[::-1]\n",
    "    \n",
    "    return dataframe\n",
    "\n",
    "start_pos = 0\n",
    "end_pos = 25000\n",
    "multivariate_data = alter_time(test_new_2, start_pos, end_pos)\n",
    "multivariate_data.head()"
   ]
  },
  {
   "cell_type": "code",
   "execution_count": 17,
   "metadata": {},
   "outputs": [],
   "source": [
    "# multivariate_column_label = ['dateTime','DEWIHOBT9_I0','AEDATZ_HONP0','AEDATZK_ASP0','AEDATZ_HO_V0',\n",
    "#                              'AEDATZ_TZCP2','AEDATZKA_8P0','AEDATZ_HO_P1','AEDAHO_T9_V2','AEWIHO_T9AV2'] #rmse error 1.94"
   ]
  },
  {
   "cell_type": "code",
   "execution_count": 18,
   "metadata": {},
   "outputs": [],
   "source": [
    "# print(multivariate_data.shape)\n",
    "# multivariate_data = multivariate_data.iloc[:][multivariate_column_label]\n",
    "# print(multivariate_data.shape)\n"
   ]
  },
  {
   "cell_type": "markdown",
   "metadata": {},
   "source": [
    "# Now target column and dateTime colum will be arranged as a given column index. Here target column is the output of turbine 9's output"
   ]
  },
  {
   "cell_type": "code",
   "execution_count": 19,
   "metadata": {},
   "outputs": [
    {
     "data": {
      "text/html": [
       "<div>\n",
       "<style scoped>\n",
       "    .dataframe tbody tr th:only-of-type {\n",
       "        vertical-align: middle;\n",
       "    }\n",
       "\n",
       "    .dataframe tbody tr th {\n",
       "        vertical-align: top;\n",
       "    }\n",
       "\n",
       "    .dataframe thead th {\n",
       "        text-align: right;\n",
       "    }\n",
       "</style>\n",
       "<table border=\"1\" class=\"dataframe\">\n",
       "  <thead>\n",
       "    <tr style=\"text-align: right;\">\n",
       "      <th></th>\n",
       "      <th>dateTime</th>\n",
       "      <th>AEAGHOAWE2A0</th>\n",
       "      <th>AEAGHOAWE2T0</th>\n",
       "      <th>AEAGHOAWE1A0</th>\n",
       "      <th>AEAGHOAWE1T1</th>\n",
       "      <th>AEAGHOAWE1T0</th>\n",
       "      <th>AEAGHOAWE3T0</th>\n",
       "      <th>AEAGHOAWE3A0</th>\n",
       "      <th>AEAGHOAWE3T1</th>\n",
       "      <th>AEAGHOAWE_A2</th>\n",
       "      <th>...</th>\n",
       "      <th>AEWIHOCM__P0</th>\n",
       "      <th>AEWIHOC___P0</th>\n",
       "      <th>AEWIHOCKZ_V0</th>\n",
       "      <th>AEWIHOCK__V9</th>\n",
       "      <th>AEWIHOCWF_A2</th>\n",
       "      <th>AEWIHOC___T0</th>\n",
       "      <th>AEWIHOCWF_A1</th>\n",
       "      <th>AEWIHOAWF_V0</th>\n",
       "      <th>AEWIHOAKVSV0</th>\n",
       "      <th>AEWIHO_T9AV2</th>\n",
       "    </tr>\n",
       "  </thead>\n",
       "  <tbody>\n",
       "    <tr>\n",
       "      <th>24999</th>\n",
       "      <td>2019-03-11 03:14:00</td>\n",
       "      <td>21.542766</td>\n",
       "      <td>94.083085</td>\n",
       "      <td>22.656925</td>\n",
       "      <td>82.875638</td>\n",
       "      <td>67.650387</td>\n",
       "      <td>95.811415</td>\n",
       "      <td>11.299942</td>\n",
       "      <td>60.849423</td>\n",
       "      <td>100.000000</td>\n",
       "      <td>...</td>\n",
       "      <td>69.603678</td>\n",
       "      <td>69.804147</td>\n",
       "      <td>0.0</td>\n",
       "      <td>59.499933</td>\n",
       "      <td>63.256942</td>\n",
       "      <td>54.447036</td>\n",
       "      <td>9.526666</td>\n",
       "      <td>0.0</td>\n",
       "      <td>87.871569</td>\n",
       "      <td>79.178306</td>\n",
       "    </tr>\n",
       "    <tr>\n",
       "      <th>24998</th>\n",
       "      <td>2019-03-11 03:15:00</td>\n",
       "      <td>26.431470</td>\n",
       "      <td>94.083085</td>\n",
       "      <td>27.250685</td>\n",
       "      <td>82.875638</td>\n",
       "      <td>67.530966</td>\n",
       "      <td>95.648382</td>\n",
       "      <td>15.316148</td>\n",
       "      <td>60.849423</td>\n",
       "      <td>83.088535</td>\n",
       "      <td>...</td>\n",
       "      <td>68.510851</td>\n",
       "      <td>69.756789</td>\n",
       "      <td>0.0</td>\n",
       "      <td>60.545225</td>\n",
       "      <td>63.256942</td>\n",
       "      <td>54.447036</td>\n",
       "      <td>9.535701</td>\n",
       "      <td>0.0</td>\n",
       "      <td>87.974291</td>\n",
       "      <td>81.659117</td>\n",
       "    </tr>\n",
       "    <tr>\n",
       "      <th>24997</th>\n",
       "      <td>2019-03-11 03:16:00</td>\n",
       "      <td>16.340439</td>\n",
       "      <td>94.083085</td>\n",
       "      <td>9.402699</td>\n",
       "      <td>83.810765</td>\n",
       "      <td>67.501116</td>\n",
       "      <td>95.648382</td>\n",
       "      <td>7.900882</td>\n",
       "      <td>60.384036</td>\n",
       "      <td>95.667996</td>\n",
       "      <td>...</td>\n",
       "      <td>69.014328</td>\n",
       "      <td>70.037211</td>\n",
       "      <td>0.0</td>\n",
       "      <td>59.823032</td>\n",
       "      <td>63.256942</td>\n",
       "      <td>54.447036</td>\n",
       "      <td>9.567361</td>\n",
       "      <td>0.0</td>\n",
       "      <td>87.964299</td>\n",
       "      <td>86.055430</td>\n",
       "    </tr>\n",
       "    <tr>\n",
       "      <th>24996</th>\n",
       "      <td>2019-03-11 03:17:00</td>\n",
       "      <td>25.111296</td>\n",
       "      <td>94.247637</td>\n",
       "      <td>20.460754</td>\n",
       "      <td>84.336621</td>\n",
       "      <td>67.501116</td>\n",
       "      <td>95.648382</td>\n",
       "      <td>8.682349</td>\n",
       "      <td>60.384036</td>\n",
       "      <td>93.447307</td>\n",
       "      <td>...</td>\n",
       "      <td>68.573950</td>\n",
       "      <td>69.685747</td>\n",
       "      <td>0.0</td>\n",
       "      <td>60.584968</td>\n",
       "      <td>63.256942</td>\n",
       "      <td>54.447036</td>\n",
       "      <td>9.549974</td>\n",
       "      <td>0.0</td>\n",
       "      <td>87.945113</td>\n",
       "      <td>87.113691</td>\n",
       "    </tr>\n",
       "    <tr>\n",
       "      <th>24995</th>\n",
       "      <td>2019-03-11 03:18:00</td>\n",
       "      <td>26.183628</td>\n",
       "      <td>94.247637</td>\n",
       "      <td>26.243646</td>\n",
       "      <td>84.862783</td>\n",
       "      <td>67.635740</td>\n",
       "      <td>95.486096</td>\n",
       "      <td>16.656556</td>\n",
       "      <td>60.384036</td>\n",
       "      <td>76.483634</td>\n",
       "      <td>...</td>\n",
       "      <td>68.168040</td>\n",
       "      <td>69.472622</td>\n",
       "      <td>0.0</td>\n",
       "      <td>60.862261</td>\n",
       "      <td>63.256942</td>\n",
       "      <td>54.447036</td>\n",
       "      <td>9.478994</td>\n",
       "      <td>0.0</td>\n",
       "      <td>87.950310</td>\n",
       "      <td>87.266264</td>\n",
       "    </tr>\n",
       "  </tbody>\n",
       "</table>\n",
       "<p>5 rows × 3965 columns</p>\n",
       "</div>"
      ],
      "text/plain": [
       "                 dateTime  AEAGHOAWE2A0  AEAGHOAWE2T0  AEAGHOAWE1A0  \\\n",
       "24999 2019-03-11 03:14:00     21.542766     94.083085     22.656925   \n",
       "24998 2019-03-11 03:15:00     26.431470     94.083085     27.250685   \n",
       "24997 2019-03-11 03:16:00     16.340439     94.083085      9.402699   \n",
       "24996 2019-03-11 03:17:00     25.111296     94.247637     20.460754   \n",
       "24995 2019-03-11 03:18:00     26.183628     94.247637     26.243646   \n",
       "\n",
       "       AEAGHOAWE1T1  AEAGHOAWE1T0  AEAGHOAWE3T0  AEAGHOAWE3A0  AEAGHOAWE3T1  \\\n",
       "24999     82.875638     67.650387     95.811415     11.299942     60.849423   \n",
       "24998     82.875638     67.530966     95.648382     15.316148     60.849423   \n",
       "24997     83.810765     67.501116     95.648382      7.900882     60.384036   \n",
       "24996     84.336621     67.501116     95.648382      8.682349     60.384036   \n",
       "24995     84.862783     67.635740     95.486096     16.656556     60.384036   \n",
       "\n",
       "       AEAGHOAWE_A2  ...  AEWIHOCM__P0  AEWIHOC___P0  AEWIHOCKZ_V0  \\\n",
       "24999    100.000000  ...     69.603678     69.804147           0.0   \n",
       "24998     83.088535  ...     68.510851     69.756789           0.0   \n",
       "24997     95.667996  ...     69.014328     70.037211           0.0   \n",
       "24996     93.447307  ...     68.573950     69.685747           0.0   \n",
       "24995     76.483634  ...     68.168040     69.472622           0.0   \n",
       "\n",
       "       AEWIHOCK__V9  AEWIHOCWF_A2  AEWIHOC___T0  AEWIHOCWF_A1  AEWIHOAWF_V0  \\\n",
       "24999     59.499933     63.256942     54.447036      9.526666           0.0   \n",
       "24998     60.545225     63.256942     54.447036      9.535701           0.0   \n",
       "24997     59.823032     63.256942     54.447036      9.567361           0.0   \n",
       "24996     60.584968     63.256942     54.447036      9.549974           0.0   \n",
       "24995     60.862261     63.256942     54.447036      9.478994           0.0   \n",
       "\n",
       "       AEWIHOAKVSV0  AEWIHO_T9AV2  \n",
       "24999     87.871569     79.178306  \n",
       "24998     87.974291     81.659117  \n",
       "24997     87.964299     86.055430  \n",
       "24996     87.945113     87.113691  \n",
       "24995     87.950310     87.266264  \n",
       "\n",
       "[5 rows x 3965 columns]"
      ]
     },
     "execution_count": 19,
     "metadata": {},
     "output_type": "execute_result"
    }
   ],
   "source": [
    "def rearrange_frame(dataframe,colname,col_pos):\n",
    "    \n",
    "    list_col=dataframe.columns.to_list()\n",
    "    temp_list=list_col\n",
    "    for idx,i in enumerate(colname):\n",
    "        sacrifice_val = temp_list[col_pos[idx]]        \n",
    "        indx=dataframe.columns.get_loc(i)\n",
    "        temp_list[col_pos[idx]]=i\n",
    "        temp_list[indx]=sacrifice_val\n",
    "        \n",
    "    return dataframe.iloc[:][temp_list]\n",
    "index_array=[0,-1]\n",
    "req_column_name = ['dateTime','AEWIHO_T9AV2']\n",
    "rearranged_dataframe = rearrange_frame(multivariate_data,req_column_name,index_array)\n",
    "rearranged_dataframe.head()"
   ]
  },
  {
   "cell_type": "code",
   "execution_count": 20,
   "metadata": {},
   "outputs": [
    {
     "name": "stdout",
     "output_type": "stream",
     "text": [
      "(25000, 3965)\n",
      "(25000, 3965)\n"
     ]
    }
   ],
   "source": [
    "print(multivariate_data.shape)\n",
    "print(rearranged_dataframe.shape)"
   ]
  },
  {
   "cell_type": "markdown",
   "metadata": {},
   "source": [
    "# Now take in consideration the signal DEWIHOBT9_I0. When the value of it's will be 100 only then target column will work otherwise not. So, choose this signal and drop all of the rows where it's value != 100 and then drop the whole colum as after dropping this column will only contain value 100 and it will affect negatively in the correlation with target signal"
   ]
  },
  {
   "cell_type": "code",
   "execution_count": 21,
   "metadata": {},
   "outputs": [
    {
     "name": "stdout",
     "output_type": "stream",
     "text": [
      "DEWIHOBT9_I0\n",
      "size of count array here:  760\n"
     ]
    }
   ],
   "source": [
    "# the function will do the following task\n",
    "# if the blast furnace signal for turbine 9 is zero then no work will be happened.\n",
    "# so, remove all the rows where this value will be zero\n",
    "\n",
    "def drop_zero_value_row_of_blast_furnace_signal(dataframe, blast_furnace_signal):\n",
    "#     dataframe = dataframe.reset_index()\n",
    "    count = []\n",
    "    print(blast_furnace_signal)\n",
    "    for idx_blast_furnace, val_blast_furnace in enumerate(dataframe[blast_furnace_signal]):\n",
    "        if val_blast_furnace != 100 :\n",
    "            count = np.append(count,idx_blast_furnace)\n",
    "    print('size of count array here: ', count.size)\n",
    "    \n",
    "    if count.size > 0:\n",
    "        dataframe_1 = dataframe.drop(count,axis=0) # axis= 0 means row indiated. 1 means column indicated\n",
    "    else:\n",
    "        dataframe_1 = dataframe\n",
    "    dataframe_1 = dataframe_1.drop([blast_furnace_signal], axis=1) # dropping the column. because all value are same   \n",
    "    return dataframe_1\n",
    "blast_furnace_signal = 'DEWIHOBT9_I0'\n",
    "\n",
    "dataframe_no_zero_value_blast_furnace = drop_zero_value_row_of_blast_furnace_signal(rearranged_dataframe,blast_furnace_signal)"
   ]
  },
  {
   "cell_type": "code",
   "execution_count": 22,
   "metadata": {},
   "outputs": [
    {
     "data": {
      "text/html": [
       "<div>\n",
       "<style scoped>\n",
       "    .dataframe tbody tr th:only-of-type {\n",
       "        vertical-align: middle;\n",
       "    }\n",
       "\n",
       "    .dataframe tbody tr th {\n",
       "        vertical-align: top;\n",
       "    }\n",
       "\n",
       "    .dataframe thead th {\n",
       "        text-align: right;\n",
       "    }\n",
       "</style>\n",
       "<table border=\"1\" class=\"dataframe\">\n",
       "  <thead>\n",
       "    <tr style=\"text-align: right;\">\n",
       "      <th></th>\n",
       "      <th>dateTime</th>\n",
       "      <th>AEAGHOAWE2A0</th>\n",
       "      <th>AEAGHOAWE2T0</th>\n",
       "      <th>AEAGHOAWE1A0</th>\n",
       "      <th>AEAGHOAWE1T1</th>\n",
       "      <th>AEAGHOAWE1T0</th>\n",
       "      <th>AEAGHOAWE3T0</th>\n",
       "      <th>AEAGHOAWE3A0</th>\n",
       "      <th>AEAGHOAWE3T1</th>\n",
       "      <th>AEAGHOAWE_A2</th>\n",
       "      <th>...</th>\n",
       "      <th>AEWIHOCM__P0</th>\n",
       "      <th>AEWIHOC___P0</th>\n",
       "      <th>AEWIHOCKZ_V0</th>\n",
       "      <th>AEWIHOCK__V9</th>\n",
       "      <th>AEWIHOCWF_A2</th>\n",
       "      <th>AEWIHOC___T0</th>\n",
       "      <th>AEWIHOCWF_A1</th>\n",
       "      <th>AEWIHOAWF_V0</th>\n",
       "      <th>AEWIHOAKVSV0</th>\n",
       "      <th>AEWIHO_T9AV2</th>\n",
       "    </tr>\n",
       "  </thead>\n",
       "  <tbody>\n",
       "    <tr>\n",
       "      <th>24999</th>\n",
       "      <td>2019-03-11 03:14:00</td>\n",
       "      <td>21.542766</td>\n",
       "      <td>94.083085</td>\n",
       "      <td>22.656925</td>\n",
       "      <td>82.875638</td>\n",
       "      <td>67.650387</td>\n",
       "      <td>95.811415</td>\n",
       "      <td>11.299942</td>\n",
       "      <td>60.849423</td>\n",
       "      <td>100.000000</td>\n",
       "      <td>...</td>\n",
       "      <td>69.603678</td>\n",
       "      <td>69.804147</td>\n",
       "      <td>0.0</td>\n",
       "      <td>59.499933</td>\n",
       "      <td>63.256942</td>\n",
       "      <td>54.447036</td>\n",
       "      <td>9.526666</td>\n",
       "      <td>0.0</td>\n",
       "      <td>87.871569</td>\n",
       "      <td>79.178306</td>\n",
       "    </tr>\n",
       "    <tr>\n",
       "      <th>24998</th>\n",
       "      <td>2019-03-11 03:15:00</td>\n",
       "      <td>26.431470</td>\n",
       "      <td>94.083085</td>\n",
       "      <td>27.250685</td>\n",
       "      <td>82.875638</td>\n",
       "      <td>67.530966</td>\n",
       "      <td>95.648382</td>\n",
       "      <td>15.316148</td>\n",
       "      <td>60.849423</td>\n",
       "      <td>83.088535</td>\n",
       "      <td>...</td>\n",
       "      <td>68.510851</td>\n",
       "      <td>69.756789</td>\n",
       "      <td>0.0</td>\n",
       "      <td>60.545225</td>\n",
       "      <td>63.256942</td>\n",
       "      <td>54.447036</td>\n",
       "      <td>9.535701</td>\n",
       "      <td>0.0</td>\n",
       "      <td>87.974291</td>\n",
       "      <td>81.659117</td>\n",
       "    </tr>\n",
       "    <tr>\n",
       "      <th>24997</th>\n",
       "      <td>2019-03-11 03:16:00</td>\n",
       "      <td>16.340439</td>\n",
       "      <td>94.083085</td>\n",
       "      <td>9.402699</td>\n",
       "      <td>83.810765</td>\n",
       "      <td>67.501116</td>\n",
       "      <td>95.648382</td>\n",
       "      <td>7.900882</td>\n",
       "      <td>60.384036</td>\n",
       "      <td>95.667996</td>\n",
       "      <td>...</td>\n",
       "      <td>69.014328</td>\n",
       "      <td>70.037211</td>\n",
       "      <td>0.0</td>\n",
       "      <td>59.823032</td>\n",
       "      <td>63.256942</td>\n",
       "      <td>54.447036</td>\n",
       "      <td>9.567361</td>\n",
       "      <td>0.0</td>\n",
       "      <td>87.964299</td>\n",
       "      <td>86.055430</td>\n",
       "    </tr>\n",
       "    <tr>\n",
       "      <th>24996</th>\n",
       "      <td>2019-03-11 03:17:00</td>\n",
       "      <td>25.111296</td>\n",
       "      <td>94.247637</td>\n",
       "      <td>20.460754</td>\n",
       "      <td>84.336621</td>\n",
       "      <td>67.501116</td>\n",
       "      <td>95.648382</td>\n",
       "      <td>8.682349</td>\n",
       "      <td>60.384036</td>\n",
       "      <td>93.447307</td>\n",
       "      <td>...</td>\n",
       "      <td>68.573950</td>\n",
       "      <td>69.685747</td>\n",
       "      <td>0.0</td>\n",
       "      <td>60.584968</td>\n",
       "      <td>63.256942</td>\n",
       "      <td>54.447036</td>\n",
       "      <td>9.549974</td>\n",
       "      <td>0.0</td>\n",
       "      <td>87.945113</td>\n",
       "      <td>87.113691</td>\n",
       "    </tr>\n",
       "    <tr>\n",
       "      <th>24995</th>\n",
       "      <td>2019-03-11 03:18:00</td>\n",
       "      <td>26.183628</td>\n",
       "      <td>94.247637</td>\n",
       "      <td>26.243646</td>\n",
       "      <td>84.862783</td>\n",
       "      <td>67.635740</td>\n",
       "      <td>95.486096</td>\n",
       "      <td>16.656556</td>\n",
       "      <td>60.384036</td>\n",
       "      <td>76.483634</td>\n",
       "      <td>...</td>\n",
       "      <td>68.168040</td>\n",
       "      <td>69.472622</td>\n",
       "      <td>0.0</td>\n",
       "      <td>60.862261</td>\n",
       "      <td>63.256942</td>\n",
       "      <td>54.447036</td>\n",
       "      <td>9.478994</td>\n",
       "      <td>0.0</td>\n",
       "      <td>87.950310</td>\n",
       "      <td>87.266264</td>\n",
       "    </tr>\n",
       "  </tbody>\n",
       "</table>\n",
       "<p>5 rows × 3964 columns</p>\n",
       "</div>"
      ],
      "text/plain": [
       "                 dateTime  AEAGHOAWE2A0  AEAGHOAWE2T0  AEAGHOAWE1A0  \\\n",
       "24999 2019-03-11 03:14:00     21.542766     94.083085     22.656925   \n",
       "24998 2019-03-11 03:15:00     26.431470     94.083085     27.250685   \n",
       "24997 2019-03-11 03:16:00     16.340439     94.083085      9.402699   \n",
       "24996 2019-03-11 03:17:00     25.111296     94.247637     20.460754   \n",
       "24995 2019-03-11 03:18:00     26.183628     94.247637     26.243646   \n",
       "\n",
       "       AEAGHOAWE1T1  AEAGHOAWE1T0  AEAGHOAWE3T0  AEAGHOAWE3A0  AEAGHOAWE3T1  \\\n",
       "24999     82.875638     67.650387     95.811415     11.299942     60.849423   \n",
       "24998     82.875638     67.530966     95.648382     15.316148     60.849423   \n",
       "24997     83.810765     67.501116     95.648382      7.900882     60.384036   \n",
       "24996     84.336621     67.501116     95.648382      8.682349     60.384036   \n",
       "24995     84.862783     67.635740     95.486096     16.656556     60.384036   \n",
       "\n",
       "       AEAGHOAWE_A2  ...  AEWIHOCM__P0  AEWIHOC___P0  AEWIHOCKZ_V0  \\\n",
       "24999    100.000000  ...     69.603678     69.804147           0.0   \n",
       "24998     83.088535  ...     68.510851     69.756789           0.0   \n",
       "24997     95.667996  ...     69.014328     70.037211           0.0   \n",
       "24996     93.447307  ...     68.573950     69.685747           0.0   \n",
       "24995     76.483634  ...     68.168040     69.472622           0.0   \n",
       "\n",
       "       AEWIHOCK__V9  AEWIHOCWF_A2  AEWIHOC___T0  AEWIHOCWF_A1  AEWIHOAWF_V0  \\\n",
       "24999     59.499933     63.256942     54.447036      9.526666           0.0   \n",
       "24998     60.545225     63.256942     54.447036      9.535701           0.0   \n",
       "24997     59.823032     63.256942     54.447036      9.567361           0.0   \n",
       "24996     60.584968     63.256942     54.447036      9.549974           0.0   \n",
       "24995     60.862261     63.256942     54.447036      9.478994           0.0   \n",
       "\n",
       "       AEWIHOAKVSV0  AEWIHO_T9AV2  \n",
       "24999     87.871569     79.178306  \n",
       "24998     87.974291     81.659117  \n",
       "24997     87.964299     86.055430  \n",
       "24996     87.945113     87.113691  \n",
       "24995     87.950310     87.266264  \n",
       "\n",
       "[5 rows x 3964 columns]"
      ]
     },
     "execution_count": 22,
     "metadata": {},
     "output_type": "execute_result"
    }
   ],
   "source": [
    "dataframe_no_zero_value_blast_furnace.head()"
   ]
  },
  {
   "cell_type": "code",
   "execution_count": 23,
   "metadata": {
    "scrolled": false
   },
   "outputs": [
    {
     "name": "stdout",
     "output_type": "stream",
     "text": [
      "(25000, 3965)\n",
      "(24240, 3964)\n"
     ]
    }
   ],
   "source": [
    "print(rearranged_dataframe.shape)\n",
    "print(dataframe_no_zero_value_blast_furnace.shape)"
   ]
  },
  {
   "cell_type": "markdown",
   "metadata": {},
   "source": [
    "# Now choose the target colum  and check if any value is zero or not. If zero then drop those rows. here taret column is T9's output, signal name is AEWIHO_T9AV2"
   ]
  },
  {
   "cell_type": "code",
   "execution_count": 24,
   "metadata": {},
   "outputs": [
    {
     "name": "stdout",
     "output_type": "stream",
     "text": [
      "24223.0\n",
      "24224.0\n",
      "24231.0\n",
      "size of count array:  110\n"
     ]
    }
   ],
   "source": [
    "def drop_zero_value_row_of_target_signal(dataframe, target_signal):\n",
    "    count = []\n",
    "    for idx_blast_furnace, val_blast_furnace in enumerate(dataframe[target_signal]):\n",
    "        if val_blast_furnace == 0 :\n",
    "            count = np.append(count,idx_blast_furnace)\n",
    "\n",
    "    for i in count:\n",
    "        if i > 24222:\n",
    "            print(i)\n",
    "    print('size of count array: ', count.size)\n",
    "\n",
    "    if count.size > 0:\n",
    "        dataframe_1 = dataframe.drop(count,axis=0) # axis= 0 means row indiated. 1 means column indicated\n",
    "    else:\n",
    "        dataframe_1 = dataframe\n",
    "    dataframe_1 = dataframe_1.drop(dataframe_1.columns[0], axis = 1) # generally after resetting index the former index \n",
    "                                                                                            # take place the first place of the column. so removing it.\n",
    "    return dataframe_1\n",
    "\n",
    "\n",
    "target_signal = 'AEWIHO_T9AV2'\n",
    "dataframe_reset = dataframe_no_zero_value_blast_furnace.reset_index()\n",
    "dataframe_no_zero_value_target_column = drop_zero_value_row_of_target_signal(dataframe_reset,target_signal)"
   ]
  },
  {
   "cell_type": "code",
   "execution_count": 25,
   "metadata": {},
   "outputs": [
    {
     "data": {
      "text/html": [
       "<div>\n",
       "<style scoped>\n",
       "    .dataframe tbody tr th:only-of-type {\n",
       "        vertical-align: middle;\n",
       "    }\n",
       "\n",
       "    .dataframe tbody tr th {\n",
       "        vertical-align: top;\n",
       "    }\n",
       "\n",
       "    .dataframe thead th {\n",
       "        text-align: right;\n",
       "    }\n",
       "</style>\n",
       "<table border=\"1\" class=\"dataframe\">\n",
       "  <thead>\n",
       "    <tr style=\"text-align: right;\">\n",
       "      <th></th>\n",
       "      <th>dateTime</th>\n",
       "      <th>AEAGHOAWE2A0</th>\n",
       "      <th>AEAGHOAWE2T0</th>\n",
       "      <th>AEAGHOAWE1A0</th>\n",
       "      <th>AEAGHOAWE1T1</th>\n",
       "      <th>AEAGHOAWE1T0</th>\n",
       "      <th>AEAGHOAWE3T0</th>\n",
       "      <th>AEAGHOAWE3A0</th>\n",
       "      <th>AEAGHOAWE3T1</th>\n",
       "      <th>AEAGHOAWE_A2</th>\n",
       "      <th>...</th>\n",
       "      <th>AEWIHOCM__P0</th>\n",
       "      <th>AEWIHOC___P0</th>\n",
       "      <th>AEWIHOCKZ_V0</th>\n",
       "      <th>AEWIHOCK__V9</th>\n",
       "      <th>AEWIHOCWF_A2</th>\n",
       "      <th>AEWIHOC___T0</th>\n",
       "      <th>AEWIHOCWF_A1</th>\n",
       "      <th>AEWIHOAWF_V0</th>\n",
       "      <th>AEWIHOAKVSV0</th>\n",
       "      <th>AEWIHO_T9AV2</th>\n",
       "    </tr>\n",
       "  </thead>\n",
       "  <tbody>\n",
       "    <tr>\n",
       "      <th>0</th>\n",
       "      <td>2019-03-11 03:14:00</td>\n",
       "      <td>21.542766</td>\n",
       "      <td>94.083085</td>\n",
       "      <td>22.656925</td>\n",
       "      <td>82.875638</td>\n",
       "      <td>67.650387</td>\n",
       "      <td>95.811415</td>\n",
       "      <td>11.299942</td>\n",
       "      <td>60.849423</td>\n",
       "      <td>100.000000</td>\n",
       "      <td>...</td>\n",
       "      <td>69.603678</td>\n",
       "      <td>69.804147</td>\n",
       "      <td>0.0</td>\n",
       "      <td>59.499933</td>\n",
       "      <td>63.256942</td>\n",
       "      <td>54.447036</td>\n",
       "      <td>9.526666</td>\n",
       "      <td>0.0</td>\n",
       "      <td>87.871569</td>\n",
       "      <td>79.178306</td>\n",
       "    </tr>\n",
       "    <tr>\n",
       "      <th>1</th>\n",
       "      <td>2019-03-11 03:15:00</td>\n",
       "      <td>26.431470</td>\n",
       "      <td>94.083085</td>\n",
       "      <td>27.250685</td>\n",
       "      <td>82.875638</td>\n",
       "      <td>67.530966</td>\n",
       "      <td>95.648382</td>\n",
       "      <td>15.316148</td>\n",
       "      <td>60.849423</td>\n",
       "      <td>83.088535</td>\n",
       "      <td>...</td>\n",
       "      <td>68.510851</td>\n",
       "      <td>69.756789</td>\n",
       "      <td>0.0</td>\n",
       "      <td>60.545225</td>\n",
       "      <td>63.256942</td>\n",
       "      <td>54.447036</td>\n",
       "      <td>9.535701</td>\n",
       "      <td>0.0</td>\n",
       "      <td>87.974291</td>\n",
       "      <td>81.659117</td>\n",
       "    </tr>\n",
       "    <tr>\n",
       "      <th>2</th>\n",
       "      <td>2019-03-11 03:16:00</td>\n",
       "      <td>16.340439</td>\n",
       "      <td>94.083085</td>\n",
       "      <td>9.402699</td>\n",
       "      <td>83.810765</td>\n",
       "      <td>67.501116</td>\n",
       "      <td>95.648382</td>\n",
       "      <td>7.900882</td>\n",
       "      <td>60.384036</td>\n",
       "      <td>95.667996</td>\n",
       "      <td>...</td>\n",
       "      <td>69.014328</td>\n",
       "      <td>70.037211</td>\n",
       "      <td>0.0</td>\n",
       "      <td>59.823032</td>\n",
       "      <td>63.256942</td>\n",
       "      <td>54.447036</td>\n",
       "      <td>9.567361</td>\n",
       "      <td>0.0</td>\n",
       "      <td>87.964299</td>\n",
       "      <td>86.055430</td>\n",
       "    </tr>\n",
       "    <tr>\n",
       "      <th>3</th>\n",
       "      <td>2019-03-11 03:17:00</td>\n",
       "      <td>25.111296</td>\n",
       "      <td>94.247637</td>\n",
       "      <td>20.460754</td>\n",
       "      <td>84.336621</td>\n",
       "      <td>67.501116</td>\n",
       "      <td>95.648382</td>\n",
       "      <td>8.682349</td>\n",
       "      <td>60.384036</td>\n",
       "      <td>93.447307</td>\n",
       "      <td>...</td>\n",
       "      <td>68.573950</td>\n",
       "      <td>69.685747</td>\n",
       "      <td>0.0</td>\n",
       "      <td>60.584968</td>\n",
       "      <td>63.256942</td>\n",
       "      <td>54.447036</td>\n",
       "      <td>9.549974</td>\n",
       "      <td>0.0</td>\n",
       "      <td>87.945113</td>\n",
       "      <td>87.113691</td>\n",
       "    </tr>\n",
       "    <tr>\n",
       "      <th>4</th>\n",
       "      <td>2019-03-11 03:18:00</td>\n",
       "      <td>26.183628</td>\n",
       "      <td>94.247637</td>\n",
       "      <td>26.243646</td>\n",
       "      <td>84.862783</td>\n",
       "      <td>67.635740</td>\n",
       "      <td>95.486096</td>\n",
       "      <td>16.656556</td>\n",
       "      <td>60.384036</td>\n",
       "      <td>76.483634</td>\n",
       "      <td>...</td>\n",
       "      <td>68.168040</td>\n",
       "      <td>69.472622</td>\n",
       "      <td>0.0</td>\n",
       "      <td>60.862261</td>\n",
       "      <td>63.256942</td>\n",
       "      <td>54.447036</td>\n",
       "      <td>9.478994</td>\n",
       "      <td>0.0</td>\n",
       "      <td>87.950310</td>\n",
       "      <td>87.266264</td>\n",
       "    </tr>\n",
       "  </tbody>\n",
       "</table>\n",
       "<p>5 rows × 3964 columns</p>\n",
       "</div>"
      ],
      "text/plain": [
       "             dateTime  AEAGHOAWE2A0  AEAGHOAWE2T0  AEAGHOAWE1A0  AEAGHOAWE1T1  \\\n",
       "0 2019-03-11 03:14:00     21.542766     94.083085     22.656925     82.875638   \n",
       "1 2019-03-11 03:15:00     26.431470     94.083085     27.250685     82.875638   \n",
       "2 2019-03-11 03:16:00     16.340439     94.083085      9.402699     83.810765   \n",
       "3 2019-03-11 03:17:00     25.111296     94.247637     20.460754     84.336621   \n",
       "4 2019-03-11 03:18:00     26.183628     94.247637     26.243646     84.862783   \n",
       "\n",
       "   AEAGHOAWE1T0  AEAGHOAWE3T0  AEAGHOAWE3A0  AEAGHOAWE3T1  AEAGHOAWE_A2  ...  \\\n",
       "0     67.650387     95.811415     11.299942     60.849423    100.000000  ...   \n",
       "1     67.530966     95.648382     15.316148     60.849423     83.088535  ...   \n",
       "2     67.501116     95.648382      7.900882     60.384036     95.667996  ...   \n",
       "3     67.501116     95.648382      8.682349     60.384036     93.447307  ...   \n",
       "4     67.635740     95.486096     16.656556     60.384036     76.483634  ...   \n",
       "\n",
       "   AEWIHOCM__P0  AEWIHOC___P0  AEWIHOCKZ_V0  AEWIHOCK__V9  AEWIHOCWF_A2  \\\n",
       "0     69.603678     69.804147           0.0     59.499933     63.256942   \n",
       "1     68.510851     69.756789           0.0     60.545225     63.256942   \n",
       "2     69.014328     70.037211           0.0     59.823032     63.256942   \n",
       "3     68.573950     69.685747           0.0     60.584968     63.256942   \n",
       "4     68.168040     69.472622           0.0     60.862261     63.256942   \n",
       "\n",
       "   AEWIHOC___T0  AEWIHOCWF_A1  AEWIHOAWF_V0  AEWIHOAKVSV0  AEWIHO_T9AV2  \n",
       "0     54.447036      9.526666           0.0     87.871569     79.178306  \n",
       "1     54.447036      9.535701           0.0     87.974291     81.659117  \n",
       "2     54.447036      9.567361           0.0     87.964299     86.055430  \n",
       "3     54.447036      9.549974           0.0     87.945113     87.113691  \n",
       "4     54.447036      9.478994           0.0     87.950310     87.266264  \n",
       "\n",
       "[5 rows x 3964 columns]"
      ]
     },
     "execution_count": 25,
     "metadata": {},
     "output_type": "execute_result"
    }
   ],
   "source": [
    "dataframe_no_zero_value_target_column.head()"
   ]
  },
  {
   "cell_type": "code",
   "execution_count": 26,
   "metadata": {
    "scrolled": true
   },
   "outputs": [
    {
     "name": "stdout",
     "output_type": "stream",
     "text": [
      "(24240, 3964)\n",
      "(24130, 3964)\n"
     ]
    }
   ],
   "source": [
    "print(dataframe_no_zero_value_blast_furnace.shape)\n",
    "print(dataframe_no_zero_value_target_column.shape)"
   ]
  },
  {
   "cell_type": "markdown",
   "metadata": {},
   "source": [
    "# Now drop all columns whose all vaues are same"
   ]
  },
  {
   "cell_type": "code",
   "execution_count": 27,
   "metadata": {},
   "outputs": [],
   "source": [
    "def drop_column_with_same_value(dataframe):\n",
    "    cols = dataframe.select_dtypes([np.number]).columns\n",
    "    diff = dataframe[cols].diff().sum()\n",
    "    dataframe_drop_column_with_same_value = dataframe.drop(diff[diff== 0].index, axis=1)\n",
    "    \n",
    "    return dataframe_drop_column_with_same_value\n",
    "\n",
    "dataframe_drop_column_with_same_value = drop_column_with_same_value(dataframe_no_zero_value_target_column)"
   ]
  },
  {
   "cell_type": "code",
   "execution_count": 28,
   "metadata": {},
   "outputs": [
    {
     "data": {
      "text/html": [
       "<div>\n",
       "<style scoped>\n",
       "    .dataframe tbody tr th:only-of-type {\n",
       "        vertical-align: middle;\n",
       "    }\n",
       "\n",
       "    .dataframe tbody tr th {\n",
       "        vertical-align: top;\n",
       "    }\n",
       "\n",
       "    .dataframe thead th {\n",
       "        text-align: right;\n",
       "    }\n",
       "</style>\n",
       "<table border=\"1\" class=\"dataframe\">\n",
       "  <thead>\n",
       "    <tr style=\"text-align: right;\">\n",
       "      <th></th>\n",
       "      <th>dateTime</th>\n",
       "      <th>AEAGHOAWE2A0</th>\n",
       "      <th>AEAGHOAWE2T0</th>\n",
       "      <th>AEAGHOAWE1A0</th>\n",
       "      <th>AEAGHOAWE1T1</th>\n",
       "      <th>AEAGHOAWE1T0</th>\n",
       "      <th>AEAGHOAWE3T0</th>\n",
       "      <th>AEAGHOAWE3A0</th>\n",
       "      <th>AEAGHOAWE3T1</th>\n",
       "      <th>AEAGHOAWE_A2</th>\n",
       "      <th>...</th>\n",
       "      <th>AEWIHOC_MWT0</th>\n",
       "      <th>AEWIHOCM__P0</th>\n",
       "      <th>AEWIHOC___P0</th>\n",
       "      <th>AEWIHOCKZ_V0</th>\n",
       "      <th>AEWIHOCK__V9</th>\n",
       "      <th>AEWIHOCWF_A2</th>\n",
       "      <th>AEWIHOC___T0</th>\n",
       "      <th>AEWIHOCWF_A1</th>\n",
       "      <th>AEWIHOAKVSV0</th>\n",
       "      <th>AEWIHO_T9AV2</th>\n",
       "    </tr>\n",
       "  </thead>\n",
       "  <tbody>\n",
       "    <tr>\n",
       "      <th>0</th>\n",
       "      <td>2019-03-11 03:14:00</td>\n",
       "      <td>21.542766</td>\n",
       "      <td>94.083085</td>\n",
       "      <td>22.656925</td>\n",
       "      <td>82.875638</td>\n",
       "      <td>67.650387</td>\n",
       "      <td>95.811415</td>\n",
       "      <td>11.299942</td>\n",
       "      <td>60.849423</td>\n",
       "      <td>100.000000</td>\n",
       "      <td>...</td>\n",
       "      <td>74.492332</td>\n",
       "      <td>69.603678</td>\n",
       "      <td>69.804147</td>\n",
       "      <td>0.0</td>\n",
       "      <td>59.499933</td>\n",
       "      <td>63.256942</td>\n",
       "      <td>54.447036</td>\n",
       "      <td>9.526666</td>\n",
       "      <td>87.871569</td>\n",
       "      <td>79.178306</td>\n",
       "    </tr>\n",
       "    <tr>\n",
       "      <th>1</th>\n",
       "      <td>2019-03-11 03:15:00</td>\n",
       "      <td>26.431470</td>\n",
       "      <td>94.083085</td>\n",
       "      <td>27.250685</td>\n",
       "      <td>82.875638</td>\n",
       "      <td>67.530966</td>\n",
       "      <td>95.648382</td>\n",
       "      <td>15.316148</td>\n",
       "      <td>60.849423</td>\n",
       "      <td>83.088535</td>\n",
       "      <td>...</td>\n",
       "      <td>74.593003</td>\n",
       "      <td>68.510851</td>\n",
       "      <td>69.756789</td>\n",
       "      <td>0.0</td>\n",
       "      <td>60.545225</td>\n",
       "      <td>63.256942</td>\n",
       "      <td>54.447036</td>\n",
       "      <td>9.535701</td>\n",
       "      <td>87.974291</td>\n",
       "      <td>81.659117</td>\n",
       "    </tr>\n",
       "    <tr>\n",
       "      <th>2</th>\n",
       "      <td>2019-03-11 03:16:00</td>\n",
       "      <td>16.340439</td>\n",
       "      <td>94.083085</td>\n",
       "      <td>9.402699</td>\n",
       "      <td>83.810765</td>\n",
       "      <td>67.501116</td>\n",
       "      <td>95.648382</td>\n",
       "      <td>7.900882</td>\n",
       "      <td>60.384036</td>\n",
       "      <td>95.667996</td>\n",
       "      <td>...</td>\n",
       "      <td>74.695112</td>\n",
       "      <td>69.014328</td>\n",
       "      <td>70.037211</td>\n",
       "      <td>0.0</td>\n",
       "      <td>59.823032</td>\n",
       "      <td>63.256942</td>\n",
       "      <td>54.447036</td>\n",
       "      <td>9.567361</td>\n",
       "      <td>87.964299</td>\n",
       "      <td>86.055430</td>\n",
       "    </tr>\n",
       "    <tr>\n",
       "      <th>3</th>\n",
       "      <td>2019-03-11 03:17:00</td>\n",
       "      <td>25.111296</td>\n",
       "      <td>94.247637</td>\n",
       "      <td>20.460754</td>\n",
       "      <td>84.336621</td>\n",
       "      <td>67.501116</td>\n",
       "      <td>95.648382</td>\n",
       "      <td>8.682349</td>\n",
       "      <td>60.384036</td>\n",
       "      <td>93.447307</td>\n",
       "      <td>...</td>\n",
       "      <td>74.790788</td>\n",
       "      <td>68.573950</td>\n",
       "      <td>69.685747</td>\n",
       "      <td>0.0</td>\n",
       "      <td>60.584968</td>\n",
       "      <td>63.256942</td>\n",
       "      <td>54.447036</td>\n",
       "      <td>9.549974</td>\n",
       "      <td>87.945113</td>\n",
       "      <td>87.113691</td>\n",
       "    </tr>\n",
       "    <tr>\n",
       "      <th>4</th>\n",
       "      <td>2019-03-11 03:18:00</td>\n",
       "      <td>26.183628</td>\n",
       "      <td>94.247637</td>\n",
       "      <td>26.243646</td>\n",
       "      <td>84.862783</td>\n",
       "      <td>67.635740</td>\n",
       "      <td>95.486096</td>\n",
       "      <td>16.656556</td>\n",
       "      <td>60.384036</td>\n",
       "      <td>76.483634</td>\n",
       "      <td>...</td>\n",
       "      <td>74.825060</td>\n",
       "      <td>68.168040</td>\n",
       "      <td>69.472622</td>\n",
       "      <td>0.0</td>\n",
       "      <td>60.862261</td>\n",
       "      <td>63.256942</td>\n",
       "      <td>54.447036</td>\n",
       "      <td>9.478994</td>\n",
       "      <td>87.950310</td>\n",
       "      <td>87.266264</td>\n",
       "    </tr>\n",
       "  </tbody>\n",
       "</table>\n",
       "<p>5 rows × 1899 columns</p>\n",
       "</div>"
      ],
      "text/plain": [
       "             dateTime  AEAGHOAWE2A0  AEAGHOAWE2T0  AEAGHOAWE1A0  AEAGHOAWE1T1  \\\n",
       "0 2019-03-11 03:14:00     21.542766     94.083085     22.656925     82.875638   \n",
       "1 2019-03-11 03:15:00     26.431470     94.083085     27.250685     82.875638   \n",
       "2 2019-03-11 03:16:00     16.340439     94.083085      9.402699     83.810765   \n",
       "3 2019-03-11 03:17:00     25.111296     94.247637     20.460754     84.336621   \n",
       "4 2019-03-11 03:18:00     26.183628     94.247637     26.243646     84.862783   \n",
       "\n",
       "   AEAGHOAWE1T0  AEAGHOAWE3T0  AEAGHOAWE3A0  AEAGHOAWE3T1  AEAGHOAWE_A2  ...  \\\n",
       "0     67.650387     95.811415     11.299942     60.849423    100.000000  ...   \n",
       "1     67.530966     95.648382     15.316148     60.849423     83.088535  ...   \n",
       "2     67.501116     95.648382      7.900882     60.384036     95.667996  ...   \n",
       "3     67.501116     95.648382      8.682349     60.384036     93.447307  ...   \n",
       "4     67.635740     95.486096     16.656556     60.384036     76.483634  ...   \n",
       "\n",
       "   AEWIHOC_MWT0  AEWIHOCM__P0  AEWIHOC___P0  AEWIHOCKZ_V0  AEWIHOCK__V9  \\\n",
       "0     74.492332     69.603678     69.804147           0.0     59.499933   \n",
       "1     74.593003     68.510851     69.756789           0.0     60.545225   \n",
       "2     74.695112     69.014328     70.037211           0.0     59.823032   \n",
       "3     74.790788     68.573950     69.685747           0.0     60.584968   \n",
       "4     74.825060     68.168040     69.472622           0.0     60.862261   \n",
       "\n",
       "   AEWIHOCWF_A2  AEWIHOC___T0  AEWIHOCWF_A1  AEWIHOAKVSV0  AEWIHO_T9AV2  \n",
       "0     63.256942     54.447036      9.526666     87.871569     79.178306  \n",
       "1     63.256942     54.447036      9.535701     87.974291     81.659117  \n",
       "2     63.256942     54.447036      9.567361     87.964299     86.055430  \n",
       "3     63.256942     54.447036      9.549974     87.945113     87.113691  \n",
       "4     63.256942     54.447036      9.478994     87.950310     87.266264  \n",
       "\n",
       "[5 rows x 1899 columns]"
      ]
     },
     "execution_count": 28,
     "metadata": {},
     "output_type": "execute_result"
    }
   ],
   "source": [
    "dataframe_drop_column_with_same_value.head()"
   ]
  },
  {
   "cell_type": "code",
   "execution_count": 29,
   "metadata": {},
   "outputs": [
    {
     "name": "stdout",
     "output_type": "stream",
     "text": [
      "(24130, 3964)\n",
      "(24130, 1899)\n"
     ]
    }
   ],
   "source": [
    "print(dataframe_no_zero_value_target_column.shape)\n",
    "print(dataframe_drop_column_with_same_value.shape)"
   ]
  },
  {
   "cell_type": "markdown",
   "metadata": {},
   "source": [
    "# check on the whole dataframe if there is any NAN value or not. If YES, replace it with zero and drop"
   ]
  },
  {
   "cell_type": "code",
   "execution_count": 30,
   "metadata": {},
   "outputs": [],
   "source": [
    "# Think twice before using this function\n",
    "# checking if any column has nan value or not. If YES then replace nan with zero and drop the row\n",
    "\n",
    "# a = dataframe_no_zero_value_blast_furnace[blast_furnace_signal].isnull().sum()\n",
    "# print(a)\n",
    "\n",
    "def drop_nan_value(dataframe):\n",
    "    for index,column in enumerate(dataframe):\n",
    "        nan_catcher = dataframe[column].isnull().sum()\n",
    "        if nan_catcher !=0:\n",
    "            dataframe_1 = dataframe[column].replace(0,nan)\n",
    "            dataframe_1 = dataframe.dropna(how='any',axis=0)\n",
    "#             print(column,' has total',nan_catcher, 'nan valu')\n",
    "        else:\n",
    "            dataframe_1 = dataframe\n",
    "#             print(column,' is free from nan value. look it has: ', nan_catcher,' value')\n",
    "            \n",
    "    return dataframe_1\n",
    "\n",
    "multivariate_data_drop_nan = drop_nan_value(dataframe_drop_column_with_same_value)"
   ]
  },
  {
   "cell_type": "code",
   "execution_count": 31,
   "metadata": {},
   "outputs": [
    {
     "data": {
      "text/html": [
       "<div>\n",
       "<style scoped>\n",
       "    .dataframe tbody tr th:only-of-type {\n",
       "        vertical-align: middle;\n",
       "    }\n",
       "\n",
       "    .dataframe tbody tr th {\n",
       "        vertical-align: top;\n",
       "    }\n",
       "\n",
       "    .dataframe thead th {\n",
       "        text-align: right;\n",
       "    }\n",
       "</style>\n",
       "<table border=\"1\" class=\"dataframe\">\n",
       "  <thead>\n",
       "    <tr style=\"text-align: right;\">\n",
       "      <th></th>\n",
       "      <th>dateTime</th>\n",
       "      <th>AEAGHOAWE2A0</th>\n",
       "      <th>AEAGHOAWE2T0</th>\n",
       "      <th>AEAGHOAWE1A0</th>\n",
       "      <th>AEAGHOAWE1T1</th>\n",
       "      <th>AEAGHOAWE1T0</th>\n",
       "      <th>AEAGHOAWE3T0</th>\n",
       "      <th>AEAGHOAWE3A0</th>\n",
       "      <th>AEAGHOAWE3T1</th>\n",
       "      <th>AEAGHOAWE_A2</th>\n",
       "      <th>...</th>\n",
       "      <th>AEWIHOC_MWT0</th>\n",
       "      <th>AEWIHOCM__P0</th>\n",
       "      <th>AEWIHOC___P0</th>\n",
       "      <th>AEWIHOCKZ_V0</th>\n",
       "      <th>AEWIHOCK__V9</th>\n",
       "      <th>AEWIHOCWF_A2</th>\n",
       "      <th>AEWIHOC___T0</th>\n",
       "      <th>AEWIHOCWF_A1</th>\n",
       "      <th>AEWIHOAKVSV0</th>\n",
       "      <th>AEWIHO_T9AV2</th>\n",
       "    </tr>\n",
       "  </thead>\n",
       "  <tbody>\n",
       "    <tr>\n",
       "      <th>0</th>\n",
       "      <td>2019-03-11 03:14:00</td>\n",
       "      <td>21.542766</td>\n",
       "      <td>94.083085</td>\n",
       "      <td>22.656925</td>\n",
       "      <td>82.875638</td>\n",
       "      <td>67.650387</td>\n",
       "      <td>95.811415</td>\n",
       "      <td>11.299942</td>\n",
       "      <td>60.849423</td>\n",
       "      <td>100.000000</td>\n",
       "      <td>...</td>\n",
       "      <td>74.492332</td>\n",
       "      <td>69.603678</td>\n",
       "      <td>69.804147</td>\n",
       "      <td>0.0</td>\n",
       "      <td>59.499933</td>\n",
       "      <td>63.256942</td>\n",
       "      <td>54.447036</td>\n",
       "      <td>9.526666</td>\n",
       "      <td>87.871569</td>\n",
       "      <td>79.178306</td>\n",
       "    </tr>\n",
       "    <tr>\n",
       "      <th>1</th>\n",
       "      <td>2019-03-11 03:15:00</td>\n",
       "      <td>26.431470</td>\n",
       "      <td>94.083085</td>\n",
       "      <td>27.250685</td>\n",
       "      <td>82.875638</td>\n",
       "      <td>67.530966</td>\n",
       "      <td>95.648382</td>\n",
       "      <td>15.316148</td>\n",
       "      <td>60.849423</td>\n",
       "      <td>83.088535</td>\n",
       "      <td>...</td>\n",
       "      <td>74.593003</td>\n",
       "      <td>68.510851</td>\n",
       "      <td>69.756789</td>\n",
       "      <td>0.0</td>\n",
       "      <td>60.545225</td>\n",
       "      <td>63.256942</td>\n",
       "      <td>54.447036</td>\n",
       "      <td>9.535701</td>\n",
       "      <td>87.974291</td>\n",
       "      <td>81.659117</td>\n",
       "    </tr>\n",
       "    <tr>\n",
       "      <th>2</th>\n",
       "      <td>2019-03-11 03:16:00</td>\n",
       "      <td>16.340439</td>\n",
       "      <td>94.083085</td>\n",
       "      <td>9.402699</td>\n",
       "      <td>83.810765</td>\n",
       "      <td>67.501116</td>\n",
       "      <td>95.648382</td>\n",
       "      <td>7.900882</td>\n",
       "      <td>60.384036</td>\n",
       "      <td>95.667996</td>\n",
       "      <td>...</td>\n",
       "      <td>74.695112</td>\n",
       "      <td>69.014328</td>\n",
       "      <td>70.037211</td>\n",
       "      <td>0.0</td>\n",
       "      <td>59.823032</td>\n",
       "      <td>63.256942</td>\n",
       "      <td>54.447036</td>\n",
       "      <td>9.567361</td>\n",
       "      <td>87.964299</td>\n",
       "      <td>86.055430</td>\n",
       "    </tr>\n",
       "    <tr>\n",
       "      <th>3</th>\n",
       "      <td>2019-03-11 03:17:00</td>\n",
       "      <td>25.111296</td>\n",
       "      <td>94.247637</td>\n",
       "      <td>20.460754</td>\n",
       "      <td>84.336621</td>\n",
       "      <td>67.501116</td>\n",
       "      <td>95.648382</td>\n",
       "      <td>8.682349</td>\n",
       "      <td>60.384036</td>\n",
       "      <td>93.447307</td>\n",
       "      <td>...</td>\n",
       "      <td>74.790788</td>\n",
       "      <td>68.573950</td>\n",
       "      <td>69.685747</td>\n",
       "      <td>0.0</td>\n",
       "      <td>60.584968</td>\n",
       "      <td>63.256942</td>\n",
       "      <td>54.447036</td>\n",
       "      <td>9.549974</td>\n",
       "      <td>87.945113</td>\n",
       "      <td>87.113691</td>\n",
       "    </tr>\n",
       "    <tr>\n",
       "      <th>4</th>\n",
       "      <td>2019-03-11 03:18:00</td>\n",
       "      <td>26.183628</td>\n",
       "      <td>94.247637</td>\n",
       "      <td>26.243646</td>\n",
       "      <td>84.862783</td>\n",
       "      <td>67.635740</td>\n",
       "      <td>95.486096</td>\n",
       "      <td>16.656556</td>\n",
       "      <td>60.384036</td>\n",
       "      <td>76.483634</td>\n",
       "      <td>...</td>\n",
       "      <td>74.825060</td>\n",
       "      <td>68.168040</td>\n",
       "      <td>69.472622</td>\n",
       "      <td>0.0</td>\n",
       "      <td>60.862261</td>\n",
       "      <td>63.256942</td>\n",
       "      <td>54.447036</td>\n",
       "      <td>9.478994</td>\n",
       "      <td>87.950310</td>\n",
       "      <td>87.266264</td>\n",
       "    </tr>\n",
       "  </tbody>\n",
       "</table>\n",
       "<p>5 rows × 1899 columns</p>\n",
       "</div>"
      ],
      "text/plain": [
       "             dateTime  AEAGHOAWE2A0  AEAGHOAWE2T0  AEAGHOAWE1A0  AEAGHOAWE1T1  \\\n",
       "0 2019-03-11 03:14:00     21.542766     94.083085     22.656925     82.875638   \n",
       "1 2019-03-11 03:15:00     26.431470     94.083085     27.250685     82.875638   \n",
       "2 2019-03-11 03:16:00     16.340439     94.083085      9.402699     83.810765   \n",
       "3 2019-03-11 03:17:00     25.111296     94.247637     20.460754     84.336621   \n",
       "4 2019-03-11 03:18:00     26.183628     94.247637     26.243646     84.862783   \n",
       "\n",
       "   AEAGHOAWE1T0  AEAGHOAWE3T0  AEAGHOAWE3A0  AEAGHOAWE3T1  AEAGHOAWE_A2  ...  \\\n",
       "0     67.650387     95.811415     11.299942     60.849423    100.000000  ...   \n",
       "1     67.530966     95.648382     15.316148     60.849423     83.088535  ...   \n",
       "2     67.501116     95.648382      7.900882     60.384036     95.667996  ...   \n",
       "3     67.501116     95.648382      8.682349     60.384036     93.447307  ...   \n",
       "4     67.635740     95.486096     16.656556     60.384036     76.483634  ...   \n",
       "\n",
       "   AEWIHOC_MWT0  AEWIHOCM__P0  AEWIHOC___P0  AEWIHOCKZ_V0  AEWIHOCK__V9  \\\n",
       "0     74.492332     69.603678     69.804147           0.0     59.499933   \n",
       "1     74.593003     68.510851     69.756789           0.0     60.545225   \n",
       "2     74.695112     69.014328     70.037211           0.0     59.823032   \n",
       "3     74.790788     68.573950     69.685747           0.0     60.584968   \n",
       "4     74.825060     68.168040     69.472622           0.0     60.862261   \n",
       "\n",
       "   AEWIHOCWF_A2  AEWIHOC___T0  AEWIHOCWF_A1  AEWIHOAKVSV0  AEWIHO_T9AV2  \n",
       "0     63.256942     54.447036      9.526666     87.871569     79.178306  \n",
       "1     63.256942     54.447036      9.535701     87.974291     81.659117  \n",
       "2     63.256942     54.447036      9.567361     87.964299     86.055430  \n",
       "3     63.256942     54.447036      9.549974     87.945113     87.113691  \n",
       "4     63.256942     54.447036      9.478994     87.950310     87.266264  \n",
       "\n",
       "[5 rows x 1899 columns]"
      ]
     },
     "execution_count": 31,
     "metadata": {},
     "output_type": "execute_result"
    }
   ],
   "source": [
    "multivariate_data_drop_nan.head()"
   ]
  },
  {
   "cell_type": "code",
   "execution_count": 32,
   "metadata": {
    "scrolled": true
   },
   "outputs": [],
   "source": [
    "def drop_row(dataframe):\n",
    "    \n",
    "    for i in dataframe:\n",
    "#         print(i)\n",
    "        dataframe_drop_row_consecutive_same_value = dataframe.loc[dataframe[i].shift() != dataframe[i]]\n",
    "    \n",
    "    return dataframe_drop_row_consecutive_same_value\n",
    "\n",
    "dataframe_drop_row_consecutive_same_value = drop_row(multivariate_data_drop_nan)"
   ]
  },
  {
   "cell_type": "code",
   "execution_count": 33,
   "metadata": {},
   "outputs": [],
   "source": [
    "def drop_string_column(dataframe):\n",
    "    drop_object = dataframe.select_dtypes(exclude=['object'])\n",
    "    \n",
    "    return drop_object\n",
    "\n",
    "dataframe_no_string = drop_string_column(dataframe_drop_row_consecutive_same_value)"
   ]
  },
  {
   "cell_type": "code",
   "execution_count": 34,
   "metadata": {},
   "outputs": [
    {
     "name": "stdout",
     "output_type": "stream",
     "text": [
      "(24130, 1899)\n",
      "(24108, 1899)\n",
      "(24108, 1899)\n"
     ]
    }
   ],
   "source": [
    "print(multivariate_data_drop_nan.shape)\n",
    "print(dataframe_drop_row_consecutive_same_value.shape)\n",
    "print(dataframe_no_string.shape)"
   ]
  },
  {
   "cell_type": "markdown",
   "metadata": {},
   "source": [
    "# All data cleaning process has done. Now feature selection process will come. Before doing this just make a copy of dataframe and set the index as dateTime"
   ]
  },
  {
   "cell_type": "code",
   "execution_count": 35,
   "metadata": {},
   "outputs": [],
   "source": [
    "dataframe_copy = dataframe_no_string.copy()"
   ]
  },
  {
   "cell_type": "code",
   "execution_count": 36,
   "metadata": {},
   "outputs": [],
   "source": [
    "dataframe_datetime = dataframe_copy.set_index('dateTime')"
   ]
  },
  {
   "cell_type": "code",
   "execution_count": 37,
   "metadata": {},
   "outputs": [
    {
     "name": "stdout",
     "output_type": "stream",
     "text": [
      "(24108, 1899)\n",
      "(24108, 1898)\n"
     ]
    }
   ],
   "source": [
    "print(dataframe_copy.shape)\n",
    "print(dataframe_datetime.shape)"
   ]
  },
  {
   "cell_type": "markdown",
   "metadata": {},
   "source": [
    "# Sklearn feature selection function"
   ]
  },
  {
   "cell_type": "code",
   "execution_count": 38,
   "metadata": {},
   "outputs": [
    {
     "data": {
      "text/html": [
       "<div>\n",
       "<style scoped>\n",
       "    .dataframe tbody tr th:only-of-type {\n",
       "        vertical-align: middle;\n",
       "    }\n",
       "\n",
       "    .dataframe tbody tr th {\n",
       "        vertical-align: top;\n",
       "    }\n",
       "\n",
       "    .dataframe thead th {\n",
       "        text-align: right;\n",
       "    }\n",
       "</style>\n",
       "<table border=\"1\" class=\"dataframe\">\n",
       "  <thead>\n",
       "    <tr style=\"text-align: right;\">\n",
       "      <th></th>\n",
       "      <th>DEHGF_CHYPI2</th>\n",
       "      <th>DEHGF_C_ZGI2</th>\n",
       "      <th>DEKOSW_USCI0</th>\n",
       "      <th>AEWIHOBKF_V0</th>\n",
       "      <th>DEKDHO_T7_A0</th>\n",
       "      <th>AEWIHO_T9AV2</th>\n",
       "    </tr>\n",
       "    <tr>\n",
       "      <th>dateTime</th>\n",
       "      <th></th>\n",
       "      <th></th>\n",
       "      <th></th>\n",
       "      <th></th>\n",
       "      <th></th>\n",
       "      <th></th>\n",
       "    </tr>\n",
       "  </thead>\n",
       "  <tbody>\n",
       "    <tr>\n",
       "      <th>2019-03-11 03:14:00</th>\n",
       "      <td>0.0</td>\n",
       "      <td>0.0</td>\n",
       "      <td>0.0</td>\n",
       "      <td>0.000000</td>\n",
       "      <td>0.0</td>\n",
       "      <td>79.178306</td>\n",
       "    </tr>\n",
       "    <tr>\n",
       "      <th>2019-03-11 03:15:00</th>\n",
       "      <td>0.0</td>\n",
       "      <td>0.0</td>\n",
       "      <td>0.0</td>\n",
       "      <td>0.000000</td>\n",
       "      <td>0.0</td>\n",
       "      <td>81.659117</td>\n",
       "    </tr>\n",
       "    <tr>\n",
       "      <th>2019-03-11 03:16:00</th>\n",
       "      <td>0.0</td>\n",
       "      <td>0.0</td>\n",
       "      <td>0.0</td>\n",
       "      <td>63.681313</td>\n",
       "      <td>0.0</td>\n",
       "      <td>86.055430</td>\n",
       "    </tr>\n",
       "    <tr>\n",
       "      <th>2019-03-11 03:17:00</th>\n",
       "      <td>0.0</td>\n",
       "      <td>0.0</td>\n",
       "      <td>0.0</td>\n",
       "      <td>63.681313</td>\n",
       "      <td>0.0</td>\n",
       "      <td>87.113691</td>\n",
       "    </tr>\n",
       "    <tr>\n",
       "      <th>2019-03-11 03:18:00</th>\n",
       "      <td>0.0</td>\n",
       "      <td>0.0</td>\n",
       "      <td>0.0</td>\n",
       "      <td>76.279499</td>\n",
       "      <td>0.0</td>\n",
       "      <td>87.266264</td>\n",
       "    </tr>\n",
       "  </tbody>\n",
       "</table>\n",
       "</div>"
      ],
      "text/plain": [
       "                     DEHGF_CHYPI2  DEHGF_C_ZGI2  DEKOSW_USCI0  AEWIHOBKF_V0  \\\n",
       "dateTime                                                                      \n",
       "2019-03-11 03:14:00           0.0           0.0           0.0      0.000000   \n",
       "2019-03-11 03:15:00           0.0           0.0           0.0      0.000000   \n",
       "2019-03-11 03:16:00           0.0           0.0           0.0     63.681313   \n",
       "2019-03-11 03:17:00           0.0           0.0           0.0     63.681313   \n",
       "2019-03-11 03:18:00           0.0           0.0           0.0     76.279499   \n",
       "\n",
       "                     DEKDHO_T7_A0  AEWIHO_T9AV2  \n",
       "dateTime                                         \n",
       "2019-03-11 03:14:00           0.0     79.178306  \n",
       "2019-03-11 03:15:00           0.0     81.659117  \n",
       "2019-03-11 03:16:00           0.0     86.055430  \n",
       "2019-03-11 03:17:00           0.0     87.113691  \n",
       "2019-03-11 03:18:00           0.0     87.266264  "
      ]
     },
     "execution_count": 38,
     "metadata": {},
     "output_type": "execute_result"
    }
   ],
   "source": [
    "def feature_selection_with_selectKbest(dataframe,max_best_number):\n",
    "    train_input = dataframe.iloc[:,:-1]\n",
    "    train_output = dataframe.iloc[:,-1]\n",
    "    train_output = train_output.to_frame()\n",
    "#     train_output = pd.DataFrame(train_output)\n",
    "    \n",
    "    X, y = train_input, train_output\n",
    "    X = X.astype(int)\n",
    "    y = y.astype(int)\n",
    "    \n",
    "    bestfeatures = SelectKBest(score_func=chi2, k=2)\n",
    "    fit = bestfeatures.fit(X,y)\n",
    "    dfscores = pd.DataFrame(fit.scores_)\n",
    "    dfcolumns = pd.DataFrame(X.columns)\n",
    "    \n",
    "    featureScores = pd.concat([dfcolumns,dfscores],axis=1)\n",
    "    featureScores.columns = ['Specs','Score']  #naming the dataframe columns\n",
    "#     print(featureScores.nlargest(20,'Score'))  #print 10 best features\n",
    "    d = featureScores.nlargest(max_best_number,'Score')\n",
    "    \n",
    "    e = []\n",
    "    for i,v in enumerate(d['Specs']):\n",
    "        e = np.append(e,v)\n",
    "    \n",
    "    e = np.append(e,dataframe.columns[-1])\n",
    "    final_dataframe = dataframe.iloc[:][e]\n",
    "    \n",
    "    return final_dataframe\n",
    "max_best_number = 5\n",
    "sklearn_feature_best_dataframe = feature_selection_with_selectKbest(dataframe_datetime,max_best_number)\n",
    "sklearn_feature_best_dataframe.head()"
   ]
  },
  {
   "cell_type": "code",
   "execution_count": 39,
   "metadata": {
    "scrolled": true
   },
   "outputs": [
    {
     "name": "stdout",
     "output_type": "stream",
     "text": [
      "(24108, 1898)\n",
      "(24108, 6)\n"
     ]
    }
   ],
   "source": [
    "print(dataframe_datetime.shape)\n",
    "print(sklearn_feature_best_dataframe.shape)"
   ]
  },
  {
   "cell_type": "code",
   "execution_count": 40,
   "metadata": {},
   "outputs": [],
   "source": [
    "# dataframe_datetime['DEHGF_CHYPI2']"
   ]
  },
  {
   "cell_type": "markdown",
   "metadata": {},
   "source": [
    "# feature selection with correlation"
   ]
  },
  {
   "cell_type": "code",
   "execution_count": 41,
   "metadata": {},
   "outputs": [
    {
     "name": "stdout",
     "output_type": "stream",
     "text": [
      "(6, 6)\n",
      "(1898, 1898)\n"
     ]
    }
   ],
   "source": [
    "# find correlated matrix for dataframe which came from sklearn feature selection and the datafarem which has passed\n",
    "# to sklearn feature selection function\n",
    "\n",
    "def pearson_correlation(sklearn_dataframe, main_dataframe):\n",
    "    sklearn_correlation = sklearn_dataframe.corr()\n",
    "    main_correlation = main_dataframe.corr()\n",
    "    return sklearn_correlation, main_correlation\n",
    "\n",
    "sklearn_correlation, main_correlation = pearson_correlation(sklearn_feature_best_dataframe, dataframe_datetime)\n",
    "print(sklearn_correlation.shape)\n",
    "print(main_correlation.shape)"
   ]
  },
  {
   "cell_type": "markdown",
   "metadata": {},
   "source": [
    "# use the correlation matrix to make the new dataframe where the feature will be the column who has a correlation value with the target in a given range. "
   ]
  },
  {
   "cell_type": "code",
   "execution_count": 42,
   "metadata": {
    "scrolled": true
   },
   "outputs": [
    {
     "name": "stdout",
     "output_type": "stream",
     "text": [
      "dataframe_high_correlation shape:  (24108, 9)\n",
      "dataframe_datetime shape:  (24108, 1898)\n",
      "correlated_frame shape:  (1898, 1898)\n"
     ]
    }
   ],
   "source": [
    "# function to make dataframe with high correlated valued column\n",
    "def make_dataframe_with_high_correlated_value(main_dataframe,correlated_dataframe,\n",
    "                                              correlation_threshold_value,max_value):\n",
    "    \n",
    "    target_column = main_dataframe.columns[-1]\n",
    "    \n",
    "    dataframe = correlated_dataframe.reset_index()\n",
    "    \n",
    "    high_correlated_array_with_target = []\n",
    "    for index_corr_reset, val_corr_reset in enumerate(dataframe[target_column]):\n",
    "        if val_corr_reset > correlation_threshold_value and val_corr_reset < max_value:\n",
    "            required_column = dataframe.loc[index_corr_reset]['index']\n",
    "            if required_column != target_column:\n",
    "                high_correlated_array_with_target = np.append(high_correlated_array_with_target,required_column)\n",
    "            else:\n",
    "                print(required_column)\n",
    "                pass\n",
    "            \n",
    "    final_array = np.append(high_correlated_array_with_target,target_column)\n",
    "    new_dataframe = main_dataframe.iloc[:][final_array]\n",
    "    \n",
    "    return new_dataframe\n",
    "\n",
    "correlation_threshold_value = 0.5\n",
    "max_value = 0.9\n",
    "# target_column = dataframe_datetime.columns[-1] # here declaring who is target column.\n",
    "\n",
    "\n",
    "main_frame = dataframe_datetime\n",
    "correlated_frame = main_correlation\n",
    "\n",
    "# main_frame = sklearn_feature_best_dataframe\n",
    "# correlated_frame = sklearn_correlation\n",
    "\n",
    "dataframe_high_correlation = make_dataframe_with_high_correlated_value(main_frame,correlated_frame,\n",
    "                                                             correlation_threshold_value,max_value)\n",
    "\n",
    "print('dataframe_high_correlation shape: ', dataframe_high_correlation.shape)\n",
    "print('dataframe_datetime shape: ', dataframe_datetime.shape)\n",
    "print('correlated_frame shape: ', correlated_frame.shape)"
   ]
  },
  {
   "cell_type": "code",
   "execution_count": 43,
   "metadata": {},
   "outputs": [
    {
     "data": {
      "text/html": [
       "<div>\n",
       "<style scoped>\n",
       "    .dataframe tbody tr th:only-of-type {\n",
       "        vertical-align: middle;\n",
       "    }\n",
       "\n",
       "    .dataframe tbody tr th {\n",
       "        vertical-align: top;\n",
       "    }\n",
       "\n",
       "    .dataframe thead th {\n",
       "        text-align: right;\n",
       "    }\n",
       "</style>\n",
       "<table border=\"1\" class=\"dataframe\">\n",
       "  <thead>\n",
       "    <tr style=\"text-align: right;\">\n",
       "      <th></th>\n",
       "      <th>AEDAHO_T9_V2</th>\n",
       "      <th>AEWIGHG9_AG1</th>\n",
       "      <th>AEWIGHG9_AG2</th>\n",
       "      <th>AEWIGHG9_AG3</th>\n",
       "      <th>AEWIGHG9__T0</th>\n",
       "      <th>AEWIHOBM__P0</th>\n",
       "      <th>AEWIHOBKF_V0</th>\n",
       "      <th>AEWIHOBK__T0</th>\n",
       "      <th>AEWIHO_T9AV2</th>\n",
       "    </tr>\n",
       "  </thead>\n",
       "  <tbody>\n",
       "    <tr>\n",
       "      <th>AEDAHO_T9_V2</th>\n",
       "      <td>1.000000</td>\n",
       "      <td>0.587158</td>\n",
       "      <td>0.586734</td>\n",
       "      <td>0.586513</td>\n",
       "      <td>0.732714</td>\n",
       "      <td>0.710722</td>\n",
       "      <td>0.215214</td>\n",
       "      <td>0.719719</td>\n",
       "      <td>0.717061</td>\n",
       "    </tr>\n",
       "    <tr>\n",
       "      <th>AEWIGHG9_AG1</th>\n",
       "      <td>0.587158</td>\n",
       "      <td>1.000000</td>\n",
       "      <td>0.999986</td>\n",
       "      <td>0.999979</td>\n",
       "      <td>0.650110</td>\n",
       "      <td>0.718625</td>\n",
       "      <td>0.053493</td>\n",
       "      <td>0.718101</td>\n",
       "      <td>0.556689</td>\n",
       "    </tr>\n",
       "    <tr>\n",
       "      <th>AEWIGHG9_AG2</th>\n",
       "      <td>0.586734</td>\n",
       "      <td>0.999986</td>\n",
       "      <td>1.000000</td>\n",
       "      <td>0.999981</td>\n",
       "      <td>0.650141</td>\n",
       "      <td>0.718833</td>\n",
       "      <td>0.053475</td>\n",
       "      <td>0.718126</td>\n",
       "      <td>0.555805</td>\n",
       "    </tr>\n",
       "    <tr>\n",
       "      <th>AEWIGHG9_AG3</th>\n",
       "      <td>0.586513</td>\n",
       "      <td>0.999979</td>\n",
       "      <td>0.999981</td>\n",
       "      <td>1.000000</td>\n",
       "      <td>0.649925</td>\n",
       "      <td>0.717283</td>\n",
       "      <td>0.053215</td>\n",
       "      <td>0.717700</td>\n",
       "      <td>0.556671</td>\n",
       "    </tr>\n",
       "    <tr>\n",
       "      <th>AEWIGHG9__T0</th>\n",
       "      <td>0.732714</td>\n",
       "      <td>0.650110</td>\n",
       "      <td>0.650141</td>\n",
       "      <td>0.649925</td>\n",
       "      <td>1.000000</td>\n",
       "      <td>0.841252</td>\n",
       "      <td>0.104317</td>\n",
       "      <td>0.953835</td>\n",
       "      <td>0.624486</td>\n",
       "    </tr>\n",
       "    <tr>\n",
       "      <th>AEWIHOBM__P0</th>\n",
       "      <td>0.710722</td>\n",
       "      <td>0.718625</td>\n",
       "      <td>0.718833</td>\n",
       "      <td>0.717283</td>\n",
       "      <td>0.841252</td>\n",
       "      <td>1.000000</td>\n",
       "      <td>0.068549</td>\n",
       "      <td>0.906799</td>\n",
       "      <td>0.512211</td>\n",
       "    </tr>\n",
       "    <tr>\n",
       "      <th>AEWIHOBKF_V0</th>\n",
       "      <td>0.215214</td>\n",
       "      <td>0.053493</td>\n",
       "      <td>0.053475</td>\n",
       "      <td>0.053215</td>\n",
       "      <td>0.104317</td>\n",
       "      <td>0.068549</td>\n",
       "      <td>1.000000</td>\n",
       "      <td>0.073148</td>\n",
       "      <td>0.586205</td>\n",
       "    </tr>\n",
       "    <tr>\n",
       "      <th>AEWIHOBK__T0</th>\n",
       "      <td>0.719719</td>\n",
       "      <td>0.718101</td>\n",
       "      <td>0.718126</td>\n",
       "      <td>0.717700</td>\n",
       "      <td>0.953835</td>\n",
       "      <td>0.906799</td>\n",
       "      <td>0.073148</td>\n",
       "      <td>1.000000</td>\n",
       "      <td>0.603874</td>\n",
       "    </tr>\n",
       "    <tr>\n",
       "      <th>AEWIHO_T9AV2</th>\n",
       "      <td>0.717061</td>\n",
       "      <td>0.556689</td>\n",
       "      <td>0.555805</td>\n",
       "      <td>0.556671</td>\n",
       "      <td>0.624486</td>\n",
       "      <td>0.512211</td>\n",
       "      <td>0.586205</td>\n",
       "      <td>0.603874</td>\n",
       "      <td>1.000000</td>\n",
       "    </tr>\n",
       "  </tbody>\n",
       "</table>\n",
       "</div>"
      ],
      "text/plain": [
       "              AEDAHO_T9_V2  AEWIGHG9_AG1  AEWIGHG9_AG2  AEWIGHG9_AG3  \\\n",
       "AEDAHO_T9_V2      1.000000      0.587158      0.586734      0.586513   \n",
       "AEWIGHG9_AG1      0.587158      1.000000      0.999986      0.999979   \n",
       "AEWIGHG9_AG2      0.586734      0.999986      1.000000      0.999981   \n",
       "AEWIGHG9_AG3      0.586513      0.999979      0.999981      1.000000   \n",
       "AEWIGHG9__T0      0.732714      0.650110      0.650141      0.649925   \n",
       "AEWIHOBM__P0      0.710722      0.718625      0.718833      0.717283   \n",
       "AEWIHOBKF_V0      0.215214      0.053493      0.053475      0.053215   \n",
       "AEWIHOBK__T0      0.719719      0.718101      0.718126      0.717700   \n",
       "AEWIHO_T9AV2      0.717061      0.556689      0.555805      0.556671   \n",
       "\n",
       "              AEWIGHG9__T0  AEWIHOBM__P0  AEWIHOBKF_V0  AEWIHOBK__T0  \\\n",
       "AEDAHO_T9_V2      0.732714      0.710722      0.215214      0.719719   \n",
       "AEWIGHG9_AG1      0.650110      0.718625      0.053493      0.718101   \n",
       "AEWIGHG9_AG2      0.650141      0.718833      0.053475      0.718126   \n",
       "AEWIGHG9_AG3      0.649925      0.717283      0.053215      0.717700   \n",
       "AEWIGHG9__T0      1.000000      0.841252      0.104317      0.953835   \n",
       "AEWIHOBM__P0      0.841252      1.000000      0.068549      0.906799   \n",
       "AEWIHOBKF_V0      0.104317      0.068549      1.000000      0.073148   \n",
       "AEWIHOBK__T0      0.953835      0.906799      0.073148      1.000000   \n",
       "AEWIHO_T9AV2      0.624486      0.512211      0.586205      0.603874   \n",
       "\n",
       "              AEWIHO_T9AV2  \n",
       "AEDAHO_T9_V2      0.717061  \n",
       "AEWIGHG9_AG1      0.556689  \n",
       "AEWIGHG9_AG2      0.555805  \n",
       "AEWIGHG9_AG3      0.556671  \n",
       "AEWIGHG9__T0      0.624486  \n",
       "AEWIHOBM__P0      0.512211  \n",
       "AEWIHOBKF_V0      0.586205  \n",
       "AEWIHOBK__T0      0.603874  \n",
       "AEWIHO_T9AV2      1.000000  "
      ]
     },
     "execution_count": 43,
     "metadata": {},
     "output_type": "execute_result"
    }
   ],
   "source": [
    "dataframe_high_correlation.corr()"
   ]
  },
  {
   "cell_type": "code",
   "execution_count": 44,
   "metadata": {
    "scrolled": false
   },
   "outputs": [
    {
     "data": {
      "text/html": [
       "<div>\n",
       "<style scoped>\n",
       "    .dataframe tbody tr th:only-of-type {\n",
       "        vertical-align: middle;\n",
       "    }\n",
       "\n",
       "    .dataframe tbody tr th {\n",
       "        vertical-align: top;\n",
       "    }\n",
       "\n",
       "    .dataframe thead th {\n",
       "        text-align: right;\n",
       "    }\n",
       "</style>\n",
       "<table border=\"1\" class=\"dataframe\">\n",
       "  <thead>\n",
       "    <tr style=\"text-align: right;\">\n",
       "      <th></th>\n",
       "      <th>AEDAHO_T9_V2</th>\n",
       "      <th>AEWIGHG9_AG1</th>\n",
       "      <th>AEWIGHG9_AG2</th>\n",
       "      <th>AEWIGHG9_AG3</th>\n",
       "      <th>AEWIGHG9__T0</th>\n",
       "      <th>AEWIHOBM__P0</th>\n",
       "      <th>AEWIHOBKF_V0</th>\n",
       "      <th>AEWIHOBK__T0</th>\n",
       "      <th>AEWIHO_T9AV2</th>\n",
       "    </tr>\n",
       "    <tr>\n",
       "      <th>dateTime</th>\n",
       "      <th></th>\n",
       "      <th></th>\n",
       "      <th></th>\n",
       "      <th></th>\n",
       "      <th></th>\n",
       "      <th></th>\n",
       "      <th></th>\n",
       "      <th></th>\n",
       "      <th></th>\n",
       "    </tr>\n",
       "  </thead>\n",
       "  <tbody>\n",
       "    <tr>\n",
       "      <th>2019-03-11 03:14:00</th>\n",
       "      <td>83.327361</td>\n",
       "      <td>97.229202</td>\n",
       "      <td>97.224403</td>\n",
       "      <td>96.777397</td>\n",
       "      <td>92.719615</td>\n",
       "      <td>88.893151</td>\n",
       "      <td>0.000000</td>\n",
       "      <td>90.434380</td>\n",
       "      <td>79.178306</td>\n",
       "    </tr>\n",
       "    <tr>\n",
       "      <th>2019-03-11 03:15:00</th>\n",
       "      <td>84.314814</td>\n",
       "      <td>97.566803</td>\n",
       "      <td>97.566803</td>\n",
       "      <td>97.113998</td>\n",
       "      <td>92.530794</td>\n",
       "      <td>88.893151</td>\n",
       "      <td>0.000000</td>\n",
       "      <td>90.434380</td>\n",
       "      <td>81.659117</td>\n",
       "    </tr>\n",
       "    <tr>\n",
       "      <th>2019-03-11 03:16:00</th>\n",
       "      <td>84.380943</td>\n",
       "      <td>97.566803</td>\n",
       "      <td>97.571602</td>\n",
       "      <td>97.108704</td>\n",
       "      <td>92.426648</td>\n",
       "      <td>86.467066</td>\n",
       "      <td>63.681313</td>\n",
       "      <td>89.978692</td>\n",
       "      <td>86.055430</td>\n",
       "    </tr>\n",
       "    <tr>\n",
       "      <th>2019-03-11 03:17:00</th>\n",
       "      <td>83.279853</td>\n",
       "      <td>97.566803</td>\n",
       "      <td>97.582703</td>\n",
       "      <td>97.112000</td>\n",
       "      <td>92.579243</td>\n",
       "      <td>86.467066</td>\n",
       "      <td>63.681313</td>\n",
       "      <td>89.978692</td>\n",
       "      <td>87.113691</td>\n",
       "    </tr>\n",
       "    <tr>\n",
       "      <th>2019-03-11 03:18:00</th>\n",
       "      <td>79.963124</td>\n",
       "      <td>97.563904</td>\n",
       "      <td>97.555199</td>\n",
       "      <td>97.114899</td>\n",
       "      <td>92.628148</td>\n",
       "      <td>86.467066</td>\n",
       "      <td>76.279499</td>\n",
       "      <td>90.044065</td>\n",
       "      <td>87.266264</td>\n",
       "    </tr>\n",
       "  </tbody>\n",
       "</table>\n",
       "</div>"
      ],
      "text/plain": [
       "                     AEDAHO_T9_V2  AEWIGHG9_AG1  AEWIGHG9_AG2  AEWIGHG9_AG3  \\\n",
       "dateTime                                                                      \n",
       "2019-03-11 03:14:00     83.327361     97.229202     97.224403     96.777397   \n",
       "2019-03-11 03:15:00     84.314814     97.566803     97.566803     97.113998   \n",
       "2019-03-11 03:16:00     84.380943     97.566803     97.571602     97.108704   \n",
       "2019-03-11 03:17:00     83.279853     97.566803     97.582703     97.112000   \n",
       "2019-03-11 03:18:00     79.963124     97.563904     97.555199     97.114899   \n",
       "\n",
       "                     AEWIGHG9__T0  AEWIHOBM__P0  AEWIHOBKF_V0  AEWIHOBK__T0  \\\n",
       "dateTime                                                                      \n",
       "2019-03-11 03:14:00     92.719615     88.893151      0.000000     90.434380   \n",
       "2019-03-11 03:15:00     92.530794     88.893151      0.000000     90.434380   \n",
       "2019-03-11 03:16:00     92.426648     86.467066     63.681313     89.978692   \n",
       "2019-03-11 03:17:00     92.579243     86.467066     63.681313     89.978692   \n",
       "2019-03-11 03:18:00     92.628148     86.467066     76.279499     90.044065   \n",
       "\n",
       "                     AEWIHO_T9AV2  \n",
       "dateTime                           \n",
       "2019-03-11 03:14:00     79.178306  \n",
       "2019-03-11 03:15:00     81.659117  \n",
       "2019-03-11 03:16:00     86.055430  \n",
       "2019-03-11 03:17:00     87.113691  \n",
       "2019-03-11 03:18:00     87.266264  "
      ]
     },
     "execution_count": 44,
     "metadata": {},
     "output_type": "execute_result"
    }
   ],
   "source": [
    "dataframe_high_correlation.head()"
   ]
  },
  {
   "cell_type": "code",
   "execution_count": 45,
   "metadata": {
    "scrolled": true
   },
   "outputs": [
    {
     "data": {
      "image/png": "[encoded data removed]",
      "text/plain": [
       "<Figure size 432x288 with 1 Axes>"
      ]
     },
     "metadata": {
      "needs_background": "light"
     },
     "output_type": "display_data"
    },
    {
     "data": {
      "image/png": "[encoded data removed]",
      "text/plain": [
       "<Figure size 432x288 with 1 Axes>"
      ]
     },
     "metadata": {
      "needs_background": "light"
     },
     "output_type": "display_data"
    },
    {
     "data": {
      "image/png": "[encoded data removed]",
      "text/plain": [
       "<Figure size 432x288 with 1 Axes>"
      ]
     },
     "metadata": {
      "needs_background": "light"
     },
     "output_type": "display_data"
    },
    {
     "data": {
      "image/png": "[encoded data removed]",
      "text/plain": [
       "<Figure size 432x288 with 1 Axes>"
      ]
     },
     "metadata": {
      "needs_background": "light"
     },
     "output_type": "display_data"
    },
    {
     "data": {
      "image/png": "[encoded data removed]",
      "text/plain": [
       "<Figure size 432x288 with 1 Axes>"
      ]
     },
     "metadata": {
      "needs_background": "light"
     },
     "output_type": "display_data"
    },
    {
     "data": {
      "image/png": "[encoded data removed]",
      "text/plain": [
       "<Figure size 432x288 with 1 Axes>"
      ]
     },
     "metadata": {
      "needs_background": "light"
     },
     "output_type": "display_data"
    },
    {
     "data": {
      "image/png": "[encoded data removed]",
      "text/plain": [
       "<Figure size 432x288 with 1 Axes>"
      ]
     },
     "metadata": {
      "needs_background": "light"
     },
     "output_type": "display_data"
    },
    {
     "data": {
      "image/png": "[encoded data removed]",
      "text/plain": [
       "<Figure size 432x288 with 1 Axes>"
      ]
     },
     "metadata": {
      "needs_background": "light"
     },
     "output_type": "display_data"
    }
   ],
   "source": [
    "for now_num in range(8):\n",
    "    col_name = dataframe_high_correlation.columns[now_num]\n",
    "    dataframe_high_correlation.iloc[0:100].plot(dataframe_high_correlation.columns[now_num],dataframe_high_correlation.columns[-1])\n",
    "    plt.title('title is '+str(col_name))"
   ]
  },
  {
   "cell_type": "code",
   "execution_count": 52,
   "metadata": {},
   "outputs": [
    {
     "name": "stdout",
     "output_type": "stream",
     "text": [
      "(24108, 9)\n"
     ]
    },
    {
     "data": {
      "text/plain": [
       "8"
      ]
     },
     "execution_count": 52,
     "metadata": {},
     "output_type": "execute_result"
    }
   ],
   "source": [
    "# code for plotting graph between every feature. Partial colinearity checking\n",
    "print(dataframe_high_correlation.shape)\n",
    "feature_array = []\n",
    "for u in dataframe_high_correlation:\n",
    "    if u != dataframe_high_correlation.columns[-1]:\n",
    "        feature_array=np.append(feature_array,u)\n",
    "        \n",
    "len(feature_array)"
   ]
  },
  {
   "cell_type": "code",
   "execution_count": 66,
   "metadata": {},
   "outputs": [
    {
     "name": "stdout",
     "output_type": "stream",
     "text": [
      "count:  0  p:  0 \t q:  1\n",
      "count:  1  p:  0 \t q:  2\n",
      "count:  2  p:  0 \t q:  3\n",
      "count:  3  p:  0 \t q:  4\n",
      "count:  4  p:  0 \t q:  5\n",
      "count:  5  p:  0 \t q:  6\n",
      "count:  6  p:  0 \t q:  7\n",
      "count:  7  p:  1 \t q:  2\n",
      "count:  8  p:  1 \t q:  3\n",
      "count:  9  p:  1 \t q:  4\n",
      "count:  10  p:  1 \t q:  5\n",
      "count:  11  p:  1 \t q:  6\n",
      "count:  12  p:  1 \t q:  7\n",
      "count:  13  p:  2 \t q:  3\n",
      "count:  14  p:  2 \t q:  4\n",
      "count:  15  p:  2 \t q:  5\n",
      "count:  16  p:  2 \t q:  6\n",
      "count:  17  p:  2 \t q:  7\n",
      "count:  18  p:  3 \t q:  4\n",
      "count:  19  p:  3 \t q:  5\n",
      "count:  20  p:  3 \t q:  6\n",
      "count:  21  p:  3 \t q:  7\n",
      "count:  22  p:  4 \t q:  5\n",
      "count:  23  p:  4 \t q:  6\n",
      "count:  24  p:  4 \t q:  7\n",
      "count:  25  p:  5 \t q:  6\n",
      "count:  26  p:  5 \t q:  7\n",
      "count:  27  p:  6 \t q:  7\n"
     ]
    }
   ],
   "source": [
    "p=0\n",
    "q=0\n",
    "r=8\n",
    "count = 0\n",
    "q = p+1\n",
    "for h in range(29):\n",
    "    if p !=r and q!=r:\n",
    "        print('count: ',count,' p: ',p,'\\t q: ',q)\n",
    "        q+=1\n",
    "        count+=1\n",
    "        if q == r:\n",
    "            p+=1\n",
    "            q=p+1\n",
    "            if p == r:\n",
    "                print('finish')\n",
    "    "
   ]
  },
  {
   "cell_type": "code",
   "execution_count": 55,
   "metadata": {
    "scrolled": true
   },
   "outputs": [
    {
     "data": {
      "image/png": "[encoded data removed]",
      "text/plain": [
       "<Figure size 1080x360 with 1 Axes>"
      ]
     },
     "metadata": {
      "needs_background": "light"
     },
     "output_type": "display_data"
    }
   ],
   "source": [
    "dataframe_datetime.iloc[0:].plot(y = dataframe_datetime.columns[-1], use_index=True)\n",
    "plt.rcParams['figure.figsize'] =(15,5)\n"
   ]
  },
  {
   "cell_type": "markdown",
   "metadata": {},
   "source": [
    "# make dataset for training"
   ]
  },
  {
   "cell_type": "code",
   "execution_count": 56,
   "metadata": {},
   "outputs": [
    {
     "name": "stdout",
     "output_type": "stream",
     "text": [
      "Number of Elements for training:  23625\n",
      "dataset length:  24108\n",
      "train_input shape:  (23625, 6)\n",
      "train_output shape:  (23625,)\n",
      "test_input shape:  (483, 6)\n",
      "test_output shape:  (483,)\n"
     ]
    }
   ],
   "source": [
    "def make_dataset(dataframe):\n",
    "    dataset = np.array(dataframe)\n",
    "    NumberOfElements = int(len(dataset) * 0.98)\n",
    "    print('Number of Elements for training: ', NumberOfElements)\n",
    "    print('dataset length: ', len(dataset))\n",
    "\n",
    "    train_input = dataset[0:NumberOfElements, 0:-1]\n",
    "    print('train_input shape: ', train_input.shape)\n",
    "    train_output = dataset[0:NumberOfElements, -1]\n",
    "    print('train_output shape: ', train_output.shape)\n",
    "\n",
    "    test_input = dataset[NumberOfElements:len(dataset), 0:-1]\n",
    "    print('test_input shape: ', test_input.shape)\n",
    "    test_output = dataset[NumberOfElements:len(dataset), -1]\n",
    "    print('test_output shape: ', test_output.shape)\n",
    "\n",
    "    return train_input, train_output, test_input, test_output\n",
    "\n",
    "train_input, train_output, test_input, test_output = make_dataset(dataframe_high_correlation)"
   ]
  },
  {
   "cell_type": "markdown",
   "metadata": {},
   "source": [
    "# training with different scikit learn model"
   ]
  },
  {
   "cell_type": "code",
   "execution_count": 57,
   "metadata": {},
   "outputs": [],
   "source": [
    "from sklearn.linear_model import LinearRegression\n",
    "from sklearn.ensemble import *\n",
    "from sklearn import linear_model\n",
    "\n",
    "\n",
    "from sklearn import linear_model\n",
    "from sklearn.metrics import mean_squared_error, r2_score, mean_absolute_error\n",
    "import math"
   ]
  },
  {
   "cell_type": "code",
   "execution_count": 58,
   "metadata": {},
   "outputs": [],
   "source": [
    "def plot_graph(test_output, predicted_output):\n",
    "    plt.plot((min(test_output),max(test_output)), (min(predicted_output),max(predicted_output)), color='red')\n",
    "    plt.scatter(test_output,predicted_output, color = 'blue')\n",
    "    # plt.savefig(model+'_'+'figure_actual_vs_predicted_with_best_fit_line.jpg')\n",
    "    plt.xlabel('test_output')\n",
    "    plt.ylabel('predicted_output')\n",
    "    plt.title('scatter plotting of predicted_output alongside with the average line of test and predicted output')\n",
    "    plt.show()\n",
    "    \n",
    "    \n",
    "    difference_of_value = predicted_output - test_output\n",
    "    print(type(difference_of_value))\n",
    "\n",
    "    plt.plot(difference_of_value[:])\n",
    "    plt.title('observation of the difference of actual and predicted value')\n",
    "\n",
    "# plt.rcParams['xtick.labelsize']=2\n",
    "# plt.rcParams['ytick.labelsize']=2\n",
    "# plt.tick_params(labelsize=20)\n",
    "    plt.ylabel('difference of value')\n",
    "    plt.xlabel('range')\n",
    "    plt.grid(b=None, which='both', axis='both')\n",
    "# plt.savefig(model+'_'+'difference_of_actual_and_predicted_value.png')\n",
    "    plt.show()\n",
    "    \n",
    "    \n",
    "    plt.hist(difference_of_value, bins=15)\n",
    "# plt.xlim(-10,10,1)\n",
    "# plt.savefig(model+'_'+'histogram_of_difference_value.jpg')\n",
    "    plt.xlabel('value')\n",
    "    plt.ylabel('frequency')\n",
    "    plt.title('histogram of value of difference')\n",
    "    plt.show()\n",
    "    \n",
    "    plt.plot(predicted_output[0:len(predicted_output[0:300])], color = 'blue')\n",
    "    plt.plot(test_output[0:300], color = 'red')\n",
    "# plt.xlim(0,40,1)\n",
    "# plt.ylim(50,70,1)\n",
    "# plt.savefig(model+'_'+'figure_difference_between_actual_and_predicted_value.jpg')\n",
    "    plt.xlabel('range')\n",
    "    plt.ylabel('value of test and predicted output')\n",
    "    plt.title('Visualization of test and predicted output in the same timestamp')\n",
    "    plt.show()"
   ]
  },
  {
   "cell_type": "code",
   "execution_count": 59,
   "metadata": {},
   "outputs": [],
   "source": [
    "def scikit_learn_model(model_list, name, train_input,train_output, test_input, test_output):\n",
    "    for idx, i in enumerate(model_list):\n",
    "        train_model_1 = i\n",
    "        print('-------', name[idx])\n",
    "        train_model_1.fit(train_input, train_output)\n",
    "        predicted_output = train_model_1.predict(test_input)\n",
    "        \n",
    "        graph = plot_graph(test_output,predicted_output)\n",
    "        \n",
    "        print('r_2 statistic: %.2f' % r2_score(test_output, predicted_output))\n",
    "        print(\"Mean_absolute_error: %.2f\" % mean_absolute_error(test_output, predicted_output))\n",
    "        print(\"Mean squared error: %.2f\" % mean_squared_error(test_output, predicted_output))\n",
    "        RMSE = math.sqrt(mean_squared_error(test_output, predicted_output))\n",
    "        print('RMSE: ', RMSE)\n",
    "        print('!!!!---------------!!!!----------------!!!!')"
   ]
  },
  {
   "cell_type": "code",
   "execution_count": 60,
   "metadata": {
    "scrolled": false
   },
   "outputs": [
    {
     "name": "stdout",
     "output_type": "stream",
     "text": [
      "------- LinearRegression\n"
     ]
    },
    {
     "data": {
      "image/png": "[encoded data removed]",
      "text/plain": [
       "<Figure size 1080x360 with 1 Axes>"
      ]
     },
     "metadata": {
      "needs_background": "light"
     },
     "output_type": "display_data"
    },
    {
     "name": "stdout",
     "output_type": "stream",
     "text": [
      "<class 'numpy.ndarray'>\n"
     ]
    },
    {
     "data": {
      "image/png": "[encoded data removed]",
      "text/plain": [
       "<Figure size 1080x360 with 1 Axes>"
      ]
     },
     "metadata": {
      "needs_background": "light"
     },
     "output_type": "display_data"
    },
    {
     "data": {
      "image/png": "[encoded data removed]",
      "text/plain": [
       "<Figure size 1080x360 with 1 Axes>"
      ]
     },
     "metadata": {
      "needs_background": "light"
     },
     "output_type": "display_data"
    },
    {
     "data": {
      "image/png": "[encoded data removed]",
      "text/plain": [
       "<Figure size 1080x360 with 1 Axes>"
      ]
     },
     "metadata": {
      "needs_background": "light"
     },
     "output_type": "display_data"
    },
    {
     "name": "stdout",
     "output_type": "stream",
     "text": [
      "r_2 statistic: -0.47\n",
      "Mean_absolute_error: 2.37\n",
      "Mean squared error: 18.40\n",
      "RMSE:  4.288955439133746\n",
      "!!!!---------------!!!!----------------!!!!\n",
      "------- ExtraTreesRegressor\n"
     ]
    },
    {
     "name": "stderr",
     "output_type": "stream",
     "text": [
      "/home/atif/iai_ml_venv/lib/python3.6/site-packages/sklearn/ensemble/forest.py:245: FutureWarning: The default value of n_estimators will change from 10 in version 0.20 to 100 in 0.22.\n",
      "  \"10 in version 0.20 to 100 in 0.22.\", FutureWarning)\n"
     ]
    },
    {
     "data": {
      "image/png": "[encoded data removed]",
      "text/plain": [
       "<Figure size 1080x360 with 1 Axes>"
      ]
     },
     "metadata": {
      "needs_background": "light"
     },
     "output_type": "display_data"
    },
    {
     "name": "stdout",
     "output_type": "stream",
     "text": [
      "<class 'numpy.ndarray'>\n"
     ]
    },
    {
     "data": {
      "image/png": "[encoded data removed]",
      "text/plain": [
       "<Figure size 1080x360 with 1 Axes>"
      ]
     },
     "metadata": {
      "needs_background": "light"
     },
     "output_type": "display_data"
    },
    {
     "data": {
      "image/png": "[encoded data removed]",
      "text/plain": [
       "<Figure size 1080x360 with 1 Axes>"
      ]
     },
     "metadata": {
      "needs_background": "light"
     },
     "output_type": "display_data"
    },
    {
     "data": {
      "image/png": "[encoded data removed]",
      "text/plain": [
       "<Figure size 1080x360 with 1 Axes>"
      ]
     },
     "metadata": {
      "needs_background": "light"
     },
     "output_type": "display_data"
    },
    {
     "name": "stdout",
     "output_type": "stream",
     "text": [
      "r_2 statistic: 0.26\n",
      "Mean_absolute_error: 1.82\n",
      "Mean squared error: 9.31\n",
      "RMSE:  3.0519566997253476\n",
      "!!!!---------------!!!!----------------!!!!\n"
     ]
    }
   ],
   "source": [
    "model_list = [LinearRegression(), ExtraTreesRegressor()]\n",
    "name = ['LinearRegression','ExtraTreesRegressor']\n",
    "\n",
    "model_result = scikit_learn_model(model_list, name, train_input, train_output, test_input, test_output)"
   ]
  },
  {
   "cell_type": "code",
   "execution_count": null,
   "metadata": {},
   "outputs": [],
   "source": []
  },
  {
   "cell_type": "code",
   "execution_count": null,
   "metadata": {},
   "outputs": [],
   "source": []
  },
  {
   "cell_type": "code",
   "execution_count": null,
   "metadata": {},
   "outputs": [],
   "source": []
  },
  {
   "cell_type": "markdown",
   "metadata": {},
   "source": [
    "# Now dataframe for weekday, weekend, daywise, shiftwise will be made"
   ]
  },
  {
   "cell_type": "code",
   "execution_count": 58,
   "metadata": {},
   "outputs": [],
   "source": [
    "# # checking type of the contect of the column\n",
    "# s = df2['dateTime_column'].dtype\n",
    "# print(s)\n",
    "\n",
    "# # checking column type\n",
    "# t = df2.dateTime_column\n",
    "# print(type(t))"
   ]
  },
  {
   "cell_type": "code",
   "execution_count": 32,
   "metadata": {},
   "outputs": [],
   "source": [
    "def dataframe_date_time_type(dataframe):\n",
    "    df = pd.DataFrame(index = dataframe.index)\n",
    "    target_df = dataframe.loc[:,dataframe.columns[-1]]\n",
    "    df['dateTime_column'] =  pd.to_datetime(dataframe.index, format='%Y-%m-%d %H:%M')\n",
    "    df['day_name'] = df.index.weekday_name\n",
    "    df['TypeofDAY'] = np.where(df['dateTime_column'].dt.dayofweek < 5, 'Weekday', 'Weekend') # if the associated number less than 5 then weekend, otherwise weekday\n",
    "    df['TypeofDAY_number'] = np.where(df['dateTime_column'].dt.dayofweek < 5, 1, 0) # 1 for weekday, 0 for weekend\n",
    "    df['Date'] = df['dateTime_column'].dt.strftime('%Y-%m-%d')\n",
    "    \n",
    "    df = pd.concat([df, target_df], axis=1)\n",
    "    \n",
    "    return df\n",
    "\n",
    "df = dataframe_date_time_type(dataframe_datetime)"
   ]
  },
  {
   "cell_type": "code",
   "execution_count": 33,
   "metadata": {},
   "outputs": [],
   "source": [
    "dict_of_dates = {k: v for k, v in df.groupby('Date')}\n",
    "dict_of_day_type = {k:v for k,v in df.groupby('TypeofDAY')}\n",
    "dict_of_day_name = {k:v for k,v in df.groupby('day_name')}\n",
    "\n",
    "\n",
    "date_key_value = collections.OrderedDict(dict_of_dates)\n",
    "day_type_key_value = collections.OrderedDict(dict_of_day_type)\n",
    "day_name_key_value = collections.OrderedDict(dict_of_day_name)"
   ]
  },
  {
   "cell_type": "code",
   "execution_count": 55,
   "metadata": {},
   "outputs": [],
   "source": [
    "# for k_1 in day_type_key_value:\n",
    "#     print(k_1)\n",
    "#     my_week = dict_of_day_type[k_1]\n",
    "#     my_week.iloc[:].plot(y=['AEWIHO_T9AV2'])\n",
    "# #     describe = my_week['AEWIHO_T9AV2'].describe()\n",
    "# #     RMSE = 2\n",
    "# #     textstr = 'describe=%.2f\\nRMSE=%.2f\\n'%(1, 2)\n",
    "# #     plt.text(0.5, 0.5, textstr, fontsize=14)\n",
    "#     plt.savefig(str(k_1)+'.jpg')\n",
    "# #     plt.close()"
   ]
  },
  {
   "cell_type": "code",
   "execution_count": 42,
   "metadata": {},
   "outputs": [
    {
     "name": "stdout",
     "output_type": "stream",
     "text": [
      "/home/atif/machine_learning_stuff/Time-Series-Forecasting-of-a-Power-Plant/univariate_data_for_prediction\n"
     ]
    }
   ],
   "source": [
    "import os\n",
    "current_directory = os.getcwd()\n",
    "print(current_directory)\n",
    "address = 'image_folder'\n",
    "final_directory = current_directory+'/'+str(address)\n",
    "if not os.path.exists(final_directory):\n",
    "    os.makedirs(final_directory)\n",
    "    print('created : ', final_directory)\n",
    "else:\n",
    "    pass\n",
    "#     shutil.rmtree(final_directory,ignore_errors= True)\n",
    "#     os.makedirs(final_directory)\n",
    "#     print('after deletion old one created new : ', final_directory)"
   ]
  },
  {
   "cell_type": "code",
   "execution_count": 43,
   "metadata": {},
   "outputs": [
    {
     "data": {
      "text/plain": [
       "'/home/atif/machine_learning_stuff/Time-Series-Forecasting-of-a-Power-Plant/univariate_data_for_prediction/image_folder'"
      ]
     },
     "execution_count": 43,
     "metadata": {},
     "output_type": "execute_result"
    }
   ],
   "source": [
    "final_directory"
   ]
  },
  {
   "cell_type": "code",
   "execution_count": null,
   "metadata": {
    "scrolled": true
   },
   "outputs": [],
   "source": [
    "import shutil\n",
    "def draw_graph(dictionary_value, dictionary,target,path, subfolder_name):\n",
    "    fig_location = path+'/'+str(subfolder_name)\n",
    "    \n",
    "    if not os.path.exists(fig_location):\n",
    "        os.makedirs(fig_location)\n",
    "    else:\n",
    "        shutil.rmtree(fig_location,ignore_errors= True)\n",
    "        os.makedirs(fig_location)\n",
    "    for i in dictionary_value:\n",
    "        value = dictionary[i]\n",
    "        value.iloc[:].plot(y=[target])\n",
    "        \n",
    "        plt.title('visualization of signal '+str(target)+' in time of '+str(i))\n",
    "        plt.xlabel('range')\n",
    "        plt.ylabel('value')\n",
    "        \n",
    "        plt.rcParams['figure.figsize'] =(20,10)\n",
    "        plt.savefig(fig_location+'/'+str(i)+'.jpg')\n",
    "        \n",
    "target = 'AEWIHO_T9AV2'\n",
    "draw_graph_date = draw_graph(date_key_value,dict_of_dates, target,final_directory, subfolder_name = 'date_fig')\n",
    "draw_graph_week = draw_graph(day_type_key_value,dict_of_day_type, target,final_directory, subfolder_name = 'week_fig')\n",
    "draw_graph_day = draw_graph(day_name_key_value,dict_of_day_name, target,final_directory, subfolder_name = 'day_fig')"
   ]
  },
  {
   "cell_type": "code",
   "execution_count": null,
   "metadata": {},
   "outputs": [],
   "source": []
  },
  {
   "cell_type": "code",
   "execution_count": null,
   "metadata": {},
   "outputs": [],
   "source": []
  }
 ],
 "metadata": {
  "kernelspec": {
   "display_name": "Python 3",
   "language": "python",
   "name": "python3"
  },
  "language_info": {
   "codemirror_mode": {
    "name": "ipython",
    "version": 3
   },
   "file_extension": ".py",
   "mimetype": "text/x-python",
   "name": "python",
   "nbconvert_exporter": "python",
   "pygments_lexer": "ipython3",
   "version": "3.6.8"
  }
 },
 "nbformat": 4,
 "nbformat_minor": 2
}
