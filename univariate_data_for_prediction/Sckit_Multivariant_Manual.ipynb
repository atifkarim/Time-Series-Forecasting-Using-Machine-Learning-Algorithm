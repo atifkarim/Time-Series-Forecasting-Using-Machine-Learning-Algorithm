{
 "cells": [
  {
   "cell_type": "code",
   "execution_count": 1,
   "metadata": {},
   "outputs": [],
   "source": [
    "import numpy as np\n",
    "import matplotlib.pyplot as plt\n",
    "from sklearn import linear_model\n",
    "from numpy.linalg import inv\n",
    "from sklearn import metrics\n",
    "from sklearn.linear_model import LinearRegression"
   ]
  },
  {
   "cell_type": "code",
   "execution_count": null,
   "metadata": {},
   "outputs": [],
   "source": []
  },
  {
   "cell_type": "code",
   "execution_count": 2,
   "metadata": {},
   "outputs": [],
   "source": [
    "def gen_beta(x1,y, intercept):\n",
    "    if intercept == True:\n",
    "        column_1 = np.ones((len(x1),1))\n",
    "        x = np.hstack((column_1,x1))\n",
    "    else:\n",
    "        x = np.array(x1)\n",
    "        \n",
    "    x_t = x.T    \n",
    "    x_mul_x_t = np.matmul(x_t,x)\n",
    "    x_mul_x_t_inv = inv(np.matrix(x_mul_x_t))\n",
    "    beta_hat = np.matmul(x_mul_x_t_inv,x_t)\n",
    "    beta_hat_1 = np.matmul(beta_hat,y)\n",
    "    \n",
    "    return beta_hat_1\n",
    "\n",
    "    "
   ]
  },
  {
   "cell_type": "code",
   "execution_count": 3,
   "metadata": {},
   "outputs": [
    {
     "name": "stdout",
     "output_type": "stream",
     "text": [
      "(4, 3)\n"
     ]
    }
   ],
   "source": [
    "X_test = np.array([[1, 1,4], [1, 2,7], [2, 2,-8], [2, 3,30]])\n",
    "y_test=[[10],[30],[9],[11]]\n",
    "\n",
    "print(X_test.shape)\n",
    "# print(y_test.shape)"
   ]
  },
  {
   "cell_type": "code",
   "execution_count": 4,
   "metadata": {},
   "outputs": [
    {
     "name": "stdout",
     "output_type": "stream",
     "text": [
      "[[ 19.22857143]\n",
      " [-28.71428571]\n",
      " [ 21.54285714]\n",
      " [ -0.51428571]]\n"
     ]
    }
   ],
   "source": [
    "my_scikit = gen_beta(X_test,y_test,True)   #for false no interception and for true with interception\n",
    "print(my_scikit)"
   ]
  },
  {
   "cell_type": "code",
   "execution_count": 5,
   "metadata": {},
   "outputs": [
    {
     "name": "stdout",
     "output_type": "stream",
     "text": [
      "[[-28.71428571  21.54285714  -0.51428571]]\n",
      "[19.22857143]\n"
     ]
    }
   ],
   "source": [
    "sckit_reg_inter = LinearRegression(fit_intercept=True)\n",
    "\n",
    "sckit_reg_inter.fit(X_test,y_test)\n",
    "print(sckit_reg_inter.coef_)\n",
    "print(sckit_reg_inter.intercept_)"
   ]
  },
  {
   "cell_type": "code",
   "execution_count": null,
   "metadata": {},
   "outputs": [],
   "source": []
  },
  {
   "cell_type": "code",
   "execution_count": 6,
   "metadata": {},
   "outputs": [
    {
     "data": {
      "image/png": "[encoded data removed]",
      "text/plain": [
       "<Figure size 432x288 with 1 Axes>"
      ]
     },
     "metadata": {},
     "output_type": "display_data"
    }
   ],
   "source": [
    "%matplotlib inline\n",
    "plt.plot(X_test)\n",
    "plt.plot(y_test)\n",
    "plt.show()"
   ]
  },
  {
   "cell_type": "code",
   "execution_count": null,
   "metadata": {},
   "outputs": [],
   "source": []
  }
 ],
 "metadata": {
  "kernelspec": {
   "display_name": "Python 3",
   "language": "python",
   "name": "python3"
  },
  "language_info": {
   "codemirror_mode": {
    "name": "ipython",
    "version": 3
   },
   "file_extension": ".py",
   "mimetype": "text/x-python",
   "name": "python",
   "nbconvert_exporter": "python",
   "pygments_lexer": "ipython3",
   "version": "3.6.5"
  }
 },
 "nbformat": 4,
 "nbformat_minor": 2
}
