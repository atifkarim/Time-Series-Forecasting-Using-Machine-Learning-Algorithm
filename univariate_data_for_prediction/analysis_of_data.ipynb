{
 "cells": [
  {
   "cell_type": "markdown",
   "metadata": {},
   "source": [
    "# importing library"
   ]
  },
  {
   "cell_type": "code",
   "execution_count": 4,
   "metadata": {},
   "outputs": [],
   "source": [
    "import numpy as np\n",
    "import matplotlib.pyplot as plt\n",
    "import pandas as pd\n",
    "import math\n",
    "import time\n",
    "import datetime\n",
    "from numpy import nan\n",
    "from sklearn.datasets import load_iris\n",
    "from sklearn.feature_selection import SelectKBest\n",
    "from sklearn.feature_selection import chi2\n",
    "\n",
    "%matplotlib inline\n",
    "from matplotlib.pylab import rcParams"
   ]
  },
  {
   "cell_type": "code",
   "execution_count": 5,
   "metadata": {},
   "outputs": [],
   "source": [
    "# function to get read the csv file\n",
    "\n",
    "def create_dataframe(filepath):\n",
    "    test = pd.read_csv(filepath) # here the given csv file is reading\n",
    "    return test\n",
    "\n",
    "# filepath = 'E:/University of Bremen MSc/masters_thesis/IAT_sebastian/dataset_26_april_3.csv'\n",
    "filepath = '/media/atif/BE0E05910E0543BD/University of Bremen MSc/masters_thesis/IAT_sebastian/dataset_26_april_3.csv'\n",
    "initial_dataframe = create_dataframe(filepath)"
   ]
  },
  {
   "cell_type": "code",
   "execution_count": 6,
   "metadata": {
    "scrolled": true
   },
   "outputs": [
    {
     "name": "stderr",
     "output_type": "stream",
     "text": [
      "/home/atif/myenv/lib/python3.5/site-packages/ipykernel_launcher.py:8: FutureWarning: Method .as_matrix will be removed in a future version. Use .values instead.\n",
      "  \n"
     ]
    }
   ],
   "source": [
    "# function for converting timestamp to unixtime and return the ready dataframe\n",
    "\n",
    "def conversion_timestamp_to_unixtime(initial_dataframe):\n",
    "    ''' now conversion of timestamp to unixtime will start. In the csv file the column name of\n",
    "    timestamp is longtime.'''\n",
    "    \n",
    "    longTime = initial_dataframe.loc[0:,['longTime']]\n",
    "    longTime = longTime.as_matrix()\n",
    "    a = []\n",
    "    date_time_array = []\n",
    "    for k in longTime:\n",
    "        a = np.append(a,k)\n",
    "    str_time = []\n",
    "    correct_longtime = []\n",
    "    datetime_time = []\n",
    "    count = 0\n",
    "    \n",
    "    for b in a:\n",
    "        b = int(b) # make plain integer\n",
    "        str_b = str(b)\n",
    "        c = str_b[-3:]\n",
    "        new_str_b = str_b.replace(c, '',1)\n",
    "        new_str_b_time = int(new_str_b)\n",
    "        correct_longtime.append(new_str_b_time)\n",
    "        now_time = datetime.datetime.fromtimestamp(new_str_b_time)\n",
    "        convert_time = now_time.strftime('%Y-%m-%d %H:%M')\n",
    "        str_time.append(convert_time)\n",
    "    test_new = initial_dataframe.assign(stringTime=str_time,correct_longtime=correct_longtime) # here new column in the panda dataframe for string_time has added\n",
    "    test_new['dateTime'] =  pd.to_datetime(test_new['stringTime'], format='%Y-%m-%d %H:%M')\n",
    "    test_new = test_new.drop(['longTime','stringTime','correct_longtime'], axis=1)\n",
    "    \n",
    "    return test_new\n",
    "\n",
    "test_new = conversion_timestamp_to_unixtime(initial_dataframe)"
   ]
  },
  {
   "cell_type": "code",
   "execution_count": null,
   "metadata": {
    "scrolled": true
   },
   "outputs": [],
   "source": [
    "# # It will print the type of value of each column\n",
    "# long_time = test_new.correct_longtime\n",
    "# print(type(long_time))\n",
    "# string_time = test_new.stringTime\n",
    "# print(type(string_time))"
   ]
  },
  {
   "cell_type": "code",
   "execution_count": null,
   "metadata": {},
   "outputs": [],
   "source": [
    "# if you want to ceate some datetime column in different format then you need stringtime(maybe).\n",
    "# then in the previous conversion_timestamp_to_unixtime function just return stringtime\n",
    "\n",
    "# test_new['dateTime'] =  pd.to_datetime(test_new['stringTime'], format='%Y-%m-%d %H:%M')\n",
    "# test_new['dateTime_column'] =  pd.to_datetime(test_new['stringTime'], format='%Y-%m-%d %H:%M')"
   ]
  },
  {
   "cell_type": "code",
   "execution_count": null,
   "metadata": {},
   "outputs": [],
   "source": [
    "# making dateTime column as a index for the test_new panda dataframe\n",
    "# test_new = test_new.set_index('dateTime')"
   ]
  },
  {
   "cell_type": "code",
   "execution_count": 7,
   "metadata": {
    "scrolled": false
   },
   "outputs": [
    {
     "data": {
      "text/html": [
       "<div>\n",
       "<style scoped>\n",
       "    .dataframe tbody tr th:only-of-type {\n",
       "        vertical-align: middle;\n",
       "    }\n",
       "\n",
       "    .dataframe tbody tr th {\n",
       "        vertical-align: top;\n",
       "    }\n",
       "\n",
       "    .dataframe thead th {\n",
       "        text-align: right;\n",
       "    }\n",
       "</style>\n",
       "<table border=\"1\" class=\"dataframe\">\n",
       "  <thead>\n",
       "    <tr style=\"text-align: right;\">\n",
       "      <th></th>\n",
       "      <th>row ID</th>\n",
       "      <th>AEAGHOAWE2T1</th>\n",
       "      <th>AEAGHOAWE2A0</th>\n",
       "      <th>AEAGHOAWE2T0</th>\n",
       "      <th>AEAGHOAWE1A0</th>\n",
       "      <th>AEAGHOAWE1T1</th>\n",
       "      <th>AEAGHOAWE1T0</th>\n",
       "      <th>AEAGHOAWE3T0</th>\n",
       "      <th>AEAGHOAWE3A0</th>\n",
       "      <th>AEAGHOAWE3T1</th>\n",
       "      <th>...</th>\n",
       "      <th>RWWIHOT7_RV0</th>\n",
       "      <th>RWWIHOT8_RV0</th>\n",
       "      <th>RWWIHOT9_RV0</th>\n",
       "      <th>RWWIHOT10RV0</th>\n",
       "      <th>RWWIHOTSURV0</th>\n",
       "      <th>RWWIHOTSUMV0</th>\n",
       "      <th>RWWIHO_VERV0</th>\n",
       "      <th>RWWIHO_UESV0</th>\n",
       "      <th>RWWIHOSUMAV0</th>\n",
       "      <th>dateTime</th>\n",
       "    </tr>\n",
       "  </thead>\n",
       "  <tbody>\n",
       "    <tr>\n",
       "      <th>0</th>\n",
       "      <td>Row0</td>\n",
       "      <td>74.451979</td>\n",
       "      <td>19.111606</td>\n",
       "      <td>98.371549</td>\n",
       "      <td>18.819155</td>\n",
       "      <td>93.337524</td>\n",
       "      <td>69.969526</td>\n",
       "      <td>95.445534</td>\n",
       "      <td>7.802471</td>\n",
       "      <td>57.766387</td>\n",
       "      <td>...</td>\n",
       "      <td>92.632593</td>\n",
       "      <td>44.620461</td>\n",
       "      <td>22.338103</td>\n",
       "      <td>75.685755</td>\n",
       "      <td>73.945394</td>\n",
       "      <td>0.000000</td>\n",
       "      <td>0.000000</td>\n",
       "      <td>0.000000</td>\n",
       "      <td>0.000000</td>\n",
       "      <td>2019-04-15 08:52:00</td>\n",
       "    </tr>\n",
       "    <tr>\n",
       "      <th>1</th>\n",
       "      <td>Row1</td>\n",
       "      <td>73.933103</td>\n",
       "      <td>18.088026</td>\n",
       "      <td>98.186038</td>\n",
       "      <td>18.943335</td>\n",
       "      <td>92.869960</td>\n",
       "      <td>69.969526</td>\n",
       "      <td>95.445534</td>\n",
       "      <td>12.856953</td>\n",
       "      <td>58.231774</td>\n",
       "      <td>...</td>\n",
       "      <td>82.082055</td>\n",
       "      <td>53.182296</td>\n",
       "      <td>26.967692</td>\n",
       "      <td>75.685755</td>\n",
       "      <td>66.649583</td>\n",
       "      <td>56.385432</td>\n",
       "      <td>68.734584</td>\n",
       "      <td>9.127668</td>\n",
       "      <td>2.275890</td>\n",
       "      <td>2019-04-15 08:51:00</td>\n",
       "    </tr>\n",
       "    <tr>\n",
       "      <th>2</th>\n",
       "      <td>Row2</td>\n",
       "      <td>73.471742</td>\n",
       "      <td>25.843589</td>\n",
       "      <td>98.371549</td>\n",
       "      <td>33.166077</td>\n",
       "      <td>92.343799</td>\n",
       "      <td>69.969526</td>\n",
       "      <td>95.628479</td>\n",
       "      <td>21.591973</td>\n",
       "      <td>58.231774</td>\n",
       "      <td>...</td>\n",
       "      <td>82.098144</td>\n",
       "      <td>53.029243</td>\n",
       "      <td>26.851837</td>\n",
       "      <td>75.685755</td>\n",
       "      <td>66.587330</td>\n",
       "      <td>56.402658</td>\n",
       "      <td>68.853203</td>\n",
       "      <td>9.136596</td>\n",
       "      <td>2.275735</td>\n",
       "      <td>2019-04-15 08:50:00</td>\n",
       "    </tr>\n",
       "    <tr>\n",
       "      <th>3</th>\n",
       "      <td>Row3</td>\n",
       "      <td>73.010381</td>\n",
       "      <td>27.772137</td>\n",
       "      <td>98.371549</td>\n",
       "      <td>35.991205</td>\n",
       "      <td>91.876236</td>\n",
       "      <td>69.850105</td>\n",
       "      <td>95.607810</td>\n",
       "      <td>19.492370</td>\n",
       "      <td>58.231774</td>\n",
       "      <td>...</td>\n",
       "      <td>82.074011</td>\n",
       "      <td>53.015226</td>\n",
       "      <td>26.266369</td>\n",
       "      <td>75.685755</td>\n",
       "      <td>66.373907</td>\n",
       "      <td>56.527297</td>\n",
       "      <td>69.391059</td>\n",
       "      <td>9.138625</td>\n",
       "      <td>2.281882</td>\n",
       "      <td>2019-04-15 08:49:00</td>\n",
       "    </tr>\n",
       "    <tr>\n",
       "      <th>4</th>\n",
       "      <td>Row4</td>\n",
       "      <td>72.549020</td>\n",
       "      <td>18.402556</td>\n",
       "      <td>98.186038</td>\n",
       "      <td>19.591687</td>\n",
       "      <td>91.408672</td>\n",
       "      <td>69.969526</td>\n",
       "      <td>95.607810</td>\n",
       "      <td>8.014898</td>\n",
       "      <td>58.697162</td>\n",
       "      <td>...</td>\n",
       "      <td>82.078296</td>\n",
       "      <td>53.172932</td>\n",
       "      <td>26.605640</td>\n",
       "      <td>75.685755</td>\n",
       "      <td>66.529224</td>\n",
       "      <td>56.640964</td>\n",
       "      <td>69.299560</td>\n",
       "      <td>9.121256</td>\n",
       "      <td>2.269317</td>\n",
       "      <td>2019-04-15 08:48:00</td>\n",
       "    </tr>\n",
       "  </tbody>\n",
       "</table>\n",
       "<p>5 rows × 4220 columns</p>\n",
       "</div>"
      ],
      "text/plain": [
       "  row ID  AEAGHOAWE2T1  AEAGHOAWE2A0  AEAGHOAWE2T0  AEAGHOAWE1A0  \\\n",
       "0   Row0     74.451979     19.111606     98.371549     18.819155   \n",
       "1   Row1     73.933103     18.088026     98.186038     18.943335   \n",
       "2   Row2     73.471742     25.843589     98.371549     33.166077   \n",
       "3   Row3     73.010381     27.772137     98.371549     35.991205   \n",
       "4   Row4     72.549020     18.402556     98.186038     19.591687   \n",
       "\n",
       "   AEAGHOAWE1T1  AEAGHOAWE1T0  AEAGHOAWE3T0  AEAGHOAWE3A0  AEAGHOAWE3T1  ...  \\\n",
       "0     93.337524     69.969526     95.445534      7.802471     57.766387  ...   \n",
       "1     92.869960     69.969526     95.445534     12.856953     58.231774  ...   \n",
       "2     92.343799     69.969526     95.628479     21.591973     58.231774  ...   \n",
       "3     91.876236     69.850105     95.607810     19.492370     58.231774  ...   \n",
       "4     91.408672     69.969526     95.607810      8.014898     58.697162  ...   \n",
       "\n",
       "   RWWIHOT7_RV0  RWWIHOT8_RV0  RWWIHOT9_RV0  RWWIHOT10RV0  RWWIHOTSURV0  \\\n",
       "0     92.632593     44.620461     22.338103     75.685755     73.945394   \n",
       "1     82.082055     53.182296     26.967692     75.685755     66.649583   \n",
       "2     82.098144     53.029243     26.851837     75.685755     66.587330   \n",
       "3     82.074011     53.015226     26.266369     75.685755     66.373907   \n",
       "4     82.078296     53.172932     26.605640     75.685755     66.529224   \n",
       "\n",
       "   RWWIHOTSUMV0  RWWIHO_VERV0  RWWIHO_UESV0  RWWIHOSUMAV0            dateTime  \n",
       "0      0.000000      0.000000      0.000000      0.000000 2019-04-15 08:52:00  \n",
       "1     56.385432     68.734584      9.127668      2.275890 2019-04-15 08:51:00  \n",
       "2     56.402658     68.853203      9.136596      2.275735 2019-04-15 08:50:00  \n",
       "3     56.527297     69.391059      9.138625      2.281882 2019-04-15 08:49:00  \n",
       "4     56.640964     69.299560      9.121256      2.269317 2019-04-15 08:48:00  \n",
       "\n",
       "[5 rows x 4220 columns]"
      ]
     },
     "execution_count": 7,
     "metadata": {},
     "output_type": "execute_result"
    }
   ],
   "source": [
    "test_new.head()"
   ]
  },
  {
   "cell_type": "code",
   "execution_count": 27,
   "metadata": {},
   "outputs": [],
   "source": [
    "# # multivariate_column_label=['DEWIHOBT9_I0','AEDATZ_HO_V0','AEDAHO_T9_V2','AEWIHO_T9AV2','RWWIHOB_HWT0'\n",
    "# #                            ,'RWWIHOB_MWT0']#rmse error 1.99\n",
    "\n",
    "# # multivariate_column_label = ['DEWIHOBT9_I0','AEDATZ_HONP0','AEDATZK_ASP0','AEDATZ_HO_V0',\n",
    "# #                              'AEDAHO_T9_V2','AEWIHO_T9AV2'] #rmse error 1.38\n",
    "\n",
    "# #RWDAKRWRS8V0\n",
    "# # # 'AEDAHO_T8_V2','AEWIHO_T8AV2',\n",
    "multivariate_column_label = ['dateTime','DEWIHOBT9_I0','AEDATZ_HONP0','AEDATZK_ASP0','AEDATZ_HO_V0',\n",
    "                             'AEDATZ_TZCP2','AEDATZKA_8P0','AEDATZ_HO_P1','AEDAHO_T9_V2',\n",
    "                             'RWWIHOB_HWT0','RWWIHOB_MWT0','AEWIHO_T9AV2'] #rmse error 1.94\n",
    "\n",
    "# multivariate_column_label = ['dateTime','DEWIHOBT9_I0','AEDATZ_HONP0','AEDATZK_ASP0','RWWIHOB_MWT0','AEWIHO_T9AV2']\n",
    "size_column = len(multivariate_column_label)\n",
    "# print(size_column)\n",
    "\n",
    "# print(type(multivariate_column_label))\n",
    "\n",
    "# my_test = test_new.iloc[:][multivariate_column_label]"
   ]
  },
  {
   "cell_type": "code",
   "execution_count": 8,
   "metadata": {},
   "outputs": [],
   "source": [
    "# for i , j in enumerate(my_test):\n",
    "#     print(j)\n",
    "\n",
    "my_test = test_new"
   ]
  },
  {
   "cell_type": "code",
   "execution_count": 9,
   "metadata": {
    "scrolled": false
   },
   "outputs": [
    {
     "data": {
      "text/html": [
       "<div>\n",
       "<style scoped>\n",
       "    .dataframe tbody tr th:only-of-type {\n",
       "        vertical-align: middle;\n",
       "    }\n",
       "\n",
       "    .dataframe tbody tr th {\n",
       "        vertical-align: top;\n",
       "    }\n",
       "\n",
       "    .dataframe thead th {\n",
       "        text-align: right;\n",
       "    }\n",
       "</style>\n",
       "<table border=\"1\" class=\"dataframe\">\n",
       "  <thead>\n",
       "    <tr style=\"text-align: right;\">\n",
       "      <th></th>\n",
       "      <th>row ID</th>\n",
       "      <th>AEAGHOAWE2T1</th>\n",
       "      <th>AEAGHOAWE2A0</th>\n",
       "      <th>AEAGHOAWE2T0</th>\n",
       "      <th>AEAGHOAWE1A0</th>\n",
       "      <th>AEAGHOAWE1T1</th>\n",
       "      <th>AEAGHOAWE1T0</th>\n",
       "      <th>AEAGHOAWE3T0</th>\n",
       "      <th>AEAGHOAWE3A0</th>\n",
       "      <th>AEAGHOAWE3T1</th>\n",
       "      <th>...</th>\n",
       "      <th>RWWIHOT7_RV0</th>\n",
       "      <th>RWWIHOT8_RV0</th>\n",
       "      <th>RWWIHOT9_RV0</th>\n",
       "      <th>RWWIHOT10RV0</th>\n",
       "      <th>RWWIHOTSURV0</th>\n",
       "      <th>RWWIHOTSUMV0</th>\n",
       "      <th>RWWIHO_VERV0</th>\n",
       "      <th>RWWIHO_UESV0</th>\n",
       "      <th>RWWIHOSUMAV0</th>\n",
       "      <th>dateTime</th>\n",
       "    </tr>\n",
       "  </thead>\n",
       "  <tbody>\n",
       "    <tr>\n",
       "      <th>4</th>\n",
       "      <td>Row4</td>\n",
       "      <td>72.549020</td>\n",
       "      <td>18.402556</td>\n",
       "      <td>98.186038</td>\n",
       "      <td>19.591687</td>\n",
       "      <td>91.408672</td>\n",
       "      <td>69.969526</td>\n",
       "      <td>95.607810</td>\n",
       "      <td>8.014898</td>\n",
       "      <td>58.697162</td>\n",
       "      <td>...</td>\n",
       "      <td>82.078296</td>\n",
       "      <td>53.172932</td>\n",
       "      <td>26.605640</td>\n",
       "      <td>75.685755</td>\n",
       "      <td>66.529224</td>\n",
       "      <td>56.640964</td>\n",
       "      <td>69.299560</td>\n",
       "      <td>9.121256</td>\n",
       "      <td>2.269317</td>\n",
       "      <td>2019-04-15 08:48:00</td>\n",
       "    </tr>\n",
       "    <tr>\n",
       "      <th>3</th>\n",
       "      <td>Row3</td>\n",
       "      <td>73.010381</td>\n",
       "      <td>27.772137</td>\n",
       "      <td>98.371549</td>\n",
       "      <td>35.991205</td>\n",
       "      <td>91.876236</td>\n",
       "      <td>69.850105</td>\n",
       "      <td>95.607810</td>\n",
       "      <td>19.492370</td>\n",
       "      <td>58.231774</td>\n",
       "      <td>...</td>\n",
       "      <td>82.074011</td>\n",
       "      <td>53.015226</td>\n",
       "      <td>26.266369</td>\n",
       "      <td>75.685755</td>\n",
       "      <td>66.373907</td>\n",
       "      <td>56.527297</td>\n",
       "      <td>69.391059</td>\n",
       "      <td>9.138625</td>\n",
       "      <td>2.281882</td>\n",
       "      <td>2019-04-15 08:49:00</td>\n",
       "    </tr>\n",
       "    <tr>\n",
       "      <th>2</th>\n",
       "      <td>Row2</td>\n",
       "      <td>73.471742</td>\n",
       "      <td>25.843589</td>\n",
       "      <td>98.371549</td>\n",
       "      <td>33.166077</td>\n",
       "      <td>92.343799</td>\n",
       "      <td>69.969526</td>\n",
       "      <td>95.628479</td>\n",
       "      <td>21.591973</td>\n",
       "      <td>58.231774</td>\n",
       "      <td>...</td>\n",
       "      <td>82.098144</td>\n",
       "      <td>53.029243</td>\n",
       "      <td>26.851837</td>\n",
       "      <td>75.685755</td>\n",
       "      <td>66.587330</td>\n",
       "      <td>56.402658</td>\n",
       "      <td>68.853203</td>\n",
       "      <td>9.136596</td>\n",
       "      <td>2.275735</td>\n",
       "      <td>2019-04-15 08:50:00</td>\n",
       "    </tr>\n",
       "    <tr>\n",
       "      <th>1</th>\n",
       "      <td>Row1</td>\n",
       "      <td>73.933103</td>\n",
       "      <td>18.088026</td>\n",
       "      <td>98.186038</td>\n",
       "      <td>18.943335</td>\n",
       "      <td>92.869960</td>\n",
       "      <td>69.969526</td>\n",
       "      <td>95.445534</td>\n",
       "      <td>12.856953</td>\n",
       "      <td>58.231774</td>\n",
       "      <td>...</td>\n",
       "      <td>82.082055</td>\n",
       "      <td>53.182296</td>\n",
       "      <td>26.967692</td>\n",
       "      <td>75.685755</td>\n",
       "      <td>66.649583</td>\n",
       "      <td>56.385432</td>\n",
       "      <td>68.734584</td>\n",
       "      <td>9.127668</td>\n",
       "      <td>2.275890</td>\n",
       "      <td>2019-04-15 08:51:00</td>\n",
       "    </tr>\n",
       "    <tr>\n",
       "      <th>0</th>\n",
       "      <td>Row0</td>\n",
       "      <td>74.451979</td>\n",
       "      <td>19.111606</td>\n",
       "      <td>98.371549</td>\n",
       "      <td>18.819155</td>\n",
       "      <td>93.337524</td>\n",
       "      <td>69.969526</td>\n",
       "      <td>95.445534</td>\n",
       "      <td>7.802471</td>\n",
       "      <td>57.766387</td>\n",
       "      <td>...</td>\n",
       "      <td>92.632593</td>\n",
       "      <td>44.620461</td>\n",
       "      <td>22.338103</td>\n",
       "      <td>75.685755</td>\n",
       "      <td>73.945394</td>\n",
       "      <td>0.000000</td>\n",
       "      <td>0.000000</td>\n",
       "      <td>0.000000</td>\n",
       "      <td>0.000000</td>\n",
       "      <td>2019-04-15 08:52:00</td>\n",
       "    </tr>\n",
       "  </tbody>\n",
       "</table>\n",
       "<p>5 rows × 4220 columns</p>\n",
       "</div>"
      ],
      "text/plain": [
       "  row ID  AEAGHOAWE2T1  AEAGHOAWE2A0  AEAGHOAWE2T0  AEAGHOAWE1A0  \\\n",
       "4   Row4     72.549020     18.402556     98.186038     19.591687   \n",
       "3   Row3     73.010381     27.772137     98.371549     35.991205   \n",
       "2   Row2     73.471742     25.843589     98.371549     33.166077   \n",
       "1   Row1     73.933103     18.088026     98.186038     18.943335   \n",
       "0   Row0     74.451979     19.111606     98.371549     18.819155   \n",
       "\n",
       "   AEAGHOAWE1T1  AEAGHOAWE1T0  AEAGHOAWE3T0  AEAGHOAWE3A0  AEAGHOAWE3T1  ...  \\\n",
       "4     91.408672     69.969526     95.607810      8.014898     58.697162  ...   \n",
       "3     91.876236     69.850105     95.607810     19.492370     58.231774  ...   \n",
       "2     92.343799     69.969526     95.628479     21.591973     58.231774  ...   \n",
       "1     92.869960     69.969526     95.445534     12.856953     58.231774  ...   \n",
       "0     93.337524     69.969526     95.445534      7.802471     57.766387  ...   \n",
       "\n",
       "   RWWIHOT7_RV0  RWWIHOT8_RV0  RWWIHOT9_RV0  RWWIHOT10RV0  RWWIHOTSURV0  \\\n",
       "4     82.078296     53.172932     26.605640     75.685755     66.529224   \n",
       "3     82.074011     53.015226     26.266369     75.685755     66.373907   \n",
       "2     82.098144     53.029243     26.851837     75.685755     66.587330   \n",
       "1     82.082055     53.182296     26.967692     75.685755     66.649583   \n",
       "0     92.632593     44.620461     22.338103     75.685755     73.945394   \n",
       "\n",
       "   RWWIHOTSUMV0  RWWIHO_VERV0  RWWIHO_UESV0  RWWIHOSUMAV0            dateTime  \n",
       "4     56.640964     69.299560      9.121256      2.269317 2019-04-15 08:48:00  \n",
       "3     56.527297     69.391059      9.138625      2.281882 2019-04-15 08:49:00  \n",
       "2     56.402658     68.853203      9.136596      2.275735 2019-04-15 08:50:00  \n",
       "1     56.385432     68.734584      9.127668      2.275890 2019-04-15 08:51:00  \n",
       "0      0.000000      0.000000      0.000000      0.000000 2019-04-15 08:52:00  \n",
       "\n",
       "[5 rows x 4220 columns]"
      ]
     },
     "execution_count": 9,
     "metadata": {},
     "output_type": "execute_result"
    }
   ],
   "source": [
    "# in this csv file time are order in present to past. Below function will alter it\n",
    "# here also start and end row has passsed.\n",
    "# If you want to pass your own desired column name also can pass using multivariate column label.\n",
    "# take a look at the previous cell\n",
    "\n",
    "def alter_time(dataframe, start_pos, end_pos):\n",
    "#     multivariate_data=test_new.iloc[start_pos:end_pos][multivariate_column_label] # comment out this line if you pass column label\n",
    "    dataframe=dataframe.iloc[start_pos:end_pos][:]\n",
    "    dataframe=dataframe.loc[::-1]\n",
    "    \n",
    "    return dataframe\n",
    "\n",
    "start_pos = 0\n",
    "end_pos = 25000\n",
    "multivariate_data = alter_time(my_test, start_pos, end_pos)\n",
    "multivariate_data.tail()"
   ]
  },
  {
   "cell_type": "code",
   "execution_count": null,
   "metadata": {},
   "outputs": [],
   "source": [
    "multivariate_data_copy = multivariate_data.copy()\n",
    "multivariate_data_copy.head()"
   ]
  },
  {
   "cell_type": "code",
   "execution_count": 22,
   "metadata": {},
   "outputs": [
    {
     "data": {
      "text/html": [
       "<div>\n",
       "<style scoped>\n",
       "    .dataframe tbody tr th:only-of-type {\n",
       "        vertical-align: middle;\n",
       "    }\n",
       "\n",
       "    .dataframe tbody tr th {\n",
       "        vertical-align: top;\n",
       "    }\n",
       "\n",
       "    .dataframe thead th {\n",
       "        text-align: right;\n",
       "    }\n",
       "</style>\n",
       "<table border=\"1\" class=\"dataframe\">\n",
       "  <thead>\n",
       "    <tr style=\"text-align: right;\">\n",
       "      <th></th>\n",
       "      <th>dateTime</th>\n",
       "      <th>DEWIHOBT9_I0</th>\n",
       "      <th>AEDATZ_HONP0</th>\n",
       "      <th>AEDATZK_ASP0</th>\n",
       "      <th>RWWIHOB_MWT0</th>\n",
       "      <th>AEWIHO_T9AV2</th>\n",
       "    </tr>\n",
       "  </thead>\n",
       "  <tbody>\n",
       "    <tr>\n",
       "      <th>24999</th>\n",
       "      <td>2019-03-11 03:14:00</td>\n",
       "      <td>100.0</td>\n",
       "      <td>97.304518</td>\n",
       "      <td>97.482960</td>\n",
       "      <td>96.594824</td>\n",
       "      <td>79.178306</td>\n",
       "    </tr>\n",
       "    <tr>\n",
       "      <th>24998</th>\n",
       "      <td>2019-03-11 03:15:00</td>\n",
       "      <td>100.0</td>\n",
       "      <td>96.950979</td>\n",
       "      <td>97.167113</td>\n",
       "      <td>96.529931</td>\n",
       "      <td>81.659117</td>\n",
       "    </tr>\n",
       "    <tr>\n",
       "      <th>24997</th>\n",
       "      <td>2019-03-11 03:16:00</td>\n",
       "      <td>100.0</td>\n",
       "      <td>96.722113</td>\n",
       "      <td>96.937628</td>\n",
       "      <td>96.404936</td>\n",
       "      <td>86.055430</td>\n",
       "    </tr>\n",
       "    <tr>\n",
       "      <th>24996</th>\n",
       "      <td>2019-03-11 03:17:00</td>\n",
       "      <td>100.0</td>\n",
       "      <td>96.671992</td>\n",
       "      <td>96.868238</td>\n",
       "      <td>96.295169</td>\n",
       "      <td>87.113691</td>\n",
       "    </tr>\n",
       "    <tr>\n",
       "      <th>24995</th>\n",
       "      <td>2019-03-11 03:18:00</td>\n",
       "      <td>100.0</td>\n",
       "      <td>96.717532</td>\n",
       "      <td>96.901785</td>\n",
       "      <td>96.264723</td>\n",
       "      <td>87.266264</td>\n",
       "    </tr>\n",
       "  </tbody>\n",
       "</table>\n",
       "</div>"
      ],
      "text/plain": [
       "                 dateTime  DEWIHOBT9_I0  AEDATZ_HONP0  AEDATZK_ASP0  \\\n",
       "24999 2019-03-11 03:14:00         100.0     97.304518     97.482960   \n",
       "24998 2019-03-11 03:15:00         100.0     96.950979     97.167113   \n",
       "24997 2019-03-11 03:16:00         100.0     96.722113     96.937628   \n",
       "24996 2019-03-11 03:17:00         100.0     96.671992     96.868238   \n",
       "24995 2019-03-11 03:18:00         100.0     96.717532     96.901785   \n",
       "\n",
       "       RWWIHOB_MWT0  AEWIHO_T9AV2  \n",
       "24999     96.594824     79.178306  \n",
       "24998     96.529931     81.659117  \n",
       "24997     96.404936     86.055430  \n",
       "24996     96.295169     87.113691  \n",
       "24995     96.264723     87.266264  "
      ]
     },
     "execution_count": 22,
     "metadata": {},
     "output_type": "execute_result"
    }
   ],
   "source": [
    "multivariate_data.head()"
   ]
  },
  {
   "cell_type": "code",
   "execution_count": 8,
   "metadata": {
    "scrolled": true
   },
   "outputs": [
    {
     "name": "stdout",
     "output_type": "stream",
     "text": [
      "it will leave the place:  row ID\n",
      "it will take the place:  dateTime\n",
      "it will leave the place:  row ID\n",
      "it will take the place:  AEWIHO_T9AV2\n"
     ]
    }
   ],
   "source": [
    "def rearrge_frame(dataframe,colname,col_pos):\n",
    "    \n",
    "    list_col=dataframe.columns.to_list()\n",
    "#     print('list_col: ', list_col)\n",
    "    temp_list=list_col\n",
    "#     print('temp_list: ', temp_list)\n",
    "    for idx,i in enumerate(colname):\n",
    "#         print(idx,'\\t',i)\n",
    "#         print('required col pos: ',col_pos[idx])\n",
    "        sacrifice_val = temp_list[col_pos[idx]]\n",
    "        print('it will leave the place: ',sacrifice_val)\n",
    "        print('it will take the place: ', colname[idx])\n",
    "        \n",
    "        indx=dataframe.columns.get_loc(i)\n",
    "#         print('present index of',i,' in frame is: ',indx)\n",
    "        temp_list[col_pos[idx]]=i\n",
    "#         print('here changed done: ',temp_list[col_pos[idx]])\n",
    "        temp_list[indx]=sacrifice_val\n",
    "#         print('but now: ',temp_list[indx])\n",
    "#     print('list: ',list_col)\n",
    "#     print('\\n temp list: ',temp_list)\n",
    "    return dataframe.iloc[:][temp_list]\n",
    "index_array=[0,-1]\n",
    "req_column_name = ['dateTime','AEWIHO_T9AV2']\n",
    "f_2=rearrge_frame(multivariate_data,req_column_name,index_array)"
   ]
  },
  {
   "cell_type": "code",
   "execution_count": 9,
   "metadata": {},
   "outputs": [
    {
     "data": {
      "text/html": [
       "<div>\n",
       "<style scoped>\n",
       "    .dataframe tbody tr th:only-of-type {\n",
       "        vertical-align: middle;\n",
       "    }\n",
       "\n",
       "    .dataframe tbody tr th {\n",
       "        vertical-align: top;\n",
       "    }\n",
       "\n",
       "    .dataframe thead th {\n",
       "        text-align: right;\n",
       "    }\n",
       "</style>\n",
       "<table border=\"1\" class=\"dataframe\">\n",
       "  <thead>\n",
       "    <tr style=\"text-align: right;\">\n",
       "      <th></th>\n",
       "      <th>dateTime</th>\n",
       "      <th>AEAGHOAWE2T1</th>\n",
       "      <th>AEAGHOAWE2A0</th>\n",
       "      <th>AEAGHOAWE2T0</th>\n",
       "      <th>AEAGHOAWE1A0</th>\n",
       "      <th>AEAGHOAWE1T1</th>\n",
       "      <th>AEAGHOAWE1T0</th>\n",
       "      <th>AEAGHOAWE3T0</th>\n",
       "      <th>AEAGHOAWE3A0</th>\n",
       "      <th>AEAGHOAWE3T1</th>\n",
       "      <th>...</th>\n",
       "      <th>RWWIHOT7_RV0</th>\n",
       "      <th>RWWIHOT8_RV0</th>\n",
       "      <th>RWWIHOT9_RV0</th>\n",
       "      <th>RWWIHOT10RV0</th>\n",
       "      <th>RWWIHOTSURV0</th>\n",
       "      <th>RWWIHOTSUMV0</th>\n",
       "      <th>RWWIHO_VERV0</th>\n",
       "      <th>RWWIHO_UESV0</th>\n",
       "      <th>RWWIHOSUMAV0</th>\n",
       "      <th>AEWIHO_T9AV2</th>\n",
       "    </tr>\n",
       "  </thead>\n",
       "  <tbody>\n",
       "    <tr>\n",
       "      <th>24999</th>\n",
       "      <td>2019-03-11 03:14:00</td>\n",
       "      <td>72.030143</td>\n",
       "      <td>21.542766</td>\n",
       "      <td>94.083085</td>\n",
       "      <td>22.656925</td>\n",
       "      <td>82.875638</td>\n",
       "      <td>67.650387</td>\n",
       "      <td>95.811415</td>\n",
       "      <td>11.299942</td>\n",
       "      <td>60.849423</td>\n",
       "      <td>...</td>\n",
       "      <td>92.507129</td>\n",
       "      <td>44.620461</td>\n",
       "      <td>28.127074</td>\n",
       "      <td>82.825607</td>\n",
       "      <td>78.104338</td>\n",
       "      <td>67.050713</td>\n",
       "      <td>75.017129</td>\n",
       "      <td>0.385938</td>\n",
       "      <td>5.503583</td>\n",
       "      <td>79.178306</td>\n",
       "    </tr>\n",
       "    <tr>\n",
       "      <th>24998</th>\n",
       "      <td>2019-03-11 03:15:00</td>\n",
       "      <td>72.491504</td>\n",
       "      <td>26.431470</td>\n",
       "      <td>94.083085</td>\n",
       "      <td>27.250685</td>\n",
       "      <td>82.875638</td>\n",
       "      <td>67.530966</td>\n",
       "      <td>95.648382</td>\n",
       "      <td>15.316148</td>\n",
       "      <td>60.849423</td>\n",
       "      <td>...</td>\n",
       "      <td>92.521725</td>\n",
       "      <td>44.620461</td>\n",
       "      <td>30.234661</td>\n",
       "      <td>82.718776</td>\n",
       "      <td>78.744878</td>\n",
       "      <td>67.904313</td>\n",
       "      <td>74.995147</td>\n",
       "      <td>0.391870</td>\n",
       "      <td>5.464381</td>\n",
       "      <td>81.659117</td>\n",
       "    </tr>\n",
       "    <tr>\n",
       "      <th>24997</th>\n",
       "      <td>2019-03-11 03:16:00</td>\n",
       "      <td>72.952865</td>\n",
       "      <td>16.340439</td>\n",
       "      <td>94.083085</td>\n",
       "      <td>9.402699</td>\n",
       "      <td>83.810765</td>\n",
       "      <td>67.501116</td>\n",
       "      <td>95.648382</td>\n",
       "      <td>7.900882</td>\n",
       "      <td>60.384036</td>\n",
       "      <td>...</td>\n",
       "      <td>92.484799</td>\n",
       "      <td>44.620461</td>\n",
       "      <td>33.680038</td>\n",
       "      <td>82.812397</td>\n",
       "      <td>79.820670</td>\n",
       "      <td>69.482925</td>\n",
       "      <td>75.118191</td>\n",
       "      <td>0.391758</td>\n",
       "      <td>5.461172</td>\n",
       "      <td>86.055430</td>\n",
       "    </tr>\n",
       "    <tr>\n",
       "      <th>24996</th>\n",
       "      <td>2019-03-11 03:17:00</td>\n",
       "      <td>73.414226</td>\n",
       "      <td>25.111296</td>\n",
       "      <td>94.247637</td>\n",
       "      <td>20.460754</td>\n",
       "      <td>84.336621</td>\n",
       "      <td>67.501116</td>\n",
       "      <td>95.648382</td>\n",
       "      <td>8.682349</td>\n",
       "      <td>60.384036</td>\n",
       "      <td>...</td>\n",
       "      <td>92.458005</td>\n",
       "      <td>44.620461</td>\n",
       "      <td>36.388113</td>\n",
       "      <td>82.644399</td>\n",
       "      <td>80.584952</td>\n",
       "      <td>69.763910</td>\n",
       "      <td>74.112424</td>\n",
       "      <td>0.396539</td>\n",
       "      <td>5.446945</td>\n",
       "      <td>87.113691</td>\n",
       "    </tr>\n",
       "    <tr>\n",
       "      <th>24995</th>\n",
       "      <td>2019-03-11 03:18:00</td>\n",
       "      <td>73.875587</td>\n",
       "      <td>26.183628</td>\n",
       "      <td>94.247637</td>\n",
       "      <td>26.243646</td>\n",
       "      <td>84.862783</td>\n",
       "      <td>67.635740</td>\n",
       "      <td>95.486096</td>\n",
       "      <td>16.656556</td>\n",
       "      <td>60.384036</td>\n",
       "      <td>...</td>\n",
       "      <td>92.467179</td>\n",
       "      <td>44.620461</td>\n",
       "      <td>35.372044</td>\n",
       "      <td>82.999752</td>\n",
       "      <td>80.398505</td>\n",
       "      <td>69.927938</td>\n",
       "      <td>74.680827</td>\n",
       "      <td>0.390438</td>\n",
       "      <td>5.434438</td>\n",
       "      <td>87.266264</td>\n",
       "    </tr>\n",
       "  </tbody>\n",
       "</table>\n",
       "<p>5 rows × 4220 columns</p>\n",
       "</div>"
      ],
      "text/plain": [
       "                 dateTime  AEAGHOAWE2T1  AEAGHOAWE2A0  AEAGHOAWE2T0  \\\n",
       "24999 2019-03-11 03:14:00     72.030143     21.542766     94.083085   \n",
       "24998 2019-03-11 03:15:00     72.491504     26.431470     94.083085   \n",
       "24997 2019-03-11 03:16:00     72.952865     16.340439     94.083085   \n",
       "24996 2019-03-11 03:17:00     73.414226     25.111296     94.247637   \n",
       "24995 2019-03-11 03:18:00     73.875587     26.183628     94.247637   \n",
       "\n",
       "       AEAGHOAWE1A0  AEAGHOAWE1T1  AEAGHOAWE1T0  AEAGHOAWE3T0  AEAGHOAWE3A0  \\\n",
       "24999     22.656925     82.875638     67.650387     95.811415     11.299942   \n",
       "24998     27.250685     82.875638     67.530966     95.648382     15.316148   \n",
       "24997      9.402699     83.810765     67.501116     95.648382      7.900882   \n",
       "24996     20.460754     84.336621     67.501116     95.648382      8.682349   \n",
       "24995     26.243646     84.862783     67.635740     95.486096     16.656556   \n",
       "\n",
       "       AEAGHOAWE3T1  ...  RWWIHOT7_RV0  RWWIHOT8_RV0  RWWIHOT9_RV0  \\\n",
       "24999     60.849423  ...     92.507129     44.620461     28.127074   \n",
       "24998     60.849423  ...     92.521725     44.620461     30.234661   \n",
       "24997     60.384036  ...     92.484799     44.620461     33.680038   \n",
       "24996     60.384036  ...     92.458005     44.620461     36.388113   \n",
       "24995     60.384036  ...     92.467179     44.620461     35.372044   \n",
       "\n",
       "       RWWIHOT10RV0  RWWIHOTSURV0  RWWIHOTSUMV0  RWWIHO_VERV0  RWWIHO_UESV0  \\\n",
       "24999     82.825607     78.104338     67.050713     75.017129      0.385938   \n",
       "24998     82.718776     78.744878     67.904313     74.995147      0.391870   \n",
       "24997     82.812397     79.820670     69.482925     75.118191      0.391758   \n",
       "24996     82.644399     80.584952     69.763910     74.112424      0.396539   \n",
       "24995     82.999752     80.398505     69.927938     74.680827      0.390438   \n",
       "\n",
       "       RWWIHOSUMAV0  AEWIHO_T9AV2  \n",
       "24999      5.503583     79.178306  \n",
       "24998      5.464381     81.659117  \n",
       "24997      5.461172     86.055430  \n",
       "24996      5.446945     87.113691  \n",
       "24995      5.434438     87.266264  \n",
       "\n",
       "[5 rows x 4220 columns]"
      ]
     },
     "execution_count": 9,
     "metadata": {},
     "output_type": "execute_result"
    }
   ],
   "source": [
    "f_2.head()"
   ]
  },
  {
   "cell_type": "code",
   "execution_count": null,
   "metadata": {
    "scrolled": true
   },
   "outputs": [],
   "source": [
    "# # function for changing column order. pass dataframe, column name, which order you want to set for the column\n",
    "# def change_column_order(df, col_name, index):\n",
    "#     print(index)\n",
    "#     cols = df.columns.tolist()\n",
    "#     print('printing col length b4 remove',len(cols))\n",
    "#     cols.remove(col_name)\n",
    "#     print('printing col length after remove',len(cols))\n",
    "#     cols.insert(index, col_name)\n",
    "#     return df[cols]\n",
    "\n",
    "# # take the following code in the main file\n",
    "# last_position_of_dataframe = int(multivariate_data_copy.shape[-1]-1)\n",
    "# index_array=[0,-1]\n",
    "# # index_array = np.array(index_array)\n",
    "# req_column_name = ['dateTime','AEWIHO_T9AV2']\n",
    "# for i in range(len(index_array)):\n",
    "#     print(i)\n",
    "#     print(index_array[i],'\\t',req_column_name[i])\n",
    "#     column_name = req_column_name[i]\n",
    "#     index_position = index_array[i]\n",
    "    \n",
    "#     multivariate_data_copy = change_column_order(multivariate_data_copy,column_name,index_position)\n",
    "#     #multivariate_data_copy = multivariate_data_changed_order"
   ]
  },
  {
   "cell_type": "code",
   "execution_count": null,
   "metadata": {},
   "outputs": [],
   "source": [
    "# def rearrge_frame(dataframe,colname,col_pos):\n",
    "    \n",
    "#     list_col=dataframe.columns.to_list()\n",
    "#     temp_list=list_col\n",
    "#     for idx,i in enumerate(colname):\n",
    "#         indx=dataframe.columns.get_loc(i)\n",
    "#         temp_list[col_pos[idx]]=i\n",
    "#         temp_list[indx]=list_col[idx]\n",
    "        \n",
    "#     return dataframe.iloc[:][temp_list]\n",
    "# index_array=[0,-1]\n",
    "# req_column_name = ['dateTime','AEWIHO_T9AV2']\n",
    "# f=rearrge_frame(multivariate_data_copy,req_column_name,index_array)\n",
    "\n",
    "\n",
    "    "
   ]
  },
  {
   "cell_type": "markdown",
   "metadata": {},
   "source": [
    "# below function is working"
   ]
  },
  {
   "cell_type": "code",
   "execution_count": null,
   "metadata": {},
   "outputs": [],
   "source": [
    "# def keep_100(data_frame,col_name,val):\n",
    "#     df = data_frame[(data_frame[[col_name]] == val).all(axis=1)]\n",
    "#     return df\n",
    "\n",
    "# keep_100_frame = keep_100(reorder_frame,'DEWIHOBT9_I0',100)\n",
    "# print(reorder_frame.shape)\n",
    "# print(keep_100_frame.shape)"
   ]
  },
  {
   "cell_type": "code",
   "execution_count": 10,
   "metadata": {
    "scrolled": true
   },
   "outputs": [
    {
     "name": "stdout",
     "output_type": "stream",
     "text": [
      "DEWIHOBT9_I0\n",
      "size of count array here:  760\n"
     ]
    }
   ],
   "source": [
    "# the function will do the following task\n",
    "# if the blast furnace signal for turbine 9 is zero then no work will be happened.\n",
    "# so, remove all the rows where this value will be zero\n",
    "\n",
    "def drop_zero_value_row_of_blast_furnace_signal(dataframe, blast_furnace_signal):\n",
    "#     dataframe = dataframe.reset_index()\n",
    "    count = []\n",
    "    print(blast_furnace_signal)\n",
    "    for idx_blast_furnace, val_blast_furnace in enumerate(dataframe[blast_furnace_signal]):\n",
    "        if val_blast_furnace != 100 :\n",
    "            count = np.append(count,idx_blast_furnace)\n",
    "    print('size of count array here: ', count.size)\n",
    "    \n",
    "    if count.size > 0:\n",
    "        dataframe_1 = dataframe.drop(count,axis=0) # axis= 0 means row indiated. 1 means column indicated\n",
    "    else:\n",
    "        dataframe_1 = dataframe\n",
    "    dataframe_1 = dataframe_1.drop([blast_furnace_signal], axis=1) # dropping the column. because all value are same   \n",
    "    return dataframe_1\n",
    "blast_furnace_signal = 'DEWIHOBT9_I0'\n",
    "\n",
    "dataframe_no_zero_value_blast_furnace = drop_zero_value_row_of_blast_furnace_signal(f_2,blast_furnace_signal)"
   ]
  },
  {
   "cell_type": "code",
   "execution_count": 11,
   "metadata": {},
   "outputs": [
    {
     "data": {
      "text/html": [
       "<div>\n",
       "<style scoped>\n",
       "    .dataframe tbody tr th:only-of-type {\n",
       "        vertical-align: middle;\n",
       "    }\n",
       "\n",
       "    .dataframe tbody tr th {\n",
       "        vertical-align: top;\n",
       "    }\n",
       "\n",
       "    .dataframe thead th {\n",
       "        text-align: right;\n",
       "    }\n",
       "</style>\n",
       "<table border=\"1\" class=\"dataframe\">\n",
       "  <thead>\n",
       "    <tr style=\"text-align: right;\">\n",
       "      <th></th>\n",
       "      <th>dateTime</th>\n",
       "      <th>AEAGHOAWE2T1</th>\n",
       "      <th>AEAGHOAWE2A0</th>\n",
       "      <th>AEAGHOAWE2T0</th>\n",
       "      <th>AEAGHOAWE1A0</th>\n",
       "      <th>AEAGHOAWE1T1</th>\n",
       "      <th>AEAGHOAWE1T0</th>\n",
       "      <th>AEAGHOAWE3T0</th>\n",
       "      <th>AEAGHOAWE3A0</th>\n",
       "      <th>AEAGHOAWE3T1</th>\n",
       "      <th>...</th>\n",
       "      <th>RWWIHOT7_RV0</th>\n",
       "      <th>RWWIHOT8_RV0</th>\n",
       "      <th>RWWIHOT9_RV0</th>\n",
       "      <th>RWWIHOT10RV0</th>\n",
       "      <th>RWWIHOTSURV0</th>\n",
       "      <th>RWWIHOTSUMV0</th>\n",
       "      <th>RWWIHO_VERV0</th>\n",
       "      <th>RWWIHO_UESV0</th>\n",
       "      <th>RWWIHOSUMAV0</th>\n",
       "      <th>AEWIHO_T9AV2</th>\n",
       "    </tr>\n",
       "  </thead>\n",
       "  <tbody>\n",
       "    <tr>\n",
       "      <th>4</th>\n",
       "      <td>2019-04-15 08:48:00</td>\n",
       "      <td>72.549020</td>\n",
       "      <td>18.402556</td>\n",
       "      <td>98.186038</td>\n",
       "      <td>19.591687</td>\n",
       "      <td>91.408672</td>\n",
       "      <td>69.969526</td>\n",
       "      <td>95.607810</td>\n",
       "      <td>8.014898</td>\n",
       "      <td>58.697162</td>\n",
       "      <td>...</td>\n",
       "      <td>82.078296</td>\n",
       "      <td>53.172932</td>\n",
       "      <td>26.605640</td>\n",
       "      <td>75.685755</td>\n",
       "      <td>66.529224</td>\n",
       "      <td>56.640964</td>\n",
       "      <td>69.299560</td>\n",
       "      <td>9.121256</td>\n",
       "      <td>2.269317</td>\n",
       "      <td>78.780987</td>\n",
       "    </tr>\n",
       "    <tr>\n",
       "      <th>3</th>\n",
       "      <td>2019-04-15 08:49:00</td>\n",
       "      <td>73.010381</td>\n",
       "      <td>27.772137</td>\n",
       "      <td>98.371549</td>\n",
       "      <td>35.991205</td>\n",
       "      <td>91.876236</td>\n",
       "      <td>69.850105</td>\n",
       "      <td>95.607810</td>\n",
       "      <td>19.492370</td>\n",
       "      <td>58.231774</td>\n",
       "      <td>...</td>\n",
       "      <td>82.074011</td>\n",
       "      <td>53.015226</td>\n",
       "      <td>26.266369</td>\n",
       "      <td>75.685755</td>\n",
       "      <td>66.373907</td>\n",
       "      <td>56.527297</td>\n",
       "      <td>69.391059</td>\n",
       "      <td>9.138625</td>\n",
       "      <td>2.281882</td>\n",
       "      <td>78.450988</td>\n",
       "    </tr>\n",
       "    <tr>\n",
       "      <th>2</th>\n",
       "      <td>2019-04-15 08:50:00</td>\n",
       "      <td>73.471742</td>\n",
       "      <td>25.843589</td>\n",
       "      <td>98.371549</td>\n",
       "      <td>33.166077</td>\n",
       "      <td>92.343799</td>\n",
       "      <td>69.969526</td>\n",
       "      <td>95.628479</td>\n",
       "      <td>21.591973</td>\n",
       "      <td>58.231774</td>\n",
       "      <td>...</td>\n",
       "      <td>82.098144</td>\n",
       "      <td>53.029243</td>\n",
       "      <td>26.851837</td>\n",
       "      <td>75.685755</td>\n",
       "      <td>66.587330</td>\n",
       "      <td>56.402658</td>\n",
       "      <td>68.853203</td>\n",
       "      <td>9.136596</td>\n",
       "      <td>2.275735</td>\n",
       "      <td>78.361331</td>\n",
       "    </tr>\n",
       "    <tr>\n",
       "      <th>1</th>\n",
       "      <td>2019-04-15 08:51:00</td>\n",
       "      <td>73.933103</td>\n",
       "      <td>18.088026</td>\n",
       "      <td>98.186038</td>\n",
       "      <td>18.943335</td>\n",
       "      <td>92.869960</td>\n",
       "      <td>69.969526</td>\n",
       "      <td>95.445534</td>\n",
       "      <td>12.856953</td>\n",
       "      <td>58.231774</td>\n",
       "      <td>...</td>\n",
       "      <td>82.082055</td>\n",
       "      <td>53.182296</td>\n",
       "      <td>26.967692</td>\n",
       "      <td>75.685755</td>\n",
       "      <td>66.649583</td>\n",
       "      <td>56.385432</td>\n",
       "      <td>68.734584</td>\n",
       "      <td>9.127668</td>\n",
       "      <td>2.275890</td>\n",
       "      <td>78.222914</td>\n",
       "    </tr>\n",
       "    <tr>\n",
       "      <th>0</th>\n",
       "      <td>2019-04-15 08:52:00</td>\n",
       "      <td>74.451979</td>\n",
       "      <td>19.111606</td>\n",
       "      <td>98.371549</td>\n",
       "      <td>18.819155</td>\n",
       "      <td>93.337524</td>\n",
       "      <td>69.969526</td>\n",
       "      <td>95.445534</td>\n",
       "      <td>7.802471</td>\n",
       "      <td>57.766387</td>\n",
       "      <td>...</td>\n",
       "      <td>92.632593</td>\n",
       "      <td>44.620461</td>\n",
       "      <td>22.338103</td>\n",
       "      <td>75.685755</td>\n",
       "      <td>73.945394</td>\n",
       "      <td>0.000000</td>\n",
       "      <td>0.000000</td>\n",
       "      <td>0.000000</td>\n",
       "      <td>0.000000</td>\n",
       "      <td>78.101485</td>\n",
       "    </tr>\n",
       "  </tbody>\n",
       "</table>\n",
       "<p>5 rows × 4219 columns</p>\n",
       "</div>"
      ],
      "text/plain": [
       "             dateTime  AEAGHOAWE2T1  AEAGHOAWE2A0  AEAGHOAWE2T0  AEAGHOAWE1A0  \\\n",
       "4 2019-04-15 08:48:00     72.549020     18.402556     98.186038     19.591687   \n",
       "3 2019-04-15 08:49:00     73.010381     27.772137     98.371549     35.991205   \n",
       "2 2019-04-15 08:50:00     73.471742     25.843589     98.371549     33.166077   \n",
       "1 2019-04-15 08:51:00     73.933103     18.088026     98.186038     18.943335   \n",
       "0 2019-04-15 08:52:00     74.451979     19.111606     98.371549     18.819155   \n",
       "\n",
       "   AEAGHOAWE1T1  AEAGHOAWE1T0  AEAGHOAWE3T0  AEAGHOAWE3A0  AEAGHOAWE3T1  ...  \\\n",
       "4     91.408672     69.969526     95.607810      8.014898     58.697162  ...   \n",
       "3     91.876236     69.850105     95.607810     19.492370     58.231774  ...   \n",
       "2     92.343799     69.969526     95.628479     21.591973     58.231774  ...   \n",
       "1     92.869960     69.969526     95.445534     12.856953     58.231774  ...   \n",
       "0     93.337524     69.969526     95.445534      7.802471     57.766387  ...   \n",
       "\n",
       "   RWWIHOT7_RV0  RWWIHOT8_RV0  RWWIHOT9_RV0  RWWIHOT10RV0  RWWIHOTSURV0  \\\n",
       "4     82.078296     53.172932     26.605640     75.685755     66.529224   \n",
       "3     82.074011     53.015226     26.266369     75.685755     66.373907   \n",
       "2     82.098144     53.029243     26.851837     75.685755     66.587330   \n",
       "1     82.082055     53.182296     26.967692     75.685755     66.649583   \n",
       "0     92.632593     44.620461     22.338103     75.685755     73.945394   \n",
       "\n",
       "   RWWIHOTSUMV0  RWWIHO_VERV0  RWWIHO_UESV0  RWWIHOSUMAV0  AEWIHO_T9AV2  \n",
       "4     56.640964     69.299560      9.121256      2.269317     78.780987  \n",
       "3     56.527297     69.391059      9.138625      2.281882     78.450988  \n",
       "2     56.402658     68.853203      9.136596      2.275735     78.361331  \n",
       "1     56.385432     68.734584      9.127668      2.275890     78.222914  \n",
       "0      0.000000      0.000000      0.000000      0.000000     78.101485  \n",
       "\n",
       "[5 rows x 4219 columns]"
      ]
     },
     "execution_count": 11,
     "metadata": {},
     "output_type": "execute_result"
    }
   ],
   "source": [
    "dataframe_no_zero_value_blast_furnace.tail()"
   ]
  },
  {
   "cell_type": "markdown",
   "metadata": {},
   "source": [
    "# this is not working . weird roblem. finding error in index. but if print the array then those index value is in the array"
   ]
  },
  {
   "cell_type": "code",
   "execution_count": null,
   "metadata": {
    "scrolled": true
   },
   "outputs": [],
   "source": [
    "# def drop_zero_value_row_of_target_signal(dataframe, target_signal):\n",
    "#     count = []\n",
    "#     for idx_blast_furnace, val_blast_furnace in enumerate(dataframe[target_signal]):\n",
    "#         if val_blast_furnace == 0 :\n",
    "# #             print(type(idx_blast_furnace))\n",
    "#             ids = int(idx_blast_furnace)\n",
    "# #             print(type(ids))\n",
    "#             count = np.append(count,ids)\n",
    "# #     print('!!!',count.size)\n",
    "# #     print(type(count))\n",
    "    \n",
    "#     for i in count:\n",
    "#         if i > 24222:\n",
    "#             print(i)\n",
    "#     print('size of count array: ', count.size)\n",
    "\n",
    "#     if count.size > 0:\n",
    "#         dataframe_1 = dataframe.drop(count,axis=0) # axis= 0 means row indiated. 1 means column indicated\n",
    "#     else:\n",
    "#         dataframe_1 = dataframe\n",
    "        \n",
    "        \n",
    "#     return dataframe_1\n",
    "# target_signal = 'AEWIHO_T9AV2'\n",
    "\n",
    "# dataframe_no_zero_value_target_column = drop_zero_value_row_of_target_signal(dataframe_no_zero_value_blast_furnace,\n",
    "#                                                                                     target_signal)"
   ]
  },
  {
   "cell_type": "markdown",
   "metadata": {},
   "source": [
    "# but here the previous function is working. If just dataframe which is passing through the function's index will reset before passing"
   ]
  },
  {
   "cell_type": "code",
   "execution_count": 12,
   "metadata": {
    "scrolled": true
   },
   "outputs": [
    {
     "name": "stdout",
     "output_type": "stream",
     "text": [
      "24223.0\n",
      "24224.0\n",
      "24231.0\n",
      "size of count array:  110\n",
      "here look the change----\n",
      "shape of multivariate_data_changed_order:  (25000, 4220)\n",
      "shape of dataframe_no_zero_value_blast_furnace:  (24240, 4219)\n",
      "shape of dataframe_no_zero_value_target_column:  (24130, 4219)\n"
     ]
    }
   ],
   "source": [
    "def drop_zero_value_row_of_target_signal(dataframe, target_signal):\n",
    "    count = []\n",
    "    for idx_blast_furnace, val_blast_furnace in enumerate(dataframe[target_signal]):\n",
    "        if val_blast_furnace == 0 :\n",
    "            count = np.append(count,idx_blast_furnace)\n",
    "\n",
    "    for i in count:\n",
    "        if i > 24222:\n",
    "            print(i)\n",
    "    print('size of count array: ', count.size)\n",
    "\n",
    "    if count.size > 0:\n",
    "        dataframe_1 = dataframe.drop(count,axis=0) # axis= 0 means row indiated. 1 means column indicated\n",
    "    else:\n",
    "        dataframe_1 = dataframe\n",
    "    dataframe_1 = dataframe_1.drop(dataframe_1.columns[0], axis = 1)\n",
    "    return dataframe_1\n",
    "\n",
    "\n",
    "target_signal = 'AEWIHO_T9AV2'\n",
    "dataframe_reset = dataframe_no_zero_value_blast_furnace.reset_index()\n",
    "dataframe_no_zero_value_target_column = drop_zero_value_row_of_target_signal(dataframe_reset,target_signal)\n",
    "\n",
    "print('here look the change----')\n",
    "print('shape of multivariate_data_changed_order: ', f_2.shape)\n",
    "print('shape of dataframe_no_zero_value_blast_furnace: ', dataframe_no_zero_value_blast_furnace.shape)\n",
    "print('shape of dataframe_no_zero_value_target_column: ', dataframe_no_zero_value_target_column.shape)"
   ]
  },
  {
   "cell_type": "code",
   "execution_count": 13,
   "metadata": {},
   "outputs": [
    {
     "data": {
      "text/html": [
       "<div>\n",
       "<style scoped>\n",
       "    .dataframe tbody tr th:only-of-type {\n",
       "        vertical-align: middle;\n",
       "    }\n",
       "\n",
       "    .dataframe tbody tr th {\n",
       "        vertical-align: top;\n",
       "    }\n",
       "\n",
       "    .dataframe thead th {\n",
       "        text-align: right;\n",
       "    }\n",
       "</style>\n",
       "<table border=\"1\" class=\"dataframe\">\n",
       "  <thead>\n",
       "    <tr style=\"text-align: right;\">\n",
       "      <th></th>\n",
       "      <th>dateTime</th>\n",
       "      <th>AEAGHOAWE2T1</th>\n",
       "      <th>AEAGHOAWE2A0</th>\n",
       "      <th>AEAGHOAWE2T0</th>\n",
       "      <th>AEAGHOAWE1A0</th>\n",
       "      <th>AEAGHOAWE1T1</th>\n",
       "      <th>AEAGHOAWE1T0</th>\n",
       "      <th>AEAGHOAWE3T0</th>\n",
       "      <th>AEAGHOAWE3A0</th>\n",
       "      <th>AEAGHOAWE3T1</th>\n",
       "      <th>...</th>\n",
       "      <th>RWWIHOT7_RV0</th>\n",
       "      <th>RWWIHOT8_RV0</th>\n",
       "      <th>RWWIHOT9_RV0</th>\n",
       "      <th>RWWIHOT10RV0</th>\n",
       "      <th>RWWIHOTSURV0</th>\n",
       "      <th>RWWIHOTSUMV0</th>\n",
       "      <th>RWWIHO_VERV0</th>\n",
       "      <th>RWWIHO_UESV0</th>\n",
       "      <th>RWWIHOSUMAV0</th>\n",
       "      <th>AEWIHO_T9AV2</th>\n",
       "    </tr>\n",
       "  </thead>\n",
       "  <tbody>\n",
       "    <tr>\n",
       "      <th>0</th>\n",
       "      <td>2019-03-11 03:14:00</td>\n",
       "      <td>72.030143</td>\n",
       "      <td>21.542766</td>\n",
       "      <td>94.083085</td>\n",
       "      <td>22.656925</td>\n",
       "      <td>82.875638</td>\n",
       "      <td>67.650387</td>\n",
       "      <td>95.811415</td>\n",
       "      <td>11.299942</td>\n",
       "      <td>60.849423</td>\n",
       "      <td>...</td>\n",
       "      <td>92.507129</td>\n",
       "      <td>44.620461</td>\n",
       "      <td>28.127074</td>\n",
       "      <td>82.825607</td>\n",
       "      <td>78.104338</td>\n",
       "      <td>67.050713</td>\n",
       "      <td>75.017129</td>\n",
       "      <td>0.385938</td>\n",
       "      <td>5.503583</td>\n",
       "      <td>79.178306</td>\n",
       "    </tr>\n",
       "    <tr>\n",
       "      <th>1</th>\n",
       "      <td>2019-03-11 03:15:00</td>\n",
       "      <td>72.491504</td>\n",
       "      <td>26.431470</td>\n",
       "      <td>94.083085</td>\n",
       "      <td>27.250685</td>\n",
       "      <td>82.875638</td>\n",
       "      <td>67.530966</td>\n",
       "      <td>95.648382</td>\n",
       "      <td>15.316148</td>\n",
       "      <td>60.849423</td>\n",
       "      <td>...</td>\n",
       "      <td>92.521725</td>\n",
       "      <td>44.620461</td>\n",
       "      <td>30.234661</td>\n",
       "      <td>82.718776</td>\n",
       "      <td>78.744878</td>\n",
       "      <td>67.904313</td>\n",
       "      <td>74.995147</td>\n",
       "      <td>0.391870</td>\n",
       "      <td>5.464381</td>\n",
       "      <td>81.659117</td>\n",
       "    </tr>\n",
       "    <tr>\n",
       "      <th>2</th>\n",
       "      <td>2019-03-11 03:16:00</td>\n",
       "      <td>72.952865</td>\n",
       "      <td>16.340439</td>\n",
       "      <td>94.083085</td>\n",
       "      <td>9.402699</td>\n",
       "      <td>83.810765</td>\n",
       "      <td>67.501116</td>\n",
       "      <td>95.648382</td>\n",
       "      <td>7.900882</td>\n",
       "      <td>60.384036</td>\n",
       "      <td>...</td>\n",
       "      <td>92.484799</td>\n",
       "      <td>44.620461</td>\n",
       "      <td>33.680038</td>\n",
       "      <td>82.812397</td>\n",
       "      <td>79.820670</td>\n",
       "      <td>69.482925</td>\n",
       "      <td>75.118191</td>\n",
       "      <td>0.391758</td>\n",
       "      <td>5.461172</td>\n",
       "      <td>86.055430</td>\n",
       "    </tr>\n",
       "    <tr>\n",
       "      <th>3</th>\n",
       "      <td>2019-03-11 03:17:00</td>\n",
       "      <td>73.414226</td>\n",
       "      <td>25.111296</td>\n",
       "      <td>94.247637</td>\n",
       "      <td>20.460754</td>\n",
       "      <td>84.336621</td>\n",
       "      <td>67.501116</td>\n",
       "      <td>95.648382</td>\n",
       "      <td>8.682349</td>\n",
       "      <td>60.384036</td>\n",
       "      <td>...</td>\n",
       "      <td>92.458005</td>\n",
       "      <td>44.620461</td>\n",
       "      <td>36.388113</td>\n",
       "      <td>82.644399</td>\n",
       "      <td>80.584952</td>\n",
       "      <td>69.763910</td>\n",
       "      <td>74.112424</td>\n",
       "      <td>0.396539</td>\n",
       "      <td>5.446945</td>\n",
       "      <td>87.113691</td>\n",
       "    </tr>\n",
       "    <tr>\n",
       "      <th>4</th>\n",
       "      <td>2019-03-11 03:18:00</td>\n",
       "      <td>73.875587</td>\n",
       "      <td>26.183628</td>\n",
       "      <td>94.247637</td>\n",
       "      <td>26.243646</td>\n",
       "      <td>84.862783</td>\n",
       "      <td>67.635740</td>\n",
       "      <td>95.486096</td>\n",
       "      <td>16.656556</td>\n",
       "      <td>60.384036</td>\n",
       "      <td>...</td>\n",
       "      <td>92.467179</td>\n",
       "      <td>44.620461</td>\n",
       "      <td>35.372044</td>\n",
       "      <td>82.999752</td>\n",
       "      <td>80.398505</td>\n",
       "      <td>69.927938</td>\n",
       "      <td>74.680827</td>\n",
       "      <td>0.390438</td>\n",
       "      <td>5.434438</td>\n",
       "      <td>87.266264</td>\n",
       "    </tr>\n",
       "  </tbody>\n",
       "</table>\n",
       "<p>5 rows × 4219 columns</p>\n",
       "</div>"
      ],
      "text/plain": [
       "             dateTime  AEAGHOAWE2T1  AEAGHOAWE2A0  AEAGHOAWE2T0  AEAGHOAWE1A0  \\\n",
       "0 2019-03-11 03:14:00     72.030143     21.542766     94.083085     22.656925   \n",
       "1 2019-03-11 03:15:00     72.491504     26.431470     94.083085     27.250685   \n",
       "2 2019-03-11 03:16:00     72.952865     16.340439     94.083085      9.402699   \n",
       "3 2019-03-11 03:17:00     73.414226     25.111296     94.247637     20.460754   \n",
       "4 2019-03-11 03:18:00     73.875587     26.183628     94.247637     26.243646   \n",
       "\n",
       "   AEAGHOAWE1T1  AEAGHOAWE1T0  AEAGHOAWE3T0  AEAGHOAWE3A0  AEAGHOAWE3T1  ...  \\\n",
       "0     82.875638     67.650387     95.811415     11.299942     60.849423  ...   \n",
       "1     82.875638     67.530966     95.648382     15.316148     60.849423  ...   \n",
       "2     83.810765     67.501116     95.648382      7.900882     60.384036  ...   \n",
       "3     84.336621     67.501116     95.648382      8.682349     60.384036  ...   \n",
       "4     84.862783     67.635740     95.486096     16.656556     60.384036  ...   \n",
       "\n",
       "   RWWIHOT7_RV0  RWWIHOT8_RV0  RWWIHOT9_RV0  RWWIHOT10RV0  RWWIHOTSURV0  \\\n",
       "0     92.507129     44.620461     28.127074     82.825607     78.104338   \n",
       "1     92.521725     44.620461     30.234661     82.718776     78.744878   \n",
       "2     92.484799     44.620461     33.680038     82.812397     79.820670   \n",
       "3     92.458005     44.620461     36.388113     82.644399     80.584952   \n",
       "4     92.467179     44.620461     35.372044     82.999752     80.398505   \n",
       "\n",
       "   RWWIHOTSUMV0  RWWIHO_VERV0  RWWIHO_UESV0  RWWIHOSUMAV0  AEWIHO_T9AV2  \n",
       "0     67.050713     75.017129      0.385938      5.503583     79.178306  \n",
       "1     67.904313     74.995147      0.391870      5.464381     81.659117  \n",
       "2     69.482925     75.118191      0.391758      5.461172     86.055430  \n",
       "3     69.763910     74.112424      0.396539      5.446945     87.113691  \n",
       "4     69.927938     74.680827      0.390438      5.434438     87.266264  \n",
       "\n",
       "[5 rows x 4219 columns]"
      ]
     },
     "execution_count": 13,
     "metadata": {},
     "output_type": "execute_result"
    }
   ],
   "source": [
    "dataframe_no_zero_value_target_column.head()"
   ]
  },
  {
   "cell_type": "code",
   "execution_count": 15,
   "metadata": {},
   "outputs": [],
   "source": [
    "# dataframe_new = dataframe_no_zero_value_target_column.drop(['index','row ID'], axis=1)\n",
    "# dataframe_datetime = dataframe_new.set_index('dateTime')"
   ]
  },
  {
   "cell_type": "code",
   "execution_count": 16,
   "metadata": {},
   "outputs": [],
   "source": [
    "dataframe_datetime = dataframe_no_zero_value_target_column.set_index('dateTime')"
   ]
  },
  {
   "cell_type": "code",
   "execution_count": null,
   "metadata": {},
   "outputs": [],
   "source": [
    "# drop all of the column who has always same value\n",
    "\n",
    "multivariate_data_drop_column_with_same_value = dataframe_datetime.drop(dataframe_datetime.std()\n",
    "                                                                        [(dataframe_datetime.std() == 0)].index, axis=1)"
   ]
  },
  {
   "cell_type": "code",
   "execution_count": 44,
   "metadata": {},
   "outputs": [
    {
     "name": "stdout",
     "output_type": "stream",
     "text": [
      "dataframe_datetime shape:  (24130, 10)\n",
      "multivariate_data_drop_column_with_same_value shape:  (24130, 10)\n"
     ]
    }
   ],
   "source": [
    "print('dataframe_datetime shape: ', dataframe_datetime.shape)\n",
    "print('multivariate_data_drop_column_with_same_value shape: ', multivariate_data_drop_column_with_same_value.shape)\n",
    "# multivariate_data_drop_column_with_same_value.head()"
   ]
  },
  {
   "cell_type": "code",
   "execution_count": null,
   "metadata": {
    "scrolled": true
   },
   "outputs": [],
   "source": [
    "# # dataframe_no_zero_value_blast_furnace.iloc[24231][:]\n",
    "\n",
    "# signal = [blast_furnace_signal, target_signal]\n",
    "# value = [100,0]\n",
    "\n",
    "# def make_frame(dataframe, signal, value):\n",
    "#     a_array = []\n",
    "#     b_array = []\n",
    "    \n",
    "#     for i,v in enumerate(signal):\n",
    "#         if v == blast_furnace_signal:\n",
    "#             new_target=v\n",
    "#             for idx, valx in enumerate(dataframe[new_target]):\n",
    "#                 if valx != value[i]:\n",
    "#                     a_array = np.append(a_array,idx)\n",
    "#             if a_array.size > 0:\n",
    "#                 dataframe_1 = dataframe.drop(a_array,axis=0) # axis= 0 means row indiated. 1 means column indicated\n",
    "#             else:\n",
    "#                 dataframe_1 = dataframe\n",
    "#             print('uu')\n",
    "#             dataframe = dataframe_1\n",
    "            \n",
    "            \n",
    "#         else:\n",
    "#             new_target_1 = v\n",
    "#             print(new_target_1)\n",
    "#             print(value[i])\n",
    "#             for idx_1,valx_1 in enumerate(dataframe[new_target_1]):\n",
    "#                 if valx_1 == value[i]:\n",
    "# #                     print(valx_1)\n",
    "#                     b_array = np.append(b_array,idx_1)\n",
    "#             if b_array.size > 0:\n",
    "#                 dataframe_2 = dataframe.drop(dataframe,axis=0) # axis= 0 means row indiated. 1 means column indicated\n",
    "#             else:\n",
    "#                 dataframe_2 = dataframe\n",
    "    \n",
    "#     return dataframe_2\n",
    "    \n",
    "# r = make_frame(multivariate_data_changed_order,signal,value) "
   ]
  },
  {
   "cell_type": "markdown",
   "metadata": {},
   "source": [
    "# new function works flawlessly."
   ]
  },
  {
   "cell_type": "code",
   "execution_count": null,
   "metadata": {},
   "outputs": [],
   "source": [
    "def keep_100(data_frame,col_name,val):\n",
    "    df = data_frame[(data_frame[[col_name]] == val).all(axis=1)]\n",
    "    return df\n",
    "def remove_zero(data_frame,col_name,val):\n",
    "    df = data_frame[(data_frame[[col_name]] != val).all(axis=1)]\n",
    "    return df\n",
    "\n",
    "d = remove_100(multivariate_data_changed_order,blast_furnace_signal,100)"
   ]
  },
  {
   "cell_type": "code",
   "execution_count": null,
   "metadata": {},
   "outputs": [],
   "source": [
    "e = remove_zero(d,target_signal,0)"
   ]
  },
  {
   "cell_type": "code",
   "execution_count": null,
   "metadata": {},
   "outputs": [],
   "source": [
    "e.shape"
   ]
  },
  {
   "cell_type": "code",
   "execution_count": null,
   "metadata": {},
   "outputs": [],
   "source": [
    "test_1 = remove_val(test,desired_col, desired_val)"
   ]
  },
  {
   "cell_type": "code",
   "execution_count": null,
   "metadata": {},
   "outputs": [],
   "source": [
    "# Think twice before using this function\n",
    "# checking if any column has zero value or not. If YES then replace zero with NAN and drop the row\n",
    "\n",
    "# a = dataframe_no_zero_value_blast_furnace[blast_furnace_signal].isnull().sum()\n",
    "# print(a)\n",
    "\n",
    "def drop_nan_value(dataframe):\n",
    "    for index,column in enumerate(dataframe):\n",
    "        nan_catcher = dataframe[column].isnull().sum()\n",
    "        if nan_catcher !=0:\n",
    "            multivariate_data_drop_zero = dataframe[column].replace(0,nan)\n",
    "            multivariate_data_drop_zero=multivariate_data_drop_zero.dropna(how='any',axis=0)\n",
    "#             print(column,' has total',nan_catcher, 'nan valu')\n",
    "        else:\n",
    "            multivariate_data_drop_zero = dataframe\n",
    "#             print(column,' is free from nan value. look it has: ', nan_catcher,' value')\n",
    "            \n",
    "    return multivariate_data_drop_zero\n",
    "\n",
    "multivariate_data_drop_zero = drop_nan_value(dataframe_no_zero_value_blast_furnace)"
   ]
  },
  {
   "cell_type": "code",
   "execution_count": null,
   "metadata": {},
   "outputs": [],
   "source": [
    "# # as this dataframe has created by taking value for each minute. \n",
    "# # so it should be checked is there every minute is present or not.\n",
    "# # for doing this a function to do resampling for '1 min' and then fill the new row if has created with interpolation\n",
    "# # will be added. But if the new dataframe contains more than 20 percent rows of the previous dataframe the new one will\n",
    "# # not be used\n",
    "\n",
    "# def resample_and_interpolation(dataframe,resampling_term,interpolation_way):\n",
    "    \n",
    "#     dataframe = dataframe.set_index('dateTime')\n",
    "#     multivariate_data_drop_zero_resample = dataframe.resample(resampling_term).mean()\n",
    "#     multivariate_data_drop_zero_interpolate = multivariate_data_drop_zero_resample.interpolate(interpolation_way)\n",
    "    \n",
    "#     return multivariate_data_drop_zero_interpolate\n",
    "\n",
    "\n",
    "# resampling_term = '1min'\n",
    "# interpolation_way = 'linear'\n",
    "# multivariate_data_drop_zero_interpolate = resample_and_interpolation(multivariate_data_drop_zero,resampling_term,interpolation_way)\n",
    "# # multivariate_data_drop_zero_resample = multivariate_data_drop_zero.resample('1min').mean()\n",
    "# # multivariate_data_drop_zero_interpolate = multivariate_data_drop_zero_resample.interpolate('linear')"
   ]
  },
  {
   "cell_type": "code",
   "execution_count": null,
   "metadata": {},
   "outputs": [],
   "source": [
    "# print(multivariate_data_drop_zero.loc[[24227]])"
   ]
  },
  {
   "cell_type": "code",
   "execution_count": 45,
   "metadata": {
    "scrolled": true
   },
   "outputs": [
    {
     "data": {
      "image/png": "[encoded data removed]",
      "text/plain": [
       "<Figure size 432x288 with 1 Axes>"
      ]
     },
     "metadata": {},
     "output_type": "display_data"
    }
   ],
   "source": [
    "multivariate_data_drop_column_with_same_value.iloc[0:].plot(y = multivariate_data_drop_column_with_same_value.columns[-1], use_index=True)\n",
    "plt.rcParams['figure.figsize'] =(15,5)"
   ]
  },
  {
   "cell_type": "code",
   "execution_count": null,
   "metadata": {},
   "outputs": [],
   "source": []
  },
  {
   "cell_type": "code",
   "execution_count": null,
   "metadata": {
    "scrolled": true
   },
   "outputs": [],
   "source": [
    "print(multivariate_data_drop_zero.shape)\n",
    "print(multivariate_data_drop_column_with_same_value.shape)"
   ]
  },
  {
   "cell_type": "code",
   "execution_count": null,
   "metadata": {},
   "outputs": [],
   "source": [
    "path = 'E:/University of Bremen MSc/masters_thesis/forecasting_sensor_data_Salzgitter_AG/univariate_data_for_prediction/figure_from_code'\n",
    "multivariate_data_drop_column_with_same_value.to_csv(path+'/'+'file_no_column_with_unique_value.csv')"
   ]
  },
  {
   "cell_type": "markdown",
   "metadata": {},
   "source": [
    "# function which will return dataframe which has only best feature column using SelectKBest"
   ]
  },
  {
   "cell_type": "code",
   "execution_count": 47,
   "metadata": {},
   "outputs": [
    {
     "data": {
      "text/html": [
       "<div>\n",
       "<style scoped>\n",
       "    .dataframe tbody tr th:only-of-type {\n",
       "        vertical-align: middle;\n",
       "    }\n",
       "\n",
       "    .dataframe tbody tr th {\n",
       "        vertical-align: top;\n",
       "    }\n",
       "\n",
       "    .dataframe thead th {\n",
       "        text-align: right;\n",
       "    }\n",
       "</style>\n",
       "<table border=\"1\" class=\"dataframe\">\n",
       "  <thead>\n",
       "    <tr style=\"text-align: right;\">\n",
       "      <th></th>\n",
       "      <th>RWWIHOB_MWT0</th>\n",
       "      <th>RWWIHOB_HWT0</th>\n",
       "      <th>AEDAHO_T9_V2</th>\n",
       "      <th>AEDATZ_HO_V0</th>\n",
       "      <th>AEDATZ_HO_P1</th>\n",
       "      <th>AEWIHO_T9AV2</th>\n",
       "    </tr>\n",
       "    <tr>\n",
       "      <th>dateTime</th>\n",
       "      <th></th>\n",
       "      <th></th>\n",
       "      <th></th>\n",
       "      <th></th>\n",
       "      <th></th>\n",
       "      <th></th>\n",
       "    </tr>\n",
       "  </thead>\n",
       "  <tbody>\n",
       "    <tr>\n",
       "      <th>2019-03-11 03:14:00</th>\n",
       "      <td>96.594824</td>\n",
       "      <td>94.076290</td>\n",
       "      <td>83.327361</td>\n",
       "      <td>46.119388</td>\n",
       "      <td>97.357811</td>\n",
       "      <td>79.178306</td>\n",
       "    </tr>\n",
       "    <tr>\n",
       "      <th>2019-03-11 03:15:00</th>\n",
       "      <td>96.529931</td>\n",
       "      <td>94.003521</td>\n",
       "      <td>84.314814</td>\n",
       "      <td>46.534541</td>\n",
       "      <td>97.563494</td>\n",
       "      <td>81.659117</td>\n",
       "    </tr>\n",
       "    <tr>\n",
       "      <th>2019-03-11 03:16:00</th>\n",
       "      <td>96.404936</td>\n",
       "      <td>93.851567</td>\n",
       "      <td>84.380943</td>\n",
       "      <td>46.555631</td>\n",
       "      <td>97.431268</td>\n",
       "      <td>86.055430</td>\n",
       "    </tr>\n",
       "    <tr>\n",
       "      <th>2019-03-11 03:17:00</th>\n",
       "      <td>96.295169</td>\n",
       "      <td>93.727603</td>\n",
       "      <td>83.279853</td>\n",
       "      <td>45.940449</td>\n",
       "      <td>97.252133</td>\n",
       "      <td>87.113691</td>\n",
       "    </tr>\n",
       "    <tr>\n",
       "      <th>2019-03-11 03:18:00</th>\n",
       "      <td>96.264723</td>\n",
       "      <td>93.643636</td>\n",
       "      <td>79.963124</td>\n",
       "      <td>44.218947</td>\n",
       "      <td>97.289250</td>\n",
       "      <td>87.266264</td>\n",
       "    </tr>\n",
       "  </tbody>\n",
       "</table>\n",
       "</div>"
      ],
      "text/plain": [
       "                     RWWIHOB_MWT0  RWWIHOB_HWT0  AEDAHO_T9_V2  AEDATZ_HO_V0  \\\n",
       "dateTime                                                                      \n",
       "2019-03-11 03:14:00     96.594824     94.076290     83.327361     46.119388   \n",
       "2019-03-11 03:15:00     96.529931     94.003521     84.314814     46.534541   \n",
       "2019-03-11 03:16:00     96.404936     93.851567     84.380943     46.555631   \n",
       "2019-03-11 03:17:00     96.295169     93.727603     83.279853     45.940449   \n",
       "2019-03-11 03:18:00     96.264723     93.643636     79.963124     44.218947   \n",
       "\n",
       "                     AEDATZ_HO_P1  AEWIHO_T9AV2  \n",
       "dateTime                                         \n",
       "2019-03-11 03:14:00     97.357811     79.178306  \n",
       "2019-03-11 03:15:00     97.563494     81.659117  \n",
       "2019-03-11 03:16:00     97.431268     86.055430  \n",
       "2019-03-11 03:17:00     97.252133     87.113691  \n",
       "2019-03-11 03:18:00     97.289250     87.266264  "
      ]
     },
     "execution_count": 47,
     "metadata": {},
     "output_type": "execute_result"
    }
   ],
   "source": [
    "def feature_selection_with_selectKbest(dataframe,max_best_number):\n",
    "    train_input = dataframe.iloc[:,:-1]\n",
    "    train_output = dataframe.iloc[:,-1]\n",
    "    train_output = train_output.to_frame()\n",
    "    \n",
    "    X, y = train_input, train_output\n",
    "    X = X.astype(int)\n",
    "    y = y.astype(int)\n",
    "    \n",
    "    bestfeatures = SelectKBest(score_func=chi2, k=2)\n",
    "    fit = bestfeatures.fit(X,y)\n",
    "    dfscores = pd.DataFrame(fit.scores_)\n",
    "    dfcolumns = pd.DataFrame(X.columns)\n",
    "    \n",
    "    featureScores = pd.concat([dfcolumns,dfscores],axis=1)\n",
    "    featureScores.columns = ['Specs','Score']  #naming the dataframe columns\n",
    "#     print(featureScores.nlargest(20,'Score'))  #print 10 best features\n",
    "    d = featureScores.nlargest(max_best_number,'Score')\n",
    "    \n",
    "    e = []\n",
    "    for i,v in enumerate(d['Specs']):\n",
    "        e = np.append(e,v)\n",
    "    \n",
    "    e = np.append(e,dataframe.columns[-1])\n",
    "    final_dataframe = dataframe.iloc[:][e]\n",
    "    \n",
    "    return final_dataframe\n",
    "max_best_number = 5\n",
    "sklearn_feature_best_dataframe = feature_selection_with_selectKbest(multivariate_data_drop_column_with_same_value,\n",
    "                                                                    max_best_number)\n",
    "sklearn_feature_best_dataframe.head()\n",
    "    "
   ]
  },
  {
   "cell_type": "code",
   "execution_count": null,
   "metadata": {},
   "outputs": [],
   "source": [
    "# graph_array =[]\n",
    "# for j,k in d.iterrows():\n",
    "#     graph_array = np.append(graph_array,j)\n",
    "\n",
    "# for i in range(len(graph_array)):\n",
    "#     dataframe_to_train_time_index.iloc[0:].plot(y = dataframe_to_train_time_index.columns[i], use_index=True)\n",
    "#     plt.rcParams['figure.figsize'] =(5,5)"
   ]
  },
  {
   "cell_type": "markdown",
   "metadata": {},
   "source": [
    "# Correlation matrix"
   ]
  },
  {
   "cell_type": "code",
   "execution_count": 48,
   "metadata": {
    "scrolled": true
   },
   "outputs": [
    {
     "name": "stdout",
     "output_type": "stream",
     "text": [
      "(6, 6)\n",
      "(10, 10)\n"
     ]
    }
   ],
   "source": [
    "# find correlated matrix for dataframe which came from sklearn feature selection and the datafarem which has passed\n",
    "# to sklearn feature selection function\n",
    "\n",
    "def pearson_correlation(sklearn_dataframe, main_dataframe):\n",
    "    sklearn_correlation = sklearn_dataframe.corr()\n",
    "    main_correlation = main_dataframe.corr()\n",
    "    return sklearn_correlation, main_correlation\n",
    "\n",
    "sklearn_correlation, main_correlation = pearson_correlation(sklearn_feature_best_dataframe, \n",
    "                                                            multivariate_data_drop_column_with_same_value)\n",
    "print(sklearn_correlation.shape)\n",
    "print(main_correlation.shape)"
   ]
  },
  {
   "cell_type": "code",
   "execution_count": null,
   "metadata": {},
   "outputs": [],
   "source": [
    "# # correlated_dataframe.to_csv(path+'/'+'correlation_dataframe_where_no_column_with_same_value.csv')\n",
    "# sklearn_correlation.to_csv('sklearn_correlation_matrix.csv')\n",
    "# main_correlation.to_csv('main_correlation_matrix.csv')"
   ]
  },
  {
   "cell_type": "code",
   "execution_count": null,
   "metadata": {},
   "outputs": [],
   "source": []
  },
  {
   "cell_type": "code",
   "execution_count": null,
   "metadata": {},
   "outputs": [],
   "source": []
  },
  {
   "cell_type": "code",
   "execution_count": null,
   "metadata": {},
   "outputs": [],
   "source": [
    "# multivariate_data_drop = multivariate_data_2.drop([multivariate_data_2.columns[1],multivariate_data_2.columns[2],\n",
    "#                                                   multivariate_data_2.columns[-3],multivariate_data_2.columns[-2]], axis=1)"
   ]
  },
  {
   "cell_type": "code",
   "execution_count": null,
   "metadata": {},
   "outputs": [],
   "source": [
    "# multivariate_data_drop.columns.get_loc(\"AEWIHO_T9AV2\")"
   ]
  },
  {
   "cell_type": "code",
   "execution_count": null,
   "metadata": {},
   "outputs": [],
   "source": [
    "# multivariate_data_drop.columns[-1]"
   ]
  },
  {
   "cell_type": "code",
   "execution_count": null,
   "metadata": {},
   "outputs": [],
   "source": [
    "# multivariate_data_drop.tail()"
   ]
  },
  {
   "cell_type": "code",
   "execution_count": null,
   "metadata": {},
   "outputs": [],
   "source": [
    "# multivariate_data_drop.loc[4]['AEAGHOAWE2T1']"
   ]
  },
  {
   "cell_type": "code",
   "execution_count": null,
   "metadata": {},
   "outputs": [],
   "source": [
    "# multivariate_data_drop_dummy = multivariate_data_drop.set_index('dateTime')"
   ]
  },
  {
   "cell_type": "code",
   "execution_count": null,
   "metadata": {},
   "outputs": [],
   "source": [
    "# multivariate_data_drop_dummy.head()"
   ]
  },
  {
   "cell_type": "code",
   "execution_count": null,
   "metadata": {},
   "outputs": [],
   "source": [
    "# s.describe()"
   ]
  },
  {
   "cell_type": "code",
   "execution_count": null,
   "metadata": {},
   "outputs": [],
   "source": [
    "# multivariate_data[\"a\"] = pd.to_datetime(multivariate_data[\"dateTime_column\"])"
   ]
  },
  {
   "cell_type": "code",
   "execution_count": null,
   "metadata": {},
   "outputs": [],
   "source": [
    "# checking column type\n",
    "# s = multivariate_data['dateTime_column'].dtype\n",
    "# print(s)"
   ]
  },
  {
   "cell_type": "code",
   "execution_count": null,
   "metadata": {},
   "outputs": [],
   "source": [
    "# multivariate_data[\"a\"] = pd.to_datetime(multivariate_data[\"dateTime_column\"])\n",
    "# tr = multivariate_data.drop(multivariate_data.columns[-1], axis=1)"
   ]
  },
  {
   "cell_type": "code",
   "execution_count": null,
   "metadata": {
    "scrolled": true
   },
   "outputs": [],
   "source": [
    "# tr = multivariate_data_copy.copy()\n",
    "# tr['Date'] = multivariate_data['dateTime'].dt.strftime('%d/%m/%Y')\n",
    "# tr['Time'] = multivariate_data['dateTime'].dt.strftime('%H:%M:%S')\n",
    "\n",
    "# date_type = tr['Date'].dtype\n",
    "# time_type = tr['Time'].dtype\n",
    "# print('date_type: ', date_type)\n",
    "# print('time_type: ',time_type)"
   ]
  },
  {
   "cell_type": "code",
   "execution_count": null,
   "metadata": {},
   "outputs": [],
   "source": [
    "# # converting previously created date and time column to datetime type\n",
    "# tr['Date'] = pd.to_datetime(tr['Date'])\n",
    "# tr['Time'] = pd.to_datetime(tr['Time'])\n",
    "\n",
    "# date_type = tr['Date'].dtype\n",
    "# time_type = tr['Time'].dtype\n",
    "\n",
    "# print(\"to observe the difference look in the previous cell's output\")\n",
    "# print('date_type: ', date_type)\n",
    "# print('time_type: ',time_type)"
   ]
  },
  {
   "cell_type": "code",
   "execution_count": null,
   "metadata": {},
   "outputs": [],
   "source": [
    "# e1 = tr['Date'].dtype\n",
    "# print(type(e1))"
   ]
  },
  {
   "cell_type": "code",
   "execution_count": null,
   "metadata": {},
   "outputs": [],
   "source": [
    "# it will return a column with weekday name\n",
    "# tr['Weekday_name'] = tr.index.weekday_name"
   ]
  },
  {
   "cell_type": "code",
   "execution_count": null,
   "metadata": {},
   "outputs": [],
   "source": [
    "# It will return a column with number associated with DAY. like monday =0, Tuesday=1 and so on\n",
    "# tr['weekday'] = multivariate_data['dateTime_column'].apply(lambda x: x.weekday())"
   ]
  },
  {
   "cell_type": "code",
   "execution_count": null,
   "metadata": {},
   "outputs": [],
   "source": [
    "# tr['TypeofDAY'] = np.where(multivariate_data['dateTime_column'].dt.dayofweek < 5, 'Weekday', 'weekend') # if the associated number less than 5 then weekend, otherwise weekday\n",
    "# tr['TypeofDAY_number'] = np.where(multivariate_data['dateTime_column'].dt.dayofweek < 5, 1, 0) # 1 for weekday, 0 for weekend"
   ]
  },
  {
   "cell_type": "code",
   "execution_count": null,
   "metadata": {},
   "outputs": [],
   "source": [
    "# make all the time(without date) to numeric value\n",
    "# tr['numric_time'] = pd.to_timedelta(tr['Time']).dt.total_seconds()"
   ]
  },
  {
   "cell_type": "code",
   "execution_count": null,
   "metadata": {
    "scrolled": true
   },
   "outputs": [],
   "source": [
    "# tr.head()"
   ]
  },
  {
   "cell_type": "code",
   "execution_count": null,
   "metadata": {
    "scrolled": true
   },
   "outputs": [],
   "source": [
    "# tr.columns"
   ]
  },
  {
   "cell_type": "code",
   "execution_count": null,
   "metadata": {},
   "outputs": [],
   "source": [
    "# # this code will count how many date is came from 11th march\n",
    "# my_array=[]\n",
    "# count = 0\n",
    "\n",
    "# for index_2, value_2 in tr.iterrows():\n",
    "#     for i_2 , v_2 in enumerate(value_2):\n",
    "#         if i_2 == 12 and v_2 != 0.0:\n",
    "# #             print(v_2)\n",
    "#             v_2_split = v_2.split('/')\n",
    "#             if v_2_split[0] == '11' and v_2_split[1]=='03' :\n",
    "#                 my_array = np.append(my_array,index_2)\n",
    "# #                 print(v_2)\n",
    "# #                 print(count)\n",
    "            \n",
    "#                 count+=1\n",
    "# # print('-------',count)\n",
    "# print(len(my_array))"
   ]
  },
  {
   "cell_type": "code",
   "execution_count": null,
   "metadata": {},
   "outputs": [],
   "source": [
    "# modification of the previus code\n",
    "# tr_33 = tr.reset_index()\n",
    "# df2 = pd.DataFrame()\n",
    "# for idx , v_2 in enumerate(tr_33['Date']):\n",
    "# #     print(idx)\n",
    "#     if v_2 != 0.0:\n",
    "#         v_2_split = v_2.split('/')\n",
    "#         if v_2_split[0] == '11' and v_2_split[1]=='03':\n",
    "#             required_dataframe = pd.DataFrame(tr_33.iloc[idx:(idx+1),:], columns=tr_33.columns)\n",
    "#             df2 = pd.concat([df2, required_dataframe], axis=0)"
   ]
  },
  {
   "cell_type": "code",
   "execution_count": null,
   "metadata": {},
   "outputs": [],
   "source": [
    "# vvv = tr.groupby('TypeofDAY')\n",
    "# vvv.head(1)\n",
    "\n",
    "# tr['AEWIHO_T9AV2'].describe()"
   ]
  },
  {
   "cell_type": "code",
   "execution_count": null,
   "metadata": {
    "scrolled": false
   },
   "outputs": [],
   "source": [
    "# very efficient to group all the value with respect to column and store them in a dictionary\n",
    "# necessary for plotting graph\n",
    "\n",
    "# dict_of_day_type = {k:v for k,v in tr.groupby('TypeofDAY')}\n",
    "# # plt.ioff()\n",
    "# key_value = collections.OrderedDict(dict_of_day_type)\n",
    "\n",
    "# for k_1 in key_value:\n",
    "#     print(k_1)\n",
    "#     my_week = dict_of_day_type[k_1]\n",
    "#     my_week.iloc[:].plot(y=['AEWIHO_T9AV2'])\n",
    "#     describe = my_week['AEWIHO_T9AV2'].describe()\n",
    "#     RMSE = 2\n",
    "#     textstr = 'describe=%.2f\\nRMSE=%.2f\\n'%(1, 2)\n",
    "#     plt.text(0.5, 0.5, textstr, fontsize=14)\n",
    "#     plt.savefig(path_1+str(k_1)+'_'+'.jpg')\n",
    "# #     plt.close()"
   ]
  },
  {
   "cell_type": "code",
   "execution_count": null,
   "metadata": {
    "scrolled": true
   },
   "outputs": [],
   "source": [
    "# dict_of_dates = {k: v for k, v in tr.groupby('Date')}\n",
    "\n",
    "# import collections\n",
    "# prices  = collections.OrderedDict(dict_of_dates)\n",
    "\n",
    "# path_1 = 'E:/University of Bremen MSc/masters_thesis/forecasting_sensor_data_Salzgitter_AG/univariate_data_for_prediction/figure_from_code/graph_of_target_day_wise/'\n",
    "\n",
    "# for k in prices:\n",
    "#     k_sp = k.replace('/','_')\n",
    "#     my_f = dict_of_dates[k]\n",
    "#     my_f.iloc[:].plot(y=['AEWIHO_T9AV2'])\n",
    "#     plt.savefig(path_1+str(k_sp)+'_'+'date.jpg')\n",
    "#     plt.ioff()\n",
    "# #     print(my_f.iloc[:]['AEWIHO_T9AV2'])\n",
    "    \n",
    "    "
   ]
  },
  {
   "cell_type": "code",
   "execution_count": null,
   "metadata": {},
   "outputs": [],
   "source": [
    "# e = 'weekend'\n",
    "# print(type(e))\n",
    "# for index_1, value_1 in tr.iterrows():\n",
    "#     for i_1 , v_1 in enumerate(value_1):\n",
    "#         if i_1 == 13 and v_1 == e:\n",
    "#             d = tr.index.get_loc(index_1) #It will give the row value for the corresponding index of the dataframe\n",
    "# #             print(tr.iloc[d]['Weekday_name'])\n",
    "#             print(index_1)"
   ]
  },
  {
   "cell_type": "code",
   "execution_count": null,
   "metadata": {
    "scrolled": true
   },
   "outputs": [],
   "source": [
    "# dict_of_dates = {k: v for k, v in tr.groupby('Date')}\n",
    "\n",
    "# import collections\n",
    "# prices  = collections.OrderedDict(dict_of_dates)\n",
    "\n",
    "# # path_1 = 'E:/University of Bremen MSc/masters_thesis/forecasting_sensor_data_Salzgitter_AG/univariate_data_for_prediction/figure_from_code/graph_of_target_day_wise/'\n",
    "\n",
    "# for k in prices:\n",
    "#     k_sp = k.replace('/','_')\n",
    "#     print(k,'\\t',k_sp)\n",
    "\n",
    "# # import pprint\n",
    "# # pprint.pprint(dict_of_dates)"
   ]
  },
  {
   "cell_type": "code",
   "execution_count": null,
   "metadata": {
    "scrolled": false
   },
   "outputs": [],
   "source": [
    "# # tr_group = tr.groupby(pd.Grouper(freq='1Y')).sum()\n",
    "# # tr_group.head()\n",
    "\n",
    "# tr_1 = tr['2019-03-11':'2019-03-11']\n",
    "# tr_1.tail()\n",
    "# print(len(tr_1))"
   ]
  },
  {
   "cell_type": "code",
   "execution_count": null,
   "metadata": {},
   "outputs": [],
   "source": [
    "# morning_shift = tr_1.between_time('06:00', '14:00')\n",
    "# day_shift = tr.between_time('14:01', '22:00')\n",
    "# night_shift = tr.between_time('22:01', '05:59')"
   ]
  },
  {
   "cell_type": "code",
   "execution_count": null,
   "metadata": {},
   "outputs": [],
   "source": [
    "# present_data.plot(y=present_data.columns['AEWIHO_T9AV2'])"
   ]
  },
  {
   "cell_type": "code",
   "execution_count": null,
   "metadata": {},
   "outputs": [],
   "source": [
    "# pr_1 = present_data.drop(multivariate_column_label[0], axis=1)"
   ]
  },
  {
   "cell_type": "code",
   "execution_count": null,
   "metadata": {},
   "outputs": [],
   "source": [
    "# zero_index=[]\n",
    "# zero_index=np.array(zero_index)\n",
    "# for index, value in pr_1.iterrows():\n",
    "#     for i , v in enumerate(value):\n",
    "#         if i == 0  and v == 0.0:\n",
    "# #             print('index: ',index)\n",
    "#             zero_index=np.append(zero_index,index)\n",
    "\n",
    "# print('size of zero_index: ',zero_index.size)"
   ]
  },
  {
   "cell_type": "code",
   "execution_count": null,
   "metadata": {},
   "outputs": [],
   "source": [
    "# if zero_index.size > 0:\n",
    "#     pr_1_modify = pr_1.drop(zero_index,axis=0) # axis= 0 means row indiated. 1 means column indicated\n",
    "# else:\n",
    "#     pr_1_modify = pr_1"
   ]
  },
  {
   "cell_type": "code",
   "execution_count": null,
   "metadata": {},
   "outputs": [],
   "source": [
    "# cols = [-1,-2,-3,-4,-5,-6,-7]\n",
    "# pr_1_modify_drop = pr_1_modify.drop(pr_1_modify.columns[cols], axis=1)"
   ]
  },
  {
   "cell_type": "code",
   "execution_count": null,
   "metadata": {},
   "outputs": [],
   "source": [
    "# multivariate_data_modify = pr_1_modify_drop\n",
    "\n",
    "# from numpy import nan\n",
    "# multivariate_data_drop_zero= multivariate_data_modify.replace(0,nan)\n",
    "# multivariate_data_drop_zero=multivariate_data_drop_zero.dropna(how='any',axis=0)"
   ]
  },
  {
   "cell_type": "code",
   "execution_count": null,
   "metadata": {},
   "outputs": [],
   "source": [
    "# print(multivariate_data_modify.shape)\n",
    "# print(multivariate_data_drop_zero.shape)"
   ]
  },
  {
   "cell_type": "code",
   "execution_count": null,
   "metadata": {
    "scrolled": true
   },
   "outputs": [],
   "source": [
    "dataframe_high_correlation.head()"
   ]
  },
  {
   "cell_type": "code",
   "execution_count": null,
   "metadata": {
    "scrolled": true
   },
   "outputs": [],
   "source": [
    "for i in dataframe_high_correlation:\n",
    "    drop_consecutive_same_value_zero = dataframe_high_correlation.loc[dataframe_high_correlation[i].shift() != dataframe_high_correlation[i]]"
   ]
  },
  {
   "cell_type": "code",
   "execution_count": null,
   "metadata": {
    "scrolled": true
   },
   "outputs": [],
   "source": [
    "print(dataframe_high_correlation.shape)\n",
    "print(drop_consecutive_same_value_zero.shape)"
   ]
  },
  {
   "cell_type": "code",
   "execution_count": null,
   "metadata": {},
   "outputs": [],
   "source": [
    "multivariate_data_drop_zero_resample = multivariate_data_drop_zero.resample('1min').mean()\n",
    "multivariate_data_drop_zero_interpolate = multivariate_data_drop_zero_resample.interpolate('linear')\n",
    "\n",
    "print('shape of multivariate_data_drop_zero_resample: ', multivariate_data_drop_zero_resample.shape)\n",
    "print('shape of multivariate_data_drop_zero_interpolate: ',multivariate_data_drop_zero_interpolate.shape)"
   ]
  },
  {
   "cell_type": "code",
   "execution_count": null,
   "metadata": {},
   "outputs": [],
   "source": [
    "# # print(len(multivariate_column_label))\n",
    "# for idx, i in enumerate(multivariate_column_label):\n",
    "#     now_idx = idx+2\n",
    "    \n",
    "#     if now_idx == len(multivariate_column_label):\n",
    "#         print('terminate')\n",
    "#         break\n",
    "#     print(multivariate_column_label[now_idx])\n",
    "#     drop_consecutive_same_value_zero = multivariate_data_drop_zero.loc[multivariate_data_drop_zero[multivariate_column_label[now_idx]].shift() != multivariate_data_drop_zero[multivariate_column_label[now_idx]]]\n",
    "#     drop_consecutive_same_value_interpolate = multivariate_data_drop_zero_interpolate.loc[multivariate_data_drop_zero_interpolate[multivariate_column_label[now_idx]].shift() != multivariate_data_drop_zero_interpolate[multivariate_column_label[now_idx]]]\n",
    "    \n"
   ]
  },
  {
   "cell_type": "code",
   "execution_count": null,
   "metadata": {},
   "outputs": [],
   "source": [
    "print('shape of drop_consecutive_same_value_zero: ', drop_consecutive_same_value_zero.shape)\n",
    "print('shape of drop_consecutive_same_value_interpolate: ', drop_consecutive_same_value_interpolate.shape)"
   ]
  },
  {
   "cell_type": "code",
   "execution_count": null,
   "metadata": {},
   "outputs": [],
   "source": [
    "new_dataframe = drop_consecutive_same_value_zero.drop(['DEWIHOBT9_I0'], axis=1)\n",
    "# new_dataframe = drop_consecutive_same_value_interpolate.drop(['DEWIHOBT9_I0'], axis=1)"
   ]
  },
  {
   "cell_type": "code",
   "execution_count": null,
   "metadata": {},
   "outputs": [],
   "source": [
    "new_dataframe.head()"
   ]
  },
  {
   "cell_type": "code",
   "execution_count": null,
   "metadata": {},
   "outputs": [],
   "source": [
    "# start = 0\n",
    "# end = 300\n",
    "\n",
    "# loop = int(len(new_dataframe)/300)+1\n",
    "# path = 'E:/University of Bremen MSc/masters_thesis/forecasting_sensor_data_Salzgitter_AG/univariate_data_for_prediction/figure_from_code/fig_target_night/'\n",
    "\n",
    "# for i in range(loop):\n",
    "#     if end < len(new_dataframe):\n",
    "        \n",
    "#         new_dataframe.iloc[start:end].plot(y=new_dataframe.columns[-1])\n",
    "        \n",
    "#         plt.savefig(path+str(start)+'_night.jpg')\n",
    "#         start = end\n",
    "#         end = end+300\n",
    "#     else:\n",
    "#         start = start\n",
    "#         end = len(new_dataframe)\n",
    "#         new_dataframe.iloc[start:end].plot(y=new_dataframe.columns[-1])\n",
    "#         plt.savefig(path+'final_'+str(len(new_dataframe))+'_night.jpg')\n",
    "        \n",
    "# #     plt.rcParams['figure.figsize'] =(20,10)"
   ]
  },
  {
   "cell_type": "code",
   "execution_count": null,
   "metadata": {
    "scrolled": false
   },
   "outputs": [],
   "source": [
    "new_dataframe.iloc[0:].plot(y = new_dataframe.columns[-1], use_index=True)\n",
    "plt.rcParams['figure.figsize'] =(20,20)"
   ]
  },
  {
   "cell_type": "code",
   "execution_count": null,
   "metadata": {
    "scrolled": false
   },
   "outputs": [],
   "source": [
    "dateRange = pd.date_range(new_dataframe.index[0],new_dataframe.index[10], freq='1min')\n",
    "print(dateRange)\n",
    "plt.plot(dateRange,new_dataframe.iloc[0:11,-1])\n",
    "plt.xlim(dateRange[0],dateRange[-1])\n",
    "plt.xticks(rotation=25)"
   ]
  },
  {
   "cell_type": "code",
   "execution_count": null,
   "metadata": {},
   "outputs": [],
   "source": [
    "dateRange[-1]"
   ]
  },
  {
   "cell_type": "code",
   "execution_count": null,
   "metadata": {
    "scrolled": false
   },
   "outputs": [],
   "source": [
    "# start_1 = 700\n",
    "# end_1 = start_1+300\n",
    "# new_dataframe.iloc[start_1:end_1].plot(x = new_dataframe.index.format(), y=new_dataframe.columns[-1])\n",
    "plt.plot(new_dataframe.iloc[0:100].index.format(), new_dataframe.iloc[0:100,-1])\n",
    "plt.show()"
   ]
  },
  {
   "cell_type": "code",
   "execution_count": null,
   "metadata": {},
   "outputs": [],
   "source": [
    "print(max(new_dataframe.iloc[start_1:end_1][new_dataframe.columns[-1]]))\n",
    "\n",
    "print(len(new_dataframe))"
   ]
  },
  {
   "cell_type": "code",
   "execution_count": null,
   "metadata": {},
   "outputs": [],
   "source": [
    "test_new.iloc[0:2000].plot(y=new_dataframe.columns[-1])"
   ]
  },
  {
   "cell_type": "code",
   "execution_count": null,
   "metadata": {},
   "outputs": [],
   "source": [
    "new_dataframe.plot(y=new_dataframe.columns[-1])"
   ]
  },
  {
   "cell_type": "code",
   "execution_count": null,
   "metadata": {},
   "outputs": [],
   "source": []
  },
  {
   "cell_type": "code",
   "execution_count": null,
   "metadata": {},
   "outputs": [],
   "source": []
  },
  {
   "cell_type": "code",
   "execution_count": 89,
   "metadata": {},
   "outputs": [
    {
     "name": "stdout",
     "output_type": "stream",
     "text": [
      "dataframe_high_correlation shape:  (24130, 5)\n"
     ]
    }
   ],
   "source": [
    "# function to make dataframe with high correlated valued column\n",
    "def make_dataframe_with_high_correlated_value(main_dataframe,correlated_dataframe,target_column,\n",
    "                                              correlation_threshold_value,max_value):\n",
    "    \n",
    "    dataframe = correlated_dataframe.reset_index()\n",
    "    \n",
    "    high_correlated_array_with_target = []\n",
    "    for index_corr_reset, val_corr_reset in enumerate(dataframe[target_column]):\n",
    "        if val_corr_reset > correlation_threshold_value and val_corr_reset < max_value:\n",
    "            required_column = dataframe.loc[index_corr_reset]['index']\n",
    "            if required_column != target_column:\n",
    "                high_correlated_array_with_target = np.append(high_correlated_array_with_target,required_column)\n",
    "            else:\n",
    "                print(required_column)\n",
    "                pass\n",
    "            \n",
    "    final_array = np.append(high_correlated_array_with_target,target_column)\n",
    "    new_dataframe = main_dataframe.iloc[:][final_array]\n",
    "    \n",
    "    return new_dataframe\n",
    "\n",
    "correlation_threshold_value = 0.2\n",
    "max_value = 0.9\n",
    "target_column = multivariate_data_drop_column_with_same_value.columns[-1] # here declaring who is target column.\n",
    "\n",
    "\n",
    "# main_frame = multivariate_data_drop_column_with_same_value\n",
    "# correlated_frame = main_correlation\n",
    "\n",
    "main_frame = sklearn_feature_best_dataframe\n",
    "correlated_frame = sklearn_correlation\n",
    "\n",
    "dataframe_high_correlation = make_dataframe_with_high_correlated_value(main_frame,correlated_frame,\n",
    "                                                             target_column,correlation_threshold_value,max_value)\n",
    "\n",
    "print('dataframe_high_correlation shape: ', dataframe_high_correlation.shape)"
   ]
  },
  {
   "cell_type": "code",
   "execution_count": 90,
   "metadata": {},
   "outputs": [
    {
     "data": {
      "text/html": [
       "<div>\n",
       "<style scoped>\n",
       "    .dataframe tbody tr th:only-of-type {\n",
       "        vertical-align: middle;\n",
       "    }\n",
       "\n",
       "    .dataframe tbody tr th {\n",
       "        vertical-align: top;\n",
       "    }\n",
       "\n",
       "    .dataframe thead th {\n",
       "        text-align: right;\n",
       "    }\n",
       "</style>\n",
       "<table border=\"1\" class=\"dataframe\">\n",
       "  <thead>\n",
       "    <tr style=\"text-align: right;\">\n",
       "      <th></th>\n",
       "      <th>RWWIHOB_MWT0</th>\n",
       "      <th>RWWIHOB_HWT0</th>\n",
       "      <th>AEDAHO_T9_V2</th>\n",
       "      <th>AEDATZ_HO_V0</th>\n",
       "      <th>AEWIHO_T9AV2</th>\n",
       "    </tr>\n",
       "    <tr>\n",
       "      <th>dateTime</th>\n",
       "      <th></th>\n",
       "      <th></th>\n",
       "      <th></th>\n",
       "      <th></th>\n",
       "      <th></th>\n",
       "    </tr>\n",
       "  </thead>\n",
       "  <tbody>\n",
       "    <tr>\n",
       "      <th>2019-03-11 03:14:00</th>\n",
       "      <td>96.594824</td>\n",
       "      <td>94.076290</td>\n",
       "      <td>83.327361</td>\n",
       "      <td>46.119388</td>\n",
       "      <td>79.178306</td>\n",
       "    </tr>\n",
       "    <tr>\n",
       "      <th>2019-03-11 03:15:00</th>\n",
       "      <td>96.529931</td>\n",
       "      <td>94.003521</td>\n",
       "      <td>84.314814</td>\n",
       "      <td>46.534541</td>\n",
       "      <td>81.659117</td>\n",
       "    </tr>\n",
       "    <tr>\n",
       "      <th>2019-03-11 03:16:00</th>\n",
       "      <td>96.404936</td>\n",
       "      <td>93.851567</td>\n",
       "      <td>84.380943</td>\n",
       "      <td>46.555631</td>\n",
       "      <td>86.055430</td>\n",
       "    </tr>\n",
       "    <tr>\n",
       "      <th>2019-03-11 03:17:00</th>\n",
       "      <td>96.295169</td>\n",
       "      <td>93.727603</td>\n",
       "      <td>83.279853</td>\n",
       "      <td>45.940449</td>\n",
       "      <td>87.113691</td>\n",
       "    </tr>\n",
       "    <tr>\n",
       "      <th>2019-03-11 03:18:00</th>\n",
       "      <td>96.264723</td>\n",
       "      <td>93.643636</td>\n",
       "      <td>79.963124</td>\n",
       "      <td>44.218947</td>\n",
       "      <td>87.266264</td>\n",
       "    </tr>\n",
       "  </tbody>\n",
       "</table>\n",
       "</div>"
      ],
      "text/plain": [
       "                     RWWIHOB_MWT0  RWWIHOB_HWT0  AEDAHO_T9_V2  AEDATZ_HO_V0  \\\n",
       "dateTime                                                                      \n",
       "2019-03-11 03:14:00     96.594824     94.076290     83.327361     46.119388   \n",
       "2019-03-11 03:15:00     96.529931     94.003521     84.314814     46.534541   \n",
       "2019-03-11 03:16:00     96.404936     93.851567     84.380943     46.555631   \n",
       "2019-03-11 03:17:00     96.295169     93.727603     83.279853     45.940449   \n",
       "2019-03-11 03:18:00     96.264723     93.643636     79.963124     44.218947   \n",
       "\n",
       "                     AEWIHO_T9AV2  \n",
       "dateTime                           \n",
       "2019-03-11 03:14:00     79.178306  \n",
       "2019-03-11 03:15:00     81.659117  \n",
       "2019-03-11 03:16:00     86.055430  \n",
       "2019-03-11 03:17:00     87.113691  \n",
       "2019-03-11 03:18:00     87.266264  "
      ]
     },
     "execution_count": 90,
     "metadata": {},
     "output_type": "execute_result"
    }
   ],
   "source": [
    "dataframe_high_correlation.head()"
   ]
  },
  {
   "cell_type": "code",
   "execution_count": null,
   "metadata": {},
   "outputs": [],
   "source": [
    "# e = pd.read_csv('dataframe_correlated_from_main_frame.csv')"
   ]
  },
  {
   "cell_type": "code",
   "execution_count": null,
   "metadata": {},
   "outputs": [],
   "source": [
    "# e.shape"
   ]
  },
  {
   "cell_type": "code",
   "execution_count": 91,
   "metadata": {},
   "outputs": [
    {
     "name": "stdout",
     "output_type": "stream",
     "text": [
      "Number of Elements for training:  23647\n",
      "dataset length:  24130\n",
      "train_input shape:  (23647, 4)\n",
      "train_output shape:  (23647,)\n",
      "test_input shape:  (483, 4)\n",
      "test_output shape:  (483,)\n"
     ]
    }
   ],
   "source": [
    "def make_dataset(dataframe):\n",
    "    dataset = np.array(dataframe)\n",
    "    NumberOfElements=int(len(dataset)*0.98)\n",
    "    print('Number of Elements for training: ',NumberOfElements)\n",
    "    print('dataset length: ',len(dataset))\n",
    "\n",
    "    train_input=dataset[0:NumberOfElements,0:-1]\n",
    "    print('train_input shape: ',train_input.shape)\n",
    "    train_output=dataset[0:NumberOfElements,-1]\n",
    "    print('train_output shape: ',train_output.shape)\n",
    "\n",
    "    test_input=dataset[NumberOfElements:len(dataset),0:-1]\n",
    "    print('test_input shape: ',test_input.shape)\n",
    "    test_output=dataset[NumberOfElements:len(dataset),-1]\n",
    "    print('test_output shape: ',test_output.shape)\n",
    "    \n",
    "    return train_input, train_output, test_input, test_output\n",
    "\n",
    "train_input, train_output, test_input, test_output = make_dataset(dataframe_high_correlation)\n",
    "# print('train data size: ',train_data.shape,'\\ntest data size: ',test_data.shape)"
   ]
  },
  {
   "cell_type": "code",
   "execution_count": 92,
   "metadata": {},
   "outputs": [],
   "source": [
    "from sklearn import metrics\n",
    "from sklearn.linear_model import LinearRegression\n",
    "from sklearn.ensemble import *\n",
    "from sklearn.svm import SVR\n",
    "from sklearn.ensemble import GradientBoostingRegressor as GBR\n",
    "from sklearn.ensemble.forest import RandomForestRegressor\n",
    "from sklearn.tree import DecisionTreeRegressor\n",
    "from sklearn.neural_network import MLPRegressor\n",
    "\n",
    "from sklearn import linear_model\n",
    "from sklearn.metrics import mean_squared_error, r2_score, mean_absolute_error\n",
    "import math"
   ]
  },
  {
   "cell_type": "code",
   "execution_count": null,
   "metadata": {},
   "outputs": [],
   "source": [
    "model_list = [LinearRegression(), ExtraTreesRegressor()]\n",
    "name = ['linearregression','extraregressor']\n",
    "\n",
    "for idx,i in enumerate(model_list):\n",
    "    train_model_1 = i\n",
    "    print('-------',name[idx])\n",
    "    train_model_1.fit(train_input,train_output)\n",
    "    predicted_output=train_model_1.predict(test_input)\n",
    "    print('r_2 statistic: %.2f' % r2_score(test_output,predicted_output))\n",
    "    print(\"Mean_absolute_error: %.2f\" % mean_absolute_error(test_output,predicted_output))\n",
    "    print(\"Mean squared error: %.2f\" % mean_squared_error(test_output,predicted_output))\n",
    "    RMSE=math.sqrt(mean_squared_error(test_output,predicted_output))\n",
    "    print('RMSE: ',RMSE)\n",
    "    print('\\n')"
   ]
  },
  {
   "cell_type": "code",
   "execution_count": 93,
   "metadata": {},
   "outputs": [
    {
     "data": {
      "text/plain": [
       "ExtraTreesRegressor(bootstrap=False, criterion='mse', max_depth=None,\n",
       "                    max_features='auto', max_leaf_nodes=None,\n",
       "                    min_impurity_decrease=0.0, min_impurity_split=None,\n",
       "                    min_samples_leaf=1, min_samples_split=2,\n",
       "                    min_weight_fraction_leaf=0.0, n_estimators=100, n_jobs=None,\n",
       "                    oob_score=False, random_state=0, verbose=0,\n",
       "                    warm_start=False)"
      ]
     },
     "execution_count": 93,
     "metadata": {},
     "output_type": "execute_result"
    }
   ],
   "source": [
    "# train_model = LinearRegression(fit_intercept = True,normalize=False).fit(train_input,train_output)\n",
    "train_model = ExtraTreesRegressor(n_estimators=100, random_state=0)\n",
    "# train_model =  AdaBoostRegressor()\n",
    "# train_model = MLPRegressor()\n",
    "# train_model = GBR()\n",
    "train_model.fit(train_input, train_output)"
   ]
  },
  {
   "cell_type": "code",
   "execution_count": 94,
   "metadata": {},
   "outputs": [
    {
     "name": "stdout",
     "output_type": "stream",
     "text": [
      "ExtraTreesRegressor(bootstrap=False, criterion='mse', max_depth=None,\n",
      "                    max_features='auto', max_leaf_nodes=None,\n",
      "                    min_impurity_decrease=0.0, min_impurity_split=None,\n",
      "                    min_samples_leaf=1, min_samples_split=2,\n",
      "                    min_weight_fraction_leaf=0.0, n_estimators=100, n_jobs=None,\n",
      "                    oob_score=False, random_state=0, verbose=0,\n",
      "                    warm_start=False)\n"
     ]
    }
   ],
   "source": [
    "print(train_model)\n",
    "predicted_output=train_model.predict(test_input)"
   ]
  },
  {
   "cell_type": "code",
   "execution_count": 95,
   "metadata": {
    "scrolled": false
   },
   "outputs": [
    {
     "name": "stdout",
     "output_type": "stream",
     "text": [
      "r_2 statistic: 0.20\n",
      "Mean_absolute_error: 1.76\n",
      "Mean squared error: 10.02\n",
      "RMSE:  3.165938138621126\n"
     ]
    }
   ],
   "source": [
    "# print('Slope:' ,train_model.coef_)\n",
    "# print('Intercept:', train_model.intercept_)\n",
    "print('r_2 statistic: %.2f' % r2_score(test_output,predicted_output))\n",
    "print(\"Mean_absolute_error: %.2f\" % mean_absolute_error(test_output,predicted_output))\n",
    "print(\"Mean squared error: %.2f\" % mean_squared_error(test_output,predicted_output))\n",
    "RMSE=math.sqrt(mean_squared_error(test_output,predicted_output))\n",
    "print('RMSE: ',RMSE)"
   ]
  },
  {
   "cell_type": "code",
   "execution_count": null,
   "metadata": {},
   "outputs": [],
   "source": [
    "model = 'GBR'"
   ]
  },
  {
   "cell_type": "code",
   "execution_count": 64,
   "metadata": {},
   "outputs": [
    {
     "name": "stdout",
     "output_type": "stream",
     "text": [
      "min : 62.263747326034974  and max:  85.29885491380395\n",
      "min : 62.64828551654723  and max:  85.20797156159563\n"
     ]
    },
    {
     "data": {
      "image/png": "[encoded data removed]",
      "text/plain": [
       "<Figure size 1080x360 with 1 Axes>"
      ]
     },
     "metadata": {},
     "output_type": "display_data"
    }
   ],
   "source": [
    "low = 0\n",
    "high = len(predicted_output)\n",
    "\n",
    "print('min :', min(test_output[low:high]),' and max: ',max(test_output[low:high]))\n",
    "print('min :', min(predicted_output[low:high]),' and max: ',max(predicted_output[low:high]))\n",
    "\n",
    "plt.plot(test_output[low:high], predicted_output[low:high], 'bo')\n",
    "# plt.plot(predicted_output[low:high],test_output[low:high], 'bo')\n",
    "\n",
    "plt.xticks(np.arange(min(test_output[low:high]),max(test_output[low:high])+1,1))\n",
    "plt.yticks(np.arange(min(predicted_output[low:high]),max(predicted_output[low:high])+1,1))\n",
    "\n",
    "plt.xlim(min(test_output[low:high]-1), max(test_output[low:high])+1)\n",
    "plt.ylim(min(predicted_output[low:high]-1), max(predicted_output[low:high])+1)\n",
    "\n",
    "plt.ylabel('prdicted value')\n",
    "plt.xlabel('actual value')\n",
    "\n",
    "plt.grid(b=None, which='both', axis='both')\n",
    "plt.title('actual vs predicted graph')\n",
    "# plt.savefig(model+'_'+'figure_actual_vs_predicted.jpg')\n",
    "\n",
    "plt.show()"
   ]
  },
  {
   "cell_type": "code",
   "execution_count": 65,
   "metadata": {
    "scrolled": true
   },
   "outputs": [
    {
     "data": {
      "image/png": "[encoded data removed]",
      "text/plain": [
       "<Figure size 1080x360 with 1 Axes>"
      ]
     },
     "metadata": {},
     "output_type": "display_data"
    }
   ],
   "source": [
    "plt.plot((min(test_output),max(test_output)), (min(predicted_output),max(predicted_output)), color='red')\n",
    "plt.scatter(test_output,predicted_output, color = 'blue')\n",
    "# plt.savefig(model+'_'+'figure_actual_vs_predicted_with_best_fit_line.jpg')\n",
    "plt.show()"
   ]
  },
  {
   "cell_type": "code",
   "execution_count": 66,
   "metadata": {
    "scrolled": false
   },
   "outputs": [
    {
     "name": "stdout",
     "output_type": "stream",
     "text": [
      "<class 'numpy.ndarray'>\n"
     ]
    },
    {
     "data": {
      "image/png": "[encoded data removed]",
      "text/plain": [
       "<Figure size 1080x360 with 1 Axes>"
      ]
     },
     "metadata": {},
     "output_type": "display_data"
    }
   ],
   "source": [
    "# try to draw a graph where I will plot only the differences between actual and predicted value.\n",
    "# %matplotlib qt\n",
    "\n",
    "difference_of_value = predicted_output - test_output\n",
    "print(type(difference_of_value))\n",
    "\n",
    "plt.plot(difference_of_value[:])\n",
    "plt.title('observation of the difference of actual and predicted value')\n",
    "\n",
    "# plt.rcParams['xtick.labelsize']=2\n",
    "# plt.rcParams['ytick.labelsize']=2\n",
    "# plt.tick_params(labelsize=20)\n",
    "plt.ylabel('difference of value')\n",
    "plt.xlabel('range')\n",
    "plt.grid(b=None, which='both', axis='both')\n",
    "# plt.savefig(model+'_'+'difference_of_actual_and_predicted_value.png')\n",
    "plt.show()"
   ]
  },
  {
   "cell_type": "code",
   "execution_count": 67,
   "metadata": {},
   "outputs": [
    {
     "data": {
      "image/png": "[encoded data removed]",
      "text/plain": [
       "<Figure size 1080x360 with 1 Axes>"
      ]
     },
     "metadata": {},
     "output_type": "display_data"
    }
   ],
   "source": [
    "plt.hist(difference_of_value, bins=15)\n",
    "# plt.xlim(-10,10,1)\n",
    "# plt.savefig(model+'_'+'histogram_of_difference_value.jpg')\n",
    "plt.show()"
   ]
  },
  {
   "cell_type": "code",
   "execution_count": 68,
   "metadata": {},
   "outputs": [
    {
     "data": {
      "image/png": "[encoded data removed]",
      "text/plain": [
       "<Figure size 1080x360 with 1 Axes>"
      ]
     },
     "metadata": {},
     "output_type": "display_data"
    }
   ],
   "source": [
    "plt.plot(predicted_output[0:len(predicted_output[0:300])], color = 'blue')\n",
    "plt.plot(test_output[0:300], color = 'red')\n",
    "# plt.xlim(0,40,1)\n",
    "# plt.ylim(50,70,1)\n",
    "# plt.savefig(model+'_'+'figure_difference_between_actual_and_predicted_value.jpg')\n",
    "plt.show()"
   ]
  },
  {
   "cell_type": "code",
   "execution_count": null,
   "metadata": {},
   "outputs": [],
   "source": [
    "actual_data = range(65)\n",
    "\n",
    "plt.plot(predicted_output[:60],color='blue',marker='s', linestyle=':')\n",
    "plt.plot(actual_data[5:], test_output[:60],color='red',marker='^', linestyle='-.')\n",
    "# plt.plot(yhat[51:99],color='black',marker='s', linestyle=':')\n",
    "plt.title('deviation between predicted and target value')\n",
    "plt.ylabel('value')\n",
    "plt.xlabel('interval of minutes')\n",
    "plt.legend(['predicted','actual_output'], loc='upper left')\n",
    "plt.grid(b=None, which='both', axis='both')\n",
    "plt.xticks(np.arange(0,65,5))\n",
    "plt.xticks( rotation=25)\n",
    "# plt.rcParams['figure.figsize'] =(20,10)\n",
    "plt.savefig(model+'_'+'figure_actual_vs_predicted.jpg')\n",
    "plt.show()"
   ]
  },
  {
   "cell_type": "code",
   "execution_count": null,
   "metadata": {},
   "outputs": [],
   "source": [
    "# graph actual vs error\n",
    "\n",
    "low_1 = 0\n",
    "high_1 = len(test_output)\n",
    "\n",
    "plt.plot(test_output[low:high], difference_of_value[low:high], 'bo')\n",
    "plt.savefig(model+'_'+'figure_actual_vs_error.jpg')\n",
    "plt.show()"
   ]
  },
  {
   "cell_type": "code",
   "execution_count": null,
   "metadata": {},
   "outputs": [],
   "source": [
    "plt.subplot(1,2,1)\n",
    "plt.hist(predicted_output, bins=15)\n",
    "plt.xlabel('value')\n",
    "plt.ylabel('frequency')\n",
    "plt.title('predicted_output')\n",
    "# plt.xlim(-10,10,1)\n",
    "plt.subplot(1,2,2)\n",
    "plt.hist(test_output, bins=15)\n",
    "plt.xlabel('value')\n",
    "plt.ylabel('frequency')\n",
    "plt.title('test_output')\n",
    "\n",
    "plt.suptitle('hitogram of predicted_output and test_output')\n",
    "plt.savefig(model+'_'+'figure_hitogram of predicted_output and test_output.jpg')\n",
    "plt.show()"
   ]
  },
  {
   "cell_type": "code",
   "execution_count": null,
   "metadata": {},
   "outputs": [],
   "source": [
    "plt.subplot(1,2,1)\n",
    "plt.scatter(range(0, len(predicted_output)),predicted_output)\n",
    "plt.xlabel('range')\n",
    "plt.ylabel('value of predicted_output')\n",
    "plt.subplot(1,2,2)\n",
    "plt.scatter(range(0, len(test_output)),test_output)\n",
    "plt.xlabel('range')\n",
    "plt.ylabel('value of test_output')\n",
    "plt.suptitle('scatter plot of predicted_output and test_output')\n",
    "plt.subplots_adjust(hspace=0.5)\n",
    "plt.savefig(model+'_'+'figure_scatter_plot_predicted_and_actual_value.jpg')\n",
    "plt.show()"
   ]
  },
  {
   "cell_type": "code",
   "execution_count": null,
   "metadata": {},
   "outputs": [],
   "source": [
    "low = 100\n",
    "high = 500\n",
    "\n",
    "print('min :', min(test_output[low:high]),' and max: ',max(test_output[low:high]))\n",
    "# print('min :', min(predicted_output[low:high]),' and max: ',max(predicted_output[low:high]))\n",
    "plt.plot(test_output[low:high], 'bo')\n",
    "# plt.xticks(np.arange(low, high+1,1))\n",
    "plt.yticks(np.arange(min(test_output[low:high]),max(test_output[low:high])+1,1))\n",
    "\n",
    "# plt.xlim(min(low, high+1))\n",
    "plt.ylim(min(test_output[low:high]-1), max(test_output[low:high])+1)\n",
    "\n",
    "plt.ylabel('prdicted value')\n",
    "plt.xlabel('actual value')\n",
    "plt.grid(b=None, which='both', axis='both')\n",
    "plt.title('actual value graph')\n",
    "\n",
    "plt.show()"
   ]
  },
  {
   "cell_type": "code",
   "execution_count": null,
   "metadata": {},
   "outputs": [],
   "source": [
    "low = 0\n",
    "high = 500\n",
    "\n",
    "print('min :', min(predicted_output[low:high]),' and max: ',max(predicted_output[low:high]))\n",
    "# print('min :', min(predicted_output[low:high]),' and max: ',max(predicted_output[low:high]))\n",
    "plt.plot(predicted_output[low:high], 'bo')\n",
    "# plt.xticks(np.arange(low, high+1,1))\n",
    "plt.yticks(np.arange(min(predicted_output[low:high]),max(predicted_output[low:high])+1,1))\n",
    "\n",
    "# plt.xlim(min(low, high+1))\n",
    "plt.ylim(min(predicted_output[low:high]-1), max(predicted_output[low:high])+1)\n",
    "\n",
    "plt.ylabel('prdicted value')\n",
    "plt.xlabel('actual value')\n",
    "plt.grid(b=None, which='both', axis='both')\n",
    "plt.title('predicted value graph')\n",
    "\n",
    "plt.show()"
   ]
  },
  {
   "cell_type": "code",
   "execution_count": null,
   "metadata": {},
   "outputs": [],
   "source": []
  },
  {
   "cell_type": "markdown",
   "metadata": {},
   "source": [
    "# CONV LSTM"
   ]
  },
  {
   "cell_type": "code",
   "execution_count": 75,
   "metadata": {},
   "outputs": [
    {
     "name": "stdout",
     "output_type": "stream",
     "text": [
      "dataset length:  24130\n",
      "Number of Elements for training:  23647\n",
      "train_data_conv shape:  (23647, 5)\n",
      "test_data_conv shape:  (483, 5)\n"
     ]
    }
   ],
   "source": [
    "def make_dataset(PandaDataframe):\n",
    "    dataset = np.array(PandaDataframe)\n",
    "\n",
    "    NumberOfElements = int(len(dataset)*0.98)\n",
    "    print('dataset length: ',len(dataset))\n",
    "    print('Number of Elements for training: ',NumberOfElements)\n",
    "\n",
    "    multiple_ip_train_data = dataset[0:NumberOfElements]\n",
    "    multiple_ip_test_set = dataset[NumberOfElements:len(dataset)]\n",
    "    \n",
    "    return multiple_ip_train_data, multiple_ip_test_set\n",
    "\n",
    "multiple_ip_train_data, multiple_ip_test_set = make_dataset(dataframe_high_correlation)\n",
    "\n",
    "print('train_data_conv shape: ', multiple_ip_train_data.shape)\n",
    "print('test_data_conv shape: ', multiple_ip_test_set.shape)"
   ]
  },
  {
   "cell_type": "code",
   "execution_count": 76,
   "metadata": {},
   "outputs": [
    {
     "name": "stderr",
     "output_type": "stream",
     "text": [
      "C:\\Users\\atif\\Anaconda3\\lib\\site-packages\\h5py\\__init__.py:36: FutureWarning: Conversion of the second argument of issubdtype from `float` to `np.floating` is deprecated. In future, it will be treated as `np.float64 == np.dtype(float).type`.\n",
      "  from ._conv import register_converters as _register_converters\n",
      "Using TensorFlow backend.\n"
     ]
    }
   ],
   "source": [
    "from numpy import array\n",
    "from keras.models import Sequential\n",
    "from keras.layers import LSTM\n",
    "from keras.layers import Dense, Dropout\n",
    "from keras.layers import Flatten\n",
    "from keras.layers import ConvLSTM2D\n",
    "from keras.callbacks import LearningRateScheduler, ModelCheckpoint\n",
    "from keras import callbacks"
   ]
  },
  {
   "cell_type": "code",
   "execution_count": 77,
   "metadata": {},
   "outputs": [
    {
     "name": "stdout",
     "output_type": "stream",
     "text": [
      "X_Conv_Lstm shape:  (23645, 2, 4) \tX_Conv_Lstm size:  189160 \tX_Conv_Lstm dimension:  3\n",
      "y_Conv_Lstm shape:  (23645,)  size:  23645  dim:  1\n"
     ]
    }
   ],
   "source": [
    " # split a multivariate sequence into samples\n",
    "def split_sequence(sequence, n_steps):\n",
    "    X, y = list(), list()\n",
    "    for i in range(len(sequence)):\n",
    "        # find the end of this pattern\n",
    "        end_ix = i + n_steps\n",
    "        # check if we are beyond the sequence\n",
    "        if end_ix > len(sequence)-1:\n",
    "            break\n",
    "        # gather input and output parts of the pattern\n",
    "        seq_x, seq_y = sequence[i:end_ix,:-1], sequence[end_ix,-1]\n",
    "        X.append(seq_x)\n",
    "        y.append(seq_y)\n",
    "    return array(X), array(y)\n",
    " \n",
    "# define input sequence\n",
    "# raw_seq = [10, 20, 30, 40, 50, 60, 70, 80, 90]\n",
    "# choose a number of time steps\n",
    "n_steps_1 = 2\n",
    "# split into samples\n",
    "X_Conv_Lstm, y_Conv_Lstm = split_sequence(multiple_ip_train_data, n_steps_1)\n",
    "\n",
    "print('X_Conv_Lstm shape: ',X_Conv_Lstm.shape,'\\tX_Conv_Lstm size: ',X_Conv_Lstm.size,'\\tX_Conv_Lstm dimension: ',X_Conv_Lstm.ndim)\n",
    "print('y_Conv_Lstm shape: ', y_Conv_Lstm.shape,' size: ',y_Conv_Lstm.size,' dim: ',y_Conv_Lstm.ndim)"
   ]
  },
  {
   "cell_type": "code",
   "execution_count": 78,
   "metadata": {},
   "outputs": [],
   "source": [
    "# reshape from [samples, timesteps] into [samples, timesteps, rows, columns, features]\n",
    "\n",
    "samples = X_Conv_Lstm.shape[0]\n",
    "time = n_steps_1\n",
    "rows = 1\n",
    "n_features = X_Conv_Lstm.shape[-1]\n",
    "cols = n_features\n",
    "channels = 1\n",
    "\n",
    "# X_Conv_Lstm_train = X_Conv_Lstm.reshape((X_Conv_Lstm.shape[0], n_seq, n_rows, n_steps_2, n_features))\n",
    "X_Conv_Lstm_train = X_Conv_Lstm.reshape((samples, time, rows, cols, channels)) #last 2 is feature"
   ]
  },
  {
   "cell_type": "code",
   "execution_count": 79,
   "metadata": {},
   "outputs": [],
   "source": [
    "# define model\n",
    "\n",
    "# cbks = [callbacks.LearningRateScheduler(lambda x: 1. / (1. + x))]\n",
    "\n",
    "lr = 0.01\n",
    "\n",
    "def lr_schedule(epoch):\n",
    "#     print('epoch value: ', epoch)\n",
    "    lr_1 = lr * (0.1 ** int(epoch / 10))\n",
    "#     print('now lr_1: ', lr_1)\n",
    "    return lr_1\n",
    "\n",
    "batch_size=32\n",
    "epochs= 30\n",
    "activation_function = 'relu'"
   ]
  },
  {
   "cell_type": "code",
   "execution_count": 80,
   "metadata": {},
   "outputs": [],
   "source": [
    "model = Sequential()\n",
    "# n_seq, 1, n_steps_2, n_features\n",
    "model.add(ConvLSTM2D(filters=64,data_format='channels_last', kernel_size=(1,2), activation=str(activation_function), input_shape=(time,rows,cols,channels),return_sequences=False))\n",
    "# model.add(ConvLSTM2D(filters=64,data_format='channels_last', kernel_size=(1,2), activation=str(activation_function)))\n",
    "model.add(Flatten())\n",
    "model.add(Dense(1))\n",
    "model.compile(optimizer='adam', loss='mse',metrics=['accuracy'])"
   ]
  },
  {
   "cell_type": "code",
   "execution_count": 81,
   "metadata": {
    "scrolled": true
   },
   "outputs": [
    {
     "name": "stdout",
     "output_type": "stream",
     "text": [
      "Epoch 1/30\n",
      "23645/23645 [==============================] - 5s 199us/step - loss: 21.7525 - acc: 0.0000e+00\n",
      "Epoch 2/30\n",
      "23645/23645 [==============================] - 4s 155us/step - loss: 13.5665 - acc: 0.0000e+00\n",
      "Epoch 3/30\n",
      "23645/23645 [==============================] - 4s 154us/step - loss: 6.2418 - acc: 0.0000e+00\n",
      "Epoch 4/30\n",
      "23645/23645 [==============================] - 4s 154us/step - loss: 6.6253 - acc: 0.0000e+00\n",
      "Epoch 5/30\n",
      "23645/23645 [==============================] - 4s 166us/step - loss: 6.1758 - acc: 0.0000e+00\n",
      "Epoch 6/30\n",
      "23645/23645 [==============================] - 4s 185us/step - loss: 5.7754 - acc: 0.0000e+00\n",
      "Epoch 7/30\n",
      "23645/23645 [==============================] - 4s 176us/step - loss: 8.5757 - acc: 0.0000e+00\n",
      "Epoch 8/30\n",
      "23645/23645 [==============================] - 4s 188us/step - loss: 62.8470 - acc: 0.0000e+00\n",
      "Epoch 9/30\n",
      "23645/23645 [==============================] - 4s 171us/step - loss: 20.4435 - acc: 0.0000e+00\n",
      "Epoch 10/30\n",
      "23645/23645 [==============================] - 4s 169us/step - loss: 6.9983 - acc: 0.0000e+00\n",
      "Epoch 11/30\n",
      "23645/23645 [==============================] - 4s 175us/step - loss: 4.4162 - acc: 0.0000e+00\n",
      "Epoch 12/30\n",
      "23645/23645 [==============================] - 4s 177us/step - loss: 4.3861 - acc: 0.0000e+00\n",
      "Epoch 13/30\n",
      "23645/23645 [==============================] - 4s 166us/step - loss: 4.3931 - acc: 0.0000e+00\n",
      "Epoch 14/30\n",
      "23645/23645 [==============================] - 5s 201us/step - loss: 4.3459 - acc: 0.0000e+00\n",
      "Epoch 15/30\n",
      "23645/23645 [==============================] - 5s 191us/step - loss: 4.3334 - acc: 0.0000e+00\n",
      "Epoch 16/30\n",
      "23645/23645 [==============================] - 5s 190us/step - loss: 4.3459 - acc: 0.0000e+00\n",
      "Epoch 17/30\n",
      "23645/23645 [==============================] - 5s 195us/step - loss: 4.3017 - acc: 0.0000e+00\n",
      "Epoch 18/30\n",
      "23645/23645 [==============================] - 5s 206us/step - loss: 4.3401 - acc: 0.0000e+00\n",
      "Epoch 19/30\n",
      "23645/23645 [==============================] - 4s 186us/step - loss: 4.2933 - acc: 0.0000e+00\n",
      "Epoch 20/30\n",
      "23645/23645 [==============================] - 4s 171us/step - loss: 4.2652 - acc: 0.0000e+00\n",
      "Epoch 21/30\n",
      "23645/23645 [==============================] - 4s 167us/step - loss: 4.1630 - acc: 0.0000e+00\n",
      "Epoch 22/30\n",
      "23645/23645 [==============================] - 4s 161us/step - loss: 4.1491 - acc: 0.0000e+00\n",
      "Epoch 23/30\n",
      "23645/23645 [==============================] - 4s 162us/step - loss: 4.1499 - acc: 0.0000e+00\n",
      "Epoch 24/30\n",
      "23645/23645 [==============================] - 4s 169us/step - loss: 4.1517 - acc: 0.0000e+00\n",
      "Epoch 25/30\n",
      "23645/23645 [==============================] - 4s 168us/step - loss: 4.1518 - acc: 0.0000e+00\n",
      "Epoch 26/30\n",
      "23645/23645 [==============================] - 4s 170us/step - loss: 4.1491 - acc: 0.0000e+00\n",
      "Epoch 27/30\n",
      "23645/23645 [==============================] - 4s 163us/step - loss: 4.1428 - acc: 0.0000e+00\n",
      "Epoch 28/30\n",
      "23645/23645 [==============================] - 4s 152us/step - loss: 4.1416 - acc: 0.0000e+00\n",
      "Epoch 29/30\n",
      "23645/23645 [==============================] - 4s 159us/step - loss: 4.1436 - acc: 0.0000e+00\n",
      "Epoch 30/30\n",
      "23645/23645 [==============================] - 4s 165us/step - loss: 4.1425 - acc: 0.0000e+00\n"
     ]
    }
   ],
   "source": [
    "train_model=model.fit(X_Conv_Lstm_train, y_Conv_Lstm, batch_size=batch_size, epochs=epochs, verbose=1,\n",
    "                      shuffle=True, callbacks=[LearningRateScheduler(lr_schedule)])\n",
    "#                      ModelCheckpoint('E:/CONV_LSTM_30.h5', save_best_only=True)])"
   ]
  },
  {
   "cell_type": "code",
   "execution_count": 82,
   "metadata": {},
   "outputs": [
    {
     "name": "stdout",
     "output_type": "stream",
     "text": [
      "X_Conv_Lstm_test shape:  (481, 2, 4) \t X_Conv_Lstm_test dimension:  3\n"
     ]
    }
   ],
   "source": [
    "X_Conv_Lstm_test, y_Conv_Lstm_test = split_sequence(multiple_ip_test_set, n_steps_1)\n",
    "print('X_Conv_Lstm_test shape: ', X_Conv_Lstm_test.shape,'\\t X_Conv_Lstm_test dimension: ', X_Conv_Lstm_test.ndim)\n",
    "\n",
    "test_sample = X_Conv_Lstm_test.shape[0]\n",
    "# x_input = X_Conv_Lstm_test.reshape((X_Conv_Lstm_test.shape[0], n_seq, 1, n_steps_2, X_Conv_Lstm_test.shape[2]))\n",
    "x_input = X_Conv_Lstm_test.reshape((test_sample, time, rows, cols, channels))"
   ]
  },
  {
   "cell_type": "code",
   "execution_count": 83,
   "metadata": {},
   "outputs": [
    {
     "name": "stdout",
     "output_type": "stream",
     "text": [
      "481/481 [==============================] - 0s 358us/step\n"
     ]
    }
   ],
   "source": [
    "yhat = model.predict(x_input, verbose=1)\n",
    "# print(yhat)"
   ]
  },
  {
   "cell_type": "code",
   "execution_count": 85,
   "metadata": {},
   "outputs": [
    {
     "name": "stdout",
     "output_type": "stream",
     "text": [
      "r_2 statistic: -2.80\n",
      "mean squared error:  47.77526860374197\n",
      "RMSE Error:  6.911965610717545\n"
     ]
    }
   ],
   "source": [
    "from math import sqrt\n",
    "print('r_2 statistic: %.2f' % r2_score(y_Conv_Lstm_test,yhat))\n",
    "Error = mean_squared_error(y_Conv_Lstm_test,yhat)\n",
    "print('mean squared error: ',Error)\n",
    "print('RMSE Error: ',sqrt(Error))"
   ]
  },
  {
   "cell_type": "code",
   "execution_count": 86,
   "metadata": {},
   "outputs": [
    {
     "data": {
      "image/png": "[encoded data removed]",
      "text/plain": [
       "<Figure size 1080x360 with 1 Axes>"
      ]
     },
     "metadata": {},
     "output_type": "display_data"
    }
   ],
   "source": [
    "\n",
    "plt.plot((min(y_Conv_Lstm_test),max(y_Conv_Lstm_test)), (min(yhat),max(yhat)), color='red')\n",
    "plt.scatter(test_output,predicted_output, color = 'blue')\n",
    "# plt.savefig(model+'_'+'figure_actual_vs_predicted_with_best_fit_line.jpg')\n",
    "plt.show()"
   ]
  },
  {
   "cell_type": "code",
   "execution_count": null,
   "metadata": {},
   "outputs": [],
   "source": []
  }
 ],
 "metadata": {
  "kernelspec": {
   "display_name": "Python 3",
   "language": "python",
   "name": "python3"
  },
  "language_info": {
   "codemirror_mode": {
    "name": "ipython",
    "version": 3
   },
   "file_extension": ".py",
   "mimetype": "text/x-python",
   "name": "python",
   "nbconvert_exporter": "python",
   "pygments_lexer": "ipython3",
   "version": "3.6.5"
  }
 },
 "nbformat": 4,
 "nbformat_minor": 2
}
