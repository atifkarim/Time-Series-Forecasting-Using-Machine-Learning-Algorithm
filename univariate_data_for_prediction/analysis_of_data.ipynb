{
 "cells": [
  {
   "cell_type": "code",
   "execution_count": 2,
   "metadata": {},
   "outputs": [],
   "source": [
    "import numpy as np\n",
    "import matplotlib.pyplot as plt\n",
    "import pandas as pd\n",
    "import math\n",
    "import time\n",
    "import datetime\n",
    "%matplotlib inline\n",
    "from matplotlib.pylab import rcParams"
   ]
  },
  {
   "cell_type": "code",
   "execution_count": 3,
   "metadata": {},
   "outputs": [],
   "source": [
    "# test= pd.read_csv('/media/atif/BE0E05910E0543BD/University of Bremen MSc/masters_thesis/IAT_sebastian/dataset_01_Aug_2019.csv')\n",
    "test=pd.read_csv('E:/University of Bremen MSc/masters_thesis/IAT_sebastian/dataset_26_april_3.csv')"
   ]
  },
  {
   "cell_type": "code",
   "execution_count": 4,
   "metadata": {},
   "outputs": [
    {
     "name": "stderr",
     "output_type": "stream",
     "text": [
      "C:\\Users\\atif\\Anaconda3\\lib\\site-packages\\ipykernel_launcher.py:2: FutureWarning: Method .as_matrix will be removed in a future version. Use .values instead.\n",
      "  \n"
     ]
    }
   ],
   "source": [
    "longTime=test.loc[0:,['longTime']]\n",
    "longTime=longTime.as_matrix()\n",
    "a=[]\n",
    "date_time_array=[]\n",
    "for k in longTime:\n",
    "    a=np.append(a,k)\n",
    "str_time=[]\n",
    "correct_longtime=[]\n",
    "datetime_time=[]\n",
    "count=0\n",
    "for b in a:\n",
    "    b=int(b) # make plain integer\n",
    "    str_b=str(b)\n",
    "    c=str_b[-3:]\n",
    "    new_str_b=str_b.replace(c, '',1)\n",
    "    new_str_b_time=int(new_str_b)\n",
    "    correct_longtime.append(new_str_b_time)\n",
    "    now_time=datetime.datetime.fromtimestamp(new_str_b_time)\n",
    "    convert_time=now_time.strftime('%Y-%m-%d %H:%M')\n",
    "    str_time.append(convert_time)\n",
    "# print(str_time)\n",
    "test_new = test.assign(stringTime=str_time,correct_longtime=correct_longtime) # here new column in the panda dataframe for string_time has added"
   ]
  },
  {
   "cell_type": "code",
   "execution_count": 5,
   "metadata": {},
   "outputs": [
    {
     "name": "stdout",
     "output_type": "stream",
     "text": [
      "<class 'pandas.core.series.Series'>\n",
      "<class 'pandas.core.series.Series'>\n"
     ]
    }
   ],
   "source": [
    "# It will print the type of value of each column\n",
    "long_time = test_new.correct_longtime\n",
    "print(type(long_time))\n",
    "string_time = test_new.stringTime\n",
    "print(type(string_time))"
   ]
  },
  {
   "cell_type": "code",
   "execution_count": 66,
   "metadata": {},
   "outputs": [],
   "source": [
    "test_new['dateTime'] =  pd.to_datetime(test_new['stringTime'], format='%Y-%m-%d %H:%M')\n",
    "test_new['dateTime_column'] =  pd.to_datetime(test_new['stringTime'], format='%Y-%m-%d %H:%M')\n",
    "# test_new['only_date'] =  pd.to_datetime(test_new['stringTime'], format='%Y-%m-%d')"
   ]
  },
  {
   "cell_type": "code",
   "execution_count": 67,
   "metadata": {},
   "outputs": [],
   "source": [
    "# making dateTime column as a index for the test_new panda dataframe\n",
    "test_new = test_new.set_index('dateTime')"
   ]
  },
  {
   "cell_type": "code",
   "execution_count": 68,
   "metadata": {},
   "outputs": [
    {
     "data": {
      "text/html": [
       "<div>\n",
       "<style scoped>\n",
       "    .dataframe tbody tr th:only-of-type {\n",
       "        vertical-align: middle;\n",
       "    }\n",
       "\n",
       "    .dataframe tbody tr th {\n",
       "        vertical-align: top;\n",
       "    }\n",
       "\n",
       "    .dataframe thead th {\n",
       "        text-align: right;\n",
       "    }\n",
       "</style>\n",
       "<table border=\"1\" class=\"dataframe\">\n",
       "  <thead>\n",
       "    <tr style=\"text-align: right;\">\n",
       "      <th></th>\n",
       "      <th>row ID</th>\n",
       "      <th>longTime</th>\n",
       "      <th>AEAGHOAWE2T1</th>\n",
       "      <th>AEAGHOAWE2A0</th>\n",
       "      <th>AEAGHOAWE2T0</th>\n",
       "      <th>AEAGHOAWE1A0</th>\n",
       "      <th>AEAGHOAWE1T1</th>\n",
       "      <th>AEAGHOAWE1T0</th>\n",
       "      <th>AEAGHOAWE3T0</th>\n",
       "      <th>AEAGHOAWE3A0</th>\n",
       "      <th>...</th>\n",
       "      <th>RWWIHOT10RV0</th>\n",
       "      <th>RWWIHOTSURV0</th>\n",
       "      <th>RWWIHOTSUMV0</th>\n",
       "      <th>RWWIHO_VERV0</th>\n",
       "      <th>RWWIHO_UESV0</th>\n",
       "      <th>RWWIHOSUMAV0</th>\n",
       "      <th>stringTime</th>\n",
       "      <th>correct_longtime</th>\n",
       "      <th>dateTime_column</th>\n",
       "      <th>only_date</th>\n",
       "    </tr>\n",
       "    <tr>\n",
       "      <th>dateTime</th>\n",
       "      <th></th>\n",
       "      <th></th>\n",
       "      <th></th>\n",
       "      <th></th>\n",
       "      <th></th>\n",
       "      <th></th>\n",
       "      <th></th>\n",
       "      <th></th>\n",
       "      <th></th>\n",
       "      <th></th>\n",
       "      <th></th>\n",
       "      <th></th>\n",
       "      <th></th>\n",
       "      <th></th>\n",
       "      <th></th>\n",
       "      <th></th>\n",
       "      <th></th>\n",
       "      <th></th>\n",
       "      <th></th>\n",
       "      <th></th>\n",
       "      <th></th>\n",
       "    </tr>\n",
       "  </thead>\n",
       "  <tbody>\n",
       "    <tr>\n",
       "      <th>2019-04-15 08:52:00</th>\n",
       "      <td>Row0</td>\n",
       "      <td>1555311120000</td>\n",
       "      <td>74.451979</td>\n",
       "      <td>19.111606</td>\n",
       "      <td>98.371549</td>\n",
       "      <td>18.819155</td>\n",
       "      <td>93.337524</td>\n",
       "      <td>69.969526</td>\n",
       "      <td>95.445534</td>\n",
       "      <td>7.802471</td>\n",
       "      <td>...</td>\n",
       "      <td>75.685755</td>\n",
       "      <td>73.945394</td>\n",
       "      <td>0.000000</td>\n",
       "      <td>0.000000</td>\n",
       "      <td>0.000000</td>\n",
       "      <td>0.000000</td>\n",
       "      <td>2019-04-15 08:52</td>\n",
       "      <td>1555311120</td>\n",
       "      <td>2019-04-15 08:52:00</td>\n",
       "      <td>2019-04-15 08:52:00</td>\n",
       "    </tr>\n",
       "    <tr>\n",
       "      <th>2019-04-15 08:51:00</th>\n",
       "      <td>Row1</td>\n",
       "      <td>1555311060000</td>\n",
       "      <td>73.933103</td>\n",
       "      <td>18.088026</td>\n",
       "      <td>98.186038</td>\n",
       "      <td>18.943335</td>\n",
       "      <td>92.869960</td>\n",
       "      <td>69.969526</td>\n",
       "      <td>95.445534</td>\n",
       "      <td>12.856953</td>\n",
       "      <td>...</td>\n",
       "      <td>75.685755</td>\n",
       "      <td>66.649583</td>\n",
       "      <td>56.385432</td>\n",
       "      <td>68.734584</td>\n",
       "      <td>9.127668</td>\n",
       "      <td>2.275890</td>\n",
       "      <td>2019-04-15 08:51</td>\n",
       "      <td>1555311060</td>\n",
       "      <td>2019-04-15 08:51:00</td>\n",
       "      <td>2019-04-15 08:51:00</td>\n",
       "    </tr>\n",
       "    <tr>\n",
       "      <th>2019-04-15 08:50:00</th>\n",
       "      <td>Row2</td>\n",
       "      <td>1555311000000</td>\n",
       "      <td>73.471742</td>\n",
       "      <td>25.843589</td>\n",
       "      <td>98.371549</td>\n",
       "      <td>33.166077</td>\n",
       "      <td>92.343799</td>\n",
       "      <td>69.969526</td>\n",
       "      <td>95.628479</td>\n",
       "      <td>21.591973</td>\n",
       "      <td>...</td>\n",
       "      <td>75.685755</td>\n",
       "      <td>66.587330</td>\n",
       "      <td>56.402658</td>\n",
       "      <td>68.853203</td>\n",
       "      <td>9.136596</td>\n",
       "      <td>2.275735</td>\n",
       "      <td>2019-04-15 08:50</td>\n",
       "      <td>1555311000</td>\n",
       "      <td>2019-04-15 08:50:00</td>\n",
       "      <td>2019-04-15 08:50:00</td>\n",
       "    </tr>\n",
       "    <tr>\n",
       "      <th>2019-04-15 08:49:00</th>\n",
       "      <td>Row3</td>\n",
       "      <td>1555310940000</td>\n",
       "      <td>73.010381</td>\n",
       "      <td>27.772137</td>\n",
       "      <td>98.371549</td>\n",
       "      <td>35.991205</td>\n",
       "      <td>91.876236</td>\n",
       "      <td>69.850105</td>\n",
       "      <td>95.607810</td>\n",
       "      <td>19.492370</td>\n",
       "      <td>...</td>\n",
       "      <td>75.685755</td>\n",
       "      <td>66.373907</td>\n",
       "      <td>56.527297</td>\n",
       "      <td>69.391059</td>\n",
       "      <td>9.138625</td>\n",
       "      <td>2.281882</td>\n",
       "      <td>2019-04-15 08:49</td>\n",
       "      <td>1555310940</td>\n",
       "      <td>2019-04-15 08:49:00</td>\n",
       "      <td>2019-04-15 08:49:00</td>\n",
       "    </tr>\n",
       "    <tr>\n",
       "      <th>2019-04-15 08:48:00</th>\n",
       "      <td>Row4</td>\n",
       "      <td>1555310880000</td>\n",
       "      <td>72.549020</td>\n",
       "      <td>18.402556</td>\n",
       "      <td>98.186038</td>\n",
       "      <td>19.591687</td>\n",
       "      <td>91.408672</td>\n",
       "      <td>69.969526</td>\n",
       "      <td>95.607810</td>\n",
       "      <td>8.014898</td>\n",
       "      <td>...</td>\n",
       "      <td>75.685755</td>\n",
       "      <td>66.529224</td>\n",
       "      <td>56.640964</td>\n",
       "      <td>69.299560</td>\n",
       "      <td>9.121256</td>\n",
       "      <td>2.269317</td>\n",
       "      <td>2019-04-15 08:48</td>\n",
       "      <td>1555310880</td>\n",
       "      <td>2019-04-15 08:48:00</td>\n",
       "      <td>2019-04-15 08:48:00</td>\n",
       "    </tr>\n",
       "  </tbody>\n",
       "</table>\n",
       "<p>5 rows × 4224 columns</p>\n",
       "</div>"
      ],
      "text/plain": [
       "                    row ID       longTime  AEAGHOAWE2T1  AEAGHOAWE2A0  \\\n",
       "dateTime                                                                \n",
       "2019-04-15 08:52:00   Row0  1555311120000     74.451979     19.111606   \n",
       "2019-04-15 08:51:00   Row1  1555311060000     73.933103     18.088026   \n",
       "2019-04-15 08:50:00   Row2  1555311000000     73.471742     25.843589   \n",
       "2019-04-15 08:49:00   Row3  1555310940000     73.010381     27.772137   \n",
       "2019-04-15 08:48:00   Row4  1555310880000     72.549020     18.402556   \n",
       "\n",
       "                     AEAGHOAWE2T0  AEAGHOAWE1A0  AEAGHOAWE1T1  AEAGHOAWE1T0  \\\n",
       "dateTime                                                                      \n",
       "2019-04-15 08:52:00     98.371549     18.819155     93.337524     69.969526   \n",
       "2019-04-15 08:51:00     98.186038     18.943335     92.869960     69.969526   \n",
       "2019-04-15 08:50:00     98.371549     33.166077     92.343799     69.969526   \n",
       "2019-04-15 08:49:00     98.371549     35.991205     91.876236     69.850105   \n",
       "2019-04-15 08:48:00     98.186038     19.591687     91.408672     69.969526   \n",
       "\n",
       "                     AEAGHOAWE3T0  AEAGHOAWE3A0  ...  RWWIHOT10RV0  \\\n",
       "dateTime                                         ...                 \n",
       "2019-04-15 08:52:00     95.445534      7.802471  ...     75.685755   \n",
       "2019-04-15 08:51:00     95.445534     12.856953  ...     75.685755   \n",
       "2019-04-15 08:50:00     95.628479     21.591973  ...     75.685755   \n",
       "2019-04-15 08:49:00     95.607810     19.492370  ...     75.685755   \n",
       "2019-04-15 08:48:00     95.607810      8.014898  ...     75.685755   \n",
       "\n",
       "                     RWWIHOTSURV0  RWWIHOTSUMV0  RWWIHO_VERV0  RWWIHO_UESV0  \\\n",
       "dateTime                                                                      \n",
       "2019-04-15 08:52:00     73.945394      0.000000      0.000000      0.000000   \n",
       "2019-04-15 08:51:00     66.649583     56.385432     68.734584      9.127668   \n",
       "2019-04-15 08:50:00     66.587330     56.402658     68.853203      9.136596   \n",
       "2019-04-15 08:49:00     66.373907     56.527297     69.391059      9.138625   \n",
       "2019-04-15 08:48:00     66.529224     56.640964     69.299560      9.121256   \n",
       "\n",
       "                     RWWIHOSUMAV0        stringTime  correct_longtime  \\\n",
       "dateTime                                                                \n",
       "2019-04-15 08:52:00      0.000000  2019-04-15 08:52        1555311120   \n",
       "2019-04-15 08:51:00      2.275890  2019-04-15 08:51        1555311060   \n",
       "2019-04-15 08:50:00      2.275735  2019-04-15 08:50        1555311000   \n",
       "2019-04-15 08:49:00      2.281882  2019-04-15 08:49        1555310940   \n",
       "2019-04-15 08:48:00      2.269317  2019-04-15 08:48        1555310880   \n",
       "\n",
       "                        dateTime_column           only_date  \n",
       "dateTime                                                     \n",
       "2019-04-15 08:52:00 2019-04-15 08:52:00 2019-04-15 08:52:00  \n",
       "2019-04-15 08:51:00 2019-04-15 08:51:00 2019-04-15 08:51:00  \n",
       "2019-04-15 08:50:00 2019-04-15 08:50:00 2019-04-15 08:50:00  \n",
       "2019-04-15 08:49:00 2019-04-15 08:49:00 2019-04-15 08:49:00  \n",
       "2019-04-15 08:48:00 2019-04-15 08:48:00 2019-04-15 08:48:00  \n",
       "\n",
       "[5 rows x 4224 columns]"
      ]
     },
     "execution_count": 68,
     "metadata": {},
     "output_type": "execute_result"
    }
   ],
   "source": [
    "test_new.head()"
   ]
  },
  {
   "cell_type": "code",
   "execution_count": 208,
   "metadata": {},
   "outputs": [
    {
     "name": "stdout",
     "output_type": "stream",
     "text": [
      "12\n"
     ]
    }
   ],
   "source": [
    "# multivariate_column_label=['DEWIHOBT9_I0','AEDATZ_HO_V0','AEDAHO_T9_V2','AEWIHO_T9AV2','RWWIHOB_HWT0'\n",
    "#                            ,'RWWIHOB_MWT0']#rmse error 1.99\n",
    "\n",
    "# multivariate_column_label = ['DEWIHOBT9_I0','AEDATZ_HONP0','AEDATZK_ASP0','AEDATZ_HO_V0',\n",
    "#                              'AEDAHO_T9_V2','AEWIHO_T9AV2'] #rmse error 1.38\n",
    "\n",
    "#RWDAKRWRS8V0\n",
    "# 'AEDAHO_T8_V2','AEWIHO_T8AV2',\n",
    "multivariate_column_label = ['dateTime_column','DEWIHOBT9_I0','AEDATZ_HONP0','AEDATZK_ASP0','AEDATZ_HO_V0',\n",
    "                             'AEDATZ_TZCP2','AEDATZKA_8P0','AEDATZ_HO_P1','AEDAHO_T9_V2',\n",
    "                             'RWWIHOB_HWT0','RWWIHOB_MWT0','AEWIHO_T9AV2'] #rmse error 1.94\n",
    "size_column = len(multivariate_column_label)\n",
    "print(size_column)"
   ]
  },
  {
   "cell_type": "code",
   "execution_count": 209,
   "metadata": {},
   "outputs": [
    {
     "name": "stdout",
     "output_type": "stream",
     "text": [
      "12\n"
     ]
    }
   ],
   "source": [
    "size_column = len(multivariate_column_label)\n",
    "print(size_column)"
   ]
  },
  {
   "cell_type": "code",
   "execution_count": 210,
   "metadata": {},
   "outputs": [
    {
     "data": {
      "text/html": [
       "<div>\n",
       "<style scoped>\n",
       "    .dataframe tbody tr th:only-of-type {\n",
       "        vertical-align: middle;\n",
       "    }\n",
       "\n",
       "    .dataframe tbody tr th {\n",
       "        vertical-align: top;\n",
       "    }\n",
       "\n",
       "    .dataframe thead th {\n",
       "        text-align: right;\n",
       "    }\n",
       "</style>\n",
       "<table border=\"1\" class=\"dataframe\">\n",
       "  <thead>\n",
       "    <tr style=\"text-align: right;\">\n",
       "      <th></th>\n",
       "      <th>dateTime_column</th>\n",
       "      <th>DEWIHOBT9_I0</th>\n",
       "      <th>AEDATZ_HONP0</th>\n",
       "      <th>AEDATZK_ASP0</th>\n",
       "      <th>AEDATZ_HO_V0</th>\n",
       "      <th>AEDATZ_TZCP2</th>\n",
       "      <th>AEDATZKA_8P0</th>\n",
       "      <th>AEDATZ_HO_P1</th>\n",
       "      <th>AEDAHO_T9_V2</th>\n",
       "      <th>RWWIHOB_HWT0</th>\n",
       "      <th>RWWIHOB_MWT0</th>\n",
       "      <th>AEWIHO_T9AV2</th>\n",
       "    </tr>\n",
       "    <tr>\n",
       "      <th>dateTime</th>\n",
       "      <th></th>\n",
       "      <th></th>\n",
       "      <th></th>\n",
       "      <th></th>\n",
       "      <th></th>\n",
       "      <th></th>\n",
       "      <th></th>\n",
       "      <th></th>\n",
       "      <th></th>\n",
       "      <th></th>\n",
       "      <th></th>\n",
       "      <th></th>\n",
       "    </tr>\n",
       "  </thead>\n",
       "  <tbody>\n",
       "    <tr>\n",
       "      <th>2019-03-11 03:14:00</th>\n",
       "      <td>2019-03-11 03:14:00</td>\n",
       "      <td>100.0</td>\n",
       "      <td>97.304518</td>\n",
       "      <td>97.482960</td>\n",
       "      <td>46.119388</td>\n",
       "      <td>98.275765</td>\n",
       "      <td>92.911299</td>\n",
       "      <td>97.357811</td>\n",
       "      <td>83.327361</td>\n",
       "      <td>94.076290</td>\n",
       "      <td>96.594824</td>\n",
       "      <td>79.178306</td>\n",
       "    </tr>\n",
       "    <tr>\n",
       "      <th>2019-03-11 03:15:00</th>\n",
       "      <td>2019-03-11 03:15:00</td>\n",
       "      <td>100.0</td>\n",
       "      <td>96.950979</td>\n",
       "      <td>97.167113</td>\n",
       "      <td>46.534541</td>\n",
       "      <td>97.658591</td>\n",
       "      <td>92.709599</td>\n",
       "      <td>97.563494</td>\n",
       "      <td>84.314814</td>\n",
       "      <td>94.003521</td>\n",
       "      <td>96.529931</td>\n",
       "      <td>81.659117</td>\n",
       "    </tr>\n",
       "    <tr>\n",
       "      <th>2019-03-11 03:16:00</th>\n",
       "      <td>2019-03-11 03:16:00</td>\n",
       "      <td>100.0</td>\n",
       "      <td>96.722113</td>\n",
       "      <td>96.937628</td>\n",
       "      <td>46.555631</td>\n",
       "      <td>95.779320</td>\n",
       "      <td>92.519508</td>\n",
       "      <td>97.431268</td>\n",
       "      <td>84.380943</td>\n",
       "      <td>93.851567</td>\n",
       "      <td>96.404936</td>\n",
       "      <td>86.055430</td>\n",
       "    </tr>\n",
       "    <tr>\n",
       "      <th>2019-03-11 03:17:00</th>\n",
       "      <td>2019-03-11 03:17:00</td>\n",
       "      <td>100.0</td>\n",
       "      <td>96.671992</td>\n",
       "      <td>96.868238</td>\n",
       "      <td>45.940449</td>\n",
       "      <td>96.898266</td>\n",
       "      <td>92.876853</td>\n",
       "      <td>97.252133</td>\n",
       "      <td>83.279853</td>\n",
       "      <td>93.727603</td>\n",
       "      <td>96.295169</td>\n",
       "      <td>87.113691</td>\n",
       "    </tr>\n",
       "    <tr>\n",
       "      <th>2019-03-11 03:18:00</th>\n",
       "      <td>2019-03-11 03:18:00</td>\n",
       "      <td>100.0</td>\n",
       "      <td>96.717532</td>\n",
       "      <td>96.901785</td>\n",
       "      <td>44.218947</td>\n",
       "      <td>97.680386</td>\n",
       "      <td>92.997927</td>\n",
       "      <td>97.289250</td>\n",
       "      <td>79.963124</td>\n",
       "      <td>93.643636</td>\n",
       "      <td>96.264723</td>\n",
       "      <td>87.266264</td>\n",
       "    </tr>\n",
       "  </tbody>\n",
       "</table>\n",
       "</div>"
      ],
      "text/plain": [
       "                        dateTime_column  DEWIHOBT9_I0  AEDATZ_HONP0  \\\n",
       "dateTime                                                              \n",
       "2019-03-11 03:14:00 2019-03-11 03:14:00         100.0     97.304518   \n",
       "2019-03-11 03:15:00 2019-03-11 03:15:00         100.0     96.950979   \n",
       "2019-03-11 03:16:00 2019-03-11 03:16:00         100.0     96.722113   \n",
       "2019-03-11 03:17:00 2019-03-11 03:17:00         100.0     96.671992   \n",
       "2019-03-11 03:18:00 2019-03-11 03:18:00         100.0     96.717532   \n",
       "\n",
       "                     AEDATZK_ASP0  AEDATZ_HO_V0  AEDATZ_TZCP2  AEDATZKA_8P0  \\\n",
       "dateTime                                                                      \n",
       "2019-03-11 03:14:00     97.482960     46.119388     98.275765     92.911299   \n",
       "2019-03-11 03:15:00     97.167113     46.534541     97.658591     92.709599   \n",
       "2019-03-11 03:16:00     96.937628     46.555631     95.779320     92.519508   \n",
       "2019-03-11 03:17:00     96.868238     45.940449     96.898266     92.876853   \n",
       "2019-03-11 03:18:00     96.901785     44.218947     97.680386     92.997927   \n",
       "\n",
       "                     AEDATZ_HO_P1  AEDAHO_T9_V2  RWWIHOB_HWT0  RWWIHOB_MWT0  \\\n",
       "dateTime                                                                      \n",
       "2019-03-11 03:14:00     97.357811     83.327361     94.076290     96.594824   \n",
       "2019-03-11 03:15:00     97.563494     84.314814     94.003521     96.529931   \n",
       "2019-03-11 03:16:00     97.431268     84.380943     93.851567     96.404936   \n",
       "2019-03-11 03:17:00     97.252133     83.279853     93.727603     96.295169   \n",
       "2019-03-11 03:18:00     97.289250     79.963124     93.643636     96.264723   \n",
       "\n",
       "                     AEWIHO_T9AV2  \n",
       "dateTime                           \n",
       "2019-03-11 03:14:00     79.178306  \n",
       "2019-03-11 03:15:00     81.659117  \n",
       "2019-03-11 03:16:00     86.055430  \n",
       "2019-03-11 03:17:00     87.113691  \n",
       "2019-03-11 03:18:00     87.266264  "
      ]
     },
     "execution_count": 210,
     "metadata": {},
     "output_type": "execute_result"
    }
   ],
   "source": [
    "multivariate_data=test_new.iloc[0:25000][multivariate_column_label]\n",
    "multivariate_data=multivariate_data.loc[::-1]\n",
    "multivariate_data.head()"
   ]
  },
  {
   "cell_type": "code",
   "execution_count": 211,
   "metadata": {},
   "outputs": [],
   "source": [
    "multivariate_data[\"a\"] = pd.to_datetime(multivariate_data[\"dateTime_column\"])"
   ]
  },
  {
   "cell_type": "code",
   "execution_count": 212,
   "metadata": {},
   "outputs": [
    {
     "name": "stdout",
     "output_type": "stream",
     "text": [
      "datetime64[ns]\n"
     ]
    }
   ],
   "source": [
    "# checking column type\n",
    "s = multivariate_data['dateTime_column'].dtype\n",
    "print(s)"
   ]
  },
  {
   "cell_type": "code",
   "execution_count": 213,
   "metadata": {},
   "outputs": [],
   "source": [
    "# multivariate_data[\"a\"] = pd.to_datetime(multivariate_data[\"dateTime_column\"])\n",
    "tr = multivariate_data.drop(multivariate_data.columns[-1], axis=1)"
   ]
  },
  {
   "cell_type": "code",
   "execution_count": 214,
   "metadata": {},
   "outputs": [
    {
     "name": "stdout",
     "output_type": "stream",
     "text": [
      "date_type:  object\n",
      "time_type:  object\n"
     ]
    }
   ],
   "source": [
    "tr['Date'] = multivariate_data['dateTime_column'].dt.strftime('%d/%m/%Y')\n",
    "tr['Time'] = multivariate_data['dateTime_column'].dt.strftime('%H:%M:%S')\n",
    "\n",
    "date_type = tr['Date'].dtype\n",
    "time_type = tr['Time'].dtype\n",
    "print('date_type: ', date_type)\n",
    "print('time_type: ',time_type)"
   ]
  },
  {
   "cell_type": "code",
   "execution_count": 183,
   "metadata": {},
   "outputs": [
    {
     "name": "stdout",
     "output_type": "stream",
     "text": [
      "to observe the difference look in the previous cell's output\n",
      "date_type:  datetime64[ns]\n",
      "time_type:  datetime64[ns]\n"
     ]
    }
   ],
   "source": [
    "# converting previously created date and time column to datetime type\n",
    "tr['Date'] = pd.to_datetime(tr['Date'])\n",
    "tr['Time'] = pd.to_datetime(tr['Time'])\n",
    "\n",
    "date_type = tr['Date'].dtype\n",
    "time_type = tr['Time'].dtype\n",
    "\n",
    "print(\"to observe the difference look in the previous cell's output\")\n",
    "print('date_type: ', date_type)\n",
    "print('time_type: ',time_type)"
   ]
  },
  {
   "cell_type": "code",
   "execution_count": 215,
   "metadata": {},
   "outputs": [
    {
     "name": "stdout",
     "output_type": "stream",
     "text": [
      "<class 'numpy.dtype'>\n"
     ]
    }
   ],
   "source": [
    "e1 = tr['Date'].dtype\n",
    "print(type(e1))"
   ]
  },
  {
   "cell_type": "code",
   "execution_count": 216,
   "metadata": {},
   "outputs": [],
   "source": [
    "# it will return a column with weekday name\n",
    "tr['Weekday_name'] = tr.index.weekday_name"
   ]
  },
  {
   "cell_type": "code",
   "execution_count": 217,
   "metadata": {},
   "outputs": [],
   "source": [
    "# It will return a column with number associated with DAY. like monday =0, Tuesday=1 and so on\n",
    "tr['weekday'] = multivariate_data['dateTime_column'].apply(lambda x: x.weekday())"
   ]
  },
  {
   "cell_type": "code",
   "execution_count": 218,
   "metadata": {},
   "outputs": [],
   "source": [
    "tr['TypeofDAY'] = np.where(multivariate_data['dateTime_column'].dt.dayofweek < 5, 'Weekday', 'weekend') # if the associated number less than 5 then weekend, otherwise weekday\n",
    "tr['TypeofDAY_number'] = np.where(multivariate_data['dateTime_column'].dt.dayofweek < 5, 1, 0) # 1 for weekday, 0 for weekend"
   ]
  },
  {
   "cell_type": "code",
   "execution_count": 219,
   "metadata": {},
   "outputs": [],
   "source": [
    "# make all the time(without date) to numeric value\n",
    "tr['numric_time'] = pd.to_timedelta(tr['Time']).dt.total_seconds()"
   ]
  },
  {
   "cell_type": "code",
   "execution_count": 220,
   "metadata": {
    "scrolled": true
   },
   "outputs": [
    {
     "data": {
      "text/html": [
       "<div>\n",
       "<style scoped>\n",
       "    .dataframe tbody tr th:only-of-type {\n",
       "        vertical-align: middle;\n",
       "    }\n",
       "\n",
       "    .dataframe tbody tr th {\n",
       "        vertical-align: top;\n",
       "    }\n",
       "\n",
       "    .dataframe thead th {\n",
       "        text-align: right;\n",
       "    }\n",
       "</style>\n",
       "<table border=\"1\" class=\"dataframe\">\n",
       "  <thead>\n",
       "    <tr style=\"text-align: right;\">\n",
       "      <th></th>\n",
       "      <th>dateTime_column</th>\n",
       "      <th>DEWIHOBT9_I0</th>\n",
       "      <th>AEDATZ_HONP0</th>\n",
       "      <th>AEDATZK_ASP0</th>\n",
       "      <th>AEDATZ_HO_V0</th>\n",
       "      <th>AEDATZ_TZCP2</th>\n",
       "      <th>AEDATZKA_8P0</th>\n",
       "      <th>AEDATZ_HO_P1</th>\n",
       "      <th>AEDAHO_T9_V2</th>\n",
       "      <th>RWWIHOB_HWT0</th>\n",
       "      <th>RWWIHOB_MWT0</th>\n",
       "      <th>AEWIHO_T9AV2</th>\n",
       "      <th>Date</th>\n",
       "      <th>Time</th>\n",
       "      <th>Weekday_name</th>\n",
       "      <th>weekday</th>\n",
       "      <th>TypeofDAY</th>\n",
       "      <th>TypeofDAY_number</th>\n",
       "      <th>numric_time</th>\n",
       "    </tr>\n",
       "    <tr>\n",
       "      <th>dateTime</th>\n",
       "      <th></th>\n",
       "      <th></th>\n",
       "      <th></th>\n",
       "      <th></th>\n",
       "      <th></th>\n",
       "      <th></th>\n",
       "      <th></th>\n",
       "      <th></th>\n",
       "      <th></th>\n",
       "      <th></th>\n",
       "      <th></th>\n",
       "      <th></th>\n",
       "      <th></th>\n",
       "      <th></th>\n",
       "      <th></th>\n",
       "      <th></th>\n",
       "      <th></th>\n",
       "      <th></th>\n",
       "      <th></th>\n",
       "    </tr>\n",
       "  </thead>\n",
       "  <tbody>\n",
       "    <tr>\n",
       "      <th>2019-03-11 03:14:00</th>\n",
       "      <td>2019-03-11 03:14:00</td>\n",
       "      <td>100.0</td>\n",
       "      <td>97.304518</td>\n",
       "      <td>97.482960</td>\n",
       "      <td>46.119388</td>\n",
       "      <td>98.275765</td>\n",
       "      <td>92.911299</td>\n",
       "      <td>97.357811</td>\n",
       "      <td>83.327361</td>\n",
       "      <td>94.076290</td>\n",
       "      <td>96.594824</td>\n",
       "      <td>79.178306</td>\n",
       "      <td>11/03/2019</td>\n",
       "      <td>03:14:00</td>\n",
       "      <td>Monday</td>\n",
       "      <td>0</td>\n",
       "      <td>Weekday</td>\n",
       "      <td>1</td>\n",
       "      <td>11640.0</td>\n",
       "    </tr>\n",
       "    <tr>\n",
       "      <th>2019-03-11 03:15:00</th>\n",
       "      <td>2019-03-11 03:15:00</td>\n",
       "      <td>100.0</td>\n",
       "      <td>96.950979</td>\n",
       "      <td>97.167113</td>\n",
       "      <td>46.534541</td>\n",
       "      <td>97.658591</td>\n",
       "      <td>92.709599</td>\n",
       "      <td>97.563494</td>\n",
       "      <td>84.314814</td>\n",
       "      <td>94.003521</td>\n",
       "      <td>96.529931</td>\n",
       "      <td>81.659117</td>\n",
       "      <td>11/03/2019</td>\n",
       "      <td>03:15:00</td>\n",
       "      <td>Monday</td>\n",
       "      <td>0</td>\n",
       "      <td>Weekday</td>\n",
       "      <td>1</td>\n",
       "      <td>11700.0</td>\n",
       "    </tr>\n",
       "    <tr>\n",
       "      <th>2019-03-11 03:16:00</th>\n",
       "      <td>2019-03-11 03:16:00</td>\n",
       "      <td>100.0</td>\n",
       "      <td>96.722113</td>\n",
       "      <td>96.937628</td>\n",
       "      <td>46.555631</td>\n",
       "      <td>95.779320</td>\n",
       "      <td>92.519508</td>\n",
       "      <td>97.431268</td>\n",
       "      <td>84.380943</td>\n",
       "      <td>93.851567</td>\n",
       "      <td>96.404936</td>\n",
       "      <td>86.055430</td>\n",
       "      <td>11/03/2019</td>\n",
       "      <td>03:16:00</td>\n",
       "      <td>Monday</td>\n",
       "      <td>0</td>\n",
       "      <td>Weekday</td>\n",
       "      <td>1</td>\n",
       "      <td>11760.0</td>\n",
       "    </tr>\n",
       "    <tr>\n",
       "      <th>2019-03-11 03:17:00</th>\n",
       "      <td>2019-03-11 03:17:00</td>\n",
       "      <td>100.0</td>\n",
       "      <td>96.671992</td>\n",
       "      <td>96.868238</td>\n",
       "      <td>45.940449</td>\n",
       "      <td>96.898266</td>\n",
       "      <td>92.876853</td>\n",
       "      <td>97.252133</td>\n",
       "      <td>83.279853</td>\n",
       "      <td>93.727603</td>\n",
       "      <td>96.295169</td>\n",
       "      <td>87.113691</td>\n",
       "      <td>11/03/2019</td>\n",
       "      <td>03:17:00</td>\n",
       "      <td>Monday</td>\n",
       "      <td>0</td>\n",
       "      <td>Weekday</td>\n",
       "      <td>1</td>\n",
       "      <td>11820.0</td>\n",
       "    </tr>\n",
       "    <tr>\n",
       "      <th>2019-03-11 03:18:00</th>\n",
       "      <td>2019-03-11 03:18:00</td>\n",
       "      <td>100.0</td>\n",
       "      <td>96.717532</td>\n",
       "      <td>96.901785</td>\n",
       "      <td>44.218947</td>\n",
       "      <td>97.680386</td>\n",
       "      <td>92.997927</td>\n",
       "      <td>97.289250</td>\n",
       "      <td>79.963124</td>\n",
       "      <td>93.643636</td>\n",
       "      <td>96.264723</td>\n",
       "      <td>87.266264</td>\n",
       "      <td>11/03/2019</td>\n",
       "      <td>03:18:00</td>\n",
       "      <td>Monday</td>\n",
       "      <td>0</td>\n",
       "      <td>Weekday</td>\n",
       "      <td>1</td>\n",
       "      <td>11880.0</td>\n",
       "    </tr>\n",
       "  </tbody>\n",
       "</table>\n",
       "</div>"
      ],
      "text/plain": [
       "                        dateTime_column  DEWIHOBT9_I0  AEDATZ_HONP0  \\\n",
       "dateTime                                                              \n",
       "2019-03-11 03:14:00 2019-03-11 03:14:00         100.0     97.304518   \n",
       "2019-03-11 03:15:00 2019-03-11 03:15:00         100.0     96.950979   \n",
       "2019-03-11 03:16:00 2019-03-11 03:16:00         100.0     96.722113   \n",
       "2019-03-11 03:17:00 2019-03-11 03:17:00         100.0     96.671992   \n",
       "2019-03-11 03:18:00 2019-03-11 03:18:00         100.0     96.717532   \n",
       "\n",
       "                     AEDATZK_ASP0  AEDATZ_HO_V0  AEDATZ_TZCP2  AEDATZKA_8P0  \\\n",
       "dateTime                                                                      \n",
       "2019-03-11 03:14:00     97.482960     46.119388     98.275765     92.911299   \n",
       "2019-03-11 03:15:00     97.167113     46.534541     97.658591     92.709599   \n",
       "2019-03-11 03:16:00     96.937628     46.555631     95.779320     92.519508   \n",
       "2019-03-11 03:17:00     96.868238     45.940449     96.898266     92.876853   \n",
       "2019-03-11 03:18:00     96.901785     44.218947     97.680386     92.997927   \n",
       "\n",
       "                     AEDATZ_HO_P1  AEDAHO_T9_V2  RWWIHOB_HWT0  RWWIHOB_MWT0  \\\n",
       "dateTime                                                                      \n",
       "2019-03-11 03:14:00     97.357811     83.327361     94.076290     96.594824   \n",
       "2019-03-11 03:15:00     97.563494     84.314814     94.003521     96.529931   \n",
       "2019-03-11 03:16:00     97.431268     84.380943     93.851567     96.404936   \n",
       "2019-03-11 03:17:00     97.252133     83.279853     93.727603     96.295169   \n",
       "2019-03-11 03:18:00     97.289250     79.963124     93.643636     96.264723   \n",
       "\n",
       "                     AEWIHO_T9AV2        Date      Time Weekday_name  weekday  \\\n",
       "dateTime                                                                        \n",
       "2019-03-11 03:14:00     79.178306  11/03/2019  03:14:00       Monday        0   \n",
       "2019-03-11 03:15:00     81.659117  11/03/2019  03:15:00       Monday        0   \n",
       "2019-03-11 03:16:00     86.055430  11/03/2019  03:16:00       Monday        0   \n",
       "2019-03-11 03:17:00     87.113691  11/03/2019  03:17:00       Monday        0   \n",
       "2019-03-11 03:18:00     87.266264  11/03/2019  03:18:00       Monday        0   \n",
       "\n",
       "                    TypeofDAY  TypeofDAY_number  numric_time  \n",
       "dateTime                                                      \n",
       "2019-03-11 03:14:00   Weekday                 1      11640.0  \n",
       "2019-03-11 03:15:00   Weekday                 1      11700.0  \n",
       "2019-03-11 03:16:00   Weekday                 1      11760.0  \n",
       "2019-03-11 03:17:00   Weekday                 1      11820.0  \n",
       "2019-03-11 03:18:00   Weekday                 1      11880.0  "
      ]
     },
     "execution_count": 220,
     "metadata": {},
     "output_type": "execute_result"
    }
   ],
   "source": [
    "tr.head()"
   ]
  },
  {
   "cell_type": "code",
   "execution_count": 221,
   "metadata": {
    "scrolled": true
   },
   "outputs": [
    {
     "data": {
      "text/plain": [
       "Index(['dateTime_column', 'DEWIHOBT9_I0', 'AEDATZ_HONP0', 'AEDATZK_ASP0',\n",
       "       'AEDATZ_HO_V0', 'AEDATZ_TZCP2', 'AEDATZKA_8P0', 'AEDATZ_HO_P1',\n",
       "       'AEDAHO_T9_V2', 'RWWIHOB_HWT0', 'RWWIHOB_MWT0', 'AEWIHO_T9AV2', 'Date',\n",
       "       'Time', 'Weekday_name', 'weekday', 'TypeofDAY', 'TypeofDAY_number',\n",
       "       'numric_time'],\n",
       "      dtype='object')"
      ]
     },
     "execution_count": 221,
     "metadata": {},
     "output_type": "execute_result"
    }
   ],
   "source": [
    "tr.columns"
   ]
  },
  {
   "cell_type": "code",
   "execution_count": 228,
   "metadata": {
    "scrolled": true
   },
   "outputs": [
    {
     "data": {
      "text/html": [
       "<div>\n",
       "<style scoped>\n",
       "    .dataframe tbody tr th:only-of-type {\n",
       "        vertical-align: middle;\n",
       "    }\n",
       "\n",
       "    .dataframe tbody tr th {\n",
       "        vertical-align: top;\n",
       "    }\n",
       "\n",
       "    .dataframe thead th {\n",
       "        text-align: right;\n",
       "    }\n",
       "</style>\n",
       "<table border=\"1\" class=\"dataframe\">\n",
       "  <thead>\n",
       "    <tr style=\"text-align: right;\">\n",
       "      <th></th>\n",
       "      <th>DEWIHOBT9_I0</th>\n",
       "      <th>AEDATZ_HONP0</th>\n",
       "      <th>AEDATZK_ASP0</th>\n",
       "      <th>AEDATZ_HO_V0</th>\n",
       "      <th>AEDATZ_TZCP2</th>\n",
       "      <th>AEDATZKA_8P0</th>\n",
       "      <th>AEDATZ_HO_P1</th>\n",
       "      <th>AEDAHO_T9_V2</th>\n",
       "      <th>RWWIHOB_HWT0</th>\n",
       "      <th>RWWIHOB_MWT0</th>\n",
       "      <th>AEWIHO_T9AV2</th>\n",
       "      <th>Date</th>\n",
       "      <th>Time</th>\n",
       "      <th>Weekday_name</th>\n",
       "      <th>weekday</th>\n",
       "      <th>TypeofDAY</th>\n",
       "      <th>TypeofDAY_number</th>\n",
       "      <th>numric_time</th>\n",
       "    </tr>\n",
       "    <tr>\n",
       "      <th>dateTime</th>\n",
       "      <th></th>\n",
       "      <th></th>\n",
       "      <th></th>\n",
       "      <th></th>\n",
       "      <th></th>\n",
       "      <th></th>\n",
       "      <th></th>\n",
       "      <th></th>\n",
       "      <th></th>\n",
       "      <th></th>\n",
       "      <th></th>\n",
       "      <th></th>\n",
       "      <th></th>\n",
       "      <th></th>\n",
       "      <th></th>\n",
       "      <th></th>\n",
       "      <th></th>\n",
       "      <th></th>\n",
       "    </tr>\n",
       "  </thead>\n",
       "  <tbody>\n",
       "    <tr>\n",
       "      <th>2019-03-11 03:14:00</th>\n",
       "      <td>100.0</td>\n",
       "      <td>97.304518</td>\n",
       "      <td>97.482960</td>\n",
       "      <td>46.119388</td>\n",
       "      <td>98.275765</td>\n",
       "      <td>92.911299</td>\n",
       "      <td>97.357811</td>\n",
       "      <td>83.327361</td>\n",
       "      <td>94.076290</td>\n",
       "      <td>96.594824</td>\n",
       "      <td>79.178306</td>\n",
       "      <td>11/03/2019</td>\n",
       "      <td>03:14:00</td>\n",
       "      <td>Monday</td>\n",
       "      <td>0</td>\n",
       "      <td>Weekday</td>\n",
       "      <td>1</td>\n",
       "      <td>11640.0</td>\n",
       "    </tr>\n",
       "    <tr>\n",
       "      <th>2019-03-11 03:15:00</th>\n",
       "      <td>100.0</td>\n",
       "      <td>96.950979</td>\n",
       "      <td>97.167113</td>\n",
       "      <td>46.534541</td>\n",
       "      <td>97.658591</td>\n",
       "      <td>92.709599</td>\n",
       "      <td>97.563494</td>\n",
       "      <td>84.314814</td>\n",
       "      <td>94.003521</td>\n",
       "      <td>96.529931</td>\n",
       "      <td>81.659117</td>\n",
       "      <td>11/03/2019</td>\n",
       "      <td>03:15:00</td>\n",
       "      <td>Monday</td>\n",
       "      <td>0</td>\n",
       "      <td>Weekday</td>\n",
       "      <td>1</td>\n",
       "      <td>11700.0</td>\n",
       "    </tr>\n",
       "    <tr>\n",
       "      <th>2019-03-11 03:16:00</th>\n",
       "      <td>100.0</td>\n",
       "      <td>96.722113</td>\n",
       "      <td>96.937628</td>\n",
       "      <td>46.555631</td>\n",
       "      <td>95.779320</td>\n",
       "      <td>92.519508</td>\n",
       "      <td>97.431268</td>\n",
       "      <td>84.380943</td>\n",
       "      <td>93.851567</td>\n",
       "      <td>96.404936</td>\n",
       "      <td>86.055430</td>\n",
       "      <td>11/03/2019</td>\n",
       "      <td>03:16:00</td>\n",
       "      <td>Monday</td>\n",
       "      <td>0</td>\n",
       "      <td>Weekday</td>\n",
       "      <td>1</td>\n",
       "      <td>11760.0</td>\n",
       "    </tr>\n",
       "    <tr>\n",
       "      <th>2019-03-11 03:17:00</th>\n",
       "      <td>100.0</td>\n",
       "      <td>96.671992</td>\n",
       "      <td>96.868238</td>\n",
       "      <td>45.940449</td>\n",
       "      <td>96.898266</td>\n",
       "      <td>92.876853</td>\n",
       "      <td>97.252133</td>\n",
       "      <td>83.279853</td>\n",
       "      <td>93.727603</td>\n",
       "      <td>96.295169</td>\n",
       "      <td>87.113691</td>\n",
       "      <td>11/03/2019</td>\n",
       "      <td>03:17:00</td>\n",
       "      <td>Monday</td>\n",
       "      <td>0</td>\n",
       "      <td>Weekday</td>\n",
       "      <td>1</td>\n",
       "      <td>11820.0</td>\n",
       "    </tr>\n",
       "    <tr>\n",
       "      <th>2019-03-11 03:18:00</th>\n",
       "      <td>100.0</td>\n",
       "      <td>96.717532</td>\n",
       "      <td>96.901785</td>\n",
       "      <td>44.218947</td>\n",
       "      <td>97.680386</td>\n",
       "      <td>92.997927</td>\n",
       "      <td>97.289250</td>\n",
       "      <td>79.963124</td>\n",
       "      <td>93.643636</td>\n",
       "      <td>96.264723</td>\n",
       "      <td>87.266264</td>\n",
       "      <td>11/03/2019</td>\n",
       "      <td>03:18:00</td>\n",
       "      <td>Monday</td>\n",
       "      <td>0</td>\n",
       "      <td>Weekday</td>\n",
       "      <td>1</td>\n",
       "      <td>11880.0</td>\n",
       "    </tr>\n",
       "  </tbody>\n",
       "</table>\n",
       "</div>"
      ],
      "text/plain": [
       "                     DEWIHOBT9_I0  AEDATZ_HONP0  AEDATZK_ASP0  AEDATZ_HO_V0  \\\n",
       "dateTime                                                                      \n",
       "2019-03-11 03:14:00         100.0     97.304518     97.482960     46.119388   \n",
       "2019-03-11 03:15:00         100.0     96.950979     97.167113     46.534541   \n",
       "2019-03-11 03:16:00         100.0     96.722113     96.937628     46.555631   \n",
       "2019-03-11 03:17:00         100.0     96.671992     96.868238     45.940449   \n",
       "2019-03-11 03:18:00         100.0     96.717532     96.901785     44.218947   \n",
       "\n",
       "                     AEDATZ_TZCP2  AEDATZKA_8P0  AEDATZ_HO_P1  AEDAHO_T9_V2  \\\n",
       "dateTime                                                                      \n",
       "2019-03-11 03:14:00     98.275765     92.911299     97.357811     83.327361   \n",
       "2019-03-11 03:15:00     97.658591     92.709599     97.563494     84.314814   \n",
       "2019-03-11 03:16:00     95.779320     92.519508     97.431268     84.380943   \n",
       "2019-03-11 03:17:00     96.898266     92.876853     97.252133     83.279853   \n",
       "2019-03-11 03:18:00     97.680386     92.997927     97.289250     79.963124   \n",
       "\n",
       "                     RWWIHOB_HWT0  RWWIHOB_MWT0  AEWIHO_T9AV2        Date  \\\n",
       "dateTime                                                                    \n",
       "2019-03-11 03:14:00     94.076290     96.594824     79.178306  11/03/2019   \n",
       "2019-03-11 03:15:00     94.003521     96.529931     81.659117  11/03/2019   \n",
       "2019-03-11 03:16:00     93.851567     96.404936     86.055430  11/03/2019   \n",
       "2019-03-11 03:17:00     93.727603     96.295169     87.113691  11/03/2019   \n",
       "2019-03-11 03:18:00     93.643636     96.264723     87.266264  11/03/2019   \n",
       "\n",
       "                         Time Weekday_name  weekday TypeofDAY  \\\n",
       "dateTime                                                        \n",
       "2019-03-11 03:14:00  03:14:00       Monday        0   Weekday   \n",
       "2019-03-11 03:15:00  03:15:00       Monday        0   Weekday   \n",
       "2019-03-11 03:16:00  03:16:00       Monday        0   Weekday   \n",
       "2019-03-11 03:17:00  03:17:00       Monday        0   Weekday   \n",
       "2019-03-11 03:18:00  03:18:00       Monday        0   Weekday   \n",
       "\n",
       "                     TypeofDAY_number  numric_time  \n",
       "dateTime                                            \n",
       "2019-03-11 03:14:00                 1      11640.0  \n",
       "2019-03-11 03:15:00                 1      11700.0  \n",
       "2019-03-11 03:16:00                 1      11760.0  \n",
       "2019-03-11 03:17:00                 1      11820.0  \n",
       "2019-03-11 03:18:00                 1      11880.0  "
      ]
     },
     "execution_count": 228,
     "metadata": {},
     "output_type": "execute_result"
    }
   ],
   "source": [
    "pr_1.head()"
   ]
  },
  {
   "cell_type": "code",
   "execution_count": 322,
   "metadata": {},
   "outputs": [
    {
     "name": "stdout",
     "output_type": "stream",
     "text": [
      "1192\n"
     ]
    }
   ],
   "source": [
    "my_array=[]\n",
    "count = 0\n",
    "\n",
    "for index_2, value_2 in tr.iterrows():\n",
    "    for i_2 , v_2 in enumerate(value_2):\n",
    "        if i_2 == 12 and v_2 != 0.0:\n",
    "#             print(v_2)\n",
    "            v_2_split = v_2.split('/')\n",
    "            if v_2_split[0] == '11' and v_2_split[1]=='03' :\n",
    "                my_array = np.append(my_array,index_2)\n",
    "#                 print(v_2)\n",
    "#                 print(count)\n",
    "            \n",
    "                count+=1\n",
    "# print('-------',count)\n",
    "print(len(my_array))"
   ]
  },
  {
   "cell_type": "code",
   "execution_count": 323,
   "metadata": {},
   "outputs": [],
   "source": [
    "tr_33 = tr.reset_index()"
   ]
  },
  {
   "cell_type": "code",
   "execution_count": 324,
   "metadata": {},
   "outputs": [],
   "source": [
    "df2 = pd.DataFrame()\n",
    "for idx , v_2 in enumerate(tr_33['Date']):\n",
    "#     print(idx)\n",
    "    if v_2 != 0.0:\n",
    "        v_2_split = v_2.split('/')\n",
    "        if v_2_split[0] == '11' and v_2_split[1]=='03':\n",
    "            required_dataframe = pd.DataFrame(tr_33.iloc[idx:(idx+1),:], columns=tr_33.columns)\n",
    "            df2 = pd.concat([df2, required_dataframe], axis=0)"
   ]
  },
  {
   "cell_type": "code",
   "execution_count": 326,
   "metadata": {},
   "outputs": [
    {
     "data": {
      "text/html": [
       "<div>\n",
       "<style scoped>\n",
       "    .dataframe tbody tr th:only-of-type {\n",
       "        vertical-align: middle;\n",
       "    }\n",
       "\n",
       "    .dataframe tbody tr th {\n",
       "        vertical-align: top;\n",
       "    }\n",
       "\n",
       "    .dataframe thead th {\n",
       "        text-align: right;\n",
       "    }\n",
       "</style>\n",
       "<table border=\"1\" class=\"dataframe\">\n",
       "  <thead>\n",
       "    <tr style=\"text-align: right;\">\n",
       "      <th></th>\n",
       "      <th>dateTime</th>\n",
       "      <th>dateTime_column</th>\n",
       "      <th>DEWIHOBT9_I0</th>\n",
       "      <th>AEDATZ_HONP0</th>\n",
       "      <th>AEDATZK_ASP0</th>\n",
       "      <th>AEDATZ_HO_V0</th>\n",
       "      <th>AEDATZ_TZCP2</th>\n",
       "      <th>AEDATZKA_8P0</th>\n",
       "      <th>AEDATZ_HO_P1</th>\n",
       "      <th>AEDAHO_T9_V2</th>\n",
       "      <th>RWWIHOB_HWT0</th>\n",
       "      <th>RWWIHOB_MWT0</th>\n",
       "      <th>AEWIHO_T9AV2</th>\n",
       "      <th>Date</th>\n",
       "      <th>Time</th>\n",
       "      <th>Weekday_name</th>\n",
       "      <th>weekday</th>\n",
       "      <th>TypeofDAY</th>\n",
       "      <th>TypeofDAY_number</th>\n",
       "      <th>numric_time</th>\n",
       "    </tr>\n",
       "  </thead>\n",
       "  <tbody>\n",
       "    <tr>\n",
       "      <th>0</th>\n",
       "      <td>2019-03-11 03:14:00</td>\n",
       "      <td>2019-03-11 03:14:00</td>\n",
       "      <td>100.0</td>\n",
       "      <td>97.304518</td>\n",
       "      <td>97.482960</td>\n",
       "      <td>46.119388</td>\n",
       "      <td>98.275765</td>\n",
       "      <td>92.911299</td>\n",
       "      <td>97.357811</td>\n",
       "      <td>83.327361</td>\n",
       "      <td>94.076290</td>\n",
       "      <td>96.594824</td>\n",
       "      <td>79.178306</td>\n",
       "      <td>11/03/2019</td>\n",
       "      <td>03:14:00</td>\n",
       "      <td>Monday</td>\n",
       "      <td>0</td>\n",
       "      <td>Weekday</td>\n",
       "      <td>1</td>\n",
       "      <td>11640.0</td>\n",
       "    </tr>\n",
       "    <tr>\n",
       "      <th>1</th>\n",
       "      <td>2019-03-11 03:15:00</td>\n",
       "      <td>2019-03-11 03:15:00</td>\n",
       "      <td>100.0</td>\n",
       "      <td>96.950979</td>\n",
       "      <td>97.167113</td>\n",
       "      <td>46.534541</td>\n",
       "      <td>97.658591</td>\n",
       "      <td>92.709599</td>\n",
       "      <td>97.563494</td>\n",
       "      <td>84.314814</td>\n",
       "      <td>94.003521</td>\n",
       "      <td>96.529931</td>\n",
       "      <td>81.659117</td>\n",
       "      <td>11/03/2019</td>\n",
       "      <td>03:15:00</td>\n",
       "      <td>Monday</td>\n",
       "      <td>0</td>\n",
       "      <td>Weekday</td>\n",
       "      <td>1</td>\n",
       "      <td>11700.0</td>\n",
       "    </tr>\n",
       "    <tr>\n",
       "      <th>2</th>\n",
       "      <td>2019-03-11 03:16:00</td>\n",
       "      <td>2019-03-11 03:16:00</td>\n",
       "      <td>100.0</td>\n",
       "      <td>96.722113</td>\n",
       "      <td>96.937628</td>\n",
       "      <td>46.555631</td>\n",
       "      <td>95.779320</td>\n",
       "      <td>92.519508</td>\n",
       "      <td>97.431268</td>\n",
       "      <td>84.380943</td>\n",
       "      <td>93.851567</td>\n",
       "      <td>96.404936</td>\n",
       "      <td>86.055430</td>\n",
       "      <td>11/03/2019</td>\n",
       "      <td>03:16:00</td>\n",
       "      <td>Monday</td>\n",
       "      <td>0</td>\n",
       "      <td>Weekday</td>\n",
       "      <td>1</td>\n",
       "      <td>11760.0</td>\n",
       "    </tr>\n",
       "    <tr>\n",
       "      <th>3</th>\n",
       "      <td>2019-03-11 03:17:00</td>\n",
       "      <td>2019-03-11 03:17:00</td>\n",
       "      <td>100.0</td>\n",
       "      <td>96.671992</td>\n",
       "      <td>96.868238</td>\n",
       "      <td>45.940449</td>\n",
       "      <td>96.898266</td>\n",
       "      <td>92.876853</td>\n",
       "      <td>97.252133</td>\n",
       "      <td>83.279853</td>\n",
       "      <td>93.727603</td>\n",
       "      <td>96.295169</td>\n",
       "      <td>87.113691</td>\n",
       "      <td>11/03/2019</td>\n",
       "      <td>03:17:00</td>\n",
       "      <td>Monday</td>\n",
       "      <td>0</td>\n",
       "      <td>Weekday</td>\n",
       "      <td>1</td>\n",
       "      <td>11820.0</td>\n",
       "    </tr>\n",
       "    <tr>\n",
       "      <th>4</th>\n",
       "      <td>2019-03-11 03:18:00</td>\n",
       "      <td>2019-03-11 03:18:00</td>\n",
       "      <td>100.0</td>\n",
       "      <td>96.717532</td>\n",
       "      <td>96.901785</td>\n",
       "      <td>44.218947</td>\n",
       "      <td>97.680386</td>\n",
       "      <td>92.997927</td>\n",
       "      <td>97.289250</td>\n",
       "      <td>79.963124</td>\n",
       "      <td>93.643636</td>\n",
       "      <td>96.264723</td>\n",
       "      <td>87.266264</td>\n",
       "      <td>11/03/2019</td>\n",
       "      <td>03:18:00</td>\n",
       "      <td>Monday</td>\n",
       "      <td>0</td>\n",
       "      <td>Weekday</td>\n",
       "      <td>1</td>\n",
       "      <td>11880.0</td>\n",
       "    </tr>\n",
       "  </tbody>\n",
       "</table>\n",
       "</div>"
      ],
      "text/plain": [
       "             dateTime     dateTime_column  DEWIHOBT9_I0  AEDATZ_HONP0  \\\n",
       "0 2019-03-11 03:14:00 2019-03-11 03:14:00         100.0     97.304518   \n",
       "1 2019-03-11 03:15:00 2019-03-11 03:15:00         100.0     96.950979   \n",
       "2 2019-03-11 03:16:00 2019-03-11 03:16:00         100.0     96.722113   \n",
       "3 2019-03-11 03:17:00 2019-03-11 03:17:00         100.0     96.671992   \n",
       "4 2019-03-11 03:18:00 2019-03-11 03:18:00         100.0     96.717532   \n",
       "\n",
       "   AEDATZK_ASP0  AEDATZ_HO_V0  AEDATZ_TZCP2  AEDATZKA_8P0  AEDATZ_HO_P1  \\\n",
       "0     97.482960     46.119388     98.275765     92.911299     97.357811   \n",
       "1     97.167113     46.534541     97.658591     92.709599     97.563494   \n",
       "2     96.937628     46.555631     95.779320     92.519508     97.431268   \n",
       "3     96.868238     45.940449     96.898266     92.876853     97.252133   \n",
       "4     96.901785     44.218947     97.680386     92.997927     97.289250   \n",
       "\n",
       "   AEDAHO_T9_V2  RWWIHOB_HWT0  RWWIHOB_MWT0  AEWIHO_T9AV2        Date  \\\n",
       "0     83.327361     94.076290     96.594824     79.178306  11/03/2019   \n",
       "1     84.314814     94.003521     96.529931     81.659117  11/03/2019   \n",
       "2     84.380943     93.851567     96.404936     86.055430  11/03/2019   \n",
       "3     83.279853     93.727603     96.295169     87.113691  11/03/2019   \n",
       "4     79.963124     93.643636     96.264723     87.266264  11/03/2019   \n",
       "\n",
       "       Time Weekday_name  weekday TypeofDAY  TypeofDAY_number  numric_time  \n",
       "0  03:14:00       Monday        0   Weekday                 1      11640.0  \n",
       "1  03:15:00       Monday        0   Weekday                 1      11700.0  \n",
       "2  03:16:00       Monday        0   Weekday                 1      11760.0  \n",
       "3  03:17:00       Monday        0   Weekday                 1      11820.0  \n",
       "4  03:18:00       Monday        0   Weekday                 1      11880.0  "
      ]
     },
     "execution_count": 326,
     "metadata": {},
     "output_type": "execute_result"
    }
   ],
   "source": [
    "df2.head()"
   ]
  },
  {
   "cell_type": "code",
   "execution_count": 257,
   "metadata": {},
   "outputs": [],
   "source": [
    "dict_of_dates = {k: v for k, v in tr.groupby('Date')}"
   ]
  },
  {
   "cell_type": "code",
   "execution_count": 258,
   "metadata": {},
   "outputs": [],
   "source": [
    "import collections\n",
    "prices  = collections.OrderedDict(dict_of_dates)"
   ]
  },
  {
   "cell_type": "code",
   "execution_count": 268,
   "metadata": {
    "scrolled": true
   },
   "outputs": [],
   "source": [
    "# for k in prices:\n",
    "#     print((k))"
   ]
  },
  {
   "cell_type": "code",
   "execution_count": 265,
   "metadata": {
    "scrolled": true
   },
   "outputs": [],
   "source": [
    "# import pprint\n",
    "# pprint.pprint(dict_of_dates)"
   ]
  },
  {
   "cell_type": "code",
   "execution_count": 267,
   "metadata": {},
   "outputs": [
    {
     "name": "stdout",
     "output_type": "stream",
     "text": [
      "<class 'str'> <class 'pandas.core.frame.DataFrame'>\n"
     ]
    }
   ],
   "source": [
    "for i in dict_of_dates : \n",
    "    print(type(i), type(dict_of_dates[i]))\n",
    "    break"
   ]
  },
  {
   "cell_type": "code",
   "execution_count": 327,
   "metadata": {
    "scrolled": false
   },
   "outputs": [
    {
     "name": "stdout",
     "output_type": "stream",
     "text": [
      "1192\n"
     ]
    }
   ],
   "source": [
    "# tr_group = tr.groupby(pd.Grouper(freq='1Y')).sum()\n",
    "# tr_group.head()\n",
    "\n",
    "tr_1 = tr['2019-03-11':'2019-03-11']\n",
    "tr_1.tail()\n",
    "print(len(tr_1))"
   ]
  },
  {
   "cell_type": "code",
   "execution_count": 107,
   "metadata": {},
   "outputs": [],
   "source": [
    "morning_shift = tr_1.between_time('06:00', '14:00')\n",
    "day_shift = tr.between_time('14:01', '22:00')\n",
    "night_shift = tr.between_time('22:01', '05:59')"
   ]
  },
  {
   "cell_type": "code",
   "execution_count": 108,
   "metadata": {},
   "outputs": [
    {
     "data": {
      "text/plain": [
       "472"
      ]
     },
     "execution_count": 108,
     "metadata": {},
     "output_type": "execute_result"
    }
   ],
   "source": [
    "len(morning_shift)"
   ]
  },
  {
   "cell_type": "code",
   "execution_count": 222,
   "metadata": {},
   "outputs": [],
   "source": [
    "def change_dataframe(dataframe):\n",
    "    present_data = dataframe\n",
    "    return present_data\n",
    "present_data = change_dataframe(tr)"
   ]
  },
  {
   "cell_type": "code",
   "execution_count": 234,
   "metadata": {},
   "outputs": [
    {
     "data": {
      "text/plain": [
       "pandas.core.frame.DataFrame"
      ]
     },
     "execution_count": 234,
     "metadata": {},
     "output_type": "execute_result"
    }
   ],
   "source": [
    "type(pr_1)"
   ]
  },
  {
   "cell_type": "code",
   "execution_count": 223,
   "metadata": {},
   "outputs": [],
   "source": [
    "# present_data.plot(y=present_data.columns['AEWIHO_T9AV2'])"
   ]
  },
  {
   "cell_type": "code",
   "execution_count": 224,
   "metadata": {},
   "outputs": [],
   "source": [
    "pr_1 = present_data.drop(multivariate_column_label[0], axis=1)"
   ]
  },
  {
   "cell_type": "code",
   "execution_count": 225,
   "metadata": {},
   "outputs": [
    {
     "data": {
      "text/html": [
       "<div>\n",
       "<style scoped>\n",
       "    .dataframe tbody tr th:only-of-type {\n",
       "        vertical-align: middle;\n",
       "    }\n",
       "\n",
       "    .dataframe tbody tr th {\n",
       "        vertical-align: top;\n",
       "    }\n",
       "\n",
       "    .dataframe thead th {\n",
       "        text-align: right;\n",
       "    }\n",
       "</style>\n",
       "<table border=\"1\" class=\"dataframe\">\n",
       "  <thead>\n",
       "    <tr style=\"text-align: right;\">\n",
       "      <th></th>\n",
       "      <th>DEWIHOBT9_I0</th>\n",
       "      <th>AEDATZ_HONP0</th>\n",
       "      <th>AEDATZK_ASP0</th>\n",
       "      <th>AEDATZ_HO_V0</th>\n",
       "      <th>AEDATZ_TZCP2</th>\n",
       "      <th>AEDATZKA_8P0</th>\n",
       "      <th>AEDATZ_HO_P1</th>\n",
       "      <th>AEDAHO_T9_V2</th>\n",
       "      <th>RWWIHOB_HWT0</th>\n",
       "      <th>RWWIHOB_MWT0</th>\n",
       "      <th>AEWIHO_T9AV2</th>\n",
       "      <th>Date</th>\n",
       "      <th>Time</th>\n",
       "      <th>Weekday_name</th>\n",
       "      <th>weekday</th>\n",
       "      <th>TypeofDAY</th>\n",
       "      <th>TypeofDAY_number</th>\n",
       "      <th>numric_time</th>\n",
       "    </tr>\n",
       "    <tr>\n",
       "      <th>dateTime</th>\n",
       "      <th></th>\n",
       "      <th></th>\n",
       "      <th></th>\n",
       "      <th></th>\n",
       "      <th></th>\n",
       "      <th></th>\n",
       "      <th></th>\n",
       "      <th></th>\n",
       "      <th></th>\n",
       "      <th></th>\n",
       "      <th></th>\n",
       "      <th></th>\n",
       "      <th></th>\n",
       "      <th></th>\n",
       "      <th></th>\n",
       "      <th></th>\n",
       "      <th></th>\n",
       "      <th></th>\n",
       "    </tr>\n",
       "  </thead>\n",
       "  <tbody>\n",
       "    <tr>\n",
       "      <th>2019-03-11 03:14:00</th>\n",
       "      <td>100.0</td>\n",
       "      <td>97.304518</td>\n",
       "      <td>97.482960</td>\n",
       "      <td>46.119388</td>\n",
       "      <td>98.275765</td>\n",
       "      <td>92.911299</td>\n",
       "      <td>97.357811</td>\n",
       "      <td>83.327361</td>\n",
       "      <td>94.076290</td>\n",
       "      <td>96.594824</td>\n",
       "      <td>79.178306</td>\n",
       "      <td>11/03/2019</td>\n",
       "      <td>03:14:00</td>\n",
       "      <td>Monday</td>\n",
       "      <td>0</td>\n",
       "      <td>Weekday</td>\n",
       "      <td>1</td>\n",
       "      <td>11640.0</td>\n",
       "    </tr>\n",
       "    <tr>\n",
       "      <th>2019-03-11 03:15:00</th>\n",
       "      <td>100.0</td>\n",
       "      <td>96.950979</td>\n",
       "      <td>97.167113</td>\n",
       "      <td>46.534541</td>\n",
       "      <td>97.658591</td>\n",
       "      <td>92.709599</td>\n",
       "      <td>97.563494</td>\n",
       "      <td>84.314814</td>\n",
       "      <td>94.003521</td>\n",
       "      <td>96.529931</td>\n",
       "      <td>81.659117</td>\n",
       "      <td>11/03/2019</td>\n",
       "      <td>03:15:00</td>\n",
       "      <td>Monday</td>\n",
       "      <td>0</td>\n",
       "      <td>Weekday</td>\n",
       "      <td>1</td>\n",
       "      <td>11700.0</td>\n",
       "    </tr>\n",
       "    <tr>\n",
       "      <th>2019-03-11 03:16:00</th>\n",
       "      <td>100.0</td>\n",
       "      <td>96.722113</td>\n",
       "      <td>96.937628</td>\n",
       "      <td>46.555631</td>\n",
       "      <td>95.779320</td>\n",
       "      <td>92.519508</td>\n",
       "      <td>97.431268</td>\n",
       "      <td>84.380943</td>\n",
       "      <td>93.851567</td>\n",
       "      <td>96.404936</td>\n",
       "      <td>86.055430</td>\n",
       "      <td>11/03/2019</td>\n",
       "      <td>03:16:00</td>\n",
       "      <td>Monday</td>\n",
       "      <td>0</td>\n",
       "      <td>Weekday</td>\n",
       "      <td>1</td>\n",
       "      <td>11760.0</td>\n",
       "    </tr>\n",
       "    <tr>\n",
       "      <th>2019-03-11 03:17:00</th>\n",
       "      <td>100.0</td>\n",
       "      <td>96.671992</td>\n",
       "      <td>96.868238</td>\n",
       "      <td>45.940449</td>\n",
       "      <td>96.898266</td>\n",
       "      <td>92.876853</td>\n",
       "      <td>97.252133</td>\n",
       "      <td>83.279853</td>\n",
       "      <td>93.727603</td>\n",
       "      <td>96.295169</td>\n",
       "      <td>87.113691</td>\n",
       "      <td>11/03/2019</td>\n",
       "      <td>03:17:00</td>\n",
       "      <td>Monday</td>\n",
       "      <td>0</td>\n",
       "      <td>Weekday</td>\n",
       "      <td>1</td>\n",
       "      <td>11820.0</td>\n",
       "    </tr>\n",
       "    <tr>\n",
       "      <th>2019-03-11 03:18:00</th>\n",
       "      <td>100.0</td>\n",
       "      <td>96.717532</td>\n",
       "      <td>96.901785</td>\n",
       "      <td>44.218947</td>\n",
       "      <td>97.680386</td>\n",
       "      <td>92.997927</td>\n",
       "      <td>97.289250</td>\n",
       "      <td>79.963124</td>\n",
       "      <td>93.643636</td>\n",
       "      <td>96.264723</td>\n",
       "      <td>87.266264</td>\n",
       "      <td>11/03/2019</td>\n",
       "      <td>03:18:00</td>\n",
       "      <td>Monday</td>\n",
       "      <td>0</td>\n",
       "      <td>Weekday</td>\n",
       "      <td>1</td>\n",
       "      <td>11880.0</td>\n",
       "    </tr>\n",
       "  </tbody>\n",
       "</table>\n",
       "</div>"
      ],
      "text/plain": [
       "                     DEWIHOBT9_I0  AEDATZ_HONP0  AEDATZK_ASP0  AEDATZ_HO_V0  \\\n",
       "dateTime                                                                      \n",
       "2019-03-11 03:14:00         100.0     97.304518     97.482960     46.119388   \n",
       "2019-03-11 03:15:00         100.0     96.950979     97.167113     46.534541   \n",
       "2019-03-11 03:16:00         100.0     96.722113     96.937628     46.555631   \n",
       "2019-03-11 03:17:00         100.0     96.671992     96.868238     45.940449   \n",
       "2019-03-11 03:18:00         100.0     96.717532     96.901785     44.218947   \n",
       "\n",
       "                     AEDATZ_TZCP2  AEDATZKA_8P0  AEDATZ_HO_P1  AEDAHO_T9_V2  \\\n",
       "dateTime                                                                      \n",
       "2019-03-11 03:14:00     98.275765     92.911299     97.357811     83.327361   \n",
       "2019-03-11 03:15:00     97.658591     92.709599     97.563494     84.314814   \n",
       "2019-03-11 03:16:00     95.779320     92.519508     97.431268     84.380943   \n",
       "2019-03-11 03:17:00     96.898266     92.876853     97.252133     83.279853   \n",
       "2019-03-11 03:18:00     97.680386     92.997927     97.289250     79.963124   \n",
       "\n",
       "                     RWWIHOB_HWT0  RWWIHOB_MWT0  AEWIHO_T9AV2        Date  \\\n",
       "dateTime                                                                    \n",
       "2019-03-11 03:14:00     94.076290     96.594824     79.178306  11/03/2019   \n",
       "2019-03-11 03:15:00     94.003521     96.529931     81.659117  11/03/2019   \n",
       "2019-03-11 03:16:00     93.851567     96.404936     86.055430  11/03/2019   \n",
       "2019-03-11 03:17:00     93.727603     96.295169     87.113691  11/03/2019   \n",
       "2019-03-11 03:18:00     93.643636     96.264723     87.266264  11/03/2019   \n",
       "\n",
       "                         Time Weekday_name  weekday TypeofDAY  \\\n",
       "dateTime                                                        \n",
       "2019-03-11 03:14:00  03:14:00       Monday        0   Weekday   \n",
       "2019-03-11 03:15:00  03:15:00       Monday        0   Weekday   \n",
       "2019-03-11 03:16:00  03:16:00       Monday        0   Weekday   \n",
       "2019-03-11 03:17:00  03:17:00       Monday        0   Weekday   \n",
       "2019-03-11 03:18:00  03:18:00       Monday        0   Weekday   \n",
       "\n",
       "                     TypeofDAY_number  numric_time  \n",
       "dateTime                                            \n",
       "2019-03-11 03:14:00                 1      11640.0  \n",
       "2019-03-11 03:15:00                 1      11700.0  \n",
       "2019-03-11 03:16:00                 1      11760.0  \n",
       "2019-03-11 03:17:00                 1      11820.0  \n",
       "2019-03-11 03:18:00                 1      11880.0  "
      ]
     },
     "execution_count": 225,
     "metadata": {},
     "output_type": "execute_result"
    }
   ],
   "source": [
    "pr_1.head()"
   ]
  },
  {
   "cell_type": "code",
   "execution_count": 226,
   "metadata": {},
   "outputs": [
    {
     "name": "stdout",
     "output_type": "stream",
     "text": [
      "size of zero_index:  756\n"
     ]
    }
   ],
   "source": [
    "zero_index=[]\n",
    "zero_index=np.array(zero_index)\n",
    "for index, value in pr_1.iterrows():\n",
    "    for i , v in enumerate(value):\n",
    "        if i == 0  and v == 0.0:\n",
    "#             print('index: ',index)\n",
    "            zero_index=np.append(zero_index,index)\n",
    "\n",
    "print('size of zero_index: ',zero_index.size)"
   ]
  },
  {
   "cell_type": "code",
   "execution_count": 114,
   "metadata": {},
   "outputs": [],
   "source": [
    "if zero_index.size > 0:\n",
    "    pr_1_modify = pr_1.drop(zero_index,axis=0) # axis= 0 means row indiated. 1 means column indicated\n",
    "else:\n",
    "    pr_1_modify = pr_1"
   ]
  },
  {
   "cell_type": "code",
   "execution_count": 115,
   "metadata": {},
   "outputs": [],
   "source": [
    "cols = [-1,-2,-3,-4,-5,-6,-7]\n",
    "pr_1_modify_drop = pr_1_modify.drop(pr_1_modify.columns[cols], axis=1)"
   ]
  },
  {
   "cell_type": "code",
   "execution_count": 116,
   "metadata": {},
   "outputs": [
    {
     "data": {
      "text/html": [
       "<div>\n",
       "<style scoped>\n",
       "    .dataframe tbody tr th:only-of-type {\n",
       "        vertical-align: middle;\n",
       "    }\n",
       "\n",
       "    .dataframe tbody tr th {\n",
       "        vertical-align: top;\n",
       "    }\n",
       "\n",
       "    .dataframe thead th {\n",
       "        text-align: right;\n",
       "    }\n",
       "</style>\n",
       "<table border=\"1\" class=\"dataframe\">\n",
       "  <thead>\n",
       "    <tr style=\"text-align: right;\">\n",
       "      <th></th>\n",
       "      <th>DEWIHOBT9_I0</th>\n",
       "      <th>AEDATZ_HONP0</th>\n",
       "      <th>AEDATZK_ASP0</th>\n",
       "      <th>AEDATZ_HO_V0</th>\n",
       "      <th>AEDATZ_TZCP2</th>\n",
       "      <th>AEDATZKA_8P0</th>\n",
       "      <th>AEDATZ_HO_P1</th>\n",
       "      <th>AEDAHO_T9_V2</th>\n",
       "      <th>RWWIHOB_HWT0</th>\n",
       "      <th>RWWIHOB_MWT0</th>\n",
       "      <th>AEWIHO_T9AV2</th>\n",
       "    </tr>\n",
       "    <tr>\n",
       "      <th>dateTime</th>\n",
       "      <th></th>\n",
       "      <th></th>\n",
       "      <th></th>\n",
       "      <th></th>\n",
       "      <th></th>\n",
       "      <th></th>\n",
       "      <th></th>\n",
       "      <th></th>\n",
       "      <th></th>\n",
       "      <th></th>\n",
       "      <th></th>\n",
       "    </tr>\n",
       "  </thead>\n",
       "  <tbody>\n",
       "    <tr>\n",
       "      <th>2019-03-11 03:14:00</th>\n",
       "      <td>100.0</td>\n",
       "      <td>97.304518</td>\n",
       "      <td>97.482960</td>\n",
       "      <td>46.119388</td>\n",
       "      <td>98.275765</td>\n",
       "      <td>92.911299</td>\n",
       "      <td>97.357811</td>\n",
       "      <td>83.327361</td>\n",
       "      <td>94.076290</td>\n",
       "      <td>96.594824</td>\n",
       "      <td>79.178306</td>\n",
       "    </tr>\n",
       "    <tr>\n",
       "      <th>2019-03-11 03:15:00</th>\n",
       "      <td>100.0</td>\n",
       "      <td>96.950979</td>\n",
       "      <td>97.167113</td>\n",
       "      <td>46.534541</td>\n",
       "      <td>97.658591</td>\n",
       "      <td>92.709599</td>\n",
       "      <td>97.563494</td>\n",
       "      <td>84.314814</td>\n",
       "      <td>94.003521</td>\n",
       "      <td>96.529931</td>\n",
       "      <td>81.659117</td>\n",
       "    </tr>\n",
       "    <tr>\n",
       "      <th>2019-03-11 03:16:00</th>\n",
       "      <td>100.0</td>\n",
       "      <td>96.722113</td>\n",
       "      <td>96.937628</td>\n",
       "      <td>46.555631</td>\n",
       "      <td>95.779320</td>\n",
       "      <td>92.519508</td>\n",
       "      <td>97.431268</td>\n",
       "      <td>84.380943</td>\n",
       "      <td>93.851567</td>\n",
       "      <td>96.404936</td>\n",
       "      <td>86.055430</td>\n",
       "    </tr>\n",
       "    <tr>\n",
       "      <th>2019-03-11 03:17:00</th>\n",
       "      <td>100.0</td>\n",
       "      <td>96.671992</td>\n",
       "      <td>96.868238</td>\n",
       "      <td>45.940449</td>\n",
       "      <td>96.898266</td>\n",
       "      <td>92.876853</td>\n",
       "      <td>97.252133</td>\n",
       "      <td>83.279853</td>\n",
       "      <td>93.727603</td>\n",
       "      <td>96.295169</td>\n",
       "      <td>87.113691</td>\n",
       "    </tr>\n",
       "    <tr>\n",
       "      <th>2019-03-11 03:18:00</th>\n",
       "      <td>100.0</td>\n",
       "      <td>96.717532</td>\n",
       "      <td>96.901785</td>\n",
       "      <td>44.218947</td>\n",
       "      <td>97.680386</td>\n",
       "      <td>92.997927</td>\n",
       "      <td>97.289250</td>\n",
       "      <td>79.963124</td>\n",
       "      <td>93.643636</td>\n",
       "      <td>96.264723</td>\n",
       "      <td>87.266264</td>\n",
       "    </tr>\n",
       "  </tbody>\n",
       "</table>\n",
       "</div>"
      ],
      "text/plain": [
       "                     DEWIHOBT9_I0  AEDATZ_HONP0  AEDATZK_ASP0  AEDATZ_HO_V0  \\\n",
       "dateTime                                                                      \n",
       "2019-03-11 03:14:00         100.0     97.304518     97.482960     46.119388   \n",
       "2019-03-11 03:15:00         100.0     96.950979     97.167113     46.534541   \n",
       "2019-03-11 03:16:00         100.0     96.722113     96.937628     46.555631   \n",
       "2019-03-11 03:17:00         100.0     96.671992     96.868238     45.940449   \n",
       "2019-03-11 03:18:00         100.0     96.717532     96.901785     44.218947   \n",
       "\n",
       "                     AEDATZ_TZCP2  AEDATZKA_8P0  AEDATZ_HO_P1  AEDAHO_T9_V2  \\\n",
       "dateTime                                                                      \n",
       "2019-03-11 03:14:00     98.275765     92.911299     97.357811     83.327361   \n",
       "2019-03-11 03:15:00     97.658591     92.709599     97.563494     84.314814   \n",
       "2019-03-11 03:16:00     95.779320     92.519508     97.431268     84.380943   \n",
       "2019-03-11 03:17:00     96.898266     92.876853     97.252133     83.279853   \n",
       "2019-03-11 03:18:00     97.680386     92.997927     97.289250     79.963124   \n",
       "\n",
       "                     RWWIHOB_HWT0  RWWIHOB_MWT0  AEWIHO_T9AV2  \n",
       "dateTime                                                       \n",
       "2019-03-11 03:14:00     94.076290     96.594824     79.178306  \n",
       "2019-03-11 03:15:00     94.003521     96.529931     81.659117  \n",
       "2019-03-11 03:16:00     93.851567     96.404936     86.055430  \n",
       "2019-03-11 03:17:00     93.727603     96.295169     87.113691  \n",
       "2019-03-11 03:18:00     93.643636     96.264723     87.266264  "
      ]
     },
     "execution_count": 116,
     "metadata": {},
     "output_type": "execute_result"
    }
   ],
   "source": [
    "pr_1_modify_drop.head()"
   ]
  },
  {
   "cell_type": "code",
   "execution_count": 117,
   "metadata": {},
   "outputs": [],
   "source": [
    "multivariate_data_modify = pr_1_modify_drop\n",
    "\n",
    "from numpy import nan\n",
    "multivariate_data_drop_zero= multivariate_data_modify.replace(0,nan)\n",
    "multivariate_data_drop_zero=multivariate_data_drop_zero.dropna(how='any',axis=0)"
   ]
  },
  {
   "cell_type": "code",
   "execution_count": 118,
   "metadata": {},
   "outputs": [
    {
     "name": "stdout",
     "output_type": "stream",
     "text": [
      "(1192, 11)\n",
      "(1186, 11)\n"
     ]
    }
   ],
   "source": [
    "print(multivariate_data_modify.shape)\n",
    "print(multivariate_data_drop_zero.shape)"
   ]
  },
  {
   "cell_type": "code",
   "execution_count": 119,
   "metadata": {},
   "outputs": [
    {
     "name": "stdout",
     "output_type": "stream",
     "text": [
      "shape of multivariate_data_drop_zero_resample:  (1246, 11)\n",
      "shape of multivariate_data_drop_zero_interpolate:  (1246, 11)\n"
     ]
    }
   ],
   "source": [
    "multivariate_data_drop_zero_resample = multivariate_data_drop_zero.resample('1min').mean()\n",
    "multivariate_data_drop_zero_interpolate = multivariate_data_drop_zero_resample.interpolate('linear')\n",
    "\n",
    "print('shape of multivariate_data_drop_zero_resample: ', multivariate_data_drop_zero_resample.shape)\n",
    "print('shape of multivariate_data_drop_zero_interpolate: ',multivariate_data_drop_zero_interpolate.shape)"
   ]
  },
  {
   "cell_type": "code",
   "execution_count": 120,
   "metadata": {},
   "outputs": [
    {
     "name": "stdout",
     "output_type": "stream",
     "text": [
      "AEDATZ_HONP0\n",
      "AEDATZK_ASP0\n",
      "AEDATZ_HO_V0\n",
      "AEDATZ_TZCP2\n",
      "AEDATZKA_8P0\n",
      "AEDATZ_HO_P1\n",
      "AEDAHO_T9_V2\n",
      "RWWIHOB_HWT0\n",
      "RWWIHOB_MWT0\n",
      "AEWIHO_T9AV2\n",
      "terminate\n"
     ]
    }
   ],
   "source": [
    "# print(len(multivariate_column_label))\n",
    "for idx, i in enumerate(multivariate_column_label):\n",
    "    now_idx = idx+2\n",
    "    \n",
    "    if now_idx == len(multivariate_column_label):\n",
    "        print('terminate')\n",
    "        break\n",
    "    print(multivariate_column_label[now_idx])\n",
    "    drop_consecutive_same_value_zero = multivariate_data_drop_zero.loc[multivariate_data_drop_zero[multivariate_column_label[now_idx]].shift() != multivariate_data_drop_zero[multivariate_column_label[now_idx]]]\n",
    "    drop_consecutive_same_value_interpolate = multivariate_data_drop_zero_interpolate.loc[multivariate_data_drop_zero_interpolate[multivariate_column_label[now_idx]].shift() != multivariate_data_drop_zero_interpolate[multivariate_column_label[now_idx]]]\n",
    "    \n"
   ]
  },
  {
   "cell_type": "code",
   "execution_count": 121,
   "metadata": {},
   "outputs": [
    {
     "name": "stdout",
     "output_type": "stream",
     "text": [
      "shape of drop_consecutive_same_value_zero:  (1185, 11)\n",
      "shape of drop_consecutive_same_value_interpolate:  (1245, 11)\n"
     ]
    }
   ],
   "source": [
    "print('shape of drop_consecutive_same_value_zero: ', drop_consecutive_same_value_zero.shape)\n",
    "print('shape of drop_consecutive_same_value_interpolate: ', drop_consecutive_same_value_interpolate.shape)"
   ]
  },
  {
   "cell_type": "code",
   "execution_count": 122,
   "metadata": {},
   "outputs": [],
   "source": [
    "new_dataframe = drop_consecutive_same_value_zero.drop(['DEWIHOBT9_I0'], axis=1)\n",
    "# new_dataframe = drop_consecutive_same_value_interpolate.drop(['DEWIHOBT9_I0'], axis=1)"
   ]
  },
  {
   "cell_type": "code",
   "execution_count": 123,
   "metadata": {},
   "outputs": [
    {
     "data": {
      "text/html": [
       "<div>\n",
       "<style scoped>\n",
       "    .dataframe tbody tr th:only-of-type {\n",
       "        vertical-align: middle;\n",
       "    }\n",
       "\n",
       "    .dataframe tbody tr th {\n",
       "        vertical-align: top;\n",
       "    }\n",
       "\n",
       "    .dataframe thead th {\n",
       "        text-align: right;\n",
       "    }\n",
       "</style>\n",
       "<table border=\"1\" class=\"dataframe\">\n",
       "  <thead>\n",
       "    <tr style=\"text-align: right;\">\n",
       "      <th></th>\n",
       "      <th>AEDATZ_HONP0</th>\n",
       "      <th>AEDATZK_ASP0</th>\n",
       "      <th>AEDATZ_HO_V0</th>\n",
       "      <th>AEDATZ_TZCP2</th>\n",
       "      <th>AEDATZKA_8P0</th>\n",
       "      <th>AEDATZ_HO_P1</th>\n",
       "      <th>AEDAHO_T9_V2</th>\n",
       "      <th>RWWIHOB_HWT0</th>\n",
       "      <th>RWWIHOB_MWT0</th>\n",
       "      <th>AEWIHO_T9AV2</th>\n",
       "    </tr>\n",
       "    <tr>\n",
       "      <th>dateTime</th>\n",
       "      <th></th>\n",
       "      <th></th>\n",
       "      <th></th>\n",
       "      <th></th>\n",
       "      <th></th>\n",
       "      <th></th>\n",
       "      <th></th>\n",
       "      <th></th>\n",
       "      <th></th>\n",
       "      <th></th>\n",
       "    </tr>\n",
       "  </thead>\n",
       "  <tbody>\n",
       "    <tr>\n",
       "      <th>2019-03-11 03:14:00</th>\n",
       "      <td>97.304518</td>\n",
       "      <td>97.482960</td>\n",
       "      <td>46.119388</td>\n",
       "      <td>98.275765</td>\n",
       "      <td>92.911299</td>\n",
       "      <td>97.357811</td>\n",
       "      <td>83.327361</td>\n",
       "      <td>94.076290</td>\n",
       "      <td>96.594824</td>\n",
       "      <td>79.178306</td>\n",
       "    </tr>\n",
       "    <tr>\n",
       "      <th>2019-03-11 03:15:00</th>\n",
       "      <td>96.950979</td>\n",
       "      <td>97.167113</td>\n",
       "      <td>46.534541</td>\n",
       "      <td>97.658591</td>\n",
       "      <td>92.709599</td>\n",
       "      <td>97.563494</td>\n",
       "      <td>84.314814</td>\n",
       "      <td>94.003521</td>\n",
       "      <td>96.529931</td>\n",
       "      <td>81.659117</td>\n",
       "    </tr>\n",
       "    <tr>\n",
       "      <th>2019-03-11 03:16:00</th>\n",
       "      <td>96.722113</td>\n",
       "      <td>96.937628</td>\n",
       "      <td>46.555631</td>\n",
       "      <td>95.779320</td>\n",
       "      <td>92.519508</td>\n",
       "      <td>97.431268</td>\n",
       "      <td>84.380943</td>\n",
       "      <td>93.851567</td>\n",
       "      <td>96.404936</td>\n",
       "      <td>86.055430</td>\n",
       "    </tr>\n",
       "    <tr>\n",
       "      <th>2019-03-11 03:17:00</th>\n",
       "      <td>96.671992</td>\n",
       "      <td>96.868238</td>\n",
       "      <td>45.940449</td>\n",
       "      <td>96.898266</td>\n",
       "      <td>92.876853</td>\n",
       "      <td>97.252133</td>\n",
       "      <td>83.279853</td>\n",
       "      <td>93.727603</td>\n",
       "      <td>96.295169</td>\n",
       "      <td>87.113691</td>\n",
       "    </tr>\n",
       "    <tr>\n",
       "      <th>2019-03-11 03:18:00</th>\n",
       "      <td>96.717532</td>\n",
       "      <td>96.901785</td>\n",
       "      <td>44.218947</td>\n",
       "      <td>97.680386</td>\n",
       "      <td>92.997927</td>\n",
       "      <td>97.289250</td>\n",
       "      <td>79.963124</td>\n",
       "      <td>93.643636</td>\n",
       "      <td>96.264723</td>\n",
       "      <td>87.266264</td>\n",
       "    </tr>\n",
       "  </tbody>\n",
       "</table>\n",
       "</div>"
      ],
      "text/plain": [
       "                     AEDATZ_HONP0  AEDATZK_ASP0  AEDATZ_HO_V0  AEDATZ_TZCP2  \\\n",
       "dateTime                                                                      \n",
       "2019-03-11 03:14:00     97.304518     97.482960     46.119388     98.275765   \n",
       "2019-03-11 03:15:00     96.950979     97.167113     46.534541     97.658591   \n",
       "2019-03-11 03:16:00     96.722113     96.937628     46.555631     95.779320   \n",
       "2019-03-11 03:17:00     96.671992     96.868238     45.940449     96.898266   \n",
       "2019-03-11 03:18:00     96.717532     96.901785     44.218947     97.680386   \n",
       "\n",
       "                     AEDATZKA_8P0  AEDATZ_HO_P1  AEDAHO_T9_V2  RWWIHOB_HWT0  \\\n",
       "dateTime                                                                      \n",
       "2019-03-11 03:14:00     92.911299     97.357811     83.327361     94.076290   \n",
       "2019-03-11 03:15:00     92.709599     97.563494     84.314814     94.003521   \n",
       "2019-03-11 03:16:00     92.519508     97.431268     84.380943     93.851567   \n",
       "2019-03-11 03:17:00     92.876853     97.252133     83.279853     93.727603   \n",
       "2019-03-11 03:18:00     92.997927     97.289250     79.963124     93.643636   \n",
       "\n",
       "                     RWWIHOB_MWT0  AEWIHO_T9AV2  \n",
       "dateTime                                         \n",
       "2019-03-11 03:14:00     96.594824     79.178306  \n",
       "2019-03-11 03:15:00     96.529931     81.659117  \n",
       "2019-03-11 03:16:00     96.404936     86.055430  \n",
       "2019-03-11 03:17:00     96.295169     87.113691  \n",
       "2019-03-11 03:18:00     96.264723     87.266264  "
      ]
     },
     "execution_count": 123,
     "metadata": {},
     "output_type": "execute_result"
    }
   ],
   "source": [
    "new_dataframe.head()"
   ]
  },
  {
   "cell_type": "code",
   "execution_count": 115,
   "metadata": {},
   "outputs": [],
   "source": [
    "# start = 0\n",
    "# end = 300\n",
    "\n",
    "# loop = int(len(new_dataframe)/300)+1\n",
    "# path = 'E:/University of Bremen MSc/masters_thesis/forecasting_sensor_data_Salzgitter_AG/univariate_data_for_prediction/figure_from_code/fig_target_night/'\n",
    "\n",
    "# for i in range(loop):\n",
    "#     if end < len(new_dataframe):\n",
    "        \n",
    "#         new_dataframe.iloc[start:end].plot(y=new_dataframe.columns[-1])\n",
    "        \n",
    "#         plt.savefig(path+str(start)+'_night.jpg')\n",
    "#         start = end\n",
    "#         end = end+300\n",
    "#     else:\n",
    "#         start = start\n",
    "#         end = len(new_dataframe)\n",
    "#         new_dataframe.iloc[start:end].plot(y=new_dataframe.columns[-1])\n",
    "#         plt.savefig(path+'final_'+str(len(new_dataframe))+'_night.jpg')\n",
    "        \n",
    "# #     plt.rcParams['figure.figsize'] =(20,10)"
   ]
  },
  {
   "cell_type": "code",
   "execution_count": 126,
   "metadata": {
    "scrolled": false
   },
   "outputs": [
    {
     "data": {
      "image/png": "[encoded data removed]",
      "text/plain": [
       "<Figure size 1440x1440 with 1 Axes>"
      ]
     },
     "metadata": {},
     "output_type": "display_data"
    }
   ],
   "source": [
    "new_dataframe.iloc[0:].plot(y = new_dataframe.columns[-1], use_index=True)\n",
    "plt.rcParams['figure.figsize'] =(20,20)"
   ]
  },
  {
   "cell_type": "code",
   "execution_count": 61,
   "metadata": {
    "scrolled": false
   },
   "outputs": [
    {
     "name": "stdout",
     "output_type": "stream",
     "text": [
      "DatetimeIndex(['2019-03-11 06:00:00', '2019-03-11 06:01:00',\n",
      "               '2019-03-11 06:02:00', '2019-03-11 06:03:00',\n",
      "               '2019-03-11 06:04:00', '2019-03-11 06:05:00',\n",
      "               '2019-03-11 06:06:00', '2019-03-11 06:07:00',\n",
      "               '2019-03-11 06:08:00', '2019-03-11 06:09:00',\n",
      "               '2019-03-11 06:10:00'],\n",
      "              dtype='datetime64[ns]', freq='T')\n"
     ]
    },
    {
     "data": {
      "text/plain": [
       "(array([737129.25      , 737129.25069444, 737129.25138889, 737129.25208333,\n",
       "        737129.25277778, 737129.25347222, 737129.25416667, 737129.25486111,\n",
       "        737129.25555556, 737129.25625   , 737129.25694444]),\n",
       " <a list of 11 Text xticklabel objects>)"
      ]
     },
     "execution_count": 61,
     "metadata": {},
     "output_type": "execute_result"
    },
    {
     "data": {
      "image/png": "[encoded data removed]",
      "text/plain": [
       "<Figure size 432x288 with 1 Axes>"
      ]
     },
     "metadata": {},
     "output_type": "display_data"
    }
   ],
   "source": [
    "dateRange = pd.date_range(new_dataframe.index[0],new_dataframe.index[10], freq='1min')\n",
    "print(dateRange)\n",
    "plt.plot(dateRange,new_dataframe.iloc[0:11,-1])\n",
    "plt.xlim(dateRange[0],dateRange[-1])\n",
    "plt.xticks(rotation=25)"
   ]
  },
  {
   "cell_type": "code",
   "execution_count": 57,
   "metadata": {},
   "outputs": [
    {
     "data": {
      "text/plain": [
       "Timestamp('2019-03-11 06:10:00', freq='T')"
      ]
     },
     "execution_count": 57,
     "metadata": {},
     "output_type": "execute_result"
    }
   ],
   "source": [
    "dateRange[-1]"
   ]
  },
  {
   "cell_type": "code",
   "execution_count": 51,
   "metadata": {
    "scrolled": false
   },
   "outputs": [
    {
     "data": {
      "image/png": "[encoded data removed]",
      "text/plain": [
       "<Figure size 432x288 with 1 Axes>"
      ]
     },
     "metadata": {},
     "output_type": "display_data"
    }
   ],
   "source": [
    "# start_1 = 700\n",
    "# end_1 = start_1+300\n",
    "# new_dataframe.iloc[start_1:end_1].plot(x = new_dataframe.index.format(), y=new_dataframe.columns[-1])\n",
    "plt.plot(new_dataframe.iloc[0:100].index.format(), new_dataframe.iloc[0:100,-1])\n",
    "plt.show()"
   ]
  },
  {
   "cell_type": "code",
   "execution_count": 52,
   "metadata": {},
   "outputs": [
    {
     "ename": "NameError",
     "evalue": "name 'start_1' is not defined",
     "output_type": "error",
     "traceback": [
      "\u001b[1;31m---------------------------------------------------------------------------\u001b[0m",
      "\u001b[1;31mNameError\u001b[0m                                 Traceback (most recent call last)",
      "\u001b[1;32m<ipython-input-52-9c009d73c9d8>\u001b[0m in \u001b[0;36m<module>\u001b[1;34m()\u001b[0m\n\u001b[1;32m----> 1\u001b[1;33m \u001b[0mprint\u001b[0m\u001b[1;33m(\u001b[0m\u001b[0mmax\u001b[0m\u001b[1;33m(\u001b[0m\u001b[0mnew_dataframe\u001b[0m\u001b[1;33m.\u001b[0m\u001b[0miloc\u001b[0m\u001b[1;33m[\u001b[0m\u001b[0mstart_1\u001b[0m\u001b[1;33m:\u001b[0m\u001b[0mend_1\u001b[0m\u001b[1;33m]\u001b[0m\u001b[1;33m[\u001b[0m\u001b[0mnew_dataframe\u001b[0m\u001b[1;33m.\u001b[0m\u001b[0mcolumns\u001b[0m\u001b[1;33m[\u001b[0m\u001b[1;33m-\u001b[0m\u001b[1;36m1\u001b[0m\u001b[1;33m]\u001b[0m\u001b[1;33m]\u001b[0m\u001b[1;33m)\u001b[0m\u001b[1;33m)\u001b[0m\u001b[1;33m\u001b[0m\u001b[0m\n\u001b[0m\u001b[0;32m      2\u001b[0m \u001b[1;33m\u001b[0m\u001b[0m\n\u001b[0;32m      3\u001b[0m \u001b[0mprint\u001b[0m\u001b[1;33m(\u001b[0m\u001b[0mlen\u001b[0m\u001b[1;33m(\u001b[0m\u001b[0mnew_dataframe\u001b[0m\u001b[1;33m)\u001b[0m\u001b[1;33m)\u001b[0m\u001b[1;33m\u001b[0m\u001b[0m\n",
      "\u001b[1;31mNameError\u001b[0m: name 'start_1' is not defined"
     ]
    }
   ],
   "source": [
    "print(max(new_dataframe.iloc[start_1:end_1][new_dataframe.columns[-1]]))\n",
    "\n",
    "print(len(new_dataframe))"
   ]
  },
  {
   "cell_type": "code",
   "execution_count": 42,
   "metadata": {},
   "outputs": [
    {
     "data": {
      "text/plain": [
       "<matplotlib.axes._subplots.AxesSubplot at 0x20fd9278ba8>"
      ]
     },
     "execution_count": 42,
     "metadata": {},
     "output_type": "execute_result"
    },
    {
     "data": {
      "image/png": "[encoded data removed]",
      "text/plain": [
       "<Figure size 1440x720 with 1 Axes>"
      ]
     },
     "metadata": {},
     "output_type": "display_data"
    }
   ],
   "source": [
    "test_new.iloc[0:2000].plot(y=new_dataframe.columns[-1])"
   ]
  },
  {
   "cell_type": "code",
   "execution_count": 125,
   "metadata": {},
   "outputs": [
    {
     "data": {
      "text/plain": [
       "<matplotlib.axes._subplots.AxesSubplot at 0x20ff9b3b5c0>"
      ]
     },
     "execution_count": 125,
     "metadata": {},
     "output_type": "execute_result"
    },
    {
     "data": {
      "image/png": "[encoded data removed]",
      "text/plain": [
       "<Figure size 1440x720 with 1 Axes>"
      ]
     },
     "metadata": {},
     "output_type": "display_data"
    }
   ],
   "source": [
    "new_dataframe.plot(y=new_dataframe.columns[-1])"
   ]
  },
  {
   "cell_type": "code",
   "execution_count": null,
   "metadata": {},
   "outputs": [],
   "source": []
  }
 ],
 "metadata": {
  "kernelspec": {
   "display_name": "Python 3",
   "language": "python",
   "name": "python3"
  },
  "language_info": {
   "codemirror_mode": {
    "name": "ipython",
    "version": 3
   },
   "file_extension": ".py",
   "mimetype": "text/x-python",
   "name": "python",
   "nbconvert_exporter": "python",
   "pygments_lexer": "ipython3",
   "version": "3.6.5"
  }
 },
 "nbformat": 4,
 "nbformat_minor": 2
}
