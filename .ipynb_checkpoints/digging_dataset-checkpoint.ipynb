{
 "cells": [
  {
   "cell_type": "markdown",
   "metadata": {},
   "source": [
    "# Importing library"
   ]
  },
  {
   "cell_type": "code",
   "execution_count": null,
   "metadata": {},
   "outputs": [],
   "source": [
    "import numpy as np\n",
    "import matplotlib.pyplot as plt\n",
    "import pandas as pd\n",
    "import math\n",
    "import time\n",
    "import datetime\n",
    "%matplotlib inline\n",
    "from matplotlib.pylab import rcParams\n",
    "rcParams['figure.figsize'] = 20, 10"
   ]
  },
  {
   "cell_type": "code",
   "execution_count": null,
   "metadata": {},
   "outputs": [],
   "source": [
    "# Load CSV file\n",
    "# test= pd.read_csv('E:/University of Bremen MSc/masters_thesis/IAT_sebastian/dataset_26_april_3.csv')\n",
    "test= pd.read_csv('/media/atif/BE0E05910E0543BD/University of Bremen MSc/masters_thesis/IAT_sebastian/dataset_26_april_3.csv')"
   ]
  },
  {
   "cell_type": "code",
   "execution_count": null,
   "metadata": {},
   "outputs": [],
   "source": [
    "longTime=test.loc[0:,['longTime']]\n",
    "longTime=longTime.as_matrix()\n",
    "a=[]\n",
    "date_time_array=[]\n",
    "for k in longTime:\n",
    "    a=np.append(a,k)\n",
    "str_time=[]\n",
    "correct_longtime=[]\n",
    "datetime_time=[]\n",
    "count=0\n",
    "for b in a:\n",
    "    b=int(b) # make plain integer\n",
    "    str_b=str(b)\n",
    "    c=str_b[-3:]\n",
    "    new_str_b=str_b.replace(c, '',1)\n",
    "    new_str_b_time=int(new_str_b)\n",
    "    correct_longtime.append(new_str_b_time)\n",
    "    now_time=datetime.datetime.fromtimestamp(new_str_b_time)\n",
    "    convert_time=now_time.strftime('%Y-%m-%d %H:%M')\n",
    "    str_time.append(convert_time)\n",
    "# print(str_time)\n",
    "test_new = test.assign(stringTime=str_time,correct_longtime=correct_longtime) # here new column in the panda dataframe for string_time has added"
   ]
  },
  {
   "cell_type": "code",
   "execution_count": null,
   "metadata": {},
   "outputs": [],
   "source": [
    "test_new['dateTime'] =  pd.to_datetime(test_new['stringTime'], format='%Y-%m-%d %H:%M')"
   ]
  },
  {
   "cell_type": "code",
   "execution_count": null,
   "metadata": {},
   "outputs": [],
   "source": [
    "test_new.shape #ROWS, COLUMNS"
   ]
  },
  {
   "cell_type": "code",
   "execution_count": null,
   "metadata": {},
   "outputs": [],
   "source": [
    "test_new = test_new.set_index('dateTime') # make dataTime column as index of the dataframe test_new"
   ]
  },
  {
   "cell_type": "code",
   "execution_count": null,
   "metadata": {},
   "outputs": [],
   "source": [
    "print(test_new.head())"
   ]
  },
  {
   "cell_type": "code",
   "execution_count": null,
   "metadata": {},
   "outputs": [],
   "source": [
    "# print(test_new.index)"
   ]
  },
  {
   "cell_type": "code",
   "execution_count": null,
   "metadata": {},
   "outputs": [],
   "source": [
    "multivariate_column_label=['AEDATZ_HO_V0','AEWIHO_T9AV2','AEWIHOAVABV2','RWWIHOA_HWT0',\n",
    "                           'AEWIHOAKZ_V0','AEDAHO_T9_V2'] # choose column with which the following work will be conducted\n",
    "univariate_column_label=['AEDAHO_T9_V2']\n",
    "mul=test_new.iloc[500:1000][col_lab] #just for checking whether it is working or not\n",
    "print(mul.head())"
   ]
  },
  {
   "cell_type": "code",
   "execution_count": null,
   "metadata": {},
   "outputs": [],
   "source": [
    "# multivariate_data=test_new.loc[500:24999,['dateTime','AEDATZ_HO_V0','AEWIHO_T9AV2','AEWIHOAVABV2','RWWIHOA_HWT0',\n",
    "#                                           'AEWIHOAKZ_V0','AEDAHO_T9_V2']]\n",
    "# multivariate_data = multivariate_data.set_index('dateTime')\n",
    "\n",
    "multivariate_data=test_new.iloc[500:24999][multivariate_column_label]\n",
    "multivariate_data=multivariate_data.loc[::-1]\n",
    "\n",
    "# univariate_data=test_new.loc[500:24999,['dateTime','AEDAHO_T9_V2']]\n",
    "# univariate_data = univariate_data.set_index('dateTime')\n",
    "univariate_data=test_new.iloc[500:24999][univariate_column_label]\n",
    "univariate_data=univariate_data.loc[::-1]"
   ]
  },
  {
   "cell_type": "code",
   "execution_count": null,
   "metadata": {},
   "outputs": [],
   "source": [
    "multivariate_data.plot()\n",
    "plt.rcParams['figure.figsize'] =(20,10)\n",
    "plt.show()"
   ]
  },
  {
   "cell_type": "markdown",
   "metadata": {},
   "source": [
    "# dropping zero from multivariate dataset"
   ]
  },
  {
   "cell_type": "code",
   "execution_count": null,
   "metadata": {},
   "outputs": [],
   "source": [
    "from numpy import nan\n",
    "multivariate_data_drop_zero= multivariate_data.replace(0,nan)\n",
    "multivariate_data_drop_zero=multivariate_data_drop_zero.dropna(how='any',axis=0)"
   ]
  },
  {
   "cell_type": "code",
   "execution_count": null,
   "metadata": {},
   "outputs": [],
   "source": [
    "print('shape of multivariate_data: ',multivariate_data.shape)\n",
    "print('shape of multivariate_data_drop_zero: ',multivariate_data_drop_zero.shape)\n",
    "\n",
    "multivariate_data_drop_zero.plot()\n",
    "plt.rcParams['figure.figsize'] =(20,10)\n",
    "plt.show()"
   ]
  },
  {
   "cell_type": "code",
   "execution_count": null,
   "metadata": {},
   "outputs": [],
   "source": [
    "print('shape of univariate_data: ',univariate_data.shape)\n",
    "univariate_data.plot()\n",
    "plt.rcParams['figure.figsize'] =(20,10)\n",
    "plt.show()"
   ]
  },
  {
   "cell_type": "markdown",
   "metadata": {},
   "source": [
    "# dropping zero from univariate dataset"
   ]
  },
  {
   "cell_type": "code",
   "execution_count": null,
   "metadata": {},
   "outputs": [],
   "source": [
    "from numpy import nan\n",
    "univariate_data_drop_zero= univariate_data.replace(0,nan)\n",
    "univariate_data_drop_zero= univariate_data_drop_zero.dropna(how='any',axis=0)"
   ]
  },
  {
   "cell_type": "code",
   "execution_count": null,
   "metadata": {},
   "outputs": [],
   "source": [
    "print('shape of univariate_data: ',univariate_data.shape)\n",
    "print('shape of univariate_data_drop_zero: ',univariate_data_drop_zero.shape)\n",
    "\n",
    "univariate_data_drop_zero.plot()\n",
    "plt.rcParams['figure.figsize'] =(20,10)\n",
    "plt.show()"
   ]
  },
  {
   "cell_type": "code",
   "execution_count": null,
   "metadata": {},
   "outputs": [],
   "source": [
    "null_columns_multivariate=multivariate_data.columns[multivariate_data.isnull().any()]\n",
    "multivariate_data[null_columns_multivariate].isnull().sum()"
   ]
  },
  {
   "cell_type": "code",
   "execution_count": null,
   "metadata": {},
   "outputs": [],
   "source": [
    "null_columns_univariate=univariate_data.columns[univariate_data.isnull().any()]\n",
    "univariate_data[null_columns_univariate].isnull().sum()"
   ]
  },
  {
   "cell_type": "code",
   "execution_count": null,
   "metadata": {},
   "outputs": [],
   "source": []
  },
  {
   "cell_type": "code",
   "execution_count": null,
   "metadata": {},
   "outputs": [],
   "source": [
    "# a=[1,2,3,4]\n",
    "# b=[1,2]\n",
    "# c=[1,2,3,4,5,6]\n",
    "\n",
    "# d=[a,b,c]\n",
    "\n",
    "# maxlen=max(map(len,d))\n",
    "# print(maxlen)"
   ]
  },
  {
   "cell_type": "code",
   "execution_count": null,
   "metadata": {},
   "outputs": [],
   "source": [
    "# for i in d:\n",
    "#     if len(i)<maxlen:\n",
    "#         i.extend(0 for _ in range(maxlen-len(i)))"
   ]
  },
  {
   "cell_type": "code",
   "execution_count": null,
   "metadata": {},
   "outputs": [],
   "source": [
    "# print(d)"
   ]
  },
  {
   "cell_type": "code",
   "execution_count": null,
   "metadata": {},
   "outputs": [],
   "source": [
    "# multivariate_data.loc[multivariate_data['AEDATZ_HO_V0','AEWIHO_T9AV2','AEWIHOAVABV2','RWWIHOA_HWT0',\n",
    "#                                           'AEWIHOAKZ_V0','AEDAHO_T9_V2']==0]"
   ]
  },
  {
   "cell_type": "code",
   "execution_count": null,
   "metadata": {},
   "outputs": [],
   "source": [
    "univariate_data[['AEDAHO_T9_V2']].idxmin()"
   ]
  },
  {
   "cell_type": "code",
   "execution_count": null,
   "metadata": {},
   "outputs": [],
   "source": [
    "univariate_data.describe()"
   ]
  },
  {
   "cell_type": "code",
   "execution_count": null,
   "metadata": {},
   "outputs": [],
   "source": [
    "multivariate_data.describe()"
   ]
  },
  {
   "cell_type": "code",
   "execution_count": null,
   "metadata": {},
   "outputs": [],
   "source": [
    "uni_mean=univariate_data.mean()\n",
    "univariate_data_mean= univariate_data.replace(0,uni_mean)\n",
    "multi_mean=multivariate_data.mean()\n",
    "multivariate_data_mean=multivariate_data.replace(0,multi_mean)"
   ]
  },
  {
   "cell_type": "code",
   "execution_count": null,
   "metadata": {},
   "outputs": [],
   "source": [
    "univariate_data_mean.plot()\n",
    "multivariate_data_mean.plot()\n",
    "plt.show()"
   ]
  },
  {
   "cell_type": "code",
   "execution_count": null,
   "metadata": {},
   "outputs": [],
   "source": [
    "univariate_data_mean.loc[univariate_data_mean['AEDAHO_T9_V2']==0]\n",
    "# print(univariate_data)"
   ]
  },
  {
   "cell_type": "markdown",
   "metadata": {},
   "source": [
    "# find max value from each column"
   ]
  },
  {
   "cell_type": "code",
   "execution_count": null,
   "metadata": {},
   "outputs": [],
   "source": [
    "# finding max value from each column\n",
    "max_val_array=[]\n",
    "for idx,val in enumerate(list(test.columns)):\n",
    "    x=test[val].max()\n",
    "    q=[val,x]\n",
    "    max_val_array.append(q)\n",
    "max_val_array=np.array(max_val_array)\n",
    "for i in max_val_array:\n",
    "    print(i)"
   ]
  },
  {
   "cell_type": "markdown",
   "metadata": {},
   "source": [
    "# find the index where the column value is zero"
   ]
  },
  {
   "cell_type": "code",
   "execution_count": null,
   "metadata": {},
   "outputs": [],
   "source": [
    "for idx,val in enumerate(list(multivariate_data.columns)):\n",
    "    count=1\n",
    "    for i, j in multivariate_data.iterrows():\n",
    "        for k in j:\n",
    "            if k==0:\n",
    "                count+=1\n",
    "                print(i,'\\t\\t',k)\n",
    "#     print(val,'\\t\\t',count)\n"
   ]
  },
  {
   "cell_type": "code",
   "execution_count": null,
   "metadata": {},
   "outputs": [],
   "source": [
    "for idx, val in enumerate(list(multivariate_data.columns)):\n",
    "    print('-------------------------------------val:------------------------------------- ',val)\n",
    "    count=0\n",
    "    print('\\nnow count: ',count)\n",
    "    x=multivariate_data[val]\n",
    "    print(val)\n",
    "    for a in x:\n",
    "        if a==0:\n",
    "            count+=1\n",
    "#             print('count here: ',count)\n",
    "            "
   ]
  },
  {
   "cell_type": "code",
   "execution_count": null,
   "metadata": {},
   "outputs": [],
   "source": [
    "print(multivariate_data.shape)\n",
    "print(multivariate_data_drop_zero.shape)"
   ]
  },
  {
   "cell_type": "code",
   "execution_count": null,
   "metadata": {},
   "outputs": [],
   "source": [
    "for x,y in multivariate_data.iterrows():\n",
    "    print(y)"
   ]
  },
  {
   "cell_type": "code",
   "execution_count": null,
   "metadata": {},
   "outputs": [],
   "source": [
    "qq=univariate_data.loc[univariate_data['AEDAHO_T9_V2']==0]\n",
    "print(qq.size)"
   ]
  },
  {
   "cell_type": "code",
   "execution_count": null,
   "metadata": {},
   "outputs": [],
   "source": [
    "print(multivariate_data.iloc[0])"
   ]
  },
  {
   "cell_type": "code",
   "execution_count": null,
   "metadata": {},
   "outputs": [],
   "source": []
  }
 ],
 "metadata": {
  "kernelspec": {
   "display_name": "Python 3",
   "language": "python",
   "name": "python3"
  },
  "language_info": {
   "codemirror_mode": {
    "name": "ipython",
    "version": 3
   },
   "file_extension": ".py",
   "mimetype": "text/x-python",
   "name": "python",
   "nbconvert_exporter": "python",
   "pygments_lexer": "ipython3",
   "version": "3.6.6"
  }
 },
 "nbformat": 4,
 "nbformat_minor": 2
}
