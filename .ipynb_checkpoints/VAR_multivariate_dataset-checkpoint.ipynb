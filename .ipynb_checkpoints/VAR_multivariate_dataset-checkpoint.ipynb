{
 "cells": [
  {
   "cell_type": "code",
   "execution_count": 1,
   "metadata": {},
   "outputs": [],
   "source": [
    "import numpy as np\n",
    "import matplotlib.pyplot as plt\n",
    "import pandas as pd\n",
    "import math\n",
    "import time\n",
    "import datetime\n",
    "%matplotlib inline\n",
    "from matplotlib.pylab import rcParams"
   ]
  },
  {
   "cell_type": "code",
   "execution_count": 2,
   "metadata": {},
   "outputs": [],
   "source": [
    "# test= pd.read_csv('/media/atif/BE0E05910E0543BD/University of Bremen MSc/masters_thesis/IAT_sebastian/dataset_26_april_3.csv')\n",
    "test=pd.read_csv('E:/University of Bremen MSc/masters_thesis/IAT_sebastian/dataset_26_april_3.csv')"
   ]
  },
  {
   "cell_type": "code",
   "execution_count": 3,
   "metadata": {},
   "outputs": [
    {
     "name": "stderr",
     "output_type": "stream",
     "text": [
      "C:\\Users\\atif\\Anaconda3\\lib\\site-packages\\ipykernel_launcher.py:2: FutureWarning: Method .as_matrix will be removed in a future version. Use .values instead.\n",
      "  \n"
     ]
    }
   ],
   "source": [
    "longTime=test.loc[0:,['longTime']]\n",
    "longTime=longTime.as_matrix()\n",
    "a=[]\n",
    "date_time_array=[]\n",
    "for k in longTime:\n",
    "    a=np.append(a,k)\n",
    "str_time=[]\n",
    "correct_longtime=[]\n",
    "datetime_time=[]\n",
    "count=0\n",
    "for b in a:\n",
    "    b=int(b) # make plain integer\n",
    "    str_b=str(b)\n",
    "    c=str_b[-3:]\n",
    "    new_str_b=str_b.replace(c, '',1)\n",
    "    new_str_b_time=int(new_str_b)\n",
    "    correct_longtime.append(new_str_b_time)\n",
    "    now_time=datetime.datetime.fromtimestamp(new_str_b_time)\n",
    "    convert_time=now_time.strftime('%Y-%m-%d %H:%M')\n",
    "    str_time.append(convert_time)\n",
    "# print(str_time)\n",
    "test_new = test.assign(stringTime=str_time,correct_longtime=correct_longtime) # here new column in the panda dataframe for string_time has added"
   ]
  },
  {
   "cell_type": "code",
   "execution_count": 4,
   "metadata": {},
   "outputs": [],
   "source": [
    "test_new['dateTime'] =  pd.to_datetime(test_new['stringTime'], format='%Y-%m-%d %H:%M')"
   ]
  },
  {
   "cell_type": "code",
   "execution_count": 5,
   "metadata": {},
   "outputs": [
    {
     "name": "stdout",
     "output_type": "stream",
     "text": [
      "(25000, 4223)\n"
     ]
    }
   ],
   "source": [
    "print(test_new.shape)  #ROWS, COLUMNS"
   ]
  },
  {
   "cell_type": "code",
   "execution_count": 6,
   "metadata": {},
   "outputs": [],
   "source": [
    "# making dateTime column as a index for the test_new panda dataframe\n",
    "test_new = test_new.set_index('dateTime')"
   ]
  },
  {
   "cell_type": "code",
   "execution_count": 7,
   "metadata": {},
   "outputs": [
    {
     "name": "stdout",
     "output_type": "stream",
     "text": [
      "8\n"
     ]
    }
   ],
   "source": [
    "# multivariate_column_label=['DEWIHOBT9_I0','AEDATZ_HO_V0','AEDAHO_T9_V2','AEWIHO_T9AV2','RWWIHOB_HWT0'\n",
    "#                            ,'RWWIHOB_MWT0']#rmse error 1.99\n",
    "\n",
    "# multivariate_column_label = ['DEWIHOBT9_I0','AEDATZ_HONP0','AEDATZK_ASP0','AEDATZ_HO_V0',\n",
    "#                              'AEDAHO_T9_V2','AEWIHO_T9AV2'] #rmse error 1.38\n",
    "\n",
    "multivariate_column_label = ['DEWIHOBT9_I0','AEDATZ_HONP0','AEDATZK_ASP0','AEDATZ_HO_V0','AEDAHO_T9_V2',\n",
    "                             'RWWIHOB_HWT0','RWWIHOB_MWT0','AEWIHO_T9AV2'] #rmse error 1.94\n",
    "size_column = len(multivariate_column_label)\n",
    "print(size_column)"
   ]
  },
  {
   "cell_type": "code",
   "execution_count": 8,
   "metadata": {},
   "outputs": [],
   "source": [
    "multivariate_data=test_new.iloc[2000:10000][multivariate_column_label]\n",
    "multivariate_data=multivariate_data.loc[::-1]"
   ]
  },
  {
   "cell_type": "code",
   "execution_count": 9,
   "metadata": {},
   "outputs": [
    {
     "name": "stdout",
     "output_type": "stream",
     "text": [
      "size of zero_index:  5\n"
     ]
    }
   ],
   "source": [
    "zero_index=[]\n",
    "zero_index=np.array(zero_index)\n",
    "for index, value in multivariate_data.iterrows():\n",
    "    for i , v in enumerate(value):\n",
    "        if i == 0  and v == 0.0:\n",
    "#             print('index: ',index)\n",
    "            zero_index=np.append(zero_index,index)\n",
    "\n",
    "print('size of zero_index: ',zero_index.size)"
   ]
  },
  {
   "cell_type": "code",
   "execution_count": 10,
   "metadata": {},
   "outputs": [],
   "source": [
    "if zero_index.size > 0:\n",
    "    multivariate_data_modify = multivariate_data.drop(zero_index,axis=0) # axis= 0 means row indiated. 1 means column indicated\n",
    "else:\n",
    "    multivariate_data_modify = multivariate_data"
   ]
  },
  {
   "cell_type": "code",
   "execution_count": 11,
   "metadata": {},
   "outputs": [],
   "source": [
    "from numpy import nan\n",
    "multivariate_data_drop_zero= multivariate_data.replace(0,nan)\n",
    "multivariate_data_drop_zero=multivariate_data_drop_zero.dropna(how='any',axis=0)"
   ]
  },
  {
   "cell_type": "code",
   "execution_count": 12,
   "metadata": {},
   "outputs": [],
   "source": [
    "new_dataframe = multivariate_data_drop_zero.drop(['DEWIHOBT9_I0'], axis=1)"
   ]
  },
  {
   "cell_type": "code",
   "execution_count": 13,
   "metadata": {},
   "outputs": [
    {
     "data": {
      "text/html": [
       "<div>\n",
       "<style scoped>\n",
       "    .dataframe tbody tr th:only-of-type {\n",
       "        vertical-align: middle;\n",
       "    }\n",
       "\n",
       "    .dataframe tbody tr th {\n",
       "        vertical-align: top;\n",
       "    }\n",
       "\n",
       "    .dataframe thead th {\n",
       "        text-align: right;\n",
       "    }\n",
       "</style>\n",
       "<table border=\"1\" class=\"dataframe\">\n",
       "  <thead>\n",
       "    <tr style=\"text-align: right;\">\n",
       "      <th></th>\n",
       "      <th>AEDATZ_HONP0</th>\n",
       "      <th>AEDATZK_ASP0</th>\n",
       "      <th>AEDATZ_HO_V0</th>\n",
       "      <th>AEDAHO_T9_V2</th>\n",
       "      <th>RWWIHOB_HWT0</th>\n",
       "      <th>RWWIHOB_MWT0</th>\n",
       "      <th>AEWIHO_T9AV2</th>\n",
       "    </tr>\n",
       "    <tr>\n",
       "      <th>dateTime</th>\n",
       "      <th></th>\n",
       "      <th></th>\n",
       "      <th></th>\n",
       "      <th></th>\n",
       "      <th></th>\n",
       "      <th></th>\n",
       "      <th></th>\n",
       "    </tr>\n",
       "  </thead>\n",
       "  <tbody>\n",
       "    <tr>\n",
       "      <th>2019-04-01 10:41:00</th>\n",
       "      <td>97.700539</td>\n",
       "      <td>97.882738</td>\n",
       "      <td>40.370434</td>\n",
       "      <td>71.079345</td>\n",
       "      <td>94.396188</td>\n",
       "      <td>95.197505</td>\n",
       "      <td>79.651755</td>\n",
       "    </tr>\n",
       "    <tr>\n",
       "      <th>2019-04-01 10:42:00</th>\n",
       "      <td>97.602208</td>\n",
       "      <td>97.759636</td>\n",
       "      <td>40.216788</td>\n",
       "      <td>70.706495</td>\n",
       "      <td>94.318615</td>\n",
       "      <td>95.151028</td>\n",
       "      <td>77.686548</td>\n",
       "    </tr>\n",
       "    <tr>\n",
       "      <th>2019-04-01 10:43:00</th>\n",
       "      <td>97.434917</td>\n",
       "      <td>97.576584</td>\n",
       "      <td>39.823313</td>\n",
       "      <td>70.289996</td>\n",
       "      <td>94.031510</td>\n",
       "      <td>94.982774</td>\n",
       "      <td>76.496477</td>\n",
       "    </tr>\n",
       "    <tr>\n",
       "      <th>2019-04-01 10:44:00</th>\n",
       "      <td>96.856201</td>\n",
       "      <td>97.025646</td>\n",
       "      <td>39.922763</td>\n",
       "      <td>69.994697</td>\n",
       "      <td>94.286623</td>\n",
       "      <td>95.170256</td>\n",
       "      <td>76.661633</td>\n",
       "    </tr>\n",
       "    <tr>\n",
       "      <th>2019-04-01 10:45:00</th>\n",
       "      <td>96.748572</td>\n",
       "      <td>96.909181</td>\n",
       "      <td>39.771485</td>\n",
       "      <td>70.138749</td>\n",
       "      <td>94.273834</td>\n",
       "      <td>95.158246</td>\n",
       "      <td>76.051026</td>\n",
       "    </tr>\n",
       "  </tbody>\n",
       "</table>\n",
       "</div>"
      ],
      "text/plain": [
       "                     AEDATZ_HONP0  AEDATZK_ASP0  AEDATZ_HO_V0  AEDAHO_T9_V2  \\\n",
       "dateTime                                                                      \n",
       "2019-04-01 10:41:00     97.700539     97.882738     40.370434     71.079345   \n",
       "2019-04-01 10:42:00     97.602208     97.759636     40.216788     70.706495   \n",
       "2019-04-01 10:43:00     97.434917     97.576584     39.823313     70.289996   \n",
       "2019-04-01 10:44:00     96.856201     97.025646     39.922763     69.994697   \n",
       "2019-04-01 10:45:00     96.748572     96.909181     39.771485     70.138749   \n",
       "\n",
       "                     RWWIHOB_HWT0  RWWIHOB_MWT0  AEWIHO_T9AV2  \n",
       "dateTime                                                       \n",
       "2019-04-01 10:41:00     94.396188     95.197505     79.651755  \n",
       "2019-04-01 10:42:00     94.318615     95.151028     77.686548  \n",
       "2019-04-01 10:43:00     94.031510     94.982774     76.496477  \n",
       "2019-04-01 10:44:00     94.286623     95.170256     76.661633  \n",
       "2019-04-01 10:45:00     94.273834     95.158246     76.051026  "
      ]
     },
     "execution_count": 13,
     "metadata": {},
     "output_type": "execute_result"
    }
   ],
   "source": [
    "new_dataframe.head()"
   ]
  },
  {
   "cell_type": "code",
   "execution_count": 14,
   "metadata": {},
   "outputs": [],
   "source": [
    "dataset=np.array(new_dataframe)"
   ]
  },
  {
   "cell_type": "code",
   "execution_count": 15,
   "metadata": {},
   "outputs": [
    {
     "name": "stdout",
     "output_type": "stream",
     "text": [
      "Number of Elements for training:  7143\n",
      "dataset length:  7937\n",
      "train_input shape:  (7143, 6)\n",
      "train_output shape:  (7143,)\n",
      "test_input shape:  (794, 6)\n",
      "test_output shape:  (794,)\n"
     ]
    }
   ],
   "source": [
    "NumberOfElements=int(len(dataset)*0.9)\n",
    "print('Number of Elements for training: ',NumberOfElements)\n",
    "print('dataset length: ',len(dataset))\n",
    "\n",
    "train_input=dataset[0:NumberOfElements,0:-1]\n",
    "print('train_input shape: ',train_input.shape)\n",
    "train_output=dataset[0:NumberOfElements,-1]\n",
    "print('train_output shape: ',train_output.shape)\n",
    "\n",
    "test_input=dataset[NumberOfElements:len(dataset),0:-1]\n",
    "print('test_input shape: ',test_input.shape)\n",
    "test_output=dataset[NumberOfElements:len(dataset),-1]\n",
    "print('test_output shape: ',test_output.shape)\n",
    "# print('train data size: ',train_data.shape,'\\ntest data size: ',test_data.shape)"
   ]
  },
  {
   "cell_type": "code",
   "execution_count": null,
   "metadata": {},
   "outputs": [],
   "source": []
  },
  {
   "cell_type": "code",
   "execution_count": 19,
   "metadata": {},
   "outputs": [],
   "source": [
    "train = new_dataframe[:int(0.8*(len(new_dataframe)))]\n",
    "valid = new_dataframe[int(0.8*(len(new_dataframe))):]"
   ]
  },
  {
   "cell_type": "code",
   "execution_count": 20,
   "metadata": {},
   "outputs": [
    {
     "name": "stdout",
     "output_type": "stream",
     "text": [
      "<class 'pandas.core.frame.DataFrame'>\n",
      "<class 'pandas.core.frame.DataFrame'>\n"
     ]
    }
   ],
   "source": [
    "print(type(train))\n",
    "print(type(valid))"
   ]
  },
  {
   "cell_type": "code",
   "execution_count": 16,
   "metadata": {},
   "outputs": [],
   "source": [
    "#fit the model\n",
    "from statsmodels.tsa.vector_ar.var_model import VAR"
   ]
  },
  {
   "cell_type": "code",
   "execution_count": 21,
   "metadata": {},
   "outputs": [
    {
     "name": "stderr",
     "output_type": "stream",
     "text": [
      "C:\\Users\\atif\\Anaconda3\\lib\\site-packages\\statsmodels\\tsa\\base\\tsa_model.py:225: ValueWarning: A date index has been provided, but it has no associated frequency information and so will be ignored when e.g. forecasting.\n",
      "  ' ignored when e.g. forecasting.', ValueWarning)\n"
     ]
    }
   ],
   "source": [
    "model = VAR(endog=train)"
   ]
  },
  {
   "cell_type": "code",
   "execution_count": 23,
   "metadata": {},
   "outputs": [],
   "source": [
    "model_fit = model.fit()"
   ]
  },
  {
   "cell_type": "code",
   "execution_count": 24,
   "metadata": {},
   "outputs": [],
   "source": [
    "prediction = model_fit.forecast(model_fit.y, steps=len(valid))"
   ]
  },
  {
   "cell_type": "code",
   "execution_count": 32,
   "metadata": {},
   "outputs": [
    {
     "name": "stdout",
     "output_type": "stream",
     "text": [
      "7\n"
     ]
    }
   ],
   "source": [
    "cols = new_dataframe.columns\n",
    "print(len(cols))"
   ]
  },
  {
   "cell_type": "code",
   "execution_count": 35,
   "metadata": {},
   "outputs": [
    {
     "name": "stdout",
     "output_type": "stream",
     "text": [
      "rmse value for AEDATZ_HONP0 is :  0.4347487191354455\n",
      "rmse value for AEDATZK_ASP0 is :  0.4225313386664437\n",
      "rmse value for AEDATZ_HO_V0 is :  4.489054134156664\n",
      "rmse value for AEDAHO_T9_V2 is :  8.806797579154521\n",
      "rmse value for RWWIHOB_HWT0 is :  1.4594370482242063\n",
      "rmse value for RWWIHOB_MWT0 is :  5.5028602514626295\n",
      "rmse value for AEWIHO_T9AV2 is :  5.746881514489632\n"
     ]
    }
   ],
   "source": [
    "from math import sqrt\n",
    "from sklearn.metrics import mean_squared_error\n",
    "#converting predictions to dataframe\n",
    "pred = pd.DataFrame(index=range(0,len(prediction)),columns=[cols])\n",
    "for j in range(0,len(cols)):\n",
    "    for i in range(0, len(prediction)):\n",
    "        pred.iloc[i][j] = prediction[i][j]\n",
    "\n",
    "#check rmse\n",
    "for i in cols:\n",
    "    print('rmse value for', i, 'is : ', sqrt(mean_squared_error(pred[i], valid[i])))"
   ]
  },
  {
   "cell_type": "code",
   "execution_count": 38,
   "metadata": {},
   "outputs": [
    {
     "name": "stdout",
     "output_type": "stream",
     "text": [
      "[[97.00767057 97.23685777 47.93986777 62.36578295 90.62952985 92.1500623\n",
      "  78.51048924]\n",
      " [97.08097061 97.30576122 47.1805092  60.90905968 90.66222973 92.14966358\n",
      "  76.14055047]\n",
      " [97.10948962 97.33135292 46.6246341  59.98076594 90.70796782 92.15835057\n",
      "  74.25593428]\n",
      " [97.10960293 97.33004778 46.25263769 59.49667567 90.76411548 92.1746862\n",
      "  72.82057735]\n",
      " [97.09285294 97.31328681 46.03927972 59.3758783  90.82824258 92.19724177\n",
      "  71.78721474]\n",
      " [97.06724283 97.28889163 45.95716296 59.54341696 90.89816996 92.22466535\n",
      "  71.10331835]\n",
      " [97.03819546 97.2620654  45.97905671 59.93181762 90.97199393 92.25572359\n",
      "  70.715242  ]\n",
      " [97.00926438 97.23613203 46.07937967 60.4818155  91.04809097 92.28932428\n",
      "  70.5710267 ]\n",
      " [96.98266083 97.21308145 46.23507748 61.14251151 91.12510896 92.32452515\n",
      "  70.62221024]\n",
      " [96.95964385 97.19397083 46.42607002 61.87113522 91.20194958 92.36053322\n",
      "  70.82490358]]\n"
     ]
    },
    {
     "name": "stderr",
     "output_type": "stream",
     "text": [
      "C:\\Users\\atif\\Anaconda3\\lib\\site-packages\\statsmodels\\tsa\\base\\tsa_model.py:225: ValueWarning: A date index has been provided, but it has no associated frequency information and so will be ignored when e.g. forecasting.\n",
      "  ' ignored when e.g. forecasting.', ValueWarning)\n"
     ]
    }
   ],
   "source": [
    "#make final predictions\n",
    "model = VAR(endog=new_dataframe)\n",
    "model_fit = model.fit()\n",
    "yhat = model_fit.forecast(model_fit.y, steps=10)\n",
    "print(yhat)"
   ]
  },
  {
   "cell_type": "code",
   "execution_count": null,
   "metadata": {},
   "outputs": [],
   "source": []
  }
 ],
 "metadata": {
  "kernelspec": {
   "display_name": "Python 3",
   "language": "python",
   "name": "python3"
  },
  "language_info": {
   "codemirror_mode": {
    "name": "ipython",
    "version": 3
   },
   "file_extension": ".py",
   "mimetype": "text/x-python",
   "name": "python",
   "nbconvert_exporter": "python",
   "pygments_lexer": "ipython3",
   "version": "3.6.5"
  }
 },
 "nbformat": 4,
 "nbformat_minor": 2
}
